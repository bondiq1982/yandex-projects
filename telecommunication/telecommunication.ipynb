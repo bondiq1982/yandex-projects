{
 "cells": [
  {
   "cell_type": "markdown",
   "id": "f7a12fe0",
   "metadata": {},
   "source": [
    "Автор:     Шестаков Михаил Сергеевич  \n",
    "Telegram:  https://t.me/mshestakov1  \n",
    "Телефон:   +7(950)035-55-38  \n",
    "email:     mikhail-shestakov-2022@bk.ru  "
   ]
  },
  {
   "cell_type": "code",
   "execution_count": 1,
   "id": "49d8dd6f",
   "metadata": {
    "tags": [
     "aa81075c-062f-4de0-b5fe-14c73dc7468e"
    ]
   },
   "outputs": [],
   "source": [
    "import warnings\n",
    "warnings.filterwarnings('ignore')\n",
    "import pandas as pd\n",
    "import numpy as np\n",
    "from sqlalchemy import create_engine"
   ]
  },
  {
   "cell_type": "code",
   "execution_count": 2,
   "id": "a94f5ad7",
   "metadata": {},
   "outputs": [],
   "source": [
    "path_to_db = '/datasets/telecomm_csi.db'\n",
    "engine = create_engine(f'sqlite:///{path_to_db}', echo = False)"
   ]
  },
  {
   "cell_type": "code",
   "execution_count": 3,
   "id": "90c75cd4",
   "metadata": {},
   "outputs": [],
   "source": [
    "query = \"\"\"\n",
    "SELECT LOWER(us.user_id) AS user_id,\n",
    "       us.lt_day,\n",
    "       CASE\n",
    "           WHEN us.lt_day <= 365 THEN \"New user\"\n",
    "           Else 'Old user'\n",
    "       END AS is_new,\n",
    "       CAST(us.age AS INT) AS age,\n",
    "       CASE\n",
    "           WHEN us.gender_segment LIKE '0%' THEN 'Man'\n",
    "           WHEN us.gender_segment LIKE '1%' THEN 'Woman'\n",
    "       END AS gender_segment,\n",
    "       LOWER(us.os_name) AS os_name,\n",
    "       LOWER(us.cpe_type_name) AS cpe_type_name,\n",
    "       l.country,\n",
    "       l.city,\n",
    "       aseg.age_segment,\n",
    "       tseg.traffic_segment,\n",
    "       lseg.lifetime_segment,\n",
    "       us.nps_score,\n",
    "       CASE\n",
    "           WHEN us.nps_score >= 0 AND us.nps_score <= 6 THEN 'detractors'\n",
    "           WHEN us.nps_score >= 7 AND us.nps_score <= 8 THEN 'passives'\n",
    "           WHEN us.nps_score >= 9 AND us.nps_score <= 10 THEN 'promoters'\n",
    "       END AS nps_group\n",
    "\n",
    "FROM user AS us\n",
    "INNER JOIN location AS l ON us.location_id=l.location_id\n",
    "INNER JOIN (SELECT age_gr_id,\n",
    "                   title, substr(title, 4) AS age_segment\n",
    "            FROM age_segment\n",
    "            WHERE title NOT LIKE '08%') AS aseg ON aseg.age_gr_id=us.age_gr_id\n",
    "INNER JOIN (SELECT tr_gr_id,\n",
    "                   title, substr(title, 4) AS traffic_segment\n",
    "            FROM traffic_segment) AS tseg ON tseg.tr_gr_id=us.tr_gr_id\n",
    "INNER JOIN (SELECT lt_gr_id,\n",
    "                   title, substr(title, 4) AS lifetime_segment\n",
    "            FROM lifetime_segment) AS lseg ON lseg.lt_gr_id=us.lt_gr_id\n",
    "WHERE us.gender_segment LIKE '0%'\n",
    "      OR us.gender_segment LIKE '1%';           \n",
    "\"\"\""
   ]
  },
  {
   "cell_type": "code",
   "execution_count": 4,
   "id": "dbbf49e3",
   "metadata": {
    "scrolled": false
   },
   "outputs": [
    {
     "data": {
      "text/html": [
       "<div>\n",
       "<style scoped>\n",
       "    .dataframe tbody tr th:only-of-type {\n",
       "        vertical-align: middle;\n",
       "    }\n",
       "\n",
       "    .dataframe tbody tr th {\n",
       "        vertical-align: top;\n",
       "    }\n",
       "\n",
       "    .dataframe thead th {\n",
       "        text-align: right;\n",
       "    }\n",
       "</style>\n",
       "<table border=\"1\" class=\"dataframe\">\n",
       "  <thead>\n",
       "    <tr style=\"text-align: right;\">\n",
       "      <th></th>\n",
       "      <th>user_id</th>\n",
       "      <th>lt_day</th>\n",
       "      <th>is_new</th>\n",
       "      <th>age</th>\n",
       "      <th>gender_segment</th>\n",
       "      <th>os_name</th>\n",
       "      <th>cpe_type_name</th>\n",
       "      <th>country</th>\n",
       "      <th>city</th>\n",
       "      <th>age_segment</th>\n",
       "      <th>traffic_segment</th>\n",
       "      <th>lifetime_segment</th>\n",
       "      <th>nps_score</th>\n",
       "      <th>nps_group</th>\n",
       "    </tr>\n",
       "  </thead>\n",
       "  <tbody>\n",
       "    <tr>\n",
       "      <th>0</th>\n",
       "      <td>a001a2</td>\n",
       "      <td>2320</td>\n",
       "      <td>Old user</td>\n",
       "      <td>45</td>\n",
       "      <td>Woman</td>\n",
       "      <td>android</td>\n",
       "      <td>smartphone</td>\n",
       "      <td>Россия</td>\n",
       "      <td>Уфа</td>\n",
       "      <td>45-54</td>\n",
       "      <td>1-5</td>\n",
       "      <td>36+</td>\n",
       "      <td>10</td>\n",
       "      <td>promoters</td>\n",
       "    </tr>\n",
       "    <tr>\n",
       "      <th>1</th>\n",
       "      <td>a001wf</td>\n",
       "      <td>2344</td>\n",
       "      <td>Old user</td>\n",
       "      <td>53</td>\n",
       "      <td>Man</td>\n",
       "      <td>android</td>\n",
       "      <td>smartphone</td>\n",
       "      <td>Россия</td>\n",
       "      <td>Киров</td>\n",
       "      <td>45-54</td>\n",
       "      <td>1-5</td>\n",
       "      <td>36+</td>\n",
       "      <td>10</td>\n",
       "      <td>promoters</td>\n",
       "    </tr>\n",
       "    <tr>\n",
       "      <th>2</th>\n",
       "      <td>a003q7</td>\n",
       "      <td>467</td>\n",
       "      <td>Old user</td>\n",
       "      <td>57</td>\n",
       "      <td>Man</td>\n",
       "      <td>android</td>\n",
       "      <td>smartphone</td>\n",
       "      <td>Россия</td>\n",
       "      <td>Москва</td>\n",
       "      <td>55-64</td>\n",
       "      <td>20-25</td>\n",
       "      <td>13-24</td>\n",
       "      <td>10</td>\n",
       "      <td>promoters</td>\n",
       "    </tr>\n",
       "    <tr>\n",
       "      <th>3</th>\n",
       "      <td>a004tb</td>\n",
       "      <td>4190</td>\n",
       "      <td>Old user</td>\n",
       "      <td>44</td>\n",
       "      <td>Woman</td>\n",
       "      <td>ios</td>\n",
       "      <td>smartphone</td>\n",
       "      <td>Россия</td>\n",
       "      <td>РостовнаДону</td>\n",
       "      <td>35-44</td>\n",
       "      <td>0.1-1</td>\n",
       "      <td>36+</td>\n",
       "      <td>10</td>\n",
       "      <td>promoters</td>\n",
       "    </tr>\n",
       "    <tr>\n",
       "      <th>4</th>\n",
       "      <td>a004xt</td>\n",
       "      <td>1163</td>\n",
       "      <td>Old user</td>\n",
       "      <td>24</td>\n",
       "      <td>Man</td>\n",
       "      <td>android</td>\n",
       "      <td>smartphone</td>\n",
       "      <td>Россия</td>\n",
       "      <td>Рязань</td>\n",
       "      <td>16-24</td>\n",
       "      <td>5-10</td>\n",
       "      <td>36+</td>\n",
       "      <td>10</td>\n",
       "      <td>promoters</td>\n",
       "    </tr>\n",
       "  </tbody>\n",
       "</table>\n",
       "</div>"
      ],
      "text/plain": [
       "  user_id  lt_day    is_new  age gender_segment  os_name cpe_type_name  \\\n",
       "0  a001a2    2320  Old user   45          Woman  android    smartphone   \n",
       "1  a001wf    2344  Old user   53            Man  android    smartphone   \n",
       "2  a003q7     467  Old user   57            Man  android    smartphone   \n",
       "3  a004tb    4190  Old user   44          Woman      ios    smartphone   \n",
       "4  a004xt    1163  Old user   24            Man  android    smartphone   \n",
       "\n",
       "  country          city age_segment traffic_segment lifetime_segment  \\\n",
       "0  Россия           Уфа       45-54             1-5              36+   \n",
       "1  Россия         Киров       45-54             1-5              36+   \n",
       "2  Россия        Москва       55-64           20-25            13-24   \n",
       "3  Россия  РостовнаДону       35-44           0.1-1              36+   \n",
       "4  Россия        Рязань       16-24            5-10              36+   \n",
       "\n",
       "   nps_score  nps_group  \n",
       "0         10  promoters  \n",
       "1         10  promoters  \n",
       "2         10  promoters  \n",
       "3         10  promoters  \n",
       "4         10  promoters  "
      ]
     },
     "execution_count": 4,
     "metadata": {},
     "output_type": "execute_result"
    }
   ],
   "source": [
    "df = pd.read_sql(query, engine)\n",
    "df.head()"
   ]
  },
  {
   "cell_type": "code",
   "execution_count": 5,
   "id": "662bc70b",
   "metadata": {},
   "outputs": [],
   "source": [
    "df.to_csv('telecomm_csi_tableau.csv', index=False)"
   ]
  },
  {
   "cell_type": "markdown",
   "id": "cfa8804a",
   "metadata": {},
   "source": [
    "### Ссылка на дашборд на сайте Tableau Public:"
   ]
  },
  {
   "cell_type": "markdown",
   "id": "31b0e7aa",
   "metadata": {},
   "source": [
    "https://public.tableau.com/app/profile/.13981647/viz/telecomm_csi_tableau_16470850661180/Dashboard1?publish=yes"
   ]
  },
  {
   "cell_type": "markdown",
   "id": "212e0aec",
   "metadata": {},
   "source": [
    "### Ссылка на pdf-файл с презентацией:"
   ]
  },
  {
   "cell_type": "markdown",
   "id": "f338f179",
   "metadata": {},
   "source": [
    "https://disk.yandex.ru/i/MYLekah6tNnX3g"
   ]
  }
 ],
 "metadata": {
  "ExecuteTimeLog": [
   {
    "duration": 654,
    "start_time": "2022-05-03T20:09:57.204Z"
   },
   {
    "duration": 21,
    "start_time": "2022-05-03T20:09:57.860Z"
   },
   {
    "duration": 6,
    "start_time": "2022-05-03T20:09:58.064Z"
   },
   {
    "duration": 7697,
    "start_time": "2022-05-03T20:09:58.624Z"
   },
   {
    "duration": 4894,
    "start_time": "2022-05-03T20:10:08.774Z"
   }
  ],
  "kernelspec": {
   "display_name": "Python 3 (ipykernel)",
   "language": "python",
   "name": "python3"
  },
  "language_info": {
   "codemirror_mode": {
    "name": "ipython",
    "version": 3
   },
   "file_extension": ".py",
   "mimetype": "text/x-python",
   "name": "python",
   "nbconvert_exporter": "python",
   "pygments_lexer": "ipython3",
   "version": "3.9.15"
  },
  "toc": {
   "base_numbering": 1,
   "nav_menu": {},
   "number_sections": true,
   "sideBar": true,
   "skip_h1_title": true,
   "title_cell": "Table of Contents",
   "title_sidebar": "Contents",
   "toc_cell": false,
   "toc_position": {},
   "toc_section_display": true,
   "toc_window_display": false
  }
 },
 "nbformat": 4,
 "nbformat_minor": 5
}
