{
 "cells": [
  {
   "cell_type": "markdown",
   "metadata": {},
   "source": [
    "Автор:     Шестаков Михаил Сергеевич  \n",
    "Telegram:  https://t.me/mshestakov1  \n",
    "email:     mikhail-shestakov-2022@bk.ru  "
   ]
  },
  {
   "cell_type": "markdown",
   "metadata": {},
   "source": [
    "# Определение оптимального тарифа для телеком-компании\n",
    "\n",
    "Заказчик исследования: коммерческий департамент федерального оператора сотовой связи «Мегалайн».\n",
    "\n",
    "Цель исследования: выявление наиболее прибыльного тарифа, из предлагаемых оператором (\"Смарт\" и \"Ультра\"), для оптимизации рекламного бюджета. \n",
    "\n",
    "***Описание тарифов***\n",
    "\n",
    "\"Смарт\":\n",
    "\n",
    "Ежемесячная плата: 550 рублей;\n",
    "\n",
    "Включено 500 минут разговора, 50 сообщений и 15 Гб интернет-трафика;\n",
    "\n",
    "Стоимость услуг сверх тарифного пакета:\n",
    "\n",
    "- минута разговора: 3 рубля;\n",
    "\n",
    "- сообщение: 3 рубля;\n",
    "\n",
    "- 1 Гб интернет-трафика: 200 рублей/\n",
    "\n",
    " \n",
    "\n",
    "\"Ультра\":\n",
    "\n",
    "Ежемесячная плата: 1950 рублей;\n",
    "\n",
    "Включено 3000 минут разговора, 1000 сообщений и 30 Гб интернет-трафика;\n",
    "\n",
    "Стоимость услуг сверх тарифного пакета:\n",
    "\n",
    "- минута разговора: 1 рубль;\n",
    "\n",
    "- сообщение: 1 рубль;\n",
    "\n",
    "- 1 Гб интернет-трафика: 150 рублей.\n",
    "\n",
    " \n",
    "\n",
    "***Описание данных*** \n",
    "\n",
    "Исходные данные - выборка данных по результатам использования тарифов \"Смарт\" и \"Ультра\" в 2018 году.\n",
    "\n",
    "Исходные данные содержатся в следующих файлах:\n",
    "\n",
    "- users.csv — информация о пользователях;\n",
    "\n",
    "- calls.csv — информация о звонках;\n",
    "\n",
    "- messages.csv — информация о сообщениях;\n",
    "\n",
    "- internet.csv — информация об интернет-сессиях;\n",
    "\n",
    "- tariffs.csv — информация о тарифах.\n",
    "\n",
    " \n",
    "\n",
    "В таблице users представлены следующие данные: \n",
    "\n",
    "- user_id — уникальный идентификатор пользователя;\n",
    "\n",
    "- first_name — имя пользователя;\n",
    "\n",
    "- last_name — фамилия пользователя;\n",
    "\n",
    "- age — возраст пользователя (годы);\n",
    "\n",
    "- reg_date — дата подключения тарифа;\n",
    "\n",
    "- churn_date — дата прекращения пользования тарифом;\n",
    "\n",
    "- city — город проживания пользователя;\n",
    "\n",
    "- tariff — название тарифного плана.\n",
    "\n",
    " \n",
    "\n",
    "В таблице calls представлены следующие данные: \n",
    "\n",
    "- id — уникальный номер звонка;\n",
    "\n",
    "- call_date — дата звонка;\n",
    "\n",
    "- duration — длительность звонка в минутах;\n",
    "\n",
    "- user_id — идентификатор пользователя, сделавшего звонок.\n",
    "\n",
    " \n",
    "\n",
    "В таблице messages представлены следующие данные: \n",
    "\n",
    "- id — уникальный номер сообщения;\n",
    "\n",
    "- message_date — дата сообщения;\n",
    "\n",
    "- user_id — идентификатор пользователя, отправившего сообщение.\n",
    "\n",
    " \n",
    "\n",
    "В таблице internet представлены следующие данные: \n",
    "\n",
    "- id — уникальный номер сессии;\n",
    "\n",
    "- mb_used — объём потраченного за сессию интернет-трафика (в мегабайтах);\n",
    "\n",
    "- session_date — дата интернет-сессии;\n",
    "\n",
    "- user_id — идентификатор пользователя.\n",
    "\n",
    " \n",
    "\n",
    "В таблице tariffs представлены следующие данные: \n",
    "\n",
    "- tariff_name — название тарифа;\n",
    "\n",
    "- rub_monthly_fee — ежемесячная абонентская плата в рублях\n",
    "\n",
    "- minutes_included — количество минут разговора в месяц, включённых в абонентскую плату;\n",
    "\n",
    "- messages_included — количество сообщений в месяц, включённых в абонентскую плату;\n",
    "\n",
    "- mb_per_month_included — объём интернет-трафика, включённого в абонентскую плату (в мегабайтах);\n",
    "\n",
    "- rub_per_minute — стоимость минуты разговора сверх тарифного пакета;\n",
    "\n",
    "- rub_per_message — стоимость отправки сообщения сверх тарифного пакета;\n",
    "\n",
    "- rub_per_gb — стоимость дополнительного гигабайта интернет-трафика сверх тарифного пакета."
   ]
  },
  {
   "cell_type": "markdown",
   "metadata": {},
   "source": [
    "Содержание исследования:  \n",
    "1. [Сведение исходных таблиц в одну и общий ее анализ](#open_file)  \n",
    " 1.1. [Импорт библиотек](#import)  \n",
    " 1.2. [Чтение исходных файлов в соответствующие датафреймы](#read)  \n",
    " 1.3. [Общая информация о датафреймах.](#info_all)  \n",
    "    * [Вывод](#final_1)  \n",
    "    \n",
    "    \n",
    "2. [Предобработка данных](#data_preprocessing)  \n",
    " 2.1. [Оптимизация типов данных](#change_type)  \n",
    "    * [Датафрейм df_users](#change_type_df_users)  \n",
    "    * [Датафрейм df_calls](#change_type_df_calls)  \n",
    "    * [Датафрейм df_messages](#change_type_df_messages)  \n",
    "    * [Датафрейм df_internet](#change_type_df_internet)  \n",
    "    * [Датафрейм df_tariffs](#change_type_df_tariffs)  \n",
    "    \n",
    " 2.2. [Удаление выбросов](#remove)  \n",
    "    * [Датафрейм df_calls\"](#remove_df_calls)  \n",
    "    * [Датафрейм df_internet\"](#remove_df_internet)   \n",
    "    \n",
    " 2.3. [Оъединение таблиц](#united_table)  \n",
    "    \n",
    " 2.4. [Расчет выручки с каждого пользователя](#revenue)  \n",
    "    * [Вывод](#final_2)      \n",
    "    \n",
    "    \n",
    "3. [Анализ данных](#analysis)  \n",
    " 3.1. [Функции расчёта](#functions)  \n",
    " 3.2. [Сравнительный анализ поведения пользователей тарифов \"Смарт\" и \"Ультра\"](#comparative_analysis)    \n",
    "    * [Вывод](#final_3)  \n",
    "    \n",
    "\n",
    "4. [Проверка гипотез](#hypothesis)  \n",
    "    * [Вывод](#final_4)  \n",
    "     \n",
    "\n",
    "5. [Общий вывод](#final)  "
   ]
  },
  {
   "cell_type": "markdown",
   "metadata": {},
   "source": [
    "## Общая информация о датафреймах.\n",
    "<a id=\"open_file\"></a>"
   ]
  },
  {
   "cell_type": "markdown",
   "metadata": {},
   "source": [
    "### Импорт библиотек\n",
    "<a id=\"import\"></a>"
   ]
  },
  {
   "cell_type": "code",
   "execution_count": 1,
   "metadata": {},
   "outputs": [],
   "source": [
    "import warnings\n",
    "warnings.filterwarnings('ignore')\n",
    "import pandas as pd\n",
    "import numpy as np\n",
    "import seaborn as sns\n",
    "import matplotlib.pyplot as plt\n",
    "from scipy import stats as st\n",
    "from functools import reduce\n",
    "from scipy.stats import levene"
   ]
  },
  {
   "cell_type": "markdown",
   "metadata": {},
   "source": [
    "### Чтение исходных файлов в соответствующие датафреймы\n",
    "<a id=\"read\"></a>"
   ]
  },
  {
   "cell_type": "code",
   "execution_count": 2,
   "metadata": {},
   "outputs": [],
   "source": [
    "df_calls = pd.read_csv('/datasets/users.csv')\n",
    "df_calls = pd.read_csv('/datasets/calls.csv')\n",
    "df_messages = pd.read_csv('/datasets/messages.csv')\n",
    "df_internet = pd.read_csv('/datasets/internet.csv')\n",
    "df_tariffs = pd.read_csv('/datasets/tariffs.csv')"
   ]
  },
  {
   "cell_type": "markdown",
   "metadata": {},
   "source": [
    "### Общая информация о датафреймах.\n",
    "<a id=\"info_all\"></a>"
   ]
  },
  {
   "cell_type": "markdown",
   "metadata": {},
   "source": [
    "Создаем словарь датафреймов:"
   ]
  },
  {
   "cell_type": "code",
   "execution_count": 3,
   "metadata": {},
   "outputs": [],
   "source": [
    "dict_df = {'df_users' : df_users, 'df_calls' : df_calls, 'df_messages' : df_messages, 'df_internet' : df_internet,\n",
    "           'df_tariffs' : df_tariffs}"
   ]
  },
  {
   "cell_type": "markdown",
   "metadata": {},
   "source": [
    "Выводим общую информацию по каждому датафрейму:"
   ]
  },
  {
   "cell_type": "code",
   "execution_count": 4,
   "metadata": {},
   "outputs": [
    {
     "name": "stdout",
     "output_type": "stream",
     "text": [
      "df_users\n",
      "\n",
      "Общая информация df_users:\n",
      "<class 'pandas.core.frame.DataFrame'>\n",
      "RangeIndex: 500 entries, 0 to 499\n",
      "Data columns (total 8 columns):\n",
      " #   Column      Non-Null Count  Dtype \n",
      "---  ------      --------------  ----- \n",
      " 0   user_id     500 non-null    int64 \n",
      " 1   age         500 non-null    int64 \n",
      " 2   churn_date  38 non-null     object\n",
      " 3   city        500 non-null    object\n",
      " 4   first_name  500 non-null    object\n",
      " 5   last_name   500 non-null    object\n",
      " 6   reg_date    500 non-null    object\n",
      " 7   tariff      500 non-null    object\n",
      "dtypes: int64(2), object(6)\n",
      "memory usage: 229.6 KB\n"
     ]
    },
    {
     "data": {
      "text/plain": [
       "None"
      ]
     },
     "metadata": {},
     "output_type": "display_data"
    },
    {
     "name": "stdout",
     "output_type": "stream",
     "text": [
      "____________________________________________________\n",
      "\n",
      "Описательная статистика строковых значений df_users:\n"
     ]
    },
    {
     "data": {
      "text/html": [
       "<div>\n",
       "<style scoped>\n",
       "    .dataframe tbody tr th:only-of-type {\n",
       "        vertical-align: middle;\n",
       "    }\n",
       "\n",
       "    .dataframe tbody tr th {\n",
       "        vertical-align: top;\n",
       "    }\n",
       "\n",
       "    .dataframe thead th {\n",
       "        text-align: right;\n",
       "    }\n",
       "</style>\n",
       "<table border=\"1\" class=\"dataframe\">\n",
       "  <thead>\n",
       "    <tr style=\"text-align: right;\">\n",
       "      <th></th>\n",
       "      <th>count</th>\n",
       "      <th>unique</th>\n",
       "      <th>top</th>\n",
       "      <th>freq</th>\n",
       "    </tr>\n",
       "  </thead>\n",
       "  <tbody>\n",
       "    <tr>\n",
       "      <th>churn_date</th>\n",
       "      <td>38</td>\n",
       "      <td>33</td>\n",
       "      <td>2018-12-09</td>\n",
       "      <td>2</td>\n",
       "    </tr>\n",
       "    <tr>\n",
       "      <th>city</th>\n",
       "      <td>500</td>\n",
       "      <td>76</td>\n",
       "      <td>Москва</td>\n",
       "      <td>99</td>\n",
       "    </tr>\n",
       "    <tr>\n",
       "      <th>first_name</th>\n",
       "      <td>500</td>\n",
       "      <td>246</td>\n",
       "      <td>Радим</td>\n",
       "      <td>6</td>\n",
       "    </tr>\n",
       "    <tr>\n",
       "      <th>last_name</th>\n",
       "      <td>500</td>\n",
       "      <td>419</td>\n",
       "      <td>Андреенко</td>\n",
       "      <td>5</td>\n",
       "    </tr>\n",
       "    <tr>\n",
       "      <th>reg_date</th>\n",
       "      <td>500</td>\n",
       "      <td>270</td>\n",
       "      <td>2018-05-28</td>\n",
       "      <td>8</td>\n",
       "    </tr>\n",
       "    <tr>\n",
       "      <th>tariff</th>\n",
       "      <td>500</td>\n",
       "      <td>2</td>\n",
       "      <td>smart</td>\n",
       "      <td>351</td>\n",
       "    </tr>\n",
       "  </tbody>\n",
       "</table>\n",
       "</div>"
      ],
      "text/plain": [
       "           count unique         top freq\n",
       "churn_date    38     33  2018-12-09    2\n",
       "city         500     76      Москва   99\n",
       "first_name   500    246       Радим    6\n",
       "last_name    500    419   Андреенко    5\n",
       "reg_date     500    270  2018-05-28    8\n",
       "tariff       500      2       smart  351"
      ]
     },
     "metadata": {},
     "output_type": "display_data"
    },
    {
     "name": "stdout",
     "output_type": "stream",
     "text": [
      "____________________________________________________\n",
      "\n",
      "Описательная статистика числовых значений df_users:\n"
     ]
    },
    {
     "data": {
      "text/html": [
       "<div>\n",
       "<style scoped>\n",
       "    .dataframe tbody tr th:only-of-type {\n",
       "        vertical-align: middle;\n",
       "    }\n",
       "\n",
       "    .dataframe tbody tr th {\n",
       "        vertical-align: top;\n",
       "    }\n",
       "\n",
       "    .dataframe thead th {\n",
       "        text-align: right;\n",
       "    }\n",
       "</style>\n",
       "<table border=\"1\" class=\"dataframe\">\n",
       "  <thead>\n",
       "    <tr style=\"text-align: right;\">\n",
       "      <th></th>\n",
       "      <th>count</th>\n",
       "      <th>mean</th>\n",
       "      <th>std</th>\n",
       "      <th>min</th>\n",
       "      <th>25%</th>\n",
       "      <th>50%</th>\n",
       "      <th>75%</th>\n",
       "      <th>max</th>\n",
       "    </tr>\n",
       "  </thead>\n",
       "  <tbody>\n",
       "    <tr>\n",
       "      <th>user_id</th>\n",
       "      <td>500.0</td>\n",
       "      <td>1249.500</td>\n",
       "      <td>144.481833</td>\n",
       "      <td>1000.0</td>\n",
       "      <td>1124.75</td>\n",
       "      <td>1249.5</td>\n",
       "      <td>1374.25</td>\n",
       "      <td>1499.0</td>\n",
       "    </tr>\n",
       "    <tr>\n",
       "      <th>age</th>\n",
       "      <td>500.0</td>\n",
       "      <td>46.588</td>\n",
       "      <td>16.667630</td>\n",
       "      <td>18.0</td>\n",
       "      <td>32.00</td>\n",
       "      <td>46.0</td>\n",
       "      <td>62.00</td>\n",
       "      <td>75.0</td>\n",
       "    </tr>\n",
       "  </tbody>\n",
       "</table>\n",
       "</div>"
      ],
      "text/plain": [
       "         count      mean         std     min      25%     50%      75%     max\n",
       "user_id  500.0  1249.500  144.481833  1000.0  1124.75  1249.5  1374.25  1499.0\n",
       "age      500.0    46.588   16.667630    18.0    32.00    46.0    62.00    75.0"
      ]
     },
     "metadata": {},
     "output_type": "display_data"
    },
    {
     "name": "stdout",
     "output_type": "stream",
     "text": [
      "____________________________________________________\n",
      "\n",
      "Процент пропущенных значений df_users:\n"
     ]
    },
    {
     "data": {
      "text/plain": [
       "user_id        0.0\n",
       "age            0.0\n",
       "churn_date    92.4\n",
       "city           0.0\n",
       "first_name     0.0\n",
       "last_name      0.0\n",
       "reg_date       0.0\n",
       "tariff         0.0\n",
       "dtype: float64"
      ]
     },
     "metadata": {},
     "output_type": "display_data"
    },
    {
     "name": "stdout",
     "output_type": "stream",
     "text": [
      "____________________________________________________\n",
      "\n",
      "Случайная выборка датафрейма df_users:\n"
     ]
    },
    {
     "data": {
      "text/html": [
       "<div>\n",
       "<style scoped>\n",
       "    .dataframe tbody tr th:only-of-type {\n",
       "        vertical-align: middle;\n",
       "    }\n",
       "\n",
       "    .dataframe tbody tr th {\n",
       "        vertical-align: top;\n",
       "    }\n",
       "\n",
       "    .dataframe thead th {\n",
       "        text-align: right;\n",
       "    }\n",
       "</style>\n",
       "<table border=\"1\" class=\"dataframe\">\n",
       "  <thead>\n",
       "    <tr style=\"text-align: right;\">\n",
       "      <th></th>\n",
       "      <th>user_id</th>\n",
       "      <th>age</th>\n",
       "      <th>churn_date</th>\n",
       "      <th>city</th>\n",
       "      <th>first_name</th>\n",
       "      <th>last_name</th>\n",
       "      <th>reg_date</th>\n",
       "      <th>tariff</th>\n",
       "    </tr>\n",
       "  </thead>\n",
       "  <tbody>\n",
       "    <tr>\n",
       "      <th>90</th>\n",
       "      <td>1090</td>\n",
       "      <td>54</td>\n",
       "      <td>2018-12-03</td>\n",
       "      <td>Череповец</td>\n",
       "      <td>Екатерина</td>\n",
       "      <td>Астафьева</td>\n",
       "      <td>2018-10-11</td>\n",
       "      <td>ultra</td>\n",
       "    </tr>\n",
       "    <tr>\n",
       "      <th>254</th>\n",
       "      <td>1254</td>\n",
       "      <td>75</td>\n",
       "      <td>2018-08-17</td>\n",
       "      <td>Москва</td>\n",
       "      <td>Александра</td>\n",
       "      <td>Сухарева</td>\n",
       "      <td>2018-01-04</td>\n",
       "      <td>ultra</td>\n",
       "    </tr>\n",
       "    <tr>\n",
       "      <th>283</th>\n",
       "      <td>1283</td>\n",
       "      <td>50</td>\n",
       "      <td>NaN</td>\n",
       "      <td>Москва</td>\n",
       "      <td>Юлий</td>\n",
       "      <td>Крючков</td>\n",
       "      <td>2018-09-07</td>\n",
       "      <td>smart</td>\n",
       "    </tr>\n",
       "    <tr>\n",
       "      <th>445</th>\n",
       "      <td>1445</td>\n",
       "      <td>40</td>\n",
       "      <td>NaN</td>\n",
       "      <td>Москва</td>\n",
       "      <td>Рауль</td>\n",
       "      <td>Иванов</td>\n",
       "      <td>2018-12-29</td>\n",
       "      <td>smart</td>\n",
       "    </tr>\n",
       "    <tr>\n",
       "      <th>461</th>\n",
       "      <td>1461</td>\n",
       "      <td>53</td>\n",
       "      <td>NaN</td>\n",
       "      <td>Москва</td>\n",
       "      <td>Ангелина</td>\n",
       "      <td>Фетисова</td>\n",
       "      <td>2018-11-21</td>\n",
       "      <td>ultra</td>\n",
       "    </tr>\n",
       "    <tr>\n",
       "      <th>15</th>\n",
       "      <td>1015</td>\n",
       "      <td>26</td>\n",
       "      <td>NaN</td>\n",
       "      <td>Челябинск</td>\n",
       "      <td>Рузана</td>\n",
       "      <td>Алюшина</td>\n",
       "      <td>2018-04-30</td>\n",
       "      <td>smart</td>\n",
       "    </tr>\n",
       "    <tr>\n",
       "      <th>316</th>\n",
       "      <td>1316</td>\n",
       "      <td>42</td>\n",
       "      <td>NaN</td>\n",
       "      <td>Улан-Удэ</td>\n",
       "      <td>Аурелия</td>\n",
       "      <td>Алымова</td>\n",
       "      <td>2018-11-29</td>\n",
       "      <td>smart</td>\n",
       "    </tr>\n",
       "    <tr>\n",
       "      <th>489</th>\n",
       "      <td>1489</td>\n",
       "      <td>35</td>\n",
       "      <td>NaN</td>\n",
       "      <td>Санкт-Петербург</td>\n",
       "      <td>Павел</td>\n",
       "      <td>Гончаров</td>\n",
       "      <td>2018-08-15</td>\n",
       "      <td>smart</td>\n",
       "    </tr>\n",
       "    <tr>\n",
       "      <th>159</th>\n",
       "      <td>1159</td>\n",
       "      <td>64</td>\n",
       "      <td>NaN</td>\n",
       "      <td>Красноярск</td>\n",
       "      <td>Эльга</td>\n",
       "      <td>Аничкина</td>\n",
       "      <td>2018-11-28</td>\n",
       "      <td>smart</td>\n",
       "    </tr>\n",
       "    <tr>\n",
       "      <th>153</th>\n",
       "      <td>1153</td>\n",
       "      <td>59</td>\n",
       "      <td>NaN</td>\n",
       "      <td>Ульяновск</td>\n",
       "      <td>Евдокия</td>\n",
       "      <td>Одинцова</td>\n",
       "      <td>2018-10-18</td>\n",
       "      <td>smart</td>\n",
       "    </tr>\n",
       "    <tr>\n",
       "      <th>241</th>\n",
       "      <td>1241</td>\n",
       "      <td>71</td>\n",
       "      <td>NaN</td>\n",
       "      <td>Новосибирск</td>\n",
       "      <td>Инна</td>\n",
       "      <td>Андреенко</td>\n",
       "      <td>2018-05-02</td>\n",
       "      <td>smart</td>\n",
       "    </tr>\n",
       "    <tr>\n",
       "      <th>250</th>\n",
       "      <td>1250</td>\n",
       "      <td>20</td>\n",
       "      <td>NaN</td>\n",
       "      <td>Смоленск</td>\n",
       "      <td>Лия</td>\n",
       "      <td>Ракова</td>\n",
       "      <td>2018-04-11</td>\n",
       "      <td>smart</td>\n",
       "    </tr>\n",
       "    <tr>\n",
       "      <th>390</th>\n",
       "      <td>1390</td>\n",
       "      <td>56</td>\n",
       "      <td>NaN</td>\n",
       "      <td>Санкт-Петербург</td>\n",
       "      <td>Лидия</td>\n",
       "      <td>Беляева</td>\n",
       "      <td>2018-07-30</td>\n",
       "      <td>smart</td>\n",
       "    </tr>\n",
       "    <tr>\n",
       "      <th>289</th>\n",
       "      <td>1289</td>\n",
       "      <td>20</td>\n",
       "      <td>NaN</td>\n",
       "      <td>Москва</td>\n",
       "      <td>Таисия</td>\n",
       "      <td>Богданова</td>\n",
       "      <td>2018-09-01</td>\n",
       "      <td>ultra</td>\n",
       "    </tr>\n",
       "    <tr>\n",
       "      <th>171</th>\n",
       "      <td>1171</td>\n",
       "      <td>47</td>\n",
       "      <td>NaN</td>\n",
       "      <td>Москва</td>\n",
       "      <td>Каролина</td>\n",
       "      <td>Иванова</td>\n",
       "      <td>2018-03-20</td>\n",
       "      <td>smart</td>\n",
       "    </tr>\n",
       "  </tbody>\n",
       "</table>\n",
       "</div>"
      ],
      "text/plain": [
       "     user_id  age  churn_date             city  first_name  last_name  \\\n",
       "90      1090   54  2018-12-03        Череповец   Екатерина  Астафьева   \n",
       "254     1254   75  2018-08-17           Москва  Александра   Сухарева   \n",
       "283     1283   50         NaN           Москва        Юлий    Крючков   \n",
       "445     1445   40         NaN           Москва       Рауль     Иванов   \n",
       "461     1461   53         NaN           Москва    Ангелина   Фетисова   \n",
       "15      1015   26         NaN        Челябинск      Рузана    Алюшина   \n",
       "316     1316   42         NaN         Улан-Удэ     Аурелия    Алымова   \n",
       "489     1489   35         NaN  Санкт-Петербург       Павел   Гончаров   \n",
       "159     1159   64         NaN       Красноярск       Эльга   Аничкина   \n",
       "153     1153   59         NaN        Ульяновск     Евдокия   Одинцова   \n",
       "241     1241   71         NaN      Новосибирск        Инна  Андреенко   \n",
       "250     1250   20         NaN         Смоленск         Лия     Ракова   \n",
       "390     1390   56         NaN  Санкт-Петербург       Лидия    Беляева   \n",
       "289     1289   20         NaN           Москва      Таисия  Богданова   \n",
       "171     1171   47         NaN           Москва    Каролина    Иванова   \n",
       "\n",
       "       reg_date tariff  \n",
       "90   2018-10-11  ultra  \n",
       "254  2018-01-04  ultra  \n",
       "283  2018-09-07  smart  \n",
       "445  2018-12-29  smart  \n",
       "461  2018-11-21  ultra  \n",
       "15   2018-04-30  smart  \n",
       "316  2018-11-29  smart  \n",
       "489  2018-08-15  smart  \n",
       "159  2018-11-28  smart  \n",
       "153  2018-10-18  smart  \n",
       "241  2018-05-02  smart  \n",
       "250  2018-04-11  smart  \n",
       "390  2018-07-30  smart  \n",
       "289  2018-09-01  ultra  \n",
       "171  2018-03-20  smart  "
      ]
     },
     "metadata": {},
     "output_type": "display_data"
    },
    {
     "name": "stdout",
     "output_type": "stream",
     "text": [
      "____________________________________________________\n",
      "____________________________________________________\n",
      "\n",
      "df_calls\n",
      "\n",
      "Общая информация df_calls:\n",
      "<class 'pandas.core.frame.DataFrame'>\n",
      "RangeIndex: 202607 entries, 0 to 202606\n",
      "Data columns (total 4 columns):\n",
      " #   Column     Non-Null Count   Dtype  \n",
      "---  ------     --------------   -----  \n",
      " 0   id         202607 non-null  object \n",
      " 1   call_date  202607 non-null  object \n",
      " 2   duration   202607 non-null  float64\n",
      " 3   user_id    202607 non-null  int64  \n",
      "dtypes: float64(1), int64(1), object(2)\n",
      "memory usage: 28.6 MB\n"
     ]
    },
    {
     "data": {
      "text/plain": [
       "None"
      ]
     },
     "metadata": {},
     "output_type": "display_data"
    },
    {
     "name": "stdout",
     "output_type": "stream",
     "text": [
      "____________________________________________________\n",
      "\n",
      "Описательная статистика строковых значений df_calls:\n"
     ]
    },
    {
     "data": {
      "text/html": [
       "<div>\n",
       "<style scoped>\n",
       "    .dataframe tbody tr th:only-of-type {\n",
       "        vertical-align: middle;\n",
       "    }\n",
       "\n",
       "    .dataframe tbody tr th {\n",
       "        vertical-align: top;\n",
       "    }\n",
       "\n",
       "    .dataframe thead th {\n",
       "        text-align: right;\n",
       "    }\n",
       "</style>\n",
       "<table border=\"1\" class=\"dataframe\">\n",
       "  <thead>\n",
       "    <tr style=\"text-align: right;\">\n",
       "      <th></th>\n",
       "      <th>count</th>\n",
       "      <th>unique</th>\n",
       "      <th>top</th>\n",
       "      <th>freq</th>\n",
       "    </tr>\n",
       "  </thead>\n",
       "  <tbody>\n",
       "    <tr>\n",
       "      <th>id</th>\n",
       "      <td>202607</td>\n",
       "      <td>202607</td>\n",
       "      <td>1372_345</td>\n",
       "      <td>1</td>\n",
       "    </tr>\n",
       "    <tr>\n",
       "      <th>call_date</th>\n",
       "      <td>202607</td>\n",
       "      <td>365</td>\n",
       "      <td>2018-12-31</td>\n",
       "      <td>1435</td>\n",
       "    </tr>\n",
       "  </tbody>\n",
       "</table>\n",
       "</div>"
      ],
      "text/plain": [
       "            count  unique         top  freq\n",
       "id         202607  202607    1372_345     1\n",
       "call_date  202607     365  2018-12-31  1435"
      ]
     },
     "metadata": {},
     "output_type": "display_data"
    },
    {
     "name": "stdout",
     "output_type": "stream",
     "text": [
      "____________________________________________________\n",
      "\n",
      "Описательная статистика числовых значений df_calls:\n"
     ]
    },
    {
     "data": {
      "text/html": [
       "<div>\n",
       "<style scoped>\n",
       "    .dataframe tbody tr th:only-of-type {\n",
       "        vertical-align: middle;\n",
       "    }\n",
       "\n",
       "    .dataframe tbody tr th {\n",
       "        vertical-align: top;\n",
       "    }\n",
       "\n",
       "    .dataframe thead th {\n",
       "        text-align: right;\n",
       "    }\n",
       "</style>\n",
       "<table border=\"1\" class=\"dataframe\">\n",
       "  <thead>\n",
       "    <tr style=\"text-align: right;\">\n",
       "      <th></th>\n",
       "      <th>count</th>\n",
       "      <th>mean</th>\n",
       "      <th>std</th>\n",
       "      <th>min</th>\n",
       "      <th>25%</th>\n",
       "      <th>50%</th>\n",
       "      <th>75%</th>\n",
       "      <th>max</th>\n",
       "    </tr>\n",
       "  </thead>\n",
       "  <tbody>\n",
       "    <tr>\n",
       "      <th>duration</th>\n",
       "      <td>202607.0</td>\n",
       "      <td>6.755887</td>\n",
       "      <td>5.843365</td>\n",
       "      <td>0.0</td>\n",
       "      <td>1.3</td>\n",
       "      <td>6.0</td>\n",
       "      <td>10.7</td>\n",
       "      <td>38.0</td>\n",
       "    </tr>\n",
       "    <tr>\n",
       "      <th>user_id</th>\n",
       "      <td>202607.0</td>\n",
       "      <td>1253.940619</td>\n",
       "      <td>144.722751</td>\n",
       "      <td>1000.0</td>\n",
       "      <td>1126.0</td>\n",
       "      <td>1260.0</td>\n",
       "      <td>1379.0</td>\n",
       "      <td>1499.0</td>\n",
       "    </tr>\n",
       "  </tbody>\n",
       "</table>\n",
       "</div>"
      ],
      "text/plain": [
       "             count         mean         std     min     25%     50%     75%  \\\n",
       "duration  202607.0     6.755887    5.843365     0.0     1.3     6.0    10.7   \n",
       "user_id   202607.0  1253.940619  144.722751  1000.0  1126.0  1260.0  1379.0   \n",
       "\n",
       "             max  \n",
       "duration    38.0  \n",
       "user_id   1499.0  "
      ]
     },
     "metadata": {},
     "output_type": "display_data"
    },
    {
     "name": "stdout",
     "output_type": "stream",
     "text": [
      "____________________________________________________\n",
      "\n",
      "Процент пропущенных значений df_calls:\n"
     ]
    },
    {
     "data": {
      "text/plain": [
       "id           0.0\n",
       "call_date    0.0\n",
       "duration     0.0\n",
       "user_id      0.0\n",
       "dtype: float64"
      ]
     },
     "metadata": {},
     "output_type": "display_data"
    },
    {
     "name": "stdout",
     "output_type": "stream",
     "text": [
      "____________________________________________________\n",
      "\n",
      "Случайная выборка датафрейма df_calls:\n"
     ]
    },
    {
     "data": {
      "text/html": [
       "<div>\n",
       "<style scoped>\n",
       "    .dataframe tbody tr th:only-of-type {\n",
       "        vertical-align: middle;\n",
       "    }\n",
       "\n",
       "    .dataframe tbody tr th {\n",
       "        vertical-align: top;\n",
       "    }\n",
       "\n",
       "    .dataframe thead th {\n",
       "        text-align: right;\n",
       "    }\n",
       "</style>\n",
       "<table border=\"1\" class=\"dataframe\">\n",
       "  <thead>\n",
       "    <tr style=\"text-align: right;\">\n",
       "      <th></th>\n",
       "      <th>id</th>\n",
       "      <th>call_date</th>\n",
       "      <th>duration</th>\n",
       "      <th>user_id</th>\n",
       "    </tr>\n",
       "  </thead>\n",
       "  <tbody>\n",
       "    <tr>\n",
       "      <th>40510</th>\n",
       "      <td>1100_33</td>\n",
       "      <td>2018-09-23</td>\n",
       "      <td>0.00</td>\n",
       "      <td>1100</td>\n",
       "    </tr>\n",
       "    <tr>\n",
       "      <th>150407</th>\n",
       "      <td>1377_1254</td>\n",
       "      <td>2018-04-03</td>\n",
       "      <td>12.26</td>\n",
       "      <td>1377</td>\n",
       "    </tr>\n",
       "    <tr>\n",
       "      <th>48714</th>\n",
       "      <td>1121_371</td>\n",
       "      <td>2018-12-27</td>\n",
       "      <td>11.24</td>\n",
       "      <td>1121</td>\n",
       "    </tr>\n",
       "    <tr>\n",
       "      <th>103039</th>\n",
       "      <td>1264_178</td>\n",
       "      <td>2018-10-22</td>\n",
       "      <td>4.46</td>\n",
       "      <td>1264</td>\n",
       "    </tr>\n",
       "    <tr>\n",
       "      <th>52767</th>\n",
       "      <td>1133_32</td>\n",
       "      <td>2018-12-08</td>\n",
       "      <td>6.41</td>\n",
       "      <td>1133</td>\n",
       "    </tr>\n",
       "    <tr>\n",
       "      <th>131357</th>\n",
       "      <td>1337_146</td>\n",
       "      <td>2018-06-26</td>\n",
       "      <td>3.30</td>\n",
       "      <td>1337</td>\n",
       "    </tr>\n",
       "    <tr>\n",
       "      <th>67046</th>\n",
       "      <td>1171_71</td>\n",
       "      <td>2018-09-28</td>\n",
       "      <td>14.44</td>\n",
       "      <td>1171</td>\n",
       "    </tr>\n",
       "    <tr>\n",
       "      <th>69132</th>\n",
       "      <td>1174_172</td>\n",
       "      <td>2018-07-29</td>\n",
       "      <td>7.93</td>\n",
       "      <td>1174</td>\n",
       "    </tr>\n",
       "    <tr>\n",
       "      <th>17461</th>\n",
       "      <td>1048_251</td>\n",
       "      <td>2018-12-27</td>\n",
       "      <td>8.21</td>\n",
       "      <td>1048</td>\n",
       "    </tr>\n",
       "    <tr>\n",
       "      <th>83622</th>\n",
       "      <td>1208_474</td>\n",
       "      <td>2018-05-04</td>\n",
       "      <td>6.47</td>\n",
       "      <td>1208</td>\n",
       "    </tr>\n",
       "    <tr>\n",
       "      <th>177001</th>\n",
       "      <td>1436_446</td>\n",
       "      <td>2018-11-15</td>\n",
       "      <td>11.44</td>\n",
       "      <td>1436</td>\n",
       "    </tr>\n",
       "    <tr>\n",
       "      <th>169158</th>\n",
       "      <td>1416_325</td>\n",
       "      <td>2018-08-27</td>\n",
       "      <td>2.96</td>\n",
       "      <td>1416</td>\n",
       "    </tr>\n",
       "    <tr>\n",
       "      <th>83167</th>\n",
       "      <td>1208_19</td>\n",
       "      <td>2018-05-13</td>\n",
       "      <td>13.84</td>\n",
       "      <td>1208</td>\n",
       "    </tr>\n",
       "    <tr>\n",
       "      <th>188253</th>\n",
       "      <td>1464_773</td>\n",
       "      <td>2018-10-07</td>\n",
       "      <td>1.97</td>\n",
       "      <td>1464</td>\n",
       "    </tr>\n",
       "    <tr>\n",
       "      <th>34979</th>\n",
       "      <td>1086_528</td>\n",
       "      <td>2018-05-07</td>\n",
       "      <td>2.70</td>\n",
       "      <td>1086</td>\n",
       "    </tr>\n",
       "  </tbody>\n",
       "</table>\n",
       "</div>"
      ],
      "text/plain": [
       "               id   call_date  duration  user_id\n",
       "40510     1100_33  2018-09-23      0.00     1100\n",
       "150407  1377_1254  2018-04-03     12.26     1377\n",
       "48714    1121_371  2018-12-27     11.24     1121\n",
       "103039   1264_178  2018-10-22      4.46     1264\n",
       "52767     1133_32  2018-12-08      6.41     1133\n",
       "131357   1337_146  2018-06-26      3.30     1337\n",
       "67046     1171_71  2018-09-28     14.44     1171\n",
       "69132    1174_172  2018-07-29      7.93     1174\n",
       "17461    1048_251  2018-12-27      8.21     1048\n",
       "83622    1208_474  2018-05-04      6.47     1208\n",
       "177001   1436_446  2018-11-15     11.44     1436\n",
       "169158   1416_325  2018-08-27      2.96     1416\n",
       "83167     1208_19  2018-05-13     13.84     1208\n",
       "188253   1464_773  2018-10-07      1.97     1464\n",
       "34979    1086_528  2018-05-07      2.70     1086"
      ]
     },
     "metadata": {},
     "output_type": "display_data"
    },
    {
     "name": "stdout",
     "output_type": "stream",
     "text": [
      "____________________________________________________\n",
      "____________________________________________________\n",
      "\n",
      "df_messages\n",
      "\n",
      "Общая информация df_messages:\n",
      "<class 'pandas.core.frame.DataFrame'>\n",
      "RangeIndex: 123036 entries, 0 to 123035\n",
      "Data columns (total 3 columns):\n",
      " #   Column        Non-Null Count   Dtype \n",
      "---  ------        --------------   ----- \n",
      " 0   id            123036 non-null  object\n",
      " 1   message_date  123036 non-null  object\n",
      " 2   user_id       123036 non-null  int64 \n",
      "dtypes: int64(1), object(2)\n",
      "memory usage: 16.4 MB\n"
     ]
    },
    {
     "data": {
      "text/plain": [
       "None"
      ]
     },
     "metadata": {},
     "output_type": "display_data"
    },
    {
     "name": "stdout",
     "output_type": "stream",
     "text": [
      "____________________________________________________\n",
      "\n",
      "Описательная статистика строковых значений df_messages:\n"
     ]
    },
    {
     "data": {
      "text/html": [
       "<div>\n",
       "<style scoped>\n",
       "    .dataframe tbody tr th:only-of-type {\n",
       "        vertical-align: middle;\n",
       "    }\n",
       "\n",
       "    .dataframe tbody tr th {\n",
       "        vertical-align: top;\n",
       "    }\n",
       "\n",
       "    .dataframe thead th {\n",
       "        text-align: right;\n",
       "    }\n",
       "</style>\n",
       "<table border=\"1\" class=\"dataframe\">\n",
       "  <thead>\n",
       "    <tr style=\"text-align: right;\">\n",
       "      <th></th>\n",
       "      <th>count</th>\n",
       "      <th>unique</th>\n",
       "      <th>top</th>\n",
       "      <th>freq</th>\n",
       "    </tr>\n",
       "  </thead>\n",
       "  <tbody>\n",
       "    <tr>\n",
       "      <th>id</th>\n",
       "      <td>123036</td>\n",
       "      <td>123036</td>\n",
       "      <td>1323_261</td>\n",
       "      <td>1</td>\n",
       "    </tr>\n",
       "    <tr>\n",
       "      <th>message_date</th>\n",
       "      <td>123036</td>\n",
       "      <td>364</td>\n",
       "      <td>2018-12-31</td>\n",
       "      <td>859</td>\n",
       "    </tr>\n",
       "  </tbody>\n",
       "</table>\n",
       "</div>"
      ],
      "text/plain": [
       "               count  unique         top freq\n",
       "id            123036  123036    1323_261    1\n",
       "message_date  123036     364  2018-12-31  859"
      ]
     },
     "metadata": {},
     "output_type": "display_data"
    },
    {
     "name": "stdout",
     "output_type": "stream",
     "text": [
      "____________________________________________________\n",
      "\n",
      "Описательная статистика числовых значений df_messages:\n"
     ]
    },
    {
     "data": {
      "text/html": [
       "<div>\n",
       "<style scoped>\n",
       "    .dataframe tbody tr th:only-of-type {\n",
       "        vertical-align: middle;\n",
       "    }\n",
       "\n",
       "    .dataframe tbody tr th {\n",
       "        vertical-align: top;\n",
       "    }\n",
       "\n",
       "    .dataframe thead th {\n",
       "        text-align: right;\n",
       "    }\n",
       "</style>\n",
       "<table border=\"1\" class=\"dataframe\">\n",
       "  <thead>\n",
       "    <tr style=\"text-align: right;\">\n",
       "      <th></th>\n",
       "      <th>count</th>\n",
       "      <th>mean</th>\n",
       "      <th>std</th>\n",
       "      <th>min</th>\n",
       "      <th>25%</th>\n",
       "      <th>50%</th>\n",
       "      <th>75%</th>\n",
       "      <th>max</th>\n",
       "    </tr>\n",
       "  </thead>\n",
       "  <tbody>\n",
       "    <tr>\n",
       "      <th>user_id</th>\n",
       "      <td>123036.0</td>\n",
       "      <td>1256.98941</td>\n",
       "      <td>143.523967</td>\n",
       "      <td>1000.0</td>\n",
       "      <td>1134.0</td>\n",
       "      <td>1271.0</td>\n",
       "      <td>1381.0</td>\n",
       "      <td>1499.0</td>\n",
       "    </tr>\n",
       "  </tbody>\n",
       "</table>\n",
       "</div>"
      ],
      "text/plain": [
       "            count        mean         std     min     25%     50%     75%  \\\n",
       "user_id  123036.0  1256.98941  143.523967  1000.0  1134.0  1271.0  1381.0   \n",
       "\n",
       "            max  \n",
       "user_id  1499.0  "
      ]
     },
     "metadata": {},
     "output_type": "display_data"
    },
    {
     "name": "stdout",
     "output_type": "stream",
     "text": [
      "____________________________________________________\n",
      "\n",
      "Процент пропущенных значений df_messages:\n"
     ]
    },
    {
     "data": {
      "text/plain": [
       "id              0.0\n",
       "message_date    0.0\n",
       "user_id         0.0\n",
       "dtype: float64"
      ]
     },
     "metadata": {},
     "output_type": "display_data"
    },
    {
     "name": "stdout",
     "output_type": "stream",
     "text": [
      "____________________________________________________\n",
      "\n",
      "Случайная выборка датафрейма df_messages:\n"
     ]
    },
    {
     "data": {
      "text/html": [
       "<div>\n",
       "<style scoped>\n",
       "    .dataframe tbody tr th:only-of-type {\n",
       "        vertical-align: middle;\n",
       "    }\n",
       "\n",
       "    .dataframe tbody tr th {\n",
       "        vertical-align: top;\n",
       "    }\n",
       "\n",
       "    .dataframe thead th {\n",
       "        text-align: right;\n",
       "    }\n",
       "</style>\n",
       "<table border=\"1\" class=\"dataframe\">\n",
       "  <thead>\n",
       "    <tr style=\"text-align: right;\">\n",
       "      <th></th>\n",
       "      <th>id</th>\n",
       "      <th>message_date</th>\n",
       "      <th>user_id</th>\n",
       "    </tr>\n",
       "  </thead>\n",
       "  <tbody>\n",
       "    <tr>\n",
       "      <th>94381</th>\n",
       "      <td>1385_1090</td>\n",
       "      <td>2018-05-03</td>\n",
       "      <td>1385</td>\n",
       "    </tr>\n",
       "    <tr>\n",
       "      <th>109956</th>\n",
       "      <td>1443_55</td>\n",
       "      <td>2018-12-02</td>\n",
       "      <td>1443</td>\n",
       "    </tr>\n",
       "    <tr>\n",
       "      <th>75655</th>\n",
       "      <td>1320_9</td>\n",
       "      <td>2018-09-19</td>\n",
       "      <td>1320</td>\n",
       "    </tr>\n",
       "    <tr>\n",
       "      <th>118304</th>\n",
       "      <td>1481_75</td>\n",
       "      <td>2018-10-06</td>\n",
       "      <td>1481</td>\n",
       "    </tr>\n",
       "    <tr>\n",
       "      <th>91567</th>\n",
       "      <td>1379_253</td>\n",
       "      <td>2018-09-02</td>\n",
       "      <td>1379</td>\n",
       "    </tr>\n",
       "    <tr>\n",
       "      <th>85017</th>\n",
       "      <td>1356_34</td>\n",
       "      <td>2018-07-08</td>\n",
       "      <td>1356</td>\n",
       "    </tr>\n",
       "    <tr>\n",
       "      <th>97880</th>\n",
       "      <td>1401_212</td>\n",
       "      <td>2018-04-20</td>\n",
       "      <td>1401</td>\n",
       "    </tr>\n",
       "    <tr>\n",
       "      <th>67144</th>\n",
       "      <td>1285_332</td>\n",
       "      <td>2018-06-10</td>\n",
       "      <td>1285</td>\n",
       "    </tr>\n",
       "    <tr>\n",
       "      <th>60737</th>\n",
       "      <td>1268_52</td>\n",
       "      <td>2018-09-22</td>\n",
       "      <td>1268</td>\n",
       "    </tr>\n",
       "    <tr>\n",
       "      <th>33081</th>\n",
       "      <td>1145_734</td>\n",
       "      <td>2018-12-27</td>\n",
       "      <td>1145</td>\n",
       "    </tr>\n",
       "    <tr>\n",
       "      <th>4216</th>\n",
       "      <td>1015_481</td>\n",
       "      <td>2018-07-19</td>\n",
       "      <td>1015</td>\n",
       "    </tr>\n",
       "    <tr>\n",
       "      <th>40795</th>\n",
       "      <td>1174_140</td>\n",
       "      <td>2018-09-03</td>\n",
       "      <td>1174</td>\n",
       "    </tr>\n",
       "    <tr>\n",
       "      <th>55593</th>\n",
       "      <td>1245_103</td>\n",
       "      <td>2018-10-10</td>\n",
       "      <td>1245</td>\n",
       "    </tr>\n",
       "    <tr>\n",
       "      <th>24134</th>\n",
       "      <td>1099_341</td>\n",
       "      <td>2018-08-15</td>\n",
       "      <td>1099</td>\n",
       "    </tr>\n",
       "    <tr>\n",
       "      <th>118032</th>\n",
       "      <td>1478_384</td>\n",
       "      <td>2018-11-17</td>\n",
       "      <td>1478</td>\n",
       "    </tr>\n",
       "  </tbody>\n",
       "</table>\n",
       "</div>"
      ],
      "text/plain": [
       "               id message_date  user_id\n",
       "94381   1385_1090   2018-05-03     1385\n",
       "109956    1443_55   2018-12-02     1443\n",
       "75655      1320_9   2018-09-19     1320\n",
       "118304    1481_75   2018-10-06     1481\n",
       "91567    1379_253   2018-09-02     1379\n",
       "85017     1356_34   2018-07-08     1356\n",
       "97880    1401_212   2018-04-20     1401\n",
       "67144    1285_332   2018-06-10     1285\n",
       "60737     1268_52   2018-09-22     1268\n",
       "33081    1145_734   2018-12-27     1145\n",
       "4216     1015_481   2018-07-19     1015\n",
       "40795    1174_140   2018-09-03     1174\n",
       "55593    1245_103   2018-10-10     1245\n",
       "24134    1099_341   2018-08-15     1099\n",
       "118032   1478_384   2018-11-17     1478"
      ]
     },
     "metadata": {},
     "output_type": "display_data"
    },
    {
     "name": "stdout",
     "output_type": "stream",
     "text": [
      "____________________________________________________\n",
      "____________________________________________________\n",
      "\n",
      "df_internet\n",
      "\n",
      "Общая информация df_internet:\n",
      "<class 'pandas.core.frame.DataFrame'>\n",
      "RangeIndex: 149396 entries, 0 to 149395\n",
      "Data columns (total 5 columns):\n",
      " #   Column        Non-Null Count   Dtype  \n",
      "---  ------        --------------   -----  \n",
      " 0   Unnamed: 0    149396 non-null  int64  \n",
      " 1   id            149396 non-null  object \n",
      " 2   mb_used       149396 non-null  float64\n",
      " 3   session_date  149396 non-null  object \n",
      " 4   user_id       149396 non-null  int64  \n",
      "dtypes: float64(1), int64(2), object(2)\n",
      "memory usage: 22.2 MB\n"
     ]
    },
    {
     "data": {
      "text/plain": [
       "None"
      ]
     },
     "metadata": {},
     "output_type": "display_data"
    },
    {
     "name": "stdout",
     "output_type": "stream",
     "text": [
      "____________________________________________________\n",
      "\n",
      "Описательная статистика строковых значений df_internet:\n"
     ]
    },
    {
     "data": {
      "text/html": [
       "<div>\n",
       "<style scoped>\n",
       "    .dataframe tbody tr th:only-of-type {\n",
       "        vertical-align: middle;\n",
       "    }\n",
       "\n",
       "    .dataframe tbody tr th {\n",
       "        vertical-align: top;\n",
       "    }\n",
       "\n",
       "    .dataframe thead th {\n",
       "        text-align: right;\n",
       "    }\n",
       "</style>\n",
       "<table border=\"1\" class=\"dataframe\">\n",
       "  <thead>\n",
       "    <tr style=\"text-align: right;\">\n",
       "      <th></th>\n",
       "      <th>count</th>\n",
       "      <th>unique</th>\n",
       "      <th>top</th>\n",
       "      <th>freq</th>\n",
       "    </tr>\n",
       "  </thead>\n",
       "  <tbody>\n",
       "    <tr>\n",
       "      <th>id</th>\n",
       "      <td>149396</td>\n",
       "      <td>149396</td>\n",
       "      <td>1323_261</td>\n",
       "      <td>1</td>\n",
       "    </tr>\n",
       "    <tr>\n",
       "      <th>session_date</th>\n",
       "      <td>149396</td>\n",
       "      <td>365</td>\n",
       "      <td>2018-12-31</td>\n",
       "      <td>1057</td>\n",
       "    </tr>\n",
       "  </tbody>\n",
       "</table>\n",
       "</div>"
      ],
      "text/plain": [
       "               count  unique         top  freq\n",
       "id            149396  149396    1323_261     1\n",
       "session_date  149396     365  2018-12-31  1057"
      ]
     },
     "metadata": {},
     "output_type": "display_data"
    },
    {
     "name": "stdout",
     "output_type": "stream",
     "text": [
      "____________________________________________________\n",
      "\n",
      "Описательная статистика числовых значений df_internet:\n"
     ]
    },
    {
     "data": {
      "text/html": [
       "<div>\n",
       "<style scoped>\n",
       "    .dataframe tbody tr th:only-of-type {\n",
       "        vertical-align: middle;\n",
       "    }\n",
       "\n",
       "    .dataframe tbody tr th {\n",
       "        vertical-align: top;\n",
       "    }\n",
       "\n",
       "    .dataframe thead th {\n",
       "        text-align: right;\n",
       "    }\n",
       "</style>\n",
       "<table border=\"1\" class=\"dataframe\">\n",
       "  <thead>\n",
       "    <tr style=\"text-align: right;\">\n",
       "      <th></th>\n",
       "      <th>count</th>\n",
       "      <th>mean</th>\n",
       "      <th>std</th>\n",
       "      <th>min</th>\n",
       "      <th>25%</th>\n",
       "      <th>50%</th>\n",
       "      <th>75%</th>\n",
       "      <th>max</th>\n",
       "    </tr>\n",
       "  </thead>\n",
       "  <tbody>\n",
       "    <tr>\n",
       "      <th>Unnamed: 0</th>\n",
       "      <td>149396.0</td>\n",
       "      <td>74697.500000</td>\n",
       "      <td>43127.054745</td>\n",
       "      <td>0.0</td>\n",
       "      <td>37348.7500</td>\n",
       "      <td>74697.500</td>\n",
       "      <td>112046.2500</td>\n",
       "      <td>149395.00</td>\n",
       "    </tr>\n",
       "    <tr>\n",
       "      <th>mb_used</th>\n",
       "      <td>149396.0</td>\n",
       "      <td>370.192426</td>\n",
       "      <td>278.300951</td>\n",
       "      <td>0.0</td>\n",
       "      <td>138.1875</td>\n",
       "      <td>348.015</td>\n",
       "      <td>559.5525</td>\n",
       "      <td>1724.83</td>\n",
       "    </tr>\n",
       "    <tr>\n",
       "      <th>user_id</th>\n",
       "      <td>149396.0</td>\n",
       "      <td>1252.099842</td>\n",
       "      <td>144.050823</td>\n",
       "      <td>1000.0</td>\n",
       "      <td>1130.0000</td>\n",
       "      <td>1251.000</td>\n",
       "      <td>1380.0000</td>\n",
       "      <td>1499.00</td>\n",
       "    </tr>\n",
       "  </tbody>\n",
       "</table>\n",
       "</div>"
      ],
      "text/plain": [
       "               count          mean           std     min         25%  \\\n",
       "Unnamed: 0  149396.0  74697.500000  43127.054745     0.0  37348.7500   \n",
       "mb_used     149396.0    370.192426    278.300951     0.0    138.1875   \n",
       "user_id     149396.0   1252.099842    144.050823  1000.0   1130.0000   \n",
       "\n",
       "                  50%          75%        max  \n",
       "Unnamed: 0  74697.500  112046.2500  149395.00  \n",
       "mb_used       348.015     559.5525    1724.83  \n",
       "user_id      1251.000    1380.0000    1499.00  "
      ]
     },
     "metadata": {},
     "output_type": "display_data"
    },
    {
     "name": "stdout",
     "output_type": "stream",
     "text": [
      "____________________________________________________\n",
      "\n",
      "Процент пропущенных значений df_internet:\n"
     ]
    },
    {
     "data": {
      "text/plain": [
       "Unnamed: 0      0.0\n",
       "id              0.0\n",
       "mb_used         0.0\n",
       "session_date    0.0\n",
       "user_id         0.0\n",
       "dtype: float64"
      ]
     },
     "metadata": {},
     "output_type": "display_data"
    },
    {
     "name": "stdout",
     "output_type": "stream",
     "text": [
      "____________________________________________________\n",
      "\n",
      "Случайная выборка датафрейма df_internet:\n"
     ]
    },
    {
     "data": {
      "text/html": [
       "<div>\n",
       "<style scoped>\n",
       "    .dataframe tbody tr th:only-of-type {\n",
       "        vertical-align: middle;\n",
       "    }\n",
       "\n",
       "    .dataframe tbody tr th {\n",
       "        vertical-align: top;\n",
       "    }\n",
       "\n",
       "    .dataframe thead th {\n",
       "        text-align: right;\n",
       "    }\n",
       "</style>\n",
       "<table border=\"1\" class=\"dataframe\">\n",
       "  <thead>\n",
       "    <tr style=\"text-align: right;\">\n",
       "      <th></th>\n",
       "      <th>Unnamed: 0</th>\n",
       "      <th>id</th>\n",
       "      <th>mb_used</th>\n",
       "      <th>session_date</th>\n",
       "      <th>user_id</th>\n",
       "    </tr>\n",
       "  </thead>\n",
       "  <tbody>\n",
       "    <tr>\n",
       "      <th>26617</th>\n",
       "      <td>26617</td>\n",
       "      <td>1092_283</td>\n",
       "      <td>828.84</td>\n",
       "      <td>2018-08-02</td>\n",
       "      <td>1092</td>\n",
       "    </tr>\n",
       "    <tr>\n",
       "      <th>112390</th>\n",
       "      <td>112390</td>\n",
       "      <td>1380_519</td>\n",
       "      <td>912.76</td>\n",
       "      <td>2018-07-20</td>\n",
       "      <td>1380</td>\n",
       "    </tr>\n",
       "    <tr>\n",
       "      <th>99054</th>\n",
       "      <td>99054</td>\n",
       "      <td>1332_28</td>\n",
       "      <td>0.00</td>\n",
       "      <td>2018-06-28</td>\n",
       "      <td>1332</td>\n",
       "    </tr>\n",
       "    <tr>\n",
       "      <th>86235</th>\n",
       "      <td>86235</td>\n",
       "      <td>1292_351</td>\n",
       "      <td>451.91</td>\n",
       "      <td>2018-09-24</td>\n",
       "      <td>1292</td>\n",
       "    </tr>\n",
       "    <tr>\n",
       "      <th>6819</th>\n",
       "      <td>6819</td>\n",
       "      <td>1023_55</td>\n",
       "      <td>161.65</td>\n",
       "      <td>2018-12-19</td>\n",
       "      <td>1023</td>\n",
       "    </tr>\n",
       "    <tr>\n",
       "      <th>41366</th>\n",
       "      <td>41366</td>\n",
       "      <td>1145_102</td>\n",
       "      <td>277.28</td>\n",
       "      <td>2018-05-25</td>\n",
       "      <td>1145</td>\n",
       "    </tr>\n",
       "    <tr>\n",
       "      <th>49486</th>\n",
       "      <td>49486</td>\n",
       "      <td>1171_188</td>\n",
       "      <td>360.05</td>\n",
       "      <td>2018-09-21</td>\n",
       "      <td>1171</td>\n",
       "    </tr>\n",
       "    <tr>\n",
       "      <th>38558</th>\n",
       "      <td>38558</td>\n",
       "      <td>1135_38</td>\n",
       "      <td>0.00</td>\n",
       "      <td>2018-11-12</td>\n",
       "      <td>1135</td>\n",
       "    </tr>\n",
       "    <tr>\n",
       "      <th>135048</th>\n",
       "      <td>135048</td>\n",
       "      <td>1453_269</td>\n",
       "      <td>1087.96</td>\n",
       "      <td>2018-11-29</td>\n",
       "      <td>1453</td>\n",
       "    </tr>\n",
       "    <tr>\n",
       "      <th>140663</th>\n",
       "      <td>140663</td>\n",
       "      <td>1472_337</td>\n",
       "      <td>336.81</td>\n",
       "      <td>2018-01-22</td>\n",
       "      <td>1472</td>\n",
       "    </tr>\n",
       "    <tr>\n",
       "      <th>133623</th>\n",
       "      <td>133623</td>\n",
       "      <td>1447_201</td>\n",
       "      <td>120.58</td>\n",
       "      <td>2018-09-16</td>\n",
       "      <td>1447</td>\n",
       "    </tr>\n",
       "    <tr>\n",
       "      <th>126202</th>\n",
       "      <td>126202</td>\n",
       "      <td>1424_63</td>\n",
       "      <td>767.83</td>\n",
       "      <td>2018-10-12</td>\n",
       "      <td>1424</td>\n",
       "    </tr>\n",
       "    <tr>\n",
       "      <th>66691</th>\n",
       "      <td>66691</td>\n",
       "      <td>1227_288</td>\n",
       "      <td>871.36</td>\n",
       "      <td>2018-08-29</td>\n",
       "      <td>1227</td>\n",
       "    </tr>\n",
       "    <tr>\n",
       "      <th>61728</th>\n",
       "      <td>61728</td>\n",
       "      <td>1209_250</td>\n",
       "      <td>568.71</td>\n",
       "      <td>2018-07-16</td>\n",
       "      <td>1209</td>\n",
       "    </tr>\n",
       "    <tr>\n",
       "      <th>126264</th>\n",
       "      <td>126264</td>\n",
       "      <td>1424_125</td>\n",
       "      <td>825.48</td>\n",
       "      <td>2018-08-15</td>\n",
       "      <td>1424</td>\n",
       "    </tr>\n",
       "  </tbody>\n",
       "</table>\n",
       "</div>"
      ],
      "text/plain": [
       "        Unnamed: 0        id  mb_used session_date  user_id\n",
       "26617        26617  1092_283   828.84   2018-08-02     1092\n",
       "112390      112390  1380_519   912.76   2018-07-20     1380\n",
       "99054        99054   1332_28     0.00   2018-06-28     1332\n",
       "86235        86235  1292_351   451.91   2018-09-24     1292\n",
       "6819          6819   1023_55   161.65   2018-12-19     1023\n",
       "41366        41366  1145_102   277.28   2018-05-25     1145\n",
       "49486        49486  1171_188   360.05   2018-09-21     1171\n",
       "38558        38558   1135_38     0.00   2018-11-12     1135\n",
       "135048      135048  1453_269  1087.96   2018-11-29     1453\n",
       "140663      140663  1472_337   336.81   2018-01-22     1472\n",
       "133623      133623  1447_201   120.58   2018-09-16     1447\n",
       "126202      126202   1424_63   767.83   2018-10-12     1424\n",
       "66691        66691  1227_288   871.36   2018-08-29     1227\n",
       "61728        61728  1209_250   568.71   2018-07-16     1209\n",
       "126264      126264  1424_125   825.48   2018-08-15     1424"
      ]
     },
     "metadata": {},
     "output_type": "display_data"
    },
    {
     "name": "stdout",
     "output_type": "stream",
     "text": [
      "____________________________________________________\n",
      "____________________________________________________\n",
      "\n",
      "df_tariffs\n",
      "\n",
      "Общая информация df_tariffs:\n",
      "<class 'pandas.core.frame.DataFrame'>\n",
      "RangeIndex: 2 entries, 0 to 1\n",
      "Data columns (total 8 columns):\n",
      " #   Column                 Non-Null Count  Dtype \n",
      "---  ------                 --------------  ----- \n",
      " 0   messages_included      2 non-null      int64 \n",
      " 1   mb_per_month_included  2 non-null      int64 \n",
      " 2   minutes_included       2 non-null      int64 \n",
      " 3   rub_monthly_fee        2 non-null      int64 \n",
      " 4   rub_per_gb             2 non-null      int64 \n",
      " 5   rub_per_message        2 non-null      int64 \n",
      " 6   rub_per_minute         2 non-null      int64 \n",
      " 7   tariff_name            2 non-null      object\n",
      "dtypes: int64(7), object(1)\n",
      "memory usage: 364.0 bytes\n"
     ]
    },
    {
     "data": {
      "text/plain": [
       "None"
      ]
     },
     "metadata": {},
     "output_type": "display_data"
    },
    {
     "name": "stdout",
     "output_type": "stream",
     "text": [
      "____________________________________________________\n",
      "\n",
      "Описательная статистика строковых значений df_tariffs:\n"
     ]
    },
    {
     "data": {
      "text/html": [
       "<div>\n",
       "<style scoped>\n",
       "    .dataframe tbody tr th:only-of-type {\n",
       "        vertical-align: middle;\n",
       "    }\n",
       "\n",
       "    .dataframe tbody tr th {\n",
       "        vertical-align: top;\n",
       "    }\n",
       "\n",
       "    .dataframe thead th {\n",
       "        text-align: right;\n",
       "    }\n",
       "</style>\n",
       "<table border=\"1\" class=\"dataframe\">\n",
       "  <thead>\n",
       "    <tr style=\"text-align: right;\">\n",
       "      <th></th>\n",
       "      <th>count</th>\n",
       "      <th>unique</th>\n",
       "      <th>top</th>\n",
       "      <th>freq</th>\n",
       "    </tr>\n",
       "  </thead>\n",
       "  <tbody>\n",
       "    <tr>\n",
       "      <th>tariff_name</th>\n",
       "      <td>2</td>\n",
       "      <td>2</td>\n",
       "      <td>smart</td>\n",
       "      <td>1</td>\n",
       "    </tr>\n",
       "  </tbody>\n",
       "</table>\n",
       "</div>"
      ],
      "text/plain": [
       "            count unique    top freq\n",
       "tariff_name     2      2  smart    1"
      ]
     },
     "metadata": {},
     "output_type": "display_data"
    },
    {
     "name": "stdout",
     "output_type": "stream",
     "text": [
      "____________________________________________________\n",
      "\n",
      "Описательная статистика числовых значений df_tariffs:\n"
     ]
    },
    {
     "data": {
      "text/html": [
       "<div>\n",
       "<style scoped>\n",
       "    .dataframe tbody tr th:only-of-type {\n",
       "        vertical-align: middle;\n",
       "    }\n",
       "\n",
       "    .dataframe tbody tr th {\n",
       "        vertical-align: top;\n",
       "    }\n",
       "\n",
       "    .dataframe thead th {\n",
       "        text-align: right;\n",
       "    }\n",
       "</style>\n",
       "<table border=\"1\" class=\"dataframe\">\n",
       "  <thead>\n",
       "    <tr style=\"text-align: right;\">\n",
       "      <th></th>\n",
       "      <th>count</th>\n",
       "      <th>mean</th>\n",
       "      <th>std</th>\n",
       "      <th>min</th>\n",
       "      <th>25%</th>\n",
       "      <th>50%</th>\n",
       "      <th>75%</th>\n",
       "      <th>max</th>\n",
       "    </tr>\n",
       "  </thead>\n",
       "  <tbody>\n",
       "    <tr>\n",
       "      <th>messages_included</th>\n",
       "      <td>2.0</td>\n",
       "      <td>525.0</td>\n",
       "      <td>671.751442</td>\n",
       "      <td>50.0</td>\n",
       "      <td>287.5</td>\n",
       "      <td>525.0</td>\n",
       "      <td>762.5</td>\n",
       "      <td>1000.0</td>\n",
       "    </tr>\n",
       "    <tr>\n",
       "      <th>mb_per_month_included</th>\n",
       "      <td>2.0</td>\n",
       "      <td>23040.0</td>\n",
       "      <td>10861.160159</td>\n",
       "      <td>15360.0</td>\n",
       "      <td>19200.0</td>\n",
       "      <td>23040.0</td>\n",
       "      <td>26880.0</td>\n",
       "      <td>30720.0</td>\n",
       "    </tr>\n",
       "    <tr>\n",
       "      <th>minutes_included</th>\n",
       "      <td>2.0</td>\n",
       "      <td>1750.0</td>\n",
       "      <td>1767.766953</td>\n",
       "      <td>500.0</td>\n",
       "      <td>1125.0</td>\n",
       "      <td>1750.0</td>\n",
       "      <td>2375.0</td>\n",
       "      <td>3000.0</td>\n",
       "    </tr>\n",
       "    <tr>\n",
       "      <th>rub_monthly_fee</th>\n",
       "      <td>2.0</td>\n",
       "      <td>1250.0</td>\n",
       "      <td>989.949494</td>\n",
       "      <td>550.0</td>\n",
       "      <td>900.0</td>\n",
       "      <td>1250.0</td>\n",
       "      <td>1600.0</td>\n",
       "      <td>1950.0</td>\n",
       "    </tr>\n",
       "    <tr>\n",
       "      <th>rub_per_gb</th>\n",
       "      <td>2.0</td>\n",
       "      <td>175.0</td>\n",
       "      <td>35.355339</td>\n",
       "      <td>150.0</td>\n",
       "      <td>162.5</td>\n",
       "      <td>175.0</td>\n",
       "      <td>187.5</td>\n",
       "      <td>200.0</td>\n",
       "    </tr>\n",
       "    <tr>\n",
       "      <th>rub_per_message</th>\n",
       "      <td>2.0</td>\n",
       "      <td>2.0</td>\n",
       "      <td>1.414214</td>\n",
       "      <td>1.0</td>\n",
       "      <td>1.5</td>\n",
       "      <td>2.0</td>\n",
       "      <td>2.5</td>\n",
       "      <td>3.0</td>\n",
       "    </tr>\n",
       "    <tr>\n",
       "      <th>rub_per_minute</th>\n",
       "      <td>2.0</td>\n",
       "      <td>2.0</td>\n",
       "      <td>1.414214</td>\n",
       "      <td>1.0</td>\n",
       "      <td>1.5</td>\n",
       "      <td>2.0</td>\n",
       "      <td>2.5</td>\n",
       "      <td>3.0</td>\n",
       "    </tr>\n",
       "  </tbody>\n",
       "</table>\n",
       "</div>"
      ],
      "text/plain": [
       "                       count     mean           std      min      25%  \\\n",
       "messages_included        2.0    525.0    671.751442     50.0    287.5   \n",
       "mb_per_month_included    2.0  23040.0  10861.160159  15360.0  19200.0   \n",
       "minutes_included         2.0   1750.0   1767.766953    500.0   1125.0   \n",
       "rub_monthly_fee          2.0   1250.0    989.949494    550.0    900.0   \n",
       "rub_per_gb               2.0    175.0     35.355339    150.0    162.5   \n",
       "rub_per_message          2.0      2.0      1.414214      1.0      1.5   \n",
       "rub_per_minute           2.0      2.0      1.414214      1.0      1.5   \n",
       "\n",
       "                           50%      75%      max  \n",
       "messages_included        525.0    762.5   1000.0  \n",
       "mb_per_month_included  23040.0  26880.0  30720.0  \n",
       "minutes_included        1750.0   2375.0   3000.0  \n",
       "rub_monthly_fee         1250.0   1600.0   1950.0  \n",
       "rub_per_gb               175.0    187.5    200.0  \n",
       "rub_per_message            2.0      2.5      3.0  \n",
       "rub_per_minute             2.0      2.5      3.0  "
      ]
     },
     "metadata": {},
     "output_type": "display_data"
    },
    {
     "name": "stdout",
     "output_type": "stream",
     "text": [
      "____________________________________________________\n",
      "\n",
      "Процент пропущенных значений df_tariffs:\n"
     ]
    },
    {
     "data": {
      "text/plain": [
       "messages_included        0.0\n",
       "mb_per_month_included    0.0\n",
       "minutes_included         0.0\n",
       "rub_monthly_fee          0.0\n",
       "rub_per_gb               0.0\n",
       "rub_per_message          0.0\n",
       "rub_per_minute           0.0\n",
       "tariff_name              0.0\n",
       "dtype: float64"
      ]
     },
     "metadata": {},
     "output_type": "display_data"
    },
    {
     "name": "stdout",
     "output_type": "stream",
     "text": [
      "____________________________________________________\n",
      "\n",
      "Случайная выборка датафрейма df_tariffs:\n"
     ]
    },
    {
     "data": {
      "text/html": [
       "<div>\n",
       "<style scoped>\n",
       "    .dataframe tbody tr th:only-of-type {\n",
       "        vertical-align: middle;\n",
       "    }\n",
       "\n",
       "    .dataframe tbody tr th {\n",
       "        vertical-align: top;\n",
       "    }\n",
       "\n",
       "    .dataframe thead th {\n",
       "        text-align: right;\n",
       "    }\n",
       "</style>\n",
       "<table border=\"1\" class=\"dataframe\">\n",
       "  <thead>\n",
       "    <tr style=\"text-align: right;\">\n",
       "      <th></th>\n",
       "      <th>messages_included</th>\n",
       "      <th>mb_per_month_included</th>\n",
       "      <th>minutes_included</th>\n",
       "      <th>rub_monthly_fee</th>\n",
       "      <th>rub_per_gb</th>\n",
       "      <th>rub_per_message</th>\n",
       "      <th>rub_per_minute</th>\n",
       "      <th>tariff_name</th>\n",
       "    </tr>\n",
       "  </thead>\n",
       "  <tbody>\n",
       "    <tr>\n",
       "      <th>1</th>\n",
       "      <td>1000</td>\n",
       "      <td>30720</td>\n",
       "      <td>3000</td>\n",
       "      <td>1950</td>\n",
       "      <td>150</td>\n",
       "      <td>1</td>\n",
       "      <td>1</td>\n",
       "      <td>ultra</td>\n",
       "    </tr>\n",
       "    <tr>\n",
       "      <th>0</th>\n",
       "      <td>50</td>\n",
       "      <td>15360</td>\n",
       "      <td>500</td>\n",
       "      <td>550</td>\n",
       "      <td>200</td>\n",
       "      <td>3</td>\n",
       "      <td>3</td>\n",
       "      <td>smart</td>\n",
       "    </tr>\n",
       "  </tbody>\n",
       "</table>\n",
       "</div>"
      ],
      "text/plain": [
       "   messages_included  mb_per_month_included  minutes_included  \\\n",
       "1               1000                  30720              3000   \n",
       "0                 50                  15360               500   \n",
       "\n",
       "   rub_monthly_fee  rub_per_gb  rub_per_message  rub_per_minute tariff_name  \n",
       "1             1950         150                1               1       ultra  \n",
       "0              550         200                3               3       smart  "
      ]
     },
     "metadata": {},
     "output_type": "display_data"
    },
    {
     "name": "stdout",
     "output_type": "stream",
     "text": [
      "____________________________________________________\n",
      "____________________________________________________\n",
      "\n"
     ]
    }
   ],
   "source": [
    "for i in dict_df:\n",
    "    print(i)\n",
    "    print()\n",
    "    print('Общая информация {}:'.format(i))\n",
    "    display(dict_df[i].info(memory_usage='deep'))\n",
    "    print('____________________________________________________')\n",
    "    print()\n",
    "    print('Описательная статистика строковых значений {}:'.format(i))\n",
    "    display(dict_df[i].describe(include='object').T)\n",
    "    print('____________________________________________________')\n",
    "    print()\n",
    "    print('Описательная статистика числовых значений {}:'.format(i))\n",
    "    display(dict_df[i].describe().T)\n",
    "    print('____________________________________________________')\n",
    "    print()\n",
    "    print('Процент пропущенных значений {}:'.format(i))\n",
    "    display(dict_df[i].isna().mean()*100)\n",
    "    print('____________________________________________________')\n",
    "    print()\n",
    "    print('Случайная выборка датафрейма {}:'.format(i))\n",
    "    if dict_df[i].shape[0] > 15:\n",
    "        display(dict_df[i].sample(n = 15, random_state = 0))\n",
    "    else:\n",
    "        display(dict_df[i].sample(n = dict_df[i].shape[0], random_state = 0))\n",
    "    print('____________________________________________________')\n",
    "    print('____________________________________________________')\n",
    "    print()"
   ]
  },
  {
   "cell_type": "markdown",
   "metadata": {},
   "source": [
    "***Вывод:***\n",
    "<a id=\"final_1\"></a>\n",
    "1. Датафрейм df_users (информация о пользователях):  \n",
    " 1.1. В датафрейме 500 строк и 8 полей. Размер датафрейма 229.6 KB.  \n",
    " 1.2. Поле \"reg_date\" (дата подключения тарифа) имеет тип \"object\". Следует изменить на тип \"date\".  \n",
    " 1.3. Поле \"churn_date\" (дата прекращения пользования тарифом) имеет тип \"object\". Следует изменить на тип \"date\".  \n",
    " 1.4. Поле \"tariff\" (название тарифного плана) – object. В поле всего 2 уникальных значения, поэтому целесообразно заменить тип на \"category\".  \n",
    " 1.5. В поле \"churn_date\" (дата прекращения пользования тарифом) пропущено 92.4% значений. То есть на момент выгрузки данных тариф ещё действовал. Обработка данных пропусков не требуется.  \n",
    "2. Датафрейм df_calls (информация о звонках):  \n",
    " 2.1. В датафрейме 202607 строк и 4 поля. Размер датафрейма 28.6 MB, пропущенных значений нет.  \n",
    " 2.2. Поле \"call_date\" (дата звонка) имеет тип \"object\". Следует изменить на тип \"date\".  \n",
    " 2.3. Минимальное значения поля \"duration\" (длительность звонка) - 0. Это характерно для пропущенных звонков, обрабатывать эти\n",
    "      значения не требуется.   \n",
    "3. Датафрейм df_messages (информация о сообщениях):  \n",
    " 3.1. В датафрейме 123036 строк и 3 поля. Размер датафрейма 16.4 MB, пропущенных значений нет.  \n",
    " 3.2. Поле \"message_date\" (дата сообщения) имеет тип \"object\". Следует изменить на тип \"date\".  \n",
    "4. Датафрейм df_internet (информация об интернет-сессиях):  \n",
    " 4.1. В датафрейме 149396 строк и 5 полей. Размер датафрейма 22.2 MB, пропущенных значений нет.  \n",
    " 4.2. Поле \"Unnamed: 0\" соответствует индексу строки. После дополнительной проверки имеет смысл его удалить.  \n",
    " 4.3. Поле \"session_date\" (дата интернет-сессии) имеет тип \"object\". Следует изменить на тип \"date\".  \n",
    " 4.4. Минимальное значения поля \"mb_used\" (объём потраченного за сессию интернет-трафика (в мегабайтах)) - 0. Это характерно для сессий, во время которых потрачено менее 1 MB, - обрабатывать эти значения не требуется.  \n",
    "5. Датафрейм df_tariffs (информация о тарифах):  \n",
    " 5.1. В датафрейме 2 строки и 8 полей. Размер датафрейма 364.0 bytes, пропущенных значений нет.  "
   ]
  },
  {
   "cell_type": "markdown",
   "metadata": {},
   "source": [
    "## Предобработка данных\n",
    "<a id=\"data_preprocessing\"></a>"
   ]
  },
  {
   "cell_type": "markdown",
   "metadata": {},
   "source": [
    "### Оптимизация типов данных\n",
    "<a id=\"change_type\"></a>"
   ]
  },
  {
   "cell_type": "markdown",
   "metadata": {},
   "source": [
    "#### Датафрейм df_users\n",
    "<a id=\"change_type_df_users\"></a>"
   ]
  },
  {
   "cell_type": "markdown",
   "metadata": {},
   "source": [
    "Приводим даты к типу \"datetime\":"
   ]
  },
  {
   "cell_type": "code",
   "execution_count": 5,
   "metadata": {},
   "outputs": [],
   "source": [
    "df_users['reg_date'] = pd.to_datetime(df_users['reg_date']).dt.to_period('M')\n",
    "df_users['churn_date'] = pd.to_datetime(df_users['churn_date']).dt.to_period('M')"
   ]
  },
  {
   "cell_type": "markdown",
   "metadata": {},
   "source": [
    "Приводим поля \"user_id\" и \"age\" к типам \"uint16\" и \"uint8\" соответственно:"
   ]
  },
  {
   "cell_type": "code",
   "execution_count": 6,
   "metadata": {},
   "outputs": [],
   "source": [
    "df_users = df_users.astype({'user_id' : 'uint16', 'age' : 'uint8'})"
   ]
  },
  {
   "cell_type": "markdown",
   "metadata": {},
   "source": [
    "Приводим значения текстовых полей к единому (нижнему) регистру:"
   ]
  },
  {
   "cell_type": "code",
   "execution_count": 7,
   "metadata": {},
   "outputs": [],
   "source": [
    "text_list_users = ['city', 'first_name', 'last_name', 'tariff']             #Список полей, содержащих текстовые данные\n",
    "for i in text_list_users:                                                        #Проходим циклом по списку\n",
    "    df_users[i] = df_users[i].apply(lambda x: x.lower())                   #Переводим в нижний регистр"
   ]
  },
  {
   "cell_type": "markdown",
   "metadata": {},
   "source": [
    "Рассчитываем долю уникальных значений полей \"city\" и \"tariff\". Если доля меньше 0.5, заменяем тип данных полей на \"category\"."
   ]
  },
  {
   "cell_type": "code",
   "execution_count": 8,
   "metadata": {
    "scrolled": true
   },
   "outputs": [
    {
     "name": "stdout",
     "output_type": "stream",
     "text": [
      "Процент уникальных значений city от общего количества = 15.20%\n",
      "Процент уникальных значений tariff от общего количества = 0.40%\n"
     ]
    }
   ],
   "source": [
    "cat_list_users = ['city', 'tariff']                                          #Список полей с категориальными значениями\n",
    "perc_list_users = []                                                           #Список для полей у которых будет изменен тип\n",
    "for i in cat_list_users:                                                     #Цикл по полям с категориальными значениями\n",
    "    percent = len(df_users[i].unique()) / len(df_users)                     #процент уникальных значений\n",
    "    print('Процент уникальных значений {} от общего количества = {:0.2%}'\n",
    "        .format(i, percent))\n",
    "    if percent < 50:                                                        #Если процент уникальных значений < 50\n",
    "        perc_list_users.append(i)                                              #Добавляем поле в список для изменения типа\n",
    "        \n",
    "if len(perc_list_users) != 0:                                                  #Если список не пустой\n",
    "    for i in perc_list_users:                                                  #Проходим циклом по списку полей для изменения типа\n",
    "        df_users = df_users.astype({i : 'category'})                        #меняем тип поля на \"category\""
   ]
  },
  {
   "cell_type": "markdown",
   "metadata": {},
   "source": [
    "Выводим общую информацию по датафрейму df_users:"
   ]
  },
  {
   "cell_type": "code",
   "execution_count": 9,
   "metadata": {
    "scrolled": false
   },
   "outputs": [
    {
     "name": "stdout",
     "output_type": "stream",
     "text": [
      "<class 'pandas.core.frame.DataFrame'>\n",
      "RangeIndex: 500 entries, 0 to 499\n",
      "Data columns (total 8 columns):\n",
      " #   Column      Non-Null Count  Dtype    \n",
      "---  ------      --------------  -----    \n",
      " 0   user_id     500 non-null    uint16   \n",
      " 1   age         500 non-null    uint8    \n",
      " 2   churn_date  38 non-null     period[M]\n",
      " 3   city        500 non-null    category \n",
      " 4   first_name  500 non-null    object   \n",
      " 5   last_name   500 non-null    object   \n",
      " 6   reg_date    500 non-null    period[M]\n",
      " 7   tariff      500 non-null    category \n",
      "dtypes: category(2), object(2), period[M](2), uint16(1), uint8(1)\n",
      "memory usage: 114.9 KB\n"
     ]
    }
   ],
   "source": [
    "df_users.info(memory_usage='deep')"
   ]
  },
  {
   "cell_type": "markdown",
   "metadata": {},
   "source": [
    "Типы данных изменены, объем таблицы уменьшен с 229.6 KB до 115.3 KB."
   ]
  },
  {
   "cell_type": "markdown",
   "metadata": {},
   "source": [
    "#### Датафрейм df_calls\n",
    "<a id=\"change_type_df_calls\"></a>"
   ]
  },
  {
   "cell_type": "markdown",
   "metadata": {},
   "source": [
    "Приводим даты к типу \"datetime\":"
   ]
  },
  {
   "cell_type": "code",
   "execution_count": 10,
   "metadata": {},
   "outputs": [],
   "source": [
    "df_calls['call_date'] = pd.to_datetime(df_calls['call_date']).dt.to_period('M')"
   ]
  },
  {
   "cell_type": "markdown",
   "metadata": {},
   "source": [
    "Приводим поле \"user_id\" к типу \"uint16\":"
   ]
  },
  {
   "cell_type": "code",
   "execution_count": 11,
   "metadata": {},
   "outputs": [],
   "source": [
    "df_calls['user_id'] = df_calls['user_id'].astype('uint16')"
   ]
  },
  {
   "cell_type": "markdown",
   "metadata": {},
   "source": [
    "Удаляем из значений поля \"id\" первую чаcть - \"user_id\", изменяем тип на \"uint16\" и переименовываем поле:"
   ]
  },
  {
   "cell_type": "code",
   "execution_count": 12,
   "metadata": {},
   "outputs": [],
   "source": [
    "df_calls['id'] = df_calls['id'].apply(lambda x: x.split('_')[1]).astype('uint16')\n",
    "df_calls.rename(columns = {'id' : 'call_number'}, inplace=True)"
   ]
  },
  {
   "cell_type": "markdown",
   "metadata": {},
   "source": [
    "Выводим общую информацию по датафрейму df_calls:"
   ]
  },
  {
   "cell_type": "code",
   "execution_count": 13,
   "metadata": {
    "scrolled": false
   },
   "outputs": [
    {
     "name": "stdout",
     "output_type": "stream",
     "text": [
      "<class 'pandas.core.frame.DataFrame'>\n",
      "RangeIndex: 202607 entries, 0 to 202606\n",
      "Data columns (total 4 columns):\n",
      " #   Column       Non-Null Count   Dtype    \n",
      "---  ------       --------------   -----    \n",
      " 0   call_number  202607 non-null  uint16   \n",
      " 1   call_date    202607 non-null  period[M]\n",
      " 2   duration     202607 non-null  float64  \n",
      " 3   user_id      202607 non-null  uint16   \n",
      "dtypes: float64(1), period[M](1), uint16(2)\n",
      "memory usage: 3.9 MB\n"
     ]
    }
   ],
   "source": [
    "df_calls.info(memory_usage='deep')"
   ]
  },
  {
   "cell_type": "markdown",
   "metadata": {},
   "source": [
    "Типы данных изменены, объем таблицы уменьшен с 28.6 MB до 2.7 MB."
   ]
  },
  {
   "cell_type": "markdown",
   "metadata": {},
   "source": [
    "#### Датафрейм df_messages\n",
    "<a id=\"change_type_df_messages\"></a>"
   ]
  },
  {
   "cell_type": "markdown",
   "metadata": {},
   "source": [
    "Приводим даты к типу \"datetime\":"
   ]
  },
  {
   "cell_type": "code",
   "execution_count": 14,
   "metadata": {},
   "outputs": [],
   "source": [
    "df_messages['message_date'] = pd.to_datetime(df_messages['message_date']).dt.to_period('M')"
   ]
  },
  {
   "cell_type": "markdown",
   "metadata": {},
   "source": [
    "Приводим поле \"user_id\" к типу \"uint16\":"
   ]
  },
  {
   "cell_type": "code",
   "execution_count": 15,
   "metadata": {},
   "outputs": [],
   "source": [
    "df_messages['user_id'] = df_messages['user_id'].astype('uint16')"
   ]
  },
  {
   "cell_type": "markdown",
   "metadata": {},
   "source": [
    "Удаляем из значений поля \"id\" первую чаcть - \"user_id\", изменяем тип на \"uint16\" и переименовываем поле:"
   ]
  },
  {
   "cell_type": "code",
   "execution_count": 16,
   "metadata": {},
   "outputs": [],
   "source": [
    "df_messages['id'] = df_messages['id'].apply(lambda x: x.split('_')[1]).astype('uint16')\n",
    "df_messages.rename(columns = {'id' : 'number_messages'}, inplace=True)"
   ]
  },
  {
   "cell_type": "markdown",
   "metadata": {},
   "source": [
    "Выводим общую информацию по датафрейму df_messages:"
   ]
  },
  {
   "cell_type": "code",
   "execution_count": 17,
   "metadata": {
    "scrolled": false
   },
   "outputs": [
    {
     "name": "stdout",
     "output_type": "stream",
     "text": [
      "<class 'pandas.core.frame.DataFrame'>\n",
      "RangeIndex: 123036 entries, 0 to 123035\n",
      "Data columns (total 3 columns):\n",
      " #   Column           Non-Null Count   Dtype    \n",
      "---  ------           --------------   -----    \n",
      " 0   number_messages  123036 non-null  uint16   \n",
      " 1   message_date     123036 non-null  period[M]\n",
      " 2   user_id          123036 non-null  uint16   \n",
      "dtypes: period[M](1), uint16(2)\n",
      "memory usage: 1.4 MB\n"
     ]
    }
   ],
   "source": [
    "df_messages.info(memory_usage='deep')"
   ]
  },
  {
   "cell_type": "markdown",
   "metadata": {},
   "source": [
    "Типы данных изменены, объем таблицы уменьшен с 16.4 MB до 1.4 MB."
   ]
  },
  {
   "cell_type": "markdown",
   "metadata": {},
   "source": [
    "#### Датафрейм df_internet\n",
    "<a id=\"change_type_df_internet\"></a>"
   ]
  },
  {
   "cell_type": "markdown",
   "metadata": {},
   "source": [
    "Приводим даты к типу \"datetime\":"
   ]
  },
  {
   "cell_type": "code",
   "execution_count": 18,
   "metadata": {},
   "outputs": [],
   "source": [
    "df_internet['session_date'] = pd.to_datetime(df_internet['session_date']).dt.to_period('M')"
   ]
  },
  {
   "cell_type": "markdown",
   "metadata": {},
   "source": [
    "Приводим поле \"user_id\" к типу \"uint16\":"
   ]
  },
  {
   "cell_type": "code",
   "execution_count": 19,
   "metadata": {},
   "outputs": [],
   "source": [
    "df_internet['user_id'] = df_internet['user_id'].astype('uint16')"
   ]
  },
  {
   "cell_type": "markdown",
   "metadata": {},
   "source": [
    "Убираем из таблицы поле \"Unnamed: 0\":"
   ]
  },
  {
   "cell_type": "code",
   "execution_count": 20,
   "metadata": {},
   "outputs": [],
   "source": [
    "df_internet = df_internet[['id', 'mb_used', 'session_date', 'user_id']]"
   ]
  },
  {
   "cell_type": "markdown",
   "metadata": {},
   "source": [
    " Удаляем из значений поля \"id\" первую чаcть - \"user_id\", изменяем тип на \"uint16\" и переименовываем поле:"
   ]
  },
  {
   "cell_type": "code",
   "execution_count": 21,
   "metadata": {},
   "outputs": [],
   "source": [
    "df_internet['session_number'] = df_internet['id'].apply(lambda x: x.split('_')[1]).astype('uint16')\n",
    "df_internet = df_internet[['session_number', 'mb_used', 'session_date', 'user_id']]"
   ]
  },
  {
   "cell_type": "markdown",
   "metadata": {},
   "source": [
    "Выводим общую информацию по датафрейму df_internet:"
   ]
  },
  {
   "cell_type": "code",
   "execution_count": 22,
   "metadata": {
    "scrolled": false
   },
   "outputs": [
    {
     "name": "stdout",
     "output_type": "stream",
     "text": [
      "<class 'pandas.core.frame.DataFrame'>\n",
      "RangeIndex: 149396 entries, 0 to 149395\n",
      "Data columns (total 4 columns):\n",
      " #   Column          Non-Null Count   Dtype    \n",
      "---  ------          --------------   -----    \n",
      " 0   session_number  149396 non-null  uint16   \n",
      " 1   mb_used         149396 non-null  float64  \n",
      " 2   session_date    149396 non-null  period[M]\n",
      " 3   user_id         149396 non-null  uint16   \n",
      "dtypes: float64(1), period[M](1), uint16(2)\n",
      "memory usage: 2.8 MB\n"
     ]
    }
   ],
   "source": [
    "df_internet.info(memory_usage='deep')"
   ]
  },
  {
   "cell_type": "markdown",
   "metadata": {},
   "source": [
    "Типы данных изменены, объем таблицы уменьшен с 22.2 MB до 2.8 MB. Удалено поле \"Unnamed: 0\"."
   ]
  },
  {
   "cell_type": "markdown",
   "metadata": {},
   "source": [
    "#### Датафрейм df_tariffs\n",
    "<a id=\"change_type_df_tariffs\"></a>"
   ]
  },
  {
   "cell_type": "markdown",
   "metadata": {},
   "source": [
    "Приводим поля \"messages_included\", \"mb_per_month_included\", \"minutes_included\", \"rub_monthly_fee\" к типу \"uint16\", а \"rub_per_gb\", \"rub_per_message\" и \"rub_per_minute\" к типу \"uint8\":"
   ]
  },
  {
   "cell_type": "code",
   "execution_count": 23,
   "metadata": {},
   "outputs": [],
   "source": [
    "df_tariffs = df_tariffs.astype({'messages_included' : 'uint16', 'mb_per_month_included' : 'uint16',\n",
    "                                'minutes_included' : 'uint16', 'rub_monthly_fee' : 'uint16', 'rub_per_gb' : 'uint8',\n",
    "                                'rub_per_message' : 'uint8', 'rub_per_minute' : 'uint8', 'tariff_name' : 'category'})"
   ]
  },
  {
   "cell_type": "markdown",
   "metadata": {},
   "source": [
    "Выводим общую информацию по датафрейму df_tariffs:"
   ]
  },
  {
   "cell_type": "code",
   "execution_count": 24,
   "metadata": {
    "scrolled": false
   },
   "outputs": [
    {
     "name": "stdout",
     "output_type": "stream",
     "text": [
      "<class 'pandas.core.frame.DataFrame'>\n",
      "RangeIndex: 2 entries, 0 to 1\n",
      "Data columns (total 8 columns):\n",
      " #   Column                 Non-Null Count  Dtype   \n",
      "---  ------                 --------------  -----   \n",
      " 0   messages_included      2 non-null      uint16  \n",
      " 1   mb_per_month_included  2 non-null      uint16  \n",
      " 2   minutes_included       2 non-null      uint16  \n",
      " 3   rub_monthly_fee        2 non-null      uint16  \n",
      " 4   rub_per_gb             2 non-null      uint8   \n",
      " 5   rub_per_message        2 non-null      uint8   \n",
      " 6   rub_per_minute         2 non-null      uint8   \n",
      " 7   tariff_name            2 non-null      category\n",
      "dtypes: category(1), uint16(4), uint8(3)\n",
      "memory usage: 384.0 bytes\n"
     ]
    }
   ],
   "source": [
    "df_tariffs.info(memory_usage='deep')"
   ]
  },
  {
   "cell_type": "markdown",
   "metadata": {},
   "source": [
    "Типы данных изменены, объем таблицы уменьшен с 364.0 bytes до 274.0 bytes."
   ]
  },
  {
   "cell_type": "markdown",
   "metadata": {},
   "source": [
    "### Удаление выбросов\n",
    "<a id=\"remove\"></a>"
   ]
  },
  {
   "cell_type": "markdown",
   "metadata": {},
   "source": [
    "Определяем наличие выбросов по времени звонка и объему трафика за сессию. Убираем значения, не попадающие в диапазон от от Q1-3*IQR до Q3+3*IQR."
   ]
  },
  {
   "cell_type": "markdown",
   "metadata": {},
   "source": [
    "***Датафрейм df_calls***\n",
    "<a id=\"remove_df_calls\"></a>"
   ]
  },
  {
   "cell_type": "markdown",
   "metadata": {},
   "source": [
    "Проверяем на выбросы:"
   ]
  },
  {
   "cell_type": "code",
   "execution_count": 25,
   "metadata": {
    "scrolled": true
   },
   "outputs": [
    {
     "data": {
      "image/png": "[encoded data removed]",
      "text/plain": [
       "<Figure size 640x480 with 1 Axes>"
      ]
     },
     "metadata": {},
     "output_type": "display_data"
    },
    {
     "data": {
      "image/png": "[encoded data removed]",
      "text/plain": [
       "<Figure size 500x500 with 1 Axes>"
      ]
     },
     "metadata": {},
     "output_type": "display_data"
    }
   ],
   "source": [
    "ax = df_calls['duration'].hist(bins=100)\n",
    "ax.set_title('Распределение звонков по продолжительности')\n",
    "ax.set_xlabel('Продолжительность звонков')\n",
    "ax.set_ylabel('Количество')\n",
    "ax1 = sns.catplot(kind='box', x='duration', data=df_calls)\n",
    "plt.show()"
   ]
  },
  {
   "cell_type": "markdown",
   "metadata": {},
   "source": [
    "Удаляем выбросы:"
   ]
  },
  {
   "cell_type": "code",
   "execution_count": 26,
   "metadata": {
    "scrolled": true
   },
   "outputs": [
    {
     "data": {
      "image/png": "[encoded data removed]",
      "text/plain": [
       "<Figure size 640x480 with 1 Axes>"
      ]
     },
     "metadata": {},
     "output_type": "display_data"
    },
    {
     "name": "stdout",
     "output_type": "stream",
     "text": [
      "Удалено строк: 0\n"
     ]
    }
   ],
   "source": [
    "del_calls = len(df_calls.index)                             # число строк в таблице\n",
    "q25 = df_calls['duration'].quantile(0.25)                               # вычисляем 1-ую квантиль\n",
    "q75 = df_calls['duration'].quantile(0.75)                               # вычисляем 3-ую квантиль                               \n",
    "minimum = q25 - 3 * (q75 - q25)                               # нижняя граница\n",
    "maximum = q75 + 3 * (q75 - q25)\n",
    "df_calls = df_calls.loc[(df_calls['duration'] >= minimum) & (df_calls['duration'] <= maximum)].reset_index(drop=True)\n",
    "ax = df_calls['duration'].hist(bins=100)\n",
    "ax.set_title('Распределение звонков по продолжительности')\n",
    "ax.set_xlabel('Продолжительность звонков')\n",
    "ax.set_ylabel('Количество')\n",
    "plt.show()\n",
    "print('Удалено строк:', del_calls - len(df_calls.index))"
   ]
  },
  {
   "cell_type": "markdown",
   "metadata": {},
   "source": [
    "***Датафрейм df_internet***\n",
    "<a id=\"remove_df_internet\"></a>"
   ]
  },
  {
   "cell_type": "markdown",
   "metadata": {},
   "source": [
    "Проверяем на выбросы:"
   ]
  },
  {
   "cell_type": "code",
   "execution_count": 27,
   "metadata": {
    "scrolled": true
   },
   "outputs": [
    {
     "data": {
      "image/png": "[encoded data removed]",
      "text/plain": [
       "<Figure size 640x480 with 1 Axes>"
      ]
     },
     "metadata": {},
     "output_type": "display_data"
    },
    {
     "data": {
      "image/png": "[encoded data removed]",
      "text/plain": [
       "<Figure size 500x500 with 1 Axes>"
      ]
     },
     "metadata": {},
     "output_type": "display_data"
    }
   ],
   "source": [
    "ax = df_internet['mb_used'].hist(bins=100)\n",
    "ax.set_title('Распределение использования интернет-трафика по продолжительности')\n",
    "ax.set_xlabel('Объем использованного интернет-трафика, MB')\n",
    "ax.set_ylabel('Количество')\n",
    "ax1 = sns.catplot(kind='box', x='mb_used', data=df_internet)\n",
    "plt.show()"
   ]
  },
  {
   "cell_type": "markdown",
   "metadata": {},
   "source": [
    "Удаляем выбросы, если таковые есть:"
   ]
  },
  {
   "cell_type": "code",
   "execution_count": 28,
   "metadata": {
    "scrolled": false
   },
   "outputs": [
    {
     "data": {
      "image/png": "[encoded data removed]",
      "text/plain": [
       "<Figure size 640x480 with 1 Axes>"
      ]
     },
     "metadata": {},
     "output_type": "display_data"
    },
    {
     "name": "stdout",
     "output_type": "stream",
     "text": [
      "Удалено строк: 0\n"
     ]
    }
   ],
   "source": [
    "del_internet = len(df_internet.index)                             # число строк в таблице\n",
    "q25 = df_internet['mb_used'].quantile(0.25)                               # вычисляем 1-ую квантиль\n",
    "q75 = df_internet['mb_used'].quantile(0.75)                               # вычисляем 3-ую квантиль                               \n",
    "minimum = q25 - 3 * (q75 - q25)                               # нижняя граница\n",
    "maximum = q75 + 3 * (q75 - q25)\n",
    "df_internet = df_internet.loc[(df_internet['mb_used'] >= minimum) & (df_internet['mb_used'] <= maximum)].reset_index(drop=True)\n",
    "ax = df_internet['mb_used'].hist(bins=100)\n",
    "ax.set_title('Распределение использования интернет-трафика по продолжительности')\n",
    "ax.set_xlabel('Объем использованного интернет-трафика, MB')\n",
    "ax.set_ylabel('Количество')\n",
    "plt.show()\n",
    "print('Удалено строк:', del_internet - len(df_internet.index))"
   ]
  },
  {
   "cell_type": "markdown",
   "metadata": {},
   "source": [
    "### Объединение таблиц\n",
    "<a id=\"united_table\"></a>"
   ]
  },
  {
   "cell_type": "markdown",
   "metadata": {},
   "source": [
    "Округляем минуты до целых значений в большую сторону, согласно алгоритму подсчета времени звонка, применяемому оператором:"
   ]
  },
  {
   "cell_type": "code",
   "execution_count": 29,
   "metadata": {},
   "outputs": [],
   "source": [
    "df_calls['duration'] = np.ceil(df_calls['duration']).astype('uint16')"
   ]
  },
  {
   "cell_type": "markdown",
   "metadata": {},
   "source": [
    "Создаем функцию подготовки датафрейсов к объединению. Группируем таблицы по полю \"user_id\" (уникальный идентификатор пользователя) и месяцам использования тарифа:"
   ]
  },
  {
   "cell_type": "code",
   "execution_count": 30,
   "metadata": {},
   "outputs": [],
   "source": [
    "def group_df(df, user_id, date, param, num):\n",
    "    if param != 0:\n",
    "        df_group = (\n",
    "            df\n",
    "            .groupby([user_id, date])\n",
    "            .agg({param : 'sum', num : 'count'})\n",
    "            .reset_index()\n",
    "            .rename(columns = {date : 'active_month'})\n",
    "        )\n",
    "    else:\n",
    "        df_group = (\n",
    "            df\n",
    "            .groupby([user_id, date])\n",
    "            .agg({num : 'count'})\n",
    "            .reset_index()\n",
    "            .rename(columns = {date : 'active_month'})\n",
    "        )\n",
    "    return df_group   "
   ]
  },
  {
   "cell_type": "markdown",
   "metadata": {},
   "source": [
    "Подготавливаем датафреймы к объединению:"
   ]
  },
  {
   "cell_type": "code",
   "execution_count": 31,
   "metadata": {},
   "outputs": [],
   "source": [
    "df_calls_group = group_df(df_calls, 'user_id', 'call_date', 'duration', 'call_number')\n",
    "df_messages_group = group_df(df_messages, 'user_id', 'message_date', 0, 'number_messages')\n",
    "df_internet_group = group_df(df_internet, 'user_id', 'session_date', 'mb_used', 'session_number')"
   ]
  },
  {
   "cell_type": "markdown",
   "metadata": {},
   "source": [
    "Объединяем таблицы:"
   ]
  },
  {
   "cell_type": "code",
   "execution_count": 32,
   "metadata": {},
   "outputs": [],
   "source": [
    "# Создаем список датафреймов с данными по использованию тарифов\n",
    "df_list = [df_calls_group, df_messages_group, df_internet_group]\n",
    "\n",
    "# Объединяем датафреймы с данными по использованию тарифов\n",
    "df_full = reduce(lambda left,right: pd.merge(left, right, on=['user_id', 'active_month'], how='outer'), df_list).fillna(0)\n",
    "\n",
    "\n",
    "# Добавляем в датафрейм \"df_full\" данные по пользователям и тарифам.\n",
    "# Поскольку могут быть пользователи, подключившиеся к тарифу, но не пользующиеся услугами, при присоединении \"df_users\"\n",
    "# используем \"right\".\n",
    "df_full = (\n",
    "    df_full\n",
    "    .merge(df_users, how='right', left_on='user_id', right_on='user_id')\n",
    "    .merge(df_tariffs, how='left', left_on='tariff', right_on='tariff_name')\n",
    "    .sort_values(by=['user_id', 'active_month'])\n",
    "          )\n",
    "\n",
    "# Оставляем в df_full только поля, необходимые для анализа\n",
    "df_full = df_full[['user_id', 'city', 'reg_date', 'active_month', 'duration', 'call_number', 'number_messages', 'session_number',\n",
    "                   'mb_used', 'tariff', 'messages_included', 'mb_per_month_included', 'minutes_included',\n",
    "                   'rub_monthly_fee', 'rub_per_gb', 'rub_per_message', 'rub_per_minute']]"
   ]
  },
  {
   "cell_type": "markdown",
   "metadata": {},
   "source": [
    "Заменяем в полях \"duration\" (продолжительность звонков), \"call_number\" (количество звонков), \"number_messages\" (количество сообщений), \"session_number\" (количество интернет-сессий) и \"mb_used\" (количество использованного интернет-трафика) пропуски на 0, так как от соответствующих пользователей нет выручки, что нужно учесть в расчетах:"
   ]
  },
  {
   "cell_type": "code",
   "execution_count": 33,
   "metadata": {},
   "outputs": [],
   "source": [
    "df_full[['duration', 'call_number', 'number_messages', 'session_number', 'mb_used']] = (\n",
    "    df_full[['duration', 'call_number', 'number_messages', 'session_number', 'mb_used']]\n",
    "    .fillna(0)\n",
    "    .astype({'duration' : 'uint16', 'call_number' : 'uint16', 'number_messages' : 'uint16', 'session_number' : 'uint16'})\n",
    ")"
   ]
  },
  {
   "cell_type": "markdown",
   "metadata": {},
   "source": [
    "Округляем объём потраченного за сессию интернет-трафика до гигабайтов в большую сторону, в соответствие с алгоритмом учета оператора:"
   ]
  },
  {
   "cell_type": "code",
   "execution_count": 34,
   "metadata": {},
   "outputs": [],
   "source": [
    "df_full['gb_used'] = np.ceil(df_full['mb_used'] / 1024).astype('uint16')"
   ]
  },
  {
   "cell_type": "markdown",
   "metadata": {},
   "source": [
    "Переводим объём интернет-трафика, включённого в абонентскую плату (\"mb_per_month_included\"), в гигабайты:"
   ]
  },
  {
   "cell_type": "code",
   "execution_count": 35,
   "metadata": {},
   "outputs": [],
   "source": [
    "df_full['gb_per_month_included'] = (df_full['mb_per_month_included'] / 1024).astype('uint16')"
   ]
  },
  {
   "cell_type": "markdown",
   "metadata": {},
   "source": [
    "Выводим 5 строк объединённой таблицы:"
   ]
  },
  {
   "cell_type": "code",
   "execution_count": 36,
   "metadata": {
    "scrolled": false
   },
   "outputs": [
    {
     "data": {
      "text/html": [
       "<div>\n",
       "<style scoped>\n",
       "    .dataframe tbody tr th:only-of-type {\n",
       "        vertical-align: middle;\n",
       "    }\n",
       "\n",
       "    .dataframe tbody tr th {\n",
       "        vertical-align: top;\n",
       "    }\n",
       "\n",
       "    .dataframe thead th {\n",
       "        text-align: right;\n",
       "    }\n",
       "</style>\n",
       "<table border=\"1\" class=\"dataframe\">\n",
       "  <thead>\n",
       "    <tr style=\"text-align: right;\">\n",
       "      <th></th>\n",
       "      <th>user_id</th>\n",
       "      <th>city</th>\n",
       "      <th>reg_date</th>\n",
       "      <th>active_month</th>\n",
       "      <th>duration</th>\n",
       "      <th>call_number</th>\n",
       "      <th>number_messages</th>\n",
       "      <th>session_number</th>\n",
       "      <th>mb_used</th>\n",
       "      <th>tariff</th>\n",
       "      <th>messages_included</th>\n",
       "      <th>mb_per_month_included</th>\n",
       "      <th>minutes_included</th>\n",
       "      <th>rub_monthly_fee</th>\n",
       "      <th>rub_per_gb</th>\n",
       "      <th>rub_per_message</th>\n",
       "      <th>rub_per_minute</th>\n",
       "      <th>gb_used</th>\n",
       "      <th>gb_per_month_included</th>\n",
       "    </tr>\n",
       "  </thead>\n",
       "  <tbody>\n",
       "    <tr>\n",
       "      <th>527</th>\n",
       "      <td>1083</td>\n",
       "      <td>сочи</td>\n",
       "      <td>2018-04</td>\n",
       "      <td>2018-11</td>\n",
       "      <td>610</td>\n",
       "      <td>81</td>\n",
       "      <td>56</td>\n",
       "      <td>56</td>\n",
       "      <td>19383.88</td>\n",
       "      <td>smart</td>\n",
       "      <td>50</td>\n",
       "      <td>15360</td>\n",
       "      <td>500</td>\n",
       "      <td>550</td>\n",
       "      <td>200</td>\n",
       "      <td>3</td>\n",
       "      <td>3</td>\n",
       "      <td>19</td>\n",
       "      <td>15</td>\n",
       "    </tr>\n",
       "    <tr>\n",
       "      <th>883</th>\n",
       "      <td>1142</td>\n",
       "      <td>новосибирск</td>\n",
       "      <td>2018-03</td>\n",
       "      <td>2018-03</td>\n",
       "      <td>81</td>\n",
       "      <td>10</td>\n",
       "      <td>8</td>\n",
       "      <td>14</td>\n",
       "      <td>4986.89</td>\n",
       "      <td>smart</td>\n",
       "      <td>50</td>\n",
       "      <td>15360</td>\n",
       "      <td>500</td>\n",
       "      <td>550</td>\n",
       "      <td>200</td>\n",
       "      <td>3</td>\n",
       "      <td>3</td>\n",
       "      <td>5</td>\n",
       "      <td>15</td>\n",
       "    </tr>\n",
       "    <tr>\n",
       "      <th>2847</th>\n",
       "      <td>1440</td>\n",
       "      <td>москва</td>\n",
       "      <td>2018-05</td>\n",
       "      <td>2018-11</td>\n",
       "      <td>169</td>\n",
       "      <td>27</td>\n",
       "      <td>97</td>\n",
       "      <td>36</td>\n",
       "      <td>17718.92</td>\n",
       "      <td>ultra</td>\n",
       "      <td>1000</td>\n",
       "      <td>30720</td>\n",
       "      <td>3000</td>\n",
       "      <td>1950</td>\n",
       "      <td>150</td>\n",
       "      <td>1</td>\n",
       "      <td>1</td>\n",
       "      <td>18</td>\n",
       "      <td>30</td>\n",
       "    </tr>\n",
       "    <tr>\n",
       "      <th>3028</th>\n",
       "      <td>1471</td>\n",
       "      <td>вологда</td>\n",
       "      <td>2018-02</td>\n",
       "      <td>2018-06</td>\n",
       "      <td>650</td>\n",
       "      <td>111</td>\n",
       "      <td>94</td>\n",
       "      <td>19</td>\n",
       "      <td>8792.86</td>\n",
       "      <td>ultra</td>\n",
       "      <td>1000</td>\n",
       "      <td>30720</td>\n",
       "      <td>3000</td>\n",
       "      <td>1950</td>\n",
       "      <td>150</td>\n",
       "      <td>1</td>\n",
       "      <td>1</td>\n",
       "      <td>9</td>\n",
       "      <td>30</td>\n",
       "    </tr>\n",
       "    <tr>\n",
       "      <th>2265</th>\n",
       "      <td>1358</td>\n",
       "      <td>ставрополь</td>\n",
       "      <td>2018-02</td>\n",
       "      <td>2018-11</td>\n",
       "      <td>607</td>\n",
       "      <td>87</td>\n",
       "      <td>66</td>\n",
       "      <td>31</td>\n",
       "      <td>8496.84</td>\n",
       "      <td>smart</td>\n",
       "      <td>50</td>\n",
       "      <td>15360</td>\n",
       "      <td>500</td>\n",
       "      <td>550</td>\n",
       "      <td>200</td>\n",
       "      <td>3</td>\n",
       "      <td>3</td>\n",
       "      <td>9</td>\n",
       "      <td>15</td>\n",
       "    </tr>\n",
       "  </tbody>\n",
       "</table>\n",
       "</div>"
      ],
      "text/plain": [
       "      user_id         city reg_date active_month  duration  call_number  \\\n",
       "527      1083         сочи  2018-04      2018-11       610           81   \n",
       "883      1142  новосибирск  2018-03      2018-03        81           10   \n",
       "2847     1440       москва  2018-05      2018-11       169           27   \n",
       "3028     1471      вологда  2018-02      2018-06       650          111   \n",
       "2265     1358   ставрополь  2018-02      2018-11       607           87   \n",
       "\n",
       "      number_messages  session_number   mb_used tariff  messages_included  \\\n",
       "527                56              56  19383.88  smart                 50   \n",
       "883                 8              14   4986.89  smart                 50   \n",
       "2847               97              36  17718.92  ultra               1000   \n",
       "3028               94              19   8792.86  ultra               1000   \n",
       "2265               66              31   8496.84  smart                 50   \n",
       "\n",
       "      mb_per_month_included  minutes_included  rub_monthly_fee  rub_per_gb  \\\n",
       "527                   15360               500              550         200   \n",
       "883                   15360               500              550         200   \n",
       "2847                  30720              3000             1950         150   \n",
       "3028                  30720              3000             1950         150   \n",
       "2265                  15360               500              550         200   \n",
       "\n",
       "      rub_per_message  rub_per_minute  gb_used  gb_per_month_included  \n",
       "527                 3               3       19                     15  \n",
       "883                 3               3        5                     15  \n",
       "2847                1               1       18                     30  \n",
       "3028                1               1        9                     30  \n",
       "2265                3               3        9                     15  "
      ]
     },
     "execution_count": 36,
     "metadata": {},
     "output_type": "execute_result"
    }
   ],
   "source": [
    "df_full.sample(n=5, random_state=0)"
   ]
  },
  {
   "cell_type": "markdown",
   "metadata": {},
   "source": [
    "Выводим общую информацию по объединённому датафрейму:"
   ]
  },
  {
   "cell_type": "code",
   "execution_count": 37,
   "metadata": {
    "scrolled": true
   },
   "outputs": [
    {
     "name": "stdout",
     "output_type": "stream",
     "text": [
      "<class 'pandas.core.frame.DataFrame'>\n",
      "Int64Index: 3216 entries, 0 to 3215\n",
      "Data columns (total 19 columns):\n",
      " #   Column                 Non-Null Count  Dtype    \n",
      "---  ------                 --------------  -----    \n",
      " 0   user_id                3216 non-null   uint64   \n",
      " 1   city                   3216 non-null   category \n",
      " 2   reg_date               3216 non-null   period[M]\n",
      " 3   active_month           3214 non-null   period[M]\n",
      " 4   duration               3216 non-null   uint16   \n",
      " 5   call_number            3216 non-null   uint16   \n",
      " 6   number_messages        3216 non-null   uint16   \n",
      " 7   session_number         3216 non-null   uint16   \n",
      " 8   mb_used                3216 non-null   float64  \n",
      " 9   tariff                 3216 non-null   category \n",
      " 10  messages_included      3216 non-null   uint16   \n",
      " 11  mb_per_month_included  3216 non-null   uint16   \n",
      " 12  minutes_included       3216 non-null   uint16   \n",
      " 13  rub_monthly_fee        3216 non-null   uint16   \n",
      " 14  rub_per_gb             3216 non-null   uint8    \n",
      " 15  rub_per_message        3216 non-null   uint8    \n",
      " 16  rub_per_minute         3216 non-null   uint8    \n",
      " 17  gb_used                3216 non-null   uint16   \n",
      " 18  gb_per_month_included  3216 non-null   uint16   \n",
      "dtypes: category(2), float64(1), period[M](2), uint16(10), uint64(1), uint8(3)\n",
      "memory usage: 215.0 KB\n"
     ]
    }
   ],
   "source": [
    "df_full.info(memory_usage='deep')"
   ]
  },
  {
   "cell_type": "markdown",
   "metadata": {},
   "source": [
    "В таблице 3216 строк и 17 полей. В двух строках пропущены значения поля \"active_month\" - есть пользователи, подключившиеся к тарифу, но услугами не пользующиеся услугами."
   ]
  },
  {
   "cell_type": "markdown",
   "metadata": {},
   "source": [
    "### Расчет выручки с каждого пользователя\n",
    "<a id=\"revenue\"></a>"
   ]
  },
  {
   "cell_type": "markdown",
   "metadata": {},
   "source": [
    "Рассчитываем ежемесячную выручку с каждого пользователя:"
   ]
  },
  {
   "cell_type": "code",
   "execution_count": 38,
   "metadata": {},
   "outputs": [],
   "source": [
    "def revenue(df):\n",
    "    rev = df['rub_monthly_fee']\n",
    "    if df['duration'] > df['minutes_included']:\n",
    "        rev += (df['duration'] - df['minutes_included']) * df['rub_per_minute']\n",
    "    if df['number_messages'] > df['messages_included']:\n",
    "        rev += (df['number_messages'] - df['messages_included']) * df['rub_per_message']\n",
    "    if df['gb_used'] > df['gb_per_month_included']:\n",
    "        rev += (df['gb_used'] - df['gb_per_month_included']) * df['rub_per_gb']\n",
    "    return rev"
   ]
  },
  {
   "cell_type": "code",
   "execution_count": 39,
   "metadata": {},
   "outputs": [],
   "source": [
    "df_full['revenue'] = df_full.apply(revenue, axis=1)"
   ]
  },
  {
   "cell_type": "markdown",
   "metadata": {},
   "source": [
    "Рассчитываем ежемесячную переплату за перерасход тарифа:"
   ]
  },
  {
   "cell_type": "code",
   "execution_count": 40,
   "metadata": {},
   "outputs": [],
   "source": [
    "df_full['overpayment'] = df_full['revenue'] - df_full['rub_monthly_fee']"
   ]
  },
  {
   "cell_type": "markdown",
   "metadata": {},
   "source": [
    "Выводим 5 строк объединённой таблицы:"
   ]
  },
  {
   "cell_type": "code",
   "execution_count": 41,
   "metadata": {},
   "outputs": [
    {
     "data": {
      "text/html": [
       "<div>\n",
       "<style scoped>\n",
       "    .dataframe tbody tr th:only-of-type {\n",
       "        vertical-align: middle;\n",
       "    }\n",
       "\n",
       "    .dataframe tbody tr th {\n",
       "        vertical-align: top;\n",
       "    }\n",
       "\n",
       "    .dataframe thead th {\n",
       "        text-align: right;\n",
       "    }\n",
       "</style>\n",
       "<table border=\"1\" class=\"dataframe\">\n",
       "  <thead>\n",
       "    <tr style=\"text-align: right;\">\n",
       "      <th></th>\n",
       "      <th>user_id</th>\n",
       "      <th>city</th>\n",
       "      <th>reg_date</th>\n",
       "      <th>active_month</th>\n",
       "      <th>duration</th>\n",
       "      <th>call_number</th>\n",
       "      <th>number_messages</th>\n",
       "      <th>session_number</th>\n",
       "      <th>mb_used</th>\n",
       "      <th>tariff</th>\n",
       "      <th>...</th>\n",
       "      <th>mb_per_month_included</th>\n",
       "      <th>minutes_included</th>\n",
       "      <th>rub_monthly_fee</th>\n",
       "      <th>rub_per_gb</th>\n",
       "      <th>rub_per_message</th>\n",
       "      <th>rub_per_minute</th>\n",
       "      <th>gb_used</th>\n",
       "      <th>gb_per_month_included</th>\n",
       "      <th>revenue</th>\n",
       "      <th>overpayment</th>\n",
       "    </tr>\n",
       "  </thead>\n",
       "  <tbody>\n",
       "    <tr>\n",
       "      <th>527</th>\n",
       "      <td>1083</td>\n",
       "      <td>сочи</td>\n",
       "      <td>2018-04</td>\n",
       "      <td>2018-11</td>\n",
       "      <td>610</td>\n",
       "      <td>81</td>\n",
       "      <td>56</td>\n",
       "      <td>56</td>\n",
       "      <td>19383.88</td>\n",
       "      <td>smart</td>\n",
       "      <td>...</td>\n",
       "      <td>15360</td>\n",
       "      <td>500</td>\n",
       "      <td>550</td>\n",
       "      <td>200</td>\n",
       "      <td>3</td>\n",
       "      <td>3</td>\n",
       "      <td>19</td>\n",
       "      <td>15</td>\n",
       "      <td>1698</td>\n",
       "      <td>1148</td>\n",
       "    </tr>\n",
       "    <tr>\n",
       "      <th>883</th>\n",
       "      <td>1142</td>\n",
       "      <td>новосибирск</td>\n",
       "      <td>2018-03</td>\n",
       "      <td>2018-03</td>\n",
       "      <td>81</td>\n",
       "      <td>10</td>\n",
       "      <td>8</td>\n",
       "      <td>14</td>\n",
       "      <td>4986.89</td>\n",
       "      <td>smart</td>\n",
       "      <td>...</td>\n",
       "      <td>15360</td>\n",
       "      <td>500</td>\n",
       "      <td>550</td>\n",
       "      <td>200</td>\n",
       "      <td>3</td>\n",
       "      <td>3</td>\n",
       "      <td>5</td>\n",
       "      <td>15</td>\n",
       "      <td>550</td>\n",
       "      <td>0</td>\n",
       "    </tr>\n",
       "    <tr>\n",
       "      <th>2847</th>\n",
       "      <td>1440</td>\n",
       "      <td>москва</td>\n",
       "      <td>2018-05</td>\n",
       "      <td>2018-11</td>\n",
       "      <td>169</td>\n",
       "      <td>27</td>\n",
       "      <td>97</td>\n",
       "      <td>36</td>\n",
       "      <td>17718.92</td>\n",
       "      <td>ultra</td>\n",
       "      <td>...</td>\n",
       "      <td>30720</td>\n",
       "      <td>3000</td>\n",
       "      <td>1950</td>\n",
       "      <td>150</td>\n",
       "      <td>1</td>\n",
       "      <td>1</td>\n",
       "      <td>18</td>\n",
       "      <td>30</td>\n",
       "      <td>1950</td>\n",
       "      <td>0</td>\n",
       "    </tr>\n",
       "    <tr>\n",
       "      <th>3028</th>\n",
       "      <td>1471</td>\n",
       "      <td>вологда</td>\n",
       "      <td>2018-02</td>\n",
       "      <td>2018-06</td>\n",
       "      <td>650</td>\n",
       "      <td>111</td>\n",
       "      <td>94</td>\n",
       "      <td>19</td>\n",
       "      <td>8792.86</td>\n",
       "      <td>ultra</td>\n",
       "      <td>...</td>\n",
       "      <td>30720</td>\n",
       "      <td>3000</td>\n",
       "      <td>1950</td>\n",
       "      <td>150</td>\n",
       "      <td>1</td>\n",
       "      <td>1</td>\n",
       "      <td>9</td>\n",
       "      <td>30</td>\n",
       "      <td>1950</td>\n",
       "      <td>0</td>\n",
       "    </tr>\n",
       "    <tr>\n",
       "      <th>2265</th>\n",
       "      <td>1358</td>\n",
       "      <td>ставрополь</td>\n",
       "      <td>2018-02</td>\n",
       "      <td>2018-11</td>\n",
       "      <td>607</td>\n",
       "      <td>87</td>\n",
       "      <td>66</td>\n",
       "      <td>31</td>\n",
       "      <td>8496.84</td>\n",
       "      <td>smart</td>\n",
       "      <td>...</td>\n",
       "      <td>15360</td>\n",
       "      <td>500</td>\n",
       "      <td>550</td>\n",
       "      <td>200</td>\n",
       "      <td>3</td>\n",
       "      <td>3</td>\n",
       "      <td>9</td>\n",
       "      <td>15</td>\n",
       "      <td>919</td>\n",
       "      <td>369</td>\n",
       "    </tr>\n",
       "  </tbody>\n",
       "</table>\n",
       "<p>5 rows × 21 columns</p>\n",
       "</div>"
      ],
      "text/plain": [
       "      user_id         city reg_date active_month  duration  call_number  \\\n",
       "527      1083         сочи  2018-04      2018-11       610           81   \n",
       "883      1142  новосибирск  2018-03      2018-03        81           10   \n",
       "2847     1440       москва  2018-05      2018-11       169           27   \n",
       "3028     1471      вологда  2018-02      2018-06       650          111   \n",
       "2265     1358   ставрополь  2018-02      2018-11       607           87   \n",
       "\n",
       "      number_messages  session_number   mb_used tariff  ...  \\\n",
       "527                56              56  19383.88  smart  ...   \n",
       "883                 8              14   4986.89  smart  ...   \n",
       "2847               97              36  17718.92  ultra  ...   \n",
       "3028               94              19   8792.86  ultra  ...   \n",
       "2265               66              31   8496.84  smart  ...   \n",
       "\n",
       "      mb_per_month_included  minutes_included  rub_monthly_fee  rub_per_gb  \\\n",
       "527                   15360               500              550         200   \n",
       "883                   15360               500              550         200   \n",
       "2847                  30720              3000             1950         150   \n",
       "3028                  30720              3000             1950         150   \n",
       "2265                  15360               500              550         200   \n",
       "\n",
       "      rub_per_message  rub_per_minute  gb_used  gb_per_month_included  \\\n",
       "527                 3               3       19                     15   \n",
       "883                 3               3        5                     15   \n",
       "2847                1               1       18                     30   \n",
       "3028                1               1        9                     30   \n",
       "2265                3               3        9                     15   \n",
       "\n",
       "      revenue  overpayment  \n",
       "527      1698         1148  \n",
       "883       550            0  \n",
       "2847     1950            0  \n",
       "3028     1950            0  \n",
       "2265      919          369  \n",
       "\n",
       "[5 rows x 21 columns]"
      ]
     },
     "execution_count": 41,
     "metadata": {},
     "output_type": "execute_result"
    }
   ],
   "source": [
    "df_full.sample(n=5, random_state=0)"
   ]
  },
  {
   "cell_type": "markdown",
   "metadata": {},
   "source": [
    "***Вывод:***\n",
    "<a id=\"final_2\"></a>\n",
    "1. Оптимизированы типы полей таблиц.  \n",
    "2. Произведена проверка значений продолжительности телефонных звонков и объема использованного интернет-трафика - выбросы отсутствуют.  \n",
    "3. Исходные таблицы объединены в датафрейм df_full, произведен расчет ежемесячной выручки с каждого пользователя из выборки."
   ]
  },
  {
   "cell_type": "markdown",
   "metadata": {},
   "source": [
    "## Анализ данных\n",
    "<a id=\"analysis\"></a>"
   ]
  },
  {
   "cell_type": "markdown",
   "metadata": {},
   "source": [
    "### Функции расчёта\n",
    "<a id=\"functions\"></a>"
   ]
  },
  {
   "cell_type": "markdown",
   "metadata": {},
   "source": [
    "Создаем функции подсчета количества пользователей тарифа и определения городов, в которых тариф наиболее распространен."
   ]
  },
  {
   "cell_type": "code",
   "execution_count": 42,
   "metadata": {},
   "outputs": [],
   "source": [
    "'''функция подсчета количества пользователей тарифа'''\n",
    "def city(trf):\n",
    "    df_smart_client = (\n",
    "        df_users\n",
    "        .loc[df_users['tariff'] == trf]\n",
    "        .groupby('city')['user_id'].count()\n",
    "        .sort_values(ascending=False)\n",
    "        .reset_index()\n",
    "        .query('user_id != 0')\n",
    "    )\n",
    "    users_count = df_smart_client['user_id'].sum()\n",
    "\n",
    "    df_smart_city = (\n",
    "        df_smart_client\n",
    "        .assign(percent = 100 * df_smart_client['user_id'] / df_smart_client['user_id'].sum())\n",
    "        .drop(['user_id'], axis=1)\n",
    "    )\n",
    "    print('Города, в которых тариф \"{}\" наиболее распространен:'.format(trf))\n",
    "    display(df_smart_city.head(5))\n",
    "    print('______________________________')\n",
    "    return None"
   ]
  },
  {
   "cell_type": "markdown",
   "metadata": {},
   "source": [
    "Создаем функцию генерации датафрейма с данными по использованию определенного тарифа:"
   ]
  },
  {
   "cell_type": "code",
   "execution_count": 43,
   "metadata": {},
   "outputs": [],
   "source": [
    "def tariff_func(trf):\n",
    "    return df_full.loc[df_full['tariff'] == trf]"
   ]
  },
  {
   "cell_type": "markdown",
   "metadata": {},
   "source": [
    "Создаем функции подсчета нулевых значений:"
   ]
  },
  {
   "cell_type": "code",
   "execution_count": 44,
   "metadata": {},
   "outputs": [],
   "source": [
    "def zero(trf):\n",
    "    df_tariff = tariff_func(trf)\n",
    "    zero_duration = df_tariff.loc[df_tariff['duration'] == 0, 'duration'].count()\n",
    "    zero_messages = df_tariff.loc[df_tariff['number_messages'] == 0, 'number_messages'].count()\n",
    "    zero_mb_used = df_tariff.loc[df_tariff['gb_used'] == 0, 'gb_used'].count()\n",
    "    print('Суммарное время использования тарифа всеми пользователями: {} месяцев'.format(df_tariff.shape[0]))\n",
    "    print('Количество нулевых значений поля \"duration\" (длительность звонка): {} ({:,.2%})'.format(zero_duration, zero_duration / df_tariff.shape[0]))\n",
    "    print('Количество нулевых значений поля \"number_messages\" (число сообщений): {} ({:,.2%})'.format(zero_messages, zero_messages / df_tariff.shape[0]))\n",
    "    print('Количество нулевых значений поля \"mb_used\" (объём использованного интернет-трафика): {} ({:,.2%})'.format(zero_mb_used, zero_mb_used / df_tariff.shape[0]))"
   ]
  },
  {
   "cell_type": "markdown",
   "metadata": {},
   "source": [
    "### Сравнительный анализ поведения пользователей тарифов \"Смарт\" и \"Ультра\"\n",
    "<a id=\"comparative_analysis\"></a>"
   ]
  },
  {
   "cell_type": "markdown",
   "metadata": {},
   "source": [
    "Создаем список тарифов:"
   ]
  },
  {
   "cell_type": "code",
   "execution_count": 45,
   "metadata": {},
   "outputs": [],
   "source": [
    "tariff_list = ['smart', 'ultra']"
   ]
  },
  {
   "cell_type": "markdown",
   "metadata": {},
   "source": [
    "Определяем количество пользователей тарифов:"
   ]
  },
  {
   "cell_type": "code",
   "execution_count": 46,
   "metadata": {},
   "outputs": [
    {
     "data": {
      "text/html": [
       "<div>\n",
       "<style scoped>\n",
       "    .dataframe tbody tr th:only-of-type {\n",
       "        vertical-align: middle;\n",
       "    }\n",
       "\n",
       "    .dataframe tbody tr th {\n",
       "        vertical-align: top;\n",
       "    }\n",
       "\n",
       "    .dataframe thead th {\n",
       "        text-align: right;\n",
       "    }\n",
       "</style>\n",
       "<table border=\"1\" class=\"dataframe\">\n",
       "  <thead>\n",
       "    <tr style=\"text-align: right;\">\n",
       "      <th></th>\n",
       "      <th>user_id</th>\n",
       "    </tr>\n",
       "    <tr>\n",
       "      <th>tariff</th>\n",
       "      <th></th>\n",
       "    </tr>\n",
       "  </thead>\n",
       "  <tbody>\n",
       "    <tr>\n",
       "      <th>smart</th>\n",
       "      <td>351</td>\n",
       "    </tr>\n",
       "    <tr>\n",
       "      <th>ultra</th>\n",
       "      <td>149</td>\n",
       "    </tr>\n",
       "  </tbody>\n",
       "</table>\n",
       "</div>"
      ],
      "text/plain": [
       "        user_id\n",
       "tariff         \n",
       "smart       351\n",
       "ultra       149"
      ]
     },
     "execution_count": 46,
     "metadata": {},
     "output_type": "execute_result"
    }
   ],
   "source": [
    "df_full.pivot_table(index= 'tariff', values= 'user_id', aggfunc= {'user_id': 'nunique'})"
   ]
  },
  {
   "cell_type": "markdown",
   "metadata": {},
   "source": [
    "Определяем города, в которых эти тарифы наиболее распространены:"
   ]
  },
  {
   "cell_type": "code",
   "execution_count": 47,
   "metadata": {},
   "outputs": [
    {
     "name": "stdout",
     "output_type": "stream",
     "text": [
      "Города, в которых тариф \"smart\" наиболее распространен:\n"
     ]
    },
    {
     "data": {
      "text/html": [
       "<div>\n",
       "<style scoped>\n",
       "    .dataframe tbody tr th:only-of-type {\n",
       "        vertical-align: middle;\n",
       "    }\n",
       "\n",
       "    .dataframe tbody tr th {\n",
       "        vertical-align: top;\n",
       "    }\n",
       "\n",
       "    .dataframe thead th {\n",
       "        text-align: right;\n",
       "    }\n",
       "</style>\n",
       "<table border=\"1\" class=\"dataframe\">\n",
       "  <thead>\n",
       "    <tr style=\"text-align: right;\">\n",
       "      <th></th>\n",
       "      <th>city</th>\n",
       "      <th>percent</th>\n",
       "    </tr>\n",
       "  </thead>\n",
       "  <tbody>\n",
       "    <tr>\n",
       "      <th>0</th>\n",
       "      <td>москва</td>\n",
       "      <td>19.088319</td>\n",
       "    </tr>\n",
       "    <tr>\n",
       "      <th>1</th>\n",
       "      <td>санкт-петербург</td>\n",
       "      <td>8.547009</td>\n",
       "    </tr>\n",
       "    <tr>\n",
       "      <th>2</th>\n",
       "      <td>казань</td>\n",
       "      <td>3.703704</td>\n",
       "    </tr>\n",
       "    <tr>\n",
       "      <th>3</th>\n",
       "      <td>новосибирск</td>\n",
       "      <td>3.133903</td>\n",
       "    </tr>\n",
       "    <tr>\n",
       "      <th>4</th>\n",
       "      <td>ульяновск</td>\n",
       "      <td>2.849003</td>\n",
       "    </tr>\n",
       "  </tbody>\n",
       "</table>\n",
       "</div>"
      ],
      "text/plain": [
       "              city    percent\n",
       "0           москва  19.088319\n",
       "1  санкт-петербург   8.547009\n",
       "2           казань   3.703704\n",
       "3      новосибирск   3.133903\n",
       "4        ульяновск   2.849003"
      ]
     },
     "metadata": {},
     "output_type": "display_data"
    },
    {
     "name": "stdout",
     "output_type": "stream",
     "text": [
      "______________________________\n",
      "Города, в которых тариф \"ultra\" наиболее распространен:\n"
     ]
    },
    {
     "data": {
      "text/html": [
       "<div>\n",
       "<style scoped>\n",
       "    .dataframe tbody tr th:only-of-type {\n",
       "        vertical-align: middle;\n",
       "    }\n",
       "\n",
       "    .dataframe tbody tr th {\n",
       "        vertical-align: top;\n",
       "    }\n",
       "\n",
       "    .dataframe thead th {\n",
       "        text-align: right;\n",
       "    }\n",
       "</style>\n",
       "<table border=\"1\" class=\"dataframe\">\n",
       "  <thead>\n",
       "    <tr style=\"text-align: right;\">\n",
       "      <th></th>\n",
       "      <th>city</th>\n",
       "      <th>percent</th>\n",
       "    </tr>\n",
       "  </thead>\n",
       "  <tbody>\n",
       "    <tr>\n",
       "      <th>0</th>\n",
       "      <td>москва</td>\n",
       "      <td>21.476510</td>\n",
       "    </tr>\n",
       "    <tr>\n",
       "      <th>1</th>\n",
       "      <td>санкт-петербург</td>\n",
       "      <td>6.040268</td>\n",
       "    </tr>\n",
       "    <tr>\n",
       "      <th>2</th>\n",
       "      <td>уфа</td>\n",
       "      <td>4.026846</td>\n",
       "    </tr>\n",
       "    <tr>\n",
       "      <th>3</th>\n",
       "      <td>краснодар</td>\n",
       "      <td>3.355705</td>\n",
       "    </tr>\n",
       "    <tr>\n",
       "      <th>4</th>\n",
       "      <td>новосибирск</td>\n",
       "      <td>3.355705</td>\n",
       "    </tr>\n",
       "  </tbody>\n",
       "</table>\n",
       "</div>"
      ],
      "text/plain": [
       "              city    percent\n",
       "0           москва  21.476510\n",
       "1  санкт-петербург   6.040268\n",
       "2              уфа   4.026846\n",
       "3        краснодар   3.355705\n",
       "4      новосибирск   3.355705"
      ]
     },
     "metadata": {},
     "output_type": "display_data"
    },
    {
     "name": "stdout",
     "output_type": "stream",
     "text": [
      "______________________________\n"
     ]
    }
   ],
   "source": [
    "for i in tariff_list:\n",
    "    city(i)"
   ]
  },
  {
   "cell_type": "markdown",
   "metadata": {},
   "source": [
    "Рассчитываем среднее переплаты за перерасход тарифа:"
   ]
  },
  {
   "cell_type": "code",
   "execution_count": 48,
   "metadata": {},
   "outputs": [
    {
     "data": {
      "text/html": [
       "<div>\n",
       "<style scoped>\n",
       "    .dataframe tbody tr th:only-of-type {\n",
       "        vertical-align: middle;\n",
       "    }\n",
       "\n",
       "    .dataframe tbody tr th {\n",
       "        vertical-align: top;\n",
       "    }\n",
       "\n",
       "    .dataframe thead th {\n",
       "        text-align: right;\n",
       "    }\n",
       "</style>\n",
       "<table border=\"1\" class=\"dataframe\">\n",
       "  <thead>\n",
       "    <tr style=\"text-align: right;\">\n",
       "      <th></th>\n",
       "      <th>overpayment</th>\n",
       "    </tr>\n",
       "    <tr>\n",
       "      <th>tariff</th>\n",
       "      <th></th>\n",
       "    </tr>\n",
       "  </thead>\n",
       "  <tbody>\n",
       "    <tr>\n",
       "      <th>smart</th>\n",
       "      <td>739.641704</td>\n",
       "    </tr>\n",
       "    <tr>\n",
       "      <th>ultra</th>\n",
       "      <td>120.030426</td>\n",
       "    </tr>\n",
       "  </tbody>\n",
       "</table>\n",
       "</div>"
      ],
      "text/plain": [
       "        overpayment\n",
       "tariff             \n",
       "smart    739.641704\n",
       "ultra    120.030426"
      ]
     },
     "execution_count": 48,
     "metadata": {},
     "output_type": "execute_result"
    }
   ],
   "source": [
    "df_full.pivot_table(index= 'tariff', values= 'overpayment', aggfunc= {'overpayment': 'mean'})"
   ]
  },
  {
   "cell_type": "markdown",
   "metadata": {},
   "source": [
    "Определяем количество нулевых значений полей \"duration\" (длительность звонка), \"number_messages\" (число сообщений) и \"mb_used\" (объём потраченного интернет-трафика):"
   ]
  },
  {
   "cell_type": "code",
   "execution_count": 49,
   "metadata": {
    "scrolled": false
   },
   "outputs": [
    {
     "name": "stdout",
     "output_type": "stream",
     "text": [
      "Тариф smart:\n",
      "Суммарное время использования тарифа всеми пользователями: 2230 месяцев\n",
      "Количество нулевых значений поля \"duration\" (длительность звонка): 9 (0.40%)\n",
      "Количество нулевых значений поля \"number_messages\" (число сообщений): 308 (13.81%)\n",
      "Количество нулевых значений поля \"mb_used\" (объём использованного интернет-трафика): 3 (0.13%)\n",
      "_______________________________________________________\n",
      "\n",
      "Тариф ultra:\n",
      "Суммарное время использования тарифа всеми пользователями: 986 месяцев\n",
      "Количество нулевых значений поля \"duration\" (длительность звонка): 39 (3.96%)\n",
      "Количество нулевых значений поля \"number_messages\" (число сообщений): 191 (19.37%)\n",
      "Количество нулевых значений поля \"mb_used\" (объём использованного интернет-трафика): 12 (1.22%)\n",
      "_______________________________________________________\n",
      "\n"
     ]
    }
   ],
   "source": [
    "for i in tariff_list:\n",
    "    print('Тариф {}:'.format(i))\n",
    "    zero(i)\n",
    "    print('_______________________________________________________')\n",
    "    print()"
   ]
  },
  {
   "cell_type": "markdown",
   "metadata": {},
   "source": [
    "***Распределения исследуемых параметров***"
   ]
  },
  {
   "cell_type": "markdown",
   "metadata": {},
   "source": [
    "Рассчитываем среднее, дисперсию и стандартное отклонение исследуемых параметров:"
   ]
  },
  {
   "cell_type": "code",
   "execution_count": 50,
   "metadata": {},
   "outputs": [
    {
     "data": {
      "text/html": [
       "<div>\n",
       "<style scoped>\n",
       "    .dataframe tbody tr th:only-of-type {\n",
       "        vertical-align: middle;\n",
       "    }\n",
       "\n",
       "    .dataframe tbody tr th {\n",
       "        vertical-align: top;\n",
       "    }\n",
       "\n",
       "    .dataframe thead tr th {\n",
       "        text-align: left;\n",
       "    }\n",
       "\n",
       "    .dataframe thead tr:last-of-type th {\n",
       "        text-align: right;\n",
       "    }\n",
       "</style>\n",
       "<table border=\"1\" class=\"dataframe\">\n",
       "  <thead>\n",
       "    <tr>\n",
       "      <th></th>\n",
       "      <th colspan=\"3\" halign=\"left\">duration</th>\n",
       "      <th colspan=\"3\" halign=\"left\">gb_used</th>\n",
       "      <th colspan=\"3\" halign=\"left\">number_messages</th>\n",
       "    </tr>\n",
       "    <tr>\n",
       "      <th></th>\n",
       "      <th>mean</th>\n",
       "      <th>std</th>\n",
       "      <th>var</th>\n",
       "      <th>mean</th>\n",
       "      <th>std</th>\n",
       "      <th>var</th>\n",
       "      <th>mean</th>\n",
       "      <th>std</th>\n",
       "      <th>var</th>\n",
       "    </tr>\n",
       "    <tr>\n",
       "      <th>tariff</th>\n",
       "      <th></th>\n",
       "      <th></th>\n",
       "      <th></th>\n",
       "      <th></th>\n",
       "      <th></th>\n",
       "      <th></th>\n",
       "      <th></th>\n",
       "      <th></th>\n",
       "      <th></th>\n",
       "    </tr>\n",
       "  </thead>\n",
       "  <tbody>\n",
       "    <tr>\n",
       "      <th>smart</th>\n",
       "      <td>417.747534</td>\n",
       "      <td>190.476754</td>\n",
       "      <td>36281.393836</td>\n",
       "      <td>16.321525</td>\n",
       "      <td>5.756167</td>\n",
       "      <td>33.133453</td>\n",
       "      <td>33.369058</td>\n",
       "      <td>28.230396</td>\n",
       "      <td>796.955256</td>\n",
       "    </tr>\n",
       "    <tr>\n",
       "      <th>ultra</th>\n",
       "      <td>526.089249</td>\n",
       "      <td>317.887549</td>\n",
       "      <td>101052.493549</td>\n",
       "      <td>19.474645</td>\n",
       "      <td>9.868057</td>\n",
       "      <td>97.378544</td>\n",
       "      <td>49.313387</td>\n",
       "      <td>47.806040</td>\n",
       "      <td>2285.417425</td>\n",
       "    </tr>\n",
       "  </tbody>\n",
       "</table>\n",
       "</div>"
      ],
      "text/plain": [
       "          duration                               gb_used                       \\\n",
       "              mean         std            var       mean       std        var   \n",
       "tariff                                                                          \n",
       "smart   417.747534  190.476754   36281.393836  16.321525  5.756167  33.133453   \n",
       "ultra   526.089249  317.887549  101052.493549  19.474645  9.868057  97.378544   \n",
       "\n",
       "       number_messages                          \n",
       "                  mean        std          var  \n",
       "tariff                                          \n",
       "smart        33.369058  28.230396   796.955256  \n",
       "ultra        49.313387  47.806040  2285.417425  "
      ]
     },
     "execution_count": 50,
     "metadata": {},
     "output_type": "execute_result"
    }
   ],
   "source": [
    "df_full.pivot_table(index= 'tariff', values= ['duration', 'gb_used', 'number_messages'], aggfunc= {'duration': [np.mean, np.var, np.std], \n",
    "                             'gb_used': [np.mean, np.var, np.std], \n",
    "                             'number_messages': [np.mean, np.var, np.std]})"
   ]
  },
  {
   "cell_type": "markdown",
   "metadata": {},
   "source": [
    "***Диаграммы***"
   ]
  },
  {
   "cell_type": "markdown",
   "metadata": {},
   "source": [
    "Строим диаграммы распределения и размаха продолжительности звонков, количества сообщений и объема использованного интернет-трафика:"
   ]
  },
  {
   "cell_type": "code",
   "execution_count": 51,
   "metadata": {},
   "outputs": [
    {
     "data": {
      "image/png": "[encoded data removed]",
      "text/plain": [
       "<Figure size 1500x500 with 2 Axes>"
      ]
     },
     "metadata": {},
     "output_type": "display_data"
    },
    {
     "data": {
      "image/png": "[encoded data removed]",
      "text/plain": [
       "<Figure size 1500x500 with 2 Axes>"
      ]
     },
     "metadata": {},
     "output_type": "display_data"
    },
    {
     "data": {
      "image/png": "[encoded data removed]",
      "text/plain": [
       "<Figure size 1500x500 with 2 Axes>"
      ]
     },
     "metadata": {},
     "output_type": "display_data"
    }
   ],
   "source": [
    "dict_param = {'duration' : 'Продолжительность звонков, мин.', 'number_messages' : 'Сообщения',\n",
    "              'gb_used' : 'Объем использованного интернет-трафика, Гб'}\n",
    "for i in dict_param:\n",
    "    fig, ax = plt.subplots(1, 2, figsize=(15, 5))\n",
    "    ax[0].set_title(dict_param[i])\n",
    "    sns.histplot(tariff_func('smart')[i], stat=\"density\", kde=False, ax=ax[0], label=\"Смарт\", alpha=0.5)\n",
    "    sns.histplot(tariff_func('ultra')[i], stat=\"density\", kde=False, ax=ax[0], label=\"Ультра\", color='red', alpha=0.5)\n",
    "    ax[0].legend()\n",
    "    ax[1].set_title(dict_param[i])\n",
    "    sns.boxplot(y=i, x='tariff', data=df_full, ax=ax[1], orient='v')"
   ]
  },
  {
   "cell_type": "markdown",
   "metadata": {},
   "source": [
    "***Вывод:***\n",
    "<a id=\"final_3\"></a>\n",
    "1. В выборке большинство пользователей обоих тарифов - из Москвы.  \n",
    "2. Пользователи обоих тарифов в данной выборке из предлагаемых услуг реже всего используют сообщения: для тарифа \"Смарт\" нулевых значений - 308 (13.81%), для \"Ультра\" - 191 (19.37%).  \n",
    "3. Пользователи \"Смарт\" значительно чаще выходят за рамки лимитов, установленных тарифом: переплата за перерасход в среднем составляет 740 рублей в месяц, тогда как у пользователей \"Ультра\" - 120.  \n",
    "4. Стандартные отклонения параметров тарифа \"Ультра\" значительно выше, нежели тарифа \"Смарт\": среди пользователей \"Ультра\" встречаются как более активные, так и пассивные, нежели пользователи \"Смарт\". Отчасти такие показания стандартных отклонений могут быть обусловлены большей выборкой пользователей тарифа \"Смарт\" - 351 против 149 пользователей \"Ультра\".  \n",
    "5. Диаграммы распределения ежемесячного количества сообщений смещены вправо. Это говорит о выбросах: часть клиентов отправляют сообщения значительно чаще среднего значения. Низкое среднее обусловлено большим количеством нулевых значений: данный вид услуг из предлагаемых наименее востребован."
   ]
  },
  {
   "cell_type": "markdown",
   "metadata": {},
   "source": [
    "## Проверка гипотез\n",
    "<a id=\"hypothesis\"></a>"
   ]
  },
  {
   "cell_type": "markdown",
   "metadata": {},
   "source": [
    "***Гипотеза H0: средняя выручка пользователей тарифа «Ультра» равна средней выручке пользователей тарифа «Смарт»  \n",
    "Гипотеза H1: средняя выручка пользователей тарифа «Ультра» не равна средней выручке пользователей тарифа «Смарт»***"
   ]
  },
  {
   "cell_type": "markdown",
   "metadata": {},
   "source": [
    "Собираем данные по выручке с тарифа \"Смарт\":"
   ]
  },
  {
   "cell_type": "code",
   "execution_count": 52,
   "metadata": {},
   "outputs": [],
   "source": [
    "df_smart_revenue = (\n",
    "    df_full\n",
    "    .loc[df_full['tariff'] == 'smart']\n",
    "    .groupby('user_id')['revenue']\n",
    "    .sum()\n",
    "    .astype('uint16')\n",
    "    .reset_index()\n",
    "           )"
   ]
  },
  {
   "cell_type": "markdown",
   "metadata": {},
   "source": [
    "Собираем данные по выручке с тарифа \"Ультра\":"
   ]
  },
  {
   "cell_type": "code",
   "execution_count": 53,
   "metadata": {},
   "outputs": [],
   "source": [
    "df_ultra_revenue = (\n",
    "    df_full\n",
    "    .loc[df_full['tariff'] == 'ultra']\n",
    "    .groupby('user_id')['revenue']\n",
    "    .sum()\n",
    "    .astype('uint16')\n",
    "    .reset_index()\n",
    "           )"
   ]
  },
  {
   "cell_type": "markdown",
   "metadata": {},
   "source": [
    "Задаем критический уровень статистической значимости:"
   ]
  },
  {
   "cell_type": "code",
   "execution_count": 54,
   "metadata": {},
   "outputs": [],
   "source": [
    "alpha = .05"
   ]
  },
  {
   "cell_type": "markdown",
   "metadata": {},
   "source": [
    "Сравниваем дисперсии выборок:"
   ]
  },
  {
   "cell_type": "code",
   "execution_count": 55,
   "metadata": {},
   "outputs": [],
   "source": [
    "var_tariff = levene(df_smart_revenue['revenue'], df_ultra_revenue['revenue'])"
   ]
  },
  {
   "cell_type": "code",
   "execution_count": 56,
   "metadata": {},
   "outputs": [
    {
     "name": "stdout",
     "output_type": "stream",
     "text": [
      "Небольшое значение p (5.256526064390166e-06) предполагает, что выборки не имеют одинаковой дисперсии.\n"
     ]
    }
   ],
   "source": [
    "if var_tariff.pvalue < alpha:\n",
    "    print('Небольшое значение p ({}) предполагает, что выборки не имеют одинаковой дисперсии.'.format(var_tariff.pvalue))\n",
    "else:\n",
    "    print('Значение p ({}) предполагает, что выборки имеют одинаковую дисперсию.'.format(var_tariff.pvalue))"
   ]
  },
  {
   "cell_type": "markdown",
   "metadata": {},
   "source": [
    "Сравниваем выборки (t-тест):"
   ]
  },
  {
   "cell_type": "code",
   "execution_count": 57,
   "metadata": {},
   "outputs": [
    {
     "name": "stdout",
     "output_type": "stream",
     "text": [
      "p-значение: 8.674431117892673e-16\n"
     ]
    }
   ],
   "source": [
    "result_tariff = st.ttest_ind(df_smart_revenue['revenue'], df_ultra_revenue['revenue'], equal_var = False)\n",
    "print('p-значение:', result_tariff.pvalue)"
   ]
  },
  {
   "cell_type": "markdown",
   "metadata": {},
   "source": [
    "Проверяем нулевую гипотезу. Если она не подтверждается, сразу определяем какое среднее больше:"
   ]
  },
  {
   "cell_type": "code",
   "execution_count": 58,
   "metadata": {},
   "outputs": [
    {
     "name": "stdout",
     "output_type": "stream",
     "text": [
      "Отвергаем нулевую гипотезу: с высокой вероятностью выручка с тарифа \"Ультра\" больше.\n"
     ]
    }
   ],
   "source": [
    "if result_tariff.pvalue < alpha and df_smart_revenue['revenue'].mean() < df_ultra_revenue['revenue'].mean():\n",
    "    print('Отвергаем нулевую гипотезу: с высокой вероятностью выручка с тарифа \"Ультра\" больше.')\n",
    "elif result_tariff.pvalue < alpha and df_smart_revenue['revenue'].mean() > df_ultra_revenue['revenue'].mean():\n",
    "    print('Отвергаем нулевую гипотезу: с высокой вероятностью выручка с тарифа \"Смарт\" больше.')\n",
    "else:\n",
    "    print('Не отвергаем нулевую гипотезу.')"
   ]
  },
  {
   "cell_type": "markdown",
   "metadata": {},
   "source": [
    "***Гипотеза H0: средняя выручка пользователей из Москвы равна средней выручке пользователей из других регионов  \n",
    "Гипотеза H1: средняя выручка пользователей из Москвы не равна средней выручке пользователей из других регионов***"
   ]
  },
  {
   "cell_type": "markdown",
   "metadata": {},
   "source": [
    "Собираем данные по выручке с пользователей из Москвы:"
   ]
  },
  {
   "cell_type": "code",
   "execution_count": 59,
   "metadata": {},
   "outputs": [],
   "source": [
    "df_moscow = (\n",
    "    df_full\n",
    "    .loc[df_full['city'] == 'москва']\n",
    "    .groupby('user_id')['revenue']\n",
    "    .sum()\n",
    "    .astype('uint16')\n",
    "    .reset_index()\n",
    "           )"
   ]
  },
  {
   "cell_type": "markdown",
   "metadata": {},
   "source": [
    "Собираем данные по выручке с пользователей из регионов:"
   ]
  },
  {
   "cell_type": "code",
   "execution_count": 60,
   "metadata": {},
   "outputs": [],
   "source": [
    "df_regions = (\n",
    "    df_full\n",
    "    .loc[df_full['city'] != 'москва']\n",
    "    .groupby('user_id')['revenue']\n",
    "    .sum()\n",
    "    .astype('uint16')\n",
    "    .reset_index()\n",
    "           )"
   ]
  },
  {
   "cell_type": "markdown",
   "metadata": {},
   "source": [
    "Задаем критический уровень статистической значимости:"
   ]
  },
  {
   "cell_type": "code",
   "execution_count": 61,
   "metadata": {},
   "outputs": [],
   "source": [
    "alpha = .05"
   ]
  },
  {
   "cell_type": "markdown",
   "metadata": {},
   "source": [
    "Сравниваем дисперсии выборок:"
   ]
  },
  {
   "cell_type": "code",
   "execution_count": 62,
   "metadata": {},
   "outputs": [],
   "source": [
    "var_regions = levene(df_moscow['revenue'], df_regions['revenue'])"
   ]
  },
  {
   "cell_type": "code",
   "execution_count": 63,
   "metadata": {},
   "outputs": [
    {
     "name": "stdout",
     "output_type": "stream",
     "text": [
      "Значение p (0.7840967283585325) предполагает, что выборки имеют одинаковую дисперсию.\n"
     ]
    }
   ],
   "source": [
    "if var_regions.pvalue < alpha:\n",
    "    print('Небольшое значение p ({}) предполагает, что выборки не имеют одинаковой дисперсии.'.format(var_regions.pvalue))\n",
    "else:\n",
    "    print('Значение p ({}) предполагает, что выборки имеют одинаковую дисперсию.'.format(var_regions.pvalue))"
   ]
  },
  {
   "cell_type": "markdown",
   "metadata": {},
   "source": [
    "Сравниваем выборки (t-тест):"
   ]
  },
  {
   "cell_type": "code",
   "execution_count": 64,
   "metadata": {},
   "outputs": [
    {
     "name": "stdout",
     "output_type": "stream",
     "text": [
      "p-значение: 0.6180145632388732\n"
     ]
    }
   ],
   "source": [
    "result_region = st.ttest_ind(df_moscow['revenue'], df_regions['revenue'])\n",
    "print('p-значение:', result_region.pvalue)"
   ]
  },
  {
   "cell_type": "code",
   "execution_count": 65,
   "metadata": {},
   "outputs": [
    {
     "name": "stdout",
     "output_type": "stream",
     "text": [
      "Не отвергаем нулевую гипотезу.\n"
     ]
    }
   ],
   "source": [
    "if result_region.pvalue < alpha and df_moscow['revenue'].mean() < df_regions['revenue'].mean():\n",
    "    print('Отвергаем нулевую гипотезу: с высокой вероятностью выручка от пользователей из регионов больше.')\n",
    "elif result_region.pvalue < alpha and df_moscow['revenue'].mean() > df_regions['revenue'].mean():\n",
    "    print('Отвергаем нулевую гипотезу: с высокой вероятностью выручка от пользователей из Москвы больше.')\n",
    "else:\n",
    "    print('Не отвергаем нулевую гипотезу.')"
   ]
  },
  {
   "cell_type": "markdown",
   "metadata": {},
   "source": [
    "***Вывод:***\n",
    "<a id=\"final_4\"></a>\n",
    "1. Нулевую гипотезу о равенстве средней выручки от пользователей тарифа «Ультра» и средней выручки от пользователей тарифа «Смарт» отвергаем: разница распределений средних статистически значима (p-значение: 6.06e-20). С высокой вероятностью выручка от пользователей тарифа \"Ультра\" больше.  \n",
    "2. Нулевую гипотезу о равенстве средней выручки от пользователей из Москвы и средней выручки пользователей из других регионов не отвергаем: разница распределений средних статистически не значима (p-значение: 0.61)."
   ]
  },
  {
   "cell_type": "markdown",
   "metadata": {},
   "source": [
    "## Общий вывод\n",
    "<a id=\"final\"></a>"
   ]
  },
  {
   "cell_type": "markdown",
   "metadata": {},
   "source": [
    "1. В выборке большинство пользователей обоих тарифов - из Москвы.  \n",
    "2. У тарифа \"Ультра\" есть как более активные, так и пассивные пользователи, нежели у тарифа \"Смарт\": стандартные отклонения параметров использования у \"Ультра\" значительно выше.  \n",
    "3. При том, что отправка сообщений - в среднем менее востребованная услуга, нежели звонки и интернет, часть пользователей использует ее очень активно.  \n",
    "4. Выручка с тарифа \"Ультра\" выше, чем от \"Смарт\", при том, что средняя переплата за перерасход значительно ниже: 120 рублей для \"Ультра\" против 740.  \n",
    "5. Гипотеза о том, что средняя выручка от пользователей из Москвы равна средней выручке от пользователей из других регионов, по результатам исследования не отвергнута."
   ]
  }
 ],
 "metadata": {
  "ExecuteTimeLog": [
   {
    "duration": 56,
    "start_time": "2022-06-20T17:21:10.868Z"
   },
   {
    "duration": 1396,
    "start_time": "2022-06-20T17:24:19.366Z"
   },
   {
    "duration": 885,
    "start_time": "2022-06-20T17:24:20.764Z"
   },
   {
    "duration": 1347,
    "start_time": "2022-06-21T00:07:32.029Z"
   },
   {
    "duration": 1297,
    "start_time": "2022-06-21T00:07:33.378Z"
   },
   {
    "duration": 3,
    "start_time": "2022-06-21T00:07:34.676Z"
   },
   {
    "duration": 1039,
    "start_time": "2022-06-21T00:07:34.681Z"
   },
   {
    "duration": 36,
    "start_time": "2022-06-21T00:07:35.723Z"
   },
   {
    "duration": 13,
    "start_time": "2022-06-21T00:07:35.761Z"
   },
   {
    "duration": 10,
    "start_time": "2022-06-21T00:07:35.776Z"
   },
   {
    "duration": 12,
    "start_time": "2022-06-21T00:07:35.788Z"
   },
   {
    "duration": 11,
    "start_time": "2022-06-21T00:07:35.802Z"
   },
   {
    "duration": 74,
    "start_time": "2022-06-21T00:07:35.814Z"
   },
   {
    "duration": 4,
    "start_time": "2022-06-21T00:07:35.890Z"
   },
   {
    "duration": 94,
    "start_time": "2022-06-21T00:07:35.895Z"
   },
   {
    "duration": 10,
    "start_time": "2022-06-21T00:07:35.991Z"
   },
   {
    "duration": 34,
    "start_time": "2022-06-21T00:07:36.004Z"
   },
   {
    "duration": 19,
    "start_time": "2022-06-21T00:07:36.039Z"
   },
   {
    "duration": 60,
    "start_time": "2022-06-21T00:07:36.060Z"
   },
   {
    "duration": 9,
    "start_time": "2022-06-21T00:07:36.121Z"
   },
   {
    "duration": 61,
    "start_time": "2022-06-21T00:07:36.132Z"
   },
   {
    "duration": 4,
    "start_time": "2022-06-21T00:07:36.195Z"
   },
   {
    "duration": 21,
    "start_time": "2022-06-21T00:07:36.201Z"
   },
   {
    "duration": 79,
    "start_time": "2022-06-21T00:07:36.224Z"
   },
   {
    "duration": 10,
    "start_time": "2022-06-21T00:07:36.304Z"
   },
   {
    "duration": 6,
    "start_time": "2022-06-21T00:07:36.316Z"
   },
   {
    "duration": 13,
    "start_time": "2022-06-21T00:07:36.323Z"
   },
   {
    "duration": 1236,
    "start_time": "2022-06-21T00:07:36.338Z"
   },
   {
    "duration": 275,
    "start_time": "2022-06-21T00:07:37.576Z"
   },
   {
    "duration": 1024,
    "start_time": "2022-06-21T00:07:37.853Z"
   },
   {
    "duration": 267,
    "start_time": "2022-06-21T00:07:38.879Z"
   },
   {
    "duration": 13,
    "start_time": "2022-06-21T00:07:39.148Z"
   },
   {
    "duration": 44,
    "start_time": "2022-06-21T00:07:39.163Z"
   },
   {
    "duration": 50,
    "start_time": "2022-06-21T00:07:39.209Z"
   },
   {
    "duration": 8,
    "start_time": "2022-06-21T00:07:39.261Z"
   },
   {
    "duration": 7,
    "start_time": "2022-06-21T00:07:39.270Z"
   },
   {
    "duration": 6,
    "start_time": "2022-06-21T00:07:39.279Z"
   },
   {
    "duration": 16,
    "start_time": "2022-06-21T00:07:39.286Z"
   },
   {
    "duration": 12,
    "start_time": "2022-06-21T00:07:39.303Z"
   },
   {
    "duration": 4,
    "start_time": "2022-06-21T00:07:39.316Z"
   },
   {
    "duration": 143,
    "start_time": "2022-06-21T00:07:39.321Z"
   },
   {
    "duration": 4,
    "start_time": "2022-06-21T00:07:39.466Z"
   },
   {
    "duration": 13,
    "start_time": "2022-06-21T00:07:39.472Z"
   },
   {
    "duration": 4,
    "start_time": "2022-06-21T00:07:39.489Z"
   },
   {
    "duration": 12,
    "start_time": "2022-06-21T00:07:39.494Z"
   },
   {
    "duration": 974,
    "start_time": "2022-06-21T00:07:39.508Z"
   },
   {
    "duration": 2,
    "start_time": "2022-06-21T00:07:40.484Z"
   },
   {
    "duration": 9,
    "start_time": "2022-06-21T00:07:40.488Z"
   },
   {
    "duration": 2,
    "start_time": "2022-06-21T00:07:40.499Z"
   },
   {
    "duration": 8,
    "start_time": "2022-06-21T00:07:40.502Z"
   },
   {
    "duration": 6,
    "start_time": "2022-06-21T00:07:40.511Z"
   },
   {
    "duration": 14,
    "start_time": "2022-06-21T00:07:40.518Z"
   },
   {
    "duration": 7,
    "start_time": "2022-06-21T00:07:40.534Z"
   },
   {
    "duration": 3,
    "start_time": "2022-06-21T00:07:40.542Z"
   },
   {
    "duration": 12,
    "start_time": "2022-06-21T00:07:40.546Z"
   },
   {
    "duration": 4,
    "start_time": "2022-06-21T00:07:40.560Z"
   },
   {
    "duration": 50,
    "start_time": "2022-06-21T17:30:11.637Z"
   },
   {
    "duration": 8,
    "start_time": "2022-06-21T17:30:31.119Z"
   },
   {
    "duration": 6,
    "start_time": "2022-06-21T17:30:53.056Z"
   },
   {
    "duration": 1455,
    "start_time": "2022-06-21T17:31:17.866Z"
   },
   {
    "duration": 1216,
    "start_time": "2022-06-21T17:31:19.326Z"
   },
   {
    "duration": 4,
    "start_time": "2022-06-21T17:31:20.544Z"
   },
   {
    "duration": 1134,
    "start_time": "2022-06-21T17:31:20.550Z"
   },
   {
    "duration": 8,
    "start_time": "2022-06-21T17:31:21.686Z"
   },
   {
    "duration": 6,
    "start_time": "2022-06-21T17:31:21.726Z"
   },
   {
    "duration": 20,
    "start_time": "2022-06-21T17:31:21.734Z"
   },
   {
    "duration": 17,
    "start_time": "2022-06-21T17:31:21.757Z"
   },
   {
    "duration": 22,
    "start_time": "2022-06-21T17:31:21.777Z"
   },
   {
    "duration": 78,
    "start_time": "2022-06-21T17:31:21.801Z"
   },
   {
    "duration": 5,
    "start_time": "2022-06-21T17:31:21.881Z"
   },
   {
    "duration": 108,
    "start_time": "2022-06-21T17:31:21.888Z"
   },
   {
    "duration": 11,
    "start_time": "2022-06-21T17:31:21.998Z"
   },
   {
    "duration": 47,
    "start_time": "2022-06-21T17:31:22.012Z"
   },
   {
    "duration": 4,
    "start_time": "2022-06-21T17:31:22.061Z"
   },
   {
    "duration": 83,
    "start_time": "2022-06-21T17:31:22.067Z"
   },
   {
    "duration": 14,
    "start_time": "2022-06-21T17:31:22.153Z"
   },
   {
    "duration": 76,
    "start_time": "2022-06-21T17:31:22.170Z"
   },
   {
    "duration": 5,
    "start_time": "2022-06-21T17:31:22.248Z"
   },
   {
    "duration": 15,
    "start_time": "2022-06-21T17:31:22.255Z"
   },
   {
    "duration": 83,
    "start_time": "2022-06-21T17:31:22.272Z"
   },
   {
    "duration": 11,
    "start_time": "2022-06-21T17:31:22.357Z"
   },
   {
    "duration": 6,
    "start_time": "2022-06-21T17:31:22.370Z"
   },
   {
    "duration": 19,
    "start_time": "2022-06-21T17:31:22.378Z"
   },
   {
    "duration": 1343,
    "start_time": "2022-06-21T17:31:22.399Z"
   },
   {
    "duration": 329,
    "start_time": "2022-06-21T17:31:23.744Z"
   },
   {
    "duration": 1182,
    "start_time": "2022-06-21T17:31:24.075Z"
   },
   {
    "duration": 299,
    "start_time": "2022-06-21T17:31:25.259Z"
   },
   {
    "duration": 5,
    "start_time": "2022-06-21T17:31:25.560Z"
   },
   {
    "duration": 69,
    "start_time": "2022-06-21T17:31:25.567Z"
   },
   {
    "duration": 51,
    "start_time": "2022-06-21T17:31:25.638Z"
   },
   {
    "duration": 8,
    "start_time": "2022-06-21T17:31:25.691Z"
   },
   {
    "duration": 26,
    "start_time": "2022-06-21T17:31:25.701Z"
   },
   {
    "duration": 12,
    "start_time": "2022-06-21T17:31:25.730Z"
   },
   {
    "duration": 20,
    "start_time": "2022-06-21T17:31:25.745Z"
   },
   {
    "duration": 14,
    "start_time": "2022-06-21T17:31:25.767Z"
   },
   {
    "duration": 21,
    "start_time": "2022-06-21T17:31:25.783Z"
   },
   {
    "duration": 125,
    "start_time": "2022-06-21T17:31:25.806Z"
   },
   {
    "duration": 16,
    "start_time": "2022-06-21T17:31:25.934Z"
   },
   {
    "duration": 6,
    "start_time": "2022-06-21T17:31:25.952Z"
   },
   {
    "duration": 17,
    "start_time": "2022-06-21T17:31:25.961Z"
   },
   {
    "duration": 5,
    "start_time": "2022-06-21T17:31:25.980Z"
   },
   {
    "duration": 46,
    "start_time": "2022-06-21T17:31:25.986Z"
   },
   {
    "duration": 1129,
    "start_time": "2022-06-21T17:31:26.034Z"
   },
   {
    "duration": 2,
    "start_time": "2022-06-21T17:31:27.165Z"
   },
   {
    "duration": 16,
    "start_time": "2022-06-21T17:31:27.169Z"
   },
   {
    "duration": 3,
    "start_time": "2022-06-21T17:31:27.187Z"
   },
   {
    "duration": 9,
    "start_time": "2022-06-21T17:31:27.192Z"
   },
   {
    "duration": 6,
    "start_time": "2022-06-21T17:31:27.203Z"
   },
   {
    "duration": 23,
    "start_time": "2022-06-21T17:31:27.211Z"
   },
   {
    "duration": 22,
    "start_time": "2022-06-21T17:31:27.236Z"
   },
   {
    "duration": 3,
    "start_time": "2022-06-21T17:31:27.260Z"
   },
   {
    "duration": 9,
    "start_time": "2022-06-21T17:31:27.265Z"
   },
   {
    "duration": 15,
    "start_time": "2022-06-21T17:31:27.276Z"
   },
   {
    "duration": 1784,
    "start_time": "2022-06-21T17:59:20.168Z"
   },
   {
    "duration": 1265,
    "start_time": "2022-06-21T17:59:30.507Z"
   },
   {
    "duration": 1091,
    "start_time": "2022-06-21T17:59:31.774Z"
   },
   {
    "duration": 10,
    "start_time": "2022-06-21T17:59:32.868Z"
   },
   {
    "duration": 1086,
    "start_time": "2022-06-21T17:59:32.881Z"
   },
   {
    "duration": 8,
    "start_time": "2022-06-21T17:59:33.969Z"
   },
   {
    "duration": 23,
    "start_time": "2022-06-21T17:59:33.978Z"
   },
   {
    "duration": 32,
    "start_time": "2022-06-21T17:59:34.003Z"
   },
   {
    "duration": 23,
    "start_time": "2022-06-21T17:59:34.037Z"
   },
   {
    "duration": 12,
    "start_time": "2022-06-21T17:59:34.062Z"
   },
   {
    "duration": 73,
    "start_time": "2022-06-21T17:59:34.076Z"
   },
   {
    "duration": 4,
    "start_time": "2022-06-21T17:59:34.151Z"
   },
   {
    "duration": 103,
    "start_time": "2022-06-21T17:59:34.157Z"
   },
   {
    "duration": 11,
    "start_time": "2022-06-21T17:59:34.264Z"
   },
   {
    "duration": 61,
    "start_time": "2022-06-21T17:59:34.277Z"
   },
   {
    "duration": 4,
    "start_time": "2022-06-21T17:59:34.339Z"
   },
   {
    "duration": 62,
    "start_time": "2022-06-21T17:59:34.345Z"
   },
   {
    "duration": 9,
    "start_time": "2022-06-21T17:59:34.409Z"
   },
   {
    "duration": 53,
    "start_time": "2022-06-21T17:59:34.419Z"
   },
   {
    "duration": 4,
    "start_time": "2022-06-21T17:59:34.473Z"
   },
   {
    "duration": 9,
    "start_time": "2022-06-21T17:59:34.479Z"
   },
   {
    "duration": 92,
    "start_time": "2022-06-21T17:59:34.490Z"
   },
   {
    "duration": 9,
    "start_time": "2022-06-21T17:59:34.584Z"
   },
   {
    "duration": 5,
    "start_time": "2022-06-21T17:59:34.595Z"
   },
   {
    "duration": 35,
    "start_time": "2022-06-21T17:59:34.603Z"
   },
   {
    "duration": 1229,
    "start_time": "2022-06-21T17:59:34.639Z"
   },
   {
    "duration": 295,
    "start_time": "2022-06-21T17:59:35.869Z"
   },
   {
    "duration": 1155,
    "start_time": "2022-06-21T17:59:36.165Z"
   },
   {
    "duration": 352,
    "start_time": "2022-06-21T17:59:37.327Z"
   },
   {
    "duration": 5,
    "start_time": "2022-06-21T17:59:37.681Z"
   },
   {
    "duration": 75,
    "start_time": "2022-06-21T17:59:37.688Z"
   },
   {
    "duration": 36,
    "start_time": "2022-06-21T17:59:37.765Z"
   },
   {
    "duration": 26,
    "start_time": "2022-06-21T17:59:37.803Z"
   },
   {
    "duration": 28,
    "start_time": "2022-06-21T17:59:37.831Z"
   },
   {
    "duration": 13,
    "start_time": "2022-06-21T17:59:37.861Z"
   },
   {
    "duration": 29,
    "start_time": "2022-06-21T17:59:37.876Z"
   },
   {
    "duration": 27,
    "start_time": "2022-06-21T17:59:37.906Z"
   },
   {
    "duration": 12,
    "start_time": "2022-06-21T17:59:37.936Z"
   },
   {
    "duration": 131,
    "start_time": "2022-06-21T17:59:37.950Z"
   },
   {
    "duration": 15,
    "start_time": "2022-06-21T17:59:38.083Z"
   },
   {
    "duration": 27,
    "start_time": "2022-06-21T17:59:38.102Z"
   },
   {
    "duration": 14,
    "start_time": "2022-06-21T17:59:38.136Z"
   },
   {
    "duration": 19,
    "start_time": "2022-06-21T17:59:38.152Z"
   },
   {
    "duration": 26,
    "start_time": "2022-06-21T17:59:38.173Z"
   },
   {
    "duration": 92,
    "start_time": "2022-06-21T17:59:38.201Z"
   },
   {
    "duration": 0,
    "start_time": "2022-06-21T17:59:38.295Z"
   },
   {
    "duration": 0,
    "start_time": "2022-06-21T17:59:38.296Z"
   },
   {
    "duration": 0,
    "start_time": "2022-06-21T17:59:38.297Z"
   },
   {
    "duration": 0,
    "start_time": "2022-06-21T17:59:38.298Z"
   },
   {
    "duration": 0,
    "start_time": "2022-06-21T17:59:38.299Z"
   },
   {
    "duration": 0,
    "start_time": "2022-06-21T17:59:38.300Z"
   },
   {
    "duration": 0,
    "start_time": "2022-06-21T17:59:38.300Z"
   },
   {
    "duration": 0,
    "start_time": "2022-06-21T17:59:38.301Z"
   },
   {
    "duration": 0,
    "start_time": "2022-06-21T17:59:38.302Z"
   },
   {
    "duration": 0,
    "start_time": "2022-06-21T17:59:38.303Z"
   },
   {
    "duration": 0,
    "start_time": "2022-06-21T17:59:38.304Z"
   },
   {
    "duration": 1023,
    "start_time": "2022-06-21T17:59:57.375Z"
   },
   {
    "duration": 7,
    "start_time": "2022-06-21T18:24:08.156Z"
   },
   {
    "duration": 9,
    "start_time": "2022-06-21T18:24:48.174Z"
   },
   {
    "duration": 7,
    "start_time": "2022-06-21T18:25:25.645Z"
   },
   {
    "duration": 5,
    "start_time": "2022-06-21T18:25:37.165Z"
   },
   {
    "duration": 5,
    "start_time": "2022-06-21T18:26:25.495Z"
   },
   {
    "duration": 6,
    "start_time": "2022-06-21T18:26:25.904Z"
   },
   {
    "duration": 4,
    "start_time": "2022-06-21T18:27:04.815Z"
   },
   {
    "duration": 6,
    "start_time": "2022-06-21T18:29:01.423Z"
   },
   {
    "duration": 7,
    "start_time": "2022-06-21T18:29:02.304Z"
   },
   {
    "duration": 6,
    "start_time": "2022-06-21T18:29:03.304Z"
   },
   {
    "duration": 7,
    "start_time": "2022-06-21T18:29:03.784Z"
   },
   {
    "duration": 107,
    "start_time": "2022-06-21T18:30:59.979Z"
   },
   {
    "duration": 6,
    "start_time": "2022-06-21T18:31:05.857Z"
   },
   {
    "duration": 25,
    "start_time": "2022-06-21T18:31:06.280Z"
   },
   {
    "duration": 6,
    "start_time": "2022-06-21T18:31:14.040Z"
   },
   {
    "duration": 6,
    "start_time": "2022-06-21T18:32:07.669Z"
   },
   {
    "duration": 5,
    "start_time": "2022-06-21T18:34:28.342Z"
   },
   {
    "duration": 7,
    "start_time": "2022-06-21T18:35:20.637Z"
   },
   {
    "duration": 11,
    "start_time": "2022-06-21T18:35:35.663Z"
   },
   {
    "duration": 15,
    "start_time": "2022-06-21T18:37:39.735Z"
   },
   {
    "duration": 5,
    "start_time": "2022-06-21T18:37:49.815Z"
   },
   {
    "duration": 8,
    "start_time": "2022-06-21T18:38:06.187Z"
   },
   {
    "duration": 14,
    "start_time": "2022-06-21T18:43:34.732Z"
   },
   {
    "duration": 97,
    "start_time": "2022-06-21T18:43:44.918Z"
   },
   {
    "duration": 13,
    "start_time": "2022-06-21T18:44:02.620Z"
   },
   {
    "duration": 6,
    "start_time": "2022-06-21T18:44:09.599Z"
   },
   {
    "duration": 3,
    "start_time": "2022-06-21T18:44:10.299Z"
   },
   {
    "duration": 6,
    "start_time": "2022-06-21T18:44:23.172Z"
   },
   {
    "duration": 6,
    "start_time": "2022-06-21T18:44:31.839Z"
   },
   {
    "duration": 5,
    "start_time": "2022-06-21T18:44:53.275Z"
   },
   {
    "duration": 6,
    "start_time": "2022-06-21T18:45:05.719Z"
   },
   {
    "duration": 10,
    "start_time": "2022-06-21T18:45:52.800Z"
   },
   {
    "duration": 7,
    "start_time": "2022-06-21T18:46:19.300Z"
   },
   {
    "duration": 6,
    "start_time": "2022-06-21T18:46:27.600Z"
   },
   {
    "duration": 8,
    "start_time": "2022-06-21T18:47:30.236Z"
   },
   {
    "duration": 74,
    "start_time": "2022-06-21T18:47:53.041Z"
   },
   {
    "duration": 78,
    "start_time": "2022-06-21T18:48:06.170Z"
   },
   {
    "duration": 6,
    "start_time": "2022-06-21T18:48:10.100Z"
   },
   {
    "duration": 1270,
    "start_time": "2022-06-21T18:48:23.718Z"
   },
   {
    "duration": 1300,
    "start_time": "2022-06-21T18:48:24.990Z"
   },
   {
    "duration": 3,
    "start_time": "2022-06-21T18:48:26.292Z"
   },
   {
    "duration": 1173,
    "start_time": "2022-06-21T18:48:26.297Z"
   },
   {
    "duration": 7,
    "start_time": "2022-06-21T18:48:27.472Z"
   },
   {
    "duration": 13,
    "start_time": "2022-06-21T18:48:27.480Z"
   },
   {
    "duration": 43,
    "start_time": "2022-06-21T18:48:27.494Z"
   },
   {
    "duration": 14,
    "start_time": "2022-06-21T18:48:27.540Z"
   },
   {
    "duration": 20,
    "start_time": "2022-06-21T18:48:27.556Z"
   },
   {
    "duration": 76,
    "start_time": "2022-06-21T18:48:27.578Z"
   },
   {
    "duration": 4,
    "start_time": "2022-06-21T18:48:27.656Z"
   },
   {
    "duration": 115,
    "start_time": "2022-06-21T18:48:27.662Z"
   },
   {
    "duration": 10,
    "start_time": "2022-06-21T18:48:27.779Z"
   },
   {
    "duration": 51,
    "start_time": "2022-06-21T18:48:27.792Z"
   },
   {
    "duration": 28,
    "start_time": "2022-06-21T18:48:27.845Z"
   },
   {
    "duration": 76,
    "start_time": "2022-06-21T18:48:27.875Z"
   },
   {
    "duration": 9,
    "start_time": "2022-06-21T18:48:27.953Z"
   },
   {
    "duration": 64,
    "start_time": "2022-06-21T18:48:27.964Z"
   },
   {
    "duration": 5,
    "start_time": "2022-06-21T18:48:28.039Z"
   },
   {
    "duration": 26,
    "start_time": "2022-06-21T18:48:28.047Z"
   },
   {
    "duration": 83,
    "start_time": "2022-06-21T18:48:28.075Z"
   },
   {
    "duration": 12,
    "start_time": "2022-06-21T18:48:28.159Z"
   },
   {
    "duration": 7,
    "start_time": "2022-06-21T18:48:28.173Z"
   },
   {
    "duration": 25,
    "start_time": "2022-06-21T18:48:28.182Z"
   },
   {
    "duration": 1301,
    "start_time": "2022-06-21T18:48:28.208Z"
   },
   {
    "duration": 323,
    "start_time": "2022-06-21T18:48:29.511Z"
   },
   {
    "duration": 1147,
    "start_time": "2022-06-21T18:48:29.835Z"
   },
   {
    "duration": 302,
    "start_time": "2022-06-21T18:48:30.984Z"
   },
   {
    "duration": 5,
    "start_time": "2022-06-21T18:48:31.287Z"
   },
   {
    "duration": 75,
    "start_time": "2022-06-21T18:48:31.294Z"
   },
   {
    "duration": 36,
    "start_time": "2022-06-21T18:48:31.371Z"
   },
   {
    "duration": 28,
    "start_time": "2022-06-21T18:48:31.409Z"
   },
   {
    "duration": 12,
    "start_time": "2022-06-21T18:48:31.439Z"
   },
   {
    "duration": 14,
    "start_time": "2022-06-21T18:48:31.453Z"
   },
   {
    "duration": 22,
    "start_time": "2022-06-21T18:48:31.469Z"
   },
   {
    "duration": 13,
    "start_time": "2022-06-21T18:48:31.494Z"
   },
   {
    "duration": 28,
    "start_time": "2022-06-21T18:48:31.509Z"
   },
   {
    "duration": 129,
    "start_time": "2022-06-21T18:48:31.539Z"
   },
   {
    "duration": 15,
    "start_time": "2022-06-21T18:48:31.671Z"
   },
   {
    "duration": 12,
    "start_time": "2022-06-21T18:48:31.688Z"
   },
   {
    "duration": 7,
    "start_time": "2022-06-21T18:48:31.704Z"
   },
   {
    "duration": 11,
    "start_time": "2022-06-21T18:48:31.729Z"
   },
   {
    "duration": 13,
    "start_time": "2022-06-21T18:48:31.742Z"
   },
   {
    "duration": 8,
    "start_time": "2022-06-21T18:48:31.757Z"
   },
   {
    "duration": 137,
    "start_time": "2022-06-21T18:48:31.768Z"
   },
   {
    "duration": 0,
    "start_time": "2022-06-21T18:48:31.906Z"
   },
   {
    "duration": 0,
    "start_time": "2022-06-21T18:48:31.908Z"
   },
   {
    "duration": 0,
    "start_time": "2022-06-21T18:48:31.909Z"
   },
   {
    "duration": 0,
    "start_time": "2022-06-21T18:48:31.910Z"
   },
   {
    "duration": 0,
    "start_time": "2022-06-21T18:48:31.911Z"
   },
   {
    "duration": 0,
    "start_time": "2022-06-21T18:48:31.912Z"
   },
   {
    "duration": 0,
    "start_time": "2022-06-21T18:48:31.927Z"
   },
   {
    "duration": 0,
    "start_time": "2022-06-21T18:48:31.928Z"
   },
   {
    "duration": 0,
    "start_time": "2022-06-21T18:48:31.932Z"
   },
   {
    "duration": 1,
    "start_time": "2022-06-21T18:48:31.932Z"
   },
   {
    "duration": 0,
    "start_time": "2022-06-21T18:48:31.934Z"
   },
   {
    "duration": 0,
    "start_time": "2022-06-21T18:48:31.942Z"
   },
   {
    "duration": 0,
    "start_time": "2022-06-21T18:48:31.944Z"
   },
   {
    "duration": 0,
    "start_time": "2022-06-21T18:48:31.945Z"
   },
   {
    "duration": 0,
    "start_time": "2022-06-21T18:48:31.947Z"
   },
   {
    "duration": 0,
    "start_time": "2022-06-21T18:48:31.949Z"
   },
   {
    "duration": 14,
    "start_time": "2022-06-21T18:52:17.109Z"
   },
   {
    "duration": 1320,
    "start_time": "2022-06-21T18:52:56.164Z"
   },
   {
    "duration": 1036,
    "start_time": "2022-06-21T18:52:57.487Z"
   },
   {
    "duration": 5,
    "start_time": "2022-06-21T18:52:58.539Z"
   },
   {
    "duration": 1051,
    "start_time": "2022-06-21T18:52:58.546Z"
   },
   {
    "duration": 32,
    "start_time": "2022-06-21T18:52:59.599Z"
   },
   {
    "duration": 12,
    "start_time": "2022-06-21T18:52:59.633Z"
   },
   {
    "duration": 12,
    "start_time": "2022-06-21T18:52:59.647Z"
   },
   {
    "duration": 22,
    "start_time": "2022-06-21T18:52:59.661Z"
   },
   {
    "duration": 13,
    "start_time": "2022-06-21T18:52:59.684Z"
   },
   {
    "duration": 77,
    "start_time": "2022-06-21T18:52:59.699Z"
   },
   {
    "duration": 4,
    "start_time": "2022-06-21T18:52:59.778Z"
   },
   {
    "duration": 112,
    "start_time": "2022-06-21T18:52:59.783Z"
   },
   {
    "duration": 9,
    "start_time": "2022-06-21T18:52:59.898Z"
   },
   {
    "duration": 50,
    "start_time": "2022-06-21T18:52:59.909Z"
   },
   {
    "duration": 3,
    "start_time": "2022-06-21T18:52:59.961Z"
   },
   {
    "duration": 72,
    "start_time": "2022-06-21T18:52:59.966Z"
   },
   {
    "duration": 9,
    "start_time": "2022-06-21T18:53:00.041Z"
   },
   {
    "duration": 42,
    "start_time": "2022-06-21T18:53:00.052Z"
   },
   {
    "duration": 3,
    "start_time": "2022-06-21T18:53:00.096Z"
   },
   {
    "duration": 33,
    "start_time": "2022-06-21T18:53:00.101Z"
   },
   {
    "duration": 66,
    "start_time": "2022-06-21T18:53:00.135Z"
   },
   {
    "duration": 31,
    "start_time": "2022-06-21T18:53:00.203Z"
   },
   {
    "duration": 10,
    "start_time": "2022-06-21T18:53:00.237Z"
   },
   {
    "duration": 25,
    "start_time": "2022-06-21T18:53:00.249Z"
   },
   {
    "duration": 1266,
    "start_time": "2022-06-21T18:53:00.276Z"
   },
   {
    "duration": 298,
    "start_time": "2022-06-21T18:53:01.544Z"
   },
   {
    "duration": 1119,
    "start_time": "2022-06-21T18:53:01.844Z"
   },
   {
    "duration": 310,
    "start_time": "2022-06-21T18:53:02.965Z"
   },
   {
    "duration": 5,
    "start_time": "2022-06-21T18:53:03.278Z"
   },
   {
    "duration": 72,
    "start_time": "2022-06-21T18:53:03.285Z"
   },
   {
    "duration": 34,
    "start_time": "2022-06-21T18:53:03.359Z"
   },
   {
    "duration": 8,
    "start_time": "2022-06-21T18:53:03.395Z"
   },
   {
    "duration": 33,
    "start_time": "2022-06-21T18:53:03.404Z"
   },
   {
    "duration": 6,
    "start_time": "2022-06-21T18:53:03.439Z"
   },
   {
    "duration": 17,
    "start_time": "2022-06-21T18:53:03.446Z"
   },
   {
    "duration": 13,
    "start_time": "2022-06-21T18:53:03.465Z"
   },
   {
    "duration": 4,
    "start_time": "2022-06-21T18:53:03.479Z"
   },
   {
    "duration": 153,
    "start_time": "2022-06-21T18:53:03.485Z"
   },
   {
    "duration": 16,
    "start_time": "2022-06-21T18:53:03.640Z"
   },
   {
    "duration": 6,
    "start_time": "2022-06-21T18:53:03.659Z"
   },
   {
    "duration": 6,
    "start_time": "2022-06-21T18:53:03.666Z"
   },
   {
    "duration": 10,
    "start_time": "2022-06-21T18:53:03.674Z"
   },
   {
    "duration": 44,
    "start_time": "2022-06-21T18:53:03.686Z"
   },
   {
    "duration": 11,
    "start_time": "2022-06-21T18:53:03.734Z"
   },
   {
    "duration": 118,
    "start_time": "2022-06-21T18:53:03.747Z"
   },
   {
    "duration": 0,
    "start_time": "2022-06-21T18:53:03.867Z"
   },
   {
    "duration": 0,
    "start_time": "2022-06-21T18:53:03.868Z"
   },
   {
    "duration": 0,
    "start_time": "2022-06-21T18:53:03.869Z"
   },
   {
    "duration": 0,
    "start_time": "2022-06-21T18:53:03.870Z"
   },
   {
    "duration": 0,
    "start_time": "2022-06-21T18:53:03.871Z"
   },
   {
    "duration": 0,
    "start_time": "2022-06-21T18:53:03.872Z"
   },
   {
    "duration": 0,
    "start_time": "2022-06-21T18:53:03.873Z"
   },
   {
    "duration": 0,
    "start_time": "2022-06-21T18:53:03.874Z"
   },
   {
    "duration": 0,
    "start_time": "2022-06-21T18:53:03.875Z"
   },
   {
    "duration": 0,
    "start_time": "2022-06-21T18:53:03.877Z"
   },
   {
    "duration": 0,
    "start_time": "2022-06-21T18:53:03.878Z"
   },
   {
    "duration": 0,
    "start_time": "2022-06-21T18:53:03.879Z"
   },
   {
    "duration": 0,
    "start_time": "2022-06-21T18:53:03.879Z"
   },
   {
    "duration": 0,
    "start_time": "2022-06-21T18:53:03.880Z"
   },
   {
    "duration": 0,
    "start_time": "2022-06-21T18:53:03.881Z"
   },
   {
    "duration": 0,
    "start_time": "2022-06-21T18:53:03.882Z"
   },
   {
    "duration": 12,
    "start_time": "2022-06-21T18:53:24.336Z"
   },
   {
    "duration": 1250,
    "start_time": "2022-06-21T18:53:32.973Z"
   },
   {
    "duration": 1176,
    "start_time": "2022-06-21T18:53:34.226Z"
   },
   {
    "duration": 3,
    "start_time": "2022-06-21T18:53:35.403Z"
   },
   {
    "duration": 1046,
    "start_time": "2022-06-21T18:53:35.407Z"
   },
   {
    "duration": 6,
    "start_time": "2022-06-21T18:53:36.455Z"
   },
   {
    "duration": 11,
    "start_time": "2022-06-21T18:53:36.463Z"
   },
   {
    "duration": 12,
    "start_time": "2022-06-21T18:53:36.476Z"
   },
   {
    "duration": 23,
    "start_time": "2022-06-21T18:53:36.489Z"
   },
   {
    "duration": 42,
    "start_time": "2022-06-21T18:53:36.513Z"
   },
   {
    "duration": 77,
    "start_time": "2022-06-21T18:53:36.557Z"
   },
   {
    "duration": 6,
    "start_time": "2022-06-21T18:53:36.636Z"
   },
   {
    "duration": 134,
    "start_time": "2022-06-21T18:53:36.644Z"
   },
   {
    "duration": 13,
    "start_time": "2022-06-21T18:53:36.780Z"
   },
   {
    "duration": 51,
    "start_time": "2022-06-21T18:53:36.796Z"
   },
   {
    "duration": 4,
    "start_time": "2022-06-21T18:53:36.848Z"
   },
   {
    "duration": 58,
    "start_time": "2022-06-21T18:53:36.854Z"
   },
   {
    "duration": 28,
    "start_time": "2022-06-21T18:53:36.914Z"
   },
   {
    "duration": 39,
    "start_time": "2022-06-21T18:53:36.944Z"
   },
   {
    "duration": 3,
    "start_time": "2022-06-21T18:53:36.985Z"
   },
   {
    "duration": 8,
    "start_time": "2022-06-21T18:53:36.990Z"
   },
   {
    "duration": 91,
    "start_time": "2022-06-21T18:53:36.999Z"
   },
   {
    "duration": 9,
    "start_time": "2022-06-21T18:53:37.092Z"
   },
   {
    "duration": 6,
    "start_time": "2022-06-21T18:53:37.102Z"
   },
   {
    "duration": 35,
    "start_time": "2022-06-21T18:53:37.109Z"
   },
   {
    "duration": 1319,
    "start_time": "2022-06-21T18:53:37.146Z"
   },
   {
    "duration": 327,
    "start_time": "2022-06-21T18:53:38.467Z"
   },
   {
    "duration": 1153,
    "start_time": "2022-06-21T18:53:38.796Z"
   },
   {
    "duration": 309,
    "start_time": "2022-06-21T18:53:39.952Z"
   },
   {
    "duration": 5,
    "start_time": "2022-06-21T18:53:40.263Z"
   },
   {
    "duration": 85,
    "start_time": "2022-06-21T18:53:40.271Z"
   },
   {
    "duration": 36,
    "start_time": "2022-06-21T18:53:40.358Z"
   },
   {
    "duration": 8,
    "start_time": "2022-06-21T18:53:40.396Z"
   },
   {
    "duration": 30,
    "start_time": "2022-06-21T18:53:40.406Z"
   },
   {
    "duration": 19,
    "start_time": "2022-06-21T18:53:40.438Z"
   },
   {
    "duration": 22,
    "start_time": "2022-06-21T18:53:40.459Z"
   },
   {
    "duration": 17,
    "start_time": "2022-06-21T18:53:40.483Z"
   },
   {
    "duration": 8,
    "start_time": "2022-06-21T18:53:40.502Z"
   },
   {
    "duration": 149,
    "start_time": "2022-06-21T18:53:40.512Z"
   },
   {
    "duration": 15,
    "start_time": "2022-06-21T18:53:40.663Z"
   },
   {
    "duration": 20,
    "start_time": "2022-06-21T18:53:40.680Z"
   },
   {
    "duration": 12,
    "start_time": "2022-06-21T18:53:40.704Z"
   },
   {
    "duration": 18,
    "start_time": "2022-06-21T18:53:40.733Z"
   },
   {
    "duration": 7,
    "start_time": "2022-06-21T18:53:40.752Z"
   },
   {
    "duration": 7,
    "start_time": "2022-06-21T18:53:40.762Z"
   },
   {
    "duration": 129,
    "start_time": "2022-06-21T18:53:40.771Z"
   },
   {
    "duration": 0,
    "start_time": "2022-06-21T18:53:40.902Z"
   },
   {
    "duration": 0,
    "start_time": "2022-06-21T18:53:40.904Z"
   },
   {
    "duration": 0,
    "start_time": "2022-06-21T18:53:40.905Z"
   },
   {
    "duration": 0,
    "start_time": "2022-06-21T18:53:40.906Z"
   },
   {
    "duration": 0,
    "start_time": "2022-06-21T18:53:40.907Z"
   },
   {
    "duration": 0,
    "start_time": "2022-06-21T18:53:40.909Z"
   },
   {
    "duration": 0,
    "start_time": "2022-06-21T18:53:40.909Z"
   },
   {
    "duration": 0,
    "start_time": "2022-06-21T18:53:40.911Z"
   },
   {
    "duration": 0,
    "start_time": "2022-06-21T18:53:40.930Z"
   },
   {
    "duration": 0,
    "start_time": "2022-06-21T18:53:40.931Z"
   },
   {
    "duration": 0,
    "start_time": "2022-06-21T18:53:40.932Z"
   },
   {
    "duration": 0,
    "start_time": "2022-06-21T18:53:40.934Z"
   },
   {
    "duration": 0,
    "start_time": "2022-06-21T18:53:40.937Z"
   },
   {
    "duration": 0,
    "start_time": "2022-06-21T18:53:40.941Z"
   },
   {
    "duration": 0,
    "start_time": "2022-06-21T18:53:40.943Z"
   },
   {
    "duration": 0,
    "start_time": "2022-06-21T18:53:40.944Z"
   },
   {
    "duration": 1308,
    "start_time": "2022-06-21T18:54:38.394Z"
   },
   {
    "duration": 1036,
    "start_time": "2022-06-21T18:54:39.704Z"
   },
   {
    "duration": 3,
    "start_time": "2022-06-21T18:54:40.742Z"
   },
   {
    "duration": 1125,
    "start_time": "2022-06-21T18:54:40.749Z"
   },
   {
    "duration": 7,
    "start_time": "2022-06-21T18:54:41.875Z"
   },
   {
    "duration": 14,
    "start_time": "2022-06-21T18:54:41.884Z"
   },
   {
    "duration": 38,
    "start_time": "2022-06-21T18:54:41.900Z"
   },
   {
    "duration": 15,
    "start_time": "2022-06-21T18:54:41.940Z"
   },
   {
    "duration": 17,
    "start_time": "2022-06-21T18:54:41.957Z"
   },
   {
    "duration": 80,
    "start_time": "2022-06-21T18:54:41.977Z"
   },
   {
    "duration": 5,
    "start_time": "2022-06-21T18:54:42.058Z"
   },
   {
    "duration": 101,
    "start_time": "2022-06-21T18:54:42.064Z"
   },
   {
    "duration": 10,
    "start_time": "2022-06-21T18:54:42.167Z"
   },
   {
    "duration": 63,
    "start_time": "2022-06-21T18:54:42.179Z"
   },
   {
    "duration": 4,
    "start_time": "2022-06-21T18:54:42.244Z"
   },
   {
    "duration": 53,
    "start_time": "2022-06-21T18:54:42.250Z"
   },
   {
    "duration": 33,
    "start_time": "2022-06-21T18:54:42.305Z"
   },
   {
    "duration": 42,
    "start_time": "2022-06-21T18:54:42.340Z"
   },
   {
    "duration": 3,
    "start_time": "2022-06-21T18:54:42.385Z"
   },
   {
    "duration": 10,
    "start_time": "2022-06-21T18:54:42.390Z"
   },
   {
    "duration": 107,
    "start_time": "2022-06-21T18:54:42.402Z"
   },
   {
    "duration": 18,
    "start_time": "2022-06-21T18:54:42.511Z"
   },
   {
    "duration": 10,
    "start_time": "2022-06-21T18:54:42.532Z"
   },
   {
    "duration": 13,
    "start_time": "2022-06-21T18:54:42.544Z"
   },
   {
    "duration": 1346,
    "start_time": "2022-06-21T18:54:42.559Z"
   },
   {
    "duration": 346,
    "start_time": "2022-06-21T18:54:43.907Z"
   },
   {
    "duration": 1191,
    "start_time": "2022-06-21T18:54:44.255Z"
   },
   {
    "duration": 309,
    "start_time": "2022-06-21T18:54:45.451Z"
   },
   {
    "duration": 6,
    "start_time": "2022-06-21T18:54:45.762Z"
   },
   {
    "duration": 83,
    "start_time": "2022-06-21T18:54:45.770Z"
   },
   {
    "duration": 38,
    "start_time": "2022-06-21T18:54:45.855Z"
   },
   {
    "duration": 8,
    "start_time": "2022-06-21T18:54:45.895Z"
   },
   {
    "duration": 33,
    "start_time": "2022-06-21T18:54:45.905Z"
   },
   {
    "duration": 23,
    "start_time": "2022-06-21T18:54:45.940Z"
   },
   {
    "duration": 43,
    "start_time": "2022-06-21T18:54:45.964Z"
   },
   {
    "duration": 28,
    "start_time": "2022-06-21T18:54:46.009Z"
   },
   {
    "duration": 10,
    "start_time": "2022-06-21T18:54:46.042Z"
   },
   {
    "duration": 169,
    "start_time": "2022-06-21T18:54:46.054Z"
   },
   {
    "duration": 23,
    "start_time": "2022-06-21T18:54:46.224Z"
   },
   {
    "duration": 18,
    "start_time": "2022-06-21T18:54:46.249Z"
   },
   {
    "duration": 17,
    "start_time": "2022-06-21T18:54:46.268Z"
   },
   {
    "duration": 11,
    "start_time": "2022-06-21T18:54:46.287Z"
   },
   {
    "duration": 18,
    "start_time": "2022-06-21T18:54:46.300Z"
   },
   {
    "duration": 23,
    "start_time": "2022-06-21T18:54:46.320Z"
   },
   {
    "duration": 134,
    "start_time": "2022-06-21T18:54:46.345Z"
   },
   {
    "duration": 0,
    "start_time": "2022-06-21T18:54:46.480Z"
   },
   {
    "duration": 0,
    "start_time": "2022-06-21T18:54:46.482Z"
   },
   {
    "duration": 0,
    "start_time": "2022-06-21T18:54:46.483Z"
   },
   {
    "duration": 0,
    "start_time": "2022-06-21T18:54:46.484Z"
   },
   {
    "duration": 0,
    "start_time": "2022-06-21T18:54:46.485Z"
   },
   {
    "duration": 0,
    "start_time": "2022-06-21T18:54:46.486Z"
   },
   {
    "duration": 0,
    "start_time": "2022-06-21T18:54:46.487Z"
   },
   {
    "duration": 0,
    "start_time": "2022-06-21T18:54:46.488Z"
   },
   {
    "duration": 0,
    "start_time": "2022-06-21T18:54:46.489Z"
   },
   {
    "duration": 0,
    "start_time": "2022-06-21T18:54:46.490Z"
   },
   {
    "duration": 0,
    "start_time": "2022-06-21T18:54:46.491Z"
   },
   {
    "duration": 0,
    "start_time": "2022-06-21T18:54:46.491Z"
   },
   {
    "duration": 0,
    "start_time": "2022-06-21T18:54:46.492Z"
   },
   {
    "duration": 0,
    "start_time": "2022-06-21T18:54:46.493Z"
   },
   {
    "duration": 0,
    "start_time": "2022-06-21T18:54:46.494Z"
   },
   {
    "duration": 0,
    "start_time": "2022-06-21T18:54:46.496Z"
   },
   {
    "duration": 5,
    "start_time": "2022-06-21T18:56:01.963Z"
   },
   {
    "duration": 8,
    "start_time": "2022-06-21T18:56:02.697Z"
   },
   {
    "duration": 14,
    "start_time": "2022-06-21T18:56:13.373Z"
   },
   {
    "duration": 12,
    "start_time": "2022-06-21T18:59:16.887Z"
   },
   {
    "duration": 14,
    "start_time": "2022-06-21T18:59:20.724Z"
   },
   {
    "duration": 9,
    "start_time": "2022-06-21T18:59:21.586Z"
   },
   {
    "duration": 10,
    "start_time": "2022-06-21T19:04:48.687Z"
   },
   {
    "duration": 8,
    "start_time": "2022-06-21T19:16:22.766Z"
   },
   {
    "duration": 9,
    "start_time": "2022-06-21T19:16:43.156Z"
   },
   {
    "duration": 7,
    "start_time": "2022-06-21T19:17:22.479Z"
   },
   {
    "duration": 8,
    "start_time": "2022-06-21T19:17:37.759Z"
   },
   {
    "duration": 94,
    "start_time": "2022-06-21T19:18:52.326Z"
   },
   {
    "duration": 4,
    "start_time": "2022-06-21T19:20:31.253Z"
   },
   {
    "duration": 6,
    "start_time": "2022-06-21T19:20:41.315Z"
   },
   {
    "duration": 148,
    "start_time": "2022-06-21T19:21:13.587Z"
   },
   {
    "duration": 31,
    "start_time": "2022-06-21T19:22:33.740Z"
   },
   {
    "duration": 28,
    "start_time": "2022-06-21T19:23:08.160Z"
   },
   {
    "duration": 24,
    "start_time": "2022-06-21T19:23:40.227Z"
   },
   {
    "duration": 24,
    "start_time": "2022-06-21T19:24:09.349Z"
   },
   {
    "duration": 37,
    "start_time": "2022-06-21T19:25:20.314Z"
   },
   {
    "duration": 1252,
    "start_time": "2022-06-21T19:25:41.167Z"
   },
   {
    "duration": 1011,
    "start_time": "2022-06-21T19:25:42.422Z"
   },
   {
    "duration": 3,
    "start_time": "2022-06-21T19:25:43.436Z"
   },
   {
    "duration": 1223,
    "start_time": "2022-06-21T19:25:43.441Z"
   },
   {
    "duration": 8,
    "start_time": "2022-06-21T19:25:44.665Z"
   },
   {
    "duration": 9,
    "start_time": "2022-06-21T19:25:44.675Z"
   },
   {
    "duration": 18,
    "start_time": "2022-06-21T19:25:44.686Z"
   },
   {
    "duration": 28,
    "start_time": "2022-06-21T19:25:44.706Z"
   },
   {
    "duration": 19,
    "start_time": "2022-06-21T19:25:44.745Z"
   },
   {
    "duration": 79,
    "start_time": "2022-06-21T19:25:44.768Z"
   },
   {
    "duration": 6,
    "start_time": "2022-06-21T19:25:44.852Z"
   },
   {
    "duration": 98,
    "start_time": "2022-06-21T19:25:44.860Z"
   },
   {
    "duration": 12,
    "start_time": "2022-06-21T19:25:44.961Z"
   },
   {
    "duration": 62,
    "start_time": "2022-06-21T19:25:44.975Z"
   },
   {
    "duration": 12,
    "start_time": "2022-06-21T19:25:45.039Z"
   },
   {
    "duration": 57,
    "start_time": "2022-06-21T19:25:45.058Z"
   },
   {
    "duration": 19,
    "start_time": "2022-06-21T19:25:45.117Z"
   },
   {
    "duration": 79,
    "start_time": "2022-06-21T19:25:45.137Z"
   },
   {
    "duration": 5,
    "start_time": "2022-06-21T19:25:45.218Z"
   },
   {
    "duration": 28,
    "start_time": "2022-06-21T19:25:45.235Z"
   },
   {
    "duration": 67,
    "start_time": "2022-06-21T19:25:45.266Z"
   },
   {
    "duration": 25,
    "start_time": "2022-06-21T19:25:45.335Z"
   },
   {
    "duration": 7,
    "start_time": "2022-06-21T19:25:45.363Z"
   },
   {
    "duration": 14,
    "start_time": "2022-06-21T19:25:45.372Z"
   },
   {
    "duration": 1384,
    "start_time": "2022-06-21T19:25:45.388Z"
   },
   {
    "duration": 347,
    "start_time": "2022-06-21T19:25:46.776Z"
   },
   {
    "duration": 1176,
    "start_time": "2022-06-21T19:25:47.125Z"
   },
   {
    "duration": 317,
    "start_time": "2022-06-21T19:25:48.305Z"
   },
   {
    "duration": 7,
    "start_time": "2022-06-21T19:25:48.638Z"
   },
   {
    "duration": 76,
    "start_time": "2022-06-21T19:25:48.647Z"
   },
   {
    "duration": 47,
    "start_time": "2022-06-21T19:25:48.725Z"
   },
   {
    "duration": 12,
    "start_time": "2022-06-21T19:25:48.774Z"
   },
   {
    "duration": 14,
    "start_time": "2022-06-21T19:25:48.788Z"
   },
   {
    "duration": 35,
    "start_time": "2022-06-21T19:25:48.804Z"
   },
   {
    "duration": 68,
    "start_time": "2022-06-21T19:25:48.843Z"
   },
   {
    "duration": 74,
    "start_time": "2022-06-21T19:25:48.913Z"
   },
   {
    "duration": 11,
    "start_time": "2022-06-21T19:25:48.989Z"
   },
   {
    "duration": 221,
    "start_time": "2022-06-21T19:25:49.002Z"
   },
   {
    "duration": 31,
    "start_time": "2022-06-21T19:25:49.225Z"
   },
   {
    "duration": 21,
    "start_time": "2022-06-21T19:25:49.259Z"
   },
   {
    "duration": 23,
    "start_time": "2022-06-21T19:25:49.282Z"
   },
   {
    "duration": 21,
    "start_time": "2022-06-21T19:25:49.307Z"
   },
   {
    "duration": 40,
    "start_time": "2022-06-21T19:25:49.332Z"
   },
   {
    "duration": 22,
    "start_time": "2022-06-21T19:25:49.373Z"
   },
   {
    "duration": 15,
    "start_time": "2022-06-21T19:25:49.397Z"
   },
   {
    "duration": 19,
    "start_time": "2022-06-21T19:25:49.414Z"
   },
   {
    "duration": 1058,
    "start_time": "2022-06-21T19:25:49.436Z"
   },
   {
    "duration": 3,
    "start_time": "2022-06-21T19:25:50.496Z"
   },
   {
    "duration": 36,
    "start_time": "2022-06-21T19:25:50.501Z"
   },
   {
    "duration": 30,
    "start_time": "2022-06-21T19:25:50.539Z"
   },
   {
    "duration": 52,
    "start_time": "2022-06-21T19:25:50.571Z"
   },
   {
    "duration": 40,
    "start_time": "2022-06-21T19:25:50.625Z"
   },
   {
    "duration": 20,
    "start_time": "2022-06-21T19:25:50.667Z"
   },
   {
    "duration": 29,
    "start_time": "2022-06-21T19:25:50.690Z"
   },
   {
    "duration": 42,
    "start_time": "2022-06-21T19:25:50.721Z"
   },
   {
    "duration": 23,
    "start_time": "2022-06-21T19:25:50.766Z"
   },
   {
    "duration": 13,
    "start_time": "2022-06-21T19:25:50.791Z"
   },
   {
    "duration": 20,
    "start_time": "2022-06-21T19:26:05.794Z"
   },
   {
    "duration": 24,
    "start_time": "2022-06-21T19:26:27.511Z"
   },
   {
    "duration": 28,
    "start_time": "2022-06-21T19:26:41.011Z"
   },
   {
    "duration": 20,
    "start_time": "2022-06-21T19:28:01.120Z"
   },
   {
    "duration": 10,
    "start_time": "2022-06-21T19:28:18.370Z"
   },
   {
    "duration": 11,
    "start_time": "2022-06-21T19:28:32.654Z"
   },
   {
    "duration": 11,
    "start_time": "2022-06-21T19:28:39.955Z"
   },
   {
    "duration": 11,
    "start_time": "2022-06-21T19:29:17.688Z"
   },
   {
    "duration": 136,
    "start_time": "2022-06-21T19:31:26.196Z"
   },
   {
    "duration": 9,
    "start_time": "2022-06-21T19:33:01.878Z"
   },
   {
    "duration": 10,
    "start_time": "2022-06-21T19:33:34.790Z"
   },
   {
    "duration": 14,
    "start_time": "2022-06-21T19:34:02.573Z"
   },
   {
    "duration": 23,
    "start_time": "2022-06-21T19:34:19.220Z"
   },
   {
    "duration": 8,
    "start_time": "2022-06-21T19:34:51.090Z"
   },
   {
    "duration": 12,
    "start_time": "2022-06-21T19:34:55.954Z"
   },
   {
    "duration": 14,
    "start_time": "2022-06-21T19:35:23.608Z"
   },
   {
    "duration": 21,
    "start_time": "2022-06-21T19:35:43.696Z"
   },
   {
    "duration": 19,
    "start_time": "2022-06-21T19:35:58.540Z"
   },
   {
    "duration": 14,
    "start_time": "2022-06-21T19:36:23.301Z"
   },
   {
    "duration": 20,
    "start_time": "2022-06-21T19:37:19.937Z"
   },
   {
    "duration": 14,
    "start_time": "2022-06-21T19:37:48.482Z"
   },
   {
    "duration": 25,
    "start_time": "2022-06-21T19:37:50.551Z"
   },
   {
    "duration": 18,
    "start_time": "2022-06-21T19:38:13.738Z"
   },
   {
    "duration": 44,
    "start_time": "2022-06-21T19:41:38.009Z"
   },
   {
    "duration": 25,
    "start_time": "2022-06-21T19:42:01.503Z"
   },
   {
    "duration": 19,
    "start_time": "2022-06-21T19:42:47.018Z"
   },
   {
    "duration": 19,
    "start_time": "2022-06-21T19:42:52.219Z"
   },
   {
    "duration": 89,
    "start_time": "2022-06-21T19:43:47.659Z"
   },
   {
    "duration": 109,
    "start_time": "2022-06-21T19:43:53.282Z"
   },
   {
    "duration": 14,
    "start_time": "2022-06-21T19:44:20.543Z"
   },
   {
    "duration": 23,
    "start_time": "2022-06-21T19:44:39.543Z"
   },
   {
    "duration": 15,
    "start_time": "2022-06-21T19:47:29.358Z"
   },
   {
    "duration": 19,
    "start_time": "2022-06-21T19:48:10.823Z"
   },
   {
    "duration": 26,
    "start_time": "2022-06-21T19:48:22.907Z"
   },
   {
    "duration": 23,
    "start_time": "2022-06-21T19:49:48.814Z"
   },
   {
    "duration": 33,
    "start_time": "2022-06-21T19:50:05.130Z"
   },
   {
    "duration": 22,
    "start_time": "2022-06-21T19:50:18.654Z"
   },
   {
    "duration": 23,
    "start_time": "2022-06-21T19:50:22.444Z"
   },
   {
    "duration": 24,
    "start_time": "2022-06-21T19:50:37.320Z"
   },
   {
    "duration": 23,
    "start_time": "2022-06-21T19:50:57.247Z"
   },
   {
    "duration": 24,
    "start_time": "2022-06-21T19:51:24.165Z"
   },
   {
    "duration": 33,
    "start_time": "2022-06-21T19:52:21.766Z"
   },
   {
    "duration": 20,
    "start_time": "2022-06-21T19:52:47.056Z"
   },
   {
    "duration": 35,
    "start_time": "2022-06-21T19:52:54.130Z"
   },
   {
    "duration": 23,
    "start_time": "2022-06-21T19:53:19.866Z"
   },
   {
    "duration": 36,
    "start_time": "2022-06-21T19:53:38.013Z"
   },
   {
    "duration": 30,
    "start_time": "2022-06-21T19:54:10.326Z"
   },
   {
    "duration": 27,
    "start_time": "2022-06-21T19:54:21.251Z"
   },
   {
    "duration": 34,
    "start_time": "2022-06-21T19:54:55.417Z"
   },
   {
    "duration": 29,
    "start_time": "2022-06-21T19:55:10.250Z"
   },
   {
    "duration": 24,
    "start_time": "2022-06-21T19:56:38.157Z"
   },
   {
    "duration": 24,
    "start_time": "2022-06-21T19:56:57.900Z"
   },
   {
    "duration": 1542,
    "start_time": "2022-06-21T19:57:12.348Z"
   },
   {
    "duration": 1333,
    "start_time": "2022-06-21T19:57:31.221Z"
   },
   {
    "duration": 1767,
    "start_time": "2022-06-21T19:57:32.557Z"
   },
   {
    "duration": 6,
    "start_time": "2022-06-21T19:57:34.326Z"
   },
   {
    "duration": 1250,
    "start_time": "2022-06-21T19:57:34.334Z"
   },
   {
    "duration": 10,
    "start_time": "2022-06-21T19:57:35.587Z"
   },
   {
    "duration": 64,
    "start_time": "2022-06-21T19:57:35.600Z"
   },
   {
    "duration": 20,
    "start_time": "2022-06-21T19:57:35.666Z"
   },
   {
    "duration": 20,
    "start_time": "2022-06-21T19:57:35.688Z"
   },
   {
    "duration": 36,
    "start_time": "2022-06-21T19:57:35.710Z"
   },
   {
    "duration": 66,
    "start_time": "2022-06-21T19:57:35.747Z"
   },
   {
    "duration": 4,
    "start_time": "2022-06-21T19:57:35.815Z"
   },
   {
    "duration": 133,
    "start_time": "2022-06-21T19:57:35.821Z"
   },
   {
    "duration": 14,
    "start_time": "2022-06-21T19:57:35.958Z"
   },
   {
    "duration": 67,
    "start_time": "2022-06-21T19:57:35.976Z"
   },
   {
    "duration": 13,
    "start_time": "2022-06-21T19:57:36.046Z"
   },
   {
    "duration": 58,
    "start_time": "2022-06-21T19:57:36.062Z"
   },
   {
    "duration": 34,
    "start_time": "2022-06-21T19:57:36.122Z"
   },
   {
    "duration": 89,
    "start_time": "2022-06-21T19:57:36.158Z"
   },
   {
    "duration": 5,
    "start_time": "2022-06-21T19:57:36.250Z"
   },
   {
    "duration": 19,
    "start_time": "2022-06-21T19:57:36.259Z"
   },
   {
    "duration": 90,
    "start_time": "2022-06-21T19:57:36.281Z"
   },
   {
    "duration": 10,
    "start_time": "2022-06-21T19:57:36.374Z"
   },
   {
    "duration": 8,
    "start_time": "2022-06-21T19:57:36.386Z"
   },
   {
    "duration": 64,
    "start_time": "2022-06-21T19:57:36.396Z"
   },
   {
    "duration": 1594,
    "start_time": "2022-06-21T19:57:36.462Z"
   },
   {
    "duration": 331,
    "start_time": "2022-06-21T19:57:38.058Z"
   },
   {
    "duration": 1314,
    "start_time": "2022-06-21T19:57:38.391Z"
   },
   {
    "duration": 365,
    "start_time": "2022-06-21T19:57:39.707Z"
   },
   {
    "duration": 5,
    "start_time": "2022-06-21T19:57:40.074Z"
   },
   {
    "duration": 86,
    "start_time": "2022-06-21T19:57:40.082Z"
   },
   {
    "duration": 37,
    "start_time": "2022-06-21T19:57:40.170Z"
   },
   {
    "duration": 16,
    "start_time": "2022-06-21T19:57:40.209Z"
   },
   {
    "duration": 33,
    "start_time": "2022-06-21T19:57:40.228Z"
   },
   {
    "duration": 13,
    "start_time": "2022-06-21T19:57:40.263Z"
   },
   {
    "duration": 23,
    "start_time": "2022-06-21T19:57:40.278Z"
   },
   {
    "duration": 16,
    "start_time": "2022-06-21T19:57:40.302Z"
   },
   {
    "duration": 14,
    "start_time": "2022-06-21T19:57:40.329Z"
   },
   {
    "duration": 157,
    "start_time": "2022-06-21T19:57:40.347Z"
   },
   {
    "duration": 41,
    "start_time": "2022-06-21T19:57:40.506Z"
   },
   {
    "duration": 9,
    "start_time": "2022-06-21T19:57:40.551Z"
   },
   {
    "duration": 131,
    "start_time": "2022-06-21T19:57:40.564Z"
   },
   {
    "duration": 0,
    "start_time": "2022-06-21T19:57:40.697Z"
   },
   {
    "duration": 0,
    "start_time": "2022-06-21T19:57:40.699Z"
   },
   {
    "duration": 0,
    "start_time": "2022-06-21T19:57:40.700Z"
   },
   {
    "duration": 0,
    "start_time": "2022-06-21T19:57:40.701Z"
   },
   {
    "duration": 0,
    "start_time": "2022-06-21T19:57:40.702Z"
   },
   {
    "duration": 0,
    "start_time": "2022-06-21T19:57:40.703Z"
   },
   {
    "duration": 0,
    "start_time": "2022-06-21T19:57:40.704Z"
   },
   {
    "duration": 0,
    "start_time": "2022-06-21T19:57:40.706Z"
   },
   {
    "duration": 0,
    "start_time": "2022-06-21T19:57:40.707Z"
   },
   {
    "duration": 0,
    "start_time": "2022-06-21T19:57:40.730Z"
   },
   {
    "duration": 0,
    "start_time": "2022-06-21T19:57:40.732Z"
   },
   {
    "duration": 0,
    "start_time": "2022-06-21T19:57:40.738Z"
   },
   {
    "duration": 0,
    "start_time": "2022-06-21T19:57:40.739Z"
   },
   {
    "duration": 0,
    "start_time": "2022-06-21T19:57:40.740Z"
   },
   {
    "duration": 0,
    "start_time": "2022-06-21T19:57:40.742Z"
   },
   {
    "duration": 0,
    "start_time": "2022-06-21T19:57:40.743Z"
   },
   {
    "duration": 16,
    "start_time": "2022-06-21T19:58:09.160Z"
   },
   {
    "duration": 21,
    "start_time": "2022-06-21T19:58:26.112Z"
   },
   {
    "duration": 22,
    "start_time": "2022-06-21T19:58:44.531Z"
   },
   {
    "duration": 5,
    "start_time": "2022-06-21T19:58:52.898Z"
   },
   {
    "duration": 23,
    "start_time": "2022-06-21T19:58:53.820Z"
   },
   {
    "duration": 17,
    "start_time": "2022-06-21T19:59:05.150Z"
   },
   {
    "duration": 5,
    "start_time": "2022-06-21T19:59:15.697Z"
   },
   {
    "duration": 9,
    "start_time": "2022-06-21T19:59:20.360Z"
   },
   {
    "duration": 6,
    "start_time": "2022-06-21T19:59:22.896Z"
   },
   {
    "duration": 7,
    "start_time": "2022-06-21T19:59:24.704Z"
   },
   {
    "duration": 23,
    "start_time": "2022-06-21T19:59:29.943Z"
   },
   {
    "duration": 12,
    "start_time": "2022-06-21T19:59:31.351Z"
   },
   {
    "duration": 1441,
    "start_time": "2022-06-21T19:59:33.742Z"
   },
   {
    "duration": 1502,
    "start_time": "2022-06-21T19:59:56.804Z"
   },
   {
    "duration": 1509,
    "start_time": "2022-06-21T20:00:06.438Z"
   },
   {
    "duration": 16,
    "start_time": "2022-06-21T20:00:12.593Z"
   },
   {
    "duration": 21,
    "start_time": "2022-06-21T20:01:32.446Z"
   },
   {
    "duration": 1119,
    "start_time": "2022-06-21T20:01:44.303Z"
   },
   {
    "duration": 1369,
    "start_time": "2022-06-21T20:01:45.427Z"
   },
   {
    "duration": 4,
    "start_time": "2022-06-21T20:01:46.798Z"
   },
   {
    "duration": 1060,
    "start_time": "2022-06-21T20:01:46.804Z"
   },
   {
    "duration": 6,
    "start_time": "2022-06-21T20:01:47.866Z"
   },
   {
    "duration": 8,
    "start_time": "2022-06-21T20:01:47.873Z"
   },
   {
    "duration": 7,
    "start_time": "2022-06-21T20:01:47.882Z"
   },
   {
    "duration": 41,
    "start_time": "2022-06-21T20:01:47.891Z"
   },
   {
    "duration": 18,
    "start_time": "2022-06-21T20:01:47.933Z"
   },
   {
    "duration": 52,
    "start_time": "2022-06-21T20:01:47.955Z"
   },
   {
    "duration": 4,
    "start_time": "2022-06-21T20:01:48.008Z"
   },
   {
    "duration": 99,
    "start_time": "2022-06-21T20:01:48.028Z"
   },
   {
    "duration": 17,
    "start_time": "2022-06-21T20:01:48.132Z"
   },
   {
    "duration": 39,
    "start_time": "2022-06-21T20:01:48.156Z"
   },
   {
    "duration": 4,
    "start_time": "2022-06-21T20:01:48.196Z"
   },
   {
    "duration": 62,
    "start_time": "2022-06-21T20:01:48.202Z"
   },
   {
    "duration": 10,
    "start_time": "2022-06-21T20:01:48.266Z"
   },
   {
    "duration": 68,
    "start_time": "2022-06-21T20:01:48.277Z"
   },
   {
    "duration": 6,
    "start_time": "2022-06-21T20:01:48.350Z"
   },
   {
    "duration": 10,
    "start_time": "2022-06-21T20:01:48.357Z"
   },
   {
    "duration": 79,
    "start_time": "2022-06-21T20:01:48.369Z"
   },
   {
    "duration": 9,
    "start_time": "2022-06-21T20:01:48.451Z"
   },
   {
    "duration": 5,
    "start_time": "2022-06-21T20:01:48.462Z"
   },
   {
    "duration": 11,
    "start_time": "2022-06-21T20:01:48.468Z"
   },
   {
    "duration": 1245,
    "start_time": "2022-06-21T20:01:48.481Z"
   },
   {
    "duration": 275,
    "start_time": "2022-06-21T20:01:49.733Z"
   },
   {
    "duration": 1120,
    "start_time": "2022-06-21T20:01:50.010Z"
   },
   {
    "duration": 261,
    "start_time": "2022-06-21T20:01:51.134Z"
   },
   {
    "duration": 4,
    "start_time": "2022-06-21T20:01:51.396Z"
   },
   {
    "duration": 67,
    "start_time": "2022-06-21T20:01:51.402Z"
   },
   {
    "duration": 30,
    "start_time": "2022-06-21T20:01:51.471Z"
   },
   {
    "duration": 31,
    "start_time": "2022-06-21T20:01:51.503Z"
   },
   {
    "duration": 5,
    "start_time": "2022-06-21T20:01:51.539Z"
   },
   {
    "duration": 16,
    "start_time": "2022-06-21T20:01:51.546Z"
   },
   {
    "duration": 16,
    "start_time": "2022-06-21T20:01:51.563Z"
   },
   {
    "duration": 9,
    "start_time": "2022-06-21T20:01:51.581Z"
   },
   {
    "duration": 3,
    "start_time": "2022-06-21T20:01:51.592Z"
   },
   {
    "duration": 140,
    "start_time": "2022-06-21T20:01:51.597Z"
   },
   {
    "duration": 16,
    "start_time": "2022-06-21T20:01:51.739Z"
   },
   {
    "duration": 12,
    "start_time": "2022-06-21T20:01:51.759Z"
   },
   {
    "duration": 107,
    "start_time": "2022-06-21T20:01:51.772Z"
   },
   {
    "duration": 0,
    "start_time": "2022-06-21T20:01:51.880Z"
   },
   {
    "duration": 0,
    "start_time": "2022-06-21T20:01:51.881Z"
   },
   {
    "duration": 0,
    "start_time": "2022-06-21T20:01:51.883Z"
   },
   {
    "duration": 0,
    "start_time": "2022-06-21T20:01:51.883Z"
   },
   {
    "duration": 0,
    "start_time": "2022-06-21T20:01:51.884Z"
   },
   {
    "duration": 0,
    "start_time": "2022-06-21T20:01:51.885Z"
   },
   {
    "duration": 0,
    "start_time": "2022-06-21T20:01:51.886Z"
   },
   {
    "duration": 0,
    "start_time": "2022-06-21T20:01:51.887Z"
   },
   {
    "duration": 0,
    "start_time": "2022-06-21T20:01:51.888Z"
   },
   {
    "duration": 1,
    "start_time": "2022-06-21T20:01:51.889Z"
   },
   {
    "duration": 0,
    "start_time": "2022-06-21T20:01:51.890Z"
   },
   {
    "duration": 0,
    "start_time": "2022-06-21T20:01:51.891Z"
   },
   {
    "duration": 0,
    "start_time": "2022-06-21T20:01:51.892Z"
   },
   {
    "duration": 0,
    "start_time": "2022-06-21T20:01:51.893Z"
   },
   {
    "duration": 0,
    "start_time": "2022-06-21T20:01:51.894Z"
   },
   {
    "duration": 0,
    "start_time": "2022-06-21T20:01:51.925Z"
   },
   {
    "duration": 21,
    "start_time": "2022-06-21T20:02:02.808Z"
   },
   {
    "duration": 12,
    "start_time": "2022-06-21T20:02:38.646Z"
   },
   {
    "duration": 1224,
    "start_time": "2022-06-21T20:02:50.768Z"
   },
   {
    "duration": 1503,
    "start_time": "2022-06-21T20:02:51.994Z"
   },
   {
    "duration": 3,
    "start_time": "2022-06-21T20:02:53.499Z"
   },
   {
    "duration": 1141,
    "start_time": "2022-06-21T20:02:53.503Z"
   },
   {
    "duration": 10,
    "start_time": "2022-06-21T20:02:54.650Z"
   },
   {
    "duration": 8,
    "start_time": "2022-06-21T20:02:54.663Z"
   },
   {
    "duration": 9,
    "start_time": "2022-06-21T20:02:54.673Z"
   },
   {
    "duration": 15,
    "start_time": "2022-06-21T20:02:54.684Z"
   },
   {
    "duration": 45,
    "start_time": "2022-06-21T20:02:54.700Z"
   },
   {
    "duration": 96,
    "start_time": "2022-06-21T20:02:54.748Z"
   },
   {
    "duration": 5,
    "start_time": "2022-06-21T20:02:54.848Z"
   },
   {
    "duration": 102,
    "start_time": "2022-06-21T20:02:54.854Z"
   },
   {
    "duration": 15,
    "start_time": "2022-06-21T20:02:54.958Z"
   },
   {
    "duration": 39,
    "start_time": "2022-06-21T20:02:54.975Z"
   },
   {
    "duration": 15,
    "start_time": "2022-06-21T20:02:55.016Z"
   },
   {
    "duration": 84,
    "start_time": "2022-06-21T20:02:55.035Z"
   },
   {
    "duration": 19,
    "start_time": "2022-06-21T20:02:55.120Z"
   },
   {
    "duration": 77,
    "start_time": "2022-06-21T20:02:55.142Z"
   },
   {
    "duration": 4,
    "start_time": "2022-06-21T20:02:55.221Z"
   },
   {
    "duration": 38,
    "start_time": "2022-06-21T20:02:55.230Z"
   },
   {
    "duration": 68,
    "start_time": "2022-06-21T20:02:55.270Z"
   },
   {
    "duration": 17,
    "start_time": "2022-06-21T20:02:55.345Z"
   },
   {
    "duration": 6,
    "start_time": "2022-06-21T20:02:55.364Z"
   },
   {
    "duration": 13,
    "start_time": "2022-06-21T20:02:55.371Z"
   },
   {
    "duration": 1367,
    "start_time": "2022-06-21T20:02:55.386Z"
   },
   {
    "duration": 347,
    "start_time": "2022-06-21T20:02:56.759Z"
   },
   {
    "duration": 1143,
    "start_time": "2022-06-21T20:02:57.108Z"
   },
   {
    "duration": 270,
    "start_time": "2022-06-21T20:02:58.255Z"
   },
   {
    "duration": 5,
    "start_time": "2022-06-21T20:02:58.538Z"
   },
   {
    "duration": 54,
    "start_time": "2022-06-21T20:02:58.545Z"
   },
   {
    "duration": 53,
    "start_time": "2022-06-21T20:02:58.600Z"
   },
   {
    "duration": 7,
    "start_time": "2022-06-21T20:02:58.655Z"
   },
   {
    "duration": 4,
    "start_time": "2022-06-21T20:02:58.664Z"
   },
   {
    "duration": 6,
    "start_time": "2022-06-21T20:02:58.670Z"
   },
   {
    "duration": 16,
    "start_time": "2022-06-21T20:02:58.678Z"
   },
   {
    "duration": 44,
    "start_time": "2022-06-21T20:02:58.696Z"
   },
   {
    "duration": 12,
    "start_time": "2022-06-21T20:02:58.742Z"
   },
   {
    "duration": 137,
    "start_time": "2022-06-21T20:02:58.759Z"
   },
   {
    "duration": 14,
    "start_time": "2022-06-21T20:02:58.898Z"
   },
   {
    "duration": 23,
    "start_time": "2022-06-21T20:02:58.913Z"
   },
   {
    "duration": 26,
    "start_time": "2022-06-21T20:02:58.938Z"
   },
   {
    "duration": 11,
    "start_time": "2022-06-21T20:02:58.966Z"
   },
   {
    "duration": 13,
    "start_time": "2022-06-21T20:02:58.978Z"
   },
   {
    "duration": 4,
    "start_time": "2022-06-21T20:02:58.993Z"
   },
   {
    "duration": 7,
    "start_time": "2022-06-21T20:02:58.998Z"
   },
   {
    "duration": 28,
    "start_time": "2022-06-21T20:02:59.007Z"
   },
   {
    "duration": 1015,
    "start_time": "2022-06-21T20:02:59.041Z"
   },
   {
    "duration": 3,
    "start_time": "2022-06-21T20:03:00.058Z"
   },
   {
    "duration": 9,
    "start_time": "2022-06-21T20:03:00.063Z"
   },
   {
    "duration": 3,
    "start_time": "2022-06-21T20:03:00.074Z"
   },
   {
    "duration": 7,
    "start_time": "2022-06-21T20:03:00.079Z"
   },
   {
    "duration": 7,
    "start_time": "2022-06-21T20:03:00.087Z"
   },
   {
    "duration": 63,
    "start_time": "2022-06-21T20:03:00.095Z"
   },
   {
    "duration": 11,
    "start_time": "2022-06-21T20:03:00.160Z"
   },
   {
    "duration": 3,
    "start_time": "2022-06-21T20:03:00.173Z"
   },
   {
    "duration": 11,
    "start_time": "2022-06-21T20:03:00.178Z"
   },
   {
    "duration": 11,
    "start_time": "2022-06-21T20:03:00.191Z"
   },
   {
    "duration": 28,
    "start_time": "2022-06-21T20:03:19.894Z"
   },
   {
    "duration": 17,
    "start_time": "2022-06-21T20:03:29.655Z"
   },
   {
    "duration": 5,
    "start_time": "2022-06-21T20:05:36.396Z"
   },
   {
    "duration": 18,
    "start_time": "2022-06-21T20:05:37.756Z"
   },
   {
    "duration": 93,
    "start_time": "2022-06-21T20:18:53.713Z"
   },
   {
    "duration": 5,
    "start_time": "2022-06-21T20:18:59.349Z"
   },
   {
    "duration": 5,
    "start_time": "2022-06-21T20:19:11.955Z"
   },
   {
    "duration": 3,
    "start_time": "2022-06-21T20:20:50.712Z"
   },
   {
    "duration": 4,
    "start_time": "2022-06-21T20:20:54.100Z"
   },
   {
    "duration": 4,
    "start_time": "2022-06-21T20:21:39.511Z"
   },
   {
    "duration": 6,
    "start_time": "2022-06-21T20:24:24.720Z"
   },
   {
    "duration": 5,
    "start_time": "2022-06-21T20:24:43.095Z"
   },
   {
    "duration": 5,
    "start_time": "2022-06-21T20:24:53.644Z"
   },
   {
    "duration": 5,
    "start_time": "2022-06-21T20:25:03.059Z"
   },
   {
    "duration": 5,
    "start_time": "2022-06-21T20:25:08.189Z"
   },
   {
    "duration": 7,
    "start_time": "2022-06-21T20:26:29.644Z"
   },
   {
    "duration": 6,
    "start_time": "2022-06-21T20:29:27.262Z"
   },
   {
    "duration": 3,
    "start_time": "2022-06-21T20:34:57.747Z"
   },
   {
    "duration": 4,
    "start_time": "2022-06-21T20:35:29.938Z"
   },
   {
    "duration": 107,
    "start_time": "2022-06-21T20:36:22.927Z"
   },
   {
    "duration": 4,
    "start_time": "2022-06-21T20:36:40.390Z"
   },
   {
    "duration": 3,
    "start_time": "2022-06-21T20:36:43.257Z"
   },
   {
    "duration": 4,
    "start_time": "2022-06-21T20:37:07.800Z"
   },
   {
    "duration": 6,
    "start_time": "2022-06-21T20:42:51.517Z"
   },
   {
    "duration": 11,
    "start_time": "2022-06-21T20:44:42.837Z"
   },
   {
    "duration": 6,
    "start_time": "2022-06-21T20:44:57.346Z"
   },
   {
    "duration": 4,
    "start_time": "2022-06-21T20:44:59.019Z"
   },
   {
    "duration": 4,
    "start_time": "2022-06-21T20:45:36.249Z"
   },
   {
    "duration": 3,
    "start_time": "2022-06-21T20:46:17.636Z"
   },
   {
    "duration": 3,
    "start_time": "2022-06-21T20:51:32.213Z"
   },
   {
    "duration": 5,
    "start_time": "2022-06-21T20:51:34.282Z"
   },
   {
    "duration": 4,
    "start_time": "2022-06-21T20:51:41.702Z"
   },
   {
    "duration": 5,
    "start_time": "2022-06-21T20:52:37.602Z"
   },
   {
    "duration": 5,
    "start_time": "2022-06-21T20:59:07.460Z"
   },
   {
    "duration": 16,
    "start_time": "2022-06-21T20:59:07.850Z"
   },
   {
    "duration": 7,
    "start_time": "2022-06-21T20:59:08.560Z"
   },
   {
    "duration": 5,
    "start_time": "2022-06-21T20:59:09.470Z"
   },
   {
    "duration": 4,
    "start_time": "2022-06-21T20:59:11.610Z"
   },
   {
    "duration": 6,
    "start_time": "2022-06-21T20:59:20.750Z"
   },
   {
    "duration": 4,
    "start_time": "2022-06-21T20:59:24.839Z"
   },
   {
    "duration": 5,
    "start_time": "2022-06-21T20:59:29.980Z"
   },
   {
    "duration": 4,
    "start_time": "2022-06-21T20:59:32.439Z"
   },
   {
    "duration": 765,
    "start_time": "2022-06-21T21:00:43.013Z"
   },
   {
    "duration": 12,
    "start_time": "2022-06-21T21:20:17.727Z"
   },
   {
    "duration": 3,
    "start_time": "2022-06-21T21:20:32.558Z"
   },
   {
    "duration": 9,
    "start_time": "2022-06-21T21:22:20.997Z"
   },
   {
    "duration": 10,
    "start_time": "2022-06-21T21:22:21.558Z"
   },
   {
    "duration": 5,
    "start_time": "2022-06-21T21:23:05.207Z"
   },
   {
    "duration": 15,
    "start_time": "2022-06-21T21:23:05.887Z"
   },
   {
    "duration": 12,
    "start_time": "2022-06-21T21:23:42.547Z"
   },
   {
    "duration": 12,
    "start_time": "2022-06-21T21:23:59.337Z"
   },
   {
    "duration": 5,
    "start_time": "2022-06-21T21:25:00.707Z"
   },
   {
    "duration": 12,
    "start_time": "2022-06-21T21:25:01.777Z"
   },
   {
    "duration": 11,
    "start_time": "2022-06-21T21:25:02.808Z"
   },
   {
    "duration": 13,
    "start_time": "2022-06-21T21:26:15.208Z"
   },
   {
    "duration": 5,
    "start_time": "2022-06-21T21:27:06.658Z"
   },
   {
    "duration": 11,
    "start_time": "2022-06-21T21:27:07.157Z"
   },
   {
    "duration": 12,
    "start_time": "2022-06-21T21:27:07.567Z"
   },
   {
    "duration": 11,
    "start_time": "2022-06-21T21:28:42.948Z"
   },
   {
    "duration": 12,
    "start_time": "2022-06-21T21:28:44.147Z"
   },
   {
    "duration": 1285,
    "start_time": "2022-06-21T21:31:14.510Z"
   },
   {
    "duration": 1211,
    "start_time": "2022-06-21T21:31:15.797Z"
   },
   {
    "duration": 3,
    "start_time": "2022-06-21T21:31:17.010Z"
   },
   {
    "duration": 1121,
    "start_time": "2022-06-21T21:31:17.016Z"
   },
   {
    "duration": 7,
    "start_time": "2022-06-21T21:31:18.138Z"
   },
   {
    "duration": 45,
    "start_time": "2022-06-21T21:31:18.146Z"
   },
   {
    "duration": 40,
    "start_time": "2022-06-21T21:31:18.192Z"
   },
   {
    "duration": 15,
    "start_time": "2022-06-21T21:31:18.234Z"
   },
   {
    "duration": 18,
    "start_time": "2022-06-21T21:31:18.251Z"
   },
   {
    "duration": 70,
    "start_time": "2022-06-21T21:31:18.272Z"
   },
   {
    "duration": 4,
    "start_time": "2022-06-21T21:31:18.343Z"
   },
   {
    "duration": 105,
    "start_time": "2022-06-21T21:31:18.349Z"
   },
   {
    "duration": 12,
    "start_time": "2022-06-21T21:31:18.456Z"
   },
   {
    "duration": 56,
    "start_time": "2022-06-21T21:31:18.470Z"
   },
   {
    "duration": 4,
    "start_time": "2022-06-21T21:31:18.528Z"
   },
   {
    "duration": 68,
    "start_time": "2022-06-21T21:31:18.534Z"
   },
   {
    "duration": 22,
    "start_time": "2022-06-21T21:31:18.604Z"
   },
   {
    "duration": 44,
    "start_time": "2022-06-21T21:31:18.628Z"
   },
   {
    "duration": 4,
    "start_time": "2022-06-21T21:31:18.674Z"
   },
   {
    "duration": 13,
    "start_time": "2022-06-21T21:31:18.680Z"
   },
   {
    "duration": 101,
    "start_time": "2022-06-21T21:31:18.695Z"
   },
   {
    "duration": 9,
    "start_time": "2022-06-21T21:31:18.797Z"
   },
   {
    "duration": 21,
    "start_time": "2022-06-21T21:31:18.808Z"
   },
   {
    "duration": 15,
    "start_time": "2022-06-21T21:31:18.831Z"
   },
   {
    "duration": 1232,
    "start_time": "2022-06-21T21:31:18.848Z"
   },
   {
    "duration": 294,
    "start_time": "2022-06-21T21:31:20.082Z"
   },
   {
    "duration": 1111,
    "start_time": "2022-06-21T21:31:20.378Z"
   },
   {
    "duration": 312,
    "start_time": "2022-06-21T21:31:21.493Z"
   },
   {
    "duration": 5,
    "start_time": "2022-06-21T21:31:21.807Z"
   },
   {
    "duration": 61,
    "start_time": "2022-06-21T21:31:21.825Z"
   },
   {
    "duration": 44,
    "start_time": "2022-06-21T21:31:21.888Z"
   },
   {
    "duration": 8,
    "start_time": "2022-06-21T21:31:21.934Z"
   },
   {
    "duration": 4,
    "start_time": "2022-06-21T21:31:21.943Z"
   },
   {
    "duration": 11,
    "start_time": "2022-06-21T21:31:21.949Z"
   },
   {
    "duration": 22,
    "start_time": "2022-06-21T21:31:21.962Z"
   },
   {
    "duration": 43,
    "start_time": "2022-06-21T21:31:21.985Z"
   },
   {
    "duration": 20,
    "start_time": "2022-06-21T21:31:22.030Z"
   },
   {
    "duration": 126,
    "start_time": "2022-06-21T21:31:22.052Z"
   },
   {
    "duration": 16,
    "start_time": "2022-06-21T21:31:22.179Z"
   },
   {
    "duration": 13,
    "start_time": "2022-06-21T21:31:22.197Z"
   },
   {
    "duration": 45,
    "start_time": "2022-06-21T21:31:22.212Z"
   },
   {
    "duration": 18,
    "start_time": "2022-06-21T21:31:22.259Z"
   },
   {
    "duration": 22,
    "start_time": "2022-06-21T21:31:22.279Z"
   },
   {
    "duration": 7,
    "start_time": "2022-06-21T21:31:22.303Z"
   },
   {
    "duration": 15,
    "start_time": "2022-06-21T21:31:22.312Z"
   },
   {
    "duration": 16,
    "start_time": "2022-06-21T21:31:22.328Z"
   },
   {
    "duration": 14,
    "start_time": "2022-06-21T21:31:22.346Z"
   },
   {
    "duration": 15,
    "start_time": "2022-06-21T21:31:22.362Z"
   },
   {
    "duration": 12,
    "start_time": "2022-06-21T21:31:22.378Z"
   },
   {
    "duration": 10,
    "start_time": "2022-06-21T21:31:22.391Z"
   },
   {
    "duration": 16,
    "start_time": "2022-06-21T21:31:22.403Z"
   },
   {
    "duration": 14,
    "start_time": "2022-06-21T21:31:22.425Z"
   },
   {
    "duration": 11,
    "start_time": "2022-06-21T21:31:22.440Z"
   },
   {
    "duration": 19,
    "start_time": "2022-06-21T21:31:22.453Z"
   },
   {
    "duration": 9,
    "start_time": "2022-06-21T21:31:22.474Z"
   },
   {
    "duration": 9,
    "start_time": "2022-06-21T21:31:22.485Z"
   },
   {
    "duration": 7,
    "start_time": "2022-06-21T21:31:22.496Z"
   },
   {
    "duration": 6,
    "start_time": "2022-06-21T21:31:22.526Z"
   },
   {
    "duration": 12,
    "start_time": "2022-06-21T21:31:22.534Z"
   },
   {
    "duration": 1018,
    "start_time": "2022-06-21T21:31:22.547Z"
   },
   {
    "duration": 3,
    "start_time": "2022-06-21T21:31:23.567Z"
   },
   {
    "duration": 13,
    "start_time": "2022-06-21T21:31:23.573Z"
   },
   {
    "duration": 16,
    "start_time": "2022-06-21T21:31:23.587Z"
   },
   {
    "duration": 26,
    "start_time": "2022-06-21T21:31:23.605Z"
   },
   {
    "duration": 13,
    "start_time": "2022-06-21T21:31:23.633Z"
   },
   {
    "duration": 14,
    "start_time": "2022-06-21T21:31:23.648Z"
   },
   {
    "duration": 18,
    "start_time": "2022-06-21T21:31:23.663Z"
   },
   {
    "duration": 2,
    "start_time": "2022-06-21T21:31:23.683Z"
   },
   {
    "duration": 10,
    "start_time": "2022-06-21T21:31:23.687Z"
   },
   {
    "duration": 15,
    "start_time": "2022-06-21T21:31:23.698Z"
   },
   {
    "duration": 9,
    "start_time": "2022-06-21T21:36:15.361Z"
   },
   {
    "duration": 8,
    "start_time": "2022-06-21T21:36:16.073Z"
   },
   {
    "duration": 3,
    "start_time": "2022-06-21T21:36:17.650Z"
   },
   {
    "duration": 5,
    "start_time": "2022-06-21T21:36:40.061Z"
   },
   {
    "duration": 5,
    "start_time": "2022-06-21T21:37:08.251Z"
   },
   {
    "duration": 9,
    "start_time": "2022-06-21T21:37:35.274Z"
   },
   {
    "duration": 8,
    "start_time": "2022-06-21T21:37:36.060Z"
   },
   {
    "duration": 3,
    "start_time": "2022-06-21T21:37:37.111Z"
   },
   {
    "duration": 4,
    "start_time": "2022-06-21T21:37:37.883Z"
   },
   {
    "duration": 4,
    "start_time": "2022-06-21T21:37:38.411Z"
   },
   {
    "duration": 1258,
    "start_time": "2022-06-21T22:15:38.473Z"
   },
   {
    "duration": 1195,
    "start_time": "2022-06-21T22:16:09.048Z"
   },
   {
    "duration": 3425,
    "start_time": "2022-06-21T22:16:10.246Z"
   },
   {
    "duration": 3,
    "start_time": "2022-06-21T22:16:13.672Z"
   },
   {
    "duration": 1072,
    "start_time": "2022-06-21T22:16:13.678Z"
   },
   {
    "duration": 10,
    "start_time": "2022-06-21T22:16:14.752Z"
   },
   {
    "duration": 22,
    "start_time": "2022-06-21T22:16:14.764Z"
   },
   {
    "duration": 38,
    "start_time": "2022-06-21T22:16:14.788Z"
   },
   {
    "duration": 14,
    "start_time": "2022-06-21T22:16:14.828Z"
   },
   {
    "duration": 19,
    "start_time": "2022-06-21T22:16:14.844Z"
   },
   {
    "duration": 81,
    "start_time": "2022-06-21T22:16:14.866Z"
   },
   {
    "duration": 3,
    "start_time": "2022-06-21T22:16:14.949Z"
   },
   {
    "duration": 96,
    "start_time": "2022-06-21T22:16:14.954Z"
   },
   {
    "duration": 9,
    "start_time": "2022-06-21T22:16:15.051Z"
   },
   {
    "duration": 33,
    "start_time": "2022-06-21T22:16:15.062Z"
   },
   {
    "duration": 4,
    "start_time": "2022-06-21T22:16:15.096Z"
   },
   {
    "duration": 51,
    "start_time": "2022-06-21T22:16:15.125Z"
   },
   {
    "duration": 10,
    "start_time": "2022-06-21T22:16:15.178Z"
   },
   {
    "duration": 66,
    "start_time": "2022-06-21T22:16:15.190Z"
   },
   {
    "duration": 4,
    "start_time": "2022-06-21T22:16:15.258Z"
   },
   {
    "duration": 11,
    "start_time": "2022-06-21T22:16:15.264Z"
   },
   {
    "duration": 86,
    "start_time": "2022-06-21T22:16:15.277Z"
   },
   {
    "duration": 10,
    "start_time": "2022-06-21T22:16:15.365Z"
   },
   {
    "duration": 6,
    "start_time": "2022-06-21T22:16:15.377Z"
   },
   {
    "duration": 41,
    "start_time": "2022-06-21T22:16:15.385Z"
   },
   {
    "duration": 1227,
    "start_time": "2022-06-21T22:16:15.428Z"
   },
   {
    "duration": 300,
    "start_time": "2022-06-21T22:16:16.657Z"
   },
   {
    "duration": 1001,
    "start_time": "2022-06-21T22:16:16.959Z"
   },
   {
    "duration": 244,
    "start_time": "2022-06-21T22:16:17.964Z"
   },
   {
    "duration": 18,
    "start_time": "2022-06-21T22:16:18.210Z"
   },
   {
    "duration": 42,
    "start_time": "2022-06-21T22:16:18.230Z"
   },
   {
    "duration": 29,
    "start_time": "2022-06-21T22:16:18.274Z"
   },
   {
    "duration": 27,
    "start_time": "2022-06-21T22:16:18.304Z"
   },
   {
    "duration": 6,
    "start_time": "2022-06-21T22:16:18.332Z"
   },
   {
    "duration": 6,
    "start_time": "2022-06-21T22:16:18.339Z"
   },
   {
    "duration": 15,
    "start_time": "2022-06-21T22:16:18.347Z"
   },
   {
    "duration": 11,
    "start_time": "2022-06-21T22:16:18.364Z"
   },
   {
    "duration": 4,
    "start_time": "2022-06-21T22:16:18.376Z"
   },
   {
    "duration": 133,
    "start_time": "2022-06-21T22:16:18.382Z"
   },
   {
    "duration": 21,
    "start_time": "2022-06-21T22:16:18.516Z"
   },
   {
    "duration": 11,
    "start_time": "2022-06-21T22:16:18.539Z"
   },
   {
    "duration": 14,
    "start_time": "2022-06-21T22:16:18.552Z"
   },
   {
    "duration": 10,
    "start_time": "2022-06-21T22:16:18.567Z"
   },
   {
    "duration": 12,
    "start_time": "2022-06-21T22:16:18.578Z"
   },
   {
    "duration": 5,
    "start_time": "2022-06-21T22:16:18.592Z"
   },
   {
    "duration": 4,
    "start_time": "2022-06-21T22:16:18.626Z"
   },
   {
    "duration": 10,
    "start_time": "2022-06-21T22:16:18.631Z"
   },
   {
    "duration": 7,
    "start_time": "2022-06-21T22:16:18.642Z"
   },
   {
    "duration": 7,
    "start_time": "2022-06-21T22:16:18.650Z"
   },
   {
    "duration": 5,
    "start_time": "2022-06-21T22:16:18.659Z"
   },
   {
    "duration": 8,
    "start_time": "2022-06-21T22:16:18.666Z"
   },
   {
    "duration": 56,
    "start_time": "2022-06-21T22:16:18.675Z"
   },
   {
    "duration": 10,
    "start_time": "2022-06-21T22:16:18.732Z"
   },
   {
    "duration": 19,
    "start_time": "2022-06-21T22:16:18.743Z"
   },
   {
    "duration": 33,
    "start_time": "2022-06-21T22:16:18.763Z"
   },
   {
    "duration": 13,
    "start_time": "2022-06-21T22:16:18.798Z"
   },
   {
    "duration": 15,
    "start_time": "2022-06-21T22:16:18.813Z"
   },
   {
    "duration": 7,
    "start_time": "2022-06-21T22:16:18.830Z"
   },
   {
    "duration": 8,
    "start_time": "2022-06-21T22:16:18.839Z"
   },
   {
    "duration": 20,
    "start_time": "2022-06-21T22:16:18.849Z"
   },
   {
    "duration": 923,
    "start_time": "2022-06-21T22:16:18.871Z"
   },
   {
    "duration": 7,
    "start_time": "2022-06-21T22:16:19.796Z"
   },
   {
    "duration": 21,
    "start_time": "2022-06-21T22:16:19.805Z"
   },
   {
    "duration": 3,
    "start_time": "2022-06-21T22:16:19.828Z"
   },
   {
    "duration": 7,
    "start_time": "2022-06-21T22:16:19.833Z"
   },
   {
    "duration": 7,
    "start_time": "2022-06-21T22:16:19.841Z"
   },
   {
    "duration": 11,
    "start_time": "2022-06-21T22:16:19.849Z"
   },
   {
    "duration": 7,
    "start_time": "2022-06-21T22:16:19.861Z"
   },
   {
    "duration": 2,
    "start_time": "2022-06-21T22:16:19.870Z"
   },
   {
    "duration": 6,
    "start_time": "2022-06-21T22:16:19.874Z"
   },
   {
    "duration": 4,
    "start_time": "2022-06-21T22:16:19.926Z"
   },
   {
    "duration": 106,
    "start_time": "2022-06-21T22:16:19.931Z"
   },
   {
    "duration": 6,
    "start_time": "2022-06-21T22:17:10.917Z"
   },
   {
    "duration": 16,
    "start_time": "2022-06-21T22:29:00.399Z"
   },
   {
    "duration": 16,
    "start_time": "2022-06-21T22:30:26.357Z"
   },
   {
    "duration": 10,
    "start_time": "2022-06-21T22:33:01.937Z"
   },
   {
    "duration": 10,
    "start_time": "2022-06-21T22:33:11.117Z"
   },
   {
    "duration": 6,
    "start_time": "2022-06-21T22:33:16.318Z"
   },
   {
    "duration": 12,
    "start_time": "2022-06-21T22:33:24.589Z"
   },
   {
    "duration": 9,
    "start_time": "2022-06-21T22:33:55.592Z"
   },
   {
    "duration": 12,
    "start_time": "2022-06-21T22:34:09.728Z"
   },
   {
    "duration": 4,
    "start_time": "2022-06-21T22:34:24.498Z"
   },
   {
    "duration": 1224,
    "start_time": "2022-06-21T22:35:17.761Z"
   },
   {
    "duration": 1160,
    "start_time": "2022-06-21T22:35:18.987Z"
   },
   {
    "duration": 17,
    "start_time": "2022-06-21T22:35:20.148Z"
   },
   {
    "duration": 92,
    "start_time": "2022-06-21T22:35:20.167Z"
   },
   {
    "duration": 0,
    "start_time": "2022-06-21T22:35:20.264Z"
   },
   {
    "duration": 0,
    "start_time": "2022-06-21T22:35:20.265Z"
   },
   {
    "duration": 0,
    "start_time": "2022-06-21T22:35:20.267Z"
   },
   {
    "duration": 0,
    "start_time": "2022-06-21T22:35:20.268Z"
   },
   {
    "duration": 0,
    "start_time": "2022-06-21T22:35:20.270Z"
   },
   {
    "duration": 1,
    "start_time": "2022-06-21T22:35:20.271Z"
   },
   {
    "duration": 0,
    "start_time": "2022-06-21T22:35:20.273Z"
   },
   {
    "duration": 0,
    "start_time": "2022-06-21T22:35:20.275Z"
   },
   {
    "duration": 0,
    "start_time": "2022-06-21T22:35:20.276Z"
   },
   {
    "duration": 0,
    "start_time": "2022-06-21T22:35:20.278Z"
   },
   {
    "duration": 0,
    "start_time": "2022-06-21T22:35:20.279Z"
   },
   {
    "duration": 0,
    "start_time": "2022-06-21T22:35:20.280Z"
   },
   {
    "duration": 0,
    "start_time": "2022-06-21T22:35:20.282Z"
   },
   {
    "duration": 0,
    "start_time": "2022-06-21T22:35:20.284Z"
   },
   {
    "duration": 0,
    "start_time": "2022-06-21T22:35:20.285Z"
   },
   {
    "duration": 0,
    "start_time": "2022-06-21T22:35:20.286Z"
   },
   {
    "duration": 0,
    "start_time": "2022-06-21T22:35:20.326Z"
   },
   {
    "duration": 0,
    "start_time": "2022-06-21T22:35:20.327Z"
   },
   {
    "duration": 0,
    "start_time": "2022-06-21T22:35:20.329Z"
   },
   {
    "duration": 0,
    "start_time": "2022-06-21T22:35:20.330Z"
   },
   {
    "duration": 0,
    "start_time": "2022-06-21T22:35:20.331Z"
   },
   {
    "duration": 0,
    "start_time": "2022-06-21T22:35:20.332Z"
   },
   {
    "duration": 0,
    "start_time": "2022-06-21T22:35:20.333Z"
   },
   {
    "duration": 0,
    "start_time": "2022-06-21T22:35:20.334Z"
   },
   {
    "duration": 0,
    "start_time": "2022-06-21T22:35:20.334Z"
   },
   {
    "duration": 0,
    "start_time": "2022-06-21T22:35:20.335Z"
   },
   {
    "duration": 0,
    "start_time": "2022-06-21T22:35:20.337Z"
   },
   {
    "duration": 0,
    "start_time": "2022-06-21T22:35:20.338Z"
   },
   {
    "duration": 0,
    "start_time": "2022-06-21T22:35:20.339Z"
   },
   {
    "duration": 0,
    "start_time": "2022-06-21T22:35:20.340Z"
   },
   {
    "duration": 0,
    "start_time": "2022-06-21T22:35:20.342Z"
   },
   {
    "duration": 0,
    "start_time": "2022-06-21T22:35:20.343Z"
   },
   {
    "duration": 0,
    "start_time": "2022-06-21T22:35:20.344Z"
   },
   {
    "duration": 0,
    "start_time": "2022-06-21T22:35:20.345Z"
   },
   {
    "duration": 0,
    "start_time": "2022-06-21T22:35:20.346Z"
   },
   {
    "duration": 0,
    "start_time": "2022-06-21T22:35:20.347Z"
   },
   {
    "duration": 0,
    "start_time": "2022-06-21T22:35:20.348Z"
   },
   {
    "duration": 0,
    "start_time": "2022-06-21T22:35:20.349Z"
   },
   {
    "duration": 0,
    "start_time": "2022-06-21T22:35:20.351Z"
   },
   {
    "duration": 0,
    "start_time": "2022-06-21T22:35:20.352Z"
   },
   {
    "duration": 0,
    "start_time": "2022-06-21T22:35:20.353Z"
   },
   {
    "duration": 0,
    "start_time": "2022-06-21T22:35:20.354Z"
   },
   {
    "duration": 0,
    "start_time": "2022-06-21T22:35:20.355Z"
   },
   {
    "duration": 0,
    "start_time": "2022-06-21T22:35:20.356Z"
   },
   {
    "duration": 0,
    "start_time": "2022-06-21T22:35:20.357Z"
   },
   {
    "duration": 0,
    "start_time": "2022-06-21T22:35:20.358Z"
   },
   {
    "duration": 0,
    "start_time": "2022-06-21T22:35:20.359Z"
   },
   {
    "duration": 0,
    "start_time": "2022-06-21T22:35:20.360Z"
   },
   {
    "duration": 1,
    "start_time": "2022-06-21T22:35:20.361Z"
   },
   {
    "duration": 0,
    "start_time": "2022-06-21T22:35:20.362Z"
   },
   {
    "duration": 0,
    "start_time": "2022-06-21T22:35:20.426Z"
   },
   {
    "duration": 0,
    "start_time": "2022-06-21T22:35:20.427Z"
   },
   {
    "duration": 0,
    "start_time": "2022-06-21T22:35:20.428Z"
   },
   {
    "duration": 0,
    "start_time": "2022-06-21T22:35:20.429Z"
   },
   {
    "duration": 0,
    "start_time": "2022-06-21T22:35:20.430Z"
   },
   {
    "duration": 0,
    "start_time": "2022-06-21T22:35:20.431Z"
   },
   {
    "duration": 0,
    "start_time": "2022-06-21T22:35:20.432Z"
   },
   {
    "duration": 0,
    "start_time": "2022-06-21T22:35:20.433Z"
   },
   {
    "duration": 0,
    "start_time": "2022-06-21T22:35:20.434Z"
   },
   {
    "duration": 0,
    "start_time": "2022-06-21T22:35:20.435Z"
   },
   {
    "duration": 0,
    "start_time": "2022-06-21T22:35:20.436Z"
   },
   {
    "duration": 0,
    "start_time": "2022-06-21T22:35:20.437Z"
   },
   {
    "duration": 0,
    "start_time": "2022-06-21T22:35:20.438Z"
   },
   {
    "duration": 0,
    "start_time": "2022-06-21T22:35:20.439Z"
   },
   {
    "duration": 0,
    "start_time": "2022-06-21T22:35:20.440Z"
   },
   {
    "duration": 0,
    "start_time": "2022-06-21T22:35:20.441Z"
   },
   {
    "duration": 0,
    "start_time": "2022-06-21T22:35:20.442Z"
   },
   {
    "duration": 0,
    "start_time": "2022-06-21T22:35:20.443Z"
   },
   {
    "duration": 0,
    "start_time": "2022-06-21T22:35:20.444Z"
   },
   {
    "duration": 0,
    "start_time": "2022-06-21T22:35:20.445Z"
   },
   {
    "duration": 0,
    "start_time": "2022-06-21T22:35:20.446Z"
   },
   {
    "duration": 83,
    "start_time": "2022-06-21T22:36:55.001Z"
   },
   {
    "duration": 13,
    "start_time": "2022-06-21T22:37:04.194Z"
   },
   {
    "duration": 3,
    "start_time": "2022-06-21T22:38:02.341Z"
   },
   {
    "duration": 1172,
    "start_time": "2022-06-21T22:38:02.860Z"
   },
   {
    "duration": 12,
    "start_time": "2022-06-21T22:38:04.731Z"
   },
   {
    "duration": 21,
    "start_time": "2022-06-21T22:42:10.795Z"
   },
   {
    "duration": 19,
    "start_time": "2022-06-21T22:42:15.583Z"
   },
   {
    "duration": 21,
    "start_time": "2022-06-21T22:42:30.431Z"
   },
   {
    "duration": 1129,
    "start_time": "2022-06-21T22:48:14.967Z"
   },
   {
    "duration": 1373,
    "start_time": "2022-06-21T22:48:16.098Z"
   },
   {
    "duration": 2,
    "start_time": "2022-06-21T22:48:17.473Z"
   },
   {
    "duration": 983,
    "start_time": "2022-06-21T22:48:17.477Z"
   },
   {
    "duration": 6,
    "start_time": "2022-06-21T22:48:18.462Z"
   },
   {
    "duration": 8,
    "start_time": "2022-06-21T22:48:18.469Z"
   },
   {
    "duration": 8,
    "start_time": "2022-06-21T22:48:18.478Z"
   },
   {
    "duration": 43,
    "start_time": "2022-06-21T22:48:18.488Z"
   },
   {
    "duration": 12,
    "start_time": "2022-06-21T22:48:18.533Z"
   },
   {
    "duration": 55,
    "start_time": "2022-06-21T22:48:18.546Z"
   },
   {
    "duration": 24,
    "start_time": "2022-06-21T22:48:18.603Z"
   },
   {
    "duration": 99,
    "start_time": "2022-06-21T22:48:18.630Z"
   },
   {
    "duration": 11,
    "start_time": "2022-06-21T22:48:18.731Z"
   },
   {
    "duration": 39,
    "start_time": "2022-06-21T22:48:18.747Z"
   },
   {
    "duration": 4,
    "start_time": "2022-06-21T22:48:18.788Z"
   },
   {
    "duration": 90,
    "start_time": "2022-06-21T22:48:18.793Z"
   },
   {
    "duration": 9,
    "start_time": "2022-06-21T22:48:18.885Z"
   },
   {
    "duration": 62,
    "start_time": "2022-06-21T22:48:18.895Z"
   },
   {
    "duration": 4,
    "start_time": "2022-06-21T22:48:18.959Z"
   },
   {
    "duration": 18,
    "start_time": "2022-06-21T22:48:18.965Z"
   },
   {
    "duration": 71,
    "start_time": "2022-06-21T22:48:18.985Z"
   },
   {
    "duration": 9,
    "start_time": "2022-06-21T22:48:19.058Z"
   },
   {
    "duration": 6,
    "start_time": "2022-06-21T22:48:19.068Z"
   },
   {
    "duration": 11,
    "start_time": "2022-06-21T22:48:19.075Z"
   },
   {
    "duration": 1250,
    "start_time": "2022-06-21T22:48:19.088Z"
   },
   {
    "duration": 288,
    "start_time": "2022-06-21T22:48:20.340Z"
   },
   {
    "duration": 1050,
    "start_time": "2022-06-21T22:48:20.630Z"
   },
   {
    "duration": 278,
    "start_time": "2022-06-21T22:48:21.682Z"
   },
   {
    "duration": 4,
    "start_time": "2022-06-21T22:48:21.962Z"
   },
   {
    "duration": 64,
    "start_time": "2022-06-21T22:48:21.968Z"
   },
   {
    "duration": 36,
    "start_time": "2022-06-21T22:48:22.034Z"
   },
   {
    "duration": 8,
    "start_time": "2022-06-21T22:48:22.072Z"
   },
   {
    "duration": 6,
    "start_time": "2022-06-21T22:48:22.082Z"
   },
   {
    "duration": 12,
    "start_time": "2022-06-21T22:48:22.090Z"
   },
   {
    "duration": 16,
    "start_time": "2022-06-21T22:48:22.124Z"
   },
   {
    "duration": 13,
    "start_time": "2022-06-21T22:48:22.142Z"
   },
   {
    "duration": 5,
    "start_time": "2022-06-21T22:48:22.156Z"
   },
   {
    "duration": 159,
    "start_time": "2022-06-21T22:48:22.163Z"
   },
   {
    "duration": 18,
    "start_time": "2022-06-21T22:48:22.326Z"
   },
   {
    "duration": 8,
    "start_time": "2022-06-21T22:48:22.346Z"
   },
   {
    "duration": 12,
    "start_time": "2022-06-21T22:48:22.358Z"
   },
   {
    "duration": 11,
    "start_time": "2022-06-21T22:48:22.371Z"
   },
   {
    "duration": 45,
    "start_time": "2022-06-21T22:48:22.384Z"
   },
   {
    "duration": 11,
    "start_time": "2022-06-21T22:48:22.430Z"
   },
   {
    "duration": 10,
    "start_time": "2022-06-21T22:48:22.443Z"
   },
   {
    "duration": 14,
    "start_time": "2022-06-21T22:48:22.454Z"
   },
   {
    "duration": 13,
    "start_time": "2022-06-21T22:48:22.469Z"
   },
   {
    "duration": 18,
    "start_time": "2022-06-21T22:48:22.484Z"
   },
   {
    "duration": 5,
    "start_time": "2022-06-21T22:48:22.504Z"
   },
   {
    "duration": 5,
    "start_time": "2022-06-21T22:48:22.525Z"
   },
   {
    "duration": 12,
    "start_time": "2022-06-21T22:48:22.531Z"
   },
   {
    "duration": 13,
    "start_time": "2022-06-21T22:48:22.545Z"
   },
   {
    "duration": 9,
    "start_time": "2022-06-21T22:48:22.559Z"
   },
   {
    "duration": 8,
    "start_time": "2022-06-21T22:48:22.569Z"
   },
   {
    "duration": 8,
    "start_time": "2022-06-21T22:48:22.578Z"
   },
   {
    "duration": 7,
    "start_time": "2022-06-21T22:48:22.624Z"
   },
   {
    "duration": 8,
    "start_time": "2022-06-21T22:48:22.634Z"
   },
   {
    "duration": 12,
    "start_time": "2022-06-21T22:48:22.644Z"
   },
   {
    "duration": 11,
    "start_time": "2022-06-21T22:48:22.659Z"
   },
   {
    "duration": 1016,
    "start_time": "2022-06-21T22:48:22.672Z"
   },
   {
    "duration": 7,
    "start_time": "2022-06-21T22:48:23.690Z"
   },
   {
    "duration": 30,
    "start_time": "2022-06-21T22:48:23.699Z"
   },
   {
    "duration": 3,
    "start_time": "2022-06-21T22:48:23.731Z"
   },
   {
    "duration": 7,
    "start_time": "2022-06-21T22:48:23.735Z"
   },
   {
    "duration": 6,
    "start_time": "2022-06-21T22:48:23.743Z"
   },
   {
    "duration": 15,
    "start_time": "2022-06-21T22:48:23.750Z"
   },
   {
    "duration": 8,
    "start_time": "2022-06-21T22:48:23.767Z"
   },
   {
    "duration": 2,
    "start_time": "2022-06-21T22:48:23.777Z"
   },
   {
    "duration": 7,
    "start_time": "2022-06-21T22:48:23.781Z"
   },
   {
    "duration": 38,
    "start_time": "2022-06-21T22:48:23.790Z"
   },
   {
    "duration": 1084,
    "start_time": "2022-06-21T23:00:08.150Z"
   },
   {
    "duration": 1149,
    "start_time": "2022-06-21T23:00:09.236Z"
   },
   {
    "duration": 3,
    "start_time": "2022-06-21T23:00:10.387Z"
   },
   {
    "duration": 1038,
    "start_time": "2022-06-21T23:00:10.393Z"
   },
   {
    "duration": 7,
    "start_time": "2022-06-21T23:00:11.433Z"
   },
   {
    "duration": 11,
    "start_time": "2022-06-21T23:00:11.442Z"
   },
   {
    "duration": 10,
    "start_time": "2022-06-21T23:00:11.455Z"
   },
   {
    "duration": 12,
    "start_time": "2022-06-21T23:00:11.467Z"
   },
   {
    "duration": 11,
    "start_time": "2022-06-21T23:00:11.481Z"
   },
   {
    "duration": 68,
    "start_time": "2022-06-21T23:00:11.525Z"
   },
   {
    "duration": 4,
    "start_time": "2022-06-21T23:00:11.595Z"
   },
   {
    "duration": 81,
    "start_time": "2022-06-21T23:00:11.625Z"
   },
   {
    "duration": 26,
    "start_time": "2022-06-21T23:00:11.708Z"
   },
   {
    "duration": 32,
    "start_time": "2022-06-21T23:00:11.736Z"
   },
   {
    "duration": 4,
    "start_time": "2022-06-21T23:00:11.770Z"
   },
   {
    "duration": 81,
    "start_time": "2022-06-21T23:00:11.775Z"
   },
   {
    "duration": 10,
    "start_time": "2022-06-21T23:00:11.858Z"
   },
   {
    "duration": 56,
    "start_time": "2022-06-21T23:00:11.869Z"
   },
   {
    "duration": 4,
    "start_time": "2022-06-21T23:00:11.927Z"
   },
   {
    "duration": 7,
    "start_time": "2022-06-21T23:00:11.933Z"
   },
   {
    "duration": 61,
    "start_time": "2022-06-21T23:00:11.942Z"
   },
   {
    "duration": 30,
    "start_time": "2022-06-21T23:00:12.004Z"
   },
   {
    "duration": 6,
    "start_time": "2022-06-21T23:00:12.036Z"
   },
   {
    "duration": 12,
    "start_time": "2022-06-21T23:00:12.043Z"
   },
   {
    "duration": 1196,
    "start_time": "2022-06-21T23:00:12.056Z"
   },
   {
    "duration": 278,
    "start_time": "2022-06-21T23:00:13.254Z"
   },
   {
    "duration": 1098,
    "start_time": "2022-06-21T23:00:13.534Z"
   },
   {
    "duration": 268,
    "start_time": "2022-06-21T23:00:14.635Z"
   },
   {
    "duration": 5,
    "start_time": "2022-06-21T23:00:14.904Z"
   },
   {
    "duration": 56,
    "start_time": "2022-06-21T23:00:14.910Z"
   },
   {
    "duration": 31,
    "start_time": "2022-06-21T23:00:14.968Z"
   },
   {
    "duration": 31,
    "start_time": "2022-06-21T23:00:15.000Z"
   },
   {
    "duration": 4,
    "start_time": "2022-06-21T23:00:15.032Z"
   },
   {
    "duration": 7,
    "start_time": "2022-06-21T23:00:15.038Z"
   },
   {
    "duration": 18,
    "start_time": "2022-06-21T23:00:15.047Z"
   },
   {
    "duration": 10,
    "start_time": "2022-06-21T23:00:15.066Z"
   },
   {
    "duration": 3,
    "start_time": "2022-06-21T23:00:15.078Z"
   },
   {
    "duration": 151,
    "start_time": "2022-06-21T23:00:15.082Z"
   },
   {
    "duration": 14,
    "start_time": "2022-06-21T23:00:15.235Z"
   },
   {
    "duration": 9,
    "start_time": "2022-06-21T23:00:15.250Z"
   },
   {
    "duration": 10,
    "start_time": "2022-06-21T23:00:15.261Z"
   },
   {
    "duration": 11,
    "start_time": "2022-06-21T23:00:15.272Z"
   },
   {
    "duration": 44,
    "start_time": "2022-06-21T23:00:15.285Z"
   },
   {
    "duration": 5,
    "start_time": "2022-06-21T23:00:15.330Z"
   },
   {
    "duration": 10,
    "start_time": "2022-06-21T23:00:15.337Z"
   },
   {
    "duration": 6,
    "start_time": "2022-06-21T23:00:15.349Z"
   },
   {
    "duration": 6,
    "start_time": "2022-06-21T23:00:15.357Z"
   },
   {
    "duration": 7,
    "start_time": "2022-06-21T23:00:15.364Z"
   },
   {
    "duration": 54,
    "start_time": "2022-06-21T23:00:15.372Z"
   },
   {
    "duration": 4,
    "start_time": "2022-06-21T23:00:15.428Z"
   },
   {
    "duration": 10,
    "start_time": "2022-06-21T23:00:15.433Z"
   },
   {
    "duration": 12,
    "start_time": "2022-06-21T23:00:15.445Z"
   },
   {
    "duration": 9,
    "start_time": "2022-06-21T23:00:15.458Z"
   },
   {
    "duration": 11,
    "start_time": "2022-06-21T23:00:15.468Z"
   },
   {
    "duration": 6,
    "start_time": "2022-06-21T23:00:15.481Z"
   },
   {
    "duration": 41,
    "start_time": "2022-06-21T23:00:15.488Z"
   },
   {
    "duration": 12,
    "start_time": "2022-06-21T23:00:15.531Z"
   },
   {
    "duration": 15,
    "start_time": "2022-06-21T23:00:15.545Z"
   },
   {
    "duration": 6,
    "start_time": "2022-06-21T23:00:15.562Z"
   },
   {
    "duration": 932,
    "start_time": "2022-06-21T23:00:15.569Z"
   },
   {
    "duration": 21,
    "start_time": "2022-06-21T23:00:16.504Z"
   },
   {
    "duration": 9,
    "start_time": "2022-06-21T23:00:16.528Z"
   },
   {
    "duration": 6,
    "start_time": "2022-06-21T23:00:16.539Z"
   },
   {
    "duration": 20,
    "start_time": "2022-06-21T23:00:16.547Z"
   },
   {
    "duration": 13,
    "start_time": "2022-06-21T23:00:16.569Z"
   },
   {
    "duration": 18,
    "start_time": "2022-06-21T23:00:16.584Z"
   },
   {
    "duration": 23,
    "start_time": "2022-06-21T23:00:16.604Z"
   },
   {
    "duration": 3,
    "start_time": "2022-06-21T23:00:16.629Z"
   },
   {
    "duration": 7,
    "start_time": "2022-06-21T23:00:16.633Z"
   },
   {
    "duration": 5,
    "start_time": "2022-06-21T23:00:16.642Z"
   },
   {
    "duration": 232,
    "start_time": "2022-06-21T23:00:16.648Z"
   },
   {
    "duration": 1101,
    "start_time": "2022-06-21T23:11:24.428Z"
   },
   {
    "duration": 904,
    "start_time": "2022-06-21T23:11:25.531Z"
   },
   {
    "duration": 3,
    "start_time": "2022-06-21T23:11:26.436Z"
   },
   {
    "duration": 947,
    "start_time": "2022-06-21T23:11:26.441Z"
   },
   {
    "duration": 38,
    "start_time": "2022-06-21T23:11:27.390Z"
   },
   {
    "duration": 8,
    "start_time": "2022-06-21T23:11:27.430Z"
   },
   {
    "duration": 11,
    "start_time": "2022-06-21T23:11:27.439Z"
   },
   {
    "duration": 11,
    "start_time": "2022-06-21T23:11:27.451Z"
   },
   {
    "duration": 11,
    "start_time": "2022-06-21T23:11:27.463Z"
   },
   {
    "duration": 84,
    "start_time": "2022-06-21T23:11:27.475Z"
   },
   {
    "duration": 4,
    "start_time": "2022-06-21T23:11:27.562Z"
   },
   {
    "duration": 93,
    "start_time": "2022-06-21T23:11:27.568Z"
   },
   {
    "duration": 8,
    "start_time": "2022-06-21T23:11:27.663Z"
   },
   {
    "duration": 29,
    "start_time": "2022-06-21T23:11:27.674Z"
   },
   {
    "duration": 3,
    "start_time": "2022-06-21T23:11:27.704Z"
   },
   {
    "duration": 69,
    "start_time": "2022-06-21T23:11:27.708Z"
   },
   {
    "duration": 8,
    "start_time": "2022-06-21T23:11:27.778Z"
   },
   {
    "duration": 63,
    "start_time": "2022-06-21T23:11:27.788Z"
   },
   {
    "duration": 3,
    "start_time": "2022-06-21T23:11:27.852Z"
   },
   {
    "duration": 22,
    "start_time": "2022-06-21T23:11:27.857Z"
   },
   {
    "duration": 67,
    "start_time": "2022-06-21T23:11:27.881Z"
   },
   {
    "duration": 8,
    "start_time": "2022-06-21T23:11:27.950Z"
   },
   {
    "duration": 25,
    "start_time": "2022-06-21T23:11:27.960Z"
   },
   {
    "duration": 18,
    "start_time": "2022-06-21T23:11:27.987Z"
   },
   {
    "duration": 1353,
    "start_time": "2022-06-21T23:11:28.007Z"
   },
   {
    "duration": 254,
    "start_time": "2022-06-21T23:11:29.361Z"
   },
   {
    "duration": 1011,
    "start_time": "2022-06-21T23:11:29.617Z"
   },
   {
    "duration": 280,
    "start_time": "2022-06-21T23:11:30.629Z"
   },
   {
    "duration": 5,
    "start_time": "2022-06-21T23:11:30.910Z"
   },
   {
    "duration": 51,
    "start_time": "2022-06-21T23:11:30.925Z"
   },
   {
    "duration": 32,
    "start_time": "2022-06-21T23:11:30.977Z"
   },
   {
    "duration": 7,
    "start_time": "2022-06-21T23:11:31.026Z"
   },
   {
    "duration": 27,
    "start_time": "2022-06-21T23:11:31.035Z"
   },
   {
    "duration": 16,
    "start_time": "2022-06-21T23:11:31.064Z"
   },
   {
    "duration": 17,
    "start_time": "2022-06-21T23:11:31.082Z"
   },
   {
    "duration": 18,
    "start_time": "2022-06-21T23:11:31.100Z"
   },
   {
    "duration": 3,
    "start_time": "2022-06-21T23:11:31.120Z"
   },
   {
    "duration": 149,
    "start_time": "2022-06-21T23:11:31.124Z"
   },
   {
    "duration": 13,
    "start_time": "2022-06-21T23:11:31.274Z"
   },
   {
    "duration": 6,
    "start_time": "2022-06-21T23:11:31.289Z"
   },
   {
    "duration": 9,
    "start_time": "2022-06-21T23:11:31.299Z"
   },
   {
    "duration": 13,
    "start_time": "2022-06-21T23:11:31.325Z"
   },
   {
    "duration": 8,
    "start_time": "2022-06-21T23:11:31.339Z"
   },
   {
    "duration": 6,
    "start_time": "2022-06-21T23:11:31.348Z"
   },
   {
    "duration": 9,
    "start_time": "2022-06-21T23:11:31.355Z"
   },
   {
    "duration": 7,
    "start_time": "2022-06-21T23:11:31.365Z"
   },
   {
    "duration": 6,
    "start_time": "2022-06-21T23:11:31.373Z"
   },
   {
    "duration": 6,
    "start_time": "2022-06-21T23:11:31.381Z"
   },
   {
    "duration": 40,
    "start_time": "2022-06-21T23:11:31.389Z"
   },
   {
    "duration": 11,
    "start_time": "2022-06-21T23:11:31.431Z"
   },
   {
    "duration": 13,
    "start_time": "2022-06-21T23:11:31.444Z"
   },
   {
    "duration": 14,
    "start_time": "2022-06-21T23:11:31.458Z"
   },
   {
    "duration": 9,
    "start_time": "2022-06-21T23:11:31.473Z"
   },
   {
    "duration": 41,
    "start_time": "2022-06-21T23:11:31.484Z"
   },
   {
    "duration": 7,
    "start_time": "2022-06-21T23:11:31.527Z"
   },
   {
    "duration": 7,
    "start_time": "2022-06-21T23:11:31.535Z"
   },
   {
    "duration": 8,
    "start_time": "2022-06-21T23:11:31.544Z"
   },
   {
    "duration": 7,
    "start_time": "2022-06-21T23:11:31.554Z"
   },
   {
    "duration": 5,
    "start_time": "2022-06-21T23:11:31.563Z"
   },
   {
    "duration": 902,
    "start_time": "2022-06-21T23:11:31.569Z"
   },
   {
    "duration": 8,
    "start_time": "2022-06-21T23:11:32.472Z"
   },
   {
    "duration": 7,
    "start_time": "2022-06-21T23:11:32.481Z"
   },
   {
    "duration": 6,
    "start_time": "2022-06-21T23:11:32.490Z"
   },
   {
    "duration": 8,
    "start_time": "2022-06-21T23:11:32.497Z"
   },
   {
    "duration": 5,
    "start_time": "2022-06-21T23:11:32.525Z"
   },
   {
    "duration": 12,
    "start_time": "2022-06-21T23:11:32.532Z"
   },
   {
    "duration": 7,
    "start_time": "2022-06-21T23:11:32.545Z"
   },
   {
    "duration": 4,
    "start_time": "2022-06-21T23:11:32.554Z"
   },
   {
    "duration": 13,
    "start_time": "2022-06-21T23:11:32.559Z"
   },
   {
    "duration": 7,
    "start_time": "2022-06-21T23:11:32.573Z"
   },
   {
    "duration": 27,
    "start_time": "2022-06-21T23:13:27.058Z"
   },
   {
    "duration": 174,
    "start_time": "2022-06-21T23:13:56.028Z"
   },
   {
    "duration": 167,
    "start_time": "2022-06-21T23:14:08.208Z"
   },
   {
    "duration": 182,
    "start_time": "2022-06-21T23:14:14.220Z"
   },
   {
    "duration": 1146,
    "start_time": "2022-06-21T23:14:25.028Z"
   },
   {
    "duration": 769,
    "start_time": "2022-06-21T23:14:26.175Z"
   },
   {
    "duration": 3,
    "start_time": "2022-06-21T23:14:26.945Z"
   },
   {
    "duration": 910,
    "start_time": "2022-06-21T23:14:26.950Z"
   },
   {
    "duration": 6,
    "start_time": "2022-06-21T23:14:27.862Z"
   },
   {
    "duration": 9,
    "start_time": "2022-06-21T23:14:27.869Z"
   },
   {
    "duration": 7,
    "start_time": "2022-06-21T23:14:27.879Z"
   },
   {
    "duration": 43,
    "start_time": "2022-06-21T23:14:27.888Z"
   },
   {
    "duration": 15,
    "start_time": "2022-06-21T23:14:27.932Z"
   },
   {
    "duration": 50,
    "start_time": "2022-06-21T23:14:27.949Z"
   },
   {
    "duration": 26,
    "start_time": "2022-06-21T23:14:28.001Z"
   },
   {
    "duration": 79,
    "start_time": "2022-06-21T23:14:28.029Z"
   },
   {
    "duration": 20,
    "start_time": "2022-06-21T23:14:28.110Z"
   },
   {
    "duration": 29,
    "start_time": "2022-06-21T23:14:28.132Z"
   },
   {
    "duration": 3,
    "start_time": "2022-06-21T23:14:28.163Z"
   },
   {
    "duration": 73,
    "start_time": "2022-06-21T23:14:28.168Z"
   },
   {
    "duration": 8,
    "start_time": "2022-06-21T23:14:28.243Z"
   },
   {
    "duration": 39,
    "start_time": "2022-06-21T23:14:28.253Z"
   },
   {
    "duration": 3,
    "start_time": "2022-06-21T23:14:28.294Z"
   },
   {
    "duration": 28,
    "start_time": "2022-06-21T23:14:28.298Z"
   },
   {
    "duration": 61,
    "start_time": "2022-06-21T23:14:28.327Z"
   },
   {
    "duration": 8,
    "start_time": "2022-06-21T23:14:28.389Z"
   },
   {
    "duration": 5,
    "start_time": "2022-06-21T23:14:28.398Z"
   },
   {
    "duration": 25,
    "start_time": "2022-06-21T23:14:28.405Z"
   },
   {
    "duration": 1145,
    "start_time": "2022-06-21T23:14:28.431Z"
   },
   {
    "duration": 270,
    "start_time": "2022-06-21T23:14:29.578Z"
   },
   {
    "duration": 1018,
    "start_time": "2022-06-21T23:14:29.850Z"
   },
   {
    "duration": 271,
    "start_time": "2022-06-21T23:14:30.872Z"
   },
   {
    "duration": 4,
    "start_time": "2022-06-21T23:14:31.145Z"
   },
   {
    "duration": 47,
    "start_time": "2022-06-21T23:14:31.151Z"
   },
   {
    "duration": 55,
    "start_time": "2022-06-21T23:14:31.200Z"
   },
   {
    "duration": 7,
    "start_time": "2022-06-21T23:14:31.256Z"
   },
   {
    "duration": 6,
    "start_time": "2022-06-21T23:14:31.265Z"
   },
   {
    "duration": 5,
    "start_time": "2022-06-21T23:14:31.272Z"
   },
   {
    "duration": 16,
    "start_time": "2022-06-21T23:14:31.279Z"
   },
   {
    "duration": 38,
    "start_time": "2022-06-21T23:14:31.296Z"
   },
   {
    "duration": 4,
    "start_time": "2022-06-21T23:14:31.335Z"
   },
   {
    "duration": 125,
    "start_time": "2022-06-21T23:14:31.340Z"
   },
   {
    "duration": 15,
    "start_time": "2022-06-21T23:14:31.466Z"
   },
   {
    "duration": 7,
    "start_time": "2022-06-21T23:14:31.483Z"
   },
   {
    "duration": 35,
    "start_time": "2022-06-21T23:14:31.492Z"
   },
   {
    "duration": 16,
    "start_time": "2022-06-21T23:14:31.529Z"
   },
   {
    "duration": 11,
    "start_time": "2022-06-21T23:14:31.547Z"
   },
   {
    "duration": 7,
    "start_time": "2022-06-21T23:14:31.560Z"
   },
   {
    "duration": 5,
    "start_time": "2022-06-21T23:14:31.568Z"
   },
   {
    "duration": 10,
    "start_time": "2022-06-21T23:14:31.575Z"
   },
   {
    "duration": 39,
    "start_time": "2022-06-21T23:14:31.587Z"
   },
   {
    "duration": 10,
    "start_time": "2022-06-21T23:14:31.628Z"
   },
   {
    "duration": 6,
    "start_time": "2022-06-21T23:14:31.640Z"
   },
   {
    "duration": 10,
    "start_time": "2022-06-21T23:14:31.647Z"
   },
   {
    "duration": 12,
    "start_time": "2022-06-21T23:14:31.658Z"
   },
   {
    "duration": 10,
    "start_time": "2022-06-21T23:14:31.672Z"
   },
   {
    "duration": 7,
    "start_time": "2022-06-21T23:14:31.683Z"
   },
   {
    "duration": 39,
    "start_time": "2022-06-21T23:14:31.692Z"
   },
   {
    "duration": 11,
    "start_time": "2022-06-21T23:14:31.733Z"
   },
   {
    "duration": 9,
    "start_time": "2022-06-21T23:14:31.745Z"
   },
   {
    "duration": 8,
    "start_time": "2022-06-21T23:14:31.756Z"
   },
   {
    "duration": 8,
    "start_time": "2022-06-21T23:14:31.766Z"
   },
   {
    "duration": 7,
    "start_time": "2022-06-21T23:14:31.777Z"
   },
   {
    "duration": 915,
    "start_time": "2022-06-21T23:14:31.786Z"
   },
   {
    "duration": 183,
    "start_time": "2022-06-21T23:14:32.703Z"
   },
   {
    "duration": 8,
    "start_time": "2022-06-21T23:14:32.888Z"
   },
   {
    "duration": 10,
    "start_time": "2022-06-21T23:14:32.897Z"
   },
   {
    "duration": 16,
    "start_time": "2022-06-21T23:14:32.909Z"
   },
   {
    "duration": 6,
    "start_time": "2022-06-21T23:14:32.927Z"
   },
   {
    "duration": 6,
    "start_time": "2022-06-21T23:14:32.935Z"
   },
   {
    "duration": 12,
    "start_time": "2022-06-21T23:14:32.942Z"
   },
   {
    "duration": 9,
    "start_time": "2022-06-21T23:14:32.956Z"
   },
   {
    "duration": 2,
    "start_time": "2022-06-21T23:14:32.967Z"
   },
   {
    "duration": 10,
    "start_time": "2022-06-21T23:14:32.971Z"
   },
   {
    "duration": 9,
    "start_time": "2022-06-21T23:14:32.983Z"
   },
   {
    "duration": 175,
    "start_time": "2022-06-21T23:15:13.149Z"
   },
   {
    "duration": 1160,
    "start_time": "2022-06-21T23:15:20.248Z"
   },
   {
    "duration": 812,
    "start_time": "2022-06-21T23:15:21.411Z"
   },
   {
    "duration": 3,
    "start_time": "2022-06-21T23:15:22.224Z"
   },
   {
    "duration": 1040,
    "start_time": "2022-06-21T23:15:22.229Z"
   },
   {
    "duration": 7,
    "start_time": "2022-06-21T23:15:23.270Z"
   },
   {
    "duration": 47,
    "start_time": "2022-06-21T23:15:23.279Z"
   },
   {
    "duration": 12,
    "start_time": "2022-06-21T23:15:23.327Z"
   },
   {
    "duration": 13,
    "start_time": "2022-06-21T23:15:23.341Z"
   },
   {
    "duration": 12,
    "start_time": "2022-06-21T23:15:23.355Z"
   },
   {
    "duration": 79,
    "start_time": "2022-06-21T23:15:23.370Z"
   },
   {
    "duration": 3,
    "start_time": "2022-06-21T23:15:23.451Z"
   },
   {
    "duration": 94,
    "start_time": "2022-06-21T23:15:23.456Z"
   },
   {
    "duration": 10,
    "start_time": "2022-06-21T23:15:23.551Z"
   },
   {
    "duration": 32,
    "start_time": "2022-06-21T23:15:23.563Z"
   },
   {
    "duration": 4,
    "start_time": "2022-06-21T23:15:23.597Z"
   },
   {
    "duration": 51,
    "start_time": "2022-06-21T23:15:23.625Z"
   },
   {
    "duration": 10,
    "start_time": "2022-06-21T23:15:23.678Z"
   },
   {
    "duration": 65,
    "start_time": "2022-06-21T23:15:23.690Z"
   },
   {
    "duration": 4,
    "start_time": "2022-06-21T23:15:23.757Z"
   },
   {
    "duration": 9,
    "start_time": "2022-06-21T23:15:23.762Z"
   },
   {
    "duration": 79,
    "start_time": "2022-06-21T23:15:23.772Z"
   },
   {
    "duration": 10,
    "start_time": "2022-06-21T23:15:23.853Z"
   },
   {
    "duration": 5,
    "start_time": "2022-06-21T23:15:23.864Z"
   },
   {
    "duration": 13,
    "start_time": "2022-06-21T23:15:23.871Z"
   },
   {
    "duration": 1241,
    "start_time": "2022-06-21T23:15:23.886Z"
   },
   {
    "duration": 296,
    "start_time": "2022-06-21T23:15:25.129Z"
   },
   {
    "duration": 1082,
    "start_time": "2022-06-21T23:15:25.427Z"
   },
   {
    "duration": 309,
    "start_time": "2022-06-21T23:15:26.526Z"
   },
   {
    "duration": 5,
    "start_time": "2022-06-21T23:15:26.837Z"
   },
   {
    "duration": 61,
    "start_time": "2022-06-21T23:15:26.844Z"
   },
   {
    "duration": 53,
    "start_time": "2022-06-21T23:15:26.907Z"
   },
   {
    "duration": 9,
    "start_time": "2022-06-21T23:15:26.963Z"
   },
   {
    "duration": 9,
    "start_time": "2022-06-21T23:15:26.974Z"
   },
   {
    "duration": 41,
    "start_time": "2022-06-21T23:15:26.985Z"
   },
   {
    "duration": 16,
    "start_time": "2022-06-21T23:15:27.027Z"
   },
   {
    "duration": 14,
    "start_time": "2022-06-21T23:15:27.044Z"
   },
   {
    "duration": 5,
    "start_time": "2022-06-21T23:15:27.060Z"
   },
   {
    "duration": 141,
    "start_time": "2022-06-21T23:15:27.067Z"
   },
   {
    "duration": 25,
    "start_time": "2022-06-21T23:15:27.210Z"
   },
   {
    "duration": 13,
    "start_time": "2022-06-21T23:15:27.236Z"
   },
   {
    "duration": 14,
    "start_time": "2022-06-21T23:15:27.251Z"
   },
   {
    "duration": 22,
    "start_time": "2022-06-21T23:15:27.267Z"
   },
   {
    "duration": 37,
    "start_time": "2022-06-21T23:15:27.291Z"
   },
   {
    "duration": 7,
    "start_time": "2022-06-21T23:15:27.330Z"
   },
   {
    "duration": 9,
    "start_time": "2022-06-21T23:15:27.338Z"
   },
   {
    "duration": 14,
    "start_time": "2022-06-21T23:15:27.349Z"
   },
   {
    "duration": 12,
    "start_time": "2022-06-21T23:15:27.365Z"
   },
   {
    "duration": 10,
    "start_time": "2022-06-21T23:15:27.379Z"
   },
   {
    "duration": 36,
    "start_time": "2022-06-21T23:15:27.391Z"
   },
   {
    "duration": 8,
    "start_time": "2022-06-21T23:15:27.429Z"
   },
   {
    "duration": 13,
    "start_time": "2022-06-21T23:15:27.439Z"
   },
   {
    "duration": 13,
    "start_time": "2022-06-21T23:15:27.454Z"
   },
   {
    "duration": 10,
    "start_time": "2022-06-21T23:15:27.470Z"
   },
   {
    "duration": 8,
    "start_time": "2022-06-21T23:15:27.526Z"
   },
   {
    "duration": 7,
    "start_time": "2022-06-21T23:15:27.536Z"
   },
   {
    "duration": 10,
    "start_time": "2022-06-21T23:15:27.545Z"
   },
   {
    "duration": 10,
    "start_time": "2022-06-21T23:15:27.557Z"
   },
   {
    "duration": 7,
    "start_time": "2022-06-21T23:15:27.569Z"
   },
   {
    "duration": 47,
    "start_time": "2022-06-21T23:15:27.579Z"
   },
   {
    "duration": 1015,
    "start_time": "2022-06-21T23:15:27.628Z"
   },
   {
    "duration": 207,
    "start_time": "2022-06-21T23:15:28.645Z"
   },
   {
    "duration": 8,
    "start_time": "2022-06-21T23:15:28.854Z"
   },
   {
    "duration": 8,
    "start_time": "2022-06-21T23:15:28.864Z"
   },
   {
    "duration": 6,
    "start_time": "2022-06-21T23:15:28.873Z"
   },
   {
    "duration": 9,
    "start_time": "2022-06-21T23:15:28.881Z"
   },
   {
    "duration": 37,
    "start_time": "2022-06-21T23:15:28.892Z"
   },
   {
    "duration": 14,
    "start_time": "2022-06-21T23:15:28.931Z"
   },
   {
    "duration": 10,
    "start_time": "2022-06-21T23:15:28.947Z"
   },
   {
    "duration": 3,
    "start_time": "2022-06-21T23:15:28.959Z"
   },
   {
    "duration": 12,
    "start_time": "2022-06-21T23:15:28.964Z"
   },
   {
    "duration": 5,
    "start_time": "2022-06-21T23:15:28.978Z"
   },
   {
    "duration": 1109,
    "start_time": "2022-06-21T23:15:55.968Z"
   },
   {
    "duration": 986,
    "start_time": "2022-06-21T23:15:57.079Z"
   },
   {
    "duration": 3,
    "start_time": "2022-06-21T23:15:58.067Z"
   },
   {
    "duration": 918,
    "start_time": "2022-06-21T23:15:58.072Z"
   },
   {
    "duration": 38,
    "start_time": "2022-06-21T23:15:58.991Z"
   },
   {
    "duration": 8,
    "start_time": "2022-06-21T23:15:59.031Z"
   },
   {
    "duration": 12,
    "start_time": "2022-06-21T23:15:59.040Z"
   },
   {
    "duration": 10,
    "start_time": "2022-06-21T23:15:59.054Z"
   },
   {
    "duration": 11,
    "start_time": "2022-06-21T23:15:59.066Z"
   },
   {
    "duration": 79,
    "start_time": "2022-06-21T23:15:59.081Z"
   },
   {
    "duration": 4,
    "start_time": "2022-06-21T23:15:59.162Z"
   },
   {
    "duration": 93,
    "start_time": "2022-06-21T23:15:59.168Z"
   },
   {
    "duration": 11,
    "start_time": "2022-06-21T23:15:59.263Z"
   },
   {
    "duration": 49,
    "start_time": "2022-06-21T23:15:59.276Z"
   },
   {
    "duration": 4,
    "start_time": "2022-06-21T23:15:59.327Z"
   },
   {
    "duration": 49,
    "start_time": "2022-06-21T23:15:59.333Z"
   },
   {
    "duration": 9,
    "start_time": "2022-06-21T23:15:59.384Z"
   },
   {
    "duration": 62,
    "start_time": "2022-06-21T23:15:59.394Z"
   },
   {
    "duration": 4,
    "start_time": "2022-06-21T23:15:59.457Z"
   },
   {
    "duration": 12,
    "start_time": "2022-06-21T23:15:59.463Z"
   },
   {
    "duration": 79,
    "start_time": "2022-06-21T23:15:59.477Z"
   },
   {
    "duration": 9,
    "start_time": "2022-06-21T23:15:59.558Z"
   },
   {
    "duration": 5,
    "start_time": "2022-06-21T23:15:59.569Z"
   },
   {
    "duration": 13,
    "start_time": "2022-06-21T23:15:59.576Z"
   },
   {
    "duration": 1184,
    "start_time": "2022-06-21T23:15:59.591Z"
   },
   {
    "duration": 269,
    "start_time": "2022-06-21T23:16:00.777Z"
   },
   {
    "duration": 986,
    "start_time": "2022-06-21T23:16:01.048Z"
   },
   {
    "duration": 252,
    "start_time": "2022-06-21T23:16:02.037Z"
   },
   {
    "duration": 4,
    "start_time": "2022-06-21T23:16:02.291Z"
   },
   {
    "duration": 67,
    "start_time": "2022-06-21T23:16:02.297Z"
   },
   {
    "duration": 32,
    "start_time": "2022-06-21T23:16:02.366Z"
   },
   {
    "duration": 8,
    "start_time": "2022-06-21T23:16:02.400Z"
   },
   {
    "duration": 4,
    "start_time": "2022-06-21T23:16:02.426Z"
   },
   {
    "duration": 6,
    "start_time": "2022-06-21T23:16:02.432Z"
   },
   {
    "duration": 24,
    "start_time": "2022-06-21T23:16:02.440Z"
   },
   {
    "duration": 12,
    "start_time": "2022-06-21T23:16:02.466Z"
   },
   {
    "duration": 20,
    "start_time": "2022-06-21T23:16:02.480Z"
   },
   {
    "duration": 137,
    "start_time": "2022-06-21T23:16:02.502Z"
   },
   {
    "duration": 16,
    "start_time": "2022-06-21T23:16:02.641Z"
   },
   {
    "duration": 12,
    "start_time": "2022-06-21T23:16:02.659Z"
   },
   {
    "duration": 15,
    "start_time": "2022-06-21T23:16:02.673Z"
   },
   {
    "duration": 25,
    "start_time": "2022-06-21T23:16:02.690Z"
   },
   {
    "duration": 17,
    "start_time": "2022-06-21T23:16:02.725Z"
   },
   {
    "duration": 14,
    "start_time": "2022-06-21T23:16:02.743Z"
   },
   {
    "duration": 19,
    "start_time": "2022-06-21T23:16:02.759Z"
   },
   {
    "duration": 17,
    "start_time": "2022-06-21T23:16:02.780Z"
   },
   {
    "duration": 26,
    "start_time": "2022-06-21T23:16:02.799Z"
   },
   {
    "duration": 12,
    "start_time": "2022-06-21T23:16:02.827Z"
   },
   {
    "duration": 26,
    "start_time": "2022-06-21T23:16:02.840Z"
   },
   {
    "duration": 13,
    "start_time": "2022-06-21T23:16:02.867Z"
   },
   {
    "duration": 16,
    "start_time": "2022-06-21T23:16:02.881Z"
   },
   {
    "duration": 27,
    "start_time": "2022-06-21T23:16:02.899Z"
   },
   {
    "duration": 19,
    "start_time": "2022-06-21T23:16:02.928Z"
   },
   {
    "duration": 24,
    "start_time": "2022-06-21T23:16:02.949Z"
   },
   {
    "duration": 7,
    "start_time": "2022-06-21T23:16:02.975Z"
   },
   {
    "duration": 29,
    "start_time": "2022-06-21T23:16:02.984Z"
   },
   {
    "duration": 30,
    "start_time": "2022-06-21T23:16:03.015Z"
   },
   {
    "duration": 33,
    "start_time": "2022-06-21T23:16:03.047Z"
   },
   {
    "duration": 24,
    "start_time": "2022-06-21T23:16:03.082Z"
   },
   {
    "duration": 907,
    "start_time": "2022-06-21T23:16:03.108Z"
   },
   {
    "duration": 174,
    "start_time": "2022-06-21T23:16:04.017Z"
   },
   {
    "duration": 7,
    "start_time": "2022-06-21T23:16:04.193Z"
   },
   {
    "duration": 24,
    "start_time": "2022-06-21T23:16:04.201Z"
   },
   {
    "duration": 3,
    "start_time": "2022-06-21T23:16:04.227Z"
   },
   {
    "duration": 6,
    "start_time": "2022-06-21T23:16:04.232Z"
   },
   {
    "duration": 5,
    "start_time": "2022-06-21T23:16:04.240Z"
   },
   {
    "duration": 21,
    "start_time": "2022-06-21T23:16:04.247Z"
   },
   {
    "duration": 7,
    "start_time": "2022-06-21T23:16:04.270Z"
   },
   {
    "duration": 3,
    "start_time": "2022-06-21T23:16:04.279Z"
   },
   {
    "duration": 7,
    "start_time": "2022-06-21T23:16:04.283Z"
   },
   {
    "duration": 36,
    "start_time": "2022-06-21T23:16:04.291Z"
   },
   {
    "duration": 1145,
    "start_time": "2022-06-21T23:18:33.542Z"
   },
   {
    "duration": 918,
    "start_time": "2022-06-21T23:18:34.689Z"
   },
   {
    "duration": 4,
    "start_time": "2022-06-21T23:18:35.609Z"
   },
   {
    "duration": 973,
    "start_time": "2022-06-21T23:18:35.614Z"
   },
   {
    "duration": 42,
    "start_time": "2022-06-21T23:18:36.589Z"
   },
   {
    "duration": 11,
    "start_time": "2022-06-21T23:18:36.633Z"
   },
   {
    "duration": 10,
    "start_time": "2022-06-21T23:18:36.645Z"
   },
   {
    "duration": 19,
    "start_time": "2022-06-21T23:18:36.657Z"
   },
   {
    "duration": 15,
    "start_time": "2022-06-21T23:18:36.677Z"
   },
   {
    "duration": 76,
    "start_time": "2022-06-21T23:18:36.694Z"
   },
   {
    "duration": 4,
    "start_time": "2022-06-21T23:18:36.773Z"
   },
   {
    "duration": 93,
    "start_time": "2022-06-21T23:18:36.779Z"
   },
   {
    "duration": 9,
    "start_time": "2022-06-21T23:18:36.874Z"
   },
   {
    "duration": 51,
    "start_time": "2022-06-21T23:18:36.886Z"
   },
   {
    "duration": 4,
    "start_time": "2022-06-21T23:18:36.939Z"
   },
   {
    "duration": 51,
    "start_time": "2022-06-21T23:18:36.944Z"
   },
   {
    "duration": 8,
    "start_time": "2022-06-21T23:18:36.997Z"
   },
   {
    "duration": 55,
    "start_time": "2022-06-21T23:18:37.006Z"
   },
   {
    "duration": 3,
    "start_time": "2022-06-21T23:18:37.063Z"
   },
   {
    "duration": 10,
    "start_time": "2022-06-21T23:18:37.067Z"
   },
   {
    "duration": 89,
    "start_time": "2022-06-21T23:18:37.078Z"
   },
   {
    "duration": 11,
    "start_time": "2022-06-21T23:18:37.169Z"
   },
   {
    "duration": 6,
    "start_time": "2022-06-21T23:18:37.183Z"
   },
   {
    "duration": 37,
    "start_time": "2022-06-21T23:18:37.191Z"
   },
   {
    "duration": 1148,
    "start_time": "2022-06-21T23:18:37.231Z"
   },
   {
    "duration": 270,
    "start_time": "2022-06-21T23:18:38.380Z"
   },
   {
    "duration": 992,
    "start_time": "2022-06-21T23:18:38.652Z"
   },
   {
    "duration": 255,
    "start_time": "2022-06-21T23:18:39.646Z"
   },
   {
    "duration": 4,
    "start_time": "2022-06-21T23:18:39.903Z"
   },
   {
    "duration": 57,
    "start_time": "2022-06-21T23:18:39.909Z"
   },
   {
    "duration": 32,
    "start_time": "2022-06-21T23:18:39.968Z"
   },
   {
    "duration": 24,
    "start_time": "2022-06-21T23:18:40.002Z"
   },
   {
    "duration": 7,
    "start_time": "2022-06-21T23:18:40.028Z"
   },
   {
    "duration": 6,
    "start_time": "2022-06-21T23:18:40.036Z"
   },
   {
    "duration": 17,
    "start_time": "2022-06-21T23:18:40.044Z"
   },
   {
    "duration": 13,
    "start_time": "2022-06-21T23:18:40.062Z"
   },
   {
    "duration": 10,
    "start_time": "2022-06-21T23:18:40.077Z"
   },
   {
    "duration": 147,
    "start_time": "2022-06-21T23:18:40.088Z"
   },
   {
    "duration": 16,
    "start_time": "2022-06-21T23:18:40.237Z"
   },
   {
    "duration": 9,
    "start_time": "2022-06-21T23:18:40.255Z"
   },
   {
    "duration": 11,
    "start_time": "2022-06-21T23:18:40.268Z"
   },
   {
    "duration": 44,
    "start_time": "2022-06-21T23:18:40.281Z"
   },
   {
    "duration": 8,
    "start_time": "2022-06-21T23:18:40.327Z"
   },
   {
    "duration": 7,
    "start_time": "2022-06-21T23:18:40.337Z"
   },
   {
    "duration": 8,
    "start_time": "2022-06-21T23:18:40.345Z"
   },
   {
    "duration": 6,
    "start_time": "2022-06-21T23:18:40.355Z"
   },
   {
    "duration": 6,
    "start_time": "2022-06-21T23:18:40.362Z"
   },
   {
    "duration": 7,
    "start_time": "2022-06-21T23:18:40.369Z"
   },
   {
    "duration": 10,
    "start_time": "2022-06-21T23:18:40.378Z"
   },
   {
    "duration": 5,
    "start_time": "2022-06-21T23:18:40.426Z"
   },
   {
    "duration": 16,
    "start_time": "2022-06-21T23:18:40.433Z"
   },
   {
    "duration": 15,
    "start_time": "2022-06-21T23:18:40.451Z"
   },
   {
    "duration": 14,
    "start_time": "2022-06-21T23:18:40.468Z"
   },
   {
    "duration": 11,
    "start_time": "2022-06-21T23:18:40.483Z"
   },
   {
    "duration": 31,
    "start_time": "2022-06-21T23:18:40.496Z"
   },
   {
    "duration": 9,
    "start_time": "2022-06-21T23:18:40.528Z"
   },
   {
    "duration": 8,
    "start_time": "2022-06-21T23:18:40.538Z"
   },
   {
    "duration": 6,
    "start_time": "2022-06-21T23:18:40.547Z"
   },
   {
    "duration": 5,
    "start_time": "2022-06-21T23:18:40.555Z"
   },
   {
    "duration": 955,
    "start_time": "2022-06-21T23:18:40.561Z"
   },
   {
    "duration": 176,
    "start_time": "2022-06-21T23:18:41.525Z"
   },
   {
    "duration": 23,
    "start_time": "2022-06-21T23:18:41.702Z"
   },
   {
    "duration": 7,
    "start_time": "2022-06-21T23:18:41.727Z"
   },
   {
    "duration": 3,
    "start_time": "2022-06-21T23:18:41.735Z"
   },
   {
    "duration": 6,
    "start_time": "2022-06-21T23:18:41.739Z"
   },
   {
    "duration": 5,
    "start_time": "2022-06-21T23:18:41.747Z"
   },
   {
    "duration": 10,
    "start_time": "2022-06-21T23:18:41.754Z"
   },
   {
    "duration": 8,
    "start_time": "2022-06-21T23:18:41.765Z"
   },
   {
    "duration": 3,
    "start_time": "2022-06-21T23:18:41.774Z"
   },
   {
    "duration": 48,
    "start_time": "2022-06-21T23:18:41.779Z"
   },
   {
    "duration": 10,
    "start_time": "2022-06-21T23:18:41.829Z"
   },
   {
    "duration": 175,
    "start_time": "2022-06-21T23:21:50.332Z"
   },
   {
    "duration": 192,
    "start_time": "2022-06-21T23:22:07.551Z"
   },
   {
    "duration": 167,
    "start_time": "2022-06-21T23:22:11.942Z"
   },
   {
    "duration": 906,
    "start_time": "2022-06-21T23:23:40.111Z"
   },
   {
    "duration": 907,
    "start_time": "2022-06-21T23:24:39.062Z"
   },
   {
    "duration": 992,
    "start_time": "2022-06-21T23:24:52.562Z"
   },
   {
    "duration": 882,
    "start_time": "2022-06-21T23:25:23.843Z"
   },
   {
    "duration": 939,
    "start_time": "2022-06-21T23:25:36.032Z"
   },
   {
    "duration": 1081,
    "start_time": "2022-06-21T23:26:36.072Z"
   },
   {
    "duration": 929,
    "start_time": "2022-06-21T23:26:56.201Z"
   },
   {
    "duration": 1061,
    "start_time": "2022-06-21T23:28:05.922Z"
   },
   {
    "duration": 1252,
    "start_time": "2022-06-22T17:20:40.291Z"
   },
   {
    "duration": 737,
    "start_time": "2022-06-22T17:20:41.545Z"
   },
   {
    "duration": 3,
    "start_time": "2022-06-22T17:20:42.283Z"
   },
   {
    "duration": 831,
    "start_time": "2022-06-22T17:20:42.287Z"
   },
   {
    "duration": 36,
    "start_time": "2022-06-22T17:20:43.121Z"
   },
   {
    "duration": 12,
    "start_time": "2022-06-22T17:20:43.159Z"
   },
   {
    "duration": 10,
    "start_time": "2022-06-22T17:20:43.173Z"
   },
   {
    "duration": 18,
    "start_time": "2022-06-22T17:20:43.185Z"
   },
   {
    "duration": 25,
    "start_time": "2022-06-22T17:20:43.205Z"
   },
   {
    "duration": 53,
    "start_time": "2022-06-22T17:20:43.231Z"
   },
   {
    "duration": 3,
    "start_time": "2022-06-22T17:20:43.286Z"
   },
   {
    "duration": 85,
    "start_time": "2022-06-22T17:20:43.291Z"
   },
   {
    "duration": 9,
    "start_time": "2022-06-22T17:20:43.378Z"
   },
   {
    "duration": 30,
    "start_time": "2022-06-22T17:20:43.389Z"
   },
   {
    "duration": 3,
    "start_time": "2022-06-22T17:20:43.420Z"
   },
   {
    "duration": 65,
    "start_time": "2022-06-22T17:20:43.425Z"
   },
   {
    "duration": 10,
    "start_time": "2022-06-22T17:20:43.492Z"
   },
   {
    "duration": 50,
    "start_time": "2022-06-22T17:20:43.504Z"
   },
   {
    "duration": 4,
    "start_time": "2022-06-22T17:20:43.556Z"
   },
   {
    "duration": 18,
    "start_time": "2022-06-22T17:20:43.562Z"
   },
   {
    "duration": 63,
    "start_time": "2022-06-22T17:20:43.582Z"
   },
   {
    "duration": 9,
    "start_time": "2022-06-22T17:20:43.646Z"
   },
   {
    "duration": 8,
    "start_time": "2022-06-22T17:20:43.657Z"
   },
   {
    "duration": 14,
    "start_time": "2022-06-22T17:20:43.666Z"
   },
   {
    "duration": 1143,
    "start_time": "2022-06-22T17:20:43.681Z"
   },
   {
    "duration": 277,
    "start_time": "2022-06-22T17:20:44.826Z"
   },
   {
    "duration": 1017,
    "start_time": "2022-06-22T17:20:45.105Z"
   },
   {
    "duration": 274,
    "start_time": "2022-06-22T17:20:46.124Z"
   },
   {
    "duration": 4,
    "start_time": "2022-06-22T17:20:46.400Z"
   },
   {
    "duration": 58,
    "start_time": "2022-06-22T17:20:46.406Z"
   },
   {
    "duration": 32,
    "start_time": "2022-06-22T17:20:46.466Z"
   },
   {
    "duration": 8,
    "start_time": "2022-06-22T17:20:46.500Z"
   },
   {
    "duration": 7,
    "start_time": "2022-06-22T17:20:46.509Z"
   },
   {
    "duration": 12,
    "start_time": "2022-06-22T17:20:46.518Z"
   },
   {
    "duration": 32,
    "start_time": "2022-06-22T17:20:46.532Z"
   },
   {
    "duration": 21,
    "start_time": "2022-06-22T17:20:46.566Z"
   },
   {
    "duration": 4,
    "start_time": "2022-06-22T17:20:46.589Z"
   },
   {
    "duration": 114,
    "start_time": "2022-06-22T17:20:46.594Z"
   },
   {
    "duration": 14,
    "start_time": "2022-06-22T17:20:46.710Z"
   },
   {
    "duration": 6,
    "start_time": "2022-06-22T17:20:46.726Z"
   },
   {
    "duration": 25,
    "start_time": "2022-06-22T17:20:46.736Z"
   },
   {
    "duration": 15,
    "start_time": "2022-06-22T17:20:46.762Z"
   },
   {
    "duration": 11,
    "start_time": "2022-06-22T17:20:46.779Z"
   },
   {
    "duration": 6,
    "start_time": "2022-06-22T17:20:46.792Z"
   },
   {
    "duration": 5,
    "start_time": "2022-06-22T17:20:46.800Z"
   },
   {
    "duration": 9,
    "start_time": "2022-06-22T17:20:46.807Z"
   },
   {
    "duration": 7,
    "start_time": "2022-06-22T17:20:46.818Z"
   },
   {
    "duration": 26,
    "start_time": "2022-06-22T17:20:46.827Z"
   },
   {
    "duration": 4,
    "start_time": "2022-06-22T17:20:46.855Z"
   },
   {
    "duration": 15,
    "start_time": "2022-06-22T17:20:46.861Z"
   },
   {
    "duration": 12,
    "start_time": "2022-06-22T17:20:46.878Z"
   },
   {
    "duration": 12,
    "start_time": "2022-06-22T17:20:46.891Z"
   },
   {
    "duration": 8,
    "start_time": "2022-06-22T17:20:46.905Z"
   },
   {
    "duration": 90,
    "start_time": "2022-06-22T17:20:46.914Z"
   },
   {
    "duration": 0,
    "start_time": "2022-06-22T17:20:47.007Z"
   },
   {
    "duration": 0,
    "start_time": "2022-06-22T17:20:47.008Z"
   },
   {
    "duration": 0,
    "start_time": "2022-06-22T17:20:47.010Z"
   },
   {
    "duration": 0,
    "start_time": "2022-06-22T17:20:47.011Z"
   },
   {
    "duration": 0,
    "start_time": "2022-06-22T17:20:47.013Z"
   },
   {
    "duration": 0,
    "start_time": "2022-06-22T17:20:47.015Z"
   },
   {
    "duration": 0,
    "start_time": "2022-06-22T17:20:47.016Z"
   },
   {
    "duration": 0,
    "start_time": "2022-06-22T17:20:47.018Z"
   },
   {
    "duration": 0,
    "start_time": "2022-06-22T17:20:47.019Z"
   },
   {
    "duration": 0,
    "start_time": "2022-06-22T17:20:47.021Z"
   },
   {
    "duration": 0,
    "start_time": "2022-06-22T17:20:47.022Z"
   },
   {
    "duration": 0,
    "start_time": "2022-06-22T17:20:47.023Z"
   },
   {
    "duration": 0,
    "start_time": "2022-06-22T17:20:47.024Z"
   },
   {
    "duration": 0,
    "start_time": "2022-06-22T17:20:47.026Z"
   },
   {
    "duration": 0,
    "start_time": "2022-06-22T17:20:47.027Z"
   },
   {
    "duration": 0,
    "start_time": "2022-06-22T17:20:47.029Z"
   },
   {
    "duration": 0,
    "start_time": "2022-06-22T17:20:47.030Z"
   },
   {
    "duration": 7,
    "start_time": "2022-06-22T17:22:40.980Z"
   },
   {
    "duration": 6,
    "start_time": "2022-06-22T17:23:07.081Z"
   },
   {
    "duration": 50,
    "start_time": "2022-06-22T17:31:16.770Z"
   },
   {
    "duration": 6,
    "start_time": "2022-06-22T17:31:21.600Z"
   },
   {
    "duration": 3,
    "start_time": "2022-06-22T17:32:15.860Z"
   },
   {
    "duration": 13,
    "start_time": "2022-06-22T17:32:16.540Z"
   },
   {
    "duration": 5,
    "start_time": "2022-06-22T17:37:34.641Z"
   },
   {
    "duration": 4,
    "start_time": "2022-06-22T17:37:35.017Z"
   },
   {
    "duration": 48,
    "start_time": "2022-06-22T17:37:43.281Z"
   },
   {
    "duration": 23,
    "start_time": "2022-06-22T17:37:47.700Z"
   },
   {
    "duration": 3,
    "start_time": "2022-06-22T17:38:58.210Z"
   },
   {
    "duration": 3,
    "start_time": "2022-06-22T17:38:58.600Z"
   },
   {
    "duration": 24,
    "start_time": "2022-06-22T17:38:59.000Z"
   },
   {
    "duration": 23,
    "start_time": "2022-06-22T17:40:09.670Z"
   },
   {
    "duration": 1129,
    "start_time": "2022-06-22T17:40:30.742Z"
   },
   {
    "duration": 757,
    "start_time": "2022-06-22T17:40:31.873Z"
   },
   {
    "duration": 2,
    "start_time": "2022-06-22T17:40:32.632Z"
   },
   {
    "duration": 945,
    "start_time": "2022-06-22T17:40:32.636Z"
   },
   {
    "duration": 6,
    "start_time": "2022-06-22T17:40:33.584Z"
   },
   {
    "duration": 12,
    "start_time": "2022-06-22T17:40:33.592Z"
   },
   {
    "duration": 13,
    "start_time": "2022-06-22T17:40:33.606Z"
   },
   {
    "duration": 32,
    "start_time": "2022-06-22T17:40:33.621Z"
   },
   {
    "duration": 11,
    "start_time": "2022-06-22T17:40:33.655Z"
   },
   {
    "duration": 51,
    "start_time": "2022-06-22T17:40:33.667Z"
   },
   {
    "duration": 3,
    "start_time": "2022-06-22T17:40:33.720Z"
   },
   {
    "duration": 104,
    "start_time": "2022-06-22T17:40:33.725Z"
   },
   {
    "duration": 8,
    "start_time": "2022-06-22T17:40:33.831Z"
   },
   {
    "duration": 30,
    "start_time": "2022-06-22T17:40:33.851Z"
   },
   {
    "duration": 4,
    "start_time": "2022-06-22T17:40:33.883Z"
   },
   {
    "duration": 75,
    "start_time": "2022-06-22T17:40:33.889Z"
   },
   {
    "duration": 8,
    "start_time": "2022-06-22T17:40:33.965Z"
   },
   {
    "duration": 36,
    "start_time": "2022-06-22T17:40:33.975Z"
   },
   {
    "duration": 4,
    "start_time": "2022-06-22T17:40:34.012Z"
   },
   {
    "duration": 10,
    "start_time": "2022-06-22T17:40:34.017Z"
   },
   {
    "duration": 73,
    "start_time": "2022-06-22T17:40:34.028Z"
   },
   {
    "duration": 8,
    "start_time": "2022-06-22T17:40:34.103Z"
   },
   {
    "duration": 5,
    "start_time": "2022-06-22T17:40:34.113Z"
   },
   {
    "duration": 32,
    "start_time": "2022-06-22T17:40:34.120Z"
   },
   {
    "duration": 1167,
    "start_time": "2022-06-22T17:40:34.154Z"
   },
   {
    "duration": 281,
    "start_time": "2022-06-22T17:40:35.323Z"
   },
   {
    "duration": 965,
    "start_time": "2022-06-22T17:40:35.606Z"
   },
   {
    "duration": 268,
    "start_time": "2022-06-22T17:40:36.573Z"
   },
   {
    "duration": 9,
    "start_time": "2022-06-22T17:40:36.843Z"
   },
   {
    "duration": 58,
    "start_time": "2022-06-22T17:40:36.854Z"
   },
   {
    "duration": 45,
    "start_time": "2022-06-22T17:40:36.915Z"
   },
   {
    "duration": 8,
    "start_time": "2022-06-22T17:40:36.961Z"
   },
   {
    "duration": 9,
    "start_time": "2022-06-22T17:40:36.971Z"
   },
   {
    "duration": 8,
    "start_time": "2022-06-22T17:40:36.982Z"
   },
   {
    "duration": 21,
    "start_time": "2022-06-22T17:40:36.991Z"
   },
   {
    "duration": 14,
    "start_time": "2022-06-22T17:40:37.014Z"
   },
   {
    "duration": 5,
    "start_time": "2022-06-22T17:40:37.030Z"
   },
   {
    "duration": 120,
    "start_time": "2022-06-22T17:40:37.037Z"
   },
   {
    "duration": 14,
    "start_time": "2022-06-22T17:40:37.159Z"
   },
   {
    "duration": 14,
    "start_time": "2022-06-22T17:40:37.175Z"
   },
   {
    "duration": 6,
    "start_time": "2022-06-22T17:40:37.194Z"
   },
   {
    "duration": 29,
    "start_time": "2022-06-22T17:40:37.202Z"
   },
   {
    "duration": 5,
    "start_time": "2022-06-22T17:40:37.233Z"
   },
   {
    "duration": 20,
    "start_time": "2022-06-22T17:40:37.239Z"
   },
   {
    "duration": 14,
    "start_time": "2022-06-22T17:40:37.261Z"
   },
   {
    "duration": 11,
    "start_time": "2022-06-22T17:40:37.276Z"
   },
   {
    "duration": 6,
    "start_time": "2022-06-22T17:40:37.289Z"
   },
   {
    "duration": 30,
    "start_time": "2022-06-22T17:40:37.296Z"
   },
   {
    "duration": 11,
    "start_time": "2022-06-22T17:40:37.328Z"
   },
   {
    "duration": 13,
    "start_time": "2022-06-22T17:40:37.340Z"
   },
   {
    "duration": 21,
    "start_time": "2022-06-22T17:40:37.355Z"
   },
   {
    "duration": 10,
    "start_time": "2022-06-22T17:40:37.378Z"
   },
   {
    "duration": 9,
    "start_time": "2022-06-22T17:40:37.389Z"
   },
   {
    "duration": 13,
    "start_time": "2022-06-22T17:40:37.400Z"
   },
   {
    "duration": 15,
    "start_time": "2022-06-22T17:40:37.415Z"
   },
   {
    "duration": 21,
    "start_time": "2022-06-22T17:40:37.432Z"
   },
   {
    "duration": 14,
    "start_time": "2022-06-22T17:40:37.455Z"
   },
   {
    "duration": 11,
    "start_time": "2022-06-22T17:40:37.471Z"
   },
   {
    "duration": 12,
    "start_time": "2022-06-22T17:40:37.484Z"
   },
   {
    "duration": 10,
    "start_time": "2022-06-22T17:40:37.498Z"
   },
   {
    "duration": 9,
    "start_time": "2022-06-22T17:40:37.509Z"
   },
   {
    "duration": 7,
    "start_time": "2022-06-22T17:40:37.520Z"
   },
   {
    "duration": 1078,
    "start_time": "2022-06-22T17:40:37.529Z"
   },
   {
    "duration": 7,
    "start_time": "2022-06-22T17:40:38.609Z"
   },
   {
    "duration": 7,
    "start_time": "2022-06-22T17:40:38.617Z"
   },
   {
    "duration": 4,
    "start_time": "2022-06-22T17:40:38.626Z"
   },
   {
    "duration": 8,
    "start_time": "2022-06-22T17:40:38.631Z"
   },
   {
    "duration": 4,
    "start_time": "2022-06-22T17:40:38.651Z"
   },
   {
    "duration": 13,
    "start_time": "2022-06-22T17:40:38.657Z"
   },
   {
    "duration": 8,
    "start_time": "2022-06-22T17:40:38.672Z"
   },
   {
    "duration": 3,
    "start_time": "2022-06-22T17:40:38.682Z"
   },
   {
    "duration": 9,
    "start_time": "2022-06-22T17:40:38.687Z"
   },
   {
    "duration": 6,
    "start_time": "2022-06-22T17:40:38.697Z"
   },
   {
    "duration": 4,
    "start_time": "2022-06-22T17:43:57.350Z"
   },
   {
    "duration": 4,
    "start_time": "2022-06-22T17:43:58.664Z"
   },
   {
    "duration": 23,
    "start_time": "2022-06-22T17:45:19.570Z"
   },
   {
    "duration": 28,
    "start_time": "2022-06-22T17:45:50.160Z"
   },
   {
    "duration": 32,
    "start_time": "2022-06-22T17:46:32.360Z"
   },
   {
    "duration": 28,
    "start_time": "2022-06-22T17:47:57.970Z"
   },
   {
    "duration": 26,
    "start_time": "2022-06-22T17:49:20.730Z"
   },
   {
    "duration": 90,
    "start_time": "2022-06-22T18:00:42.403Z"
   },
   {
    "duration": 3,
    "start_time": "2022-06-22T18:00:45.892Z"
   },
   {
    "duration": 22,
    "start_time": "2022-06-22T18:00:46.343Z"
   },
   {
    "duration": 63,
    "start_time": "2022-06-22T18:02:44.465Z"
   },
   {
    "duration": 5,
    "start_time": "2022-06-22T18:02:50.132Z"
   },
   {
    "duration": 11,
    "start_time": "2022-06-22T18:02:50.856Z"
   },
   {
    "duration": 6,
    "start_time": "2022-06-22T18:03:05.473Z"
   },
   {
    "duration": 9,
    "start_time": "2022-06-22T18:03:05.965Z"
   },
   {
    "duration": 3,
    "start_time": "2022-06-22T18:03:09.613Z"
   },
   {
    "duration": 5,
    "start_time": "2022-06-22T18:03:10.332Z"
   },
   {
    "duration": 6,
    "start_time": "2022-06-22T18:05:32.742Z"
   },
   {
    "duration": 10,
    "start_time": "2022-06-22T18:05:33.432Z"
   },
   {
    "duration": 6,
    "start_time": "2022-06-22T18:08:04.273Z"
   },
   {
    "duration": 10,
    "start_time": "2022-06-22T18:08:04.872Z"
   },
   {
    "duration": 5,
    "start_time": "2022-06-22T18:09:00.762Z"
   },
   {
    "duration": 18,
    "start_time": "2022-06-22T18:09:01.382Z"
   },
   {
    "duration": 6,
    "start_time": "2022-06-22T18:09:18.432Z"
   },
   {
    "duration": 10,
    "start_time": "2022-06-22T18:09:19.212Z"
   },
   {
    "duration": 5,
    "start_time": "2022-06-22T18:09:29.223Z"
   },
   {
    "duration": 11,
    "start_time": "2022-06-22T18:09:29.702Z"
   },
   {
    "duration": 5,
    "start_time": "2022-06-22T18:10:26.432Z"
   },
   {
    "duration": 8,
    "start_time": "2022-06-22T18:10:26.982Z"
   },
   {
    "duration": 1092,
    "start_time": "2022-06-22T18:10:42.792Z"
   },
   {
    "duration": 1052,
    "start_time": "2022-06-22T18:10:43.886Z"
   },
   {
    "duration": 4,
    "start_time": "2022-06-22T18:10:44.939Z"
   },
   {
    "duration": 1167,
    "start_time": "2022-06-22T18:10:44.946Z"
   },
   {
    "duration": 49,
    "start_time": "2022-06-22T18:10:46.116Z"
   },
   {
    "duration": 7,
    "start_time": "2022-06-22T18:10:46.167Z"
   },
   {
    "duration": 13,
    "start_time": "2022-06-22T18:10:46.176Z"
   },
   {
    "duration": 14,
    "start_time": "2022-06-22T18:10:46.191Z"
   },
   {
    "duration": 16,
    "start_time": "2022-06-22T18:10:46.206Z"
   },
   {
    "duration": 100,
    "start_time": "2022-06-22T18:10:46.225Z"
   },
   {
    "duration": 3,
    "start_time": "2022-06-22T18:10:46.327Z"
   },
   {
    "duration": 99,
    "start_time": "2022-06-22T18:10:46.332Z"
   },
   {
    "duration": 27,
    "start_time": "2022-06-22T18:10:46.432Z"
   },
   {
    "duration": 46,
    "start_time": "2022-06-22T18:10:46.461Z"
   },
   {
    "duration": 4,
    "start_time": "2022-06-22T18:10:46.509Z"
   },
   {
    "duration": 80,
    "start_time": "2022-06-22T18:10:46.515Z"
   },
   {
    "duration": 9,
    "start_time": "2022-06-22T18:10:46.597Z"
   },
   {
    "duration": 59,
    "start_time": "2022-06-22T18:10:46.608Z"
   },
   {
    "duration": 5,
    "start_time": "2022-06-22T18:10:46.669Z"
   },
   {
    "duration": 14,
    "start_time": "2022-06-22T18:10:46.675Z"
   },
   {
    "duration": 90,
    "start_time": "2022-06-22T18:10:46.691Z"
   },
   {
    "duration": 10,
    "start_time": "2022-06-22T18:10:46.783Z"
   },
   {
    "duration": 8,
    "start_time": "2022-06-22T18:10:46.794Z"
   },
   {
    "duration": 15,
    "start_time": "2022-06-22T18:10:46.805Z"
   },
   {
    "duration": 1217,
    "start_time": "2022-06-22T18:10:46.823Z"
   },
   {
    "duration": 296,
    "start_time": "2022-06-22T18:10:48.041Z"
   },
   {
    "duration": 1417,
    "start_time": "2022-06-22T18:10:48.339Z"
   },
   {
    "duration": 306,
    "start_time": "2022-06-22T18:10:49.761Z"
   },
   {
    "duration": 5,
    "start_time": "2022-06-22T18:10:50.069Z"
   },
   {
    "duration": 49,
    "start_time": "2022-06-22T18:10:50.076Z"
   },
   {
    "duration": 58,
    "start_time": "2022-06-22T18:10:50.127Z"
   },
   {
    "duration": 9,
    "start_time": "2022-06-22T18:10:50.187Z"
   },
   {
    "duration": 8,
    "start_time": "2022-06-22T18:10:50.198Z"
   },
   {
    "duration": 44,
    "start_time": "2022-06-22T18:10:50.208Z"
   },
   {
    "duration": 22,
    "start_time": "2022-06-22T18:10:50.255Z"
   },
   {
    "duration": 20,
    "start_time": "2022-06-22T18:10:50.279Z"
   },
   {
    "duration": 5,
    "start_time": "2022-06-22T18:10:50.302Z"
   },
   {
    "duration": 159,
    "start_time": "2022-06-22T18:10:50.309Z"
   },
   {
    "duration": 16,
    "start_time": "2022-06-22T18:10:50.470Z"
   },
   {
    "duration": 13,
    "start_time": "2022-06-22T18:10:50.488Z"
   },
   {
    "duration": 9,
    "start_time": "2022-06-22T18:10:50.502Z"
   },
   {
    "duration": 7,
    "start_time": "2022-06-22T18:10:50.513Z"
   },
   {
    "duration": 34,
    "start_time": "2022-06-22T18:10:50.522Z"
   },
   {
    "duration": 11,
    "start_time": "2022-06-22T18:10:50.558Z"
   },
   {
    "duration": 6,
    "start_time": "2022-06-22T18:10:50.571Z"
   },
   {
    "duration": 32,
    "start_time": "2022-06-22T18:10:50.578Z"
   },
   {
    "duration": 9,
    "start_time": "2022-06-22T18:10:50.612Z"
   },
   {
    "duration": 33,
    "start_time": "2022-06-22T18:10:50.623Z"
   },
   {
    "duration": 8,
    "start_time": "2022-06-22T18:10:50.658Z"
   },
   {
    "duration": 14,
    "start_time": "2022-06-22T18:10:50.667Z"
   },
   {
    "duration": 6,
    "start_time": "2022-06-22T18:10:50.683Z"
   },
   {
    "duration": 8,
    "start_time": "2022-06-22T18:10:50.691Z"
   },
   {
    "duration": 6,
    "start_time": "2022-06-22T18:10:50.701Z"
   },
   {
    "duration": 6,
    "start_time": "2022-06-22T18:10:50.753Z"
   },
   {
    "duration": 34,
    "start_time": "2022-06-22T18:10:50.761Z"
   },
   {
    "duration": 8,
    "start_time": "2022-06-22T18:10:50.797Z"
   },
   {
    "duration": 45,
    "start_time": "2022-06-22T18:10:50.807Z"
   },
   {
    "duration": 4,
    "start_time": "2022-06-22T18:10:50.854Z"
   },
   {
    "duration": 15,
    "start_time": "2022-06-22T18:10:50.859Z"
   },
   {
    "duration": 6,
    "start_time": "2022-06-22T18:10:50.877Z"
   },
   {
    "duration": 15,
    "start_time": "2022-06-22T18:10:50.885Z"
   },
   {
    "duration": 14,
    "start_time": "2022-06-22T18:10:50.902Z"
   },
   {
    "duration": 1168,
    "start_time": "2022-06-22T18:10:50.918Z"
   },
   {
    "duration": 10,
    "start_time": "2022-06-22T18:10:52.088Z"
   },
   {
    "duration": 8,
    "start_time": "2022-06-22T18:10:52.101Z"
   },
   {
    "duration": 5,
    "start_time": "2022-06-22T18:10:52.111Z"
   },
   {
    "duration": 35,
    "start_time": "2022-06-22T18:10:52.118Z"
   },
   {
    "duration": 16,
    "start_time": "2022-06-22T18:10:52.155Z"
   },
   {
    "duration": 19,
    "start_time": "2022-06-22T18:10:52.173Z"
   },
   {
    "duration": 10,
    "start_time": "2022-06-22T18:10:52.193Z"
   },
   {
    "duration": 4,
    "start_time": "2022-06-22T18:10:52.204Z"
   },
   {
    "duration": 16,
    "start_time": "2022-06-22T18:10:52.210Z"
   },
   {
    "duration": 13,
    "start_time": "2022-06-22T18:10:52.228Z"
   },
   {
    "duration": 5,
    "start_time": "2022-06-22T18:13:10.696Z"
   },
   {
    "duration": 9,
    "start_time": "2022-06-22T18:13:11.211Z"
   },
   {
    "duration": 5,
    "start_time": "2022-06-22T18:14:16.832Z"
   },
   {
    "duration": 9,
    "start_time": "2022-06-22T18:14:17.421Z"
   },
   {
    "duration": 4,
    "start_time": "2022-06-22T18:14:46.204Z"
   },
   {
    "duration": 7,
    "start_time": "2022-06-22T18:14:46.652Z"
   },
   {
    "duration": 8,
    "start_time": "2022-06-22T18:16:31.387Z"
   },
   {
    "duration": 6,
    "start_time": "2022-06-22T18:17:14.012Z"
   },
   {
    "duration": 7,
    "start_time": "2022-06-22T18:17:24.742Z"
   },
   {
    "duration": 5,
    "start_time": "2022-06-22T18:42:07.409Z"
   },
   {
    "duration": 5,
    "start_time": "2022-06-22T18:42:25.767Z"
   },
   {
    "duration": 3,
    "start_time": "2022-06-22T18:42:46.689Z"
   },
   {
    "duration": 6,
    "start_time": "2022-06-22T18:42:47.278Z"
   },
   {
    "duration": 4,
    "start_time": "2022-06-22T18:43:54.628Z"
   },
   {
    "duration": 11,
    "start_time": "2022-06-22T18:43:55.169Z"
   },
   {
    "duration": 4,
    "start_time": "2022-06-22T18:44:56.270Z"
   },
   {
    "duration": 9,
    "start_time": "2022-06-22T18:44:57.029Z"
   },
   {
    "duration": 4,
    "start_time": "2022-06-22T18:46:03.408Z"
   },
   {
    "duration": 4,
    "start_time": "2022-06-22T18:46:55.570Z"
   },
   {
    "duration": 28,
    "start_time": "2022-06-22T18:46:56.148Z"
   },
   {
    "duration": 5,
    "start_time": "2022-06-22T18:47:23.238Z"
   },
   {
    "duration": 18,
    "start_time": "2022-06-22T18:47:23.762Z"
   },
   {
    "duration": 6,
    "start_time": "2022-06-22T18:47:54.128Z"
   },
   {
    "duration": 17,
    "start_time": "2022-06-22T18:47:54.769Z"
   },
   {
    "duration": 48,
    "start_time": "2022-06-22T18:49:09.668Z"
   },
   {
    "duration": 4,
    "start_time": "2022-06-22T18:49:19.209Z"
   },
   {
    "duration": 18,
    "start_time": "2022-06-22T18:49:20.098Z"
   },
   {
    "duration": 4,
    "start_time": "2022-06-22T18:50:25.908Z"
   },
   {
    "duration": 18,
    "start_time": "2022-06-22T18:50:26.708Z"
   },
   {
    "duration": 6,
    "start_time": "2022-06-22T18:55:10.118Z"
   },
   {
    "duration": 18,
    "start_time": "2022-06-22T18:55:10.999Z"
   },
   {
    "duration": 6,
    "start_time": "2022-06-22T18:55:47.065Z"
   },
   {
    "duration": 18,
    "start_time": "2022-06-22T18:55:47.628Z"
   },
   {
    "duration": 1147,
    "start_time": "2022-06-22T18:55:56.939Z"
   },
   {
    "duration": 845,
    "start_time": "2022-06-22T18:55:58.088Z"
   },
   {
    "duration": 3,
    "start_time": "2022-06-22T18:55:58.934Z"
   },
   {
    "duration": 948,
    "start_time": "2022-06-22T18:55:58.939Z"
   },
   {
    "duration": 6,
    "start_time": "2022-06-22T18:55:59.889Z"
   },
   {
    "duration": 11,
    "start_time": "2022-06-22T18:55:59.897Z"
   },
   {
    "duration": 8,
    "start_time": "2022-06-22T18:55:59.910Z"
   },
   {
    "duration": 47,
    "start_time": "2022-06-22T18:55:59.919Z"
   },
   {
    "duration": 14,
    "start_time": "2022-06-22T18:55:59.969Z"
   },
   {
    "duration": 74,
    "start_time": "2022-06-22T18:55:59.984Z"
   },
   {
    "duration": 6,
    "start_time": "2022-06-22T18:56:00.064Z"
   },
   {
    "duration": 102,
    "start_time": "2022-06-22T18:56:00.072Z"
   },
   {
    "duration": 10,
    "start_time": "2022-06-22T18:56:00.176Z"
   },
   {
    "duration": 31,
    "start_time": "2022-06-22T18:56:00.189Z"
   },
   {
    "duration": 4,
    "start_time": "2022-06-22T18:56:00.222Z"
   },
   {
    "duration": 74,
    "start_time": "2022-06-22T18:56:00.228Z"
   },
   {
    "duration": 7,
    "start_time": "2022-06-22T18:56:00.304Z"
   },
   {
    "duration": 61,
    "start_time": "2022-06-22T18:56:00.313Z"
   },
   {
    "duration": 3,
    "start_time": "2022-06-22T18:56:00.376Z"
   },
   {
    "duration": 20,
    "start_time": "2022-06-22T18:56:00.381Z"
   },
   {
    "duration": 78,
    "start_time": "2022-06-22T18:56:00.403Z"
   },
   {
    "duration": 10,
    "start_time": "2022-06-22T18:56:00.483Z"
   },
   {
    "duration": 14,
    "start_time": "2022-06-22T18:56:00.495Z"
   },
   {
    "duration": 20,
    "start_time": "2022-06-22T18:56:00.510Z"
   },
   {
    "duration": 1244,
    "start_time": "2022-06-22T18:56:00.533Z"
   },
   {
    "duration": 302,
    "start_time": "2022-06-22T18:56:01.779Z"
   },
   {
    "duration": 1073,
    "start_time": "2022-06-22T18:56:02.082Z"
   },
   {
    "duration": 290,
    "start_time": "2022-06-22T18:56:03.156Z"
   },
   {
    "duration": 6,
    "start_time": "2022-06-22T18:56:03.456Z"
   },
   {
    "duration": 57,
    "start_time": "2022-06-22T18:56:03.464Z"
   },
   {
    "duration": 46,
    "start_time": "2022-06-22T18:56:03.523Z"
   },
   {
    "duration": 9,
    "start_time": "2022-06-22T18:56:03.571Z"
   },
   {
    "duration": 17,
    "start_time": "2022-06-22T18:56:03.582Z"
   },
   {
    "duration": 9,
    "start_time": "2022-06-22T18:56:03.601Z"
   },
   {
    "duration": 18,
    "start_time": "2022-06-22T18:56:03.612Z"
   },
   {
    "duration": 25,
    "start_time": "2022-06-22T18:56:03.632Z"
   },
   {
    "duration": 9,
    "start_time": "2022-06-22T18:56:03.668Z"
   },
   {
    "duration": 127,
    "start_time": "2022-06-22T18:56:03.678Z"
   },
   {
    "duration": 15,
    "start_time": "2022-06-22T18:56:03.806Z"
   },
   {
    "duration": 11,
    "start_time": "2022-06-22T18:56:03.823Z"
   },
   {
    "duration": 15,
    "start_time": "2022-06-22T18:56:03.838Z"
   },
   {
    "duration": 21,
    "start_time": "2022-06-22T18:56:03.856Z"
   },
   {
    "duration": 8,
    "start_time": "2022-06-22T18:56:03.878Z"
   },
   {
    "duration": 11,
    "start_time": "2022-06-22T18:56:03.888Z"
   },
   {
    "duration": 35,
    "start_time": "2022-06-22T18:56:03.900Z"
   },
   {
    "duration": 5,
    "start_time": "2022-06-22T18:56:03.937Z"
   },
   {
    "duration": 23,
    "start_time": "2022-06-22T18:56:03.944Z"
   },
   {
    "duration": 30,
    "start_time": "2022-06-22T18:56:03.970Z"
   },
   {
    "duration": 6,
    "start_time": "2022-06-22T18:56:04.002Z"
   },
   {
    "duration": 6,
    "start_time": "2022-06-22T18:56:04.010Z"
   },
   {
    "duration": 7,
    "start_time": "2022-06-22T18:56:04.018Z"
   },
   {
    "duration": 10,
    "start_time": "2022-06-22T18:56:04.027Z"
   },
   {
    "duration": 25,
    "start_time": "2022-06-22T18:56:04.039Z"
   },
   {
    "duration": 12,
    "start_time": "2022-06-22T18:56:04.067Z"
   },
   {
    "duration": 10,
    "start_time": "2022-06-22T18:56:04.081Z"
   },
   {
    "duration": 14,
    "start_time": "2022-06-22T18:56:04.092Z"
   },
   {
    "duration": 29,
    "start_time": "2022-06-22T18:56:04.107Z"
   },
   {
    "duration": 16,
    "start_time": "2022-06-22T18:56:04.151Z"
   },
   {
    "duration": 15,
    "start_time": "2022-06-22T18:56:04.168Z"
   },
   {
    "duration": 8,
    "start_time": "2022-06-22T18:56:04.184Z"
   },
   {
    "duration": 16,
    "start_time": "2022-06-22T18:56:04.193Z"
   },
   {
    "duration": 6,
    "start_time": "2022-06-22T18:56:04.211Z"
   },
   {
    "duration": 10,
    "start_time": "2022-06-22T18:56:04.218Z"
   },
   {
    "duration": 23,
    "start_time": "2022-06-22T18:56:04.230Z"
   },
   {
    "duration": 1137,
    "start_time": "2022-06-22T18:56:04.255Z"
   },
   {
    "duration": 9,
    "start_time": "2022-06-22T18:56:05.394Z"
   },
   {
    "duration": 19,
    "start_time": "2022-06-22T18:56:05.405Z"
   },
   {
    "duration": 27,
    "start_time": "2022-06-22T18:56:05.427Z"
   },
   {
    "duration": 30,
    "start_time": "2022-06-22T18:56:05.456Z"
   },
   {
    "duration": 12,
    "start_time": "2022-06-22T18:56:05.488Z"
   },
   {
    "duration": 25,
    "start_time": "2022-06-22T18:56:05.501Z"
   },
   {
    "duration": 12,
    "start_time": "2022-06-22T18:56:05.528Z"
   },
   {
    "duration": 31,
    "start_time": "2022-06-22T18:56:05.542Z"
   },
   {
    "duration": 6,
    "start_time": "2022-06-22T18:56:05.575Z"
   },
   {
    "duration": 7,
    "start_time": "2022-06-22T18:56:05.583Z"
   },
   {
    "duration": 18,
    "start_time": "2022-06-22T18:57:20.868Z"
   },
   {
    "duration": 27,
    "start_time": "2022-06-22T18:58:48.038Z"
   },
   {
    "duration": 104,
    "start_time": "2022-06-22T19:06:55.899Z"
   },
   {
    "duration": 3,
    "start_time": "2022-06-22T19:07:11.489Z"
   },
   {
    "duration": 5,
    "start_time": "2022-06-22T19:07:15.540Z"
   },
   {
    "duration": 5,
    "start_time": "2022-06-22T19:09:24.308Z"
   },
   {
    "duration": 9,
    "start_time": "2022-06-22T19:09:44.368Z"
   },
   {
    "duration": 8,
    "start_time": "2022-06-22T19:09:44.989Z"
   },
   {
    "duration": 3,
    "start_time": "2022-06-22T19:09:46.329Z"
   },
   {
    "duration": 5,
    "start_time": "2022-06-22T19:09:47.364Z"
   },
   {
    "duration": 4,
    "start_time": "2022-06-22T19:10:06.969Z"
   },
   {
    "duration": 1111,
    "start_time": "2022-06-22T19:42:43.848Z"
   },
   {
    "duration": 738,
    "start_time": "2022-06-22T19:42:44.961Z"
   },
   {
    "duration": 2,
    "start_time": "2022-06-22T19:42:45.700Z"
   },
   {
    "duration": 806,
    "start_time": "2022-06-22T19:42:45.704Z"
   },
   {
    "duration": 7,
    "start_time": "2022-06-22T19:42:46.512Z"
   },
   {
    "duration": 32,
    "start_time": "2022-06-22T19:42:46.520Z"
   },
   {
    "duration": 7,
    "start_time": "2022-06-22T19:42:46.553Z"
   },
   {
    "duration": 10,
    "start_time": "2022-06-22T19:42:46.562Z"
   },
   {
    "duration": 9,
    "start_time": "2022-06-22T19:42:46.574Z"
   },
   {
    "duration": 68,
    "start_time": "2022-06-22T19:42:46.584Z"
   },
   {
    "duration": 4,
    "start_time": "2022-06-22T19:42:46.654Z"
   },
   {
    "duration": 78,
    "start_time": "2022-06-22T19:42:46.659Z"
   },
   {
    "duration": 18,
    "start_time": "2022-06-22T19:42:46.739Z"
   },
   {
    "duration": 30,
    "start_time": "2022-06-22T19:42:46.760Z"
   },
   {
    "duration": 3,
    "start_time": "2022-06-22T19:42:46.792Z"
   },
   {
    "duration": 68,
    "start_time": "2022-06-22T19:42:46.796Z"
   },
   {
    "duration": 8,
    "start_time": "2022-06-22T19:42:46.866Z"
   },
   {
    "duration": 39,
    "start_time": "2022-06-22T19:42:46.876Z"
   },
   {
    "duration": 4,
    "start_time": "2022-06-22T19:42:46.916Z"
   },
   {
    "duration": 12,
    "start_time": "2022-06-22T19:42:46.922Z"
   },
   {
    "duration": 57,
    "start_time": "2022-06-22T19:42:46.951Z"
   },
   {
    "duration": 7,
    "start_time": "2022-06-22T19:42:47.010Z"
   },
   {
    "duration": 10,
    "start_time": "2022-06-22T19:42:47.019Z"
   },
   {
    "duration": 22,
    "start_time": "2022-06-22T19:42:47.030Z"
   },
   {
    "duration": 1139,
    "start_time": "2022-06-22T19:42:47.053Z"
   },
   {
    "duration": 262,
    "start_time": "2022-06-22T19:42:48.194Z"
   },
   {
    "duration": 1023,
    "start_time": "2022-06-22T19:42:48.458Z"
   },
   {
    "duration": 272,
    "start_time": "2022-06-22T19:42:49.483Z"
   },
   {
    "duration": 6,
    "start_time": "2022-06-22T19:42:49.756Z"
   },
   {
    "duration": 44,
    "start_time": "2022-06-22T19:42:49.763Z"
   },
   {
    "duration": 55,
    "start_time": "2022-06-22T19:42:49.809Z"
   },
   {
    "duration": 8,
    "start_time": "2022-06-22T19:42:49.866Z"
   },
   {
    "duration": 5,
    "start_time": "2022-06-22T19:42:49.876Z"
   },
   {
    "duration": 7,
    "start_time": "2022-06-22T19:42:49.882Z"
   },
   {
    "duration": 22,
    "start_time": "2022-06-22T19:42:49.891Z"
   },
   {
    "duration": 12,
    "start_time": "2022-06-22T19:42:49.915Z"
   },
   {
    "duration": 26,
    "start_time": "2022-06-22T19:42:49.929Z"
   },
   {
    "duration": 114,
    "start_time": "2022-06-22T19:42:49.957Z"
   },
   {
    "duration": 15,
    "start_time": "2022-06-22T19:42:50.073Z"
   },
   {
    "duration": 6,
    "start_time": "2022-06-22T19:42:50.090Z"
   },
   {
    "duration": 14,
    "start_time": "2022-06-22T19:42:50.100Z"
   },
   {
    "duration": 5,
    "start_time": "2022-06-22T19:42:50.116Z"
   },
   {
    "duration": 15,
    "start_time": "2022-06-22T19:42:50.123Z"
   },
   {
    "duration": 13,
    "start_time": "2022-06-22T19:42:50.139Z"
   },
   {
    "duration": 10,
    "start_time": "2022-06-22T19:42:50.154Z"
   },
   {
    "duration": 33,
    "start_time": "2022-06-22T19:42:50.166Z"
   },
   {
    "duration": 7,
    "start_time": "2022-06-22T19:42:50.201Z"
   },
   {
    "duration": 18,
    "start_time": "2022-06-22T19:42:50.210Z"
   },
   {
    "duration": 25,
    "start_time": "2022-06-22T19:42:50.230Z"
   },
   {
    "duration": 26,
    "start_time": "2022-06-22T19:42:50.257Z"
   },
   {
    "duration": 7,
    "start_time": "2022-06-22T19:42:50.285Z"
   },
   {
    "duration": 17,
    "start_time": "2022-06-22T19:42:50.294Z"
   },
   {
    "duration": 460,
    "start_time": "2022-06-22T19:42:50.313Z"
   },
   {
    "duration": 0,
    "start_time": "2022-06-22T19:42:50.775Z"
   },
   {
    "duration": 0,
    "start_time": "2022-06-22T19:42:50.777Z"
   },
   {
    "duration": 0,
    "start_time": "2022-06-22T19:42:50.778Z"
   },
   {
    "duration": 0,
    "start_time": "2022-06-22T19:42:50.779Z"
   },
   {
    "duration": 0,
    "start_time": "2022-06-22T19:42:50.780Z"
   },
   {
    "duration": 0,
    "start_time": "2022-06-22T19:42:50.781Z"
   },
   {
    "duration": 0,
    "start_time": "2022-06-22T19:42:50.782Z"
   },
   {
    "duration": 0,
    "start_time": "2022-06-22T19:42:50.783Z"
   },
   {
    "duration": 0,
    "start_time": "2022-06-22T19:42:50.784Z"
   },
   {
    "duration": 0,
    "start_time": "2022-06-22T19:42:50.785Z"
   },
   {
    "duration": 994,
    "start_time": "2022-06-22T19:44:57.608Z"
   },
   {
    "duration": 1112,
    "start_time": "2022-06-22T19:45:08.934Z"
   },
   {
    "duration": 721,
    "start_time": "2022-06-22T19:45:10.048Z"
   },
   {
    "duration": 3,
    "start_time": "2022-06-22T19:45:10.771Z"
   },
   {
    "duration": 885,
    "start_time": "2022-06-22T19:45:10.776Z"
   },
   {
    "duration": 6,
    "start_time": "2022-06-22T19:45:11.663Z"
   },
   {
    "duration": 9,
    "start_time": "2022-06-22T19:45:11.670Z"
   },
   {
    "duration": 9,
    "start_time": "2022-06-22T19:45:11.680Z"
   },
   {
    "duration": 14,
    "start_time": "2022-06-22T19:45:11.690Z"
   },
   {
    "duration": 11,
    "start_time": "2022-06-22T19:45:11.705Z"
   },
   {
    "duration": 74,
    "start_time": "2022-06-22T19:45:11.717Z"
   },
   {
    "duration": 4,
    "start_time": "2022-06-22T19:45:11.793Z"
   },
   {
    "duration": 90,
    "start_time": "2022-06-22T19:45:11.799Z"
   },
   {
    "duration": 9,
    "start_time": "2022-06-22T19:45:11.891Z"
   },
   {
    "duration": 30,
    "start_time": "2022-06-22T19:45:11.902Z"
   },
   {
    "duration": 19,
    "start_time": "2022-06-22T19:45:11.934Z"
   },
   {
    "duration": 49,
    "start_time": "2022-06-22T19:45:11.954Z"
   },
   {
    "duration": 9,
    "start_time": "2022-06-22T19:45:12.005Z"
   },
   {
    "duration": 56,
    "start_time": "2022-06-22T19:45:12.015Z"
   },
   {
    "duration": 4,
    "start_time": "2022-06-22T19:45:12.073Z"
   },
   {
    "duration": 7,
    "start_time": "2022-06-22T19:45:12.078Z"
   },
   {
    "duration": 69,
    "start_time": "2022-06-22T19:45:12.087Z"
   },
   {
    "duration": 9,
    "start_time": "2022-06-22T19:45:12.158Z"
   },
   {
    "duration": 8,
    "start_time": "2022-06-22T19:45:12.169Z"
   },
   {
    "duration": 12,
    "start_time": "2022-06-22T19:45:12.179Z"
   },
   {
    "duration": 1082,
    "start_time": "2022-06-22T19:45:12.192Z"
   },
   {
    "duration": 252,
    "start_time": "2022-06-22T19:45:13.276Z"
   },
   {
    "duration": 955,
    "start_time": "2022-06-22T19:45:13.530Z"
   },
   {
    "duration": 243,
    "start_time": "2022-06-22T19:45:14.487Z"
   },
   {
    "duration": 4,
    "start_time": "2022-06-22T19:45:14.732Z"
   },
   {
    "duration": 55,
    "start_time": "2022-06-22T19:45:14.738Z"
   },
   {
    "duration": 30,
    "start_time": "2022-06-22T19:45:14.795Z"
   },
   {
    "duration": 8,
    "start_time": "2022-06-22T19:45:14.826Z"
   },
   {
    "duration": 17,
    "start_time": "2022-06-22T19:45:14.835Z"
   },
   {
    "duration": 7,
    "start_time": "2022-06-22T19:45:14.854Z"
   },
   {
    "duration": 19,
    "start_time": "2022-06-22T19:45:14.862Z"
   },
   {
    "duration": 11,
    "start_time": "2022-06-22T19:45:14.883Z"
   },
   {
    "duration": 3,
    "start_time": "2022-06-22T19:45:14.896Z"
   },
   {
    "duration": 121,
    "start_time": "2022-06-22T19:45:14.901Z"
   },
   {
    "duration": 15,
    "start_time": "2022-06-22T19:45:15.023Z"
   },
   {
    "duration": 3,
    "start_time": "2022-06-22T19:45:15.052Z"
   },
   {
    "duration": 3,
    "start_time": "2022-06-22T19:45:15.060Z"
   },
   {
    "duration": 9,
    "start_time": "2022-06-22T19:45:15.065Z"
   },
   {
    "duration": 8,
    "start_time": "2022-06-22T19:45:15.075Z"
   },
   {
    "duration": 8,
    "start_time": "2022-06-22T19:45:15.085Z"
   },
   {
    "duration": 10,
    "start_time": "2022-06-22T19:45:15.094Z"
   },
   {
    "duration": 25,
    "start_time": "2022-06-22T19:45:15.106Z"
   },
   {
    "duration": 20,
    "start_time": "2022-06-22T19:45:15.133Z"
   },
   {
    "duration": 16,
    "start_time": "2022-06-22T19:45:15.154Z"
   },
   {
    "duration": 4,
    "start_time": "2022-06-22T19:45:15.171Z"
   },
   {
    "duration": 32,
    "start_time": "2022-06-22T19:45:15.176Z"
   },
   {
    "duration": 5,
    "start_time": "2022-06-22T19:45:15.210Z"
   },
   {
    "duration": 38,
    "start_time": "2022-06-22T19:45:15.216Z"
   },
   {
    "duration": 1056,
    "start_time": "2022-06-22T19:45:15.255Z"
   },
   {
    "duration": 7,
    "start_time": "2022-06-22T19:45:16.313Z"
   },
   {
    "duration": 6,
    "start_time": "2022-06-22T19:45:16.322Z"
   },
   {
    "duration": 6,
    "start_time": "2022-06-22T19:45:16.329Z"
   },
   {
    "duration": 17,
    "start_time": "2022-06-22T19:45:16.336Z"
   },
   {
    "duration": 4,
    "start_time": "2022-06-22T19:45:16.354Z"
   },
   {
    "duration": 8,
    "start_time": "2022-06-22T19:45:16.360Z"
   },
   {
    "duration": 10,
    "start_time": "2022-06-22T19:45:16.369Z"
   },
   {
    "duration": 3,
    "start_time": "2022-06-22T19:45:16.381Z"
   },
   {
    "duration": 6,
    "start_time": "2022-06-22T19:45:16.385Z"
   },
   {
    "duration": 7,
    "start_time": "2022-06-22T19:45:16.392Z"
   },
   {
    "duration": 1106,
    "start_time": "2022-06-22T19:46:05.441Z"
   },
   {
    "duration": 678,
    "start_time": "2022-06-22T19:46:06.549Z"
   },
   {
    "duration": 2,
    "start_time": "2022-06-22T19:46:07.229Z"
   },
   {
    "duration": 846,
    "start_time": "2022-06-22T19:46:07.233Z"
   },
   {
    "duration": 6,
    "start_time": "2022-06-22T19:46:08.081Z"
   },
   {
    "duration": 31,
    "start_time": "2022-06-22T19:46:08.089Z"
   },
   {
    "duration": 23,
    "start_time": "2022-06-22T19:46:08.121Z"
   },
   {
    "duration": 24,
    "start_time": "2022-06-22T19:46:08.146Z"
   },
   {
    "duration": 27,
    "start_time": "2022-06-22T19:46:08.171Z"
   },
   {
    "duration": 57,
    "start_time": "2022-06-22T19:46:08.199Z"
   },
   {
    "duration": 3,
    "start_time": "2022-06-22T19:46:08.258Z"
   },
   {
    "duration": 117,
    "start_time": "2022-06-22T19:46:08.263Z"
   },
   {
    "duration": 9,
    "start_time": "2022-06-22T19:46:08.381Z"
   },
   {
    "duration": 68,
    "start_time": "2022-06-22T19:46:08.393Z"
   },
   {
    "duration": 4,
    "start_time": "2022-06-22T19:46:08.462Z"
   },
   {
    "duration": 110,
    "start_time": "2022-06-22T19:46:08.467Z"
   },
   {
    "duration": 31,
    "start_time": "2022-06-22T19:46:08.578Z"
   },
   {
    "duration": 57,
    "start_time": "2022-06-22T19:46:08.610Z"
   },
   {
    "duration": 13,
    "start_time": "2022-06-22T19:46:08.669Z"
   },
   {
    "duration": 33,
    "start_time": "2022-06-22T19:46:08.683Z"
   },
   {
    "duration": 107,
    "start_time": "2022-06-22T19:46:08.718Z"
   },
   {
    "duration": 8,
    "start_time": "2022-06-22T19:46:08.827Z"
   },
   {
    "duration": 42,
    "start_time": "2022-06-22T19:46:08.837Z"
   },
   {
    "duration": 47,
    "start_time": "2022-06-22T19:46:08.881Z"
   },
   {
    "duration": 1098,
    "start_time": "2022-06-22T19:46:08.930Z"
   },
   {
    "duration": 279,
    "start_time": "2022-06-22T19:46:10.030Z"
   },
   {
    "duration": 977,
    "start_time": "2022-06-22T19:46:10.311Z"
   },
   {
    "duration": 251,
    "start_time": "2022-06-22T19:46:11.290Z"
   },
   {
    "duration": 12,
    "start_time": "2022-06-22T19:46:11.542Z"
   },
   {
    "duration": 93,
    "start_time": "2022-06-22T19:46:11.556Z"
   },
   {
    "duration": 33,
    "start_time": "2022-06-22T19:46:11.650Z"
   },
   {
    "duration": 8,
    "start_time": "2022-06-22T19:46:11.684Z"
   },
   {
    "duration": 29,
    "start_time": "2022-06-22T19:46:11.693Z"
   },
   {
    "duration": 6,
    "start_time": "2022-06-22T19:46:11.724Z"
   },
   {
    "duration": 35,
    "start_time": "2022-06-22T19:46:11.732Z"
   },
   {
    "duration": 18,
    "start_time": "2022-06-22T19:46:11.769Z"
   },
   {
    "duration": 4,
    "start_time": "2022-06-22T19:46:11.789Z"
   },
   {
    "duration": 107,
    "start_time": "2022-06-22T19:46:11.795Z"
   },
   {
    "duration": 14,
    "start_time": "2022-06-22T19:46:11.904Z"
   },
   {
    "duration": 12,
    "start_time": "2022-06-22T19:46:11.920Z"
   },
   {
    "duration": 18,
    "start_time": "2022-06-22T19:46:11.936Z"
   },
   {
    "duration": 15,
    "start_time": "2022-06-22T19:46:11.955Z"
   },
   {
    "duration": 24,
    "start_time": "2022-06-22T19:46:11.971Z"
   },
   {
    "duration": 15,
    "start_time": "2022-06-22T19:46:11.996Z"
   },
   {
    "duration": 14,
    "start_time": "2022-06-22T19:46:12.013Z"
   },
   {
    "duration": 35,
    "start_time": "2022-06-22T19:46:12.028Z"
   },
   {
    "duration": 7,
    "start_time": "2022-06-22T19:46:12.065Z"
   },
   {
    "duration": 21,
    "start_time": "2022-06-22T19:46:12.073Z"
   },
   {
    "duration": 26,
    "start_time": "2022-06-22T19:46:12.096Z"
   },
   {
    "duration": 28,
    "start_time": "2022-06-22T19:46:12.124Z"
   },
   {
    "duration": 17,
    "start_time": "2022-06-22T19:46:12.154Z"
   },
   {
    "duration": 1039,
    "start_time": "2022-06-22T19:46:12.173Z"
   },
   {
    "duration": 8,
    "start_time": "2022-06-22T19:46:13.214Z"
   },
   {
    "duration": 15,
    "start_time": "2022-06-22T19:46:13.223Z"
   },
   {
    "duration": 17,
    "start_time": "2022-06-22T19:46:13.240Z"
   },
   {
    "duration": 14,
    "start_time": "2022-06-22T19:46:13.259Z"
   },
   {
    "duration": 19,
    "start_time": "2022-06-22T19:46:13.275Z"
   },
   {
    "duration": 15,
    "start_time": "2022-06-22T19:46:13.295Z"
   },
   {
    "duration": 20,
    "start_time": "2022-06-22T19:46:13.311Z"
   },
   {
    "duration": 14,
    "start_time": "2022-06-22T19:46:13.333Z"
   },
   {
    "duration": 8,
    "start_time": "2022-06-22T19:46:13.348Z"
   },
   {
    "duration": 6,
    "start_time": "2022-06-22T19:46:13.357Z"
   },
   {
    "duration": 6,
    "start_time": "2022-06-22T19:55:53.451Z"
   },
   {
    "duration": 24,
    "start_time": "2022-06-22T19:55:55.352Z"
   },
   {
    "duration": 4,
    "start_time": "2022-06-22T19:56:56.581Z"
   },
   {
    "duration": 15,
    "start_time": "2022-06-22T19:57:01.961Z"
   },
   {
    "duration": 4,
    "start_time": "2022-06-22T19:57:05.252Z"
   },
   {
    "duration": 3,
    "start_time": "2022-06-22T19:57:05.622Z"
   },
   {
    "duration": 3,
    "start_time": "2022-06-22T19:57:07.146Z"
   },
   {
    "duration": 6,
    "start_time": "2022-06-22T19:59:44.512Z"
   },
   {
    "duration": 52,
    "start_time": "2022-06-22T20:00:18.312Z"
   },
   {
    "duration": 6,
    "start_time": "2022-06-22T20:00:25.841Z"
   },
   {
    "duration": 7,
    "start_time": "2022-06-22T20:01:21.981Z"
   },
   {
    "duration": 587,
    "start_time": "2022-06-22T20:23:17.042Z"
   },
   {
    "duration": 1820,
    "start_time": "2022-06-22T20:24:00.092Z"
   },
   {
    "duration": 342,
    "start_time": "2022-06-22T20:24:37.001Z"
   },
   {
    "duration": 1780,
    "start_time": "2022-06-22T20:25:35.331Z"
   },
   {
    "duration": 231,
    "start_time": "2022-06-22T20:26:56.661Z"
   },
   {
    "duration": 468,
    "start_time": "2022-06-22T20:27:22.141Z"
   },
   {
    "duration": 553,
    "start_time": "2022-06-22T20:27:51.571Z"
   },
   {
    "duration": 276,
    "start_time": "2022-06-22T20:29:03.442Z"
   },
   {
    "duration": 768,
    "start_time": "2022-06-22T20:31:15.244Z"
   },
   {
    "duration": 294,
    "start_time": "2022-06-22T20:40:50.200Z"
   },
   {
    "duration": 235,
    "start_time": "2022-06-22T20:41:06.870Z"
   },
   {
    "duration": 14,
    "start_time": "2022-06-22T20:41:45.241Z"
   },
   {
    "duration": 1083,
    "start_time": "2022-06-22T20:42:13.960Z"
   },
   {
    "duration": 830,
    "start_time": "2022-06-22T20:42:15.045Z"
   },
   {
    "duration": 2,
    "start_time": "2022-06-22T20:42:15.877Z"
   },
   {
    "duration": 891,
    "start_time": "2022-06-22T20:42:15.881Z"
   },
   {
    "duration": 6,
    "start_time": "2022-06-22T20:42:16.773Z"
   },
   {
    "duration": 8,
    "start_time": "2022-06-22T20:42:16.780Z"
   },
   {
    "duration": 9,
    "start_time": "2022-06-22T20:42:16.789Z"
   },
   {
    "duration": 12,
    "start_time": "2022-06-22T20:42:16.800Z"
   },
   {
    "duration": 46,
    "start_time": "2022-06-22T20:42:16.813Z"
   },
   {
    "duration": 49,
    "start_time": "2022-06-22T20:42:16.861Z"
   },
   {
    "duration": 4,
    "start_time": "2022-06-22T20:42:16.912Z"
   },
   {
    "duration": 101,
    "start_time": "2022-06-22T20:42:16.918Z"
   },
   {
    "duration": 10,
    "start_time": "2022-06-22T20:42:17.021Z"
   },
   {
    "duration": 44,
    "start_time": "2022-06-22T20:42:17.033Z"
   },
   {
    "duration": 3,
    "start_time": "2022-06-22T20:42:17.079Z"
   },
   {
    "duration": 54,
    "start_time": "2022-06-22T20:42:17.084Z"
   },
   {
    "duration": 10,
    "start_time": "2022-06-22T20:42:17.152Z"
   },
   {
    "duration": 39,
    "start_time": "2022-06-22T20:42:17.164Z"
   },
   {
    "duration": 4,
    "start_time": "2022-06-22T20:42:17.205Z"
   },
   {
    "duration": 10,
    "start_time": "2022-06-22T20:42:17.211Z"
   },
   {
    "duration": 55,
    "start_time": "2022-06-22T20:42:17.251Z"
   },
   {
    "duration": 10,
    "start_time": "2022-06-22T20:42:17.308Z"
   },
   {
    "duration": 5,
    "start_time": "2022-06-22T20:42:17.319Z"
   },
   {
    "duration": 28,
    "start_time": "2022-06-22T20:42:17.325Z"
   },
   {
    "duration": 1075,
    "start_time": "2022-06-22T20:42:17.355Z"
   },
   {
    "duration": 250,
    "start_time": "2022-06-22T20:42:18.431Z"
   },
   {
    "duration": 937,
    "start_time": "2022-06-22T20:42:18.683Z"
   },
   {
    "duration": 264,
    "start_time": "2022-06-22T20:42:19.623Z"
   },
   {
    "duration": 4,
    "start_time": "2022-06-22T20:42:19.889Z"
   },
   {
    "duration": 49,
    "start_time": "2022-06-22T20:42:19.894Z"
   },
   {
    "duration": 31,
    "start_time": "2022-06-22T20:42:19.952Z"
   },
   {
    "duration": 7,
    "start_time": "2022-06-22T20:42:19.984Z"
   },
   {
    "duration": 4,
    "start_time": "2022-06-22T20:42:19.992Z"
   },
   {
    "duration": 26,
    "start_time": "2022-06-22T20:42:19.998Z"
   },
   {
    "duration": 28,
    "start_time": "2022-06-22T20:42:20.026Z"
   },
   {
    "duration": 22,
    "start_time": "2022-06-22T20:42:20.055Z"
   },
   {
    "duration": 20,
    "start_time": "2022-06-22T20:42:20.078Z"
   },
   {
    "duration": 110,
    "start_time": "2022-06-22T20:42:20.100Z"
   },
   {
    "duration": 4,
    "start_time": "2022-06-22T20:42:20.212Z"
   },
   {
    "duration": 19,
    "start_time": "2022-06-22T20:42:20.218Z"
   },
   {
    "duration": 14,
    "start_time": "2022-06-22T20:42:20.239Z"
   },
   {
    "duration": 14,
    "start_time": "2022-06-22T20:42:20.254Z"
   },
   {
    "duration": 19,
    "start_time": "2022-06-22T20:42:20.269Z"
   },
   {
    "duration": 7,
    "start_time": "2022-06-22T20:42:20.290Z"
   },
   {
    "duration": 16,
    "start_time": "2022-06-22T20:42:20.298Z"
   },
   {
    "duration": 41,
    "start_time": "2022-06-22T20:42:20.315Z"
   },
   {
    "duration": 25,
    "start_time": "2022-06-22T20:42:20.358Z"
   },
   {
    "duration": 11,
    "start_time": "2022-06-22T20:42:20.384Z"
   },
   {
    "duration": 21,
    "start_time": "2022-06-22T20:42:20.397Z"
   },
   {
    "duration": 24,
    "start_time": "2022-06-22T20:42:20.420Z"
   },
   {
    "duration": 6,
    "start_time": "2022-06-22T20:42:20.452Z"
   },
   {
    "duration": 14,
    "start_time": "2022-06-22T20:42:20.460Z"
   },
   {
    "duration": 21,
    "start_time": "2022-06-22T20:42:20.476Z"
   },
   {
    "duration": 1009,
    "start_time": "2022-06-22T20:42:20.499Z"
   },
   {
    "duration": 382,
    "start_time": "2022-06-22T20:42:21.509Z"
   },
   {
    "duration": 0,
    "start_time": "2022-06-22T20:42:21.893Z"
   },
   {
    "duration": 0,
    "start_time": "2022-06-22T20:42:21.894Z"
   },
   {
    "duration": 0,
    "start_time": "2022-06-22T20:42:21.895Z"
   },
   {
    "duration": 0,
    "start_time": "2022-06-22T20:42:21.896Z"
   },
   {
    "duration": 0,
    "start_time": "2022-06-22T20:42:21.897Z"
   },
   {
    "duration": 0,
    "start_time": "2022-06-22T20:42:21.898Z"
   },
   {
    "duration": 0,
    "start_time": "2022-06-22T20:42:21.899Z"
   },
   {
    "duration": 0,
    "start_time": "2022-06-22T20:42:21.900Z"
   },
   {
    "duration": 0,
    "start_time": "2022-06-22T20:42:21.901Z"
   },
   {
    "duration": 0,
    "start_time": "2022-06-22T20:42:21.902Z"
   },
   {
    "duration": 0,
    "start_time": "2022-06-22T20:42:21.903Z"
   },
   {
    "duration": 448,
    "start_time": "2022-06-22T20:44:48.320Z"
   },
   {
    "duration": 1073,
    "start_time": "2022-06-22T20:46:09.180Z"
   },
   {
    "duration": 811,
    "start_time": "2022-06-22T20:46:10.255Z"
   },
   {
    "duration": 2,
    "start_time": "2022-06-22T20:46:11.068Z"
   },
   {
    "duration": 826,
    "start_time": "2022-06-22T20:46:11.072Z"
   },
   {
    "duration": 6,
    "start_time": "2022-06-22T20:46:11.900Z"
   },
   {
    "duration": 8,
    "start_time": "2022-06-22T20:46:11.907Z"
   },
   {
    "duration": 39,
    "start_time": "2022-06-22T20:46:11.916Z"
   },
   {
    "duration": 11,
    "start_time": "2022-06-22T20:46:11.957Z"
   },
   {
    "duration": 32,
    "start_time": "2022-06-22T20:46:11.970Z"
   },
   {
    "duration": 62,
    "start_time": "2022-06-22T20:46:12.004Z"
   },
   {
    "duration": 3,
    "start_time": "2022-06-22T20:46:12.068Z"
   },
   {
    "duration": 89,
    "start_time": "2022-06-22T20:46:12.073Z"
   },
   {
    "duration": 9,
    "start_time": "2022-06-22T20:46:12.163Z"
   },
   {
    "duration": 30,
    "start_time": "2022-06-22T20:46:12.173Z"
   },
   {
    "duration": 4,
    "start_time": "2022-06-22T20:46:12.204Z"
   },
   {
    "duration": 74,
    "start_time": "2022-06-22T20:46:12.209Z"
   },
   {
    "duration": 8,
    "start_time": "2022-06-22T20:46:12.285Z"
   },
   {
    "duration": 36,
    "start_time": "2022-06-22T20:46:12.294Z"
   },
   {
    "duration": 21,
    "start_time": "2022-06-22T20:46:12.332Z"
   },
   {
    "duration": 11,
    "start_time": "2022-06-22T20:46:12.354Z"
   },
   {
    "duration": 59,
    "start_time": "2022-06-22T20:46:12.367Z"
   },
   {
    "duration": 25,
    "start_time": "2022-06-22T20:46:12.428Z"
   },
   {
    "duration": 5,
    "start_time": "2022-06-22T20:46:12.455Z"
   },
   {
    "duration": 12,
    "start_time": "2022-06-22T20:46:12.462Z"
   },
   {
    "duration": 1113,
    "start_time": "2022-06-22T20:46:12.476Z"
   },
   {
    "duration": 247,
    "start_time": "2022-06-22T20:46:13.591Z"
   },
   {
    "duration": 1008,
    "start_time": "2022-06-22T20:46:13.840Z"
   },
   {
    "duration": 261,
    "start_time": "2022-06-22T20:46:14.853Z"
   },
   {
    "duration": 5,
    "start_time": "2022-06-22T20:46:15.117Z"
   },
   {
    "duration": 63,
    "start_time": "2022-06-22T20:46:15.123Z"
   },
   {
    "duration": 33,
    "start_time": "2022-06-22T20:46:15.188Z"
   },
   {
    "duration": 7,
    "start_time": "2022-06-22T20:46:15.223Z"
   },
   {
    "duration": 21,
    "start_time": "2022-06-22T20:46:15.231Z"
   },
   {
    "duration": 6,
    "start_time": "2022-06-22T20:46:15.254Z"
   },
   {
    "duration": 21,
    "start_time": "2022-06-22T20:46:15.261Z"
   },
   {
    "duration": 14,
    "start_time": "2022-06-22T20:46:15.284Z"
   },
   {
    "duration": 4,
    "start_time": "2022-06-22T20:46:15.300Z"
   },
   {
    "duration": 171,
    "start_time": "2022-06-22T20:46:15.306Z"
   },
   {
    "duration": 4,
    "start_time": "2022-06-22T20:46:15.480Z"
   },
   {
    "duration": 24,
    "start_time": "2022-06-22T20:46:15.486Z"
   },
   {
    "duration": 4,
    "start_time": "2022-06-22T20:46:15.512Z"
   },
   {
    "duration": 11,
    "start_time": "2022-06-22T20:46:15.517Z"
   },
   {
    "duration": 12,
    "start_time": "2022-06-22T20:46:15.530Z"
   },
   {
    "duration": 10,
    "start_time": "2022-06-22T20:46:15.552Z"
   },
   {
    "duration": 7,
    "start_time": "2022-06-22T20:46:15.563Z"
   },
   {
    "duration": 31,
    "start_time": "2022-06-22T20:46:15.571Z"
   },
   {
    "duration": 6,
    "start_time": "2022-06-22T20:46:15.604Z"
   },
   {
    "duration": 6,
    "start_time": "2022-06-22T20:46:15.612Z"
   },
   {
    "duration": 48,
    "start_time": "2022-06-22T20:46:15.620Z"
   },
   {
    "duration": 23,
    "start_time": "2022-06-22T20:46:15.669Z"
   },
   {
    "duration": 5,
    "start_time": "2022-06-22T20:46:15.694Z"
   },
   {
    "duration": 9,
    "start_time": "2022-06-22T20:46:15.701Z"
   },
   {
    "duration": 53,
    "start_time": "2022-06-22T20:46:15.711Z"
   },
   {
    "duration": 1026,
    "start_time": "2022-06-22T20:46:15.765Z"
   },
   {
    "duration": 309,
    "start_time": "2022-06-22T20:46:16.793Z"
   },
   {
    "duration": 1793,
    "start_time": "2022-06-22T20:46:17.103Z"
   },
   {
    "duration": 8,
    "start_time": "2022-06-22T20:46:18.897Z"
   },
   {
    "duration": 6,
    "start_time": "2022-06-22T20:46:18.907Z"
   },
   {
    "duration": 2,
    "start_time": "2022-06-22T20:46:18.915Z"
   },
   {
    "duration": 6,
    "start_time": "2022-06-22T20:46:18.919Z"
   },
   {
    "duration": 29,
    "start_time": "2022-06-22T20:46:18.926Z"
   },
   {
    "duration": 12,
    "start_time": "2022-06-22T20:46:18.956Z"
   },
   {
    "duration": 7,
    "start_time": "2022-06-22T20:46:18.969Z"
   },
   {
    "duration": 5,
    "start_time": "2022-06-22T20:46:18.977Z"
   },
   {
    "duration": 7,
    "start_time": "2022-06-22T20:46:18.983Z"
   },
   {
    "duration": 5,
    "start_time": "2022-06-22T20:46:18.992Z"
   },
   {
    "duration": 243,
    "start_time": "2022-06-22T20:47:00.320Z"
   },
   {
    "duration": 106,
    "start_time": "2022-06-22T20:48:16.830Z"
   },
   {
    "duration": 284,
    "start_time": "2022-06-22T20:48:27.630Z"
   },
   {
    "duration": 59,
    "start_time": "2022-06-22T20:48:57.550Z"
   },
   {
    "duration": 288,
    "start_time": "2022-06-22T20:49:02.050Z"
   },
   {
    "duration": 300,
    "start_time": "2022-06-22T20:53:02.500Z"
   },
   {
    "duration": 312,
    "start_time": "2022-06-22T20:54:46.490Z"
   },
   {
    "duration": 8,
    "start_time": "2022-06-22T20:55:03.140Z"
   },
   {
    "duration": 8,
    "start_time": "2022-06-22T20:55:19.850Z"
   },
   {
    "duration": 9,
    "start_time": "2022-06-22T20:55:22.780Z"
   },
   {
    "duration": 10,
    "start_time": "2022-06-22T20:55:55.211Z"
   },
   {
    "duration": 9,
    "start_time": "2022-06-22T20:57:18.960Z"
   },
   {
    "duration": 3,
    "start_time": "2022-06-22T20:57:52.271Z"
   },
   {
    "duration": 1061,
    "start_time": "2022-06-22T20:59:03.687Z"
   },
   {
    "duration": 878,
    "start_time": "2022-06-22T20:59:04.750Z"
   },
   {
    "duration": 3,
    "start_time": "2022-06-22T20:59:05.630Z"
   },
   {
    "duration": 881,
    "start_time": "2022-06-22T20:59:05.635Z"
   },
   {
    "duration": 35,
    "start_time": "2022-06-22T20:59:06.518Z"
   },
   {
    "duration": 8,
    "start_time": "2022-06-22T20:59:06.554Z"
   },
   {
    "duration": 14,
    "start_time": "2022-06-22T20:59:06.563Z"
   },
   {
    "duration": 13,
    "start_time": "2022-06-22T20:59:06.578Z"
   },
   {
    "duration": 26,
    "start_time": "2022-06-22T20:59:06.593Z"
   },
   {
    "duration": 61,
    "start_time": "2022-06-22T20:59:06.621Z"
   },
   {
    "duration": 4,
    "start_time": "2022-06-22T20:59:06.683Z"
   },
   {
    "duration": 85,
    "start_time": "2022-06-22T20:59:06.688Z"
   },
   {
    "duration": 10,
    "start_time": "2022-06-22T20:59:06.774Z"
   },
   {
    "duration": 33,
    "start_time": "2022-06-22T20:59:06.786Z"
   },
   {
    "duration": 4,
    "start_time": "2022-06-22T20:59:06.820Z"
   },
   {
    "duration": 71,
    "start_time": "2022-06-22T20:59:06.826Z"
   },
   {
    "duration": 8,
    "start_time": "2022-06-22T20:59:06.899Z"
   },
   {
    "duration": 57,
    "start_time": "2022-06-22T20:59:06.909Z"
   },
   {
    "duration": 4,
    "start_time": "2022-06-22T20:59:06.967Z"
   },
   {
    "duration": 16,
    "start_time": "2022-06-22T20:59:06.972Z"
   },
   {
    "duration": 67,
    "start_time": "2022-06-22T20:59:06.990Z"
   },
   {
    "duration": 8,
    "start_time": "2022-06-22T20:59:07.058Z"
   },
   {
    "duration": 5,
    "start_time": "2022-06-22T20:59:07.068Z"
   },
   {
    "duration": 11,
    "start_time": "2022-06-22T20:59:07.074Z"
   },
   {
    "duration": 1126,
    "start_time": "2022-06-22T20:59:07.087Z"
   },
   {
    "duration": 254,
    "start_time": "2022-06-22T20:59:08.215Z"
   },
   {
    "duration": 961,
    "start_time": "2022-06-22T20:59:08.471Z"
   },
   {
    "duration": 243,
    "start_time": "2022-06-22T20:59:09.433Z"
   },
   {
    "duration": 4,
    "start_time": "2022-06-22T20:59:09.677Z"
   },
   {
    "duration": 42,
    "start_time": "2022-06-22T20:59:09.683Z"
   },
   {
    "duration": 49,
    "start_time": "2022-06-22T20:59:09.726Z"
   },
   {
    "duration": 8,
    "start_time": "2022-06-22T20:59:09.776Z"
   },
   {
    "duration": 13,
    "start_time": "2022-06-22T20:59:09.785Z"
   },
   {
    "duration": 11,
    "start_time": "2022-06-22T20:59:09.799Z"
   },
   {
    "duration": 18,
    "start_time": "2022-06-22T20:59:09.811Z"
   },
   {
    "duration": 27,
    "start_time": "2022-06-22T20:59:09.830Z"
   },
   {
    "duration": 3,
    "start_time": "2022-06-22T20:59:09.859Z"
   },
   {
    "duration": 114,
    "start_time": "2022-06-22T20:59:09.864Z"
   },
   {
    "duration": 4,
    "start_time": "2022-06-22T20:59:09.979Z"
   },
   {
    "duration": 26,
    "start_time": "2022-06-22T20:59:09.984Z"
   },
   {
    "duration": 5,
    "start_time": "2022-06-22T20:59:10.014Z"
   },
   {
    "duration": 34,
    "start_time": "2022-06-22T20:59:10.020Z"
   },
   {
    "duration": 13,
    "start_time": "2022-06-22T20:59:10.055Z"
   },
   {
    "duration": 17,
    "start_time": "2022-06-22T20:59:10.069Z"
   },
   {
    "duration": 7,
    "start_time": "2022-06-22T20:59:10.088Z"
   },
   {
    "duration": 22,
    "start_time": "2022-06-22T20:59:10.096Z"
   },
   {
    "duration": 45,
    "start_time": "2022-06-22T20:59:10.120Z"
   },
   {
    "duration": 24,
    "start_time": "2022-06-22T20:59:10.166Z"
   },
   {
    "duration": 8,
    "start_time": "2022-06-22T20:59:10.192Z"
   },
   {
    "duration": 19,
    "start_time": "2022-06-22T20:59:10.201Z"
   },
   {
    "duration": 36,
    "start_time": "2022-06-22T20:59:10.221Z"
   },
   {
    "duration": 6,
    "start_time": "2022-06-22T20:59:10.259Z"
   },
   {
    "duration": 24,
    "start_time": "2022-06-22T20:59:10.266Z"
   },
   {
    "duration": 16,
    "start_time": "2022-06-22T20:59:10.291Z"
   },
   {
    "duration": 1034,
    "start_time": "2022-06-22T20:59:10.309Z"
   },
   {
    "duration": 3,
    "start_time": "2022-06-22T20:59:11.345Z"
   },
   {
    "duration": 13,
    "start_time": "2022-06-22T20:59:11.349Z"
   },
   {
    "duration": 331,
    "start_time": "2022-06-22T20:59:11.364Z"
   },
   {
    "duration": 0,
    "start_time": "2022-06-22T20:59:11.697Z"
   },
   {
    "duration": 0,
    "start_time": "2022-06-22T20:59:11.698Z"
   },
   {
    "duration": 0,
    "start_time": "2022-06-22T20:59:11.699Z"
   },
   {
    "duration": 0,
    "start_time": "2022-06-22T20:59:11.700Z"
   },
   {
    "duration": 0,
    "start_time": "2022-06-22T20:59:11.701Z"
   },
   {
    "duration": 0,
    "start_time": "2022-06-22T20:59:11.702Z"
   },
   {
    "duration": 0,
    "start_time": "2022-06-22T20:59:11.703Z"
   },
   {
    "duration": 0,
    "start_time": "2022-06-22T20:59:11.704Z"
   },
   {
    "duration": 0,
    "start_time": "2022-06-22T20:59:11.705Z"
   },
   {
    "duration": 0,
    "start_time": "2022-06-22T20:59:11.706Z"
   },
   {
    "duration": 0,
    "start_time": "2022-06-22T20:59:11.707Z"
   },
   {
    "duration": 260,
    "start_time": "2022-06-22T20:59:49.648Z"
   },
   {
    "duration": 8,
    "start_time": "2022-06-22T21:03:35.688Z"
   },
   {
    "duration": 9,
    "start_time": "2022-06-22T21:04:03.408Z"
   },
   {
    "duration": 4,
    "start_time": "2022-06-22T21:04:11.568Z"
   },
   {
    "duration": 8,
    "start_time": "2022-06-22T21:04:23.558Z"
   },
   {
    "duration": 8,
    "start_time": "2022-06-22T21:04:34.648Z"
   },
   {
    "duration": 3,
    "start_time": "2022-06-22T21:08:00.388Z"
   },
   {
    "duration": 4,
    "start_time": "2022-06-22T21:08:19.008Z"
   },
   {
    "duration": 2,
    "start_time": "2022-06-22T21:08:34.618Z"
   },
   {
    "duration": 3,
    "start_time": "2022-06-22T21:08:59.492Z"
   },
   {
    "duration": 8,
    "start_time": "2022-06-22T21:13:07.718Z"
   },
   {
    "duration": 8,
    "start_time": "2022-06-22T21:13:21.228Z"
   },
   {
    "duration": 8,
    "start_time": "2022-06-22T21:13:26.278Z"
   },
   {
    "duration": 4,
    "start_time": "2022-06-22T21:13:47.788Z"
   },
   {
    "duration": 242,
    "start_time": "2022-06-22T21:15:02.537Z"
   },
   {
    "duration": 4,
    "start_time": "2022-06-22T21:15:20.178Z"
   },
   {
    "duration": 239,
    "start_time": "2022-06-22T21:15:38.198Z"
   },
   {
    "duration": 4,
    "start_time": "2022-06-22T21:16:23.473Z"
   },
   {
    "duration": 25,
    "start_time": "2022-06-22T21:16:37.448Z"
   },
   {
    "duration": 55,
    "start_time": "2022-06-22T21:16:51.429Z"
   },
   {
    "duration": 373,
    "start_time": "2022-06-22T21:16:56.149Z"
   },
   {
    "duration": 238,
    "start_time": "2022-06-22T21:17:38.148Z"
   },
   {
    "duration": 239,
    "start_time": "2022-06-22T21:17:57.619Z"
   },
   {
    "duration": 244,
    "start_time": "2022-06-22T21:18:04.848Z"
   },
   {
    "duration": 242,
    "start_time": "2022-06-22T21:18:33.999Z"
   },
   {
    "duration": 251,
    "start_time": "2022-06-22T21:19:27.388Z"
   },
   {
    "duration": 984,
    "start_time": "2022-06-22T21:20:20.878Z"
   },
   {
    "duration": 293,
    "start_time": "2022-06-22T21:21:42.608Z"
   },
   {
    "duration": 306,
    "start_time": "2022-06-22T21:22:50.619Z"
   },
   {
    "duration": 285,
    "start_time": "2022-06-22T21:24:41.879Z"
   },
   {
    "duration": 1108,
    "start_time": "2022-06-22T21:25:13.838Z"
   },
   {
    "duration": 786,
    "start_time": "2022-06-22T21:25:14.948Z"
   },
   {
    "duration": 3,
    "start_time": "2022-06-22T21:25:15.736Z"
   },
   {
    "duration": 829,
    "start_time": "2022-06-22T21:25:15.740Z"
   },
   {
    "duration": 6,
    "start_time": "2022-06-22T21:25:16.572Z"
   },
   {
    "duration": 11,
    "start_time": "2022-06-22T21:25:16.580Z"
   },
   {
    "duration": 15,
    "start_time": "2022-06-22T21:25:16.592Z"
   },
   {
    "duration": 12,
    "start_time": "2022-06-22T21:25:16.609Z"
   },
   {
    "duration": 13,
    "start_time": "2022-06-22T21:25:16.622Z"
   },
   {
    "duration": 61,
    "start_time": "2022-06-22T21:25:16.637Z"
   },
   {
    "duration": 4,
    "start_time": "2022-06-22T21:25:16.700Z"
   },
   {
    "duration": 92,
    "start_time": "2022-06-22T21:25:16.705Z"
   },
   {
    "duration": 10,
    "start_time": "2022-06-22T21:25:16.798Z"
   },
   {
    "duration": 42,
    "start_time": "2022-06-22T21:25:16.810Z"
   },
   {
    "duration": 4,
    "start_time": "2022-06-22T21:25:16.853Z"
   },
   {
    "duration": 50,
    "start_time": "2022-06-22T21:25:16.858Z"
   },
   {
    "duration": 9,
    "start_time": "2022-06-22T21:25:16.909Z"
   },
   {
    "duration": 58,
    "start_time": "2022-06-22T21:25:16.920Z"
   },
   {
    "duration": 4,
    "start_time": "2022-06-22T21:25:16.980Z"
   },
   {
    "duration": 8,
    "start_time": "2022-06-22T21:25:16.986Z"
   },
   {
    "duration": 68,
    "start_time": "2022-06-22T21:25:16.996Z"
   },
   {
    "duration": 9,
    "start_time": "2022-06-22T21:25:17.065Z"
   },
   {
    "duration": 5,
    "start_time": "2022-06-22T21:25:17.076Z"
   },
   {
    "duration": 11,
    "start_time": "2022-06-22T21:25:17.082Z"
   },
   {
    "duration": 1087,
    "start_time": "2022-06-22T21:25:17.095Z"
   },
   {
    "duration": 248,
    "start_time": "2022-06-22T21:25:18.184Z"
   },
   {
    "duration": 975,
    "start_time": "2022-06-22T21:25:18.434Z"
   },
   {
    "duration": 256,
    "start_time": "2022-06-22T21:25:19.410Z"
   },
   {
    "duration": 5,
    "start_time": "2022-06-22T21:25:19.668Z"
   },
   {
    "duration": 55,
    "start_time": "2022-06-22T21:25:19.674Z"
   },
   {
    "duration": 43,
    "start_time": "2022-06-22T21:25:19.731Z"
   },
   {
    "duration": 7,
    "start_time": "2022-06-22T21:25:19.777Z"
   },
   {
    "duration": 13,
    "start_time": "2022-06-22T21:25:19.786Z"
   },
   {
    "duration": 8,
    "start_time": "2022-06-22T21:25:19.800Z"
   },
   {
    "duration": 19,
    "start_time": "2022-06-22T21:25:19.809Z"
   },
   {
    "duration": 11,
    "start_time": "2022-06-22T21:25:19.829Z"
   },
   {
    "duration": 4,
    "start_time": "2022-06-22T21:25:19.852Z"
   },
   {
    "duration": 115,
    "start_time": "2022-06-22T21:25:19.858Z"
   },
   {
    "duration": 4,
    "start_time": "2022-06-22T21:25:19.975Z"
   },
   {
    "duration": 21,
    "start_time": "2022-06-22T21:25:19.980Z"
   },
   {
    "duration": 3,
    "start_time": "2022-06-22T21:25:20.005Z"
   },
   {
    "duration": 11,
    "start_time": "2022-06-22T21:25:20.010Z"
   },
   {
    "duration": 10,
    "start_time": "2022-06-22T21:25:20.022Z"
   },
   {
    "duration": 16,
    "start_time": "2022-06-22T21:25:20.033Z"
   },
   {
    "duration": 17,
    "start_time": "2022-06-22T21:25:20.051Z"
   },
   {
    "duration": 48,
    "start_time": "2022-06-22T21:25:20.069Z"
   },
   {
    "duration": 17,
    "start_time": "2022-06-22T21:25:20.119Z"
   },
   {
    "duration": 32,
    "start_time": "2022-06-22T21:25:20.138Z"
   },
   {
    "duration": 30,
    "start_time": "2022-06-22T21:25:20.172Z"
   },
   {
    "duration": 33,
    "start_time": "2022-06-22T21:25:20.203Z"
   },
   {
    "duration": 14,
    "start_time": "2022-06-22T21:25:20.237Z"
   },
   {
    "duration": 55,
    "start_time": "2022-06-22T21:25:20.252Z"
   },
   {
    "duration": 32,
    "start_time": "2022-06-22T21:25:20.308Z"
   },
   {
    "duration": 1030,
    "start_time": "2022-06-22T21:25:20.342Z"
   },
   {
    "duration": 286,
    "start_time": "2022-06-22T21:25:21.374Z"
   },
   {
    "duration": 8,
    "start_time": "2022-06-22T21:25:21.662Z"
   },
   {
    "duration": 6,
    "start_time": "2022-06-22T21:25:21.672Z"
   },
   {
    "duration": 6,
    "start_time": "2022-06-22T21:25:21.680Z"
   },
   {
    "duration": 8,
    "start_time": "2022-06-22T21:25:21.687Z"
   },
   {
    "duration": 6,
    "start_time": "2022-06-22T21:25:21.696Z"
   },
   {
    "duration": 11,
    "start_time": "2022-06-22T21:25:21.703Z"
   },
   {
    "duration": 36,
    "start_time": "2022-06-22T21:25:21.716Z"
   },
   {
    "duration": 2,
    "start_time": "2022-06-22T21:25:21.754Z"
   },
   {
    "duration": 12,
    "start_time": "2022-06-22T21:25:21.757Z"
   },
   {
    "duration": 5,
    "start_time": "2022-06-22T21:25:21.771Z"
   },
   {
    "duration": 1088,
    "start_time": "2022-06-22T22:24:08.470Z"
   },
   {
    "duration": 885,
    "start_time": "2022-06-22T22:24:09.560Z"
   },
   {
    "duration": 2,
    "start_time": "2022-06-22T22:24:10.447Z"
   },
   {
    "duration": 908,
    "start_time": "2022-06-22T22:24:10.451Z"
   },
   {
    "duration": 7,
    "start_time": "2022-06-22T22:24:11.360Z"
   },
   {
    "duration": 9,
    "start_time": "2022-06-22T22:24:11.368Z"
   },
   {
    "duration": 9,
    "start_time": "2022-06-22T22:24:11.379Z"
   },
   {
    "duration": 10,
    "start_time": "2022-06-22T22:24:11.390Z"
   },
   {
    "duration": 14,
    "start_time": "2022-06-22T22:24:11.402Z"
   },
   {
    "duration": 74,
    "start_time": "2022-06-22T22:24:11.418Z"
   },
   {
    "duration": 3,
    "start_time": "2022-06-22T22:24:11.494Z"
   },
   {
    "duration": 93,
    "start_time": "2022-06-22T22:24:11.499Z"
   },
   {
    "duration": 9,
    "start_time": "2022-06-22T22:24:11.593Z"
   },
   {
    "duration": 29,
    "start_time": "2022-06-22T22:24:11.604Z"
   },
   {
    "duration": 19,
    "start_time": "2022-06-22T22:24:11.634Z"
   },
   {
    "duration": 48,
    "start_time": "2022-06-22T22:24:11.654Z"
   },
   {
    "duration": 9,
    "start_time": "2022-06-22T22:24:11.704Z"
   },
   {
    "duration": 60,
    "start_time": "2022-06-22T22:24:11.714Z"
   },
   {
    "duration": 4,
    "start_time": "2022-06-22T22:24:11.776Z"
   },
   {
    "duration": 7,
    "start_time": "2022-06-22T22:24:11.781Z"
   },
   {
    "duration": 71,
    "start_time": "2022-06-22T22:24:11.790Z"
   },
   {
    "duration": 9,
    "start_time": "2022-06-22T22:24:11.863Z"
   },
   {
    "duration": 5,
    "start_time": "2022-06-22T22:24:11.873Z"
   },
   {
    "duration": 11,
    "start_time": "2022-06-22T22:24:11.880Z"
   },
   {
    "duration": 1081,
    "start_time": "2022-06-22T22:24:11.893Z"
   },
   {
    "duration": 247,
    "start_time": "2022-06-22T22:24:12.976Z"
   },
   {
    "duration": 944,
    "start_time": "2022-06-22T22:24:13.224Z"
   },
   {
    "duration": 246,
    "start_time": "2022-06-22T22:24:14.171Z"
   },
   {
    "duration": 5,
    "start_time": "2022-06-22T22:24:14.418Z"
   },
   {
    "duration": 55,
    "start_time": "2022-06-22T22:24:14.424Z"
   },
   {
    "duration": 29,
    "start_time": "2022-06-22T22:24:14.480Z"
   },
   {
    "duration": 7,
    "start_time": "2022-06-22T22:24:14.510Z"
   },
   {
    "duration": 8,
    "start_time": "2022-06-22T22:24:14.518Z"
   },
   {
    "duration": 26,
    "start_time": "2022-06-22T22:24:14.527Z"
   },
   {
    "duration": 16,
    "start_time": "2022-06-22T22:24:14.555Z"
   },
   {
    "duration": 10,
    "start_time": "2022-06-22T22:24:14.573Z"
   },
   {
    "duration": 5,
    "start_time": "2022-06-22T22:24:14.584Z"
   },
   {
    "duration": 120,
    "start_time": "2022-06-22T22:24:14.591Z"
   },
   {
    "duration": 4,
    "start_time": "2022-06-22T22:24:14.713Z"
   },
   {
    "duration": 24,
    "start_time": "2022-06-22T22:24:14.718Z"
   },
   {
    "duration": 10,
    "start_time": "2022-06-22T22:24:14.744Z"
   },
   {
    "duration": 13,
    "start_time": "2022-06-22T22:24:14.755Z"
   },
   {
    "duration": 15,
    "start_time": "2022-06-22T22:24:14.769Z"
   },
   {
    "duration": 8,
    "start_time": "2022-06-22T22:24:14.785Z"
   },
   {
    "duration": 8,
    "start_time": "2022-06-22T22:24:14.794Z"
   },
   {
    "duration": 28,
    "start_time": "2022-06-22T22:24:14.803Z"
   },
   {
    "duration": 5,
    "start_time": "2022-06-22T22:24:14.832Z"
   },
   {
    "duration": 6,
    "start_time": "2022-06-22T22:24:14.852Z"
   },
   {
    "duration": 16,
    "start_time": "2022-06-22T22:24:14.860Z"
   },
   {
    "duration": 23,
    "start_time": "2022-06-22T22:24:14.877Z"
   },
   {
    "duration": 6,
    "start_time": "2022-06-22T22:24:14.901Z"
   },
   {
    "duration": 54,
    "start_time": "2022-06-22T22:24:14.909Z"
   },
   {
    "duration": 19,
    "start_time": "2022-06-22T22:24:14.965Z"
   },
   {
    "duration": 1067,
    "start_time": "2022-06-22T22:24:14.985Z"
   },
   {
    "duration": 286,
    "start_time": "2022-06-22T22:24:16.053Z"
   },
   {
    "duration": 17,
    "start_time": "2022-06-22T22:24:16.341Z"
   },
   {
    "duration": 8,
    "start_time": "2022-06-22T22:24:16.360Z"
   },
   {
    "duration": 16,
    "start_time": "2022-06-22T22:24:16.369Z"
   },
   {
    "duration": 15,
    "start_time": "2022-06-22T22:24:16.386Z"
   },
   {
    "duration": 20,
    "start_time": "2022-06-22T22:24:16.402Z"
   },
   {
    "duration": 17,
    "start_time": "2022-06-22T22:24:16.423Z"
   },
   {
    "duration": 16,
    "start_time": "2022-06-22T22:24:16.441Z"
   },
   {
    "duration": 3,
    "start_time": "2022-06-22T22:24:16.458Z"
   },
   {
    "duration": 11,
    "start_time": "2022-06-22T22:24:16.462Z"
   },
   {
    "duration": 6,
    "start_time": "2022-06-22T22:24:16.474Z"
   },
   {
    "duration": 13,
    "start_time": "2022-06-23T16:47:13.023Z"
   },
   {
    "duration": 1388,
    "start_time": "2022-06-23T16:47:21.668Z"
   },
   {
    "duration": 887,
    "start_time": "2022-06-23T16:47:23.058Z"
   },
   {
    "duration": 3,
    "start_time": "2022-06-23T16:47:23.947Z"
   },
   {
    "duration": 949,
    "start_time": "2022-06-23T16:47:23.952Z"
   },
   {
    "duration": 7,
    "start_time": "2022-06-23T16:47:24.927Z"
   },
   {
    "duration": 15,
    "start_time": "2022-06-23T16:47:24.944Z"
   },
   {
    "duration": 14,
    "start_time": "2022-06-23T16:47:24.961Z"
   },
   {
    "duration": 14,
    "start_time": "2022-06-23T16:47:24.977Z"
   },
   {
    "duration": 11,
    "start_time": "2022-06-23T16:47:24.992Z"
   },
   {
    "duration": 77,
    "start_time": "2022-06-23T16:47:25.006Z"
   },
   {
    "duration": 4,
    "start_time": "2022-06-23T16:47:25.085Z"
   },
   {
    "duration": 107,
    "start_time": "2022-06-23T16:47:25.091Z"
   },
   {
    "duration": 9,
    "start_time": "2022-06-23T16:47:25.200Z"
   },
   {
    "duration": 45,
    "start_time": "2022-06-23T16:47:25.210Z"
   },
   {
    "duration": 3,
    "start_time": "2022-06-23T16:47:25.257Z"
   },
   {
    "duration": 54,
    "start_time": "2022-06-23T16:47:25.261Z"
   },
   {
    "duration": 13,
    "start_time": "2022-06-23T16:47:25.328Z"
   },
   {
    "duration": 42,
    "start_time": "2022-06-23T16:47:25.344Z"
   },
   {
    "duration": 3,
    "start_time": "2022-06-23T16:47:25.388Z"
   },
   {
    "duration": 15,
    "start_time": "2022-06-23T16:47:25.392Z"
   },
   {
    "duration": 77,
    "start_time": "2022-06-23T16:47:25.408Z"
   },
   {
    "duration": 8,
    "start_time": "2022-06-23T16:47:25.487Z"
   },
   {
    "duration": 14,
    "start_time": "2022-06-23T16:47:25.496Z"
   },
   {
    "duration": 13,
    "start_time": "2022-06-23T16:47:25.511Z"
   },
   {
    "duration": 1224,
    "start_time": "2022-06-23T16:47:25.525Z"
   },
   {
    "duration": 293,
    "start_time": "2022-06-23T16:47:26.751Z"
   },
   {
    "duration": 1051,
    "start_time": "2022-06-23T16:47:27.046Z"
   },
   {
    "duration": 260,
    "start_time": "2022-06-23T16:47:28.102Z"
   },
   {
    "duration": 4,
    "start_time": "2022-06-23T16:47:28.363Z"
   },
   {
    "duration": 43,
    "start_time": "2022-06-23T16:47:28.369Z"
   },
   {
    "duration": 48,
    "start_time": "2022-06-23T16:47:28.414Z"
   },
   {
    "duration": 7,
    "start_time": "2022-06-23T16:47:28.464Z"
   },
   {
    "duration": 8,
    "start_time": "2022-06-23T16:47:28.472Z"
   },
   {
    "duration": 6,
    "start_time": "2022-06-23T16:47:28.481Z"
   },
   {
    "duration": 16,
    "start_time": "2022-06-23T16:47:28.489Z"
   },
   {
    "duration": 29,
    "start_time": "2022-06-23T16:47:28.506Z"
   },
   {
    "duration": 4,
    "start_time": "2022-06-23T16:47:28.537Z"
   },
   {
    "duration": 124,
    "start_time": "2022-06-23T16:47:28.543Z"
   },
   {
    "duration": 4,
    "start_time": "2022-06-23T16:47:28.669Z"
   },
   {
    "duration": 21,
    "start_time": "2022-06-23T16:47:28.674Z"
   },
   {
    "duration": 3,
    "start_time": "2022-06-23T16:47:28.696Z"
   },
   {
    "duration": 14,
    "start_time": "2022-06-23T16:47:28.701Z"
   },
   {
    "duration": 5,
    "start_time": "2022-06-23T16:47:28.717Z"
   },
   {
    "duration": 21,
    "start_time": "2022-06-23T16:47:28.727Z"
   },
   {
    "duration": 10,
    "start_time": "2022-06-23T16:47:28.750Z"
   },
   {
    "duration": 7,
    "start_time": "2022-06-23T16:47:28.762Z"
   },
   {
    "duration": 27,
    "start_time": "2022-06-23T16:47:28.771Z"
   },
   {
    "duration": 10,
    "start_time": "2022-06-23T16:47:28.799Z"
   },
   {
    "duration": 8,
    "start_time": "2022-06-23T16:47:28.810Z"
   },
   {
    "duration": 30,
    "start_time": "2022-06-23T16:47:28.819Z"
   },
   {
    "duration": 24,
    "start_time": "2022-06-23T16:47:28.851Z"
   },
   {
    "duration": 6,
    "start_time": "2022-06-23T16:47:28.877Z"
   },
   {
    "duration": 7,
    "start_time": "2022-06-23T16:47:28.885Z"
   },
   {
    "duration": 56,
    "start_time": "2022-06-23T16:47:28.894Z"
   },
   {
    "duration": 1057,
    "start_time": "2022-06-23T16:47:28.952Z"
   },
   {
    "duration": 312,
    "start_time": "2022-06-23T16:47:30.011Z"
   },
   {
    "duration": 10,
    "start_time": "2022-06-23T16:47:30.332Z"
   },
   {
    "duration": 31,
    "start_time": "2022-06-23T16:47:30.343Z"
   },
   {
    "duration": 6,
    "start_time": "2022-06-23T16:47:30.376Z"
   },
   {
    "duration": 15,
    "start_time": "2022-06-23T16:47:30.384Z"
   },
   {
    "duration": 19,
    "start_time": "2022-06-23T16:47:30.401Z"
   },
   {
    "duration": 35,
    "start_time": "2022-06-23T16:47:30.422Z"
   },
   {
    "duration": 44,
    "start_time": "2022-06-23T16:47:30.459Z"
   },
   {
    "duration": 21,
    "start_time": "2022-06-23T16:47:30.505Z"
   },
   {
    "duration": 32,
    "start_time": "2022-06-23T16:47:30.528Z"
   },
   {
    "duration": 14,
    "start_time": "2022-06-23T16:47:30.562Z"
   },
   {
    "duration": 111,
    "start_time": "2022-06-23T16:55:41.339Z"
   },
   {
    "duration": 4,
    "start_time": "2022-06-23T16:55:43.488Z"
   },
   {
    "duration": 4,
    "start_time": "2022-06-23T16:55:43.849Z"
   },
   {
    "duration": 8,
    "start_time": "2022-06-23T16:55:44.200Z"
   },
   {
    "duration": 18,
    "start_time": "2022-06-23T16:55:54.468Z"
   },
   {
    "duration": 3,
    "start_time": "2022-06-23T16:56:09.799Z"
   },
   {
    "duration": 20,
    "start_time": "2022-06-23T16:56:12.369Z"
   },
   {
    "duration": 3,
    "start_time": "2022-06-23T16:56:17.559Z"
   },
   {
    "duration": 16,
    "start_time": "2022-06-23T16:56:19.638Z"
   },
   {
    "duration": 4,
    "start_time": "2022-06-23T16:56:35.140Z"
   },
   {
    "duration": 17,
    "start_time": "2022-06-23T16:56:37.098Z"
   },
   {
    "duration": 4,
    "start_time": "2022-06-23T16:59:08.018Z"
   },
   {
    "duration": 18,
    "start_time": "2022-06-23T16:59:09.799Z"
   },
   {
    "duration": 4,
    "start_time": "2022-06-23T16:59:40.541Z"
   },
   {
    "duration": 28,
    "start_time": "2022-06-23T16:59:41.137Z"
   },
   {
    "duration": 4,
    "start_time": "2022-06-23T16:59:58.941Z"
   },
   {
    "duration": 4,
    "start_time": "2022-06-23T16:59:59.299Z"
   },
   {
    "duration": 23,
    "start_time": "2022-06-23T16:59:59.959Z"
   },
   {
    "duration": 4,
    "start_time": "2022-06-23T17:01:02.338Z"
   },
   {
    "duration": 4,
    "start_time": "2022-06-23T17:01:02.720Z"
   },
   {
    "duration": 24,
    "start_time": "2022-06-23T17:01:03.099Z"
   },
   {
    "duration": 4,
    "start_time": "2022-06-23T17:03:30.420Z"
   },
   {
    "duration": 4,
    "start_time": "2022-06-23T17:03:30.699Z"
   },
   {
    "duration": 26,
    "start_time": "2022-06-23T17:03:31.250Z"
   },
   {
    "duration": 3,
    "start_time": "2022-06-23T17:03:39.049Z"
   },
   {
    "duration": 24,
    "start_time": "2022-06-23T17:03:39.359Z"
   },
   {
    "duration": 4,
    "start_time": "2022-06-23T17:04:14.519Z"
   },
   {
    "duration": 4,
    "start_time": "2022-06-23T17:04:15.019Z"
   },
   {
    "duration": 25,
    "start_time": "2022-06-23T17:04:15.560Z"
   },
   {
    "duration": 4,
    "start_time": "2022-06-23T17:06:11.060Z"
   },
   {
    "duration": 5,
    "start_time": "2022-06-23T17:06:11.460Z"
   },
   {
    "duration": 16,
    "start_time": "2022-06-23T17:06:12.783Z"
   },
   {
    "duration": 4,
    "start_time": "2022-06-23T17:06:26.042Z"
   },
   {
    "duration": 15,
    "start_time": "2022-06-23T17:06:26.379Z"
   },
   {
    "duration": 5,
    "start_time": "2022-06-23T17:07:32.589Z"
   },
   {
    "duration": 20,
    "start_time": "2022-06-23T17:07:32.940Z"
   },
   {
    "duration": 4,
    "start_time": "2022-06-23T17:07:52.960Z"
   },
   {
    "duration": 23,
    "start_time": "2022-06-23T17:07:53.421Z"
   },
   {
    "duration": 4,
    "start_time": "2022-06-23T17:08:05.380Z"
   },
   {
    "duration": 17,
    "start_time": "2022-06-23T17:08:05.879Z"
   },
   {
    "duration": 4,
    "start_time": "2022-06-23T17:08:40.938Z"
   },
   {
    "duration": 3,
    "start_time": "2022-06-23T17:08:41.843Z"
   },
   {
    "duration": 16,
    "start_time": "2022-06-23T17:08:42.497Z"
   },
   {
    "duration": 6,
    "start_time": "2022-06-23T17:08:56.832Z"
   },
   {
    "duration": 19,
    "start_time": "2022-06-23T17:08:57.200Z"
   },
   {
    "duration": 3,
    "start_time": "2022-06-23T17:09:53.990Z"
   },
   {
    "duration": 62,
    "start_time": "2022-06-23T17:10:05.889Z"
   },
   {
    "duration": 34,
    "start_time": "2022-06-23T17:10:13.810Z"
   },
   {
    "duration": 33,
    "start_time": "2022-06-23T17:10:26.438Z"
   },
   {
    "duration": 60,
    "start_time": "2022-06-23T17:10:46.211Z"
   },
   {
    "duration": 44,
    "start_time": "2022-06-23T17:10:50.338Z"
   },
   {
    "duration": 51,
    "start_time": "2022-06-23T17:10:58.542Z"
   },
   {
    "duration": 74,
    "start_time": "2022-06-23T17:11:13.200Z"
   },
   {
    "duration": 40,
    "start_time": "2022-06-23T17:11:27.312Z"
   },
   {
    "duration": 2,
    "start_time": "2022-06-23T17:12:50.691Z"
   },
   {
    "duration": 25,
    "start_time": "2022-06-23T17:12:51.371Z"
   },
   {
    "duration": 8,
    "start_time": "2022-06-23T17:14:25.794Z"
   },
   {
    "duration": 55,
    "start_time": "2022-06-23T17:16:08.901Z"
   },
   {
    "duration": 8,
    "start_time": "2022-06-23T17:16:14.661Z"
   },
   {
    "duration": 10,
    "start_time": "2022-06-23T17:17:24.251Z"
   },
   {
    "duration": 22,
    "start_time": "2022-06-23T17:18:23.111Z"
   },
   {
    "duration": 7,
    "start_time": "2022-06-23T17:19:14.052Z"
   },
   {
    "duration": 5,
    "start_time": "2022-06-23T17:19:15.157Z"
   },
   {
    "duration": 8,
    "start_time": "2022-06-23T17:19:17.262Z"
   },
   {
    "duration": 8,
    "start_time": "2022-06-23T17:19:17.862Z"
   },
   {
    "duration": 4,
    "start_time": "2022-06-23T17:19:18.151Z"
   },
   {
    "duration": 54,
    "start_time": "2022-06-23T17:19:18.687Z"
   },
   {
    "duration": 3,
    "start_time": "2022-06-23T17:19:31.662Z"
   },
   {
    "duration": 3,
    "start_time": "2022-06-23T17:19:42.872Z"
   },
   {
    "duration": 42,
    "start_time": "2022-06-23T17:19:43.762Z"
   },
   {
    "duration": 9,
    "start_time": "2022-06-23T17:19:45.874Z"
   },
   {
    "duration": 12,
    "start_time": "2022-06-23T17:20:04.394Z"
   },
   {
    "duration": 11,
    "start_time": "2022-06-23T17:21:22.452Z"
   },
   {
    "duration": 21,
    "start_time": "2022-06-23T17:24:52.736Z"
   },
   {
    "duration": 17,
    "start_time": "2022-06-23T17:25:33.602Z"
   },
   {
    "duration": 1026,
    "start_time": "2022-06-23T17:27:11.062Z"
   },
   {
    "duration": 312,
    "start_time": "2022-06-23T17:27:44.001Z"
   },
   {
    "duration": 4,
    "start_time": "2022-06-23T17:28:36.491Z"
   },
   {
    "duration": 4,
    "start_time": "2022-06-23T17:28:36.842Z"
   },
   {
    "duration": 3,
    "start_time": "2022-06-23T17:28:37.321Z"
   },
   {
    "duration": 4,
    "start_time": "2022-06-23T17:28:37.892Z"
   },
   {
    "duration": 6,
    "start_time": "2022-06-23T17:28:38.651Z"
   },
   {
    "duration": 4,
    "start_time": "2022-06-23T17:28:41.546Z"
   },
   {
    "duration": 42,
    "start_time": "2022-06-23T17:28:42.111Z"
   },
   {
    "duration": 7,
    "start_time": "2022-06-23T17:28:42.882Z"
   },
   {
    "duration": 4,
    "start_time": "2022-06-23T17:42:08.797Z"
   },
   {
    "duration": 5,
    "start_time": "2022-06-23T17:42:09.172Z"
   },
   {
    "duration": 16,
    "start_time": "2022-06-23T17:42:12.873Z"
   },
   {
    "duration": 17,
    "start_time": "2022-06-23T17:42:23.681Z"
   },
   {
    "duration": 132,
    "start_time": "2022-06-23T17:42:26.727Z"
   },
   {
    "duration": 4,
    "start_time": "2022-06-23T17:44:03.651Z"
   },
   {
    "duration": 4,
    "start_time": "2022-06-23T17:44:03.862Z"
   },
   {
    "duration": 3,
    "start_time": "2022-06-23T17:44:04.243Z"
   },
   {
    "duration": 5,
    "start_time": "2022-06-23T17:44:04.652Z"
   },
   {
    "duration": 8,
    "start_time": "2022-06-23T17:44:05.062Z"
   },
   {
    "duration": 3,
    "start_time": "2022-06-23T17:44:06.118Z"
   },
   {
    "duration": 26,
    "start_time": "2022-06-23T17:44:07.261Z"
   },
   {
    "duration": 3,
    "start_time": "2022-06-23T17:44:17.920Z"
   },
   {
    "duration": 50,
    "start_time": "2022-06-23T17:44:18.811Z"
   },
   {
    "duration": 5,
    "start_time": "2022-06-23T17:44:39.440Z"
   },
   {
    "duration": 3,
    "start_time": "2022-06-23T17:44:40.820Z"
   },
   {
    "duration": 4,
    "start_time": "2022-06-23T17:44:41.211Z"
   },
   {
    "duration": 8,
    "start_time": "2022-06-23T17:44:41.657Z"
   },
   {
    "duration": 3,
    "start_time": "2022-06-23T17:44:42.610Z"
   },
   {
    "duration": 35,
    "start_time": "2022-06-23T17:44:43.518Z"
   },
   {
    "duration": 13,
    "start_time": "2022-06-23T17:44:57.820Z"
   },
   {
    "duration": 15,
    "start_time": "2022-06-23T17:44:58.916Z"
   },
   {
    "duration": 25,
    "start_time": "2022-06-23T17:44:59.710Z"
   },
   {
    "duration": 24,
    "start_time": "2022-06-23T17:45:00.122Z"
   },
   {
    "duration": 13,
    "start_time": "2022-06-23T17:51:12.153Z"
   },
   {
    "duration": 1161,
    "start_time": "2022-06-23T17:53:31.279Z"
   },
   {
    "duration": 1503,
    "start_time": "2022-06-23T17:53:32.442Z"
   },
   {
    "duration": 3,
    "start_time": "2022-06-23T17:53:33.947Z"
   },
   {
    "duration": 1013,
    "start_time": "2022-06-23T17:53:33.952Z"
   },
   {
    "duration": 8,
    "start_time": "2022-06-23T17:53:34.967Z"
   },
   {
    "duration": 7,
    "start_time": "2022-06-23T17:53:34.977Z"
   },
   {
    "duration": 10,
    "start_time": "2022-06-23T17:53:34.986Z"
   },
   {
    "duration": 50,
    "start_time": "2022-06-23T17:53:34.998Z"
   },
   {
    "duration": 10,
    "start_time": "2022-06-23T17:53:35.049Z"
   },
   {
    "duration": 52,
    "start_time": "2022-06-23T17:53:35.062Z"
   },
   {
    "duration": 8,
    "start_time": "2022-06-23T17:53:35.128Z"
   },
   {
    "duration": 116,
    "start_time": "2022-06-23T17:53:35.140Z"
   },
   {
    "duration": 9,
    "start_time": "2022-06-23T17:53:35.258Z"
   },
   {
    "duration": 47,
    "start_time": "2022-06-23T17:53:35.268Z"
   },
   {
    "duration": 3,
    "start_time": "2022-06-23T17:53:35.317Z"
   },
   {
    "duration": 79,
    "start_time": "2022-06-23T17:53:35.322Z"
   },
   {
    "duration": 9,
    "start_time": "2022-06-23T17:53:35.403Z"
   },
   {
    "duration": 51,
    "start_time": "2022-06-23T17:53:35.413Z"
   },
   {
    "duration": 4,
    "start_time": "2022-06-23T17:53:35.467Z"
   },
   {
    "duration": 32,
    "start_time": "2022-06-23T17:53:35.473Z"
   },
   {
    "duration": 90,
    "start_time": "2022-06-23T17:53:35.507Z"
   },
   {
    "duration": 10,
    "start_time": "2022-06-23T17:53:35.599Z"
   },
   {
    "duration": 24,
    "start_time": "2022-06-23T17:53:35.611Z"
   },
   {
    "duration": 36,
    "start_time": "2022-06-23T17:53:35.636Z"
   },
   {
    "duration": 1185,
    "start_time": "2022-06-23T17:53:35.674Z"
   },
   {
    "duration": 298,
    "start_time": "2022-06-23T17:53:36.861Z"
   },
   {
    "duration": 1069,
    "start_time": "2022-06-23T17:53:37.164Z"
   },
   {
    "duration": 298,
    "start_time": "2022-06-23T17:53:38.243Z"
   },
   {
    "duration": 6,
    "start_time": "2022-06-23T17:53:38.543Z"
   },
   {
    "duration": 53,
    "start_time": "2022-06-23T17:53:38.551Z"
   },
   {
    "duration": 49,
    "start_time": "2022-06-23T17:53:38.606Z"
   },
   {
    "duration": 9,
    "start_time": "2022-06-23T17:53:38.656Z"
   },
   {
    "duration": 7,
    "start_time": "2022-06-23T17:53:38.666Z"
   },
   {
    "duration": 9,
    "start_time": "2022-06-23T17:53:38.675Z"
   },
   {
    "duration": 46,
    "start_time": "2022-06-23T17:53:38.685Z"
   },
   {
    "duration": 33,
    "start_time": "2022-06-23T17:53:38.733Z"
   },
   {
    "duration": 5,
    "start_time": "2022-06-23T17:53:38.767Z"
   },
   {
    "duration": 120,
    "start_time": "2022-06-23T17:53:38.774Z"
   },
   {
    "duration": 4,
    "start_time": "2022-06-23T17:53:38.895Z"
   },
   {
    "duration": 27,
    "start_time": "2022-06-23T17:53:38.900Z"
   },
   {
    "duration": 18,
    "start_time": "2022-06-23T17:53:38.929Z"
   },
   {
    "duration": 12,
    "start_time": "2022-06-23T17:53:38.948Z"
   },
   {
    "duration": 5,
    "start_time": "2022-06-23T17:53:38.961Z"
   },
   {
    "duration": 5,
    "start_time": "2022-06-23T17:53:38.968Z"
   },
   {
    "duration": 9,
    "start_time": "2022-06-23T17:53:38.974Z"
   },
   {
    "duration": 15,
    "start_time": "2022-06-23T17:53:38.984Z"
   },
   {
    "duration": 39,
    "start_time": "2022-06-23T17:53:39.001Z"
   },
   {
    "duration": 12,
    "start_time": "2022-06-23T17:53:39.042Z"
   },
   {
    "duration": 11,
    "start_time": "2022-06-23T17:53:39.056Z"
   },
   {
    "duration": 20,
    "start_time": "2022-06-23T17:53:39.069Z"
   },
   {
    "duration": 54,
    "start_time": "2022-06-23T17:53:39.090Z"
   },
   {
    "duration": 1069,
    "start_time": "2022-06-23T17:53:39.145Z"
   },
   {
    "duration": 328,
    "start_time": "2022-06-23T17:53:40.216Z"
   },
   {
    "duration": 10,
    "start_time": "2022-06-23T17:53:40.546Z"
   },
   {
    "duration": 8,
    "start_time": "2022-06-23T17:53:40.558Z"
   },
   {
    "duration": 8,
    "start_time": "2022-06-23T17:53:40.568Z"
   },
   {
    "duration": 7,
    "start_time": "2022-06-23T17:53:40.578Z"
   },
   {
    "duration": 15,
    "start_time": "2022-06-23T17:53:40.587Z"
   },
   {
    "duration": 28,
    "start_time": "2022-06-23T17:53:40.604Z"
   },
   {
    "duration": 18,
    "start_time": "2022-06-23T17:53:40.642Z"
   },
   {
    "duration": 5,
    "start_time": "2022-06-23T17:53:40.661Z"
   },
   {
    "duration": 8,
    "start_time": "2022-06-23T17:53:40.667Z"
   },
   {
    "duration": 14,
    "start_time": "2022-06-23T17:53:40.677Z"
   },
   {
    "duration": 5,
    "start_time": "2022-06-23T18:10:36.750Z"
   },
   {
    "duration": 4,
    "start_time": "2022-06-23T18:10:46.891Z"
   },
   {
    "duration": 1219,
    "start_time": "2022-06-23T18:11:48.805Z"
   },
   {
    "duration": 1189,
    "start_time": "2022-06-23T18:11:50.026Z"
   },
   {
    "duration": 4,
    "start_time": "2022-06-23T18:11:51.217Z"
   },
   {
    "duration": 1183,
    "start_time": "2022-06-23T18:11:51.222Z"
   },
   {
    "duration": 37,
    "start_time": "2022-06-23T18:11:52.407Z"
   },
   {
    "duration": 13,
    "start_time": "2022-06-23T18:11:52.446Z"
   },
   {
    "duration": 9,
    "start_time": "2022-06-23T18:11:52.460Z"
   },
   {
    "duration": 14,
    "start_time": "2022-06-23T18:11:52.471Z"
   },
   {
    "duration": 10,
    "start_time": "2022-06-23T18:11:52.487Z"
   },
   {
    "duration": 89,
    "start_time": "2022-06-23T18:11:52.499Z"
   },
   {
    "duration": 3,
    "start_time": "2022-06-23T18:11:52.590Z"
   },
   {
    "duration": 115,
    "start_time": "2022-06-23T18:11:52.594Z"
   },
   {
    "duration": 10,
    "start_time": "2022-06-23T18:11:52.711Z"
   },
   {
    "duration": 45,
    "start_time": "2022-06-23T18:11:52.732Z"
   },
   {
    "duration": 3,
    "start_time": "2022-06-23T18:11:52.779Z"
   },
   {
    "duration": 80,
    "start_time": "2022-06-23T18:11:52.783Z"
   },
   {
    "duration": 9,
    "start_time": "2022-06-23T18:11:52.865Z"
   },
   {
    "duration": 54,
    "start_time": "2022-06-23T18:11:52.875Z"
   },
   {
    "duration": 5,
    "start_time": "2022-06-23T18:11:52.931Z"
   },
   {
    "duration": 31,
    "start_time": "2022-06-23T18:11:52.945Z"
   },
   {
    "duration": 90,
    "start_time": "2022-06-23T18:11:52.978Z"
   },
   {
    "duration": 9,
    "start_time": "2022-06-23T18:11:53.069Z"
   },
   {
    "duration": 5,
    "start_time": "2022-06-23T18:11:53.080Z"
   },
   {
    "duration": 10,
    "start_time": "2022-06-23T18:11:53.087Z"
   },
   {
    "duration": 1343,
    "start_time": "2022-06-23T18:11:53.098Z"
   },
   {
    "duration": 342,
    "start_time": "2022-06-23T18:11:54.444Z"
   },
   {
    "duration": 1195,
    "start_time": "2022-06-23T18:11:54.788Z"
   },
   {
    "duration": 305,
    "start_time": "2022-06-23T18:11:55.985Z"
   },
   {
    "duration": 4,
    "start_time": "2022-06-23T18:11:56.291Z"
   },
   {
    "duration": 63,
    "start_time": "2022-06-23T18:11:56.297Z"
   },
   {
    "duration": 30,
    "start_time": "2022-06-23T18:11:56.361Z"
   },
   {
    "duration": 7,
    "start_time": "2022-06-23T18:11:56.393Z"
   },
   {
    "duration": 6,
    "start_time": "2022-06-23T18:11:56.401Z"
   },
   {
    "duration": 32,
    "start_time": "2022-06-23T18:11:56.408Z"
   },
   {
    "duration": 20,
    "start_time": "2022-06-23T18:11:56.444Z"
   },
   {
    "duration": 11,
    "start_time": "2022-06-23T18:11:56.466Z"
   },
   {
    "duration": 4,
    "start_time": "2022-06-23T18:11:56.479Z"
   },
   {
    "duration": 167,
    "start_time": "2022-06-23T18:11:56.485Z"
   },
   {
    "duration": 5,
    "start_time": "2022-06-23T18:11:56.654Z"
   },
   {
    "duration": 16,
    "start_time": "2022-06-23T18:11:56.660Z"
   },
   {
    "duration": 3,
    "start_time": "2022-06-23T18:11:56.680Z"
   },
   {
    "duration": 9,
    "start_time": "2022-06-23T18:11:56.685Z"
   },
   {
    "duration": 5,
    "start_time": "2022-06-23T18:11:56.695Z"
   },
   {
    "duration": 7,
    "start_time": "2022-06-23T18:11:56.701Z"
   },
   {
    "duration": 19,
    "start_time": "2022-06-23T18:11:56.709Z"
   },
   {
    "duration": 4,
    "start_time": "2022-06-23T18:11:56.729Z"
   },
   {
    "duration": 40,
    "start_time": "2022-06-23T18:11:56.734Z"
   },
   {
    "duration": 7,
    "start_time": "2022-06-23T18:11:56.776Z"
   },
   {
    "duration": 49,
    "start_time": "2022-06-23T18:11:56.784Z"
   },
   {
    "duration": 27,
    "start_time": "2022-06-23T18:11:56.835Z"
   },
   {
    "duration": 17,
    "start_time": "2022-06-23T18:11:56.864Z"
   },
   {
    "duration": 1230,
    "start_time": "2022-06-23T18:11:56.883Z"
   },
   {
    "duration": 358,
    "start_time": "2022-06-23T18:11:58.115Z"
   },
   {
    "duration": 10,
    "start_time": "2022-06-23T18:11:58.475Z"
   },
   {
    "duration": 7,
    "start_time": "2022-06-23T18:11:58.487Z"
   },
   {
    "duration": 6,
    "start_time": "2022-06-23T18:11:58.495Z"
   },
   {
    "duration": 48,
    "start_time": "2022-06-23T18:11:58.502Z"
   },
   {
    "duration": 8,
    "start_time": "2022-06-23T18:11:58.553Z"
   },
   {
    "duration": 16,
    "start_time": "2022-06-23T18:11:58.563Z"
   },
   {
    "duration": 8,
    "start_time": "2022-06-23T18:11:58.581Z"
   },
   {
    "duration": 3,
    "start_time": "2022-06-23T18:11:58.590Z"
   },
   {
    "duration": 7,
    "start_time": "2022-06-23T18:11:58.595Z"
   },
   {
    "duration": 7,
    "start_time": "2022-06-23T18:11:58.604Z"
   },
   {
    "duration": 1218,
    "start_time": "2022-06-23T18:13:44.060Z"
   },
   {
    "duration": 842,
    "start_time": "2022-06-23T18:13:45.280Z"
   },
   {
    "duration": 3,
    "start_time": "2022-06-23T18:13:46.124Z"
   },
   {
    "duration": 1127,
    "start_time": "2022-06-23T18:13:46.129Z"
   },
   {
    "duration": 7,
    "start_time": "2022-06-23T18:13:47.258Z"
   },
   {
    "duration": 9,
    "start_time": "2022-06-23T18:13:47.267Z"
   },
   {
    "duration": 6,
    "start_time": "2022-06-23T18:13:47.278Z"
   },
   {
    "duration": 10,
    "start_time": "2022-06-23T18:13:47.286Z"
   },
   {
    "duration": 46,
    "start_time": "2022-06-23T18:13:47.298Z"
   },
   {
    "duration": 57,
    "start_time": "2022-06-23T18:13:47.346Z"
   },
   {
    "duration": 4,
    "start_time": "2022-06-23T18:13:47.404Z"
   },
   {
    "duration": 111,
    "start_time": "2022-06-23T18:13:47.446Z"
   },
   {
    "duration": 8,
    "start_time": "2022-06-23T18:13:47.559Z"
   },
   {
    "duration": 30,
    "start_time": "2022-06-23T18:13:47.570Z"
   },
   {
    "duration": 3,
    "start_time": "2022-06-23T18:13:47.602Z"
   },
   {
    "duration": 76,
    "start_time": "2022-06-23T18:13:47.607Z"
   },
   {
    "duration": 8,
    "start_time": "2022-06-23T18:13:47.684Z"
   },
   {
    "duration": 52,
    "start_time": "2022-06-23T18:13:47.694Z"
   },
   {
    "duration": 5,
    "start_time": "2022-06-23T18:13:47.749Z"
   },
   {
    "duration": 9,
    "start_time": "2022-06-23T18:13:47.755Z"
   },
   {
    "duration": 88,
    "start_time": "2022-06-23T18:13:47.766Z"
   },
   {
    "duration": 9,
    "start_time": "2022-06-23T18:13:47.856Z"
   },
   {
    "duration": 5,
    "start_time": "2022-06-23T18:13:47.866Z"
   },
   {
    "duration": 13,
    "start_time": "2022-06-23T18:13:47.873Z"
   },
   {
    "duration": 1323,
    "start_time": "2022-06-23T18:13:47.888Z"
   },
   {
    "duration": 355,
    "start_time": "2022-06-23T18:13:49.212Z"
   },
   {
    "duration": 1225,
    "start_time": "2022-06-23T18:13:49.569Z"
   },
   {
    "duration": 300,
    "start_time": "2022-06-23T18:13:50.796Z"
   },
   {
    "duration": 4,
    "start_time": "2022-06-23T18:13:51.098Z"
   },
   {
    "duration": 70,
    "start_time": "2022-06-23T18:13:51.103Z"
   },
   {
    "duration": 35,
    "start_time": "2022-06-23T18:13:51.175Z"
   },
   {
    "duration": 28,
    "start_time": "2022-06-23T18:13:51.211Z"
   },
   {
    "duration": 16,
    "start_time": "2022-06-23T18:13:51.245Z"
   },
   {
    "duration": 6,
    "start_time": "2022-06-23T18:13:51.262Z"
   },
   {
    "duration": 20,
    "start_time": "2022-06-23T18:13:51.269Z"
   },
   {
    "duration": 10,
    "start_time": "2022-06-23T18:13:51.290Z"
   },
   {
    "duration": 5,
    "start_time": "2022-06-23T18:13:51.301Z"
   },
   {
    "duration": 149,
    "start_time": "2022-06-23T18:13:51.308Z"
   },
   {
    "duration": 12,
    "start_time": "2022-06-23T18:13:51.459Z"
   },
   {
    "duration": 30,
    "start_time": "2022-06-23T18:13:51.474Z"
   },
   {
    "duration": 16,
    "start_time": "2022-06-23T18:13:51.509Z"
   },
   {
    "duration": 25,
    "start_time": "2022-06-23T18:13:51.543Z"
   },
   {
    "duration": 11,
    "start_time": "2022-06-23T18:13:51.570Z"
   },
   {
    "duration": 11,
    "start_time": "2022-06-23T18:13:51.583Z"
   },
   {
    "duration": 23,
    "start_time": "2022-06-23T18:13:51.596Z"
   },
   {
    "duration": 42,
    "start_time": "2022-06-23T18:13:51.621Z"
   },
   {
    "duration": 38,
    "start_time": "2022-06-23T18:13:51.665Z"
   },
   {
    "duration": 9,
    "start_time": "2022-06-23T18:13:51.705Z"
   },
   {
    "duration": 32,
    "start_time": "2022-06-23T18:13:51.716Z"
   },
   {
    "duration": 26,
    "start_time": "2022-06-23T18:13:51.751Z"
   },
   {
    "duration": 16,
    "start_time": "2022-06-23T18:13:51.779Z"
   },
   {
    "duration": 1303,
    "start_time": "2022-06-23T18:13:51.797Z"
   },
   {
    "duration": 357,
    "start_time": "2022-06-23T18:13:53.102Z"
   },
   {
    "duration": 8,
    "start_time": "2022-06-23T18:13:53.460Z"
   },
   {
    "duration": 8,
    "start_time": "2022-06-23T18:13:53.469Z"
   },
   {
    "duration": 6,
    "start_time": "2022-06-23T18:13:53.479Z"
   },
   {
    "duration": 6,
    "start_time": "2022-06-23T18:13:53.486Z"
   },
   {
    "duration": 46,
    "start_time": "2022-06-23T18:13:53.493Z"
   },
   {
    "duration": 29,
    "start_time": "2022-06-23T18:13:53.544Z"
   },
   {
    "duration": 8,
    "start_time": "2022-06-23T18:13:53.576Z"
   },
   {
    "duration": 6,
    "start_time": "2022-06-23T18:13:53.585Z"
   },
   {
    "duration": 10,
    "start_time": "2022-06-23T18:13:53.593Z"
   },
   {
    "duration": 10,
    "start_time": "2022-06-23T18:13:53.604Z"
   },
   {
    "duration": 1084,
    "start_time": "2022-06-23T19:51:27.161Z"
   },
   {
    "duration": 1127,
    "start_time": "2022-06-23T19:51:28.247Z"
   },
   {
    "duration": 3,
    "start_time": "2022-06-23T19:51:29.375Z"
   },
   {
    "duration": 829,
    "start_time": "2022-06-23T19:51:29.379Z"
   },
   {
    "duration": 30,
    "start_time": "2022-06-23T19:51:30.209Z"
   },
   {
    "duration": 6,
    "start_time": "2022-06-23T19:51:30.241Z"
   },
   {
    "duration": 18,
    "start_time": "2022-06-23T19:51:30.249Z"
   },
   {
    "duration": 14,
    "start_time": "2022-06-23T19:51:30.268Z"
   },
   {
    "duration": 22,
    "start_time": "2022-06-23T19:51:30.284Z"
   },
   {
    "duration": 73,
    "start_time": "2022-06-23T19:51:30.309Z"
   },
   {
    "duration": 4,
    "start_time": "2022-06-23T19:51:30.383Z"
   },
   {
    "duration": 91,
    "start_time": "2022-06-23T19:51:30.388Z"
   },
   {
    "duration": 9,
    "start_time": "2022-06-23T19:51:30.480Z"
   },
   {
    "duration": 41,
    "start_time": "2022-06-23T19:51:30.491Z"
   },
   {
    "duration": 8,
    "start_time": "2022-06-23T19:51:30.534Z"
   },
   {
    "duration": 49,
    "start_time": "2022-06-23T19:51:30.544Z"
   },
   {
    "duration": 9,
    "start_time": "2022-06-23T19:51:30.595Z"
   },
   {
    "duration": 62,
    "start_time": "2022-06-23T19:51:30.606Z"
   },
   {
    "duration": 3,
    "start_time": "2022-06-23T19:51:30.670Z"
   },
   {
    "duration": 9,
    "start_time": "2022-06-23T19:51:30.675Z"
   },
   {
    "duration": 70,
    "start_time": "2022-06-23T19:51:30.685Z"
   },
   {
    "duration": 8,
    "start_time": "2022-06-23T19:51:30.757Z"
   },
   {
    "duration": 5,
    "start_time": "2022-06-23T19:51:30.767Z"
   },
   {
    "duration": 12,
    "start_time": "2022-06-23T19:51:30.773Z"
   },
   {
    "duration": 1260,
    "start_time": "2022-06-23T19:51:30.786Z"
   },
   {
    "duration": 280,
    "start_time": "2022-06-23T19:51:32.047Z"
   },
   {
    "duration": 1071,
    "start_time": "2022-06-23T19:51:32.329Z"
   },
   {
    "duration": 307,
    "start_time": "2022-06-23T19:51:33.403Z"
   },
   {
    "duration": 5,
    "start_time": "2022-06-23T19:51:33.711Z"
   },
   {
    "duration": 56,
    "start_time": "2022-06-23T19:51:33.717Z"
   },
   {
    "duration": 34,
    "start_time": "2022-06-23T19:51:33.774Z"
   },
   {
    "duration": 7,
    "start_time": "2022-06-23T19:51:33.810Z"
   },
   {
    "duration": 26,
    "start_time": "2022-06-23T19:51:33.819Z"
   },
   {
    "duration": 6,
    "start_time": "2022-06-23T19:51:33.847Z"
   },
   {
    "duration": 16,
    "start_time": "2022-06-23T19:51:33.854Z"
   },
   {
    "duration": 11,
    "start_time": "2022-06-23T19:51:33.871Z"
   },
   {
    "duration": 4,
    "start_time": "2022-06-23T19:51:33.883Z"
   },
   {
    "duration": 145,
    "start_time": "2022-06-23T19:51:33.889Z"
   },
   {
    "duration": 7,
    "start_time": "2022-06-23T19:51:34.036Z"
   },
   {
    "duration": 18,
    "start_time": "2022-06-23T19:51:34.045Z"
   },
   {
    "duration": 4,
    "start_time": "2022-06-23T19:51:34.064Z"
   },
   {
    "duration": 9,
    "start_time": "2022-06-23T19:51:34.070Z"
   },
   {
    "duration": 6,
    "start_time": "2022-06-23T19:51:34.081Z"
   },
   {
    "duration": 8,
    "start_time": "2022-06-23T19:51:34.088Z"
   },
   {
    "duration": 8,
    "start_time": "2022-06-23T19:51:34.098Z"
   },
   {
    "duration": 31,
    "start_time": "2022-06-23T19:51:34.108Z"
   },
   {
    "duration": 36,
    "start_time": "2022-06-23T19:51:34.141Z"
   },
   {
    "duration": 8,
    "start_time": "2022-06-23T19:51:34.179Z"
   },
   {
    "duration": 12,
    "start_time": "2022-06-23T19:51:34.189Z"
   },
   {
    "duration": 53,
    "start_time": "2022-06-23T19:51:34.203Z"
   },
   {
    "duration": 18,
    "start_time": "2022-06-23T19:51:34.257Z"
   },
   {
    "duration": 1176,
    "start_time": "2022-06-23T19:51:34.277Z"
   },
   {
    "duration": 317,
    "start_time": "2022-06-23T19:51:35.454Z"
   },
   {
    "duration": 7,
    "start_time": "2022-06-23T19:51:35.773Z"
   },
   {
    "duration": 11,
    "start_time": "2022-06-23T19:51:35.781Z"
   },
   {
    "duration": 5,
    "start_time": "2022-06-23T19:51:35.793Z"
   },
   {
    "duration": 6,
    "start_time": "2022-06-23T19:51:35.799Z"
   },
   {
    "duration": 35,
    "start_time": "2022-06-23T19:51:35.807Z"
   },
   {
    "duration": 13,
    "start_time": "2022-06-23T19:51:35.844Z"
   },
   {
    "duration": 23,
    "start_time": "2022-06-23T19:51:35.859Z"
   },
   {
    "duration": 7,
    "start_time": "2022-06-23T19:51:35.884Z"
   },
   {
    "duration": 13,
    "start_time": "2022-06-23T19:51:35.892Z"
   },
   {
    "duration": 11,
    "start_time": "2022-06-23T19:51:35.907Z"
   },
   {
    "duration": 15,
    "start_time": "2022-06-23T19:53:58.499Z"
   },
   {
    "duration": 90,
    "start_time": "2022-06-26T17:38:01.603Z"
   },
   {
    "duration": 1480,
    "start_time": "2022-06-26T17:38:09.676Z"
   },
   {
    "duration": 1055,
    "start_time": "2022-06-26T17:38:11.159Z"
   },
   {
    "duration": 4,
    "start_time": "2022-06-26T17:38:12.216Z"
   },
   {
    "duration": 1192,
    "start_time": "2022-06-26T17:38:12.222Z"
   },
   {
    "duration": 37,
    "start_time": "2022-06-26T17:38:13.417Z"
   },
   {
    "duration": 18,
    "start_time": "2022-06-26T17:38:13.457Z"
   },
   {
    "duration": 12,
    "start_time": "2022-06-26T17:38:13.478Z"
   },
   {
    "duration": 19,
    "start_time": "2022-06-26T17:38:13.495Z"
   },
   {
    "duration": 17,
    "start_time": "2022-06-26T17:38:13.653Z"
   },
   {
    "duration": 87,
    "start_time": "2022-06-26T17:38:14.563Z"
   },
   {
    "duration": 5,
    "start_time": "2022-06-26T17:38:14.933Z"
   },
   {
    "duration": 88,
    "start_time": "2022-06-26T17:38:15.343Z"
   },
   {
    "duration": 12,
    "start_time": "2022-06-26T17:38:15.792Z"
   },
   {
    "duration": 47,
    "start_time": "2022-06-26T17:38:16.666Z"
   },
   {
    "duration": 5,
    "start_time": "2022-06-26T17:38:17.053Z"
   },
   {
    "duration": 85,
    "start_time": "2022-06-26T17:38:17.464Z"
   },
   {
    "duration": 13,
    "start_time": "2022-06-26T17:38:17.903Z"
   },
   {
    "duration": 43,
    "start_time": "2022-06-26T17:38:18.834Z"
   },
   {
    "duration": 7,
    "start_time": "2022-06-26T17:38:19.326Z"
   },
   {
    "duration": 9,
    "start_time": "2022-06-26T17:38:19.714Z"
   },
   {
    "duration": 89,
    "start_time": "2022-06-26T17:38:20.173Z"
   },
   {
    "duration": 12,
    "start_time": "2022-06-26T17:38:20.603Z"
   },
   {
    "duration": 13,
    "start_time": "2022-06-26T17:38:21.554Z"
   },
   {
    "duration": 14,
    "start_time": "2022-06-26T17:38:21.993Z"
   },
   {
    "duration": 1493,
    "start_time": "2022-06-26T17:38:23.303Z"
   },
   {
    "duration": 328,
    "start_time": "2022-06-26T17:38:24.799Z"
   },
   {
    "duration": 1246,
    "start_time": "2022-06-26T17:38:25.141Z"
   },
   {
    "duration": 375,
    "start_time": "2022-06-26T17:38:26.390Z"
   },
   {
    "duration": 5,
    "start_time": "2022-06-26T17:38:26.767Z"
   },
   {
    "duration": 62,
    "start_time": "2022-06-26T17:38:26.953Z"
   },
   {
    "duration": 49,
    "start_time": "2022-06-26T17:38:27.404Z"
   },
   {
    "duration": 4,
    "start_time": "2022-06-26T17:38:29.003Z"
   },
   {
    "duration": 555,
    "start_time": "2022-06-26T17:42:00.123Z"
   },
   {
    "duration": 5,
    "start_time": "2022-06-26T17:42:42.535Z"
   },
   {
    "duration": 6,
    "start_time": "2022-06-26T17:43:54.005Z"
   },
   {
    "duration": 7,
    "start_time": "2022-06-26T17:43:54.777Z"
   },
   {
    "duration": 91,
    "start_time": "2022-06-26T17:43:55.203Z"
   },
   {
    "duration": 14,
    "start_time": "2022-06-26T17:44:04.753Z"
   },
   {
    "duration": 4,
    "start_time": "2022-06-26T17:44:06.663Z"
   },
   {
    "duration": 18,
    "start_time": "2022-06-26T17:44:07.073Z"
   },
   {
    "duration": 13,
    "start_time": "2022-06-26T17:44:23.633Z"
   },
   {
    "duration": 13,
    "start_time": "2022-06-26T17:44:26.999Z"
   },
   {
    "duration": 15,
    "start_time": "2022-06-26T17:44:44.853Z"
   },
   {
    "duration": 4,
    "start_time": "2022-06-26T17:45:30.472Z"
   },
   {
    "duration": 4,
    "start_time": "2022-06-26T17:45:42.743Z"
   },
   {
    "duration": 1453,
    "start_time": "2022-06-26T17:46:49.894Z"
   },
   {
    "duration": 1028,
    "start_time": "2022-06-26T17:46:51.349Z"
   },
   {
    "duration": 4,
    "start_time": "2022-06-26T17:46:52.380Z"
   },
   {
    "duration": 1689,
    "start_time": "2022-06-26T17:46:52.387Z"
   },
   {
    "duration": 10,
    "start_time": "2022-06-26T17:46:54.082Z"
   },
   {
    "duration": 19,
    "start_time": "2022-06-26T17:46:54.095Z"
   },
   {
    "duration": 27,
    "start_time": "2022-06-26T17:46:54.117Z"
   },
   {
    "duration": 21,
    "start_time": "2022-06-26T17:46:54.146Z"
   },
   {
    "duration": 20,
    "start_time": "2022-06-26T17:46:54.170Z"
   },
   {
    "duration": 70,
    "start_time": "2022-06-26T17:46:54.194Z"
   },
   {
    "duration": 4,
    "start_time": "2022-06-26T17:46:54.267Z"
   },
   {
    "duration": 174,
    "start_time": "2022-06-26T17:46:54.274Z"
   },
   {
    "duration": 15,
    "start_time": "2022-06-26T17:46:54.453Z"
   },
   {
    "duration": 71,
    "start_time": "2022-06-26T17:46:54.471Z"
   },
   {
    "duration": 6,
    "start_time": "2022-06-26T17:46:54.545Z"
   },
   {
    "duration": 88,
    "start_time": "2022-06-26T17:46:54.553Z"
   },
   {
    "duration": 15,
    "start_time": "2022-06-26T17:46:54.643Z"
   },
   {
    "duration": 82,
    "start_time": "2022-06-26T17:46:54.660Z"
   },
   {
    "duration": 7,
    "start_time": "2022-06-26T17:46:54.745Z"
   },
   {
    "duration": 15,
    "start_time": "2022-06-26T17:46:54.754Z"
   },
   {
    "duration": 84,
    "start_time": "2022-06-26T17:46:54.771Z"
   },
   {
    "duration": 11,
    "start_time": "2022-06-26T17:46:54.858Z"
   },
   {
    "duration": 11,
    "start_time": "2022-06-26T17:46:54.872Z"
   },
   {
    "duration": 17,
    "start_time": "2022-06-26T17:46:54.888Z"
   },
   {
    "duration": 1805,
    "start_time": "2022-06-26T17:46:54.907Z"
   },
   {
    "duration": 460,
    "start_time": "2022-06-26T17:46:56.715Z"
   },
   {
    "duration": 1461,
    "start_time": "2022-06-26T17:46:57.177Z"
   },
   {
    "duration": 330,
    "start_time": "2022-06-26T17:46:58.648Z"
   },
   {
    "duration": 5,
    "start_time": "2022-06-26T17:46:58.981Z"
   },
   {
    "duration": 70,
    "start_time": "2022-06-26T17:46:58.988Z"
   },
   {
    "duration": 58,
    "start_time": "2022-06-26T17:46:59.061Z"
   },
   {
    "duration": 22,
    "start_time": "2022-06-26T17:46:59.121Z"
   },
   {
    "duration": 8,
    "start_time": "2022-06-26T17:46:59.145Z"
   },
   {
    "duration": 1491,
    "start_time": "2022-06-26T17:47:33.614Z"
   },
   {
    "duration": 1108,
    "start_time": "2022-06-26T17:47:35.108Z"
   },
   {
    "duration": 5,
    "start_time": "2022-06-26T17:47:36.218Z"
   },
   {
    "duration": 1563,
    "start_time": "2022-06-26T17:47:36.225Z"
   },
   {
    "duration": 9,
    "start_time": "2022-06-26T17:47:37.790Z"
   },
   {
    "duration": 41,
    "start_time": "2022-06-26T17:47:37.801Z"
   },
   {
    "duration": 7,
    "start_time": "2022-06-26T17:47:37.845Z"
   },
   {
    "duration": 33,
    "start_time": "2022-06-26T17:47:37.854Z"
   },
   {
    "duration": 45,
    "start_time": "2022-06-26T17:47:37.890Z"
   },
   {
    "duration": 96,
    "start_time": "2022-06-26T17:47:37.940Z"
   },
   {
    "duration": 5,
    "start_time": "2022-06-26T17:47:38.040Z"
   },
   {
    "duration": 113,
    "start_time": "2022-06-26T17:47:38.048Z"
   },
   {
    "duration": 13,
    "start_time": "2022-06-26T17:47:38.163Z"
   },
   {
    "duration": 64,
    "start_time": "2022-06-26T17:47:38.178Z"
   },
   {
    "duration": 5,
    "start_time": "2022-06-26T17:47:38.244Z"
   },
   {
    "duration": 91,
    "start_time": "2022-06-26T17:47:38.251Z"
   },
   {
    "duration": 12,
    "start_time": "2022-06-26T17:47:38.344Z"
   },
   {
    "duration": 48,
    "start_time": "2022-06-26T17:47:38.359Z"
   },
   {
    "duration": 7,
    "start_time": "2022-06-26T17:47:38.409Z"
   },
   {
    "duration": 9,
    "start_time": "2022-06-26T17:47:38.443Z"
   },
   {
    "duration": 121,
    "start_time": "2022-06-26T17:47:38.454Z"
   },
   {
    "duration": 14,
    "start_time": "2022-06-26T17:47:38.577Z"
   },
   {
    "duration": 8,
    "start_time": "2022-06-26T17:47:38.593Z"
   },
   {
    "duration": 38,
    "start_time": "2022-06-26T17:47:38.604Z"
   },
   {
    "duration": 1437,
    "start_time": "2022-06-26T17:47:38.645Z"
   },
   {
    "duration": 342,
    "start_time": "2022-06-26T17:47:40.086Z"
   },
   {
    "duration": 1375,
    "start_time": "2022-06-26T17:47:40.430Z"
   },
   {
    "duration": 469,
    "start_time": "2022-06-26T17:47:41.813Z"
   },
   {
    "duration": 7,
    "start_time": "2022-06-26T17:47:42.284Z"
   },
   {
    "duration": 102,
    "start_time": "2022-06-26T17:47:42.294Z"
   },
   {
    "duration": 72,
    "start_time": "2022-06-26T17:47:42.398Z"
   },
   {
    "duration": 7,
    "start_time": "2022-06-26T17:47:42.473Z"
   },
   {
    "duration": 28,
    "start_time": "2022-06-26T17:47:42.482Z"
   },
   {
    "duration": 8,
    "start_time": "2022-06-26T17:47:42.514Z"
   },
   {
    "duration": 13,
    "start_time": "2022-06-26T17:47:42.525Z"
   },
   {
    "duration": 28,
    "start_time": "2022-06-26T17:47:42.541Z"
   },
   {
    "duration": 24,
    "start_time": "2022-06-26T17:47:42.573Z"
   },
   {
    "duration": 24,
    "start_time": "2022-06-26T17:47:42.599Z"
   },
   {
    "duration": 24,
    "start_time": "2022-06-26T17:47:42.625Z"
   },
   {
    "duration": 5,
    "start_time": "2022-06-26T17:47:42.652Z"
   },
   {
    "duration": 231,
    "start_time": "2022-06-26T17:47:42.660Z"
   },
   {
    "duration": 6,
    "start_time": "2022-06-26T17:47:42.894Z"
   },
   {
    "duration": 53,
    "start_time": "2022-06-26T17:47:42.902Z"
   },
   {
    "duration": 16,
    "start_time": "2022-06-26T17:47:42.958Z"
   },
   {
    "duration": 14,
    "start_time": "2022-06-26T17:47:42.977Z"
   },
   {
    "duration": 22,
    "start_time": "2022-06-26T17:47:42.994Z"
   },
   {
    "duration": 28,
    "start_time": "2022-06-26T17:47:43.018Z"
   },
   {
    "duration": 12,
    "start_time": "2022-06-26T17:47:43.048Z"
   },
   {
    "duration": 12,
    "start_time": "2022-06-26T17:47:43.063Z"
   },
   {
    "duration": 79,
    "start_time": "2022-06-26T17:47:43.077Z"
   },
   {
    "duration": 19,
    "start_time": "2022-06-26T17:47:43.160Z"
   },
   {
    "duration": 52,
    "start_time": "2022-06-26T17:47:43.183Z"
   },
   {
    "duration": 35,
    "start_time": "2022-06-26T17:47:43.237Z"
   },
   {
    "duration": 32,
    "start_time": "2022-06-26T17:47:43.275Z"
   },
   {
    "duration": 1623,
    "start_time": "2022-06-26T17:47:43.310Z"
   },
   {
    "duration": 420,
    "start_time": "2022-06-26T17:47:44.935Z"
   },
   {
    "duration": 10,
    "start_time": "2022-06-26T17:47:45.357Z"
   },
   {
    "duration": 23,
    "start_time": "2022-06-26T17:47:45.369Z"
   },
   {
    "duration": 4,
    "start_time": "2022-06-26T17:47:45.395Z"
   },
   {
    "duration": 9,
    "start_time": "2022-06-26T17:47:45.402Z"
   },
   {
    "duration": 28,
    "start_time": "2022-06-26T17:47:45.415Z"
   },
   {
    "duration": 34,
    "start_time": "2022-06-26T17:47:45.448Z"
   },
   {
    "duration": 11,
    "start_time": "2022-06-26T17:47:45.484Z"
   },
   {
    "duration": 4,
    "start_time": "2022-06-26T17:47:45.498Z"
   },
   {
    "duration": 16,
    "start_time": "2022-06-26T17:47:45.505Z"
   },
   {
    "duration": 6,
    "start_time": "2022-06-26T17:47:45.524Z"
   },
   {
    "duration": 6,
    "start_time": "2022-06-26T17:48:26.873Z"
   },
   {
    "duration": 4,
    "start_time": "2022-06-26T17:48:27.591Z"
   },
   {
    "duration": 57,
    "start_time": "2022-06-26T17:49:08.904Z"
   },
   {
    "duration": 11,
    "start_time": "2022-06-26T17:49:14.454Z"
   },
   {
    "duration": 1306,
    "start_time": "2022-06-26T17:49:20.727Z"
   },
   {
    "duration": 1136,
    "start_time": "2022-06-26T17:49:22.036Z"
   },
   {
    "duration": 4,
    "start_time": "2022-06-26T17:49:23.174Z"
   },
   {
    "duration": 1305,
    "start_time": "2022-06-26T17:49:23.181Z"
   },
   {
    "duration": 10,
    "start_time": "2022-06-26T17:49:24.488Z"
   },
   {
    "duration": 41,
    "start_time": "2022-06-26T17:49:24.501Z"
   },
   {
    "duration": 14,
    "start_time": "2022-06-26T17:49:24.545Z"
   },
   {
    "duration": 21,
    "start_time": "2022-06-26T17:49:24.562Z"
   },
   {
    "duration": 16,
    "start_time": "2022-06-26T17:49:24.585Z"
   },
   {
    "duration": 122,
    "start_time": "2022-06-26T17:49:24.605Z"
   },
   {
    "duration": 14,
    "start_time": "2022-06-26T17:49:24.730Z"
   },
   {
    "duration": 173,
    "start_time": "2022-06-26T17:49:24.748Z"
   },
   {
    "duration": 19,
    "start_time": "2022-06-26T17:49:24.923Z"
   },
   {
    "duration": 39,
    "start_time": "2022-06-26T17:49:24.944Z"
   },
   {
    "duration": 4,
    "start_time": "2022-06-26T17:49:24.986Z"
   },
   {
    "duration": 111,
    "start_time": "2022-06-26T17:49:24.992Z"
   },
   {
    "duration": 14,
    "start_time": "2022-06-26T17:49:25.113Z"
   },
   {
    "duration": 81,
    "start_time": "2022-06-26T17:49:25.129Z"
   },
   {
    "duration": 5,
    "start_time": "2022-06-26T17:49:25.213Z"
   },
   {
    "duration": 10,
    "start_time": "2022-06-26T17:49:25.220Z"
   },
   {
    "duration": 122,
    "start_time": "2022-06-26T17:49:25.232Z"
   },
   {
    "duration": 17,
    "start_time": "2022-06-26T17:49:25.357Z"
   },
   {
    "duration": 13,
    "start_time": "2022-06-26T17:49:25.377Z"
   },
   {
    "duration": 22,
    "start_time": "2022-06-26T17:49:25.392Z"
   },
   {
    "duration": 1991,
    "start_time": "2022-06-26T17:49:25.417Z"
   },
   {
    "duration": 525,
    "start_time": "2022-06-26T17:49:27.411Z"
   },
   {
    "duration": 1530,
    "start_time": "2022-06-26T17:49:27.943Z"
   },
   {
    "duration": 359,
    "start_time": "2022-06-26T17:49:29.478Z"
   },
   {
    "duration": 598,
    "start_time": "2022-06-26T17:49:29.839Z"
   },
   {
    "duration": 117,
    "start_time": "2022-06-26T17:49:30.442Z"
   },
   {
    "duration": 61,
    "start_time": "2022-06-26T17:49:30.562Z"
   },
   {
    "duration": 8,
    "start_time": "2022-06-26T17:49:30.626Z"
   },
   {
    "duration": 33,
    "start_time": "2022-06-26T17:49:30.646Z"
   },
   {
    "duration": 120,
    "start_time": "2022-06-26T17:49:30.683Z"
   },
   {
    "duration": 13,
    "start_time": "2022-06-26T17:49:30.805Z"
   },
   {
    "duration": 25,
    "start_time": "2022-06-26T17:49:30.821Z"
   },
   {
    "duration": 10,
    "start_time": "2022-06-26T17:49:30.849Z"
   },
   {
    "duration": 50,
    "start_time": "2022-06-26T17:49:30.863Z"
   },
   {
    "duration": 52,
    "start_time": "2022-06-26T17:49:30.916Z"
   },
   {
    "duration": 38,
    "start_time": "2022-06-26T17:49:30.970Z"
   },
   {
    "duration": 241,
    "start_time": "2022-06-26T17:49:31.011Z"
   },
   {
    "duration": 7,
    "start_time": "2022-06-26T17:49:31.255Z"
   },
   {
    "duration": 43,
    "start_time": "2022-06-26T17:49:31.264Z"
   },
   {
    "duration": 6,
    "start_time": "2022-06-26T17:49:31.309Z"
   },
   {
    "duration": 19,
    "start_time": "2022-06-26T17:49:31.317Z"
   },
   {
    "duration": 7,
    "start_time": "2022-06-26T17:49:31.341Z"
   },
   {
    "duration": 10,
    "start_time": "2022-06-26T17:49:31.351Z"
   },
   {
    "duration": 20,
    "start_time": "2022-06-26T17:49:31.364Z"
   },
   {
    "duration": 14,
    "start_time": "2022-06-26T17:49:31.386Z"
   },
   {
    "duration": 52,
    "start_time": "2022-06-26T17:49:31.403Z"
   },
   {
    "duration": 10,
    "start_time": "2022-06-26T17:49:31.457Z"
   },
   {
    "duration": 20,
    "start_time": "2022-06-26T17:49:31.470Z"
   },
   {
    "duration": 51,
    "start_time": "2022-06-26T17:49:31.493Z"
   },
   {
    "duration": 40,
    "start_time": "2022-06-26T17:49:31.550Z"
   },
   {
    "duration": 1569,
    "start_time": "2022-06-26T17:49:31.591Z"
   },
   {
    "duration": 524,
    "start_time": "2022-06-26T17:49:33.162Z"
   },
   {
    "duration": 10,
    "start_time": "2022-06-26T17:49:33.692Z"
   },
   {
    "duration": 19,
    "start_time": "2022-06-26T17:49:33.704Z"
   },
   {
    "duration": 8,
    "start_time": "2022-06-26T17:49:33.726Z"
   },
   {
    "duration": 12,
    "start_time": "2022-06-26T17:49:33.741Z"
   },
   {
    "duration": 22,
    "start_time": "2022-06-26T17:49:33.755Z"
   },
   {
    "duration": 24,
    "start_time": "2022-06-26T17:49:33.779Z"
   },
   {
    "duration": 13,
    "start_time": "2022-06-26T17:49:33.806Z"
   },
   {
    "duration": 12,
    "start_time": "2022-06-26T17:49:33.821Z"
   },
   {
    "duration": 12,
    "start_time": "2022-06-26T17:49:33.835Z"
   },
   {
    "duration": 8,
    "start_time": "2022-06-26T17:49:33.853Z"
   },
   {
    "duration": 3,
    "start_time": "2022-06-26T17:50:44.071Z"
   },
   {
    "duration": 103,
    "start_time": "2022-06-26T17:50:44.568Z"
   },
   {
    "duration": 4,
    "start_time": "2022-06-26T17:50:49.185Z"
   },
   {
    "duration": 1278,
    "start_time": "2022-06-26T18:19:30.388Z"
   },
   {
    "duration": 887,
    "start_time": "2022-06-26T18:19:31.668Z"
   },
   {
    "duration": 7,
    "start_time": "2022-06-26T18:19:32.558Z"
   },
   {
    "duration": 1211,
    "start_time": "2022-06-26T18:19:32.568Z"
   },
   {
    "duration": 8,
    "start_time": "2022-06-26T18:19:33.782Z"
   },
   {
    "duration": 7,
    "start_time": "2022-06-26T18:19:33.793Z"
   },
   {
    "duration": 18,
    "start_time": "2022-06-26T18:19:33.802Z"
   },
   {
    "duration": 35,
    "start_time": "2022-06-26T18:19:33.822Z"
   },
   {
    "duration": 31,
    "start_time": "2022-06-26T18:19:33.861Z"
   },
   {
    "duration": 70,
    "start_time": "2022-06-26T18:19:34.260Z"
   },
   {
    "duration": 6,
    "start_time": "2022-06-26T18:19:34.739Z"
   },
   {
    "duration": 96,
    "start_time": "2022-06-26T18:19:35.238Z"
   },
   {
    "duration": 14,
    "start_time": "2022-06-26T18:19:35.708Z"
   },
   {
    "duration": 33,
    "start_time": "2022-06-26T18:19:36.688Z"
   },
   {
    "duration": 4,
    "start_time": "2022-06-26T18:19:37.132Z"
   },
   {
    "duration": 80,
    "start_time": "2022-06-26T18:19:37.578Z"
   },
   {
    "duration": 13,
    "start_time": "2022-06-26T18:19:38.038Z"
   },
   {
    "duration": 54,
    "start_time": "2022-06-26T18:19:38.988Z"
   },
   {
    "duration": 6,
    "start_time": "2022-06-26T18:19:39.460Z"
   },
   {
    "duration": 6,
    "start_time": "2022-06-26T18:19:39.917Z"
   },
   {
    "duration": 62,
    "start_time": "2022-06-26T18:19:40.368Z"
   },
   {
    "duration": 9,
    "start_time": "2022-06-26T18:19:40.818Z"
   },
   {
    "duration": 6,
    "start_time": "2022-06-26T18:19:41.988Z"
   },
   {
    "duration": 12,
    "start_time": "2022-06-26T18:19:42.418Z"
   },
   {
    "duration": 1376,
    "start_time": "2022-06-26T18:19:43.938Z"
   },
   {
    "duration": 360,
    "start_time": "2022-06-26T18:19:45.316Z"
   },
   {
    "duration": 1305,
    "start_time": "2022-06-26T18:19:45.678Z"
   },
   {
    "duration": 364,
    "start_time": "2022-06-26T18:19:46.986Z"
   },
   {
    "duration": 8,
    "start_time": "2022-06-26T18:19:47.658Z"
   },
   {
    "duration": 130,
    "start_time": "2022-06-26T18:19:49.278Z"
   },
   {
    "duration": 6,
    "start_time": "2022-06-26T18:20:18.179Z"
   },
   {
    "duration": 58,
    "start_time": "2022-06-26T18:20:19.117Z"
   },
   {
    "duration": 6,
    "start_time": "2022-06-26T18:20:20.659Z"
   },
   {
    "duration": 57,
    "start_time": "2022-06-26T18:23:14.608Z"
   },
   {
    "duration": 1363,
    "start_time": "2022-06-26T18:23:23.762Z"
   },
   {
    "duration": 1261,
    "start_time": "2022-06-26T18:23:26.918Z"
   },
   {
    "duration": 4,
    "start_time": "2022-06-26T18:23:28.181Z"
   },
   {
    "duration": 1297,
    "start_time": "2022-06-26T18:23:28.187Z"
   },
   {
    "duration": 8,
    "start_time": "2022-06-26T18:23:29.581Z"
   },
   {
    "duration": 6,
    "start_time": "2022-06-26T18:23:29.988Z"
   },
   {
    "duration": 7,
    "start_time": "2022-06-26T18:23:30.409Z"
   },
   {
    "duration": 13,
    "start_time": "2022-06-26T18:23:30.778Z"
   },
   {
    "duration": 14,
    "start_time": "2022-06-26T18:23:31.198Z"
   },
   {
    "duration": 67,
    "start_time": "2022-06-26T18:23:32.018Z"
   },
   {
    "duration": 5,
    "start_time": "2022-06-26T18:23:32.428Z"
   },
   {
    "duration": 111,
    "start_time": "2022-06-26T18:23:32.918Z"
   },
   {
    "duration": 13,
    "start_time": "2022-06-26T18:23:33.228Z"
   },
   {
    "duration": 49,
    "start_time": "2022-06-26T18:23:34.059Z"
   },
   {
    "duration": 5,
    "start_time": "2022-06-26T18:23:34.469Z"
   },
   {
    "duration": 68,
    "start_time": "2022-06-26T18:23:34.868Z"
   },
   {
    "duration": 10,
    "start_time": "2022-06-26T18:23:35.308Z"
   },
   {
    "duration": 67,
    "start_time": "2022-06-26T18:23:36.259Z"
   },
   {
    "duration": 6,
    "start_time": "2022-06-26T18:23:36.659Z"
   },
   {
    "duration": 8,
    "start_time": "2022-06-26T18:23:37.079Z"
   },
   {
    "duration": 123,
    "start_time": "2022-06-26T18:23:37.538Z"
   },
   {
    "duration": 14,
    "start_time": "2022-06-26T18:23:37.988Z"
   },
   {
    "duration": 8,
    "start_time": "2022-06-26T18:23:38.879Z"
   },
   {
    "duration": 10,
    "start_time": "2022-06-26T18:23:39.289Z"
   },
   {
    "duration": 1393,
    "start_time": "2022-06-26T18:23:40.668Z"
   },
   {
    "duration": 339,
    "start_time": "2022-06-26T18:23:42.065Z"
   },
   {
    "duration": 1269,
    "start_time": "2022-06-26T18:23:42.406Z"
   },
   {
    "duration": 340,
    "start_time": "2022-06-26T18:23:43.678Z"
   },
   {
    "duration": 6,
    "start_time": "2022-06-26T18:23:44.020Z"
   },
   {
    "duration": 83,
    "start_time": "2022-06-26T18:23:44.029Z"
   },
   {
    "duration": 5,
    "start_time": "2022-06-26T18:23:47.388Z"
   },
   {
    "duration": 20,
    "start_time": "2022-06-26T18:23:48.708Z"
   },
   {
    "duration": 20,
    "start_time": "2022-06-26T18:24:57.271Z"
   },
   {
    "duration": 12,
    "start_time": "2022-06-26T18:25:04.669Z"
   },
   {
    "duration": 6,
    "start_time": "2022-06-26T18:25:52.289Z"
   },
   {
    "duration": 23,
    "start_time": "2022-06-26T18:25:53.039Z"
   },
   {
    "duration": 13,
    "start_time": "2022-06-26T18:25:53.888Z"
   },
   {
    "duration": 57,
    "start_time": "2022-06-26T18:27:09.338Z"
   },
   {
    "duration": 67,
    "start_time": "2022-06-26T18:27:10.859Z"
   },
   {
    "duration": 5,
    "start_time": "2022-06-26T18:27:19.742Z"
   },
   {
    "duration": 17,
    "start_time": "2022-06-26T18:27:20.678Z"
   },
   {
    "duration": 43,
    "start_time": "2022-06-26T18:27:31.808Z"
   },
   {
    "duration": 6,
    "start_time": "2022-06-26T18:27:33.358Z"
   },
   {
    "duration": 18,
    "start_time": "2022-06-26T18:27:34.158Z"
   },
   {
    "duration": 3,
    "start_time": "2022-06-26T18:27:48.508Z"
   },
   {
    "duration": 56,
    "start_time": "2022-06-26T18:27:54.586Z"
   },
   {
    "duration": 3,
    "start_time": "2022-06-26T18:27:54.990Z"
   },
   {
    "duration": 13,
    "start_time": "2022-06-26T18:28:03.718Z"
   },
   {
    "duration": 3,
    "start_time": "2022-06-26T18:28:04.998Z"
   },
   {
    "duration": 51,
    "start_time": "2022-06-26T18:28:11.038Z"
   },
   {
    "duration": 11,
    "start_time": "2022-06-26T18:28:11.529Z"
   },
   {
    "duration": 53,
    "start_time": "2022-06-26T18:28:23.158Z"
   },
   {
    "duration": 17,
    "start_time": "2022-06-26T18:28:24.084Z"
   },
   {
    "duration": 11,
    "start_time": "2022-06-26T18:32:49.059Z"
   },
   {
    "duration": 4,
    "start_time": "2022-06-26T18:33:01.849Z"
   },
   {
    "duration": 4,
    "start_time": "2022-06-26T18:34:15.369Z"
   },
   {
    "duration": 20,
    "start_time": "2022-06-26T18:34:15.919Z"
   },
   {
    "duration": 13,
    "start_time": "2022-06-26T18:34:25.969Z"
   },
   {
    "duration": 34,
    "start_time": "2022-06-26T18:44:22.959Z"
   },
   {
    "duration": 6,
    "start_time": "2022-06-26T18:45:43.106Z"
   },
   {
    "duration": 17,
    "start_time": "2022-06-26T18:45:43.770Z"
   },
   {
    "duration": 16,
    "start_time": "2022-06-26T18:45:52.769Z"
   },
   {
    "duration": 5,
    "start_time": "2022-06-26T18:47:04.129Z"
   },
   {
    "duration": 31,
    "start_time": "2022-06-26T18:47:04.662Z"
   },
   {
    "duration": 6,
    "start_time": "2022-06-26T18:47:12.679Z"
   },
   {
    "duration": 35,
    "start_time": "2022-06-26T18:47:13.019Z"
   },
   {
    "duration": 5,
    "start_time": "2022-06-26T18:47:46.219Z"
   },
   {
    "duration": 50,
    "start_time": "2022-06-26T18:47:46.879Z"
   },
   {
    "duration": 6,
    "start_time": "2022-06-26T18:47:57.399Z"
   },
   {
    "duration": 34,
    "start_time": "2022-06-26T18:47:57.869Z"
   },
   {
    "duration": 4,
    "start_time": "2022-06-26T18:48:04.899Z"
   },
   {
    "duration": 29,
    "start_time": "2022-06-26T18:48:05.419Z"
   },
   {
    "duration": 10,
    "start_time": "2022-06-26T18:48:17.839Z"
   },
   {
    "duration": 4,
    "start_time": "2022-06-26T18:48:59.559Z"
   },
   {
    "duration": 34,
    "start_time": "2022-06-26T18:49:00.100Z"
   },
   {
    "duration": 12,
    "start_time": "2022-06-26T18:49:01.709Z"
   },
   {
    "duration": 5,
    "start_time": "2022-06-26T18:49:24.236Z"
   },
   {
    "duration": 14,
    "start_time": "2022-06-26T18:49:24.659Z"
   },
   {
    "duration": 5,
    "start_time": "2022-06-26T18:49:39.269Z"
   },
   {
    "duration": 35,
    "start_time": "2022-06-26T18:49:39.779Z"
   },
   {
    "duration": 13,
    "start_time": "2022-06-26T18:49:40.863Z"
   },
   {
    "duration": 5,
    "start_time": "2022-06-26T18:51:06.970Z"
   },
   {
    "duration": 52,
    "start_time": "2022-06-26T18:51:07.469Z"
   },
   {
    "duration": 13,
    "start_time": "2022-06-26T18:51:15.189Z"
   },
   {
    "duration": 17,
    "start_time": "2022-06-26T18:51:31.630Z"
   },
   {
    "duration": 12,
    "start_time": "2022-06-26T18:51:33.259Z"
   },
   {
    "duration": 19,
    "start_time": "2022-06-26T18:51:41.089Z"
   },
   {
    "duration": 16,
    "start_time": "2022-06-26T18:52:29.759Z"
   },
   {
    "duration": 21,
    "start_time": "2022-06-26T18:52:39.779Z"
   },
   {
    "duration": 19,
    "start_time": "2022-06-26T18:53:30.920Z"
   },
   {
    "duration": 42,
    "start_time": "2022-06-26T18:53:31.419Z"
   },
   {
    "duration": 22,
    "start_time": "2022-06-26T18:53:59.740Z"
   },
   {
    "duration": 4,
    "start_time": "2022-06-26T18:54:38.985Z"
   },
   {
    "duration": 55,
    "start_time": "2022-06-26T18:54:39.430Z"
   },
   {
    "duration": 19,
    "start_time": "2022-06-26T18:54:39.790Z"
   },
   {
    "duration": 74,
    "start_time": "2022-06-26T18:54:48.510Z"
   },
   {
    "duration": 23,
    "start_time": "2022-06-26T18:54:48.807Z"
   },
   {
    "duration": 23,
    "start_time": "2022-06-26T18:54:49.712Z"
   },
   {
    "duration": 10,
    "start_time": "2022-06-26T18:54:51.120Z"
   },
   {
    "duration": 21,
    "start_time": "2022-06-26T18:55:21.685Z"
   },
   {
    "duration": 4,
    "start_time": "2022-06-26T18:55:38.185Z"
   },
   {
    "duration": 47,
    "start_time": "2022-06-26T18:55:39.258Z"
   },
   {
    "duration": 18,
    "start_time": "2022-06-26T18:55:39.920Z"
   },
   {
    "duration": 19,
    "start_time": "2022-06-26T18:55:40.830Z"
   },
   {
    "duration": 12,
    "start_time": "2022-06-26T18:56:04.019Z"
   },
   {
    "duration": 5,
    "start_time": "2022-06-26T18:56:05.386Z"
   },
   {
    "duration": 9,
    "start_time": "2022-06-26T19:03:45.661Z"
   },
   {
    "duration": 6,
    "start_time": "2022-06-26T19:03:46.320Z"
   },
   {
    "duration": 6,
    "start_time": "2022-06-26T19:03:46.713Z"
   },
   {
    "duration": 19,
    "start_time": "2022-06-26T19:03:47.173Z"
   },
   {
    "duration": 16,
    "start_time": "2022-06-26T19:03:51.701Z"
   },
   {
    "duration": 15,
    "start_time": "2022-06-26T19:10:58.870Z"
   },
   {
    "duration": 7,
    "start_time": "2022-06-26T19:11:18.661Z"
   },
   {
    "duration": 28,
    "start_time": "2022-06-26T19:11:27.270Z"
   },
   {
    "duration": 36,
    "start_time": "2022-06-26T19:12:04.820Z"
   },
   {
    "duration": 9,
    "start_time": "2022-06-26T19:12:05.920Z"
   },
   {
    "duration": 4,
    "start_time": "2022-06-26T19:12:06.360Z"
   },
   {
    "duration": 6,
    "start_time": "2022-06-26T19:12:06.790Z"
   },
   {
    "duration": 26,
    "start_time": "2022-06-26T19:12:07.270Z"
   },
   {
    "duration": 13,
    "start_time": "2022-06-26T19:12:07.929Z"
   },
   {
    "duration": 3,
    "start_time": "2022-06-26T19:12:13.110Z"
   },
   {
    "duration": 3,
    "start_time": "2022-06-26T19:12:13.457Z"
   },
   {
    "duration": 5,
    "start_time": "2022-06-26T19:12:17.590Z"
   },
   {
    "duration": 146,
    "start_time": "2022-06-26T19:12:19.219Z"
   },
   {
    "duration": 32,
    "start_time": "2022-06-26T19:12:27.690Z"
   },
   {
    "duration": 5,
    "start_time": "2022-06-26T19:12:58.990Z"
   },
   {
    "duration": 17,
    "start_time": "2022-06-26T19:13:00.510Z"
   },
   {
    "duration": 56,
    "start_time": "2022-06-26T19:13:07.242Z"
   },
   {
    "duration": 49,
    "start_time": "2022-06-26T19:14:02.251Z"
   },
   {
    "duration": 9,
    "start_time": "2022-06-26T19:14:03.170Z"
   },
   {
    "duration": 6,
    "start_time": "2022-06-26T19:14:03.884Z"
   },
   {
    "duration": 5,
    "start_time": "2022-06-26T19:14:04.118Z"
   },
   {
    "duration": 18,
    "start_time": "2022-06-26T19:14:04.584Z"
   },
   {
    "duration": 26,
    "start_time": "2022-06-26T19:14:07.233Z"
   },
   {
    "duration": 6,
    "start_time": "2022-06-26T19:14:16.130Z"
   },
   {
    "duration": 30,
    "start_time": "2022-06-26T19:14:16.467Z"
   },
   {
    "duration": 6,
    "start_time": "2022-06-26T19:14:44.010Z"
   },
   {
    "duration": 33,
    "start_time": "2022-06-26T19:14:44.830Z"
   },
   {
    "duration": 5,
    "start_time": "2022-06-26T19:15:44.591Z"
   },
   {
    "duration": 217,
    "start_time": "2022-06-26T19:15:44.883Z"
   },
   {
    "duration": 5,
    "start_time": "2022-06-26T19:15:45.340Z"
   },
   {
    "duration": 27,
    "start_time": "2022-06-26T19:15:45.910Z"
   },
   {
    "duration": 31,
    "start_time": "2022-06-26T19:16:15.210Z"
   },
   {
    "duration": 9,
    "start_time": "2022-06-26T19:16:16.040Z"
   },
   {
    "duration": 6,
    "start_time": "2022-06-26T19:16:16.391Z"
   },
   {
    "duration": 5,
    "start_time": "2022-06-26T19:16:16.821Z"
   },
   {
    "duration": 23,
    "start_time": "2022-06-26T19:16:17.370Z"
   },
   {
    "duration": 17,
    "start_time": "2022-06-26T19:16:17.980Z"
   },
   {
    "duration": 13,
    "start_time": "2022-06-26T19:16:19.531Z"
   },
   {
    "duration": 1630,
    "start_time": "2022-06-26T19:16:50.540Z"
   },
   {
    "duration": 32,
    "start_time": "2022-06-26T19:17:05.160Z"
   },
   {
    "duration": 13,
    "start_time": "2022-06-26T19:17:15.910Z"
   },
   {
    "duration": 4,
    "start_time": "2022-06-26T19:17:16.380Z"
   },
   {
    "duration": 5,
    "start_time": "2022-06-26T19:17:16.870Z"
   },
   {
    "duration": 21,
    "start_time": "2022-06-26T19:17:17.457Z"
   },
   {
    "duration": 12,
    "start_time": "2022-06-26T19:17:18.214Z"
   },
   {
    "duration": 1729,
    "start_time": "2022-06-26T19:17:20.370Z"
   },
   {
    "duration": 1480,
    "start_time": "2022-06-26T19:17:28.910Z"
   },
   {
    "duration": 1792,
    "start_time": "2022-06-26T19:18:08.810Z"
   },
   {
    "duration": 1564,
    "start_time": "2022-06-26T19:18:16.830Z"
   },
   {
    "duration": 11,
    "start_time": "2022-06-26T19:18:26.430Z"
   },
   {
    "duration": 176,
    "start_time": "2022-06-26T19:18:26.720Z"
   },
   {
    "duration": 4,
    "start_time": "2022-06-26T19:18:27.730Z"
   },
   {
    "duration": 18,
    "start_time": "2022-06-26T19:18:28.490Z"
   },
   {
    "duration": 11,
    "start_time": "2022-06-26T19:18:31.440Z"
   },
   {
    "duration": 4,
    "start_time": "2022-06-26T19:18:34.514Z"
   },
   {
    "duration": 3,
    "start_time": "2022-06-26T19:18:35.120Z"
   },
   {
    "duration": 5,
    "start_time": "2022-06-26T19:18:35.709Z"
   },
   {
    "duration": 5,
    "start_time": "2022-06-26T19:18:36.283Z"
   },
   {
    "duration": 3,
    "start_time": "2022-06-26T19:18:37.283Z"
   },
   {
    "duration": 32,
    "start_time": "2022-06-26T19:18:37.984Z"
   },
   {
    "duration": 8,
    "start_time": "2022-06-26T19:18:38.558Z"
   },
   {
    "duration": 13,
    "start_time": "2022-06-26T19:18:39.011Z"
   },
   {
    "duration": 26,
    "start_time": "2022-06-26T19:18:39.710Z"
   },
   {
    "duration": 20,
    "start_time": "2022-06-26T19:18:40.390Z"
   },
   {
    "duration": 15,
    "start_time": "2022-06-26T19:21:47.210Z"
   },
   {
    "duration": 15,
    "start_time": "2022-06-26T19:22:36.990Z"
   },
   {
    "duration": 42,
    "start_time": "2022-06-26T19:23:10.870Z"
   },
   {
    "duration": 37,
    "start_time": "2022-06-26T19:23:33.962Z"
   },
   {
    "duration": 27,
    "start_time": "2022-06-26T19:23:42.284Z"
   },
   {
    "duration": 44,
    "start_time": "2022-06-26T19:23:46.759Z"
   },
   {
    "duration": 35,
    "start_time": "2022-06-26T19:25:41.000Z"
   },
   {
    "duration": 20,
    "start_time": "2022-06-26T19:27:55.221Z"
   },
   {
    "duration": 20,
    "start_time": "2022-06-26T19:28:18.094Z"
   },
   {
    "duration": 1320,
    "start_time": "2022-06-26T19:28:50.751Z"
   },
   {
    "duration": 1124,
    "start_time": "2022-06-26T19:28:52.074Z"
   },
   {
    "duration": 4,
    "start_time": "2022-06-26T19:28:53.200Z"
   },
   {
    "duration": 1277,
    "start_time": "2022-06-26T19:28:53.206Z"
   },
   {
    "duration": 11,
    "start_time": "2022-06-26T19:28:54.486Z"
   },
   {
    "duration": 16,
    "start_time": "2022-06-26T19:28:54.500Z"
   },
   {
    "duration": 32,
    "start_time": "2022-06-26T19:28:54.519Z"
   },
   {
    "duration": 31,
    "start_time": "2022-06-26T19:28:54.553Z"
   },
   {
    "duration": 18,
    "start_time": "2022-06-26T19:28:54.587Z"
   },
   {
    "duration": 82,
    "start_time": "2022-06-26T19:28:54.609Z"
   },
   {
    "duration": 6,
    "start_time": "2022-06-26T19:28:54.693Z"
   },
   {
    "duration": 112,
    "start_time": "2022-06-26T19:28:54.701Z"
   },
   {
    "duration": 11,
    "start_time": "2022-06-26T19:28:54.815Z"
   },
   {
    "duration": 52,
    "start_time": "2022-06-26T19:28:54.828Z"
   },
   {
    "duration": 6,
    "start_time": "2022-06-26T19:28:54.882Z"
   },
   {
    "duration": 87,
    "start_time": "2022-06-26T19:28:54.890Z"
   },
   {
    "duration": 16,
    "start_time": "2022-06-26T19:28:54.979Z"
   },
   {
    "duration": 65,
    "start_time": "2022-06-26T19:28:54.997Z"
   },
   {
    "duration": 5,
    "start_time": "2022-06-26T19:28:55.064Z"
   },
   {
    "duration": 11,
    "start_time": "2022-06-26T19:28:55.071Z"
   },
   {
    "duration": 92,
    "start_time": "2022-06-26T19:28:55.084Z"
   },
   {
    "duration": 15,
    "start_time": "2022-06-26T19:28:55.179Z"
   },
   {
    "duration": 7,
    "start_time": "2022-06-26T19:28:55.196Z"
   },
   {
    "duration": 47,
    "start_time": "2022-06-26T19:28:55.205Z"
   },
   {
    "duration": 1639,
    "start_time": "2022-06-26T19:28:55.262Z"
   },
   {
    "duration": 408,
    "start_time": "2022-06-26T19:28:56.903Z"
   },
   {
    "duration": 1269,
    "start_time": "2022-06-26T19:28:57.312Z"
   },
   {
    "duration": 320,
    "start_time": "2022-06-26T19:28:58.585Z"
   },
   {
    "duration": 5,
    "start_time": "2022-06-26T19:28:58.907Z"
   },
   {
    "duration": 11,
    "start_time": "2022-06-26T19:28:58.914Z"
   },
   {
    "duration": 74,
    "start_time": "2022-06-26T19:28:58.928Z"
   },
   {
    "duration": 45,
    "start_time": "2022-06-26T19:28:59.004Z"
   },
   {
    "duration": 13,
    "start_time": "2022-06-26T19:28:59.051Z"
   },
   {
    "duration": 11,
    "start_time": "2022-06-26T19:28:59.066Z"
   },
   {
    "duration": 7,
    "start_time": "2022-06-26T19:28:59.079Z"
   },
   {
    "duration": 19,
    "start_time": "2022-06-26T19:28:59.088Z"
   },
   {
    "duration": 42,
    "start_time": "2022-06-26T19:28:59.110Z"
   },
   {
    "duration": 15,
    "start_time": "2022-06-26T19:28:59.154Z"
   },
   {
    "duration": 134,
    "start_time": "2022-06-26T19:28:59.171Z"
   },
   {
    "duration": 4,
    "start_time": "2022-06-26T19:28:59.308Z"
   },
   {
    "duration": 35,
    "start_time": "2022-06-26T19:28:59.314Z"
   },
   {
    "duration": 22,
    "start_time": "2022-06-26T19:28:59.351Z"
   },
   {
    "duration": 10,
    "start_time": "2022-06-26T19:28:59.376Z"
   },
   {
    "duration": 8,
    "start_time": "2022-06-26T19:28:59.388Z"
   },
   {
    "duration": 6,
    "start_time": "2022-06-26T19:28:59.399Z"
   },
   {
    "duration": 10,
    "start_time": "2022-06-26T19:28:59.407Z"
   },
   {
    "duration": 45,
    "start_time": "2022-06-26T19:28:59.418Z"
   },
   {
    "duration": 16,
    "start_time": "2022-06-26T19:28:59.465Z"
   },
   {
    "duration": 158,
    "start_time": "2022-06-26T19:28:59.483Z"
   },
   {
    "duration": 0,
    "start_time": "2022-06-26T19:28:59.643Z"
   },
   {
    "duration": 0,
    "start_time": "2022-06-26T19:28:59.644Z"
   },
   {
    "duration": 0,
    "start_time": "2022-06-26T19:28:59.647Z"
   },
   {
    "duration": 0,
    "start_time": "2022-06-26T19:28:59.648Z"
   },
   {
    "duration": 0,
    "start_time": "2022-06-26T19:28:59.650Z"
   },
   {
    "duration": 0,
    "start_time": "2022-06-26T19:28:59.651Z"
   },
   {
    "duration": 0,
    "start_time": "2022-06-26T19:28:59.652Z"
   },
   {
    "duration": 1,
    "start_time": "2022-06-26T19:28:59.652Z"
   },
   {
    "duration": 0,
    "start_time": "2022-06-26T19:28:59.653Z"
   },
   {
    "duration": 0,
    "start_time": "2022-06-26T19:28:59.655Z"
   },
   {
    "duration": 0,
    "start_time": "2022-06-26T19:28:59.656Z"
   },
   {
    "duration": 0,
    "start_time": "2022-06-26T19:28:59.657Z"
   },
   {
    "duration": 0,
    "start_time": "2022-06-26T19:28:59.658Z"
   },
   {
    "duration": 3,
    "start_time": "2022-06-26T19:29:59.707Z"
   },
   {
    "duration": 1410,
    "start_time": "2022-06-26T19:30:05.621Z"
   },
   {
    "duration": 1166,
    "start_time": "2022-06-26T19:30:07.035Z"
   },
   {
    "duration": 3,
    "start_time": "2022-06-26T19:30:08.203Z"
   },
   {
    "duration": 1643,
    "start_time": "2022-06-26T19:30:08.209Z"
   },
   {
    "duration": 9,
    "start_time": "2022-06-26T19:30:09.861Z"
   },
   {
    "duration": 13,
    "start_time": "2022-06-26T19:30:09.872Z"
   },
   {
    "duration": 11,
    "start_time": "2022-06-26T19:30:09.887Z"
   },
   {
    "duration": 15,
    "start_time": "2022-06-26T19:30:09.901Z"
   },
   {
    "duration": 33,
    "start_time": "2022-06-26T19:30:09.919Z"
   },
   {
    "duration": 71,
    "start_time": "2022-06-26T19:30:09.954Z"
   },
   {
    "duration": 6,
    "start_time": "2022-06-26T19:30:10.027Z"
   },
   {
    "duration": 146,
    "start_time": "2022-06-26T19:30:10.035Z"
   },
   {
    "duration": 16,
    "start_time": "2022-06-26T19:30:10.183Z"
   },
   {
    "duration": 61,
    "start_time": "2022-06-26T19:30:10.204Z"
   },
   {
    "duration": 6,
    "start_time": "2022-06-26T19:30:10.267Z"
   },
   {
    "duration": 66,
    "start_time": "2022-06-26T19:30:10.275Z"
   },
   {
    "duration": 18,
    "start_time": "2022-06-26T19:30:10.344Z"
   },
   {
    "duration": 46,
    "start_time": "2022-06-26T19:30:10.364Z"
   },
   {
    "duration": 6,
    "start_time": "2022-06-26T19:30:10.412Z"
   },
   {
    "duration": 22,
    "start_time": "2022-06-26T19:30:10.420Z"
   },
   {
    "duration": 111,
    "start_time": "2022-06-26T19:30:10.445Z"
   },
   {
    "duration": 11,
    "start_time": "2022-06-26T19:30:10.558Z"
   },
   {
    "duration": 7,
    "start_time": "2022-06-26T19:30:10.571Z"
   },
   {
    "duration": 15,
    "start_time": "2022-06-26T19:30:10.579Z"
   },
   {
    "duration": 1472,
    "start_time": "2022-06-26T19:30:10.596Z"
   },
   {
    "duration": 330,
    "start_time": "2022-06-26T19:30:12.070Z"
   },
   {
    "duration": 1282,
    "start_time": "2022-06-26T19:30:12.402Z"
   },
   {
    "duration": 345,
    "start_time": "2022-06-26T19:30:13.687Z"
   },
   {
    "duration": 10,
    "start_time": "2022-06-26T19:30:14.034Z"
   },
   {
    "duration": 31,
    "start_time": "2022-06-26T19:30:14.046Z"
   },
   {
    "duration": 73,
    "start_time": "2022-06-26T19:30:14.079Z"
   },
   {
    "duration": 47,
    "start_time": "2022-06-26T19:30:14.155Z"
   },
   {
    "duration": 10,
    "start_time": "2022-06-26T19:30:14.204Z"
   },
   {
    "duration": 5,
    "start_time": "2022-06-26T19:30:14.216Z"
   },
   {
    "duration": 23,
    "start_time": "2022-06-26T19:30:14.223Z"
   },
   {
    "duration": 35,
    "start_time": "2022-06-26T19:30:14.248Z"
   },
   {
    "duration": 14,
    "start_time": "2022-06-26T19:30:14.285Z"
   },
   {
    "duration": 8,
    "start_time": "2022-06-26T19:30:14.301Z"
   },
   {
    "duration": 162,
    "start_time": "2022-06-26T19:30:14.310Z"
   },
   {
    "duration": 6,
    "start_time": "2022-06-26T19:30:14.474Z"
   },
   {
    "duration": 28,
    "start_time": "2022-06-26T19:30:14.486Z"
   },
   {
    "duration": 5,
    "start_time": "2022-06-26T19:30:14.516Z"
   },
   {
    "duration": 24,
    "start_time": "2022-06-26T19:30:14.523Z"
   },
   {
    "duration": 21,
    "start_time": "2022-06-26T19:30:14.550Z"
   },
   {
    "duration": 7,
    "start_time": "2022-06-26T19:30:14.573Z"
   },
   {
    "duration": 10,
    "start_time": "2022-06-26T19:30:14.582Z"
   },
   {
    "duration": 49,
    "start_time": "2022-06-26T19:30:14.594Z"
   },
   {
    "duration": 20,
    "start_time": "2022-06-26T19:30:14.645Z"
   },
   {
    "duration": 16,
    "start_time": "2022-06-26T19:30:14.668Z"
   },
   {
    "duration": 81,
    "start_time": "2022-06-26T19:30:14.686Z"
   },
   {
    "duration": 1301,
    "start_time": "2022-06-26T19:30:14.769Z"
   },
   {
    "duration": 393,
    "start_time": "2022-06-26T19:30:16.072Z"
   },
   {
    "duration": 10,
    "start_time": "2022-06-26T19:30:16.467Z"
   },
   {
    "duration": 9,
    "start_time": "2022-06-26T19:30:16.479Z"
   },
   {
    "duration": 13,
    "start_time": "2022-06-26T19:30:16.491Z"
   },
   {
    "duration": 14,
    "start_time": "2022-06-26T19:30:16.507Z"
   },
   {
    "duration": 33,
    "start_time": "2022-06-26T19:30:16.523Z"
   },
   {
    "duration": 18,
    "start_time": "2022-06-26T19:30:16.562Z"
   },
   {
    "duration": 10,
    "start_time": "2022-06-26T19:30:16.582Z"
   },
   {
    "duration": 4,
    "start_time": "2022-06-26T19:30:16.594Z"
   },
   {
    "duration": 18,
    "start_time": "2022-06-26T19:30:16.600Z"
   },
   {
    "duration": 9,
    "start_time": "2022-06-26T19:30:16.620Z"
   },
   {
    "duration": 40,
    "start_time": "2022-06-26T19:31:07.783Z"
   },
   {
    "duration": 19,
    "start_time": "2022-06-26T19:32:27.610Z"
   },
   {
    "duration": 17,
    "start_time": "2022-06-26T19:33:05.919Z"
   },
   {
    "duration": 1343,
    "start_time": "2022-06-26T20:00:25.715Z"
   },
   {
    "duration": 796,
    "start_time": "2022-06-26T20:00:27.060Z"
   },
   {
    "duration": 6,
    "start_time": "2022-06-26T20:00:27.861Z"
   },
   {
    "duration": 1030,
    "start_time": "2022-06-26T20:00:28.025Z"
   },
   {
    "duration": 8,
    "start_time": "2022-06-26T20:00:32.205Z"
   },
   {
    "duration": 5,
    "start_time": "2022-06-26T20:00:32.525Z"
   },
   {
    "duration": 6,
    "start_time": "2022-06-26T20:00:33.025Z"
   },
   {
    "duration": 15,
    "start_time": "2022-06-26T20:00:33.744Z"
   },
   {
    "duration": 16,
    "start_time": "2022-06-26T20:00:34.555Z"
   },
   {
    "duration": 54,
    "start_time": "2022-06-26T20:00:35.705Z"
   },
   {
    "duration": 4,
    "start_time": "2022-06-26T20:00:36.115Z"
   },
   {
    "duration": 82,
    "start_time": "2022-06-26T20:00:36.505Z"
   },
   {
    "duration": 13,
    "start_time": "2022-06-26T20:00:36.904Z"
   },
   {
    "duration": 33,
    "start_time": "2022-06-26T20:00:37.885Z"
   },
   {
    "duration": 3,
    "start_time": "2022-06-26T20:00:38.195Z"
   },
   {
    "duration": 51,
    "start_time": "2022-06-26T20:00:38.545Z"
   },
   {
    "duration": 9,
    "start_time": "2022-06-26T20:00:38.985Z"
   },
   {
    "duration": 36,
    "start_time": "2022-06-26T20:00:39.804Z"
   },
   {
    "duration": 3,
    "start_time": "2022-06-26T20:00:40.275Z"
   },
   {
    "duration": 5,
    "start_time": "2022-06-26T20:00:40.625Z"
   },
   {
    "duration": 60,
    "start_time": "2022-06-26T20:00:40.955Z"
   },
   {
    "duration": 10,
    "start_time": "2022-06-26T20:00:41.474Z"
   },
   {
    "duration": 6,
    "start_time": "2022-06-26T20:00:43.335Z"
   },
   {
    "duration": 11,
    "start_time": "2022-06-26T20:00:43.375Z"
   },
   {
    "duration": 1528,
    "start_time": "2022-06-26T20:00:44.305Z"
   },
   {
    "duration": 379,
    "start_time": "2022-06-26T20:00:45.835Z"
   },
   {
    "duration": 1128,
    "start_time": "2022-06-26T20:00:46.216Z"
   },
   {
    "duration": 422,
    "start_time": "2022-06-26T20:00:47.347Z"
   },
   {
    "duration": 7,
    "start_time": "2022-06-26T20:00:47.771Z"
   },
   {
    "duration": 5,
    "start_time": "2022-06-26T20:00:48.574Z"
   },
   {
    "duration": 51,
    "start_time": "2022-06-26T20:00:59.825Z"
   },
   {
    "duration": 35,
    "start_time": "2022-06-26T20:01:00.865Z"
   },
   {
    "duration": 11,
    "start_time": "2022-06-26T20:01:02.805Z"
   },
   {
    "duration": 4,
    "start_time": "2022-06-26T20:01:03.675Z"
   },
   {
    "duration": 5,
    "start_time": "2022-06-26T20:01:04.335Z"
   },
   {
    "duration": 18,
    "start_time": "2022-06-26T20:01:05.505Z"
   },
   {
    "duration": 15,
    "start_time": "2022-06-26T20:01:06.365Z"
   },
   {
    "duration": 5,
    "start_time": "2022-06-26T20:01:08.249Z"
   },
   {
    "duration": 106,
    "start_time": "2022-06-26T20:01:08.685Z"
   },
   {
    "duration": 4,
    "start_time": "2022-06-26T20:01:12.275Z"
   },
   {
    "duration": 17,
    "start_time": "2022-06-26T20:01:12.904Z"
   },
   {
    "duration": 5,
    "start_time": "2022-06-26T20:01:18.035Z"
   },
   {
    "duration": 6,
    "start_time": "2022-06-26T20:02:13.185Z"
   },
   {
    "duration": 18,
    "start_time": "2022-06-26T20:02:13.194Z"
   },
   {
    "duration": 93,
    "start_time": "2022-06-26T20:02:13.245Z"
   },
   {
    "duration": 7,
    "start_time": "2022-06-26T20:02:26.805Z"
   },
   {
    "duration": 3,
    "start_time": "2022-06-26T20:02:27.165Z"
   },
   {
    "duration": 1332,
    "start_time": "2022-06-26T20:03:01.246Z"
   },
   {
    "duration": 850,
    "start_time": "2022-06-26T20:03:02.582Z"
   },
   {
    "duration": 4,
    "start_time": "2022-06-26T20:03:03.433Z"
   },
   {
    "duration": 1165,
    "start_time": "2022-06-26T20:03:03.440Z"
   },
   {
    "duration": 8,
    "start_time": "2022-06-26T20:03:04.607Z"
   },
   {
    "duration": 37,
    "start_time": "2022-06-26T20:03:04.617Z"
   },
   {
    "duration": 6,
    "start_time": "2022-06-26T20:03:04.826Z"
   },
   {
    "duration": 16,
    "start_time": "2022-06-26T20:03:05.216Z"
   },
   {
    "duration": 16,
    "start_time": "2022-06-26T20:03:05.676Z"
   },
   {
    "duration": 71,
    "start_time": "2022-06-26T20:03:06.606Z"
   },
   {
    "duration": 5,
    "start_time": "2022-06-26T20:03:06.995Z"
   },
   {
    "duration": 129,
    "start_time": "2022-06-26T20:03:07.416Z"
   },
   {
    "duration": 15,
    "start_time": "2022-06-26T20:03:07.816Z"
   },
   {
    "duration": 31,
    "start_time": "2022-06-26T20:03:08.665Z"
   },
   {
    "duration": 5,
    "start_time": "2022-06-26T20:03:09.085Z"
   },
   {
    "duration": 80,
    "start_time": "2022-06-26T20:03:09.525Z"
   },
   {
    "duration": 13,
    "start_time": "2022-06-26T20:03:09.985Z"
   },
   {
    "duration": 52,
    "start_time": "2022-06-26T20:03:10.896Z"
   },
   {
    "duration": 5,
    "start_time": "2022-06-26T20:03:11.366Z"
   },
   {
    "duration": 7,
    "start_time": "2022-06-26T20:03:11.806Z"
   },
   {
    "duration": 92,
    "start_time": "2022-06-26T20:03:12.265Z"
   },
   {
    "duration": 12,
    "start_time": "2022-06-26T20:03:12.685Z"
   },
   {
    "duration": 9,
    "start_time": "2022-06-26T20:03:13.856Z"
   },
   {
    "duration": 16,
    "start_time": "2022-06-26T20:03:14.246Z"
   },
   {
    "duration": 1368,
    "start_time": "2022-06-26T20:03:15.675Z"
   },
   {
    "duration": 326,
    "start_time": "2022-06-26T20:03:17.046Z"
   },
   {
    "duration": 1102,
    "start_time": "2022-06-26T20:03:17.374Z"
   },
   {
    "duration": 280,
    "start_time": "2022-06-26T20:03:18.478Z"
   },
   {
    "duration": 4,
    "start_time": "2022-06-26T20:03:18.760Z"
   },
   {
    "duration": 6,
    "start_time": "2022-06-26T20:03:20.045Z"
   },
   {
    "duration": 46,
    "start_time": "2022-06-26T20:03:20.695Z"
   },
   {
    "duration": 31,
    "start_time": "2022-06-26T20:03:21.266Z"
   },
   {
    "duration": 10,
    "start_time": "2022-06-26T20:03:22.825Z"
   },
   {
    "duration": 6,
    "start_time": "2022-06-26T20:03:23.296Z"
   },
   {
    "duration": 5,
    "start_time": "2022-06-26T20:03:23.776Z"
   },
   {
    "duration": 21,
    "start_time": "2022-06-26T20:03:24.286Z"
   },
   {
    "duration": 18,
    "start_time": "2022-06-26T20:03:24.866Z"
   },
   {
    "duration": 5,
    "start_time": "2022-06-26T20:03:26.396Z"
   },
   {
    "duration": 107,
    "start_time": "2022-06-26T20:03:26.846Z"
   },
   {
    "duration": 5,
    "start_time": "2022-06-26T20:03:27.645Z"
   },
   {
    "duration": 16,
    "start_time": "2022-06-26T20:03:28.255Z"
   },
   {
    "duration": 7,
    "start_time": "2022-06-26T20:03:30.927Z"
   },
   {
    "duration": 4,
    "start_time": "2022-06-26T20:03:31.466Z"
   },
   {
    "duration": 30,
    "start_time": "2022-06-26T20:03:31.955Z"
   },
   {
    "duration": 7,
    "start_time": "2022-06-26T20:04:11.116Z"
   },
   {
    "duration": 21,
    "start_time": "2022-06-26T20:04:11.561Z"
   },
   {
    "duration": 46,
    "start_time": "2022-06-26T20:04:12.336Z"
   },
   {
    "duration": 24,
    "start_time": "2022-06-26T20:05:09.158Z"
   },
   {
    "duration": 3,
    "start_time": "2022-06-26T20:05:33.090Z"
   },
   {
    "duration": 23,
    "start_time": "2022-06-26T20:05:33.656Z"
   },
   {
    "duration": 55,
    "start_time": "2022-06-26T20:05:35.209Z"
   },
   {
    "duration": 24,
    "start_time": "2022-06-26T20:05:39.496Z"
   },
   {
    "duration": 189,
    "start_time": "2022-06-26T20:05:41.976Z"
   },
   {
    "duration": 1647,
    "start_time": "2022-06-26T20:05:54.926Z"
   },
   {
    "duration": 938,
    "start_time": "2022-06-26T20:05:56.578Z"
   },
   {
    "duration": 4,
    "start_time": "2022-06-26T20:05:57.519Z"
   },
   {
    "duration": 1599,
    "start_time": "2022-06-26T20:05:57.526Z"
   },
   {
    "duration": 35,
    "start_time": "2022-06-26T20:05:59.128Z"
   },
   {
    "duration": 11,
    "start_time": "2022-06-26T20:05:59.167Z"
   },
   {
    "duration": 17,
    "start_time": "2022-06-26T20:05:59.182Z"
   },
   {
    "duration": 27,
    "start_time": "2022-06-26T20:05:59.204Z"
   },
   {
    "duration": 37,
    "start_time": "2022-06-26T20:05:59.233Z"
   },
   {
    "duration": 101,
    "start_time": "2022-06-26T20:05:59.277Z"
   },
   {
    "duration": 10,
    "start_time": "2022-06-26T20:05:59.381Z"
   },
   {
    "duration": 158,
    "start_time": "2022-06-26T20:05:59.394Z"
   },
   {
    "duration": 14,
    "start_time": "2022-06-26T20:05:59.555Z"
   },
   {
    "duration": 58,
    "start_time": "2022-06-26T20:05:59.572Z"
   },
   {
    "duration": 21,
    "start_time": "2022-06-26T20:05:59.633Z"
   },
   {
    "duration": 87,
    "start_time": "2022-06-26T20:05:59.656Z"
   },
   {
    "duration": 14,
    "start_time": "2022-06-26T20:05:59.755Z"
   },
   {
    "duration": 71,
    "start_time": "2022-06-26T20:05:59.772Z"
   },
   {
    "duration": 7,
    "start_time": "2022-06-26T20:05:59.846Z"
   },
   {
    "duration": 27,
    "start_time": "2022-06-26T20:05:59.856Z"
   },
   {
    "duration": 117,
    "start_time": "2022-06-26T20:05:59.886Z"
   },
   {
    "duration": 15,
    "start_time": "2022-06-26T20:06:00.005Z"
   },
   {
    "duration": 23,
    "start_time": "2022-06-26T20:06:00.022Z"
   },
   {
    "duration": 59,
    "start_time": "2022-06-26T20:06:00.047Z"
   },
   {
    "duration": 1644,
    "start_time": "2022-06-26T20:06:00.108Z"
   },
   {
    "duration": 485,
    "start_time": "2022-06-26T20:06:01.754Z"
   },
   {
    "duration": 1702,
    "start_time": "2022-06-26T20:06:02.242Z"
   },
   {
    "duration": 536,
    "start_time": "2022-06-26T20:06:03.952Z"
   },
   {
    "duration": 6,
    "start_time": "2022-06-26T20:06:04.490Z"
   },
   {
    "duration": 8,
    "start_time": "2022-06-26T20:06:04.499Z"
   },
   {
    "duration": 87,
    "start_time": "2022-06-26T20:06:04.510Z"
   },
   {
    "duration": 72,
    "start_time": "2022-06-26T20:06:04.600Z"
   },
   {
    "duration": 24,
    "start_time": "2022-06-26T20:06:04.674Z"
   },
   {
    "duration": 55,
    "start_time": "2022-06-26T20:06:04.701Z"
   },
   {
    "duration": 19,
    "start_time": "2022-06-26T20:06:04.759Z"
   },
   {
    "duration": 75,
    "start_time": "2022-06-26T20:06:04.781Z"
   },
   {
    "duration": 16,
    "start_time": "2022-06-26T20:06:04.859Z"
   },
   {
    "duration": 13,
    "start_time": "2022-06-26T20:06:04.878Z"
   },
   {
    "duration": 374,
    "start_time": "2022-06-26T20:06:04.893Z"
   },
   {
    "duration": 5,
    "start_time": "2022-06-26T20:06:05.269Z"
   },
   {
    "duration": 34,
    "start_time": "2022-06-26T20:06:05.277Z"
   },
   {
    "duration": 17,
    "start_time": "2022-06-26T20:06:05.313Z"
   },
   {
    "duration": 91,
    "start_time": "2022-06-26T20:06:05.340Z"
   },
   {
    "duration": 32,
    "start_time": "2022-06-26T20:06:05.434Z"
   },
   {
    "duration": 60,
    "start_time": "2022-06-26T20:06:05.469Z"
   },
   {
    "duration": 47,
    "start_time": "2022-06-26T20:06:05.532Z"
   },
   {
    "duration": 40,
    "start_time": "2022-06-26T20:06:05.581Z"
   },
   {
    "duration": 93,
    "start_time": "2022-06-26T20:06:05.624Z"
   },
   {
    "duration": 75,
    "start_time": "2022-06-26T20:06:05.720Z"
   },
   {
    "duration": 28,
    "start_time": "2022-06-26T20:06:05.799Z"
   },
   {
    "duration": 41,
    "start_time": "2022-06-26T20:06:05.830Z"
   },
   {
    "duration": 66,
    "start_time": "2022-06-26T20:06:05.873Z"
   },
   {
    "duration": 1707,
    "start_time": "2022-06-26T20:06:05.942Z"
   },
   {
    "duration": 566,
    "start_time": "2022-06-26T20:06:07.651Z"
   },
   {
    "duration": 19,
    "start_time": "2022-06-26T20:06:08.220Z"
   },
   {
    "duration": 18,
    "start_time": "2022-06-26T20:06:08.242Z"
   },
   {
    "duration": 11,
    "start_time": "2022-06-26T20:06:08.263Z"
   },
   {
    "duration": 15,
    "start_time": "2022-06-26T20:06:08.277Z"
   },
   {
    "duration": 11,
    "start_time": "2022-06-26T20:06:08.296Z"
   },
   {
    "duration": 21,
    "start_time": "2022-06-26T20:06:08.310Z"
   },
   {
    "duration": 23,
    "start_time": "2022-06-26T20:06:08.334Z"
   },
   {
    "duration": 9,
    "start_time": "2022-06-26T20:06:08.360Z"
   },
   {
    "duration": 19,
    "start_time": "2022-06-26T20:06:08.371Z"
   },
   {
    "duration": 8,
    "start_time": "2022-06-26T20:06:08.393Z"
   },
   {
    "duration": 1338,
    "start_time": "2022-06-26T20:07:25.796Z"
   },
   {
    "duration": 832,
    "start_time": "2022-06-26T20:07:27.136Z"
   },
   {
    "duration": 6,
    "start_time": "2022-06-26T20:07:27.970Z"
   },
   {
    "duration": 1383,
    "start_time": "2022-06-26T20:07:27.979Z"
   },
   {
    "duration": 9,
    "start_time": "2022-06-26T20:07:29.364Z"
   },
   {
    "duration": 16,
    "start_time": "2022-06-26T20:07:29.375Z"
   },
   {
    "duration": 15,
    "start_time": "2022-06-26T20:07:29.392Z"
   },
   {
    "duration": 14,
    "start_time": "2022-06-26T20:07:29.410Z"
   },
   {
    "duration": 38,
    "start_time": "2022-06-26T20:07:29.426Z"
   },
   {
    "duration": 84,
    "start_time": "2022-06-26T20:07:29.467Z"
   },
   {
    "duration": 10,
    "start_time": "2022-06-26T20:07:29.553Z"
   },
   {
    "duration": 131,
    "start_time": "2022-06-26T20:07:29.565Z"
   },
   {
    "duration": 13,
    "start_time": "2022-06-26T20:07:29.698Z"
   },
   {
    "duration": 55,
    "start_time": "2022-06-26T20:07:29.713Z"
   },
   {
    "duration": 5,
    "start_time": "2022-06-26T20:07:29.770Z"
   },
   {
    "duration": 90,
    "start_time": "2022-06-26T20:07:29.777Z"
   },
   {
    "duration": 13,
    "start_time": "2022-06-26T20:07:29.870Z"
   },
   {
    "duration": 67,
    "start_time": "2022-06-26T20:07:29.885Z"
   },
   {
    "duration": 8,
    "start_time": "2022-06-26T20:07:29.954Z"
   },
   {
    "duration": 17,
    "start_time": "2022-06-26T20:07:29.964Z"
   },
   {
    "duration": 103,
    "start_time": "2022-06-26T20:07:29.983Z"
   },
   {
    "duration": 14,
    "start_time": "2022-06-26T20:07:30.088Z"
   },
   {
    "duration": 9,
    "start_time": "2022-06-26T20:07:30.104Z"
   },
   {
    "duration": 24,
    "start_time": "2022-06-26T20:07:30.115Z"
   },
   {
    "duration": 1459,
    "start_time": "2022-06-26T20:07:30.141Z"
   },
   {
    "duration": 406,
    "start_time": "2022-06-26T20:07:31.602Z"
   },
   {
    "duration": 1507,
    "start_time": "2022-06-26T20:07:32.010Z"
   },
   {
    "duration": 431,
    "start_time": "2022-06-26T20:07:33.523Z"
   },
   {
    "duration": 5,
    "start_time": "2022-06-26T20:07:33.957Z"
   },
   {
    "duration": 11,
    "start_time": "2022-06-26T20:07:33.965Z"
   },
   {
    "duration": 87,
    "start_time": "2022-06-26T20:07:33.979Z"
   },
   {
    "duration": 42,
    "start_time": "2022-06-26T20:07:34.069Z"
   },
   {
    "duration": 11,
    "start_time": "2022-06-26T20:07:34.113Z"
   },
   {
    "duration": 27,
    "start_time": "2022-06-26T20:07:34.128Z"
   },
   {
    "duration": 25,
    "start_time": "2022-06-26T20:07:34.158Z"
   },
   {
    "duration": 59,
    "start_time": "2022-06-26T20:07:34.186Z"
   },
   {
    "duration": 14,
    "start_time": "2022-06-26T20:07:34.248Z"
   },
   {
    "duration": 8,
    "start_time": "2022-06-26T20:07:34.264Z"
   },
   {
    "duration": 193,
    "start_time": "2022-06-26T20:07:34.274Z"
   },
   {
    "duration": 6,
    "start_time": "2022-06-26T20:07:34.469Z"
   },
   {
    "duration": 44,
    "start_time": "2022-06-26T20:07:34.477Z"
   },
   {
    "duration": 7,
    "start_time": "2022-06-26T20:07:34.524Z"
   },
   {
    "duration": 9,
    "start_time": "2022-06-26T20:07:34.534Z"
   },
   {
    "duration": 10,
    "start_time": "2022-06-26T20:07:34.552Z"
   },
   {
    "duration": 12,
    "start_time": "2022-06-26T20:07:34.564Z"
   },
   {
    "duration": 27,
    "start_time": "2022-06-26T20:07:34.579Z"
   },
   {
    "duration": 54,
    "start_time": "2022-06-26T20:07:34.608Z"
   },
   {
    "duration": 23,
    "start_time": "2022-06-26T20:07:34.664Z"
   },
   {
    "duration": 21,
    "start_time": "2022-06-26T20:07:34.690Z"
   },
   {
    "duration": 68,
    "start_time": "2022-06-26T20:07:34.713Z"
   },
   {
    "duration": 1692,
    "start_time": "2022-06-26T20:07:34.783Z"
   },
   {
    "duration": 512,
    "start_time": "2022-06-26T20:07:36.477Z"
   },
   {
    "duration": 12,
    "start_time": "2022-06-26T20:07:36.992Z"
   },
   {
    "duration": 22,
    "start_time": "2022-06-26T20:07:37.006Z"
   },
   {
    "duration": 4,
    "start_time": "2022-06-26T20:07:37.030Z"
   },
   {
    "duration": 7,
    "start_time": "2022-06-26T20:07:37.053Z"
   },
   {
    "duration": 24,
    "start_time": "2022-06-26T20:07:37.062Z"
   },
   {
    "duration": 22,
    "start_time": "2022-06-26T20:07:37.089Z"
   },
   {
    "duration": 29,
    "start_time": "2022-06-26T20:07:37.114Z"
   },
   {
    "duration": 13,
    "start_time": "2022-06-26T20:07:37.147Z"
   },
   {
    "duration": 19,
    "start_time": "2022-06-26T20:07:37.163Z"
   },
   {
    "duration": 11,
    "start_time": "2022-06-26T20:07:37.184Z"
   },
   {
    "duration": 630,
    "start_time": "2022-06-26T20:09:30.466Z"
   },
   {
    "duration": 593,
    "start_time": "2022-06-26T20:09:37.347Z"
   },
   {
    "duration": 527,
    "start_time": "2022-06-26T20:10:30.807Z"
   },
   {
    "duration": 684,
    "start_time": "2022-06-26T20:10:35.516Z"
   },
   {
    "duration": 588,
    "start_time": "2022-06-26T20:10:59.977Z"
   },
   {
    "duration": 583,
    "start_time": "2022-06-26T20:11:12.366Z"
   },
   {
    "duration": 617,
    "start_time": "2022-06-26T20:12:31.486Z"
   },
   {
    "duration": 1061,
    "start_time": "2022-06-26T20:14:47.289Z"
   },
   {
    "duration": 683,
    "start_time": "2022-06-26T20:14:48.352Z"
   },
   {
    "duration": 3,
    "start_time": "2022-06-26T20:14:49.036Z"
   },
   {
    "duration": 1018,
    "start_time": "2022-06-26T20:14:49.040Z"
   },
   {
    "duration": 7,
    "start_time": "2022-06-26T20:14:50.060Z"
   },
   {
    "duration": 11,
    "start_time": "2022-06-26T20:14:50.069Z"
   },
   {
    "duration": 10,
    "start_time": "2022-06-26T20:14:50.082Z"
   },
   {
    "duration": 19,
    "start_time": "2022-06-26T20:14:50.094Z"
   },
   {
    "duration": 15,
    "start_time": "2022-06-26T20:14:50.116Z"
   },
   {
    "duration": 83,
    "start_time": "2022-06-26T20:14:50.133Z"
   },
   {
    "duration": 4,
    "start_time": "2022-06-26T20:14:50.218Z"
   },
   {
    "duration": 132,
    "start_time": "2022-06-26T20:14:50.224Z"
   },
   {
    "duration": 10,
    "start_time": "2022-06-26T20:14:50.358Z"
   },
   {
    "duration": 46,
    "start_time": "2022-06-26T20:14:50.372Z"
   },
   {
    "duration": 5,
    "start_time": "2022-06-26T20:14:50.420Z"
   },
   {
    "duration": 67,
    "start_time": "2022-06-26T20:14:50.427Z"
   },
   {
    "duration": 11,
    "start_time": "2022-06-26T20:14:50.496Z"
   },
   {
    "duration": 61,
    "start_time": "2022-06-26T20:14:50.509Z"
   },
   {
    "duration": 5,
    "start_time": "2022-06-26T20:14:50.572Z"
   },
   {
    "duration": 16,
    "start_time": "2022-06-26T20:14:50.579Z"
   },
   {
    "duration": 65,
    "start_time": "2022-06-26T20:14:50.597Z"
   },
   {
    "duration": 9,
    "start_time": "2022-06-26T20:14:50.664Z"
   },
   {
    "duration": 7,
    "start_time": "2022-06-26T20:14:50.674Z"
   },
   {
    "duration": 15,
    "start_time": "2022-06-26T20:14:50.683Z"
   },
   {
    "duration": 1152,
    "start_time": "2022-06-26T20:14:50.702Z"
   },
   {
    "duration": 315,
    "start_time": "2022-06-26T20:14:51.858Z"
   },
   {
    "duration": 1283,
    "start_time": "2022-06-26T20:14:52.176Z"
   },
   {
    "duration": 329,
    "start_time": "2022-06-26T20:14:53.462Z"
   },
   {
    "duration": 6,
    "start_time": "2022-06-26T20:14:53.792Z"
   },
   {
    "duration": 7,
    "start_time": "2022-06-26T20:14:53.800Z"
   },
   {
    "duration": 74,
    "start_time": "2022-06-26T20:14:53.809Z"
   },
   {
    "duration": 32,
    "start_time": "2022-06-26T20:14:53.885Z"
   },
   {
    "duration": 12,
    "start_time": "2022-06-26T20:14:53.918Z"
   },
   {
    "duration": 25,
    "start_time": "2022-06-26T20:14:53.932Z"
   },
   {
    "duration": 6,
    "start_time": "2022-06-26T20:14:53.961Z"
   },
   {
    "duration": 20,
    "start_time": "2022-06-26T20:14:53.969Z"
   },
   {
    "duration": 19,
    "start_time": "2022-06-26T20:14:53.992Z"
   },
   {
    "duration": 17,
    "start_time": "2022-06-26T20:14:54.013Z"
   },
   {
    "duration": 161,
    "start_time": "2022-06-26T20:14:54.032Z"
   },
   {
    "duration": 7,
    "start_time": "2022-06-26T20:14:54.194Z"
   },
   {
    "duration": 18,
    "start_time": "2022-06-26T20:14:54.205Z"
   },
   {
    "duration": 14,
    "start_time": "2022-06-26T20:14:54.224Z"
   },
   {
    "duration": 8,
    "start_time": "2022-06-26T20:14:54.240Z"
   },
   {
    "duration": 12,
    "start_time": "2022-06-26T20:14:54.252Z"
   },
   {
    "duration": 50,
    "start_time": "2022-06-26T20:14:54.266Z"
   },
   {
    "duration": 29,
    "start_time": "2022-06-26T20:14:54.319Z"
   },
   {
    "duration": 47,
    "start_time": "2022-06-26T20:14:54.350Z"
   },
   {
    "duration": 90,
    "start_time": "2022-06-26T20:14:54.400Z"
   },
   {
    "duration": 29,
    "start_time": "2022-06-26T20:14:54.493Z"
   },
   {
    "duration": 58,
    "start_time": "2022-06-26T20:14:54.524Z"
   },
   {
    "duration": 1596,
    "start_time": "2022-06-26T20:14:54.586Z"
   },
   {
    "duration": 456,
    "start_time": "2022-06-26T20:14:56.184Z"
   },
   {
    "duration": 586,
    "start_time": "2022-06-26T20:14:56.642Z"
   },
   {
    "duration": 0,
    "start_time": "2022-06-26T20:14:57.230Z"
   },
   {
    "duration": 0,
    "start_time": "2022-06-26T20:14:57.232Z"
   },
   {
    "duration": 0,
    "start_time": "2022-06-26T20:14:57.234Z"
   },
   {
    "duration": 0,
    "start_time": "2022-06-26T20:14:57.235Z"
   },
   {
    "duration": 0,
    "start_time": "2022-06-26T20:14:57.255Z"
   },
   {
    "duration": 0,
    "start_time": "2022-06-26T20:14:57.257Z"
   },
   {
    "duration": 0,
    "start_time": "2022-06-26T20:14:57.258Z"
   },
   {
    "duration": 0,
    "start_time": "2022-06-26T20:14:57.260Z"
   },
   {
    "duration": 0,
    "start_time": "2022-06-26T20:14:57.261Z"
   },
   {
    "duration": 1,
    "start_time": "2022-06-26T20:14:57.262Z"
   },
   {
    "duration": 1383,
    "start_time": "2022-06-26T20:39:07.126Z"
   },
   {
    "duration": 855,
    "start_time": "2022-06-26T20:39:08.512Z"
   },
   {
    "duration": 4,
    "start_time": "2022-06-26T20:39:09.369Z"
   },
   {
    "duration": 1012,
    "start_time": "2022-06-26T20:39:09.375Z"
   },
   {
    "duration": 9,
    "start_time": "2022-06-26T20:39:10.389Z"
   },
   {
    "duration": 18,
    "start_time": "2022-06-26T20:39:10.427Z"
   },
   {
    "duration": 21,
    "start_time": "2022-06-26T20:39:10.448Z"
   },
   {
    "duration": 21,
    "start_time": "2022-06-26T20:39:10.471Z"
   },
   {
    "duration": 23,
    "start_time": "2022-06-26T20:39:10.494Z"
   },
   {
    "duration": 80,
    "start_time": "2022-06-26T20:39:10.521Z"
   },
   {
    "duration": 5,
    "start_time": "2022-06-26T20:39:10.603Z"
   },
   {
    "duration": 94,
    "start_time": "2022-06-26T20:39:10.609Z"
   },
   {
    "duration": 13,
    "start_time": "2022-06-26T20:39:10.705Z"
   },
   {
    "duration": 33,
    "start_time": "2022-06-26T20:39:10.727Z"
   },
   {
    "duration": 3,
    "start_time": "2022-06-26T20:39:10.762Z"
   },
   {
    "duration": 62,
    "start_time": "2022-06-26T20:39:10.766Z"
   },
   {
    "duration": 10,
    "start_time": "2022-06-26T20:39:10.830Z"
   },
   {
    "duration": 45,
    "start_time": "2022-06-26T20:39:10.842Z"
   },
   {
    "duration": 3,
    "start_time": "2022-06-26T20:39:10.889Z"
   },
   {
    "duration": 39,
    "start_time": "2022-06-26T20:39:10.894Z"
   },
   {
    "duration": 68,
    "start_time": "2022-06-26T20:39:10.935Z"
   },
   {
    "duration": 8,
    "start_time": "2022-06-26T20:39:11.005Z"
   },
   {
    "duration": 27,
    "start_time": "2022-06-26T20:39:11.015Z"
   },
   {
    "duration": 11,
    "start_time": "2022-06-26T20:39:11.044Z"
   },
   {
    "duration": 1377,
    "start_time": "2022-06-26T20:39:11.057Z"
   },
   {
    "duration": 340,
    "start_time": "2022-06-26T20:39:12.436Z"
   },
   {
    "duration": 1100,
    "start_time": "2022-06-26T20:39:12.778Z"
   },
   {
    "duration": 263,
    "start_time": "2022-06-26T20:39:13.883Z"
   },
   {
    "duration": 5,
    "start_time": "2022-06-26T20:39:14.147Z"
   },
   {
    "duration": 13,
    "start_time": "2022-06-26T20:39:14.154Z"
   },
   {
    "duration": 58,
    "start_time": "2022-06-26T20:39:14.168Z"
   },
   {
    "duration": 27,
    "start_time": "2022-06-26T20:39:14.228Z"
   },
   {
    "duration": 8,
    "start_time": "2022-06-26T20:39:14.257Z"
   },
   {
    "duration": 10,
    "start_time": "2022-06-26T20:39:14.266Z"
   },
   {
    "duration": 11,
    "start_time": "2022-06-26T20:39:14.278Z"
   },
   {
    "duration": 23,
    "start_time": "2022-06-26T20:39:14.290Z"
   },
   {
    "duration": 20,
    "start_time": "2022-06-26T20:39:14.315Z"
   },
   {
    "duration": 4,
    "start_time": "2022-06-26T20:39:14.338Z"
   },
   {
    "duration": 144,
    "start_time": "2022-06-26T20:39:14.344Z"
   },
   {
    "duration": 4,
    "start_time": "2022-06-26T20:39:14.491Z"
   },
   {
    "duration": 20,
    "start_time": "2022-06-26T20:39:14.496Z"
   },
   {
    "duration": 17,
    "start_time": "2022-06-26T20:39:14.517Z"
   },
   {
    "duration": 14,
    "start_time": "2022-06-26T20:39:14.537Z"
   },
   {
    "duration": 9,
    "start_time": "2022-06-26T20:39:14.553Z"
   },
   {
    "duration": 16,
    "start_time": "2022-06-26T20:39:14.564Z"
   },
   {
    "duration": 19,
    "start_time": "2022-06-26T20:39:14.582Z"
   },
   {
    "duration": 41,
    "start_time": "2022-06-26T20:39:14.603Z"
   },
   {
    "duration": 16,
    "start_time": "2022-06-26T20:39:14.646Z"
   },
   {
    "duration": 17,
    "start_time": "2022-06-26T20:39:14.664Z"
   },
   {
    "duration": 69,
    "start_time": "2022-06-26T20:39:14.683Z"
   },
   {
    "duration": 1400,
    "start_time": "2022-06-26T20:39:14.753Z"
   },
   {
    "duration": 8,
    "start_time": "2022-06-26T20:39:16.155Z"
   },
   {
    "duration": 10,
    "start_time": "2022-06-26T20:39:16.164Z"
   },
   {
    "duration": 9,
    "start_time": "2022-06-26T20:39:16.176Z"
   },
   {
    "duration": 12,
    "start_time": "2022-06-26T20:39:16.187Z"
   },
   {
    "duration": 17,
    "start_time": "2022-06-26T20:39:16.201Z"
   },
   {
    "duration": 10,
    "start_time": "2022-06-26T20:39:16.220Z"
   },
   {
    "duration": 7,
    "start_time": "2022-06-26T20:39:16.231Z"
   },
   {
    "duration": 6,
    "start_time": "2022-06-26T20:39:16.240Z"
   },
   {
    "duration": 10,
    "start_time": "2022-06-26T20:39:16.247Z"
   },
   {
    "duration": 12,
    "start_time": "2022-06-26T20:39:16.259Z"
   },
   {
    "duration": 9,
    "start_time": "2022-06-26T21:05:23.499Z"
   },
   {
    "duration": 3,
    "start_time": "2022-06-26T21:05:24.189Z"
   },
   {
    "duration": 1409,
    "start_time": "2022-06-26T21:06:39.780Z"
   },
   {
    "duration": 822,
    "start_time": "2022-06-26T21:06:41.191Z"
   },
   {
    "duration": 3,
    "start_time": "2022-06-26T21:06:42.014Z"
   },
   {
    "duration": 1009,
    "start_time": "2022-06-26T21:06:42.019Z"
   },
   {
    "duration": 7,
    "start_time": "2022-06-26T21:06:43.030Z"
   },
   {
    "duration": 18,
    "start_time": "2022-06-26T21:06:43.038Z"
   },
   {
    "duration": 7,
    "start_time": "2022-06-26T21:06:43.415Z"
   },
   {
    "duration": 12,
    "start_time": "2022-06-26T21:06:43.769Z"
   },
   {
    "duration": 11,
    "start_time": "2022-06-26T21:06:44.308Z"
   },
   {
    "duration": 57,
    "start_time": "2022-06-26T21:06:45.279Z"
   },
   {
    "duration": 4,
    "start_time": "2022-06-26T21:06:45.779Z"
   },
   {
    "duration": 120,
    "start_time": "2022-06-26T21:06:46.229Z"
   },
   {
    "duration": 11,
    "start_time": "2022-06-26T21:06:46.619Z"
   },
   {
    "duration": 45,
    "start_time": "2022-06-26T21:06:47.429Z"
   },
   {
    "duration": 5,
    "start_time": "2022-06-26T21:06:47.839Z"
   },
   {
    "duration": 48,
    "start_time": "2022-06-26T21:06:48.258Z"
   },
   {
    "duration": 10,
    "start_time": "2022-06-26T21:06:48.689Z"
   },
   {
    "duration": 39,
    "start_time": "2022-06-26T21:06:49.559Z"
   },
   {
    "duration": 4,
    "start_time": "2022-06-26T21:06:49.999Z"
   },
   {
    "duration": 7,
    "start_time": "2022-06-26T21:06:50.439Z"
   },
   {
    "duration": 62,
    "start_time": "2022-06-26T21:06:50.858Z"
   },
   {
    "duration": 10,
    "start_time": "2022-06-26T21:06:51.308Z"
   },
   {
    "duration": 8,
    "start_time": "2022-06-26T21:06:52.178Z"
   },
   {
    "duration": 12,
    "start_time": "2022-06-26T21:06:54.629Z"
   },
   {
    "duration": 1263,
    "start_time": "2022-06-26T21:06:55.899Z"
   },
   {
    "duration": 405,
    "start_time": "2022-06-26T21:06:57.165Z"
   },
   {
    "duration": 1380,
    "start_time": "2022-06-26T21:07:14.319Z"
   },
   {
    "duration": 1248,
    "start_time": "2022-06-26T21:07:29.599Z"
   },
   {
    "duration": 413,
    "start_time": "2022-06-26T21:07:34.990Z"
   },
   {
    "duration": 1191,
    "start_time": "2022-06-26T21:07:36.089Z"
   },
   {
    "duration": 971,
    "start_time": "2022-06-26T21:07:42.679Z"
   },
   {
    "duration": 249,
    "start_time": "2022-06-26T21:07:44.239Z"
   },
   {
    "duration": 1155,
    "start_time": "2022-06-26T21:08:14.109Z"
   },
   {
    "duration": 1300,
    "start_time": "2022-06-26T21:09:24.820Z"
   },
   {
    "duration": 1394,
    "start_time": "2022-06-26T21:09:35.595Z"
   },
   {
    "duration": 456,
    "start_time": "2022-06-26T21:10:18.290Z"
   },
   {
    "duration": 943,
    "start_time": "2022-06-26T21:11:58.990Z"
   },
   {
    "duration": 1171,
    "start_time": "2022-06-26T21:12:12.451Z"
   },
   {
    "duration": 298,
    "start_time": "2022-06-26T21:12:17.300Z"
   },
   {
    "duration": 1169,
    "start_time": "2022-06-26T21:13:50.350Z"
   },
   {
    "duration": 285,
    "start_time": "2022-06-26T21:14:01.790Z"
   },
   {
    "duration": 1026,
    "start_time": "2022-06-26T21:14:29.850Z"
   },
   {
    "duration": 260,
    "start_time": "2022-06-26T21:14:40.680Z"
   },
   {
    "duration": 5,
    "start_time": "2022-06-26T21:14:46.050Z"
   },
   {
    "duration": 4,
    "start_time": "2022-06-26T21:14:46.540Z"
   },
   {
    "duration": 43,
    "start_time": "2022-06-26T21:14:46.890Z"
   },
   {
    "duration": 27,
    "start_time": "2022-06-26T21:14:47.240Z"
   },
   {
    "duration": 9,
    "start_time": "2022-06-26T21:14:47.950Z"
   },
   {
    "duration": 4,
    "start_time": "2022-06-26T21:14:48.371Z"
   },
   {
    "duration": 4,
    "start_time": "2022-06-26T21:14:48.741Z"
   },
   {
    "duration": 14,
    "start_time": "2022-06-26T21:14:49.110Z"
   },
   {
    "duration": 11,
    "start_time": "2022-06-26T21:14:49.590Z"
   },
   {
    "duration": 4,
    "start_time": "2022-06-26T21:14:50.540Z"
   },
   {
    "duration": 102,
    "start_time": "2022-06-26T21:14:50.741Z"
   },
   {
    "duration": 4,
    "start_time": "2022-06-26T21:14:51.150Z"
   },
   {
    "duration": 15,
    "start_time": "2022-06-26T21:14:51.520Z"
   },
   {
    "duration": 4,
    "start_time": "2022-06-26T21:14:53.030Z"
   },
   {
    "duration": 2,
    "start_time": "2022-06-26T21:14:53.891Z"
   },
   {
    "duration": 4,
    "start_time": "2022-06-26T21:14:54.331Z"
   },
   {
    "duration": 3,
    "start_time": "2022-06-26T21:14:55.420Z"
   },
   {
    "duration": 14,
    "start_time": "2022-06-26T21:14:56.000Z"
   },
   {
    "duration": 33,
    "start_time": "2022-06-26T21:14:56.790Z"
   },
   {
    "duration": 15,
    "start_time": "2022-06-26T21:14:57.281Z"
   },
   {
    "duration": 11,
    "start_time": "2022-06-26T21:14:57.710Z"
   },
   {
    "duration": 31,
    "start_time": "2022-06-26T21:14:59.000Z"
   },
   {
    "duration": 4,
    "start_time": "2022-06-26T21:15:02.490Z"
   },
   {
    "duration": 611,
    "start_time": "2022-06-26T21:15:03.030Z"
   },
   {
    "duration": 1363,
    "start_time": "2022-06-26T21:15:11.170Z"
   },
   {
    "duration": 958,
    "start_time": "2022-06-26T21:15:20.760Z"
   },
   {
    "duration": 1109,
    "start_time": "2022-06-26T21:15:57.070Z"
   },
   {
    "duration": 1031,
    "start_time": "2022-06-26T21:16:22.221Z"
   },
   {
    "duration": 1129,
    "start_time": "2022-06-26T21:16:49.160Z"
   },
   {
    "duration": 1051,
    "start_time": "2022-06-26T21:16:58.110Z"
   },
   {
    "duration": 9,
    "start_time": "2022-06-26T21:23:42.601Z"
   },
   {
    "duration": 9,
    "start_time": "2022-06-26T21:23:43.561Z"
   },
   {
    "duration": 7,
    "start_time": "2022-06-26T21:23:44.452Z"
   },
   {
    "duration": 20,
    "start_time": "2022-06-26T21:23:49.721Z"
   },
   {
    "duration": 29,
    "start_time": "2022-06-26T21:24:32.612Z"
   },
   {
    "duration": 8,
    "start_time": "2022-06-26T21:24:34.582Z"
   },
   {
    "duration": 49,
    "start_time": "2022-06-26T21:24:35.563Z"
   },
   {
    "duration": 29,
    "start_time": "2022-06-26T21:24:36.832Z"
   },
   {
    "duration": 10,
    "start_time": "2022-06-26T21:24:38.302Z"
   },
   {
    "duration": 4,
    "start_time": "2022-06-26T21:24:39.412Z"
   },
   {
    "duration": 4,
    "start_time": "2022-06-26T21:24:40.521Z"
   },
   {
    "duration": 21,
    "start_time": "2022-06-26T21:24:41.892Z"
   },
   {
    "duration": 7,
    "start_time": "2022-06-26T21:25:07.752Z"
   },
   {
    "duration": 38,
    "start_time": "2022-06-26T21:25:08.402Z"
   },
   {
    "duration": 29,
    "start_time": "2022-06-26T21:25:08.842Z"
   },
   {
    "duration": 8,
    "start_time": "2022-06-26T21:25:09.832Z"
   },
   {
    "duration": 5,
    "start_time": "2022-06-26T21:25:10.541Z"
   },
   {
    "duration": 5,
    "start_time": "2022-06-26T21:25:11.401Z"
   },
   {
    "duration": 17,
    "start_time": "2022-06-26T21:25:12.521Z"
   },
   {
    "duration": 1205,
    "start_time": "2022-06-26T21:27:59.818Z"
   },
   {
    "duration": 894,
    "start_time": "2022-06-26T21:28:01.026Z"
   },
   {
    "duration": 3,
    "start_time": "2022-06-26T21:28:01.921Z"
   },
   {
    "duration": 1062,
    "start_time": "2022-06-26T21:28:01.927Z"
   },
   {
    "duration": 7,
    "start_time": "2022-06-26T21:28:02.991Z"
   },
   {
    "duration": 14,
    "start_time": "2022-06-26T21:28:02.999Z"
   },
   {
    "duration": 8,
    "start_time": "2022-06-26T21:28:03.014Z"
   },
   {
    "duration": 31,
    "start_time": "2022-06-26T21:28:03.024Z"
   },
   {
    "duration": 22,
    "start_time": "2022-06-26T21:28:03.058Z"
   },
   {
    "duration": 50,
    "start_time": "2022-06-26T21:28:03.083Z"
   },
   {
    "duration": 3,
    "start_time": "2022-06-26T21:28:03.135Z"
   },
   {
    "duration": 93,
    "start_time": "2022-06-26T21:28:03.154Z"
   },
   {
    "duration": 16,
    "start_time": "2022-06-26T21:28:03.252Z"
   },
   {
    "duration": 33,
    "start_time": "2022-06-26T21:28:03.271Z"
   },
   {
    "duration": 4,
    "start_time": "2022-06-26T21:28:03.306Z"
   },
   {
    "duration": 85,
    "start_time": "2022-06-26T21:28:03.311Z"
   },
   {
    "duration": 9,
    "start_time": "2022-06-26T21:28:03.398Z"
   },
   {
    "duration": 54,
    "start_time": "2022-06-26T21:28:03.409Z"
   },
   {
    "duration": 7,
    "start_time": "2022-06-26T21:28:03.466Z"
   },
   {
    "duration": 18,
    "start_time": "2022-06-26T21:28:03.474Z"
   },
   {
    "duration": 71,
    "start_time": "2022-06-26T21:28:03.493Z"
   },
   {
    "duration": 10,
    "start_time": "2022-06-26T21:28:03.566Z"
   },
   {
    "duration": 7,
    "start_time": "2022-06-26T21:28:03.578Z"
   },
   {
    "duration": 14,
    "start_time": "2022-06-26T21:28:03.587Z"
   },
   {
    "duration": 1257,
    "start_time": "2022-06-26T21:28:03.602Z"
   },
   {
    "duration": 334,
    "start_time": "2022-06-26T21:28:04.862Z"
   },
   {
    "duration": 1174,
    "start_time": "2022-06-26T21:28:05.198Z"
   },
   {
    "duration": 316,
    "start_time": "2022-06-26T21:28:06.376Z"
   },
   {
    "duration": 4,
    "start_time": "2022-06-26T21:28:06.694Z"
   },
   {
    "duration": 9,
    "start_time": "2022-06-26T21:28:06.700Z"
   },
   {
    "duration": 70,
    "start_time": "2022-06-26T21:28:06.711Z"
   },
   {
    "duration": 26,
    "start_time": "2022-06-26T21:28:06.782Z"
   },
   {
    "duration": 9,
    "start_time": "2022-06-26T21:28:06.809Z"
   },
   {
    "duration": 5,
    "start_time": "2022-06-26T21:28:06.820Z"
   },
   {
    "duration": 31,
    "start_time": "2022-06-26T21:28:06.826Z"
   },
   {
    "duration": 27,
    "start_time": "2022-06-26T21:28:06.859Z"
   },
   {
    "duration": 14,
    "start_time": "2022-06-26T21:28:06.890Z"
   },
   {
    "duration": 5,
    "start_time": "2022-06-26T21:28:06.906Z"
   },
   {
    "duration": 134,
    "start_time": "2022-06-26T21:28:06.913Z"
   },
   {
    "duration": 10,
    "start_time": "2022-06-26T21:28:07.048Z"
   },
   {
    "duration": 35,
    "start_time": "2022-06-26T21:28:07.061Z"
   },
   {
    "duration": 5,
    "start_time": "2022-06-26T21:28:07.097Z"
   },
   {
    "duration": 7,
    "start_time": "2022-06-26T21:28:07.103Z"
   },
   {
    "duration": 6,
    "start_time": "2022-06-26T21:28:07.111Z"
   },
   {
    "duration": 6,
    "start_time": "2022-06-26T21:28:07.118Z"
   },
   {
    "duration": 41,
    "start_time": "2022-06-26T21:28:07.126Z"
   },
   {
    "duration": 36,
    "start_time": "2022-06-26T21:28:07.169Z"
   },
   {
    "duration": 16,
    "start_time": "2022-06-26T21:28:07.206Z"
   },
   {
    "duration": 49,
    "start_time": "2022-06-26T21:28:07.224Z"
   },
   {
    "duration": 35,
    "start_time": "2022-06-26T21:28:07.276Z"
   },
   {
    "duration": 1330,
    "start_time": "2022-06-26T21:28:07.313Z"
   },
   {
    "duration": 31,
    "start_time": "2022-06-26T21:28:08.644Z"
   },
   {
    "duration": 13,
    "start_time": "2022-06-26T21:28:08.677Z"
   },
   {
    "duration": 5,
    "start_time": "2022-06-26T21:28:08.692Z"
   },
   {
    "duration": 6,
    "start_time": "2022-06-26T21:28:08.699Z"
   },
   {
    "duration": 7,
    "start_time": "2022-06-26T21:28:08.706Z"
   },
   {
    "duration": 10,
    "start_time": "2022-06-26T21:28:08.715Z"
   },
   {
    "duration": 6,
    "start_time": "2022-06-26T21:28:08.726Z"
   },
   {
    "duration": 22,
    "start_time": "2022-06-26T21:28:08.734Z"
   },
   {
    "duration": 16,
    "start_time": "2022-06-26T21:28:08.758Z"
   },
   {
    "duration": 8,
    "start_time": "2022-06-26T21:28:08.777Z"
   },
   {
    "duration": 10,
    "start_time": "2022-06-26T21:31:27.250Z"
   },
   {
    "duration": 38,
    "start_time": "2022-06-26T21:31:36.050Z"
   },
   {
    "duration": 5,
    "start_time": "2022-06-26T21:32:00.500Z"
   },
   {
    "duration": 32,
    "start_time": "2022-06-26T21:32:01.029Z"
   },
   {
    "duration": 4,
    "start_time": "2022-06-26T21:32:13.009Z"
   },
   {
    "duration": 101,
    "start_time": "2022-06-26T21:34:58.800Z"
   },
   {
    "duration": 8,
    "start_time": "2022-06-26T21:35:19.264Z"
   },
   {
    "duration": 23,
    "start_time": "2022-06-26T21:35:26.060Z"
   },
   {
    "duration": 4,
    "start_time": "2022-06-26T21:37:22.140Z"
   },
   {
    "duration": 4,
    "start_time": "2022-06-26T21:37:26.400Z"
   },
   {
    "duration": 5,
    "start_time": "2022-06-26T21:38:24.950Z"
   },
   {
    "duration": 4,
    "start_time": "2022-06-26T21:39:13.131Z"
   },
   {
    "duration": 5,
    "start_time": "2022-06-26T21:39:37.189Z"
   },
   {
    "duration": 5,
    "start_time": "2022-06-26T21:39:56.819Z"
   },
   {
    "duration": 6,
    "start_time": "2022-06-26T21:41:36.627Z"
   },
   {
    "duration": 5,
    "start_time": "2022-06-26T21:41:37.078Z"
   },
   {
    "duration": 4,
    "start_time": "2022-06-26T21:41:50.126Z"
   },
   {
    "duration": 4,
    "start_time": "2022-06-26T21:41:56.047Z"
   },
   {
    "duration": 3,
    "start_time": "2022-06-26T21:42:30.746Z"
   },
   {
    "duration": 6,
    "start_time": "2022-06-26T21:42:40.358Z"
   },
   {
    "duration": 3,
    "start_time": "2022-06-26T21:42:40.846Z"
   },
   {
    "duration": 3,
    "start_time": "2022-06-26T21:44:38.054Z"
   },
   {
    "duration": 4,
    "start_time": "2022-06-26T21:44:38.613Z"
   },
   {
    "duration": 3,
    "start_time": "2022-06-26T21:44:39.134Z"
   },
   {
    "duration": 4,
    "start_time": "2022-06-26T21:44:46.304Z"
   },
   {
    "duration": 7,
    "start_time": "2022-06-26T21:44:47.064Z"
   },
   {
    "duration": 7,
    "start_time": "2022-06-26T21:46:45.622Z"
   },
   {
    "duration": 9,
    "start_time": "2022-06-26T21:46:46.102Z"
   },
   {
    "duration": 4,
    "start_time": "2022-06-26T21:46:46.763Z"
   },
   {
    "duration": 4,
    "start_time": "2022-06-26T21:46:47.723Z"
   },
   {
    "duration": 5,
    "start_time": "2022-06-26T21:46:48.163Z"
   },
   {
    "duration": 4,
    "start_time": "2022-06-26T21:46:54.513Z"
   },
   {
    "duration": 5,
    "start_time": "2022-06-26T21:46:55.333Z"
   },
   {
    "duration": 4,
    "start_time": "2022-06-26T21:51:11.490Z"
   },
   {
    "duration": 4,
    "start_time": "2022-06-26T21:51:20.371Z"
   },
   {
    "duration": 7,
    "start_time": "2022-06-26T21:51:23.430Z"
   },
   {
    "duration": 10,
    "start_time": "2022-06-26T21:51:24.130Z"
   },
   {
    "duration": 1103,
    "start_time": "2022-06-26T22:05:04.037Z"
   },
   {
    "duration": 852,
    "start_time": "2022-06-26T22:05:05.141Z"
   },
   {
    "duration": 3,
    "start_time": "2022-06-26T22:05:05.995Z"
   },
   {
    "duration": 878,
    "start_time": "2022-06-26T22:05:06.000Z"
   },
   {
    "duration": 6,
    "start_time": "2022-06-26T22:05:06.879Z"
   },
   {
    "duration": 11,
    "start_time": "2022-06-26T22:05:06.887Z"
   },
   {
    "duration": 15,
    "start_time": "2022-06-26T22:05:06.899Z"
   },
   {
    "duration": 16,
    "start_time": "2022-06-26T22:05:06.916Z"
   },
   {
    "duration": 26,
    "start_time": "2022-06-26T22:05:06.934Z"
   },
   {
    "duration": 53,
    "start_time": "2022-06-26T22:05:06.963Z"
   },
   {
    "duration": 4,
    "start_time": "2022-06-26T22:05:07.017Z"
   },
   {
    "duration": 91,
    "start_time": "2022-06-26T22:05:07.022Z"
   },
   {
    "duration": 10,
    "start_time": "2022-06-26T22:05:07.114Z"
   },
   {
    "duration": 44,
    "start_time": "2022-06-26T22:05:07.127Z"
   },
   {
    "duration": 4,
    "start_time": "2022-06-26T22:05:07.173Z"
   },
   {
    "duration": 48,
    "start_time": "2022-06-26T22:05:07.178Z"
   },
   {
    "duration": 24,
    "start_time": "2022-06-26T22:05:07.227Z"
   },
   {
    "duration": 37,
    "start_time": "2022-06-26T22:05:07.253Z"
   },
   {
    "duration": 4,
    "start_time": "2022-06-26T22:05:07.292Z"
   },
   {
    "duration": 9,
    "start_time": "2022-06-26T22:05:07.297Z"
   },
   {
    "duration": 67,
    "start_time": "2022-06-26T22:05:07.308Z"
   },
   {
    "duration": 9,
    "start_time": "2022-06-26T22:05:07.376Z"
   },
   {
    "duration": 5,
    "start_time": "2022-06-26T22:05:07.386Z"
   },
   {
    "duration": 9,
    "start_time": "2022-06-26T22:05:07.392Z"
   },
   {
    "duration": 1128,
    "start_time": "2022-06-26T22:05:07.402Z"
   },
   {
    "duration": 273,
    "start_time": "2022-06-26T22:05:08.531Z"
   },
   {
    "duration": 954,
    "start_time": "2022-06-26T22:05:08.806Z"
   },
   {
    "duration": 281,
    "start_time": "2022-06-26T22:05:09.764Z"
   },
   {
    "duration": 8,
    "start_time": "2022-06-26T22:05:10.046Z"
   },
   {
    "duration": 6,
    "start_time": "2022-06-26T22:05:10.056Z"
   },
   {
    "duration": 43,
    "start_time": "2022-06-26T22:05:10.063Z"
   },
   {
    "duration": 29,
    "start_time": "2022-06-26T22:05:10.108Z"
   },
   {
    "duration": 10,
    "start_time": "2022-06-26T22:05:10.152Z"
   },
   {
    "duration": 5,
    "start_time": "2022-06-26T22:05:10.164Z"
   },
   {
    "duration": 10,
    "start_time": "2022-06-26T22:05:10.170Z"
   },
   {
    "duration": 24,
    "start_time": "2022-06-26T22:05:10.181Z"
   },
   {
    "duration": 12,
    "start_time": "2022-06-26T22:05:10.208Z"
   },
   {
    "duration": 3,
    "start_time": "2022-06-26T22:05:10.222Z"
   },
   {
    "duration": 130,
    "start_time": "2022-06-26T22:05:10.227Z"
   },
   {
    "duration": 4,
    "start_time": "2022-06-26T22:05:10.358Z"
   },
   {
    "duration": 23,
    "start_time": "2022-06-26T22:05:10.363Z"
   },
   {
    "duration": 5,
    "start_time": "2022-06-26T22:05:10.387Z"
   },
   {
    "duration": 5,
    "start_time": "2022-06-26T22:05:10.394Z"
   },
   {
    "duration": 8,
    "start_time": "2022-06-26T22:05:10.401Z"
   },
   {
    "duration": 9,
    "start_time": "2022-06-26T22:05:10.411Z"
   },
   {
    "duration": 31,
    "start_time": "2022-06-26T22:05:10.422Z"
   },
   {
    "duration": 39,
    "start_time": "2022-06-26T22:05:10.454Z"
   },
   {
    "duration": 16,
    "start_time": "2022-06-26T22:05:10.494Z"
   },
   {
    "duration": 12,
    "start_time": "2022-06-26T22:05:10.511Z"
   },
   {
    "duration": 49,
    "start_time": "2022-06-26T22:05:10.525Z"
   },
   {
    "duration": 1051,
    "start_time": "2022-06-26T22:05:10.576Z"
   },
   {
    "duration": 7,
    "start_time": "2022-06-26T22:05:11.629Z"
   },
   {
    "duration": 17,
    "start_time": "2022-06-26T22:05:11.638Z"
   },
   {
    "duration": 2,
    "start_time": "2022-06-26T22:05:11.657Z"
   },
   {
    "duration": 7,
    "start_time": "2022-06-26T22:05:11.660Z"
   },
   {
    "duration": 7,
    "start_time": "2022-06-26T22:05:11.668Z"
   },
   {
    "duration": 9,
    "start_time": "2022-06-26T22:05:11.676Z"
   },
   {
    "duration": 7,
    "start_time": "2022-06-26T22:05:11.686Z"
   },
   {
    "duration": 11,
    "start_time": "2022-06-26T22:05:11.695Z"
   },
   {
    "duration": 6,
    "start_time": "2022-06-26T22:05:11.708Z"
   },
   {
    "duration": 3,
    "start_time": "2022-06-26T22:05:11.716Z"
   },
   {
    "duration": 6,
    "start_time": "2022-06-26T22:05:11.720Z"
   },
   {
    "duration": 4,
    "start_time": "2022-06-26T22:05:11.752Z"
   },
   {
    "duration": 17,
    "start_time": "2022-06-26T22:05:11.758Z"
   },
   {
    "duration": 20,
    "start_time": "2022-06-26T22:05:11.777Z"
   },
   {
    "duration": 1087,
    "start_time": "2022-06-26T22:07:22.066Z"
   },
   {
    "duration": 796,
    "start_time": "2022-06-26T22:07:23.155Z"
   },
   {
    "duration": 3,
    "start_time": "2022-06-26T22:07:23.953Z"
   },
   {
    "duration": 902,
    "start_time": "2022-06-26T22:07:23.958Z"
   },
   {
    "duration": 6,
    "start_time": "2022-06-26T22:07:24.862Z"
   },
   {
    "duration": 16,
    "start_time": "2022-06-26T22:07:24.869Z"
   },
   {
    "duration": 10,
    "start_time": "2022-06-26T22:07:24.887Z"
   },
   {
    "duration": 21,
    "start_time": "2022-06-26T22:07:24.898Z"
   },
   {
    "duration": 22,
    "start_time": "2022-06-26T22:07:24.920Z"
   },
   {
    "duration": 48,
    "start_time": "2022-06-26T22:07:24.953Z"
   },
   {
    "duration": 4,
    "start_time": "2022-06-26T22:07:25.002Z"
   },
   {
    "duration": 123,
    "start_time": "2022-06-26T22:07:25.007Z"
   },
   {
    "duration": 9,
    "start_time": "2022-06-26T22:07:25.132Z"
   },
   {
    "duration": 46,
    "start_time": "2022-06-26T22:07:25.143Z"
   },
   {
    "duration": 5,
    "start_time": "2022-06-26T22:07:25.191Z"
   },
   {
    "duration": 84,
    "start_time": "2022-06-26T22:07:25.199Z"
   },
   {
    "duration": 16,
    "start_time": "2022-06-26T22:07:25.285Z"
   },
   {
    "duration": 64,
    "start_time": "2022-06-26T22:07:25.303Z"
   },
   {
    "duration": 5,
    "start_time": "2022-06-26T22:07:25.369Z"
   },
   {
    "duration": 21,
    "start_time": "2022-06-26T22:07:25.376Z"
   },
   {
    "duration": 85,
    "start_time": "2022-06-26T22:07:25.398Z"
   },
   {
    "duration": 11,
    "start_time": "2022-06-26T22:07:25.485Z"
   },
   {
    "duration": 13,
    "start_time": "2022-06-26T22:07:25.498Z"
   },
   {
    "duration": 16,
    "start_time": "2022-06-26T22:07:25.512Z"
   },
   {
    "duration": 1127,
    "start_time": "2022-06-26T22:07:25.529Z"
   },
   {
    "duration": 270,
    "start_time": "2022-06-26T22:07:26.657Z"
   },
   {
    "duration": 956,
    "start_time": "2022-06-26T22:07:26.928Z"
   },
   {
    "duration": 262,
    "start_time": "2022-06-26T22:07:27.888Z"
   },
   {
    "duration": 4,
    "start_time": "2022-06-26T22:07:28.152Z"
   },
   {
    "duration": 11,
    "start_time": "2022-06-26T22:07:28.157Z"
   },
   {
    "duration": 51,
    "start_time": "2022-06-26T22:07:28.170Z"
   },
   {
    "duration": 44,
    "start_time": "2022-06-26T22:07:28.223Z"
   },
   {
    "duration": 9,
    "start_time": "2022-06-26T22:07:28.269Z"
   },
   {
    "duration": 12,
    "start_time": "2022-06-26T22:07:28.280Z"
   },
   {
    "duration": 9,
    "start_time": "2022-06-26T22:07:28.294Z"
   },
   {
    "duration": 22,
    "start_time": "2022-06-26T22:07:28.305Z"
   },
   {
    "duration": 24,
    "start_time": "2022-06-26T22:07:28.328Z"
   },
   {
    "duration": 5,
    "start_time": "2022-06-26T22:07:28.354Z"
   },
   {
    "duration": 114,
    "start_time": "2022-06-26T22:07:28.360Z"
   },
   {
    "duration": 4,
    "start_time": "2022-06-26T22:07:28.476Z"
   },
   {
    "duration": 24,
    "start_time": "2022-06-26T22:07:28.481Z"
   },
   {
    "duration": 5,
    "start_time": "2022-06-26T22:07:28.506Z"
   },
   {
    "duration": 9,
    "start_time": "2022-06-26T22:07:28.513Z"
   },
   {
    "duration": 12,
    "start_time": "2022-06-26T22:07:28.523Z"
   },
   {
    "duration": 16,
    "start_time": "2022-06-26T22:07:28.536Z"
   },
   {
    "duration": 15,
    "start_time": "2022-06-26T22:07:28.553Z"
   },
   {
    "duration": 34,
    "start_time": "2022-06-26T22:07:28.569Z"
   },
   {
    "duration": 18,
    "start_time": "2022-06-26T22:07:28.605Z"
   },
   {
    "duration": 40,
    "start_time": "2022-06-26T22:07:28.625Z"
   },
   {
    "duration": 39,
    "start_time": "2022-06-26T22:07:28.668Z"
   },
   {
    "duration": 1107,
    "start_time": "2022-06-26T22:07:28.709Z"
   },
   {
    "duration": 7,
    "start_time": "2022-06-26T22:07:29.818Z"
   },
   {
    "duration": 8,
    "start_time": "2022-06-26T22:07:29.827Z"
   },
   {
    "duration": 2,
    "start_time": "2022-06-26T22:07:29.837Z"
   },
   {
    "duration": 5,
    "start_time": "2022-06-26T22:07:29.852Z"
   },
   {
    "duration": 7,
    "start_time": "2022-06-26T22:07:29.858Z"
   },
   {
    "duration": 6,
    "start_time": "2022-06-26T22:07:29.867Z"
   },
   {
    "duration": 9,
    "start_time": "2022-06-26T22:07:29.874Z"
   },
   {
    "duration": 11,
    "start_time": "2022-06-26T22:07:29.884Z"
   },
   {
    "duration": 10,
    "start_time": "2022-06-26T22:07:29.896Z"
   },
   {
    "duration": 3,
    "start_time": "2022-06-26T22:07:29.907Z"
   },
   {
    "duration": 9,
    "start_time": "2022-06-26T22:07:29.912Z"
   },
   {
    "duration": 7,
    "start_time": "2022-06-26T22:07:29.922Z"
   },
   {
    "duration": 26,
    "start_time": "2022-06-26T22:07:29.930Z"
   },
   {
    "duration": 5,
    "start_time": "2022-06-26T22:07:29.958Z"
   },
   {
    "duration": 1081,
    "start_time": "2022-06-26T22:09:09.866Z"
   },
   {
    "duration": 824,
    "start_time": "2022-06-26T22:09:10.949Z"
   },
   {
    "duration": 4,
    "start_time": "2022-06-26T22:09:11.775Z"
   },
   {
    "duration": 985,
    "start_time": "2022-06-26T22:09:11.780Z"
   },
   {
    "duration": 6,
    "start_time": "2022-06-26T22:09:12.767Z"
   },
   {
    "duration": 9,
    "start_time": "2022-06-26T22:09:12.775Z"
   },
   {
    "duration": 8,
    "start_time": "2022-06-26T22:09:12.786Z"
   },
   {
    "duration": 13,
    "start_time": "2022-06-26T22:09:12.795Z"
   },
   {
    "duration": 12,
    "start_time": "2022-06-26T22:09:12.810Z"
   },
   {
    "duration": 47,
    "start_time": "2022-06-26T22:09:12.853Z"
   },
   {
    "duration": 3,
    "start_time": "2022-06-26T22:09:12.902Z"
   },
   {
    "duration": 99,
    "start_time": "2022-06-26T22:09:12.907Z"
   },
   {
    "duration": 9,
    "start_time": "2022-06-26T22:09:13.008Z"
   },
   {
    "duration": 43,
    "start_time": "2022-06-26T22:09:13.020Z"
   },
   {
    "duration": 4,
    "start_time": "2022-06-26T22:09:13.065Z"
   },
   {
    "duration": 83,
    "start_time": "2022-06-26T22:09:13.070Z"
   },
   {
    "duration": 9,
    "start_time": "2022-06-26T22:09:13.155Z"
   },
   {
    "duration": 38,
    "start_time": "2022-06-26T22:09:13.166Z"
   },
   {
    "duration": 7,
    "start_time": "2022-06-26T22:09:13.206Z"
   },
   {
    "duration": 14,
    "start_time": "2022-06-26T22:09:13.215Z"
   },
   {
    "duration": 102,
    "start_time": "2022-06-26T22:09:13.231Z"
   },
   {
    "duration": 22,
    "start_time": "2022-06-26T22:09:13.335Z"
   },
   {
    "duration": 5,
    "start_time": "2022-06-26T22:09:13.359Z"
   },
   {
    "duration": 13,
    "start_time": "2022-06-26T22:09:13.366Z"
   },
   {
    "duration": 1113,
    "start_time": "2022-06-26T22:09:13.380Z"
   },
   {
    "duration": 301,
    "start_time": "2022-06-26T22:09:14.495Z"
   },
   {
    "duration": 1062,
    "start_time": "2022-06-26T22:09:14.797Z"
   },
   {
    "duration": 279,
    "start_time": "2022-06-26T22:09:15.861Z"
   },
   {
    "duration": 13,
    "start_time": "2022-06-26T22:09:16.142Z"
   },
   {
    "duration": 5,
    "start_time": "2022-06-26T22:09:16.157Z"
   },
   {
    "duration": 63,
    "start_time": "2022-06-26T22:09:16.164Z"
   },
   {
    "duration": 38,
    "start_time": "2022-06-26T22:09:16.228Z"
   },
   {
    "duration": 7,
    "start_time": "2022-06-26T22:09:16.268Z"
   },
   {
    "duration": 7,
    "start_time": "2022-06-26T22:09:16.276Z"
   },
   {
    "duration": 13,
    "start_time": "2022-06-26T22:09:16.285Z"
   },
   {
    "duration": 19,
    "start_time": "2022-06-26T22:09:16.300Z"
   },
   {
    "duration": 17,
    "start_time": "2022-06-26T22:09:16.321Z"
   },
   {
    "duration": 5,
    "start_time": "2022-06-26T22:09:16.352Z"
   },
   {
    "duration": 129,
    "start_time": "2022-06-26T22:09:16.359Z"
   },
   {
    "duration": 5,
    "start_time": "2022-06-26T22:09:16.489Z"
   },
   {
    "duration": 23,
    "start_time": "2022-06-26T22:09:16.500Z"
   },
   {
    "duration": 6,
    "start_time": "2022-06-26T22:09:16.525Z"
   },
   {
    "duration": 3,
    "start_time": "2022-06-26T22:09:16.552Z"
   },
   {
    "duration": 6,
    "start_time": "2022-06-26T22:09:16.557Z"
   },
   {
    "duration": 11,
    "start_time": "2022-06-26T22:09:16.564Z"
   },
   {
    "duration": 17,
    "start_time": "2022-06-26T22:09:16.577Z"
   },
   {
    "duration": 26,
    "start_time": "2022-06-26T22:09:16.596Z"
   },
   {
    "duration": 38,
    "start_time": "2022-06-26T22:09:16.624Z"
   },
   {
    "duration": 13,
    "start_time": "2022-06-26T22:09:16.664Z"
   },
   {
    "duration": 32,
    "start_time": "2022-06-26T22:09:16.679Z"
   },
   {
    "duration": 1078,
    "start_time": "2022-06-26T22:09:16.713Z"
   },
   {
    "duration": 7,
    "start_time": "2022-06-26T22:09:17.793Z"
   },
   {
    "duration": 21,
    "start_time": "2022-06-26T22:09:17.801Z"
   },
   {
    "duration": 4,
    "start_time": "2022-06-26T22:09:17.823Z"
   },
   {
    "duration": 6,
    "start_time": "2022-06-26T22:09:17.828Z"
   },
   {
    "duration": 17,
    "start_time": "2022-06-26T22:09:17.836Z"
   },
   {
    "duration": 4,
    "start_time": "2022-06-26T22:09:17.855Z"
   },
   {
    "duration": 16,
    "start_time": "2022-06-26T22:09:17.861Z"
   },
   {
    "duration": 19,
    "start_time": "2022-06-26T22:09:17.879Z"
   },
   {
    "duration": 8,
    "start_time": "2022-06-26T22:09:17.901Z"
   },
   {
    "duration": 2,
    "start_time": "2022-06-26T22:09:17.911Z"
   },
   {
    "duration": 7,
    "start_time": "2022-06-26T22:09:17.915Z"
   },
   {
    "duration": 9,
    "start_time": "2022-06-26T22:09:17.923Z"
   },
   {
    "duration": 19,
    "start_time": "2022-06-26T22:09:17.933Z"
   },
   {
    "duration": 6,
    "start_time": "2022-06-26T22:09:17.954Z"
   },
   {
    "duration": 1010,
    "start_time": "2022-06-26T22:11:03.218Z"
   },
   {
    "duration": 5,
    "start_time": "2022-06-26T22:19:32.628Z"
   },
   {
    "duration": 4,
    "start_time": "2022-06-26T22:19:37.998Z"
   },
   {
    "duration": 106,
    "start_time": "2022-06-27T20:18:07.501Z"
   },
   {
    "duration": 64,
    "start_time": "2022-07-10T09:26:00.229Z"
   },
   {
    "duration": 7,
    "start_time": "2022-07-10T09:26:02.588Z"
   },
   {
    "duration": 1380,
    "start_time": "2022-08-05T19:27:33.348Z"
   },
   {
    "duration": 1356,
    "start_time": "2022-08-05T19:27:34.730Z"
   },
   {
    "duration": 3,
    "start_time": "2022-08-05T19:27:36.088Z"
   },
   {
    "duration": 1117,
    "start_time": "2022-08-05T19:27:36.093Z"
   },
   {
    "duration": 8,
    "start_time": "2022-08-05T19:27:37.212Z"
   },
   {
    "duration": 20,
    "start_time": "2022-08-05T19:27:37.222Z"
   },
   {
    "duration": 23,
    "start_time": "2022-08-05T19:27:37.243Z"
   },
   {
    "duration": 18,
    "start_time": "2022-08-05T19:27:37.268Z"
   },
   {
    "duration": 17,
    "start_time": "2022-08-05T19:27:37.291Z"
   },
   {
    "duration": 63,
    "start_time": "2022-08-05T19:27:37.310Z"
   },
   {
    "duration": 3,
    "start_time": "2022-08-05T19:27:37.376Z"
   },
   {
    "duration": 96,
    "start_time": "2022-08-05T19:27:37.381Z"
   },
   {
    "duration": 16,
    "start_time": "2022-08-05T19:27:37.479Z"
   },
   {
    "duration": 36,
    "start_time": "2022-08-05T19:27:37.497Z"
   },
   {
    "duration": 4,
    "start_time": "2022-08-05T19:27:37.535Z"
   },
   {
    "duration": 78,
    "start_time": "2022-08-05T19:27:37.540Z"
   },
   {
    "duration": 10,
    "start_time": "2022-08-05T19:27:37.620Z"
   },
   {
    "duration": 60,
    "start_time": "2022-08-05T19:27:37.632Z"
   },
   {
    "duration": 5,
    "start_time": "2022-08-05T19:27:37.693Z"
   },
   {
    "duration": 14,
    "start_time": "2022-08-05T19:27:37.701Z"
   },
   {
    "duration": 81,
    "start_time": "2022-08-05T19:27:37.718Z"
   },
   {
    "duration": 9,
    "start_time": "2022-08-05T19:27:37.801Z"
   },
   {
    "duration": 6,
    "start_time": "2022-08-05T19:27:37.812Z"
   },
   {
    "duration": 13,
    "start_time": "2022-08-05T19:27:37.820Z"
   },
   {
    "duration": 1275,
    "start_time": "2022-08-05T19:27:37.835Z"
   },
   {
    "duration": 312,
    "start_time": "2022-08-05T19:27:39.112Z"
   },
   {
    "duration": 1122,
    "start_time": "2022-08-05T19:27:39.427Z"
   },
   {
    "duration": 310,
    "start_time": "2022-08-05T19:27:40.554Z"
   },
   {
    "duration": 5,
    "start_time": "2022-08-05T19:27:40.866Z"
   },
   {
    "duration": 19,
    "start_time": "2022-08-05T19:27:40.873Z"
   },
   {
    "duration": 56,
    "start_time": "2022-08-05T19:27:40.893Z"
   },
   {
    "duration": 45,
    "start_time": "2022-08-05T19:27:40.951Z"
   },
   {
    "duration": 11,
    "start_time": "2022-08-05T19:27:40.998Z"
   },
   {
    "duration": 6,
    "start_time": "2022-08-05T19:27:41.011Z"
   },
   {
    "duration": 9,
    "start_time": "2022-08-05T19:27:41.019Z"
   },
   {
    "duration": 32,
    "start_time": "2022-08-05T19:27:41.030Z"
   },
   {
    "duration": 40,
    "start_time": "2022-08-05T19:27:41.064Z"
   },
   {
    "duration": 8,
    "start_time": "2022-08-05T19:27:41.107Z"
   },
   {
    "duration": 132,
    "start_time": "2022-08-05T19:27:41.117Z"
   },
   {
    "duration": 4,
    "start_time": "2022-08-05T19:27:41.251Z"
   },
   {
    "duration": 37,
    "start_time": "2022-08-05T19:27:41.256Z"
   },
   {
    "duration": 6,
    "start_time": "2022-08-05T19:27:41.294Z"
   },
   {
    "duration": 6,
    "start_time": "2022-08-05T19:27:41.302Z"
   },
   {
    "duration": 7,
    "start_time": "2022-08-05T19:27:41.310Z"
   },
   {
    "duration": 8,
    "start_time": "2022-08-05T19:27:41.319Z"
   },
   {
    "duration": 23,
    "start_time": "2022-08-05T19:27:41.329Z"
   },
   {
    "duration": 53,
    "start_time": "2022-08-05T19:27:41.354Z"
   },
   {
    "duration": 18,
    "start_time": "2022-08-05T19:27:41.409Z"
   },
   {
    "duration": 19,
    "start_time": "2022-08-05T19:27:41.429Z"
   },
   {
    "duration": 51,
    "start_time": "2022-08-05T19:27:41.450Z"
   },
   {
    "duration": 1319,
    "start_time": "2022-08-05T19:27:41.503Z"
   },
   {
    "duration": 7,
    "start_time": "2022-08-05T19:27:42.824Z"
   },
   {
    "duration": 14,
    "start_time": "2022-08-05T19:27:42.833Z"
   },
   {
    "duration": 2,
    "start_time": "2022-08-05T19:27:42.849Z"
   },
   {
    "duration": 7,
    "start_time": "2022-08-05T19:27:42.853Z"
   },
   {
    "duration": 30,
    "start_time": "2022-08-05T19:27:42.862Z"
   },
   {
    "duration": 7,
    "start_time": "2022-08-05T19:27:42.894Z"
   },
   {
    "duration": 11,
    "start_time": "2022-08-05T19:27:42.903Z"
   },
   {
    "duration": 13,
    "start_time": "2022-08-05T19:27:42.916Z"
   },
   {
    "duration": 12,
    "start_time": "2022-08-05T19:27:42.931Z"
   },
   {
    "duration": 4,
    "start_time": "2022-08-05T19:27:42.945Z"
   },
   {
    "duration": 9,
    "start_time": "2022-08-05T19:27:42.953Z"
   },
   {
    "duration": 8,
    "start_time": "2022-08-05T19:27:42.963Z"
   },
   {
    "duration": 5,
    "start_time": "2022-08-05T19:27:42.994Z"
   },
   {
    "duration": 8,
    "start_time": "2022-08-05T19:27:43.001Z"
   }
  ],
  "kernelspec": {
   "display_name": "Python 3 (ipykernel)",
   "language": "python",
   "name": "python3"
  },
  "language_info": {
   "codemirror_mode": {
    "name": "ipython",
    "version": 3
   },
   "file_extension": ".py",
   "mimetype": "text/x-python",
   "name": "python",
   "nbconvert_exporter": "python",
   "pygments_lexer": "ipython3",
   "version": "3.11.5"
  },
  "toc": {
   "base_numbering": 1,
   "nav_menu": {},
   "number_sections": true,
   "sideBar": true,
   "skip_h1_title": true,
   "title_cell": "Table of Contents",
   "title_sidebar": "Contents",
   "toc_cell": false,
   "toc_position": {},
   "toc_section_display": true,
   "toc_window_display": false
  }
 },
 "nbformat": 4,
 "nbformat_minor": 2
}
