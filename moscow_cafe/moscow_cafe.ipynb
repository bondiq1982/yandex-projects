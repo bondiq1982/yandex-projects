{
 "cells": [
  {
   "cell_type": "markdown",
   "metadata": {},
   "source": [
    "# Анализ рынка заведений общественного питания Москвы\n",
    "Заказчик исследования: потенциальный владелец кафе.\n",
    "\n",
    "Цель исследования: формирование общего представления о рынке заведений общественного питания Москвы у потенциальных инвесторов с целью их привлечения в проект открытия кафе.  \n",
    "\n",
    "***Презентация в формате PDF:***\n",
    "https://disk.yandex.ru/i/q0lmX6uGscdp2w"
   ]
  },
  {
   "cell_type": "markdown",
   "metadata": {},
   "source": [
    "Содержание исследования:  \n",
    "1. [Общий анализ исходной таблицы](#open_file)  \n",
    " 1.1. [Импорт библиотек](#import)  \n",
    " 1.2. [Создание датафреймов](#read)  \n",
    " 1.3. [Общая информация о датафрейме df](#info_all)  \n",
    "\n",
    "    \n",
    "    \n",
    "2. [Предобработка данных](#data_preprocessing)  \n",
    "    * [Оптимизация типа категориальных значений](#category_type)  \n",
    "    * [Оптимизация типа целочисленных значений](#int_type)  \n",
    "    * [Удаление дубликатов](#drop_dupl)  \n",
    "    \n",
    "    \n",
    "3. [Анализ рынка заведений общественного питания](#analysis)  \n",
    " 3.1. [Общий анализ рынка заведений общественного питания](#general_analysis)  \n",
    "    * [Соотношение видов объектов общественного питания по количеству](#number_type)  \n",
    "    * [Соотношение сетевых и несетевых заведений по количеству](#chain_nochain)  \n",
    "    * [Сетевое распространение по видам объектов общественного питания](#chain_type)  \n",
    "    * [Количество посадочных мест по сетям](#number_chain)  \n",
    "    * [Среднее количество посадочных мест по типу заведений](#mean_number_type)  \n",
    "    \n",
    " 3.2. [Анализ заведений общественного питания по месту расположения](#address)  \n",
    "    * [Адреса без указания улиц](#no_street)  \n",
    "    * [Топ-10 улиц по количеству объектов общественного питания](#top_10)  \n",
    "    * [Улицы, на которых расположено по одному объекту общественного питания](#one_object_streets)   \n",
    "    * [Распределение среднего количества посадочных мест для улиц с наибольшим числом объектов общественного питания](#mean_number_top10)  \n",
    "    \n",
    "4. [Общий вывод](#final)  \n",
    "    * [Рекомендации](#recom) "
   ]
  },
  {
   "cell_type": "markdown",
   "metadata": {},
   "source": [
    "## Общий анализ исходной таблицы\n",
    "<a id=\"open_file\"></a>"
   ]
  },
  {
   "cell_type": "markdown",
   "metadata": {},
   "source": [
    "***Импорт библиотек***"
   ]
  },
  {
   "cell_type": "code",
   "execution_count": 1,
   "metadata": {},
   "outputs": [],
   "source": [
    "import seaborn as sns\n",
    "import matplotlib.pyplot as plt\n",
    "import pandas as pd\n",
    "import numpy as np\n",
    "from io import BytesIO\n",
    "import requests"
   ]
  },
  {
   "cell_type": "markdown",
   "metadata": {},
   "source": [
    "***Создание датафреймов***\n",
    "<a id=\"read\"></a>"
   ]
  },
  {
   "cell_type": "markdown",
   "metadata": {},
   "source": [
    "Создаем датафрейм df, содержащий данные по заведениям общественного питания Москвы:"
   ]
  },
  {
   "cell_type": "code",
   "execution_count": 2,
   "metadata": {},
   "outputs": [],
   "source": [
    "try:\n",
    "    path = 'https://code.s3.yandex.net/datasets/rest_data.csv' \n",
    "                                       #Путь к фпйлу\n",
    "except:\n",
    "    path = '/datasets/rest_data.csv'               #Путь к фпйлу\n",
    "df = pd.read_csv(path)                                                    #Создание датафрейма df\n"
   ]
  },
  {
   "cell_type": "markdown",
   "metadata": {},
   "source": [
    "Создаем датафрейм df_district, содержащий данные о распределении улиц Москвы по районам города:"
   ]
  },
  {
   "cell_type": "code",
   "execution_count": 3,
   "metadata": {},
   "outputs": [],
   "source": [
    "spreadsheet_id = '1-7vEVwanYiUP7qKDCXa3kn4FVfj1DkZlgX8BuQ6-upQ'\n",
    "file_name = 'https://docs.google.com/spreadsheets/d/{}/export?format=csv'.format(spreadsheet_id)\n",
    "r = requests.get(file_name)\n",
    "df_district = pd.read_csv(BytesIO(r.content))"
   ]
  },
  {
   "cell_type": "markdown",
   "metadata": {},
   "source": [
    "***Общая информация о датафрейме df***\n",
    "<a id=\"info_all\"></a>"
   ]
  },
  {
   "cell_type": "markdown",
   "metadata": {},
   "source": [
    "Выводим случайные 5 строк датафрейма:"
   ]
  },
  {
   "cell_type": "code",
   "execution_count": 4,
   "metadata": {},
   "outputs": [
    {
     "data": {
      "text/html": [
       "<div>\n",
       "<style scoped>\n",
       "    .dataframe tbody tr th:only-of-type {\n",
       "        vertical-align: middle;\n",
       "    }\n",
       "\n",
       "    .dataframe tbody tr th {\n",
       "        vertical-align: top;\n",
       "    }\n",
       "\n",
       "    .dataframe thead th {\n",
       "        text-align: right;\n",
       "    }\n",
       "</style>\n",
       "<table border=\"1\" class=\"dataframe\">\n",
       "  <thead>\n",
       "    <tr style=\"text-align: right;\">\n",
       "      <th></th>\n",
       "      <th>id</th>\n",
       "      <th>object_name</th>\n",
       "      <th>chain</th>\n",
       "      <th>object_type</th>\n",
       "      <th>address</th>\n",
       "      <th>number</th>\n",
       "    </tr>\n",
       "  </thead>\n",
       "  <tbody>\n",
       "    <tr>\n",
       "      <th>2973</th>\n",
       "      <td>22736</td>\n",
       "      <td>Луна</td>\n",
       "      <td>нет</td>\n",
       "      <td>кафе</td>\n",
       "      <td>город Москва, Михалковская улица, дом 38, стро...</td>\n",
       "      <td>40</td>\n",
       "    </tr>\n",
       "    <tr>\n",
       "      <th>2593</th>\n",
       "      <td>29065</td>\n",
       "      <td>Столовая ГБОУ 45 Гимназия имени Л.И. Мильграмма</td>\n",
       "      <td>нет</td>\n",
       "      <td>столовая</td>\n",
       "      <td>город Москва, улица Гримау, дом 8</td>\n",
       "      <td>300</td>\n",
       "    </tr>\n",
       "    <tr>\n",
       "      <th>6737</th>\n",
       "      <td>23349</td>\n",
       "      <td>Столовая ГБОУ СОШ № 1900</td>\n",
       "      <td>нет</td>\n",
       "      <td>столовая</td>\n",
       "      <td>город Москва, Дубравная улица, дом 41, корпус 4</td>\n",
       "      <td>240</td>\n",
       "    </tr>\n",
       "    <tr>\n",
       "      <th>14940</th>\n",
       "      <td>222539</td>\n",
       "      <td>Holy Vegan</td>\n",
       "      <td>нет</td>\n",
       "      <td>кафе</td>\n",
       "      <td>город Москва, Ходынский бульвар, дом 4</td>\n",
       "      <td>0</td>\n",
       "    </tr>\n",
       "    <tr>\n",
       "      <th>4088</th>\n",
       "      <td>26585</td>\n",
       "      <td>Ресторан «Очаг гурманов»</td>\n",
       "      <td>нет</td>\n",
       "      <td>ресторан</td>\n",
       "      <td>город Москва, Каширское шоссе, дом 51, корпус 3</td>\n",
       "      <td>42</td>\n",
       "    </tr>\n",
       "  </tbody>\n",
       "</table>\n",
       "</div>"
      ],
      "text/plain": [
       "           id                                      object_name chain  \\\n",
       "2973    22736                                             Луна   нет   \n",
       "2593    29065  Столовая ГБОУ 45 Гимназия имени Л.И. Мильграмма   нет   \n",
       "6737    23349                         Столовая ГБОУ СОШ № 1900   нет   \n",
       "14940  222539                                       Holy Vegan   нет   \n",
       "4088    26585                         Ресторан «Очаг гурманов»   нет   \n",
       "\n",
       "      object_type                                            address  number  \n",
       "2973         кафе  город Москва, Михалковская улица, дом 38, стро...      40  \n",
       "2593     столовая                  город Москва, улица Гримау, дом 8     300  \n",
       "6737     столовая    город Москва, Дубравная улица, дом 41, корпус 4     240  \n",
       "14940        кафе             город Москва, Ходынский бульвар, дом 4       0  \n",
       "4088     ресторан    город Москва, Каширское шоссе, дом 51, корпус 3      42  "
      ]
     },
     "execution_count": 4,
     "metadata": {},
     "output_type": "execute_result"
    }
   ],
   "source": [
    "df.sample(n=5, random_state=1)"
   ]
  },
  {
   "cell_type": "markdown",
   "metadata": {},
   "source": [
    "Выводим общую информацию:"
   ]
  },
  {
   "cell_type": "code",
   "execution_count": 5,
   "metadata": {
    "scrolled": false
   },
   "outputs": [
    {
     "name": "stdout",
     "output_type": "stream",
     "text": [
      "<class 'pandas.core.frame.DataFrame'>\n",
      "RangeIndex: 15366 entries, 0 to 15365\n",
      "Data columns (total 6 columns):\n",
      " #   Column       Non-Null Count  Dtype \n",
      "---  ------       --------------  ----- \n",
      " 0   id           15366 non-null  int64 \n",
      " 1   object_name  15366 non-null  object\n",
      " 2   chain        15366 non-null  object\n",
      " 3   object_type  15366 non-null  object\n",
      " 4   address      15366 non-null  object\n",
      " 5   number       15366 non-null  int64 \n",
      "dtypes: int64(2), object(4)\n",
      "memory usage: 7.1 MB\n"
     ]
    }
   ],
   "source": [
    "df.info(memory_usage='deep')"
   ]
  },
  {
   "cell_type": "markdown",
   "metadata": {},
   "source": [
    "Определяем количество пропусков в соответствующих полях:"
   ]
  },
  {
   "cell_type": "code",
   "execution_count": 6,
   "metadata": {
    "scrolled": false
   },
   "outputs": [
    {
     "data": {
      "text/plain": [
       "id             0\n",
       "object_name    0\n",
       "chain          0\n",
       "object_type    0\n",
       "address        0\n",
       "number         0\n",
       "dtype: int64"
      ]
     },
     "execution_count": 6,
     "metadata": {},
     "output_type": "execute_result"
    }
   ],
   "source": [
    "df.isna().sum()"
   ]
  },
  {
   "cell_type": "markdown",
   "metadata": {},
   "source": [
    "Выводим описательную статистику для строковых значений:"
   ]
  },
  {
   "cell_type": "code",
   "execution_count": 7,
   "metadata": {
    "scrolled": true
   },
   "outputs": [
    {
     "data": {
      "text/html": [
       "<div>\n",
       "<style scoped>\n",
       "    .dataframe tbody tr th:only-of-type {\n",
       "        vertical-align: middle;\n",
       "    }\n",
       "\n",
       "    .dataframe tbody tr th {\n",
       "        vertical-align: top;\n",
       "    }\n",
       "\n",
       "    .dataframe thead th {\n",
       "        text-align: right;\n",
       "    }\n",
       "</style>\n",
       "<table border=\"1\" class=\"dataframe\">\n",
       "  <thead>\n",
       "    <tr style=\"text-align: right;\">\n",
       "      <th></th>\n",
       "      <th>count</th>\n",
       "      <th>unique</th>\n",
       "      <th>top</th>\n",
       "      <th>freq</th>\n",
       "    </tr>\n",
       "  </thead>\n",
       "  <tbody>\n",
       "    <tr>\n",
       "      <th>object_name</th>\n",
       "      <td>15366</td>\n",
       "      <td>10393</td>\n",
       "      <td>Столовая</td>\n",
       "      <td>267</td>\n",
       "    </tr>\n",
       "    <tr>\n",
       "      <th>chain</th>\n",
       "      <td>15366</td>\n",
       "      <td>2</td>\n",
       "      <td>нет</td>\n",
       "      <td>12398</td>\n",
       "    </tr>\n",
       "    <tr>\n",
       "      <th>object_type</th>\n",
       "      <td>15366</td>\n",
       "      <td>9</td>\n",
       "      <td>кафе</td>\n",
       "      <td>6099</td>\n",
       "    </tr>\n",
       "    <tr>\n",
       "      <th>address</th>\n",
       "      <td>15366</td>\n",
       "      <td>9108</td>\n",
       "      <td>город Москва, Ходынский бульвар, дом 4</td>\n",
       "      <td>95</td>\n",
       "    </tr>\n",
       "  </tbody>\n",
       "</table>\n",
       "</div>"
      ],
      "text/plain": [
       "             count unique                                     top   freq\n",
       "object_name  15366  10393                                Столовая    267\n",
       "chain        15366      2                                     нет  12398\n",
       "object_type  15366      9                                    кафе   6099\n",
       "address      15366   9108  город Москва, Ходынский бульвар, дом 4     95"
      ]
     },
     "execution_count": 7,
     "metadata": {},
     "output_type": "execute_result"
    }
   ],
   "source": [
    "df.describe(include='object').T"
   ]
  },
  {
   "cell_type": "markdown",
   "metadata": {},
   "source": [
    "Выводим описательную статистику для числовых значений:"
   ]
  },
  {
   "cell_type": "code",
   "execution_count": 8,
   "metadata": {},
   "outputs": [
    {
     "data": {
      "text/html": [
       "<div>\n",
       "<style scoped>\n",
       "    .dataframe tbody tr th:only-of-type {\n",
       "        vertical-align: middle;\n",
       "    }\n",
       "\n",
       "    .dataframe tbody tr th {\n",
       "        vertical-align: top;\n",
       "    }\n",
       "\n",
       "    .dataframe thead th {\n",
       "        text-align: right;\n",
       "    }\n",
       "</style>\n",
       "<table border=\"1\" class=\"dataframe\">\n",
       "  <thead>\n",
       "    <tr style=\"text-align: right;\">\n",
       "      <th></th>\n",
       "      <th>count</th>\n",
       "      <th>mean</th>\n",
       "      <th>std</th>\n",
       "      <th>min</th>\n",
       "      <th>25%</th>\n",
       "      <th>50%</th>\n",
       "      <th>75%</th>\n",
       "      <th>max</th>\n",
       "    </tr>\n",
       "  </thead>\n",
       "  <tbody>\n",
       "    <tr>\n",
       "      <th>id</th>\n",
       "      <td>15366.0</td>\n",
       "      <td>119720.066901</td>\n",
       "      <td>73036.130732</td>\n",
       "      <td>838.0</td>\n",
       "      <td>28524.0</td>\n",
       "      <td>144974.5</td>\n",
       "      <td>184262.25</td>\n",
       "      <td>223439.0</td>\n",
       "    </tr>\n",
       "    <tr>\n",
       "      <th>number</th>\n",
       "      <td>15366.0</td>\n",
       "      <td>59.547182</td>\n",
       "      <td>74.736833</td>\n",
       "      <td>0.0</td>\n",
       "      <td>12.0</td>\n",
       "      <td>40.0</td>\n",
       "      <td>80.00</td>\n",
       "      <td>1700.0</td>\n",
       "    </tr>\n",
       "  </tbody>\n",
       "</table>\n",
       "</div>"
      ],
      "text/plain": [
       "          count           mean           std    min      25%       50%  \\\n",
       "id      15366.0  119720.066901  73036.130732  838.0  28524.0  144974.5   \n",
       "number  15366.0      59.547182     74.736833    0.0     12.0      40.0   \n",
       "\n",
       "              75%       max  \n",
       "id      184262.25  223439.0  \n",
       "number      80.00    1700.0  "
      ]
     },
     "execution_count": 8,
     "metadata": {},
     "output_type": "execute_result"
    }
   ],
   "source": [
    "df.describe().T"
   ]
  },
  {
   "cell_type": "code",
   "execution_count": 9,
   "metadata": {
    "scrolled": true
   },
   "outputs": [
    {
     "data": {
      "text/html": [
       "<div>\n",
       "<style scoped>\n",
       "    .dataframe tbody tr th:only-of-type {\n",
       "        vertical-align: middle;\n",
       "    }\n",
       "\n",
       "    .dataframe tbody tr th {\n",
       "        vertical-align: top;\n",
       "    }\n",
       "\n",
       "    .dataframe thead th {\n",
       "        text-align: right;\n",
       "    }\n",
       "</style>\n",
       "<table border=\"1\" class=\"dataframe\">\n",
       "  <thead>\n",
       "    <tr style=\"text-align: right;\">\n",
       "      <th></th>\n",
       "      <th>id</th>\n",
       "      <th>object_name</th>\n",
       "      <th>chain</th>\n",
       "      <th>object_type</th>\n",
       "      <th>address</th>\n",
       "      <th>number</th>\n",
       "    </tr>\n",
       "  </thead>\n",
       "  <tbody>\n",
       "    <tr>\n",
       "      <th>0</th>\n",
       "      <td>151635</td>\n",
       "      <td>СМЕТАНА</td>\n",
       "      <td>нет</td>\n",
       "      <td>кафе</td>\n",
       "      <td>город Москва, улица Егора Абакумова, дом 9</td>\n",
       "      <td>48</td>\n",
       "    </tr>\n",
       "    <tr>\n",
       "      <th>1</th>\n",
       "      <td>77874</td>\n",
       "      <td>Родник</td>\n",
       "      <td>нет</td>\n",
       "      <td>кафе</td>\n",
       "      <td>город Москва, улица Талалихина, дом 2/1, корпус 1</td>\n",
       "      <td>35</td>\n",
       "    </tr>\n",
       "    <tr>\n",
       "      <th>2</th>\n",
       "      <td>24309</td>\n",
       "      <td>Кафе «Академия»</td>\n",
       "      <td>нет</td>\n",
       "      <td>кафе</td>\n",
       "      <td>город Москва, Абельмановская улица, дом 6</td>\n",
       "      <td>95</td>\n",
       "    </tr>\n",
       "    <tr>\n",
       "      <th>3</th>\n",
       "      <td>21894</td>\n",
       "      <td>ПИЦЦЕТОРИЯ</td>\n",
       "      <td>да</td>\n",
       "      <td>кафе</td>\n",
       "      <td>город Москва, Абрамцевская улица, дом 1</td>\n",
       "      <td>40</td>\n",
       "    </tr>\n",
       "    <tr>\n",
       "      <th>4</th>\n",
       "      <td>119365</td>\n",
       "      <td>Кафе «Вишневая метель»</td>\n",
       "      <td>нет</td>\n",
       "      <td>кафе</td>\n",
       "      <td>город Москва, Абрамцевская улица, дом 9, корпус 1</td>\n",
       "      <td>50</td>\n",
       "    </tr>\n",
       "  </tbody>\n",
       "</table>\n",
       "</div>"
      ],
      "text/plain": [
       "       id             object_name chain object_type  \\\n",
       "0  151635                 СМЕТАНА   нет        кафе   \n",
       "1   77874                  Родник   нет        кафе   \n",
       "2   24309         Кафе «Академия»   нет        кафе   \n",
       "3   21894              ПИЦЦЕТОРИЯ    да        кафе   \n",
       "4  119365  Кафе «Вишневая метель»   нет        кафе   \n",
       "\n",
       "                                             address  number  \n",
       "0         город Москва, улица Егора Абакумова, дом 9      48  \n",
       "1  город Москва, улица Талалихина, дом 2/1, корпус 1      35  \n",
       "2          город Москва, Абельмановская улица, дом 6      95  \n",
       "3            город Москва, Абрамцевская улица, дом 1      40  \n",
       "4  город Москва, Абрамцевская улица, дом 9, корпус 1      50  "
      ]
     },
     "execution_count": 9,
     "metadata": {},
     "output_type": "execute_result"
    }
   ],
   "source": [
    "df.head()"
   ]
  },
  {
   "cell_type": "markdown",
   "metadata": {},
   "source": [
    "По id проверяем, присутствует ли в датафрейме дублирование данных:"
   ]
  },
  {
   "cell_type": "code",
   "execution_count": 10,
   "metadata": {},
   "outputs": [
    {
     "data": {
      "text/plain": [
       "0"
      ]
     },
     "execution_count": 10,
     "metadata": {},
     "output_type": "execute_result"
    }
   ],
   "source": [
    "duplicat = df.loc[df['id'].duplicated() == True]['id'].count()\n",
    "duplicat"
   ]
  },
  {
   "cell_type": "markdown",
   "metadata": {},
   "source": [
    "***Вывод:***  \n",
    "Датафрейм содержит данные по 15366 объектам, пропуски отсутствуют. Размер датафрейма - 7,1 MB.  \n",
    "По полю \"id\" дубликатов нет.  \n",
    "Символы текстовых полей имеют различный регистр. По текстовым полям возможны дубликаты.  \n",
    "Количество посадочных мест достигает неоправданно высоких значений - максимум 1700. Возможны выбросы в поле \"number\"."
   ]
  },
  {
   "cell_type": "markdown",
   "metadata": {},
   "source": [
    "## Предобработка данных\n",
    "<a id=\"data_preprocessing\"></a>"
   ]
  },
  {
   "cell_type": "markdown",
   "metadata": {},
   "source": [
    "Создаем рабочую копию исходной таблицы:"
   ]
  },
  {
   "cell_type": "code",
   "execution_count": 11,
   "metadata": {},
   "outputs": [],
   "source": [
    "df_final = df.copy()                                   #Создаем рабочую копию датафрейма"
   ]
  },
  {
   "cell_type": "markdown",
   "metadata": {},
   "source": [
    "***Оптимизация типа категориальных значений***\n",
    "<a id=\"category_type\"></a>"
   ]
  },
  {
   "cell_type": "markdown",
   "metadata": {},
   "source": [
    "Определяем процент уникальных значений данных в полях, которые можно отнести к категориальным. Если он менее 50%, заменяем тип поля на \"categoty\":"
   ]
  },
  {
   "cell_type": "code",
   "execution_count": 12,
   "metadata": {
    "scrolled": false
   },
   "outputs": [
    {
     "name": "stdout",
     "output_type": "stream",
     "text": [
      "Процент уникальных значений chain от общего количества = 0.01%\n",
      "Процент уникальных значений object_type от общего количества = 0.06%\n"
     ]
    }
   ],
   "source": [
    "category_list = ['chain', 'object_type']                                    #Список полей с категориальными значениями\n",
    "percent_list = []                                                           #Список для полей у которых будет изменен тип\n",
    "for i in category_list:                                                     #Цикл по полям с категориальными значениями\n",
    "    percent = len(df_final[i].unique()) / len(df_final)                     #процент уникальных значений\n",
    "    print('Процент уникальных значений {} от общего количества = {:0.2%}'\n",
    "        .format(i, percent))\n",
    "    if percent < 50:                                                        #Если процент уникальных значений < 50\n",
    "        percent_list.append(i)                                              #Добавляем поле в список для изменения типа\n",
    "        \n",
    "if len(percent_list) != 0:                                                  #Если список не пустой\n",
    "    for i in percent_list:                                                  #Проходим циклом по списку полей для изменения типа\n",
    "        df_final = df_final.astype({i : 'category'})                        #меняем тип поля на \"category\""
   ]
  },
  {
   "cell_type": "markdown",
   "metadata": {},
   "source": [
    "***Оптимизация типа целочисленных значений***\n",
    "<a id=\"int_type\"></a>"
   ]
  },
  {
   "cell_type": "markdown",
   "metadata": {},
   "source": [
    "Значения поля \"id\" укладываются в диапазон от 0 до 4294967295 (соответствует типу uint32), а \"number\" - в диапазон от 0 до 65535 (соответствует типу uint16). Поскольку числа приведенных типов имеют меньший размер (4 и 2 байта соответственно), чем числа типа int64 (8 байт), целесообразно привести значения к ним:"
   ]
  },
  {
   "cell_type": "code",
   "execution_count": 13,
   "metadata": {},
   "outputs": [],
   "source": [
    "df_final = df_final.astype({'id' : 'uint32', 'number' : 'uint16'})                   #изменение типа данных"
   ]
  },
  {
   "cell_type": "markdown",
   "metadata": {},
   "source": [
    "***Удаление дубликатов***\n",
    "<a id=\"drop_dupl\"></a>"
   ]
  },
  {
   "cell_type": "markdown",
   "metadata": {},
   "source": [
    "Приводим значения текстовых полей к единому (нижнему) регистру:"
   ]
  },
  {
   "cell_type": "code",
   "execution_count": 14,
   "metadata": {},
   "outputs": [],
   "source": [
    "text_list = ['object_name', 'chain', 'object_type', 'address']             #Список полей, содержащих текстовые данные\n",
    "for i in text_list:                                                        #Проходим циклом по списку\n",
    "    df_final[i] = df_final[i].apply(lambda x: x.lower())                   #Переводим в нижний регистр"
   ]
  },
  {
   "cell_type": "markdown",
   "metadata": {},
   "source": [
    "Удаляем дубликаты:"
   ]
  },
  {
   "cell_type": "code",
   "execution_count": 15,
   "metadata": {
    "scrolled": true
   },
   "outputs": [
    {
     "name": "stdout",
     "output_type": "stream",
     "text": [
      "Удалено 85 дубликатов.\n"
     ]
    }
   ],
   "source": [
    "df_final = (\n",
    "    df_final\n",
    "    .drop_duplicates(subset=['object_name', 'chain', 'object_type', 'address', 'number'])      #Удалиение дубликатов по 5 полям\n",
    "    .reset_index()                                                                             #Сброс индексов\n",
    ")\n",
    "print('Удалено {} дубликатов.'.format(df['address'].count() - df_final['address'].count()))\n"
   ]
  },
  {
   "cell_type": "markdown",
   "metadata": {},
   "source": [
    "***Обработка выбросов по количеству посадочных мест***"
   ]
  },
  {
   "cell_type": "code",
   "execution_count": 16,
   "metadata": {},
   "outputs": [
    {
     "data": {
      "image/png": "[encoded data removed]",
      "text/plain": [
       "<Figure size 576x432 with 1 Axes>"
      ]
     },
     "metadata": {
      "needs_background": "light"
     },
     "output_type": "display_data"
    }
   ],
   "source": [
    "plt.figure(figsize = (8,6))                                      #Размер графика            \n",
    "ax1 = sns.boxplot(data=df_final, x='number')                     #Тип графика\n",
    "plt.xlabel('Количество посадочных мест')                         #Подпись оси x\n",
    "plt.show()"
   ]
  },
  {
   "cell_type": "markdown",
   "metadata": {},
   "source": [
    "Присутствуют выбросы за пределы Q3+1,5*IQR. Удаляем их из датафрейма:"
   ]
  },
  {
   "cell_type": "code",
   "execution_count": 17,
   "metadata": {},
   "outputs": [
    {
     "name": "stdout",
     "output_type": "stream",
     "text": [
      "Удалено 1201 выбросов.\n"
     ]
    }
   ],
   "source": [
    "before = df_final['number'].count()                         #Количество строк в датафрейме до удаления\n",
    "q25 = df_final['number'].quantile(0.25)                     #1 квартиль\n",
    "q75 = df_final['number'].quantile(0.75)                     #3 квартиль\n",
    "maximum = q75 + 1.5 * (q75 - q25)                           #Q3+1,5*IQR\n",
    "df_final = df_final.loc[(df_final['number'] <= maximum)].reset_index(drop=True)  #оставляем в таблице значения <= Q3+1,5*IQR\n",
    "print('Удалено {} выбросов.'.format(before - df_final['number'].count()))"
   ]
  },
  {
   "cell_type": "markdown",
   "metadata": {},
   "source": [
    "Выводим описательную статистику для числовых значений:"
   ]
  },
  {
   "cell_type": "code",
   "execution_count": 18,
   "metadata": {
    "scrolled": false
   },
   "outputs": [
    {
     "data": {
      "text/html": [
       "<div>\n",
       "<style scoped>\n",
       "    .dataframe tbody tr th:only-of-type {\n",
       "        vertical-align: middle;\n",
       "    }\n",
       "\n",
       "    .dataframe tbody tr th {\n",
       "        vertical-align: top;\n",
       "    }\n",
       "\n",
       "    .dataframe thead th {\n",
       "        text-align: right;\n",
       "    }\n",
       "</style>\n",
       "<table border=\"1\" class=\"dataframe\">\n",
       "  <thead>\n",
       "    <tr style=\"text-align: right;\">\n",
       "      <th></th>\n",
       "      <th>count</th>\n",
       "      <th>mean</th>\n",
       "      <th>std</th>\n",
       "      <th>min</th>\n",
       "      <th>25%</th>\n",
       "      <th>50%</th>\n",
       "      <th>75%</th>\n",
       "      <th>max</th>\n",
       "    </tr>\n",
       "  </thead>\n",
       "  <tbody>\n",
       "    <tr>\n",
       "      <th>index</th>\n",
       "      <td>14080.0</td>\n",
       "      <td>7867.746946</td>\n",
       "      <td>4483.229834</td>\n",
       "      <td>0.0</td>\n",
       "      <td>3924.75</td>\n",
       "      <td>8094.5</td>\n",
       "      <td>11757.25</td>\n",
       "      <td>15365.0</td>\n",
       "    </tr>\n",
       "    <tr>\n",
       "      <th>id</th>\n",
       "      <td>14080.0</td>\n",
       "      <td>125265.829048</td>\n",
       "      <td>71728.546332</td>\n",
       "      <td>5882.0</td>\n",
       "      <td>28900.50</td>\n",
       "      <td>150882.0</td>\n",
       "      <td>186736.50</td>\n",
       "      <td>223439.0</td>\n",
       "    </tr>\n",
       "    <tr>\n",
       "      <th>number</th>\n",
       "      <td>14080.0</td>\n",
       "      <td>43.314560</td>\n",
       "      <td>39.426121</td>\n",
       "      <td>0.0</td>\n",
       "      <td>11.00</td>\n",
       "      <td>35.0</td>\n",
       "      <td>60.00</td>\n",
       "      <td>178.0</td>\n",
       "    </tr>\n",
       "  </tbody>\n",
       "</table>\n",
       "</div>"
      ],
      "text/plain": [
       "          count           mean           std     min       25%       50%  \\\n",
       "index   14080.0    7867.746946   4483.229834     0.0   3924.75    8094.5   \n",
       "id      14080.0  125265.829048  71728.546332  5882.0  28900.50  150882.0   \n",
       "number  14080.0      43.314560     39.426121     0.0     11.00      35.0   \n",
       "\n",
       "              75%       max  \n",
       "index    11757.25   15365.0  \n",
       "id      186736.50  223439.0  \n",
       "number      60.00     178.0  "
      ]
     },
     "execution_count": 18,
     "metadata": {},
     "output_type": "execute_result"
    }
   ],
   "source": [
    "df_final.describe().T"
   ]
  },
  {
   "cell_type": "markdown",
   "metadata": {},
   "source": [
    "Выводим общую информацию:"
   ]
  },
  {
   "cell_type": "code",
   "execution_count": 19,
   "metadata": {
    "scrolled": true
   },
   "outputs": [
    {
     "name": "stdout",
     "output_type": "stream",
     "text": [
      "<class 'pandas.core.frame.DataFrame'>\n",
      "RangeIndex: 14080 entries, 0 to 14079\n",
      "Data columns (total 7 columns):\n",
      " #   Column       Non-Null Count  Dtype   \n",
      "---  ------       --------------  -----   \n",
      " 0   index        14080 non-null  int64   \n",
      " 1   id           14080 non-null  uint32  \n",
      " 2   object_name  14080 non-null  object  \n",
      " 3   chain        14080 non-null  category\n",
      " 4   object_type  14080 non-null  category\n",
      " 5   address      14080 non-null  object  \n",
      " 6   number       14080 non-null  uint16  \n",
      "dtypes: category(2), int64(1), object(2), uint16(1), uint32(1)\n",
      "memory usage: 5.4 MB\n"
     ]
    }
   ],
   "source": [
    "df_final.info(memory_usage='deep')"
   ]
  },
  {
   "cell_type": "markdown",
   "metadata": {},
   "source": [
    "***Вывод:***  \n",
    "Тип данных полей \"chain\" и \"object_type\" изменен с \"object\" на \"category\".  \n",
    "Типы данных полей \"id\" и \"number\" изменены с \"int64\" на \"uint32\" и \"uint16\" соответственно.  \n",
    "Удалено 85 дубликатов.  \n",
    "Удалено 1201 выбросов по количеству посадочных мест.  \n",
    "В результате оптимизации типов данных размер таблицы уменьшен на 24% (с 7.1 до 5.4 MB).  "
   ]
  },
  {
   "cell_type": "markdown",
   "metadata": {},
   "source": [
    "## Анализ рынка заведений общественного питания\n",
    "<a id=\"analysis\"></a>"
   ]
  },
  {
   "cell_type": "markdown",
   "metadata": {},
   "source": [
    "### Общий анализ рынка заведений общественного питания\n",
    "<a id=\"general_analysis\"></a>"
   ]
  },
  {
   "cell_type": "markdown",
   "metadata": {},
   "source": [
    "***Соотношение видов объектов общественного питания по количеству***\n",
    "<a id=\"number_type\"></a>"
   ]
  },
  {
   "cell_type": "markdown",
   "metadata": {},
   "source": [
    "Рассчитываем количество заведений для каждого вида:"
   ]
  },
  {
   "cell_type": "code",
   "execution_count": 20,
   "metadata": {
    "scrolled": false
   },
   "outputs": [
    {
     "data": {
      "text/html": [
       "<div>\n",
       "<style scoped>\n",
       "    .dataframe tbody tr th:only-of-type {\n",
       "        vertical-align: middle;\n",
       "    }\n",
       "\n",
       "    .dataframe tbody tr th {\n",
       "        vertical-align: top;\n",
       "    }\n",
       "\n",
       "    .dataframe thead th {\n",
       "        text-align: right;\n",
       "    }\n",
       "</style>\n",
       "<table border=\"1\" class=\"dataframe\">\n",
       "  <thead>\n",
       "    <tr style=\"text-align: right;\">\n",
       "      <th></th>\n",
       "      <th>object_type</th>\n",
       "      <th>total_obj</th>\n",
       "      <th>perc</th>\n",
       "    </tr>\n",
       "  </thead>\n",
       "  <tbody>\n",
       "    <tr>\n",
       "      <th>0</th>\n",
       "      <td>кафе</td>\n",
       "      <td>5999</td>\n",
       "      <td>42.606534</td>\n",
       "    </tr>\n",
       "    <tr>\n",
       "      <th>1</th>\n",
       "      <td>ресторан</td>\n",
       "      <td>2029</td>\n",
       "      <td>14.410511</td>\n",
       "    </tr>\n",
       "    <tr>\n",
       "      <th>2</th>\n",
       "      <td>предприятие быстрого обслуживания</td>\n",
       "      <td>1880</td>\n",
       "      <td>13.352273</td>\n",
       "    </tr>\n",
       "    <tr>\n",
       "      <th>3</th>\n",
       "      <td>столовая</td>\n",
       "      <td>1767</td>\n",
       "      <td>12.549716</td>\n",
       "    </tr>\n",
       "    <tr>\n",
       "      <th>4</th>\n",
       "      <td>бар</td>\n",
       "      <td>845</td>\n",
       "      <td>6.001420</td>\n",
       "    </tr>\n",
       "    <tr>\n",
       "      <th>5</th>\n",
       "      <td>буфет</td>\n",
       "      <td>546</td>\n",
       "      <td>3.877841</td>\n",
       "    </tr>\n",
       "    <tr>\n",
       "      <th>6</th>\n",
       "      <td>кафетерий</td>\n",
       "      <td>394</td>\n",
       "      <td>2.798295</td>\n",
       "    </tr>\n",
       "    <tr>\n",
       "      <th>7</th>\n",
       "      <td>закусочная</td>\n",
       "      <td>347</td>\n",
       "      <td>2.464489</td>\n",
       "    </tr>\n",
       "    <tr>\n",
       "      <th>8</th>\n",
       "      <td>магазин (отдел кулинарии)</td>\n",
       "      <td>273</td>\n",
       "      <td>1.938920</td>\n",
       "    </tr>\n",
       "  </tbody>\n",
       "</table>\n",
       "</div>"
      ],
      "text/plain": [
       "                         object_type  total_obj       perc\n",
       "0                               кафе       5999  42.606534\n",
       "1                           ресторан       2029  14.410511\n",
       "2  предприятие быстрого обслуживания       1880  13.352273\n",
       "3                           столовая       1767  12.549716\n",
       "4                                бар        845   6.001420\n",
       "5                              буфет        546   3.877841\n",
       "6                          кафетерий        394   2.798295\n",
       "7                         закусочная        347   2.464489\n",
       "8          магазин (отдел кулинарии)        273   1.938920"
      ]
     },
     "execution_count": 20,
     "metadata": {},
     "output_type": "execute_result"
    }
   ],
   "source": [
    "type_count = (\n",
    "    df_final\n",
    "    .groupby('object_type')['id'].count()                                  #Группируем по типу заведений и считаем их количество\n",
    "    .sort_values(ascending=False)                                          #Сортируем\n",
    "    .reset_index()                                                         #Сброс индексов\n",
    "    .rename(columns={'id': 'total_obj'})                                   #Переименование\n",
    "    .assign(perc = lambda x: x['total_obj'] * 100 / x['total_obj'].sum())  #Добавление поля perc - процент заведений соответствующего типа\n",
    ")\n",
    "type_count"
   ]
  },
  {
   "cell_type": "markdown",
   "metadata": {},
   "source": [
    "Создаем диаграмму:"
   ]
  },
  {
   "cell_type": "code",
   "execution_count": 21,
   "metadata": {},
   "outputs": [
    {
     "data": {
      "image/png": "[encoded data removed]",
      "text/plain": [
       "<Figure size 576x432 with 1 Axes>"
      ]
     },
     "metadata": {
      "needs_background": "light"
     },
     "output_type": "display_data"
    }
   ],
   "source": [
    "plt.figure(figsize = (8,6))\n",
    "clrs = ['cornflowerblue' if x == 'кафе' else 'skyblue' for x in type_count['object_type']]\n",
    "ax = sns.barplot(x='perc', y='object_type', data=type_count,\n",
    "                 order=type_count.sort_values('perc', ascending=False).object_type, palette=clrs)\n",
    "plt.xlim([0, 50])\n",
    "plt.yticks(rotation=45)\n",
    "plt.title(label = 'Сетевая структура наиболее характерна для кафе')\n",
    "plt.xlabel('Сетевых заведений, %')\n",
    "plt.ylabel('Тип заведения')\n",
    "percents = list(type_count['total_obj'])\n",
    "for i, y in enumerate(ax.patches):\n",
    "    label_per = percents[i]\n",
    "    ax.text(y.get_width()+.09, y.get_y()+.3, str(f'{round((y.get_width()), 1)}%'), fontsize=13)\n",
    "    ax.text(y.get_width()+.12, y.get_y()+.7, str(f'({round((label_per), 1)})'), fontsize=10)\n",
    "plt.show()"
   ]
  },
  {
   "cell_type": "markdown",
   "metadata": {},
   "source": [
    "Наибольшее широко в Москве представлены кафе - 42.6%. Реже всего встречаются буфеты (3.9%), кафетерии (2.8%), закусочные (2.5%), магазин (отдел кулинарии) (1.9%)."
   ]
  },
  {
   "cell_type": "markdown",
   "metadata": {},
   "source": [
    "***Соотношение сетевых и несетевых заведений по количеству***\n",
    "<a id=\"chain_nochain\"></a>"
   ]
  },
  {
   "cell_type": "markdown",
   "metadata": {},
   "source": [
    "Рассчитываем количество сетевых и несетевых заведений:"
   ]
  },
  {
   "cell_type": "code",
   "execution_count": 22,
   "metadata": {
    "scrolled": true
   },
   "outputs": [
    {
     "data": {
      "text/html": [
       "<div>\n",
       "<style scoped>\n",
       "    .dataframe tbody tr th:only-of-type {\n",
       "        vertical-align: middle;\n",
       "    }\n",
       "\n",
       "    .dataframe tbody tr th {\n",
       "        vertical-align: top;\n",
       "    }\n",
       "\n",
       "    .dataframe thead th {\n",
       "        text-align: right;\n",
       "    }\n",
       "</style>\n",
       "<table border=\"1\" class=\"dataframe\">\n",
       "  <thead>\n",
       "    <tr style=\"text-align: right;\">\n",
       "      <th></th>\n",
       "      <th>chain</th>\n",
       "      <th>id</th>\n",
       "    </tr>\n",
       "  </thead>\n",
       "  <tbody>\n",
       "    <tr>\n",
       "      <th>0</th>\n",
       "      <td>да</td>\n",
       "      <td>2849</td>\n",
       "    </tr>\n",
       "    <tr>\n",
       "      <th>1</th>\n",
       "      <td>нет</td>\n",
       "      <td>11231</td>\n",
       "    </tr>\n",
       "  </tbody>\n",
       "</table>\n",
       "</div>"
      ],
      "text/plain": [
       "  chain     id\n",
       "0    да   2849\n",
       "1   нет  11231"
      ]
     },
     "execution_count": 22,
     "metadata": {},
     "output_type": "execute_result"
    }
   ],
   "source": [
    "chain_count = (\n",
    "    df_final\n",
    "    .groupby('chain')['id']\n",
    "    .count()\n",
    "    .reset_index()\n",
    ")\n",
    "chain_count"
   ]
  },
  {
   "cell_type": "code",
   "execution_count": 23,
   "metadata": {},
   "outputs": [
    {
     "data": {
      "image/png": "[encoded data removed]",
      "text/plain": [
       "<Figure size 576x432 with 1 Axes>"
      ]
     },
     "metadata": {},
     "output_type": "display_data"
    }
   ],
   "source": [
    "labels = 'Сетевые', 'Несетевые'\n",
    "sizes = list(chain_count['id'])\n",
    "plt.figure(figsize = (8,6))\n",
    "plt.pie(sizes, labels=labels, autopct='%1.1f%%')\n",
    "plt.title(label = 'Большинство заведений - несетевые')\n",
    "plt.show()"
   ]
  },
  {
   "cell_type": "markdown",
   "metadata": {},
   "source": [
    "Сетевой заведения составляют 20.2% от общего числа."
   ]
  },
  {
   "cell_type": "markdown",
   "metadata": {},
   "source": [
    "***Сетевое распространение по видам объектов общественного питания***\n",
    "<a id=\"chain_type\"></a>"
   ]
  },
  {
   "cell_type": "markdown",
   "metadata": {},
   "source": [
    "Рассчитываем количество сетевых заведений для каждого вида:"
   ]
  },
  {
   "cell_type": "code",
   "execution_count": 24,
   "metadata": {
    "scrolled": true
   },
   "outputs": [
    {
     "data": {
      "text/html": [
       "<div>\n",
       "<style scoped>\n",
       "    .dataframe tbody tr th:only-of-type {\n",
       "        vertical-align: middle;\n",
       "    }\n",
       "\n",
       "    .dataframe tbody tr th {\n",
       "        vertical-align: top;\n",
       "    }\n",
       "\n",
       "    .dataframe thead th {\n",
       "        text-align: right;\n",
       "    }\n",
       "</style>\n",
       "<table border=\"1\" class=\"dataframe\">\n",
       "  <thead>\n",
       "    <tr style=\"text-align: right;\">\n",
       "      <th></th>\n",
       "      <th>object_type</th>\n",
       "      <th>total_chain</th>\n",
       "      <th>total_obj</th>\n",
       "      <th>perc</th>\n",
       "    </tr>\n",
       "  </thead>\n",
       "  <tbody>\n",
       "    <tr>\n",
       "      <th>6</th>\n",
       "      <td>предприятие быстрого обслуживания</td>\n",
       "      <td>773</td>\n",
       "      <td>1880</td>\n",
       "      <td>41.117021</td>\n",
       "    </tr>\n",
       "    <tr>\n",
       "      <th>5</th>\n",
       "      <td>магазин (отдел кулинарии)</td>\n",
       "      <td>78</td>\n",
       "      <td>273</td>\n",
       "      <td>28.571429</td>\n",
       "    </tr>\n",
       "    <tr>\n",
       "      <th>7</th>\n",
       "      <td>ресторан</td>\n",
       "      <td>471</td>\n",
       "      <td>2029</td>\n",
       "      <td>23.213406</td>\n",
       "    </tr>\n",
       "    <tr>\n",
       "      <th>3</th>\n",
       "      <td>кафе</td>\n",
       "      <td>1368</td>\n",
       "      <td>5999</td>\n",
       "      <td>22.803801</td>\n",
       "    </tr>\n",
       "    <tr>\n",
       "      <th>2</th>\n",
       "      <td>закусочная</td>\n",
       "      <td>56</td>\n",
       "      <td>347</td>\n",
       "      <td>16.138329</td>\n",
       "    </tr>\n",
       "    <tr>\n",
       "      <th>4</th>\n",
       "      <td>кафетерий</td>\n",
       "      <td>52</td>\n",
       "      <td>394</td>\n",
       "      <td>13.197970</td>\n",
       "    </tr>\n",
       "    <tr>\n",
       "      <th>0</th>\n",
       "      <td>бар</td>\n",
       "      <td>37</td>\n",
       "      <td>845</td>\n",
       "      <td>4.378698</td>\n",
       "    </tr>\n",
       "    <tr>\n",
       "      <th>1</th>\n",
       "      <td>буфет</td>\n",
       "      <td>11</td>\n",
       "      <td>546</td>\n",
       "      <td>2.014652</td>\n",
       "    </tr>\n",
       "    <tr>\n",
       "      <th>8</th>\n",
       "      <td>столовая</td>\n",
       "      <td>3</td>\n",
       "      <td>1767</td>\n",
       "      <td>0.169779</td>\n",
       "    </tr>\n",
       "  </tbody>\n",
       "</table>\n",
       "</div>"
      ],
      "text/plain": [
       "                         object_type  total_chain  total_obj       perc\n",
       "6  предприятие быстрого обслуживания          773       1880  41.117021\n",
       "5          магазин (отдел кулинарии)           78        273  28.571429\n",
       "7                           ресторан          471       2029  23.213406\n",
       "3                               кафе         1368       5999  22.803801\n",
       "2                         закусочная           56        347  16.138329\n",
       "4                          кафетерий           52        394  13.197970\n",
       "0                                бар           37        845   4.378698\n",
       "1                              буфет           11        546   2.014652\n",
       "8                           столовая            3       1767   0.169779"
      ]
     },
     "execution_count": 24,
     "metadata": {},
     "output_type": "execute_result"
    }
   ],
   "source": [
    "type_chain = (\n",
    "    df_final\n",
    "    .loc[df_final['chain'] == 'да']\n",
    "    .groupby(['object_type'])['id'].count()\n",
    "    .reset_index()\n",
    "    .rename(columns={'id': 'total_chain'})\n",
    "    .merge(type_count[['object_type', 'total_obj']], how='inner', left_on='object_type', right_on='object_type')\n",
    "    .assign(perc = lambda x: x['total_chain'] * 100 / x['total_obj'])\n",
    "    .sort_values(by='perc', ascending=False)\n",
    ")\n",
    "type_chain"
   ]
  },
  {
   "cell_type": "markdown",
   "metadata": {},
   "source": [
    "Создаем диаграмму:"
   ]
  },
  {
   "cell_type": "code",
   "execution_count": 25,
   "metadata": {
    "scrolled": true
   },
   "outputs": [
    {
     "data": {
      "image/png": "[encoded data removed]",
      "text/plain": [
       "<Figure size 576x432 with 1 Axes>"
      ]
     },
     "metadata": {
      "needs_background": "light"
     },
     "output_type": "display_data"
    }
   ],
   "source": [
    "plt.figure(figsize = (8,6))\n",
    "clrs = ['cornflowerblue' if x == 'кафе' else 'skyblue' for x in type_chain['object_type']]\n",
    "ax = sns.barplot(x='perc', y='object_type', data=type_chain,\n",
    "                 order=type_chain.sort_values('perc', ascending=False).object_type, palette=clrs)\n",
    "plt.xlim([0, 50])\n",
    "plt.yticks(rotation=45)\n",
    "plt.title(label = 'Среди кафе 22.8% заведений - сетевые')\n",
    "plt.xlabel('Сетевых заведений, %')\n",
    "plt.ylabel('Тип заведения')\n",
    "percents = list(type_chain['total_chain'])\n",
    "for i, y in enumerate(ax.patches):\n",
    "    label_per = percents[i]\n",
    "    ax.text(y.get_width()+.09, y.get_y()+.3, str(f'{round((y.get_width()), 1)}%'), fontsize=13)\n",
    "    ax.text(y.get_width()+.12, y.get_y()+.7, str(f'({round((label_per), 1)})'), fontsize=10)\n",
    "plt.show()"
   ]
  },
  {
   "cell_type": "markdown",
   "metadata": {},
   "source": [
    "Наиболее распространена сетевая структура среди предприятий быстрого обслуживания - 41.1% (773 заведение).  \n",
    "Наименее распространена сетевая структура среди баров 4.4% (37), буфетов - 2.0% (11) и столовых - 0.2% (3 заведения).  \n",
    "Для кафе количество сетевых объектов - 22.8% (1368 заведений)."
   ]
  },
  {
   "cell_type": "markdown",
   "metadata": {},
   "source": [
    "***Количество посадочных мест по сетям***\n",
    "<a id=\"number_chain\"></a>"
   ]
  },
  {
   "cell_type": "markdown",
   "metadata": {},
   "source": [
    "Рассчитываем среднее количество посадочных мест по сетям:"
   ]
  },
  {
   "cell_type": "code",
   "execution_count": 26,
   "metadata": {
    "scrolled": false
   },
   "outputs": [
    {
     "data": {
      "text/html": [
       "<div>\n",
       "<style scoped>\n",
       "    .dataframe tbody tr th:only-of-type {\n",
       "        vertical-align: middle;\n",
       "    }\n",
       "\n",
       "    .dataframe tbody tr th {\n",
       "        vertical-align: top;\n",
       "    }\n",
       "\n",
       "    .dataframe thead th {\n",
       "        text-align: right;\n",
       "    }\n",
       "</style>\n",
       "<table border=\"1\" class=\"dataframe\">\n",
       "  <thead>\n",
       "    <tr style=\"text-align: right;\">\n",
       "      <th></th>\n",
       "      <th>object_name</th>\n",
       "      <th>number</th>\n",
       "    </tr>\n",
       "    <tr>\n",
       "      <th>object_name</th>\n",
       "      <th></th>\n",
       "      <th></th>\n",
       "    </tr>\n",
       "  </thead>\n",
       "  <tbody>\n",
       "    <tr>\n",
       "      <th>beverly hills diner</th>\n",
       "      <td>1</td>\n",
       "      <td>88.000000</td>\n",
       "    </tr>\n",
       "    <tr>\n",
       "      <th>bierloga</th>\n",
       "      <td>1</td>\n",
       "      <td>75.000000</td>\n",
       "    </tr>\n",
       "    <tr>\n",
       "      <th>black &amp; white</th>\n",
       "      <td>1</td>\n",
       "      <td>40.000000</td>\n",
       "    </tr>\n",
       "    <tr>\n",
       "      <th>bocconcino</th>\n",
       "      <td>3</td>\n",
       "      <td>66.666667</td>\n",
       "    </tr>\n",
       "    <tr>\n",
       "      <th>boobo</th>\n",
       "      <td>1</td>\n",
       "      <td>46.000000</td>\n",
       "    </tr>\n",
       "  </tbody>\n",
       "</table>\n",
       "</div>"
      ],
      "text/plain": [
       "                     object_name     number\n",
       "object_name                                \n",
       "beverly hills diner            1  88.000000\n",
       "bierloga                       1  75.000000\n",
       "black & white                  1  40.000000\n",
       "bocconcino                     3  66.666667\n",
       "boobo                          1  46.000000"
      ]
     },
     "execution_count": 26,
     "metadata": {},
     "output_type": "execute_result"
    }
   ],
   "source": [
    "chain_number = df_final[df_final['chain'] == 'да'].groupby('object_name').agg({'object_name':'count', 'number':'mean'})\n",
    "chain_number.head()"
   ]
  },
  {
   "cell_type": "markdown",
   "metadata": {},
   "source": [
    "Строим точечную диаграмму распределения среднего количества мест по сетям:"
   ]
  },
  {
   "cell_type": "code",
   "execution_count": 27,
   "metadata": {
    "scrolled": false
   },
   "outputs": [
    {
     "data": {
      "image/png": "[encoded data removed]",
      "text/plain": [
       "<Figure size 576x432 with 1 Axes>"
      ]
     },
     "metadata": {
      "needs_background": "light"
     },
     "output_type": "display_data"
    },
    {
     "name": "stdout",
     "output_type": "stream",
     "text": [
      "У 80% сетей число заведений не более 4, а среднее количество посадочных мест не превышает 85.\n"
     ]
    }
   ],
   "source": [
    "plt.figure(figsize = (8,6))\n",
    "ax = sns.scatterplot(x='object_name', y='number', data=chain_number, color='cornflowerblue')\n",
    "plt.xticks(rotation=45)\n",
    "percent = 80\n",
    "plt.axhline(np.percentile(chain_number['number'], percent), linestyle=':', color='black', label='Уровень {}% посадочных мест в заведении'.format(percent))\n",
    "plt.axvline(np.percentile(chain_number['object_name'], percent), linestyle='--', color='black', label='Уровень {}% количества заведений в сети'.format(percent))\n",
    "plt.title(label = 'Для сетей характерно небольшое количество заведений с большим числом посадочных мест')\n",
    "plt.xlabel('Заведений в сети')\n",
    "plt.ylabel('Среднее количество посадочных мест')\n",
    "plt.legend(loc=\"upper right\")\n",
    "plt.show()\n",
    "print('У {}% сетей число заведений не более {}, а среднее количество посадочных мест не превышает {}.'\n",
    "      .format(percent, int(np.percentile(chain_number['object_name'], percent)), int(np.percentile(chain_number['number'], percent))))"
   ]
  },
  {
   "cell_type": "markdown",
   "metadata": {},
   "source": [
    "***Среднее количество посадочных мест по типу заведений***\n",
    "<a id=\"mean_number_type\"></a>"
   ]
  },
  {
   "cell_type": "markdown",
   "metadata": {},
   "source": [
    "Рассчитываем среднее количество мест по типу заведений:"
   ]
  },
  {
   "cell_type": "code",
   "execution_count": 28,
   "metadata": {
    "scrolled": true
   },
   "outputs": [
    {
     "data": {
      "text/html": [
       "<div>\n",
       "<style scoped>\n",
       "    .dataframe tbody tr th:only-of-type {\n",
       "        vertical-align: middle;\n",
       "    }\n",
       "\n",
       "    .dataframe tbody tr th {\n",
       "        vertical-align: top;\n",
       "    }\n",
       "\n",
       "    .dataframe thead th {\n",
       "        text-align: right;\n",
       "    }\n",
       "</style>\n",
       "<table border=\"1\" class=\"dataframe\">\n",
       "  <thead>\n",
       "    <tr style=\"text-align: right;\">\n",
       "      <th></th>\n",
       "      <th>object_type</th>\n",
       "      <th>mean_number</th>\n",
       "    </tr>\n",
       "  </thead>\n",
       "  <tbody>\n",
       "    <tr>\n",
       "      <th>0</th>\n",
       "      <td>магазин (отдел кулинарии)</td>\n",
       "      <td>5.589744</td>\n",
       "    </tr>\n",
       "    <tr>\n",
       "      <th>1</th>\n",
       "      <td>закусочная</td>\n",
       "      <td>7.247839</td>\n",
       "    </tr>\n",
       "    <tr>\n",
       "      <th>2</th>\n",
       "      <td>кафетерий</td>\n",
       "      <td>8.700508</td>\n",
       "    </tr>\n",
       "    <tr>\n",
       "      <th>3</th>\n",
       "      <td>предприятие быстрого обслуживания</td>\n",
       "      <td>18.609043</td>\n",
       "    </tr>\n",
       "    <tr>\n",
       "      <th>4</th>\n",
       "      <td>кафе</td>\n",
       "      <td>37.397233</td>\n",
       "    </tr>\n",
       "    <tr>\n",
       "      <th>5</th>\n",
       "      <td>бар</td>\n",
       "      <td>39.566864</td>\n",
       "    </tr>\n",
       "    <tr>\n",
       "      <th>6</th>\n",
       "      <td>буфет</td>\n",
       "      <td>41.492674</td>\n",
       "    </tr>\n",
       "    <tr>\n",
       "      <th>7</th>\n",
       "      <td>ресторан</td>\n",
       "      <td>73.127649</td>\n",
       "    </tr>\n",
       "    <tr>\n",
       "      <th>8</th>\n",
       "      <td>столовая</td>\n",
       "      <td>78.440294</td>\n",
       "    </tr>\n",
       "  </tbody>\n",
       "</table>\n",
       "</div>"
      ],
      "text/plain": [
       "                         object_type  mean_number\n",
       "0          магазин (отдел кулинарии)     5.589744\n",
       "1                         закусочная     7.247839\n",
       "2                          кафетерий     8.700508\n",
       "3  предприятие быстрого обслуживания    18.609043\n",
       "4                               кафе    37.397233\n",
       "5                                бар    39.566864\n",
       "6                              буфет    41.492674\n",
       "7                           ресторан    73.127649\n",
       "8                           столовая    78.440294"
      ]
     },
     "execution_count": 28,
     "metadata": {},
     "output_type": "execute_result"
    }
   ],
   "source": [
    "type_number = (\n",
    "    df_final\n",
    "    .groupby(['object_type'])['number'].mean()\n",
    "    .sort_values()\n",
    "    .reset_index()\n",
    "    .rename(columns={'number': 'mean_number'})\n",
    ")\n",
    "type_number"
   ]
  },
  {
   "cell_type": "markdown",
   "metadata": {},
   "source": [
    "Строим диаграмму:"
   ]
  },
  {
   "cell_type": "code",
   "execution_count": 29,
   "metadata": {},
   "outputs": [
    {
     "data": {
      "image/png": "[encoded data removed]",
      "text/plain": [
       "<Figure size 576x432 with 1 Axes>"
      ]
     },
     "metadata": {
      "needs_background": "light"
     },
     "output_type": "display_data"
    }
   ],
   "source": [
    "plt.figure(figsize = (8,6))\n",
    "clrs = ['cornflowerblue' if x == 'кафе' else 'skyblue' for x in type_number['object_type']]\n",
    "ax = sns.barplot(x='mean_number', y='object_type', data=type_number,\n",
    "                 order=type_number.sort_values('mean_number', ascending=False).object_type, palette=clrs)\n",
    "plt.xlim([0, 150])\n",
    "plt.yticks(rotation=45)\n",
    "plt.title(label = 'Среднее количество посадочных мест в кафе - 37.4')\n",
    "plt.xlabel('Среднее количество посадочных мест')\n",
    "plt.ylabel('Тип заведения')\n",
    "for p in ax.patches:\n",
    "    ax.annotate(\"%.1f\" % p.get_width(), xy=(p.get_width(), p.get_y()+p.get_height()/2),\n",
    "            xytext=(3, 0), textcoords='offset points', ha=\"left\", va=\"center\")\n",
    "plt.show()"
   ]
  },
  {
   "cell_type": "markdown",
   "metadata": {},
   "source": [
    "Наибольшее среднее количество посадочных мест имеют столовые - 78.4 и рестораны - 73.1.  \n",
    "Наименьшее среднее количество посадочных мест имеют кафетерии - 8.7, закусочные - 7.2 и магазины (отдел кулинарии) - 5.6.  \n",
    "Среднее количество посадочных мест для кафе - 37.4."
   ]
  },
  {
   "cell_type": "markdown",
   "metadata": {},
   "source": [
    "### Анализ заведений общественного питания по месту расположения\n",
    "<a id=\"address\"></a>"
   ]
  },
  {
   "cell_type": "markdown",
   "metadata": {},
   "source": [
    "Добавляем в датафрейм поле, содержащее названия улиц, на которых расположены соответствующие заведения:"
   ]
  },
  {
   "cell_type": "code",
   "execution_count": 30,
   "metadata": {},
   "outputs": [],
   "source": [
    "def street_search(address):\n",
    "    street = []\n",
    "    for i in address.split(','):\n",
    "        for j in street_list:\n",
    "            if j.lower() in i.lower():\n",
    "                return i.strip()"
   ]
  },
  {
   "cell_type": "code",
   "execution_count": 31,
   "metadata": {},
   "outputs": [],
   "source": [
    "street_list = ['набережная', 'бульвар', 'проспект', 'просек', 'шоссе', \n",
    "'проезд', 'площадь','квартал', 'улица', 'аллея', 'линия', 'мост', 'тупик', 'переулок']\n",
    "df_final['street'] = df_final['address'].apply(street_search)"
   ]
  },
  {
   "cell_type": "markdown",
   "metadata": {},
   "source": [
    "***Адреса без указания улиц***\n",
    "<a id=\"no_street\"></a>"
   ]
  },
  {
   "cell_type": "markdown",
   "metadata": {},
   "source": [
    "Находим нестоположение объектов, в адресах которых не указана улица:"
   ]
  },
  {
   "cell_type": "code",
   "execution_count": 32,
   "metadata": {
    "scrolled": false
   },
   "outputs": [],
   "source": [
    "df_no_street = (\n",
    "    df_final\n",
    "    .loc[df_final['street'].isna()]\n",
    "    .reset_index()\n",
    ")\n",
    "df_no_street['no_street'] = df_no_street['address'].apply(lambda adr: adr.split(',')[1].strip())\n"
   ]
  },
  {
   "cell_type": "code",
   "execution_count": 33,
   "metadata": {
    "scrolled": true
   },
   "outputs": [
    {
     "name": "stdout",
     "output_type": "stream",
     "text": [
      "Местоположение объектов, в адресах которых не указана улица:\n",
      "- 104-й километр московской кольцевой автодороги\n",
      "- 19-й километр московской кольцевой автодороги\n",
      "- 26-й километр московской кольцевой автодороги\n",
      "- 28-й километр московской кольцевой автодороги\n",
      "- 30-й километр московской кольцевой автодороги\n",
      "- 31-й километр московской кольцевой автодороги\n",
      "- 33-й километр московской кольцевой автодороги\n",
      "- 34-й километр московской кольцевой автодороги\n",
      "- 38-й километр московской кольцевой автодороги\n",
      "- 42-й километр московской кольцевой автодороги\n",
      "- 56-й километр московской кольцевой автодороги\n",
      "- 65-й километр московской кольцевой автодороги\n",
      "- 67-й километр московской кольцевой автодороги\n",
      "- 73-й километр московской кольцевой автодороги\n",
      "- 74-й километр московской кольцевой автодороги\n",
      "- 78-й километр московской кольцевой автодороги\n",
      "- 80-й километр московской кольцевой автодороги\n",
      "- 82-й километр московской кольцевой автодороги\n",
      "- 87-й километр московской кольцевой автодороги\n",
      "- город зеленоград\n",
      "- город московский\n",
      "- город троицк\n",
      "- деревня давыдково\n",
      "- деревня дудкино\n",
      "- деревня сенькино-секерино\n",
      "- деревня столбово\n",
      "- микрорайон северное чертаново\n",
      "- поселение \"мосрентген\"\n",
      "- поселение внуковское\n",
      "- поселение вороновское\n",
      "- поселение воскресенское\n",
      "- поселение десеновское\n",
      "- поселение киевский\n",
      "- поселение краснопахорское\n",
      "- поселение марушкинское\n",
      "- поселение михайлово-ярцевское\n",
      "- поселение московский\n",
      "- поселение новофедоровское\n",
      "- поселение роговское\n",
      "- поселение рязановское\n",
      "- поселение сосенское\n",
      "- поселение филимонковское\n",
      "- поселение щаповское\n",
      "- посёлок акулово\n",
      "- территория ленинские горы\n"
     ]
    }
   ],
   "source": [
    "list_no_street = sorted(list(df_no_street['no_street'].unique()))\n",
    "print('Местоположение объектов, в адресах которых не указана улица:')\n",
    "for i in list_no_street:\n",
    "    print('- {}'.format(i))"
   ]
  },
  {
   "cell_type": "markdown",
   "metadata": {},
   "source": [
    "Находим количество адресов, в которых не указаны улицы:"
   ]
  },
  {
   "cell_type": "code",
   "execution_count": 34,
   "metadata": {},
   "outputs": [
    {
     "name": "stdout",
     "output_type": "stream",
     "text": [
      "Количество адресов без указания улиц: 346.\n"
     ]
    }
   ],
   "source": [
    "print('Количество адресов без указания улиц: {}.'.format(df_no_street['id'].count()))"
   ]
  },
  {
   "cell_type": "markdown",
   "metadata": {},
   "source": [
    "***Топ-10 улиц по количеству объектов общественного питания***\n",
    "<a id=\"top_10\"></a>"
   ]
  },
  {
   "cell_type": "markdown",
   "metadata": {},
   "source": [
    "Находим десять улиц, на которых располагаются наибольшее количество заведений:"
   ]
  },
  {
   "cell_type": "code",
   "execution_count": 35,
   "metadata": {
    "scrolled": true
   },
   "outputs": [],
   "source": [
    "all_street = (\n",
    "    df_final\n",
    "    .groupby('street')['id'].count()\n",
    "    .sort_values(ascending=False)\n",
    "    .reset_index()\n",
    "    .rename(columns={'id': 'total'})\n",
    ")\n",
    "top_street = all_street.iloc[0:10,]"
   ]
  },
  {
   "cell_type": "code",
   "execution_count": 36,
   "metadata": {},
   "outputs": [
    {
     "data": {
      "text/html": [
       "<div>\n",
       "<style scoped>\n",
       "    .dataframe tbody tr th:only-of-type {\n",
       "        vertical-align: middle;\n",
       "    }\n",
       "\n",
       "    .dataframe tbody tr th {\n",
       "        vertical-align: top;\n",
       "    }\n",
       "\n",
       "    .dataframe thead th {\n",
       "        text-align: right;\n",
       "    }\n",
       "</style>\n",
       "<table border=\"1\" class=\"dataframe\">\n",
       "  <thead>\n",
       "    <tr style=\"text-align: right;\">\n",
       "      <th></th>\n",
       "      <th>street</th>\n",
       "      <th>total</th>\n",
       "    </tr>\n",
       "  </thead>\n",
       "  <tbody>\n",
       "    <tr>\n",
       "      <th>0</th>\n",
       "      <td>проспект мира</td>\n",
       "      <td>192</td>\n",
       "    </tr>\n",
       "    <tr>\n",
       "      <th>1</th>\n",
       "      <td>профсоюзная улица</td>\n",
       "      <td>171</td>\n",
       "    </tr>\n",
       "    <tr>\n",
       "      <th>2</th>\n",
       "      <td>ленинградский проспект</td>\n",
       "      <td>167</td>\n",
       "    </tr>\n",
       "    <tr>\n",
       "      <th>3</th>\n",
       "      <td>пресненская набережная</td>\n",
       "      <td>160</td>\n",
       "    </tr>\n",
       "    <tr>\n",
       "      <th>4</th>\n",
       "      <td>варшавское шоссе</td>\n",
       "      <td>154</td>\n",
       "    </tr>\n",
       "    <tr>\n",
       "      <th>5</th>\n",
       "      <td>ленинский проспект</td>\n",
       "      <td>138</td>\n",
       "    </tr>\n",
       "    <tr>\n",
       "      <th>6</th>\n",
       "      <td>проспект вернадского</td>\n",
       "      <td>119</td>\n",
       "    </tr>\n",
       "    <tr>\n",
       "      <th>7</th>\n",
       "      <td>кутузовский проспект</td>\n",
       "      <td>105</td>\n",
       "    </tr>\n",
       "    <tr>\n",
       "      <th>8</th>\n",
       "      <td>каширское шоссе</td>\n",
       "      <td>103</td>\n",
       "    </tr>\n",
       "    <tr>\n",
       "      <th>9</th>\n",
       "      <td>ходынский бульвар</td>\n",
       "      <td>101</td>\n",
       "    </tr>\n",
       "  </tbody>\n",
       "</table>\n",
       "</div>"
      ],
      "text/plain": [
       "                   street  total\n",
       "0           проспект мира    192\n",
       "1       профсоюзная улица    171\n",
       "2  ленинградский проспект    167\n",
       "3  пресненская набережная    160\n",
       "4        варшавское шоссе    154\n",
       "5      ленинский проспект    138\n",
       "6    проспект вернадского    119\n",
       "7    кутузовский проспект    105\n",
       "8         каширское шоссе    103\n",
       "9       ходынский бульвар    101"
      ]
     },
     "execution_count": 36,
     "metadata": {},
     "output_type": "execute_result"
    }
   ],
   "source": [
    "top_street"
   ]
  },
  {
   "cell_type": "markdown",
   "metadata": {},
   "source": [
    "Строим диаграмму:"
   ]
  },
  {
   "cell_type": "code",
   "execution_count": 37,
   "metadata": {
    "scrolled": false
   },
   "outputs": [
    {
     "data": {
      "image/png": "[encoded data removed]",
      "text/plain": [
       "<Figure size 576x432 with 1 Axes>"
      ]
     },
     "metadata": {
      "needs_background": "light"
     },
     "output_type": "display_data"
    }
   ],
   "source": [
    "plt.figure(figsize = (8,6))\n",
    "ax = sns.barplot(x='total', y='street', data=top_street,\n",
    "                 order=top_street.sort_values('total', ascending=False).street, color='cornflowerblue')\n",
    "plt.xlim([0, 225])\n",
    "plt.yticks(rotation=45)\n",
    "plt.title(label = 'Топ-10 улиц по количеству заведений')\n",
    "plt.xlabel('Заведений')\n",
    "plt.ylabel('Улица')\n",
    "for p in ax.patches:\n",
    "    ax.annotate(\"%.0f\" % p.get_width(), xy=(p.get_width(), p.get_y()+p.get_height()/2),\n",
    "            xytext=(3, 0), textcoords='offset points', ha=\"left\", va=\"center\")\n",
    "plt.show()"
   ]
  },
  {
   "cell_type": "markdown",
   "metadata": {},
   "source": [
    "Наибольшее количество объектов располагается на следующих улицах: проспект Мира - 192, Профсоюзная улица - 171, Ленинградский проспект - 167 и Пресненская набережная - 160."
   ]
  },
  {
   "cell_type": "markdown",
   "metadata": {},
   "source": [
    "Находим районы Москвы, через которые проходят топ-10 улиц по количеству заведений:"
   ]
  },
  {
   "cell_type": "code",
   "execution_count": 38,
   "metadata": {},
   "outputs": [],
   "source": [
    "def district_print(arr):\n",
    "    district_list = list(top_street_district.loc[top_street_district['street'] == i, 'area'])\n",
    "    return district_list"
   ]
  },
  {
   "cell_type": "code",
   "execution_count": 39,
   "metadata": {
    "scrolled": false
   },
   "outputs": [
    {
     "name": "stdout",
     "output_type": "stream",
     "text": [
      "Районы, в которых находится проспект мира:\n",
      "- алексеевский район\n",
      "- ярославский район\n",
      "- район марьина роща\n",
      "- останкинский район\n",
      "- район ростокино\n",
      "- район свиблово\n",
      "- мещанский район\n",
      "\n",
      "Районы, в которых находится профсоюзная улица:\n",
      "- академический район\n",
      "- район черемушки\n",
      "- район ясенево\n",
      "- район коньково\n",
      "- обручевский район\n",
      "- район теплый стан\n",
      "\n",
      "Районы, в которых находится ленинградский проспект:\n",
      "- район аэропорт\n",
      "- район беговой\n",
      "- хорошевский район\n",
      "- район сокол\n",
      "\n",
      "Районы, в которых находится пресненская набережная:\n",
      "- пресненский район\n",
      "\n",
      "Районы, в которых находится варшавское шоссе:\n",
      "- район чертаново центральное\n",
      "- район чертаново северное\n",
      "- район чертаново южное\n",
      "- донской район\n",
      "- район нагатино-садовники\n",
      "- нагорный район\n",
      "- район северное бутово\n",
      "- район южное бутово\n",
      "\n",
      "Районы, в которых находится ленинский проспект:\n",
      "- район проспект вернадского\n",
      "- район тропарево-никулино\n",
      "- донской район\n",
      "- район гагаринский\n",
      "- ломоносовский район\n",
      "- обручевский район\n",
      "- район теплый стан\n",
      "- район якиманка\n",
      "\n",
      "Районы, в которых находится проспект вернадского:\n",
      "- район проспект вернадского\n",
      "- район раменки\n",
      "- район тропарево-никулино\n",
      "- район гагаринский\n",
      "- ломоносовский район\n",
      "\n",
      "Районы, в которых находится кутузовский проспект:\n",
      "- район дорогомилово\n",
      "- район фили-давыдково\n",
      "\n",
      "Районы, в которых находится каширское шоссе:\n",
      "- район москворечье-сабурово\n",
      "- район нагатино-садовники\n",
      "- район орехово-борисово южное\n",
      "- район орехово-борисово северное\n",
      "\n",
      "Районы, в которых находится ходынский бульвар:\n",
      "- хорошевский район\n",
      "\n"
     ]
    }
   ],
   "source": [
    "text_district_list = ['streetname', 'okrug', 'area']\n",
    "for i in text_district_list:\n",
    "    df_district[i] = df_district[i].apply(lambda x: x.lower())\n",
    "\n",
    "top_street_district = top_street.merge(df_district, how='left', left_on='street', right_on='streetname')\n",
    "top_street_list = list(top_street['street'].unique())\n",
    "for i in top_street_list:\n",
    "    print('Районы, в которых находится {}:'.format(i))\n",
    "    for j in district_print(i):\n",
    "        print('- {}'.format(j))\n",
    "    print()"
   ]
  },
  {
   "cell_type": "code",
   "execution_count": 40,
   "metadata": {},
   "outputs": [
    {
     "data": {
      "text/html": [
       "<div>\n",
       "<style scoped>\n",
       "    .dataframe tbody tr th:only-of-type {\n",
       "        vertical-align: middle;\n",
       "    }\n",
       "\n",
       "    .dataframe tbody tr th {\n",
       "        vertical-align: top;\n",
       "    }\n",
       "\n",
       "    .dataframe thead th {\n",
       "        text-align: right;\n",
       "    }\n",
       "</style>\n",
       "<table border=\"1\" class=\"dataframe\">\n",
       "  <thead>\n",
       "    <tr style=\"text-align: right;\">\n",
       "      <th></th>\n",
       "      <th>Улица</th>\n",
       "      <th>Количество заведений</th>\n",
       "      <th>Районов</th>\n",
       "      <th>mean_street</th>\n",
       "    </tr>\n",
       "  </thead>\n",
       "  <tbody>\n",
       "    <tr>\n",
       "      <th>0</th>\n",
       "      <td>пресненская набережная</td>\n",
       "      <td>160</td>\n",
       "      <td>1</td>\n",
       "      <td>160.000000</td>\n",
       "    </tr>\n",
       "    <tr>\n",
       "      <th>1</th>\n",
       "      <td>ходынский бульвар</td>\n",
       "      <td>101</td>\n",
       "      <td>1</td>\n",
       "      <td>101.000000</td>\n",
       "    </tr>\n",
       "    <tr>\n",
       "      <th>2</th>\n",
       "      <td>кутузовский проспект</td>\n",
       "      <td>105</td>\n",
       "      <td>2</td>\n",
       "      <td>52.500000</td>\n",
       "    </tr>\n",
       "    <tr>\n",
       "      <th>3</th>\n",
       "      <td>ленинградский проспект</td>\n",
       "      <td>167</td>\n",
       "      <td>4</td>\n",
       "      <td>41.750000</td>\n",
       "    </tr>\n",
       "    <tr>\n",
       "      <th>4</th>\n",
       "      <td>профсоюзная улица</td>\n",
       "      <td>171</td>\n",
       "      <td>6</td>\n",
       "      <td>28.500000</td>\n",
       "    </tr>\n",
       "    <tr>\n",
       "      <th>5</th>\n",
       "      <td>проспект мира</td>\n",
       "      <td>192</td>\n",
       "      <td>7</td>\n",
       "      <td>27.428571</td>\n",
       "    </tr>\n",
       "    <tr>\n",
       "      <th>6</th>\n",
       "      <td>каширское шоссе</td>\n",
       "      <td>103</td>\n",
       "      <td>4</td>\n",
       "      <td>25.750000</td>\n",
       "    </tr>\n",
       "    <tr>\n",
       "      <th>7</th>\n",
       "      <td>проспект вернадского</td>\n",
       "      <td>119</td>\n",
       "      <td>5</td>\n",
       "      <td>23.800000</td>\n",
       "    </tr>\n",
       "    <tr>\n",
       "      <th>8</th>\n",
       "      <td>варшавское шоссе</td>\n",
       "      <td>154</td>\n",
       "      <td>8</td>\n",
       "      <td>19.250000</td>\n",
       "    </tr>\n",
       "    <tr>\n",
       "      <th>9</th>\n",
       "      <td>ленинский проспект</td>\n",
       "      <td>138</td>\n",
       "      <td>8</td>\n",
       "      <td>17.250000</td>\n",
       "    </tr>\n",
       "  </tbody>\n",
       "</table>\n",
       "</div>"
      ],
      "text/plain": [
       "                    Улица  Количество заведений  Районов  mean_street\n",
       "0  пресненская набережная                   160        1   160.000000\n",
       "1       ходынский бульвар                   101        1   101.000000\n",
       "2    кутузовский проспект                   105        2    52.500000\n",
       "3  ленинградский проспект                   167        4    41.750000\n",
       "4       профсоюзная улица                   171        6    28.500000\n",
       "5           проспект мира                   192        7    27.428571\n",
       "6         каширское шоссе                   103        4    25.750000\n",
       "7    проспект вернадского                   119        5    23.800000\n",
       "8        варшавское шоссе                   154        8    19.250000\n",
       "9      ленинский проспект                   138        8    17.250000"
      ]
     },
     "execution_count": 40,
     "metadata": {},
     "output_type": "execute_result"
    }
   ],
   "source": [
    "top_street_fraction = (\n",
    "    top_street_district\n",
    "    .groupby('street')\n",
    "    .agg({'total' : 'mean', 'area' : 'nunique'})\n",
    "    .assign(mean_street=lambda x: x['total'] / x['area'])\n",
    "    .sort_values(by='mean_street', ascending=False)\n",
    "    .reset_index()\n",
    "    . rename(columns={'street':'Улица', 'total' : 'Количество заведений', 'area' : 'Районов'})\n",
    ")\n",
    "top_street_fraction"
   ]
  },
  {
   "cell_type": "markdown",
   "metadata": {},
   "source": [
    "Для топ-10 улиц рассчитываем среднее количество заведений на район:"
   ]
  },
  {
   "cell_type": "code",
   "execution_count": 41,
   "metadata": {
    "scrolled": false
   },
   "outputs": [
    {
     "data": {
      "text/html": [
       "<div>\n",
       "<style scoped>\n",
       "    .dataframe tbody tr th:only-of-type {\n",
       "        vertical-align: middle;\n",
       "    }\n",
       "\n",
       "    .dataframe tbody tr th {\n",
       "        vertical-align: top;\n",
       "    }\n",
       "\n",
       "    .dataframe thead th {\n",
       "        text-align: right;\n",
       "    }\n",
       "</style>\n",
       "<table border=\"1\" class=\"dataframe\">\n",
       "  <thead>\n",
       "    <tr style=\"text-align: right;\">\n",
       "      <th></th>\n",
       "      <th>street</th>\n",
       "      <th>total</th>\n",
       "      <th>area</th>\n",
       "      <th>mean_street</th>\n",
       "    </tr>\n",
       "  </thead>\n",
       "  <tbody>\n",
       "    <tr>\n",
       "      <th>0</th>\n",
       "      <td>пресненская набережная</td>\n",
       "      <td>160</td>\n",
       "      <td>1</td>\n",
       "      <td>160.000000</td>\n",
       "    </tr>\n",
       "    <tr>\n",
       "      <th>1</th>\n",
       "      <td>ходынский бульвар</td>\n",
       "      <td>101</td>\n",
       "      <td>1</td>\n",
       "      <td>101.000000</td>\n",
       "    </tr>\n",
       "    <tr>\n",
       "      <th>2</th>\n",
       "      <td>кутузовский проспект</td>\n",
       "      <td>105</td>\n",
       "      <td>2</td>\n",
       "      <td>52.500000</td>\n",
       "    </tr>\n",
       "    <tr>\n",
       "      <th>3</th>\n",
       "      <td>ленинградский проспект</td>\n",
       "      <td>167</td>\n",
       "      <td>4</td>\n",
       "      <td>41.750000</td>\n",
       "    </tr>\n",
       "    <tr>\n",
       "      <th>4</th>\n",
       "      <td>профсоюзная улица</td>\n",
       "      <td>171</td>\n",
       "      <td>6</td>\n",
       "      <td>28.500000</td>\n",
       "    </tr>\n",
       "    <tr>\n",
       "      <th>5</th>\n",
       "      <td>проспект мира</td>\n",
       "      <td>192</td>\n",
       "      <td>7</td>\n",
       "      <td>27.428571</td>\n",
       "    </tr>\n",
       "    <tr>\n",
       "      <th>6</th>\n",
       "      <td>каширское шоссе</td>\n",
       "      <td>103</td>\n",
       "      <td>4</td>\n",
       "      <td>25.750000</td>\n",
       "    </tr>\n",
       "    <tr>\n",
       "      <th>7</th>\n",
       "      <td>проспект вернадского</td>\n",
       "      <td>119</td>\n",
       "      <td>5</td>\n",
       "      <td>23.800000</td>\n",
       "    </tr>\n",
       "    <tr>\n",
       "      <th>8</th>\n",
       "      <td>варшавское шоссе</td>\n",
       "      <td>154</td>\n",
       "      <td>8</td>\n",
       "      <td>19.250000</td>\n",
       "    </tr>\n",
       "    <tr>\n",
       "      <th>9</th>\n",
       "      <td>ленинский проспект</td>\n",
       "      <td>138</td>\n",
       "      <td>8</td>\n",
       "      <td>17.250000</td>\n",
       "    </tr>\n",
       "  </tbody>\n",
       "</table>\n",
       "</div>"
      ],
      "text/plain": [
       "                   street  total  area  mean_street\n",
       "0  пресненская набережная    160     1   160.000000\n",
       "1       ходынский бульвар    101     1   101.000000\n",
       "2    кутузовский проспект    105     2    52.500000\n",
       "3  ленинградский проспект    167     4    41.750000\n",
       "4       профсоюзная улица    171     6    28.500000\n",
       "5           проспект мира    192     7    27.428571\n",
       "6         каширское шоссе    103     4    25.750000\n",
       "7    проспект вернадского    119     5    23.800000\n",
       "8        варшавское шоссе    154     8    19.250000\n",
       "9      ленинский проспект    138     8    17.250000"
      ]
     },
     "execution_count": 41,
     "metadata": {},
     "output_type": "execute_result"
    }
   ],
   "source": [
    "top_street_fraction = (\n",
    "    top_street_district\n",
    "    .groupby('street')\n",
    "    .agg({'total' : 'mean', 'area' : 'nunique'})\n",
    "    .assign(mean_street=lambda x: x['total'] / x['area'])\n",
    "    .sort_values(by='mean_street', ascending=False)\n",
    "    .reset_index()\n",
    ")\n",
    "top_street_fraction"
   ]
  },
  {
   "cell_type": "markdown",
   "metadata": {},
   "source": [
    "Количество районов, через которые проходит каждая из топ-10 улиц варьируется от 1 до 8."
   ]
  },
  {
   "cell_type": "markdown",
   "metadata": {},
   "source": [
    "Строим диаграмму:"
   ]
  },
  {
   "cell_type": "code",
   "execution_count": 42,
   "metadata": {},
   "outputs": [
    {
     "data": {
      "image/png": "[encoded data removed]",
      "text/plain": [
       "<Figure size 576x432 with 1 Axes>"
      ]
     },
     "metadata": {
      "needs_background": "light"
     },
     "output_type": "display_data"
    }
   ],
   "source": [
    "plt.figure(figsize = (8,6))\n",
    "ax = sns.barplot(x='mean_street', y='street', data=top_street_fraction,\n",
    "                 order=top_street_fraction.sort_values('mean_street', ascending=False).street, color='cornflowerblue')\n",
    "plt.xlim([0, 190])\n",
    "plt.yticks(rotation=45)\n",
    "plt.title(label = 'Наибольшая концентрация заведений - на Пресненской набережной')\n",
    "plt.xlabel('Среднее количество заведений на район')\n",
    "plt.ylabel('Улица')\n",
    "for p in ax.patches:\n",
    "    ax.annotate(\"%.1f\" % p.get_width(), xy=(p.get_width(), p.get_y()+p.get_height()/2),\n",
    "            xytext=(3, 0), textcoords='offset points', ha=\"left\", va=\"center\")\n",
    "plt.show()"
   ]
  },
  {
   "cell_type": "markdown",
   "metadata": {},
   "source": [
    "Наибольшее количество заведений расположено на проспекте мира - 192. При этом наибольшая плотность заведений наблюдается в комплексе Москва-Сити - на Пресненской набережной - 160 заведений на район."
   ]
  },
  {
   "cell_type": "markdown",
   "metadata": {},
   "source": [
    "***Улицы, на которых расположено по одному объекту общественного питания***\n",
    "<a id=\"one_object_streets\"></a>"
   ]
  },
  {
   "cell_type": "markdown",
   "metadata": {},
   "source": [
    "Находим улицы, на которых расположено по одному объекту общественного питания:"
   ]
  },
  {
   "cell_type": "code",
   "execution_count": 43,
   "metadata": {},
   "outputs": [
    {
     "name": "stdout",
     "output_type": "stream",
     "text": [
      "Количество улиц с одним заведением: 539\n"
     ]
    }
   ],
   "source": [
    "one_rest_street = all_street.loc[all_street['total'] == 1]\n",
    "print('Количество улиц с одним заведением: {}'.format(one_rest_street['total'].count()))"
   ]
  },
  {
   "cell_type": "markdown",
   "metadata": {},
   "source": [
    "Находим районы Москвы, через которые проходят данные улицы:"
   ]
  },
  {
   "cell_type": "code",
   "execution_count": 44,
   "metadata": {},
   "outputs": [
    {
     "name": "stdout",
     "output_type": "stream",
     "text": [
      "Районы, в которых находятся улицы с одним заведением:\n",
      "- район южное тушино\n",
      "- район косино-ухтомский\n",
      "- район хорошево-мневники\n",
      "- обручевский район\n",
      "- южнопортовый район\n",
      "- район хамовники\n",
      "- даниловский район\n",
      "- район преображенское\n",
      "- район соколиная гора\n",
      "- мещанский район\n",
      "- район марьина роща\n",
      "- район измайлово\n",
      "- район сокольники\n",
      "- бабушкинский район\n",
      "- район коптево\n",
      "- район ясенево\n",
      "- таганский район\n",
      "- район дорогомилово\n",
      "- район якиманка\n",
      "- район царицыно\n",
      "- тверской район\n",
      "- нижегородский район\n",
      "- район аэропорт\n",
      "- район бирюлево восточное\n",
      "- район свиблово\n",
      "- район перово\n",
      "- район филевский парк\n",
      "- район строгино\n",
      "- район вешняки\n",
      "- басманный район\n",
      "- район щукино\n",
      "- савеловский район\n",
      "- район восточное измайлово\n",
      "- район северный\n",
      "- головинский район\n",
      "- войковский район\n",
      "- рязанский район\n",
      "- район левобережный\n",
      "- молжаниновский район\n",
      "- район внуково\n",
      "- район крюково\n",
      "- район южное бутово\n",
      "- район фили-давыдково\n",
      "- район новогиреево\n",
      "- район ивановское\n",
      "- район котловка\n",
      "- район богородское\n",
      "- район кунцево\n",
      "- район замоскворечье\n",
      "- пресненский район\n",
      "- хорошевский район\n",
      "- район печатники\n",
      "- район ново-переделкино\n",
      "- тимирязевский район\n",
      "- район марьино\n",
      "- район очаково-матвеевское\n",
      "- район гагаринский\n",
      "- останкинский район\n",
      "- район сокол\n",
      "- район солнцево\n",
      "- лосиноостровский район\n",
      "- район северное медведково\n",
      "- район гольяново\n",
      "- район раменки\n",
      "- район ростокино\n",
      "- район текстильщики\n",
      "- район лефортово\n",
      "- район арбат\n",
      "- район матушкино-савелки\n",
      "- панфиловский район\n",
      "- район отрадное\n",
      "- алексеевский район\n",
      "- район куркино\n",
      "- нагорный район\n",
      "- красносельский район\n",
      "- район люблино\n",
      "- район северное измайлово\n",
      "- ярославский район\n",
      "- район митино\n",
      "- бутырский район\n",
      "- район лианозово\n",
      "- донской район\n",
      "- район выхино-жулебино\n",
      "- дмитровский район\n",
      "- район северное бутово\n",
      "- район беговой\n",
      "- район кузьминки\n",
      "- можайский район\n",
      "- район коньково\n",
      "- район марфино\n",
      "- район зюзино\n",
      "- академический район\n",
      "- район восточный\n",
      "- район покровское-стрешнево\n",
      "- район черемушки\n",
      "- район орехово-борисово южное\n",
      "- район чертаново северное\n",
      "- алтуфьевский район\n",
      "- район западное дегунино\n"
     ]
    }
   ],
   "source": [
    "one_street_merge = one_rest_street.merge(df_district, how='left', left_on='street', right_on='streetname')\n",
    "one_rest_list = one_street_merge['area'].dropna().unique()\n",
    "\n",
    "print('Районы, в которых находятся улицы с одним заведением:')\n",
    "for i in one_rest_list:\n",
    "    print('- {}'.format(i))"
   ]
  },
  {
   "cell_type": "markdown",
   "metadata": {},
   "source": [
    "***Распределение среднего количества посадочных мест для улиц с наибольшим числом объектов общественного питания***\n",
    "<a id=\"mean_number_top10\"></a>"
   ]
  },
  {
   "cell_type": "markdown",
   "metadata": {},
   "source": [
    "Рассчитываем среднее количество посадочных мест:"
   ]
  },
  {
   "cell_type": "code",
   "execution_count": 45,
   "metadata": {},
   "outputs": [],
   "source": [
    "street_number = df_final.groupby('street')['number'].mean().astype('uint32').reset_index()"
   ]
  },
  {
   "cell_type": "code",
   "execution_count": 46,
   "metadata": {},
   "outputs": [
    {
     "data": {
      "text/html": [
       "<div>\n",
       "<style scoped>\n",
       "    .dataframe tbody tr th:only-of-type {\n",
       "        vertical-align: middle;\n",
       "    }\n",
       "\n",
       "    .dataframe tbody tr th {\n",
       "        vertical-align: top;\n",
       "    }\n",
       "\n",
       "    .dataframe thead th {\n",
       "        text-align: right;\n",
       "    }\n",
       "</style>\n",
       "<table border=\"1\" class=\"dataframe\">\n",
       "  <thead>\n",
       "    <tr style=\"text-align: right;\">\n",
       "      <th></th>\n",
       "      <th>street</th>\n",
       "      <th>total</th>\n",
       "      <th>number</th>\n",
       "    </tr>\n",
       "  </thead>\n",
       "  <tbody>\n",
       "    <tr>\n",
       "      <th>0</th>\n",
       "      <td>проспект мира</td>\n",
       "      <td>192</td>\n",
       "      <td>53</td>\n",
       "    </tr>\n",
       "    <tr>\n",
       "      <th>1</th>\n",
       "      <td>кутузовский проспект</td>\n",
       "      <td>105</td>\n",
       "      <td>50</td>\n",
       "    </tr>\n",
       "    <tr>\n",
       "      <th>2</th>\n",
       "      <td>ленинский проспект</td>\n",
       "      <td>138</td>\n",
       "      <td>48</td>\n",
       "    </tr>\n",
       "    <tr>\n",
       "      <th>3</th>\n",
       "      <td>проспект вернадского</td>\n",
       "      <td>119</td>\n",
       "      <td>48</td>\n",
       "    </tr>\n",
       "    <tr>\n",
       "      <th>4</th>\n",
       "      <td>ленинградский проспект</td>\n",
       "      <td>167</td>\n",
       "      <td>44</td>\n",
       "    </tr>\n",
       "    <tr>\n",
       "      <th>5</th>\n",
       "      <td>профсоюзная улица</td>\n",
       "      <td>171</td>\n",
       "      <td>37</td>\n",
       "    </tr>\n",
       "    <tr>\n",
       "      <th>6</th>\n",
       "      <td>каширское шоссе</td>\n",
       "      <td>103</td>\n",
       "      <td>36</td>\n",
       "    </tr>\n",
       "    <tr>\n",
       "      <th>7</th>\n",
       "      <td>варшавское шоссе</td>\n",
       "      <td>154</td>\n",
       "      <td>35</td>\n",
       "    </tr>\n",
       "    <tr>\n",
       "      <th>8</th>\n",
       "      <td>пресненская набережная</td>\n",
       "      <td>160</td>\n",
       "      <td>34</td>\n",
       "    </tr>\n",
       "    <tr>\n",
       "      <th>9</th>\n",
       "      <td>ходынский бульвар</td>\n",
       "      <td>101</td>\n",
       "      <td>16</td>\n",
       "    </tr>\n",
       "  </tbody>\n",
       "</table>\n",
       "</div>"
      ],
      "text/plain": [
       "                   street  total  number\n",
       "0           проспект мира    192      53\n",
       "1    кутузовский проспект    105      50\n",
       "2      ленинский проспект    138      48\n",
       "3    проспект вернадского    119      48\n",
       "4  ленинградский проспект    167      44\n",
       "5       профсоюзная улица    171      37\n",
       "6         каширское шоссе    103      36\n",
       "7        варшавское шоссе    154      35\n",
       "8  пресненская набережная    160      34\n",
       "9       ходынский бульвар    101      16"
      ]
     },
     "execution_count": 46,
     "metadata": {},
     "output_type": "execute_result"
    }
   ],
   "source": [
    "top_street_number = (\n",
    "    top_street\n",
    "    .merge(street_number, how='left', left_on='street', right_on='street')\n",
    "    .sort_values(by='number', ascending=False)\n",
    "    .reset_index(drop=True)\n",
    ")\n",
    "top_street_number"
   ]
  },
  {
   "cell_type": "markdown",
   "metadata": {},
   "source": [
    "Строим диаграмму:"
   ]
  },
  {
   "cell_type": "code",
   "execution_count": 47,
   "metadata": {
    "scrolled": false
   },
   "outputs": [
    {
     "data": {
      "image/png": "[encoded data removed]",
      "text/plain": [
       "<Figure size 576x432 with 1 Axes>"
      ]
     },
     "metadata": {
      "needs_background": "light"
     },
     "output_type": "display_data"
    }
   ],
   "source": [
    "plt.figure(figsize = (8,6))\n",
    "clrs = ['cornflowerblue' if 40 >= x >= 34 else 'skyblue' for x in top_street_number['number']]\n",
    "ax = sns.barplot(x='number', y='street', data=top_street_number,\n",
    "                 order=top_street_number.sort_values('number', ascending=False).street, palette=clrs)\n",
    "plt.yticks(rotation=45)\n",
    "plt.title(label = 'Среднее значение посадочных мест в заведениях на Топ-10 улиц')\n",
    "plt.xlabel('Среднее количество посадочных мест')\n",
    "plt.ylabel('Улица')\n",
    "for p in ax.patches:\n",
    "    ax.annotate(\"%.0f\" % p.get_width(), xy=(p.get_width(), p.get_y()+p.get_height()/2),\n",
    "            xytext=(3, 0), textcoords='offset points', ha=\"left\", va=\"center\")\n",
    "plt.show()"
   ]
  },
  {
   "cell_type": "markdown",
   "metadata": {},
   "source": [
    "По среднему количеству посадочных мест наиболее близки к этому значению для кафе (37.4) следующие улицы:  \n",
    "Профсоюзная улица – 37;  \n",
    "Каширское шоссе – 36;  \n",
    "Варшавское шоссе - 35;  \n",
    "Пресненская набережная – 34.  "
   ]
  },
  {
   "cell_type": "markdown",
   "metadata": {},
   "source": [
    "***Вывод:***  \n",
    "1. Наибольшее широко в Москве представлены кафе - 42.6%. Реже всего встречаются буфеты (3.9%), кафетерии (2.8%), закусочные (2.5%), магазин (отдел кулинарии) (1.9%). \n",
    "2. Сетевые заведения составляют 20.2% от общего числа.  \n",
    "3. Наиболее распространена сетевая структура среди предприятий быстрого обслуживания - 41.1% (773 заведение).  \n",
    "Наименее распространена сетевая структура среди баров 4.4% (37), буфетов - 2.0% (11) и столовых - 0.2% (3 заведения).  \n",
    "Для кафе количество сетевых объектов - 22.8% (1368 заведений).  \n",
    "4. У 80% сетей число заведений не более 4, а среднее количество посадочных мест не превышает 85.  \n",
    "5. Наибольшее среднее количество посадочных мест имеют столовые - 78.4 и рестораны - 73.1.  \n",
    "Наименьшее среднее количество посадочных мест имеют кафетерии - 8.7, закусочные - 7.2 и магазины (отдел кулинарии) - 5.6.  \n",
    "Среднее количество посадочных мест для кафе - 37.4.  \n",
    "6. Наибольшее количество объектов располагается на следующих улицах: проспект Мира - 192, Профсоюзная улица - 171, Ленинградский проспект - 167 и Пресненская набережная - 160.  \n",
    "7. По среднему количеству посадочных мест наиболее близки к этому значению для кафе (37.4) следующие улицы:  \n",
    "Профсоюзная улица – 37;  \n",
    "Каширское шоссе – 36;  \n",
    "Варшавское шоссе - 35;  \n",
    "Пресненская набережная – 34.    "
   ]
  },
  {
   "cell_type": "markdown",
   "metadata": {},
   "source": [
    "## Общий вывод\n",
    "<a id=\"final\"></a>"
   ]
  },
  {
   "cell_type": "markdown",
   "metadata": {},
   "source": [
    "Датафрейм содержит данные по 15366 объектам, пропуски отсутствуют. Размер датафрейма - 7,1 MB.\n",
    "Поля \"id\" и \"number\" имеют тип \"int64\", а \"object_name\", \"chain\", \"object_type\" и \"address\" - тип \"object\".\n",
    "В датафрейме приведены уникальные заведения, дублирование отсутствует.  \n",
    "\n",
    "Тип данных полей \"chain\" и \"object_type\" изменен с \"object\" на \"category\".\n",
    "Типы данных полей \"id\" и \"number\" изменены с \"int64\" на \"uint32\" и \"uint16\" соответственно.\n",
    "В результате оптимизации типов данных размер таблицы уменьшен на 24% (с 7.1 до 5.4 MB).  \n",
    "\n",
    "В ходе исследования установлено, что наиболее широко на рынке заведений общественного питания Москвы представлены кафе - 39.7%.  \n",
    "Процент сетевых заведений составляет 20,2% от общего числа. При этом среди кафе лишь 22.8% заведений относятся к сетевым.  \n",
    "Для сетевых заведений характерно небольшое количество заведений с большим количеством посадочных мест: 80% сетей в среднем имеют 4 заведения и 85 посадочных мест.  \n",
    "\n",
    "Наибольшее среднее количество посадочных мест имеют столовые - 78.4 и рестораны - 73.1.\n",
    "Наименьшее среднее количество посадочных мест имеют кафетерии - 8.7, закусочные - 7.2 и магазины (отдел кулинарии) - 5.6.\n",
    "Среднее количество посадочных мест для кафе - 37.4.  \n",
    "\n",
    "Топ-10 улиц по количеству заведений общественного питания выглядит следующим образом:  \n",
    "- проспект Мира.............192\n",
    "- Профсоюзная улица.........171\n",
    "- Ленинградский проспект....167\n",
    "- Пресненская набережная....160\n",
    "- Варшавское шоссе..........154\n",
    "- Ленинский проспект........138\n",
    "- проспект Вернадского......119\n",
    "- Кутузовский проспект......105\n",
    "- Каширское шоссе...........103\n",
    "- Ходынский бульвар.........101\n",
    "\n",
    "Протность заведений топ-10 улиц на район:  \n",
    "- Пресненская набережная....160.0\n",
    "- Ходынский бульвар.........101.0\n",
    "- Кутузовский проспект......52.5\n",
    "- Ленинградский проспект....41.7\n",
    "- Профсоюзная улица.........28.5\n",
    "- проспект Мира.............27.4\n",
    "- Каширское шоссе...........25.7\n",
    "- проспект Вернадского......23.8\n",
    "- Варшавское шоссе..........19.2\n",
    "- Ленинский проспект........17.2\n",
    "\n",
    "Среднее количество посадочных мест в заведениях на топ-10 улицах: \n",
    "- проспект Мира.............53\n",
    "- Кутузовский проспект......50\n",
    "- Ленинский проспект........48\n",
    "- проспект Вернадского......48\n",
    "- Ленинградский проспект....44\n",
    "- Профсоюзная улица.........37\n",
    "- Каширское шоссе...........36\n",
    "- Варшавское шоссе..........35\n",
    "- Пресненская набережная....34\n",
    "- Ходынский бульвар.........16"
   ]
  },
  {
   "cell_type": "markdown",
   "metadata": {},
   "source": [
    "***Рекомендации***  \n",
    "<a id=\"recom\"></a>\n",
    "Наибольшая концентрация заведений общественного питания наблюдается на Пресненской набережной - 160 на район. Там же среднее количество посадочных мест (34) близко к среднему значению посадочных мест в кафе (37.4). Основываясь на данном факте, можно предположить: среди заведений на Пресненской набережной существенную долю составляют кафе, что говорит о конкурентности данного вида заведения на этой улице.  \n",
    "С учетом вышеуказанного рекомендуется рассмотреть возможность открытия кафе на Пресненской набережной. \n",
    "В связи высоким риском введения ограничительных  мер, вызванных ситуацией с пандемией COVID-19, рекомендуется перед принятием решения об открытии кафе дождаться официального окончания пандемии и полного снятия ограничений.  \n",
    "В проекте приведен общий обзор рынка заведений общественного питания Москвы, без учета параметров, напрямую влияющих на финансовые показатели заведений, таких как целевая аудитория, проходимость и т.д. Конкретные рекомендации возможно дать при более детальном исследовании."
   ]
  }
 ],
 "metadata": {
  "ExecuteTimeLog": [
   {
    "duration": 1084,
    "start_time": "2022-02-03T11:05:07.508Z"
   },
   {
    "duration": 61,
    "start_time": "2022-02-03T11:05:08.594Z"
   },
   {
    "duration": 48,
    "start_time": "2022-02-03T11:05:14.988Z"
   },
   {
    "duration": 59,
    "start_time": "2022-02-03T11:07:27.238Z"
   },
   {
    "duration": 1454,
    "start_time": "2022-02-03T11:09:53.228Z"
   },
   {
    "duration": 3076,
    "start_time": "2022-02-03T11:11:18.859Z"
   },
   {
    "duration": 15,
    "start_time": "2022-02-03T11:11:23.118Z"
   },
   {
    "duration": 34,
    "start_time": "2022-02-03T11:14:15.998Z"
   },
   {
    "duration": 41,
    "start_time": "2022-02-03T11:14:51.278Z"
   },
   {
    "duration": 41,
    "start_time": "2022-02-03T11:16:45.329Z"
   },
   {
    "duration": 181,
    "start_time": "2022-02-03T11:18:45.779Z"
   },
   {
    "duration": 179,
    "start_time": "2022-02-03T11:19:14.349Z"
   },
   {
    "duration": 43,
    "start_time": "2022-02-03T11:20:03.708Z"
   },
   {
    "duration": 58,
    "start_time": "2022-02-03T11:22:03.209Z"
   },
   {
    "duration": 64,
    "start_time": "2022-02-03T11:22:07.728Z"
   },
   {
    "duration": 74,
    "start_time": "2022-02-03T11:22:12.808Z"
   },
   {
    "duration": 38,
    "start_time": "2022-02-03T11:22:19.719Z"
   },
   {
    "duration": 81,
    "start_time": "2022-02-03T11:33:01.639Z"
   },
   {
    "duration": 39,
    "start_time": "2022-02-03T11:33:22.948Z"
   },
   {
    "duration": 42,
    "start_time": "2022-02-03T11:33:37.168Z"
   },
   {
    "duration": 34,
    "start_time": "2022-02-03T11:33:59.208Z"
   },
   {
    "duration": 42,
    "start_time": "2022-02-03T11:34:12.599Z"
   },
   {
    "duration": 35,
    "start_time": "2022-02-03T11:34:54.299Z"
   },
   {
    "duration": 12,
    "start_time": "2022-02-03T11:36:25.359Z"
   },
   {
    "duration": 34,
    "start_time": "2022-02-03T11:37:13.390Z"
   },
   {
    "duration": 17,
    "start_time": "2022-02-03T11:37:46.009Z"
   },
   {
    "duration": 10,
    "start_time": "2022-02-03T11:38:57.698Z"
   },
   {
    "duration": 6,
    "start_time": "2022-02-03T13:32:52.531Z"
   },
   {
    "duration": 181,
    "start_time": "2022-02-03T13:33:52.241Z"
   },
   {
    "duration": 5,
    "start_time": "2022-02-03T13:33:57.430Z"
   },
   {
    "duration": 8,
    "start_time": "2022-02-03T13:34:07.100Z"
   },
   {
    "duration": 6,
    "start_time": "2022-02-03T13:34:26.391Z"
   },
   {
    "duration": 6,
    "start_time": "2022-02-03T13:36:48.751Z"
   },
   {
    "duration": 6,
    "start_time": "2022-02-03T13:49:27.951Z"
   },
   {
    "duration": 5,
    "start_time": "2022-02-03T13:50:54.841Z"
   },
   {
    "duration": 5,
    "start_time": "2022-02-03T13:51:01.092Z"
   },
   {
    "duration": 6,
    "start_time": "2022-02-03T13:51:04.369Z"
   },
   {
    "duration": 5,
    "start_time": "2022-02-03T13:51:10.092Z"
   },
   {
    "duration": 6,
    "start_time": "2022-02-03T13:51:12.661Z"
   },
   {
    "duration": 5,
    "start_time": "2022-02-03T13:51:17.971Z"
   },
   {
    "duration": 5,
    "start_time": "2022-02-03T13:51:34.781Z"
   },
   {
    "duration": 5,
    "start_time": "2022-02-03T13:51:40.741Z"
   },
   {
    "duration": 6,
    "start_time": "2022-02-03T13:51:45.991Z"
   },
   {
    "duration": 64,
    "start_time": "2022-02-03T13:52:56.421Z"
   },
   {
    "duration": 5,
    "start_time": "2022-02-03T13:52:59.451Z"
   },
   {
    "duration": 266,
    "start_time": "2022-02-03T13:57:46.421Z"
   },
   {
    "duration": 60,
    "start_time": "2022-02-03T14:00:57.361Z"
   },
   {
    "duration": 55,
    "start_time": "2022-02-03T14:01:02.221Z"
   },
   {
    "duration": 5,
    "start_time": "2022-02-03T14:01:16.202Z"
   },
   {
    "duration": 59,
    "start_time": "2022-02-03T14:01:28.682Z"
   },
   {
    "duration": 69,
    "start_time": "2022-02-03T14:01:43.632Z"
   },
   {
    "duration": 59,
    "start_time": "2022-02-03T14:01:48.642Z"
   },
   {
    "duration": 5,
    "start_time": "2022-02-03T14:02:22.882Z"
   },
   {
    "duration": 110,
    "start_time": "2022-02-03T14:02:58.972Z"
   },
   {
    "duration": 65,
    "start_time": "2022-02-03T14:03:14.422Z"
   },
   {
    "duration": 5,
    "start_time": "2022-02-03T14:03:24.632Z"
   },
   {
    "duration": 174,
    "start_time": "2022-02-03T14:12:42.293Z"
   },
   {
    "duration": 193,
    "start_time": "2022-02-03T14:12:58.353Z"
   },
   {
    "duration": 5,
    "start_time": "2022-02-03T14:13:13.903Z"
   },
   {
    "duration": 10,
    "start_time": "2022-02-03T14:13:23.412Z"
   },
   {
    "duration": 10,
    "start_time": "2022-02-03T14:13:43.662Z"
   },
   {
    "duration": 10,
    "start_time": "2022-02-03T14:14:18.582Z"
   },
   {
    "duration": 9,
    "start_time": "2022-02-03T14:14:48.463Z"
   },
   {
    "duration": 13,
    "start_time": "2022-02-03T14:15:31.733Z"
   },
   {
    "duration": 8,
    "start_time": "2022-02-03T14:15:32.952Z"
   },
   {
    "duration": 12,
    "start_time": "2022-02-03T14:18:00.572Z"
   },
   {
    "duration": 8,
    "start_time": "2022-02-03T14:31:35.033Z"
   },
   {
    "duration": 22,
    "start_time": "2022-02-03T14:32:44.499Z"
   },
   {
    "duration": 1086,
    "start_time": "2022-02-04T13:52:37.265Z"
   },
   {
    "duration": 44,
    "start_time": "2022-02-04T13:52:38.352Z"
   },
   {
    "duration": 962,
    "start_time": "2022-02-04T13:52:38.398Z"
   },
   {
    "duration": 12,
    "start_time": "2022-02-04T13:52:39.363Z"
   },
   {
    "duration": 32,
    "start_time": "2022-02-04T13:52:39.377Z"
   },
   {
    "duration": 7,
    "start_time": "2022-02-04T13:52:40.165Z"
   },
   {
    "duration": 32,
    "start_time": "2022-02-04T13:52:41.325Z"
   },
   {
    "duration": 18,
    "start_time": "2022-02-04T13:52:42.754Z"
   },
   {
    "duration": 8,
    "start_time": "2022-02-04T13:52:43.005Z"
   },
   {
    "duration": 5,
    "start_time": "2022-02-04T13:52:43.955Z"
   },
   {
    "duration": 14,
    "start_time": "2022-02-04T13:52:46.605Z"
   },
   {
    "duration": 7,
    "start_time": "2022-02-04T13:52:47.515Z"
   },
   {
    "duration": 8,
    "start_time": "2022-02-04T13:52:48.025Z"
   },
   {
    "duration": 79,
    "start_time": "2022-02-04T13:57:11.687Z"
   },
   {
    "duration": 64,
    "start_time": "2022-02-04T13:57:43.254Z"
   },
   {
    "duration": 75,
    "start_time": "2022-02-04T13:58:43.935Z"
   },
   {
    "duration": 66,
    "start_time": "2022-02-04T13:59:59.645Z"
   },
   {
    "duration": 68,
    "start_time": "2022-02-04T14:00:35.845Z"
   },
   {
    "duration": 272,
    "start_time": "2022-02-04T14:03:49.344Z"
   },
   {
    "duration": 5,
    "start_time": "2022-02-04T14:04:13.354Z"
   },
   {
    "duration": 5582,
    "start_time": "2022-02-04T14:04:14.624Z"
   },
   {
    "duration": 33503,
    "start_time": "2022-02-04T14:04:39.224Z"
   },
   {
    "duration": 16,
    "start_time": "2022-02-04T14:06:00.145Z"
   },
   {
    "duration": 2,
    "start_time": "2022-02-04T14:07:03.265Z"
   },
   {
    "duration": 46,
    "start_time": "2022-02-04T14:07:03.825Z"
   },
   {
    "duration": 942,
    "start_time": "2022-02-04T14:07:04.505Z"
   },
   {
    "duration": 11,
    "start_time": "2022-02-04T14:07:05.449Z"
   },
   {
    "duration": 37,
    "start_time": "2022-02-04T14:07:05.461Z"
   },
   {
    "duration": 7,
    "start_time": "2022-02-04T14:07:05.500Z"
   },
   {
    "duration": 37,
    "start_time": "2022-02-04T14:07:05.509Z"
   },
   {
    "duration": 20,
    "start_time": "2022-02-04T14:07:05.548Z"
   },
   {
    "duration": 9,
    "start_time": "2022-02-04T14:07:05.570Z"
   },
   {
    "duration": 34,
    "start_time": "2022-02-04T14:07:05.582Z"
   },
   {
    "duration": 14,
    "start_time": "2022-02-04T14:07:05.618Z"
   },
   {
    "duration": 5,
    "start_time": "2022-02-04T14:07:05.634Z"
   },
   {
    "duration": 6,
    "start_time": "2022-02-04T14:07:06.355Z"
   },
   {
    "duration": 3,
    "start_time": "2022-02-04T14:07:06.934Z"
   },
   {
    "duration": 5176,
    "start_time": "2022-02-04T14:07:07.836Z"
   },
   {
    "duration": 7,
    "start_time": "2022-02-04T14:07:32.415Z"
   },
   {
    "duration": 2,
    "start_time": "2022-02-04T14:08:06.045Z"
   },
   {
    "duration": 44,
    "start_time": "2022-02-04T14:08:06.544Z"
   },
   {
    "duration": 680,
    "start_time": "2022-02-04T14:08:06.874Z"
   },
   {
    "duration": 10,
    "start_time": "2022-02-04T14:08:07.555Z"
   },
   {
    "duration": 36,
    "start_time": "2022-02-04T14:08:07.835Z"
   },
   {
    "duration": 8,
    "start_time": "2022-02-04T14:08:08.215Z"
   },
   {
    "duration": 36,
    "start_time": "2022-02-04T14:08:08.664Z"
   },
   {
    "duration": 20,
    "start_time": "2022-02-04T14:08:09.125Z"
   },
   {
    "duration": 9,
    "start_time": "2022-02-04T14:08:09.324Z"
   },
   {
    "duration": 7,
    "start_time": "2022-02-04T14:08:09.764Z"
   },
   {
    "duration": 19,
    "start_time": "2022-02-04T14:08:11.214Z"
   },
   {
    "duration": 6,
    "start_time": "2022-02-04T14:08:11.834Z"
   },
   {
    "duration": 6,
    "start_time": "2022-02-04T14:08:13.304Z"
   },
   {
    "duration": 52209,
    "start_time": "2022-02-04T14:08:15.264Z"
   },
   {
    "duration": 3,
    "start_time": "2022-02-04T14:10:03.174Z"
   },
   {
    "duration": 45,
    "start_time": "2022-02-04T14:10:03.284Z"
   },
   {
    "duration": 797,
    "start_time": "2022-02-04T14:10:03.394Z"
   },
   {
    "duration": 10,
    "start_time": "2022-02-04T14:10:04.192Z"
   },
   {
    "duration": 36,
    "start_time": "2022-02-04T14:10:04.204Z"
   },
   {
    "duration": 8,
    "start_time": "2022-02-04T14:10:04.242Z"
   },
   {
    "duration": 34,
    "start_time": "2022-02-04T14:10:04.252Z"
   },
   {
    "duration": 39,
    "start_time": "2022-02-04T14:10:04.288Z"
   },
   {
    "duration": 9,
    "start_time": "2022-02-04T14:10:04.328Z"
   },
   {
    "duration": 6,
    "start_time": "2022-02-04T14:10:04.340Z"
   },
   {
    "duration": 15,
    "start_time": "2022-02-04T14:10:05.534Z"
   },
   {
    "duration": 7,
    "start_time": "2022-02-04T14:10:06.134Z"
   },
   {
    "duration": 223,
    "start_time": "2022-02-04T14:10:07.544Z"
   },
   {
    "duration": 12,
    "start_time": "2022-02-04T14:10:26.664Z"
   },
   {
    "duration": 16,
    "start_time": "2022-02-04T14:10:28.734Z"
   },
   {
    "duration": 11,
    "start_time": "2022-02-04T14:10:43.024Z"
   },
   {
    "duration": 6,
    "start_time": "2022-02-04T14:10:43.355Z"
   },
   {
    "duration": 3,
    "start_time": "2022-02-04T14:12:05.524Z"
   },
   {
    "duration": 45,
    "start_time": "2022-02-04T14:12:06.114Z"
   },
   {
    "duration": 771,
    "start_time": "2022-02-04T14:12:06.384Z"
   },
   {
    "duration": 10,
    "start_time": "2022-02-04T14:12:07.157Z"
   },
   {
    "duration": 43,
    "start_time": "2022-02-04T14:12:07.323Z"
   },
   {
    "duration": 8,
    "start_time": "2022-02-04T14:12:07.794Z"
   },
   {
    "duration": 34,
    "start_time": "2022-02-04T14:12:08.284Z"
   },
   {
    "duration": 18,
    "start_time": "2022-02-04T14:12:08.714Z"
   },
   {
    "duration": 8,
    "start_time": "2022-02-04T14:12:08.944Z"
   },
   {
    "duration": 6,
    "start_time": "2022-02-04T14:12:09.495Z"
   },
   {
    "duration": 14,
    "start_time": "2022-02-04T14:12:11.294Z"
   },
   {
    "duration": 7,
    "start_time": "2022-02-04T14:12:12.424Z"
   },
   {
    "duration": 11,
    "start_time": "2022-02-04T14:12:13.384Z"
   },
   {
    "duration": 7,
    "start_time": "2022-02-04T14:12:13.905Z"
   },
   {
    "duration": 227,
    "start_time": "2022-02-04T14:12:14.934Z"
   },
   {
    "duration": 237,
    "start_time": "2022-02-04T14:12:44.355Z"
   },
   {
    "duration": 50508,
    "start_time": "2022-02-04T14:13:00.344Z"
   },
   {
    "duration": 16,
    "start_time": "2022-02-04T14:13:50.854Z"
   },
   {
    "duration": 216,
    "start_time": "2022-02-04T14:14:09.785Z"
   },
   {
    "duration": 416,
    "start_time": "2022-02-04T14:14:37.605Z"
   },
   {
    "duration": 204,
    "start_time": "2022-02-04T14:14:57.645Z"
   },
   {
    "duration": 6,
    "start_time": "2022-02-04T14:15:03.484Z"
   },
   {
    "duration": 309,
    "start_time": "2022-02-04T14:15:37.874Z"
   },
   {
    "duration": 4,
    "start_time": "2022-02-04T15:18:42.153Z"
   },
   {
    "duration": 199,
    "start_time": "2022-02-04T15:18:55.494Z"
   },
   {
    "duration": 220,
    "start_time": "2022-02-04T15:19:02.533Z"
   },
   {
    "duration": 8,
    "start_time": "2022-02-04T15:20:17.483Z"
   },
   {
    "duration": 3,
    "start_time": "2022-02-04T15:20:32.133Z"
   },
   {
    "duration": 49,
    "start_time": "2022-02-04T15:20:32.993Z"
   },
   {
    "duration": 878,
    "start_time": "2022-02-04T15:20:33.664Z"
   },
   {
    "duration": 11,
    "start_time": "2022-02-04T15:20:34.753Z"
   },
   {
    "duration": 37,
    "start_time": "2022-02-04T15:20:35.613Z"
   },
   {
    "duration": 8,
    "start_time": "2022-02-04T15:20:36.844Z"
   },
   {
    "duration": 34,
    "start_time": "2022-02-04T15:20:38.784Z"
   },
   {
    "duration": 19,
    "start_time": "2022-02-04T15:20:39.443Z"
   },
   {
    "duration": 8,
    "start_time": "2022-02-04T15:20:39.764Z"
   },
   {
    "duration": 6,
    "start_time": "2022-02-04T15:20:40.413Z"
   },
   {
    "duration": 13,
    "start_time": "2022-02-04T15:20:42.974Z"
   },
   {
    "duration": 7,
    "start_time": "2022-02-04T15:20:45.083Z"
   },
   {
    "duration": 10,
    "start_time": "2022-02-04T15:20:45.834Z"
   },
   {
    "duration": 6,
    "start_time": "2022-02-04T15:20:46.174Z"
   },
   {
    "duration": 4,
    "start_time": "2022-02-04T15:20:47.184Z"
   },
   {
    "duration": 8,
    "start_time": "2022-02-04T15:20:49.614Z"
   },
   {
    "duration": 7,
    "start_time": "2022-02-04T15:20:59.424Z"
   },
   {
    "duration": 6,
    "start_time": "2022-02-04T15:21:07.093Z"
   },
   {
    "duration": 3,
    "start_time": "2022-02-04T15:21:21.830Z"
   },
   {
    "duration": 45,
    "start_time": "2022-02-04T15:21:22.093Z"
   },
   {
    "duration": 694,
    "start_time": "2022-02-04T15:21:22.463Z"
   },
   {
    "duration": 10,
    "start_time": "2022-02-04T15:21:23.158Z"
   },
   {
    "duration": 37,
    "start_time": "2022-02-04T15:21:23.533Z"
   },
   {
    "duration": 8,
    "start_time": "2022-02-04T15:21:23.934Z"
   },
   {
    "duration": 34,
    "start_time": "2022-02-04T15:21:24.354Z"
   },
   {
    "duration": 19,
    "start_time": "2022-02-04T15:21:24.803Z"
   },
   {
    "duration": 9,
    "start_time": "2022-02-04T15:21:25.033Z"
   },
   {
    "duration": 7,
    "start_time": "2022-02-04T15:21:25.503Z"
   },
   {
    "duration": 13,
    "start_time": "2022-02-04T15:21:27.044Z"
   },
   {
    "duration": 6,
    "start_time": "2022-02-04T15:21:27.894Z"
   },
   {
    "duration": 11,
    "start_time": "2022-02-04T15:21:28.453Z"
   },
   {
    "duration": 8,
    "start_time": "2022-02-04T15:21:28.774Z"
   },
   {
    "duration": 4,
    "start_time": "2022-02-04T15:21:29.063Z"
   },
   {
    "duration": 9,
    "start_time": "2022-02-04T15:21:29.843Z"
   },
   {
    "duration": 214,
    "start_time": "2022-02-04T15:21:31.333Z"
   },
   {
    "duration": 2,
    "start_time": "2022-02-04T15:23:23.404Z"
   },
   {
    "duration": 46,
    "start_time": "2022-02-04T15:23:23.963Z"
   },
   {
    "duration": 587,
    "start_time": "2022-02-04T15:23:24.434Z"
   },
   {
    "duration": 10,
    "start_time": "2022-02-04T15:23:25.023Z"
   },
   {
    "duration": 36,
    "start_time": "2022-02-04T15:23:25.264Z"
   },
   {
    "duration": 9,
    "start_time": "2022-02-04T15:23:25.663Z"
   },
   {
    "duration": 35,
    "start_time": "2022-02-04T15:23:26.113Z"
   },
   {
    "duration": 19,
    "start_time": "2022-02-04T15:23:26.524Z"
   },
   {
    "duration": 9,
    "start_time": "2022-02-04T15:23:26.754Z"
   },
   {
    "duration": 5,
    "start_time": "2022-02-04T15:23:27.434Z"
   },
   {
    "duration": 15,
    "start_time": "2022-02-04T15:23:28.844Z"
   },
   {
    "duration": 7,
    "start_time": "2022-02-04T15:23:30.134Z"
   },
   {
    "duration": 10,
    "start_time": "2022-02-04T15:23:31.113Z"
   },
   {
    "duration": 7,
    "start_time": "2022-02-04T15:23:31.744Z"
   },
   {
    "duration": 4,
    "start_time": "2022-02-04T15:23:32.354Z"
   },
   {
    "duration": 8,
    "start_time": "2022-02-04T15:23:35.834Z"
   },
   {
    "duration": 227,
    "start_time": "2022-02-04T15:23:37.333Z"
   },
   {
    "duration": 51813,
    "start_time": "2022-02-04T15:24:10.826Z"
   },
   {
    "duration": -506,
    "start_time": "2022-02-04T15:25:03.147Z"
   },
   {
    "duration": 1185,
    "start_time": "2022-02-04T15:25:19.502Z"
   },
   {
    "duration": 47,
    "start_time": "2022-02-04T15:25:20.689Z"
   },
   {
    "duration": 750,
    "start_time": "2022-02-04T15:25:20.738Z"
   },
   {
    "duration": 14,
    "start_time": "2022-02-04T15:25:21.490Z"
   },
   {
    "duration": 58,
    "start_time": "2022-02-04T15:25:21.506Z"
   },
   {
    "duration": 9,
    "start_time": "2022-02-04T15:25:21.853Z"
   },
   {
    "duration": 36,
    "start_time": "2022-02-04T15:25:22.312Z"
   },
   {
    "duration": 19,
    "start_time": "2022-02-04T15:25:22.762Z"
   },
   {
    "duration": 9,
    "start_time": "2022-02-04T15:25:22.963Z"
   },
   {
    "duration": 6,
    "start_time": "2022-02-04T15:25:23.373Z"
   },
   {
    "duration": 15,
    "start_time": "2022-02-04T15:25:24.873Z"
   },
   {
    "duration": 7,
    "start_time": "2022-02-04T15:25:25.633Z"
   },
   {
    "duration": 11,
    "start_time": "2022-02-04T15:25:26.073Z"
   },
   {
    "duration": 7,
    "start_time": "2022-02-04T15:25:26.473Z"
   },
   {
    "duration": 4,
    "start_time": "2022-02-04T15:25:28.483Z"
   },
   {
    "duration": 8,
    "start_time": "2022-02-04T15:25:28.853Z"
   },
   {
    "duration": 52067,
    "start_time": "2022-02-04T15:25:30.123Z"
   },
   {
    "duration": -263,
    "start_time": "2022-02-04T15:26:22.456Z"
   },
   {
    "duration": 3,
    "start_time": "2022-02-04T15:26:44.467Z"
   },
   {
    "duration": 48,
    "start_time": "2022-02-04T15:26:45.067Z"
   },
   {
    "duration": 923,
    "start_time": "2022-02-04T15:26:45.428Z"
   },
   {
    "duration": 9,
    "start_time": "2022-02-04T15:26:46.353Z"
   },
   {
    "duration": 38,
    "start_time": "2022-02-04T15:26:46.364Z"
   },
   {
    "duration": 9,
    "start_time": "2022-02-04T15:26:46.737Z"
   },
   {
    "duration": 34,
    "start_time": "2022-02-04T15:26:47.117Z"
   },
   {
    "duration": 19,
    "start_time": "2022-02-04T15:26:47.527Z"
   },
   {
    "duration": 8,
    "start_time": "2022-02-04T15:26:47.738Z"
   },
   {
    "duration": 6,
    "start_time": "2022-02-04T15:26:48.158Z"
   },
   {
    "duration": 15,
    "start_time": "2022-02-04T15:26:49.447Z"
   },
   {
    "duration": 8,
    "start_time": "2022-02-04T15:26:50.137Z"
   },
   {
    "duration": 10,
    "start_time": "2022-02-04T15:26:50.528Z"
   },
   {
    "duration": 8,
    "start_time": "2022-02-04T15:26:50.787Z"
   },
   {
    "duration": 4,
    "start_time": "2022-02-04T15:26:50.968Z"
   },
   {
    "duration": 8,
    "start_time": "2022-02-04T15:26:51.257Z"
   },
   {
    "duration": 51402,
    "start_time": "2022-02-04T15:26:52.058Z"
   },
   {
    "duration": 8,
    "start_time": "2022-02-04T15:27:50.888Z"
   },
   {
    "duration": 2,
    "start_time": "2022-02-04T15:28:21.028Z"
   },
   {
    "duration": 45,
    "start_time": "2022-02-04T15:28:21.618Z"
   },
   {
    "duration": 830,
    "start_time": "2022-02-04T15:28:22.008Z"
   },
   {
    "duration": 11,
    "start_time": "2022-02-04T15:28:22.840Z"
   },
   {
    "duration": 37,
    "start_time": "2022-02-04T15:28:23.038Z"
   },
   {
    "duration": 8,
    "start_time": "2022-02-04T15:28:23.528Z"
   },
   {
    "duration": 36,
    "start_time": "2022-02-04T15:28:23.998Z"
   },
   {
    "duration": 21,
    "start_time": "2022-02-04T15:28:24.456Z"
   },
   {
    "duration": 9,
    "start_time": "2022-02-04T15:28:24.668Z"
   },
   {
    "duration": 8,
    "start_time": "2022-02-04T15:28:25.197Z"
   },
   {
    "duration": 15,
    "start_time": "2022-02-04T15:28:26.907Z"
   },
   {
    "duration": 7,
    "start_time": "2022-02-04T15:28:27.727Z"
   },
   {
    "duration": 12,
    "start_time": "2022-02-04T15:28:28.207Z"
   },
   {
    "duration": 8,
    "start_time": "2022-02-04T15:28:28.438Z"
   },
   {
    "duration": 3,
    "start_time": "2022-02-04T15:28:28.678Z"
   },
   {
    "duration": 9,
    "start_time": "2022-02-04T15:28:29.387Z"
   },
   {
    "duration": 53034,
    "start_time": "2022-02-04T15:28:30.378Z"
   },
   {
    "duration": 8,
    "start_time": "2022-02-04T15:29:44.347Z"
   },
   {
    "duration": 3,
    "start_time": "2022-02-04T15:30:35.748Z"
   },
   {
    "duration": 47,
    "start_time": "2022-02-04T15:30:35.753Z"
   },
   {
    "duration": 735,
    "start_time": "2022-02-04T15:30:35.817Z"
   },
   {
    "duration": 11,
    "start_time": "2022-02-04T15:30:36.554Z"
   },
   {
    "duration": 39,
    "start_time": "2022-02-04T15:30:36.567Z"
   },
   {
    "duration": 9,
    "start_time": "2022-02-04T15:30:36.609Z"
   },
   {
    "duration": 35,
    "start_time": "2022-02-04T15:30:36.620Z"
   },
   {
    "duration": 20,
    "start_time": "2022-02-04T15:30:36.657Z"
   },
   {
    "duration": 38,
    "start_time": "2022-02-04T15:30:36.679Z"
   },
   {
    "duration": 11,
    "start_time": "2022-02-04T15:30:36.719Z"
   },
   {
    "duration": 16,
    "start_time": "2022-02-04T15:30:36.732Z"
   },
   {
    "duration": 7,
    "start_time": "2022-02-04T15:30:36.750Z"
   },
   {
    "duration": 12,
    "start_time": "2022-02-04T15:30:36.798Z"
   },
   {
    "duration": 8,
    "start_time": "2022-02-04T15:30:37.397Z"
   },
   {
    "duration": 4,
    "start_time": "2022-02-04T15:30:37.728Z"
   },
   {
    "duration": 8,
    "start_time": "2022-02-04T15:30:38.077Z"
   },
   {
    "duration": 53301,
    "start_time": "2022-02-04T15:30:38.417Z"
   },
   {
    "duration": 7,
    "start_time": "2022-02-04T15:31:31.720Z"
   },
   {
    "duration": 4,
    "start_time": "2022-02-04T15:32:50.307Z"
   },
   {
    "duration": 13,
    "start_time": "2022-02-04T15:32:54.937Z"
   },
   {
    "duration": 17,
    "start_time": "2022-02-04T15:33:28.698Z"
   },
   {
    "duration": 14,
    "start_time": "2022-02-04T15:34:26.427Z"
   },
   {
    "duration": 3,
    "start_time": "2022-02-04T15:35:09.257Z"
   },
   {
    "duration": 46,
    "start_time": "2022-02-04T15:35:09.968Z"
   },
   {
    "duration": 694,
    "start_time": "2022-02-04T15:35:10.458Z"
   },
   {
    "duration": 12,
    "start_time": "2022-02-04T15:35:11.338Z"
   },
   {
    "duration": 36,
    "start_time": "2022-02-04T15:35:12.567Z"
   },
   {
    "duration": 9,
    "start_time": "2022-02-04T15:35:13.637Z"
   },
   {
    "duration": 34,
    "start_time": "2022-02-04T15:35:14.477Z"
   },
   {
    "duration": 18,
    "start_time": "2022-02-04T15:35:15.557Z"
   },
   {
    "duration": 9,
    "start_time": "2022-02-04T15:35:16.038Z"
   },
   {
    "duration": 7,
    "start_time": "2022-02-04T15:35:17.417Z"
   },
   {
    "duration": 15,
    "start_time": "2022-02-04T15:35:28.708Z"
   },
   {
    "duration": 8,
    "start_time": "2022-02-04T15:35:30.128Z"
   },
   {
    "duration": 13,
    "start_time": "2022-02-04T15:35:30.748Z"
   },
   {
    "duration": 8,
    "start_time": "2022-02-04T15:35:31.048Z"
   },
   {
    "duration": 4,
    "start_time": "2022-02-04T15:35:31.348Z"
   },
   {
    "duration": 9,
    "start_time": "2022-02-04T15:35:31.908Z"
   },
   {
    "duration": 51836,
    "start_time": "2022-02-04T15:35:32.699Z"
   },
   {
    "duration": 7,
    "start_time": "2022-02-04T15:36:24.537Z"
   },
   {
    "duration": 3,
    "start_time": "2022-02-04T15:36:25.592Z"
   },
   {
    "duration": 43,
    "start_time": "2022-02-04T15:36:26.172Z"
   },
   {
    "duration": 693,
    "start_time": "2022-02-04T15:36:26.563Z"
   },
   {
    "duration": 10,
    "start_time": "2022-02-04T15:36:27.257Z"
   },
   {
    "duration": 37,
    "start_time": "2022-02-04T15:36:27.643Z"
   },
   {
    "duration": 9,
    "start_time": "2022-02-04T15:36:28.622Z"
   },
   {
    "duration": 36,
    "start_time": "2022-02-04T15:36:29.132Z"
   },
   {
    "duration": 19,
    "start_time": "2022-02-04T15:36:29.572Z"
   },
   {
    "duration": 9,
    "start_time": "2022-02-04T15:36:29.823Z"
   },
   {
    "duration": 6,
    "start_time": "2022-02-04T15:36:30.332Z"
   },
   {
    "duration": 14,
    "start_time": "2022-02-04T15:36:32.473Z"
   },
   {
    "duration": 7,
    "start_time": "2022-02-04T15:36:33.642Z"
   },
   {
    "duration": 12,
    "start_time": "2022-02-04T15:36:34.192Z"
   },
   {
    "duration": 8,
    "start_time": "2022-02-04T15:36:34.522Z"
   },
   {
    "duration": 5,
    "start_time": "2022-02-04T15:36:34.802Z"
   },
   {
    "duration": 8,
    "start_time": "2022-02-04T15:36:37.213Z"
   },
   {
    "duration": 53499,
    "start_time": "2022-02-04T15:36:37.872Z"
   },
   {
    "duration": 8,
    "start_time": "2022-02-04T15:37:31.374Z"
   },
   {
    "duration": 13,
    "start_time": "2022-02-04T15:37:52.704Z"
   },
   {
    "duration": 13,
    "start_time": "2022-02-04T15:37:55.732Z"
   },
   {
    "duration": 2,
    "start_time": "2022-02-04T15:40:42.702Z"
   },
   {
    "duration": 46,
    "start_time": "2022-02-04T15:40:43.272Z"
   },
   {
    "duration": 755,
    "start_time": "2022-02-04T15:40:43.652Z"
   },
   {
    "duration": 11,
    "start_time": "2022-02-04T15:40:44.408Z"
   },
   {
    "duration": 37,
    "start_time": "2022-02-04T15:40:44.762Z"
   },
   {
    "duration": 9,
    "start_time": "2022-02-04T15:40:45.282Z"
   },
   {
    "duration": 35,
    "start_time": "2022-02-04T15:40:45.911Z"
   },
   {
    "duration": 20,
    "start_time": "2022-02-04T15:40:46.612Z"
   },
   {
    "duration": 10,
    "start_time": "2022-02-04T15:40:47.782Z"
   },
   {
    "duration": 6,
    "start_time": "2022-02-04T15:40:49.642Z"
   },
   {
    "duration": 14,
    "start_time": "2022-02-04T15:40:50.873Z"
   },
   {
    "duration": 7,
    "start_time": "2022-02-04T15:40:51.842Z"
   },
   {
    "duration": 11,
    "start_time": "2022-02-04T15:40:52.442Z"
   },
   {
    "duration": 9,
    "start_time": "2022-02-04T15:40:53.142Z"
   },
   {
    "duration": 4,
    "start_time": "2022-02-04T15:40:54.302Z"
   },
   {
    "duration": 9,
    "start_time": "2022-02-04T15:40:54.632Z"
   },
   {
    "duration": 1164,
    "start_time": "2022-02-04T15:45:10.623Z"
   },
   {
    "duration": 46,
    "start_time": "2022-02-04T15:45:11.789Z"
   },
   {
    "duration": 649,
    "start_time": "2022-02-04T15:45:11.842Z"
   },
   {
    "duration": 15,
    "start_time": "2022-02-04T15:45:12.492Z"
   },
   {
    "duration": 37,
    "start_time": "2022-02-04T15:45:12.509Z"
   },
   {
    "duration": 7,
    "start_time": "2022-02-04T15:45:12.549Z"
   },
   {
    "duration": 55,
    "start_time": "2022-02-04T15:45:12.558Z"
   },
   {
    "duration": 20,
    "start_time": "2022-02-04T15:45:13.232Z"
   },
   {
    "duration": 9,
    "start_time": "2022-02-04T15:45:13.583Z"
   },
   {
    "duration": 6,
    "start_time": "2022-02-04T15:45:15.073Z"
   },
   {
    "duration": 14,
    "start_time": "2022-02-04T15:45:17.113Z"
   },
   {
    "duration": 7,
    "start_time": "2022-02-04T15:45:18.522Z"
   },
   {
    "duration": 5,
    "start_time": "2022-02-04T15:45:20.682Z"
   },
   {
    "duration": 3,
    "start_time": "2022-02-04T15:46:09.512Z"
   },
   {
    "duration": 5,
    "start_time": "2022-02-04T15:46:24.072Z"
   },
   {
    "duration": 3,
    "start_time": "2022-02-04T15:48:38.932Z"
   },
   {
    "duration": 47,
    "start_time": "2022-02-04T15:48:39.523Z"
   },
   {
    "duration": 774,
    "start_time": "2022-02-04T15:48:39.913Z"
   },
   {
    "duration": 10,
    "start_time": "2022-02-04T15:48:40.689Z"
   },
   {
    "duration": 37,
    "start_time": "2022-02-04T15:48:41.113Z"
   },
   {
    "duration": 9,
    "start_time": "2022-02-04T15:48:41.743Z"
   },
   {
    "duration": 34,
    "start_time": "2022-02-04T15:48:42.262Z"
   },
   {
    "duration": 17,
    "start_time": "2022-02-04T15:48:42.673Z"
   },
   {
    "duration": 8,
    "start_time": "2022-02-04T15:48:42.923Z"
   },
   {
    "duration": 7,
    "start_time": "2022-02-04T15:48:43.413Z"
   },
   {
    "duration": 15,
    "start_time": "2022-02-04T15:48:45.252Z"
   },
   {
    "duration": 8,
    "start_time": "2022-02-04T15:48:46.512Z"
   },
   {
    "duration": 10,
    "start_time": "2022-02-04T15:48:47.053Z"
   },
   {
    "duration": 7,
    "start_time": "2022-02-04T15:48:47.633Z"
   },
   {
    "duration": 8,
    "start_time": "2022-02-04T15:48:48.323Z"
   },
   {
    "duration": 243,
    "start_time": "2022-02-04T15:51:31.643Z"
   },
   {
    "duration": 1144,
    "start_time": "2022-02-04T15:51:49.403Z"
   },
   {
    "duration": 45,
    "start_time": "2022-02-04T15:51:50.549Z"
   },
   {
    "duration": 848,
    "start_time": "2022-02-04T15:51:50.595Z"
   },
   {
    "duration": 13,
    "start_time": "2022-02-04T15:51:51.445Z"
   },
   {
    "duration": 34,
    "start_time": "2022-02-04T15:51:51.460Z"
   },
   {
    "duration": 7,
    "start_time": "2022-02-04T15:51:51.495Z"
   },
   {
    "duration": 31,
    "start_time": "2022-02-04T15:51:51.504Z"
   },
   {
    "duration": 18,
    "start_time": "2022-02-04T15:51:51.537Z"
   },
   {
    "duration": 8,
    "start_time": "2022-02-04T15:51:51.557Z"
   },
   {
    "duration": 6,
    "start_time": "2022-02-04T15:51:51.722Z"
   },
   {
    "duration": 13,
    "start_time": "2022-02-04T15:51:54.413Z"
   },
   {
    "duration": 6,
    "start_time": "2022-02-04T15:51:55.383Z"
   },
   {
    "duration": 20,
    "start_time": "2022-02-04T15:51:55.663Z"
   },
   {
    "duration": 72,
    "start_time": "2022-02-04T16:25:58.213Z"
   },
   {
    "duration": 270,
    "start_time": "2022-02-04T16:26:08.731Z"
   },
   {
    "duration": 11,
    "start_time": "2022-02-04T16:26:26.572Z"
   },
   {
    "duration": 313,
    "start_time": "2022-02-04T16:26:27.741Z"
   },
   {
    "duration": 290,
    "start_time": "2022-02-04T16:26:48.581Z"
   },
   {
    "duration": 69,
    "start_time": "2022-02-04T16:27:03.992Z"
   },
   {
    "duration": 564,
    "start_time": "2022-02-04T16:27:12.541Z"
   },
   {
    "duration": 495,
    "start_time": "2022-02-04T16:27:33.701Z"
   },
   {
    "duration": 502,
    "start_time": "2022-02-04T16:27:50.652Z"
   },
   {
    "duration": 11,
    "start_time": "2022-02-04T16:28:00.171Z"
   },
   {
    "duration": 9,
    "start_time": "2022-02-04T16:28:00.842Z"
   },
   {
    "duration": 22,
    "start_time": "2022-02-04T16:28:01.222Z"
   },
   {
    "duration": 9,
    "start_time": "2022-02-04T16:28:02.332Z"
   },
   {
    "duration": 497,
    "start_time": "2022-02-04T16:28:03.461Z"
   },
   {
    "duration": 527,
    "start_time": "2022-02-04T16:28:15.191Z"
   },
   {
    "duration": 485,
    "start_time": "2022-02-04T16:29:03.461Z"
   },
   {
    "duration": 9,
    "start_time": "2022-02-04T16:29:06.761Z"
   },
   {
    "duration": 359,
    "start_time": "2022-02-04T16:29:07.421Z"
   },
   {
    "duration": 1183,
    "start_time": "2022-02-04T16:29:19.488Z"
   },
   {
    "duration": 49,
    "start_time": "2022-02-04T16:29:20.673Z"
   },
   {
    "duration": 1212,
    "start_time": "2022-02-04T16:29:20.724Z"
   },
   {
    "duration": 13,
    "start_time": "2022-02-04T16:29:21.939Z"
   },
   {
    "duration": 36,
    "start_time": "2022-02-04T16:29:21.954Z"
   },
   {
    "duration": 8,
    "start_time": "2022-02-04T16:29:22.088Z"
   },
   {
    "duration": 36,
    "start_time": "2022-02-04T16:29:22.818Z"
   },
   {
    "duration": 20,
    "start_time": "2022-02-04T16:29:23.728Z"
   },
   {
    "duration": 9,
    "start_time": "2022-02-04T16:29:23.948Z"
   },
   {
    "duration": 6,
    "start_time": "2022-02-04T16:29:24.389Z"
   },
   {
    "duration": 15,
    "start_time": "2022-02-04T16:29:25.828Z"
   },
   {
    "duration": 7,
    "start_time": "2022-02-04T16:29:26.608Z"
   },
   {
    "duration": 22,
    "start_time": "2022-02-04T16:29:26.828Z"
   },
   {
    "duration": 11,
    "start_time": "2022-02-04T16:29:28.008Z"
   },
   {
    "duration": 300,
    "start_time": "2022-02-04T16:29:28.869Z"
   },
   {
    "duration": 13,
    "start_time": "2022-02-04T16:31:48.908Z"
   },
   {
    "duration": 304,
    "start_time": "2022-02-04T16:32:04.618Z"
   },
   {
    "duration": 421,
    "start_time": "2022-02-04T16:32:43.768Z"
   },
   {
    "duration": 359,
    "start_time": "2022-02-04T16:33:20.038Z"
   },
   {
    "duration": 11,
    "start_time": "2022-02-04T16:33:36.618Z"
   },
   {
    "duration": 305,
    "start_time": "2022-02-04T16:33:37.558Z"
   },
   {
    "duration": 348,
    "start_time": "2022-02-04T16:34:41.849Z"
   },
   {
    "duration": 11,
    "start_time": "2022-02-04T16:34:52.158Z"
   },
   {
    "duration": 295,
    "start_time": "2022-02-04T16:34:53.688Z"
   },
   {
    "duration": 1191,
    "start_time": "2022-02-04T16:35:36.702Z"
   },
   {
    "duration": 45,
    "start_time": "2022-02-04T16:35:37.895Z"
   },
   {
    "duration": 1250,
    "start_time": "2022-02-04T16:35:37.941Z"
   },
   {
    "duration": 13,
    "start_time": "2022-02-04T16:35:39.193Z"
   },
   {
    "duration": 36,
    "start_time": "2022-02-04T16:35:39.208Z"
   },
   {
    "duration": 8,
    "start_time": "2022-02-04T16:35:39.246Z"
   },
   {
    "duration": 33,
    "start_time": "2022-02-04T16:35:39.256Z"
   },
   {
    "duration": 38,
    "start_time": "2022-02-04T16:35:39.291Z"
   },
   {
    "duration": 8,
    "start_time": "2022-02-04T16:35:39.332Z"
   },
   {
    "duration": 6,
    "start_time": "2022-02-04T16:35:39.342Z"
   },
   {
    "duration": 14,
    "start_time": "2022-02-04T16:35:39.350Z"
   },
   {
    "duration": 6,
    "start_time": "2022-02-04T16:35:39.366Z"
   },
   {
    "duration": 57,
    "start_time": "2022-02-04T16:35:39.374Z"
   },
   {
    "duration": 12,
    "start_time": "2022-02-04T16:35:39.433Z"
   },
   {
    "duration": 332,
    "start_time": "2022-02-04T16:35:39.447Z"
   },
   {
    "duration": 9,
    "start_time": "2022-02-04T16:35:39.781Z"
   },
   {
    "duration": 174,
    "start_time": "2022-02-04T16:35:39.791Z"
   },
   {
    "duration": 13,
    "start_time": "2022-02-04T16:35:39.966Z"
   },
   {
    "duration": 313,
    "start_time": "2022-02-04T16:35:39.980Z"
   },
   {
    "duration": 24,
    "start_time": "2022-02-04T16:35:40.295Z"
   },
   {
    "duration": 459,
    "start_time": "2022-02-04T16:35:40.321Z"
   },
   {
    "duration": 289,
    "start_time": "2022-02-04T16:35:40.781Z"
   },
   {
    "duration": 3,
    "start_time": "2022-02-04T16:35:41.072Z"
   },
   {
    "duration": 138,
    "start_time": "2022-02-04T16:35:41.077Z"
   },
   {
    "duration": 12,
    "start_time": "2022-02-04T16:35:41.216Z"
   },
   {
    "duration": 336,
    "start_time": "2022-02-04T16:35:41.230Z"
   },
   {
    "duration": 3,
    "start_time": "2022-02-04T16:35:41.569Z"
   },
   {
    "duration": 38,
    "start_time": "2022-02-04T16:35:41.574Z"
   },
   {
    "duration": 6,
    "start_time": "2022-02-04T16:35:41.613Z"
   },
   {
    "duration": 18,
    "start_time": "2022-02-04T16:35:41.621Z"
   },
   {
    "duration": 8,
    "start_time": "2022-02-04T16:35:41.641Z"
   },
   {
    "duration": 8,
    "start_time": "2022-02-04T16:35:41.651Z"
   },
   {
    "duration": 11,
    "start_time": "2022-02-04T16:35:41.661Z"
   },
   {
    "duration": 356,
    "start_time": "2022-02-04T16:35:41.674Z"
   },
   {
    "duration": 309,
    "start_time": "2022-02-04T16:37:20.021Z"
   },
   {
    "duration": 208,
    "start_time": "2022-02-04T16:37:32.832Z"
   },
   {
    "duration": 301,
    "start_time": "2022-02-04T16:38:04.402Z"
   },
   {
    "duration": 13,
    "start_time": "2022-02-04T16:39:17.552Z"
   },
   {
    "duration": 318,
    "start_time": "2022-02-04T16:39:34.841Z"
   },
   {
    "duration": 1179,
    "start_time": "2022-02-04T16:41:36.486Z"
   },
   {
    "duration": 45,
    "start_time": "2022-02-04T16:41:37.667Z"
   },
   {
    "duration": 1160,
    "start_time": "2022-02-04T16:41:37.714Z"
   },
   {
    "duration": 13,
    "start_time": "2022-02-04T16:41:38.876Z"
   },
   {
    "duration": 35,
    "start_time": "2022-02-04T16:41:38.890Z"
   },
   {
    "duration": 7,
    "start_time": "2022-02-04T16:41:38.927Z"
   },
   {
    "duration": 32,
    "start_time": "2022-02-04T16:41:38.936Z"
   },
   {
    "duration": 18,
    "start_time": "2022-02-04T16:41:38.971Z"
   },
   {
    "duration": 29,
    "start_time": "2022-02-04T16:41:38.991Z"
   },
   {
    "duration": 10,
    "start_time": "2022-02-04T16:41:39.021Z"
   },
   {
    "duration": 14,
    "start_time": "2022-02-04T16:41:39.032Z"
   },
   {
    "duration": 6,
    "start_time": "2022-02-04T16:41:39.047Z"
   },
   {
    "duration": 24,
    "start_time": "2022-02-04T16:41:39.054Z"
   },
   {
    "duration": 39,
    "start_time": "2022-02-04T16:41:39.080Z"
   },
   {
    "duration": 322,
    "start_time": "2022-02-04T16:41:39.121Z"
   },
   {
    "duration": 9,
    "start_time": "2022-02-04T16:41:39.444Z"
   },
   {
    "duration": 171,
    "start_time": "2022-02-04T16:41:39.454Z"
   },
   {
    "duration": 13,
    "start_time": "2022-02-04T16:41:39.627Z"
   },
   {
    "duration": 333,
    "start_time": "2022-02-04T16:41:39.642Z"
   },
   {
    "duration": 12,
    "start_time": "2022-02-04T16:41:39.977Z"
   },
   {
    "duration": 467,
    "start_time": "2022-02-04T16:41:39.990Z"
   },
   {
    "duration": 1168,
    "start_time": "2022-02-04T16:42:40.283Z"
   },
   {
    "duration": 46,
    "start_time": "2022-02-04T16:42:41.453Z"
   },
   {
    "duration": 1229,
    "start_time": "2022-02-04T16:42:41.501Z"
   },
   {
    "duration": 15,
    "start_time": "2022-02-04T16:42:42.732Z"
   },
   {
    "duration": 36,
    "start_time": "2022-02-04T16:42:42.749Z"
   },
   {
    "duration": 25,
    "start_time": "2022-02-04T16:42:42.787Z"
   },
   {
    "duration": 35,
    "start_time": "2022-02-04T16:42:42.814Z"
   },
   {
    "duration": 23,
    "start_time": "2022-02-04T16:42:42.851Z"
   },
   {
    "duration": 8,
    "start_time": "2022-02-04T16:42:42.876Z"
   },
   {
    "duration": 6,
    "start_time": "2022-02-04T16:42:42.913Z"
   },
   {
    "duration": 15,
    "start_time": "2022-02-04T16:42:42.920Z"
   },
   {
    "duration": 6,
    "start_time": "2022-02-04T16:42:42.937Z"
   },
   {
    "duration": 23,
    "start_time": "2022-02-04T16:42:42.944Z"
   },
   {
    "duration": 10,
    "start_time": "2022-02-04T16:42:42.969Z"
   },
   {
    "duration": 312,
    "start_time": "2022-02-04T16:42:43.013Z"
   },
   {
    "duration": 10,
    "start_time": "2022-02-04T16:42:43.327Z"
   },
   {
    "duration": 173,
    "start_time": "2022-02-04T16:42:43.339Z"
   },
   {
    "duration": 13,
    "start_time": "2022-02-04T16:42:43.513Z"
   },
   {
    "duration": 322,
    "start_time": "2022-02-04T16:42:43.527Z"
   },
   {
    "duration": 10,
    "start_time": "2022-02-04T16:42:43.851Z"
   },
   {
    "duration": 464,
    "start_time": "2022-02-04T16:42:43.862Z"
   },
   {
    "duration": 1121,
    "start_time": "2022-02-04T16:43:17.357Z"
   },
   {
    "duration": 45,
    "start_time": "2022-02-04T16:43:18.480Z"
   },
   {
    "duration": 1746,
    "start_time": "2022-02-04T16:43:18.527Z"
   },
   {
    "duration": 14,
    "start_time": "2022-02-04T16:43:20.275Z"
   },
   {
    "duration": 37,
    "start_time": "2022-02-04T16:43:20.291Z"
   },
   {
    "duration": 8,
    "start_time": "2022-02-04T16:43:20.330Z"
   },
   {
    "duration": 36,
    "start_time": "2022-02-04T16:43:20.340Z"
   },
   {
    "duration": 39,
    "start_time": "2022-02-04T16:43:20.378Z"
   },
   {
    "duration": 8,
    "start_time": "2022-02-04T16:43:20.419Z"
   },
   {
    "duration": 12,
    "start_time": "2022-02-04T16:43:20.429Z"
   },
   {
    "duration": 16,
    "start_time": "2022-02-04T16:43:20.443Z"
   },
   {
    "duration": 5,
    "start_time": "2022-02-04T16:43:20.461Z"
   },
   {
    "duration": 51,
    "start_time": "2022-02-04T16:43:20.467Z"
   },
   {
    "duration": 11,
    "start_time": "2022-02-04T16:43:20.519Z"
   },
   {
    "duration": 346,
    "start_time": "2022-02-04T16:43:20.532Z"
   },
   {
    "duration": 8,
    "start_time": "2022-02-04T16:43:20.879Z"
   },
   {
    "duration": 167,
    "start_time": "2022-02-04T16:43:20.889Z"
   },
   {
    "duration": 13,
    "start_time": "2022-02-04T16:43:21.057Z"
   },
   {
    "duration": 324,
    "start_time": "2022-02-04T16:43:21.071Z"
   },
   {
    "duration": 19,
    "start_time": "2022-02-04T16:43:21.397Z"
   },
   {
    "duration": 459,
    "start_time": "2022-02-04T16:43:21.418Z"
   },
   {
    "duration": 295,
    "start_time": "2022-02-04T16:43:21.879Z"
   },
   {
    "duration": 3,
    "start_time": "2022-02-04T16:43:22.177Z"
   },
   {
    "duration": 138,
    "start_time": "2022-02-04T16:43:22.182Z"
   },
   {
    "duration": 13,
    "start_time": "2022-02-04T16:43:22.322Z"
   },
   {
    "duration": 325,
    "start_time": "2022-02-04T16:43:22.337Z"
   },
   {
    "duration": 3,
    "start_time": "2022-02-04T16:43:22.664Z"
   },
   {
    "duration": 21,
    "start_time": "2022-02-04T16:43:22.668Z"
   },
   {
    "duration": 5,
    "start_time": "2022-02-04T16:43:22.712Z"
   },
   {
    "duration": 19,
    "start_time": "2022-02-04T16:43:22.718Z"
   },
   {
    "duration": 8,
    "start_time": "2022-02-04T16:43:22.739Z"
   },
   {
    "duration": 9,
    "start_time": "2022-02-04T16:43:22.749Z"
   },
   {
    "duration": 12,
    "start_time": "2022-02-04T16:43:22.759Z"
   },
   {
    "duration": 358,
    "start_time": "2022-02-04T16:43:22.773Z"
   },
   {
    "duration": 772,
    "start_time": "2022-02-04T16:47:26.116Z"
   },
   {
    "duration": 1147,
    "start_time": "2022-02-04T16:51:45.203Z"
   },
   {
    "duration": 48,
    "start_time": "2022-02-04T16:51:46.355Z"
   },
   {
    "duration": 1333,
    "start_time": "2022-02-04T16:51:46.405Z"
   },
   {
    "duration": 12,
    "start_time": "2022-02-04T16:51:47.740Z"
   },
   {
    "duration": 33,
    "start_time": "2022-02-04T16:51:47.755Z"
   },
   {
    "duration": 19,
    "start_time": "2022-02-04T16:51:47.793Z"
   },
   {
    "duration": 33,
    "start_time": "2022-02-04T16:51:47.814Z"
   },
   {
    "duration": 18,
    "start_time": "2022-02-04T16:51:47.849Z"
   },
   {
    "duration": 9,
    "start_time": "2022-02-04T16:51:47.869Z"
   },
   {
    "duration": 7,
    "start_time": "2022-02-04T16:51:47.952Z"
   },
   {
    "duration": 15,
    "start_time": "2022-02-04T16:51:50.632Z"
   },
   {
    "duration": 8,
    "start_time": "2022-02-04T16:51:51.641Z"
   },
   {
    "duration": 22,
    "start_time": "2022-02-04T16:51:51.911Z"
   },
   {
    "duration": 13,
    "start_time": "2022-02-04T16:51:54.322Z"
   },
   {
    "duration": 299,
    "start_time": "2022-02-04T16:51:55.652Z"
   },
   {
    "duration": 10,
    "start_time": "2022-02-04T16:51:56.821Z"
   },
   {
    "duration": 171,
    "start_time": "2022-02-04T16:51:57.411Z"
   },
   {
    "duration": 15,
    "start_time": "2022-02-04T16:51:58.551Z"
   },
   {
    "duration": 293,
    "start_time": "2022-02-04T16:51:59.671Z"
   },
   {
    "duration": 12,
    "start_time": "2022-02-04T16:52:12.502Z"
   },
   {
    "duration": 444,
    "start_time": "2022-02-04T16:52:12.773Z"
   },
   {
    "duration": 13,
    "start_time": "2022-02-04T16:52:13.941Z"
   },
   {
    "duration": 1090,
    "start_time": "2022-02-04T16:53:26.864Z"
   },
   {
    "duration": 45,
    "start_time": "2022-02-04T16:53:27.956Z"
   },
   {
    "duration": 999,
    "start_time": "2022-02-04T16:53:28.004Z"
   },
   {
    "duration": 14,
    "start_time": "2022-02-04T16:53:29.005Z"
   },
   {
    "duration": 40,
    "start_time": "2022-02-04T16:53:29.021Z"
   },
   {
    "duration": 8,
    "start_time": "2022-02-04T16:53:29.062Z"
   },
   {
    "duration": 55,
    "start_time": "2022-02-04T16:53:29.072Z"
   },
   {
    "duration": 17,
    "start_time": "2022-02-04T16:53:29.129Z"
   },
   {
    "duration": 7,
    "start_time": "2022-02-04T16:53:29.148Z"
   },
   {
    "duration": 8,
    "start_time": "2022-02-04T16:53:29.157Z"
   },
   {
    "duration": 13,
    "start_time": "2022-02-04T16:53:29.166Z"
   },
   {
    "duration": 6,
    "start_time": "2022-02-04T16:53:29.212Z"
   },
   {
    "duration": 24,
    "start_time": "2022-02-04T16:53:29.220Z"
   },
   {
    "duration": 11,
    "start_time": "2022-02-04T16:53:29.245Z"
   },
   {
    "duration": 320,
    "start_time": "2022-02-04T16:53:29.257Z"
   },
   {
    "duration": 8,
    "start_time": "2022-02-04T16:53:29.579Z"
   },
   {
    "duration": 156,
    "start_time": "2022-02-04T16:53:29.894Z"
   },
   {
    "duration": 13,
    "start_time": "2022-02-04T16:53:31.264Z"
   },
   {
    "duration": 299,
    "start_time": "2022-02-04T16:53:31.524Z"
   },
   {
    "duration": 11,
    "start_time": "2022-02-04T16:53:32.384Z"
   },
   {
    "duration": 448,
    "start_time": "2022-02-04T16:53:32.804Z"
   },
   {
    "duration": 13,
    "start_time": "2022-02-04T16:53:33.624Z"
   },
   {
    "duration": 488,
    "start_time": "2022-02-04T16:53:34.214Z"
   },
   {
    "duration": 272,
    "start_time": "2022-02-04T16:54:47.173Z"
   },
   {
    "duration": 287,
    "start_time": "2022-02-04T16:56:36.444Z"
   },
   {
    "duration": 197,
    "start_time": "2022-02-04T16:57:15.233Z"
   },
   {
    "duration": 293,
    "start_time": "2022-02-04T16:57:21.444Z"
   },
   {
    "duration": 4,
    "start_time": "2022-02-04T16:57:22.975Z"
   },
   {
    "duration": 123,
    "start_time": "2022-02-04T16:57:26.414Z"
   },
   {
    "duration": 13,
    "start_time": "2022-02-04T16:57:27.164Z"
   },
   {
    "duration": 211,
    "start_time": "2022-02-04T16:57:33.454Z"
   },
   {
    "duration": 321,
    "start_time": "2022-02-04T16:57:45.964Z"
   },
   {
    "duration": 3,
    "start_time": "2022-02-04T16:57:56.074Z"
   },
   {
    "duration": 19,
    "start_time": "2022-02-04T16:57:58.264Z"
   },
   {
    "duration": 5,
    "start_time": "2022-02-04T16:58:02.825Z"
   },
   {
    "duration": 19,
    "start_time": "2022-02-04T16:58:05.404Z"
   },
   {
    "duration": 9,
    "start_time": "2022-02-04T16:58:10.413Z"
   },
   {
    "duration": 8,
    "start_time": "2022-02-04T16:58:10.854Z"
   },
   {
    "duration": 12,
    "start_time": "2022-02-04T16:58:13.144Z"
   },
   {
    "duration": 309,
    "start_time": "2022-02-04T16:58:51.644Z"
   },
   {
    "duration": 882,
    "start_time": "2022-02-04T17:03:33.785Z"
   },
   {
    "duration": 1052,
    "start_time": "2022-02-04T17:04:52.204Z"
   },
   {
    "duration": 1323,
    "start_time": "2022-02-04T17:06:05.534Z"
   },
   {
    "duration": 1543,
    "start_time": "2022-02-04T17:10:12.623Z"
   },
   {
    "duration": 3,
    "start_time": "2022-02-04T17:10:50.473Z"
   },
   {
    "duration": 1611,
    "start_time": "2022-02-04T17:11:06.443Z"
   },
   {
    "duration": 1475,
    "start_time": "2022-02-04T17:11:37.333Z"
   },
   {
    "duration": 1298,
    "start_time": "2022-02-04T17:12:52.192Z"
   },
   {
    "duration": 1368,
    "start_time": "2022-02-04T17:21:09.002Z"
   },
   {
    "duration": 1562,
    "start_time": "2022-02-04T17:21:30.052Z"
   },
   {
    "duration": 1420,
    "start_time": "2022-02-04T17:21:52.521Z"
   },
   {
    "duration": 1434,
    "start_time": "2022-02-04T17:22:19.222Z"
   },
   {
    "duration": 1389,
    "start_time": "2022-02-04T17:23:49.881Z"
   },
   {
    "duration": 1526,
    "start_time": "2022-02-04T17:29:28.101Z"
   },
   {
    "duration": 1378,
    "start_time": "2022-02-04T17:29:43.523Z"
   },
   {
    "duration": 1408,
    "start_time": "2022-02-04T17:30:04.981Z"
   },
   {
    "duration": 1474,
    "start_time": "2022-02-04T17:30:26.021Z"
   },
   {
    "duration": 1376,
    "start_time": "2022-02-04T17:30:38.682Z"
   },
   {
    "duration": 1437,
    "start_time": "2022-02-04T17:32:49.552Z"
   },
   {
    "duration": 1395,
    "start_time": "2022-02-04T17:32:59.361Z"
   },
   {
    "duration": 1400,
    "start_time": "2022-02-04T17:35:49.381Z"
   },
   {
    "duration": 2290,
    "start_time": "2022-02-04T17:39:39.131Z"
   },
   {
    "duration": 1174,
    "start_time": "2022-02-04T17:44:44.129Z"
   },
   {
    "duration": 51,
    "start_time": "2022-02-04T17:44:45.304Z"
   },
   {
    "duration": 983,
    "start_time": "2022-02-04T17:44:45.357Z"
   },
   {
    "duration": 13,
    "start_time": "2022-02-04T17:44:46.342Z"
   },
   {
    "duration": 37,
    "start_time": "2022-02-04T17:44:46.548Z"
   },
   {
    "duration": 7,
    "start_time": "2022-02-04T17:44:47.008Z"
   },
   {
    "duration": 37,
    "start_time": "2022-02-04T17:44:47.487Z"
   },
   {
    "duration": 18,
    "start_time": "2022-02-04T17:44:47.967Z"
   },
   {
    "duration": 9,
    "start_time": "2022-02-04T17:44:48.228Z"
   },
   {
    "duration": 6,
    "start_time": "2022-02-04T17:44:48.668Z"
   },
   {
    "duration": 13,
    "start_time": "2022-02-04T17:44:50.138Z"
   },
   {
    "duration": 7,
    "start_time": "2022-02-04T17:44:50.948Z"
   },
   {
    "duration": 22,
    "start_time": "2022-02-04T17:44:51.288Z"
   },
   {
    "duration": 11,
    "start_time": "2022-02-04T17:44:52.458Z"
   },
   {
    "duration": 301,
    "start_time": "2022-02-04T17:44:52.471Z"
   },
   {
    "duration": 9,
    "start_time": "2022-02-04T17:44:55.297Z"
   },
   {
    "duration": 160,
    "start_time": "2022-02-04T17:44:55.667Z"
   },
   {
    "duration": 15,
    "start_time": "2022-02-04T17:44:56.337Z"
   },
   {
    "duration": 315,
    "start_time": "2022-02-04T17:44:56.768Z"
   },
   {
    "duration": 12,
    "start_time": "2022-02-04T17:44:57.938Z"
   },
   {
    "duration": 317,
    "start_time": "2022-02-04T17:44:58.668Z"
   },
   {
    "duration": 484,
    "start_time": "2022-02-04T17:44:59.337Z"
   },
   {
    "duration": 228,
    "start_time": "2022-02-04T17:46:00.288Z"
   },
   {
    "duration": 338,
    "start_time": "2022-02-04T17:46:58.518Z"
   },
   {
    "duration": 336,
    "start_time": "2022-02-04T17:47:52.697Z"
   },
   {
    "duration": 17,
    "start_time": "2022-02-04T17:56:24.498Z"
   },
   {
    "duration": 722,
    "start_time": "2022-02-04T17:57:08.908Z"
   },
   {
    "duration": 1625,
    "start_time": "2022-02-04T17:57:30.628Z"
   },
   {
    "duration": 1573,
    "start_time": "2022-02-04T17:57:48.518Z"
   },
   {
    "duration": 1755,
    "start_time": "2022-02-04T17:57:58.618Z"
   },
   {
    "duration": 1111,
    "start_time": "2022-02-04T17:58:08.245Z"
   },
   {
    "duration": 1552,
    "start_time": "2022-02-04T17:59:53.498Z"
   },
   {
    "duration": 1047,
    "start_time": "2022-02-04T18:00:06.788Z"
   },
   {
    "duration": 1111,
    "start_time": "2022-02-04T18:00:53.288Z"
   },
   {
    "duration": 1061,
    "start_time": "2022-02-04T18:01:41.978Z"
   },
   {
    "duration": 81,
    "start_time": "2022-02-04T18:03:58.309Z"
   },
   {
    "duration": 1193,
    "start_time": "2022-02-04T18:04:11.898Z"
   },
   {
    "duration": 238,
    "start_time": "2022-02-04T18:05:07.208Z"
   },
   {
    "duration": 215,
    "start_time": "2022-02-04T18:06:05.098Z"
   },
   {
    "duration": 14,
    "start_time": "2022-02-04T18:06:15.388Z"
   },
   {
    "duration": 224,
    "start_time": "2022-02-04T18:06:50.598Z"
   },
   {
    "duration": 233,
    "start_time": "2022-02-04T18:07:53.248Z"
   },
   {
    "duration": 207,
    "start_time": "2022-02-04T18:08:12.868Z"
   },
   {
    "duration": 14,
    "start_time": "2022-02-04T18:08:34.359Z"
   },
   {
    "duration": 17,
    "start_time": "2022-02-04T18:08:49.409Z"
   },
   {
    "duration": 221,
    "start_time": "2022-02-04T18:09:02.988Z"
   },
   {
    "duration": 224,
    "start_time": "2022-02-04T18:09:15.438Z"
   },
   {
    "duration": 1272,
    "start_time": "2022-02-04T18:09:28.060Z"
   },
   {
    "duration": 50,
    "start_time": "2022-02-04T18:09:29.334Z"
   },
   {
    "duration": 1061,
    "start_time": "2022-02-04T18:09:29.387Z"
   },
   {
    "duration": 15,
    "start_time": "2022-02-04T18:09:30.450Z"
   },
   {
    "duration": 64,
    "start_time": "2022-02-04T18:09:30.467Z"
   },
   {
    "duration": 8,
    "start_time": "2022-02-04T18:09:30.533Z"
   },
   {
    "duration": 49,
    "start_time": "2022-02-04T18:09:30.543Z"
   },
   {
    "duration": 34,
    "start_time": "2022-02-04T18:09:30.595Z"
   },
   {
    "duration": 9,
    "start_time": "2022-02-04T18:09:30.631Z"
   },
   {
    "duration": 10,
    "start_time": "2022-02-04T18:09:30.642Z"
   },
   {
    "duration": 24,
    "start_time": "2022-02-04T18:09:30.654Z"
   },
   {
    "duration": 6,
    "start_time": "2022-02-04T18:09:30.680Z"
   },
   {
    "duration": 48,
    "start_time": "2022-02-04T18:09:30.688Z"
   },
   {
    "duration": 12,
    "start_time": "2022-02-04T18:09:30.737Z"
   },
   {
    "duration": 348,
    "start_time": "2022-02-04T18:09:30.750Z"
   },
   {
    "duration": 23,
    "start_time": "2022-02-04T18:09:31.099Z"
   },
   {
    "duration": 182,
    "start_time": "2022-02-04T18:09:31.123Z"
   },
   {
    "duration": 22,
    "start_time": "2022-02-04T18:09:31.307Z"
   },
   {
    "duration": 360,
    "start_time": "2022-02-04T18:09:31.331Z"
   },
   {
    "duration": 25,
    "start_time": "2022-02-04T18:09:31.693Z"
   },
   {
    "duration": 328,
    "start_time": "2022-02-04T18:09:31.720Z"
   },
   {
    "duration": -281,
    "start_time": "2022-02-04T18:09:32.332Z"
   },
   {
    "duration": -375,
    "start_time": "2022-02-04T18:09:32.428Z"
   },
   {
    "duration": -386,
    "start_time": "2022-02-04T18:09:32.440Z"
   },
   {
    "duration": -396,
    "start_time": "2022-02-04T18:09:32.451Z"
   },
   {
    "duration": -408,
    "start_time": "2022-02-04T18:09:32.464Z"
   },
   {
    "duration": -415,
    "start_time": "2022-02-04T18:09:32.472Z"
   },
   {
    "duration": -420,
    "start_time": "2022-02-04T18:09:32.478Z"
   },
   {
    "duration": -431,
    "start_time": "2022-02-04T18:09:32.490Z"
   },
   {
    "duration": -469,
    "start_time": "2022-02-04T18:09:32.530Z"
   },
   {
    "duration": -396,
    "start_time": "2022-02-04T18:09:32.534Z"
   },
   {
    "duration": -397,
    "start_time": "2022-02-04T18:09:32.537Z"
   },
   {
    "duration": -397,
    "start_time": "2022-02-04T18:09:32.539Z"
   },
   {
    "duration": -399,
    "start_time": "2022-02-04T18:09:32.542Z"
   },
   {
    "duration": -400,
    "start_time": "2022-02-04T18:09:32.544Z"
   },
   {
    "duration": -401,
    "start_time": "2022-02-04T18:09:32.547Z"
   },
   {
    "duration": -404,
    "start_time": "2022-02-04T18:09:32.551Z"
   },
   {
    "duration": 10,
    "start_time": "2022-02-04T18:10:52.969Z"
   },
   {
    "duration": 14,
    "start_time": "2022-02-04T18:11:10.039Z"
   },
   {
    "duration": 1832,
    "start_time": "2022-02-04T18:15:15.549Z"
   },
   {
    "duration": 1275,
    "start_time": "2022-02-04T18:15:39.999Z"
   },
   {
    "duration": 6549,
    "start_time": "2022-02-04T18:16:03.578Z"
   },
   {
    "duration": 8823,
    "start_time": "2022-02-04T18:17:05.639Z"
   },
   {
    "duration": 14,
    "start_time": "2022-02-04T18:17:39.219Z"
   },
   {
    "duration": 426,
    "start_time": "2022-02-04T18:18:16.158Z"
   },
   {
    "duration": 407,
    "start_time": "2022-02-04T18:18:37.549Z"
   },
   {
    "duration": 552,
    "start_time": "2022-02-04T18:18:55.548Z"
   },
   {
    "duration": 528,
    "start_time": "2022-02-04T18:19:28.119Z"
   },
   {
    "duration": 469,
    "start_time": "2022-02-04T18:19:54.359Z"
   },
   {
    "duration": 422,
    "start_time": "2022-02-04T18:20:08.529Z"
   },
   {
    "duration": 71,
    "start_time": "2022-02-04T18:20:44.409Z"
   },
   {
    "duration": 69,
    "start_time": "2022-02-04T18:20:51.219Z"
   },
   {
    "duration": 469,
    "start_time": "2022-02-04T18:21:04.349Z"
   },
   {
    "duration": 415,
    "start_time": "2022-02-04T18:21:59.829Z"
   },
   {
    "duration": 457,
    "start_time": "2022-02-04T18:22:12.381Z"
   },
   {
    "duration": 429,
    "start_time": "2022-02-04T18:22:20.849Z"
   },
   {
    "duration": 413,
    "start_time": "2022-02-04T18:22:34.849Z"
   },
   {
    "duration": 440,
    "start_time": "2022-02-04T18:22:41.189Z"
   },
   {
    "duration": 708,
    "start_time": "2022-02-04T18:23:15.298Z"
   },
   {
    "duration": 710,
    "start_time": "2022-02-04T18:23:55.058Z"
   },
   {
    "duration": 596,
    "start_time": "2022-02-04T18:23:59.578Z"
   },
   {
    "duration": 406,
    "start_time": "2022-02-04T18:25:09.029Z"
   },
   {
    "duration": 420,
    "start_time": "2022-02-04T18:25:17.329Z"
   },
   {
    "duration": 205,
    "start_time": "2022-02-04T18:26:45.378Z"
   },
   {
    "duration": 12,
    "start_time": "2022-02-04T18:26:52.329Z"
   },
   {
    "duration": 310,
    "start_time": "2022-02-04T18:26:54.369Z"
   },
   {
    "duration": 4,
    "start_time": "2022-02-04T18:26:58.598Z"
   },
   {
    "duration": 132,
    "start_time": "2022-02-04T18:26:58.991Z"
   },
   {
    "duration": 15,
    "start_time": "2022-02-04T18:27:02.548Z"
   },
   {
    "duration": 352,
    "start_time": "2022-02-04T18:27:03.669Z"
   },
   {
    "duration": 3,
    "start_time": "2022-02-04T18:27:06.409Z"
   },
   {
    "duration": 19,
    "start_time": "2022-02-04T18:27:06.889Z"
   },
   {
    "duration": 5,
    "start_time": "2022-02-04T18:27:17.589Z"
   },
   {
    "duration": 24,
    "start_time": "2022-02-04T18:27:18.909Z"
   },
   {
    "duration": 16,
    "start_time": "2022-02-04T18:27:23.309Z"
   },
   {
    "duration": 9,
    "start_time": "2022-02-04T18:27:23.689Z"
   },
   {
    "duration": 12,
    "start_time": "2022-02-04T18:27:30.249Z"
   },
   {
    "duration": 348,
    "start_time": "2022-02-04T18:27:32.298Z"
   },
   {
    "duration": 212,
    "start_time": "2022-02-04T18:35:01.848Z"
   },
   {
    "duration": 520,
    "start_time": "2022-02-04T18:37:35.118Z"
   },
   {
    "duration": 509,
    "start_time": "2022-02-04T18:38:00.468Z"
   },
   {
    "duration": 517,
    "start_time": "2022-02-04T18:38:17.538Z"
   },
   {
    "duration": 390,
    "start_time": "2022-02-04T18:38:26.988Z"
   },
   {
    "duration": 339,
    "start_time": "2022-02-04T18:39:17.818Z"
   },
   {
    "duration": 294,
    "start_time": "2022-02-04T18:39:51.138Z"
   },
   {
    "duration": 299,
    "start_time": "2022-02-04T18:40:04.428Z"
   },
   {
    "duration": 296,
    "start_time": "2022-02-04T18:40:19.969Z"
   },
   {
    "duration": 308,
    "start_time": "2022-02-04T18:40:46.547Z"
   },
   {
    "duration": 293,
    "start_time": "2022-02-04T18:41:02.850Z"
   },
   {
    "duration": 314,
    "start_time": "2022-02-04T18:41:37.928Z"
   },
   {
    "duration": 312,
    "start_time": "2022-02-04T18:41:52.648Z"
   },
   {
    "duration": 314,
    "start_time": "2022-02-04T18:42:00.688Z"
   },
   {
    "duration": 310,
    "start_time": "2022-02-04T18:42:33.827Z"
   },
   {
    "duration": 388,
    "start_time": "2022-02-04T18:42:54.368Z"
   },
   {
    "duration": 311,
    "start_time": "2022-02-04T18:43:37.688Z"
   },
   {
    "duration": 229,
    "start_time": "2022-02-04T18:49:22.198Z"
   },
   {
    "duration": 212,
    "start_time": "2022-02-04T18:54:17.547Z"
   },
   {
    "duration": 954,
    "start_time": "2022-02-04T18:55:13.017Z"
   },
   {
    "duration": 386,
    "start_time": "2022-02-04T18:55:30.737Z"
   },
   {
    "duration": 65,
    "start_time": "2022-02-04T18:56:16.678Z"
   },
   {
    "duration": 401,
    "start_time": "2022-02-04T18:56:21.437Z"
   },
   {
    "duration": 68,
    "start_time": "2022-02-04T18:57:22.588Z"
   },
   {
    "duration": 211,
    "start_time": "2022-02-04T18:57:28.377Z"
   },
   {
    "duration": 382,
    "start_time": "2022-02-04T18:58:59.577Z"
   },
   {
    "duration": 221,
    "start_time": "2022-02-04T19:01:39.648Z"
   },
   {
    "duration": 398,
    "start_time": "2022-02-04T19:02:31.257Z"
   },
   {
    "duration": 81,
    "start_time": "2022-02-04T19:03:02.027Z"
   },
   {
    "duration": 77,
    "start_time": "2022-02-04T19:04:42.767Z"
   },
   {
    "duration": 9,
    "start_time": "2022-02-04T19:06:55.787Z"
   },
   {
    "duration": 355,
    "start_time": "2022-02-04T19:07:40.708Z"
   },
   {
    "duration": 358,
    "start_time": "2022-02-04T19:07:53.947Z"
   },
   {
    "duration": 472,
    "start_time": "2022-02-04T19:08:45.297Z"
   },
   {
    "duration": 396,
    "start_time": "2022-02-04T19:08:57.767Z"
   },
   {
    "duration": 64,
    "start_time": "2022-02-04T19:09:12.997Z"
   },
   {
    "duration": 368,
    "start_time": "2022-02-04T19:12:16.378Z"
   },
   {
    "duration": 4,
    "start_time": "2022-02-04T19:12:32.857Z"
   },
   {
    "duration": 3,
    "start_time": "2022-02-04T19:13:09.107Z"
   },
   {
    "duration": 6,
    "start_time": "2022-02-04T19:13:23.538Z"
   },
   {
    "duration": 5,
    "start_time": "2022-02-04T19:13:32.357Z"
   },
   {
    "duration": 386,
    "start_time": "2022-02-04T19:13:46.427Z"
   },
   {
    "duration": 6,
    "start_time": "2022-02-04T19:14:10.857Z"
   },
   {
    "duration": 5,
    "start_time": "2022-02-04T19:15:38.238Z"
   },
   {
    "duration": 173,
    "start_time": "2022-02-04T19:18:59.687Z"
   },
   {
    "duration": 3,
    "start_time": "2022-02-04T19:19:29.637Z"
   },
   {
    "duration": 3,
    "start_time": "2022-02-04T19:19:34.786Z"
   },
   {
    "duration": 60,
    "start_time": "2022-02-04T19:20:01.388Z"
   },
   {
    "duration": 63,
    "start_time": "2022-02-04T19:20:12.307Z"
   },
   {
    "duration": 79,
    "start_time": "2022-02-04T19:20:30.138Z"
   },
   {
    "duration": 394,
    "start_time": "2022-02-04T19:22:12.727Z"
   },
   {
    "duration": 97,
    "start_time": "2022-02-04T19:22:44.287Z"
   },
   {
    "duration": 87,
    "start_time": "2022-02-04T19:23:11.407Z"
   },
   {
    "duration": 302,
    "start_time": "2022-02-04T19:25:43.137Z"
   },
   {
    "duration": 94,
    "start_time": "2022-02-04T19:28:13.707Z"
   },
   {
    "duration": 315,
    "start_time": "2022-02-04T19:29:43.577Z"
   },
   {
    "duration": 428,
    "start_time": "2022-02-04T19:31:29.327Z"
   },
   {
    "duration": 438,
    "start_time": "2022-02-04T19:31:54.117Z"
   },
   {
    "duration": 444,
    "start_time": "2022-02-04T19:32:19.617Z"
   },
   {
    "duration": 423,
    "start_time": "2022-02-04T19:32:56.647Z"
   },
   {
    "duration": 610,
    "start_time": "2022-02-04T19:33:40.497Z"
   },
   {
    "duration": 303,
    "start_time": "2022-02-04T19:33:48.246Z"
   },
   {
    "duration": 306,
    "start_time": "2022-02-04T19:34:48.537Z"
   },
   {
    "duration": 320,
    "start_time": "2022-02-04T19:35:05.597Z"
   },
   {
    "duration": 3,
    "start_time": "2022-02-04T19:35:15.356Z"
   },
   {
    "duration": 141,
    "start_time": "2022-02-04T19:35:15.917Z"
   },
   {
    "duration": 16,
    "start_time": "2022-02-04T19:35:19.407Z"
   },
   {
    "duration": 329,
    "start_time": "2022-02-04T19:36:05.576Z"
   },
   {
    "duration": 3,
    "start_time": "2022-02-04T19:36:15.196Z"
   },
   {
    "duration": 21,
    "start_time": "2022-02-04T19:36:15.826Z"
   },
   {
    "duration": 5,
    "start_time": "2022-02-04T19:36:18.467Z"
   },
   {
    "duration": 18,
    "start_time": "2022-02-04T19:36:19.747Z"
   },
   {
    "duration": 10,
    "start_time": "2022-02-04T19:36:22.476Z"
   },
   {
    "duration": 16,
    "start_time": "2022-02-04T19:36:23.238Z"
   },
   {
    "duration": 338,
    "start_time": "2022-02-04T19:37:23.677Z"
   },
   {
    "duration": 1431,
    "start_time": "2022-02-05T07:49:54.624Z"
   },
   {
    "duration": 51,
    "start_time": "2022-02-05T07:49:56.057Z"
   },
   {
    "duration": 885,
    "start_time": "2022-02-05T07:49:56.110Z"
   },
   {
    "duration": 16,
    "start_time": "2022-02-05T07:49:56.998Z"
   },
   {
    "duration": 49,
    "start_time": "2022-02-05T07:49:57.016Z"
   },
   {
    "duration": 9,
    "start_time": "2022-02-05T07:49:57.067Z"
   },
   {
    "duration": 37,
    "start_time": "2022-02-05T07:49:57.304Z"
   },
   {
    "duration": 19,
    "start_time": "2022-02-05T07:49:57.704Z"
   },
   {
    "duration": 10,
    "start_time": "2022-02-05T07:49:57.894Z"
   },
   {
    "duration": 7,
    "start_time": "2022-02-05T07:49:59.534Z"
   },
   {
    "duration": 18,
    "start_time": "2022-02-05T07:50:01.034Z"
   },
   {
    "duration": 9,
    "start_time": "2022-02-05T07:50:01.834Z"
   },
   {
    "duration": 34,
    "start_time": "2022-02-05T07:50:02.054Z"
   },
   {
    "duration": 8,
    "start_time": "2022-02-05T07:50:14.094Z"
   },
   {
    "duration": 426,
    "start_time": "2022-02-05T07:50:18.474Z"
   },
   {
    "duration": 282,
    "start_time": "2022-02-05T07:50:56.284Z"
   },
   {
    "duration": 265,
    "start_time": "2022-02-05T07:51:01.684Z"
   },
   {
    "duration": 250,
    "start_time": "2022-02-05T07:52:46.694Z"
   },
   {
    "duration": 14,
    "start_time": "2022-02-05T07:53:14.903Z"
   },
   {
    "duration": 102,
    "start_time": "2022-02-05T07:56:07.384Z"
   },
   {
    "duration": 249,
    "start_time": "2022-02-05T07:56:17.143Z"
   },
   {
    "duration": 405,
    "start_time": "2022-02-05T07:56:33.263Z"
   },
   {
    "duration": 118,
    "start_time": "2022-02-05T07:56:43.413Z"
   },
   {
    "duration": 500,
    "start_time": "2022-02-05T07:56:53.703Z"
   },
   {
    "duration": 292,
    "start_time": "2022-02-05T07:57:35.033Z"
   },
   {
    "duration": 128,
    "start_time": "2022-02-05T07:58:07.083Z"
   },
   {
    "duration": 179,
    "start_time": "2022-02-05T07:58:18.439Z"
   },
   {
    "duration": 210,
    "start_time": "2022-02-05T07:59:13.543Z"
   },
   {
    "duration": 183,
    "start_time": "2022-02-05T08:00:50.293Z"
   },
   {
    "duration": 12,
    "start_time": "2022-02-05T08:00:59.004Z"
   },
   {
    "duration": 184,
    "start_time": "2022-02-05T08:01:00.473Z"
   },
   {
    "duration": 3,
    "start_time": "2022-02-05T08:01:43.724Z"
   },
   {
    "duration": 4,
    "start_time": "2022-02-05T08:01:50.864Z"
   },
   {
    "duration": 12,
    "start_time": "2022-02-05T08:02:37.704Z"
   },
   {
    "duration": 2,
    "start_time": "2022-02-05T08:02:39.044Z"
   },
   {
    "duration": 191,
    "start_time": "2022-02-05T08:02:40.004Z"
   },
   {
    "duration": 1272,
    "start_time": "2022-02-05T08:02:56.336Z"
   },
   {
    "duration": 51,
    "start_time": "2022-02-05T08:02:57.610Z"
   },
   {
    "duration": 905,
    "start_time": "2022-02-05T08:02:57.663Z"
   },
   {
    "duration": 15,
    "start_time": "2022-02-05T08:02:58.570Z"
   },
   {
    "duration": 37,
    "start_time": "2022-02-05T08:02:58.588Z"
   },
   {
    "duration": 9,
    "start_time": "2022-02-05T08:02:58.758Z"
   },
   {
    "duration": 39,
    "start_time": "2022-02-05T08:02:59.117Z"
   },
   {
    "duration": 21,
    "start_time": "2022-02-05T08:02:59.526Z"
   },
   {
    "duration": 9,
    "start_time": "2022-02-05T08:02:59.747Z"
   },
   {
    "duration": 7,
    "start_time": "2022-02-05T08:03:00.166Z"
   },
   {
    "duration": 19,
    "start_time": "2022-02-05T08:03:01.496Z"
   },
   {
    "duration": 8,
    "start_time": "2022-02-05T08:03:02.436Z"
   },
   {
    "duration": 25,
    "start_time": "2022-02-05T08:03:02.616Z"
   },
   {
    "duration": 80,
    "start_time": "2022-02-05T08:03:03.627Z"
   },
   {
    "duration": 12,
    "start_time": "2022-02-05T08:03:03.827Z"
   },
   {
    "duration": 3,
    "start_time": "2022-02-05T08:03:04.037Z"
   },
   {
    "duration": 191,
    "start_time": "2022-02-05T08:03:04.747Z"
   },
   {
    "duration": 192,
    "start_time": "2022-02-05T08:05:19.717Z"
   },
   {
    "duration": 13,
    "start_time": "2022-02-05T08:06:13.977Z"
   },
   {
    "duration": 11,
    "start_time": "2022-02-05T08:14:17.415Z"
   },
   {
    "duration": 11,
    "start_time": "2022-02-05T08:15:06.056Z"
   },
   {
    "duration": 84,
    "start_time": "2022-02-05T08:15:06.715Z"
   },
   {
    "duration": 80,
    "start_time": "2022-02-05T08:15:12.236Z"
   },
   {
    "duration": 274,
    "start_time": "2022-02-05T08:15:25.905Z"
   },
   {
    "duration": 145,
    "start_time": "2022-02-05T08:15:41.525Z"
   },
   {
    "duration": 162,
    "start_time": "2022-02-05T08:17:32.735Z"
   },
   {
    "duration": 403,
    "start_time": "2022-02-05T08:20:47.195Z"
   },
   {
    "duration": 272,
    "start_time": "2022-02-05T08:21:07.595Z"
   },
   {
    "duration": 94,
    "start_time": "2022-02-05T08:23:15.436Z"
   },
   {
    "duration": 6754,
    "start_time": "2022-02-05T08:23:26.025Z"
   },
   {
    "duration": 12,
    "start_time": "2022-02-05T08:23:58.475Z"
   },
   {
    "duration": 14,
    "start_time": "2022-02-05T08:24:31.295Z"
   },
   {
    "duration": 20,
    "start_time": "2022-02-05T08:24:46.835Z"
   },
   {
    "duration": 4,
    "start_time": "2022-02-05T08:24:56.205Z"
   },
   {
    "duration": 53,
    "start_time": "2022-02-05T08:24:56.705Z"
   },
   {
    "duration": 971,
    "start_time": "2022-02-05T08:24:57.045Z"
   },
   {
    "duration": 11,
    "start_time": "2022-02-05T08:24:58.018Z"
   },
   {
    "duration": 40,
    "start_time": "2022-02-05T08:24:58.031Z"
   },
   {
    "duration": 9,
    "start_time": "2022-02-05T08:24:58.345Z"
   },
   {
    "duration": 37,
    "start_time": "2022-02-05T08:24:58.735Z"
   },
   {
    "duration": 19,
    "start_time": "2022-02-05T08:24:59.125Z"
   },
   {
    "duration": 9,
    "start_time": "2022-02-05T08:24:59.335Z"
   },
   {
    "duration": 7,
    "start_time": "2022-02-05T08:24:59.746Z"
   },
   {
    "duration": 16,
    "start_time": "2022-02-05T08:25:00.965Z"
   },
   {
    "duration": 9,
    "start_time": "2022-02-05T08:25:01.625Z"
   },
   {
    "duration": 25,
    "start_time": "2022-02-05T08:25:01.845Z"
   },
   {
    "duration": 12,
    "start_time": "2022-02-05T08:25:02.865Z"
   },
   {
    "duration": 209,
    "start_time": "2022-02-05T08:25:03.775Z"
   },
   {
    "duration": 15,
    "start_time": "2022-02-05T08:25:05.105Z"
   },
   {
    "duration": 13,
    "start_time": "2022-02-05T08:25:24.205Z"
   },
   {
    "duration": 13,
    "start_time": "2022-02-05T08:25:37.285Z"
   },
   {
    "duration": 13,
    "start_time": "2022-02-05T08:25:49.775Z"
   },
   {
    "duration": 15,
    "start_time": "2022-02-05T08:26:24.805Z"
   },
   {
    "duration": 14,
    "start_time": "2022-02-05T08:26:42.215Z"
   },
   {
    "duration": 14,
    "start_time": "2022-02-05T08:26:44.945Z"
   },
   {
    "duration": 11,
    "start_time": "2022-02-05T08:27:29.085Z"
   },
   {
    "duration": 95,
    "start_time": "2022-02-05T08:28:25.605Z"
   },
   {
    "duration": 158,
    "start_time": "2022-02-05T08:28:33.265Z"
   },
   {
    "duration": 85,
    "start_time": "2022-02-05T09:41:51.033Z"
   },
   {
    "duration": 84,
    "start_time": "2022-02-05T09:47:40.047Z"
   },
   {
    "duration": 259,
    "start_time": "2022-02-05T09:51:47.206Z"
   },
   {
    "duration": 15,
    "start_time": "2022-02-05T09:51:50.686Z"
   },
   {
    "duration": 423,
    "start_time": "2022-02-05T09:51:52.187Z"
   },
   {
    "duration": 421,
    "start_time": "2022-02-05T09:52:04.436Z"
   },
   {
    "duration": 410,
    "start_time": "2022-02-05T09:53:34.347Z"
   },
   {
    "duration": 401,
    "start_time": "2022-02-05T09:55:46.437Z"
   },
   {
    "duration": 859,
    "start_time": "2022-02-05T09:56:50.107Z"
   },
   {
    "duration": 424,
    "start_time": "2022-02-05T09:57:06.297Z"
   },
   {
    "duration": 665,
    "start_time": "2022-02-05T09:57:38.067Z"
   },
   {
    "duration": 84,
    "start_time": "2022-02-05T09:58:50.257Z"
   },
   {
    "duration": 463,
    "start_time": "2022-02-05T09:59:01.367Z"
   },
   {
    "duration": 502,
    "start_time": "2022-02-05T10:01:55.538Z"
   },
   {
    "duration": 127,
    "start_time": "2022-02-05T10:02:39.596Z"
   },
   {
    "duration": 411,
    "start_time": "2022-02-05T10:02:44.346Z"
   },
   {
    "duration": 455,
    "start_time": "2022-02-05T10:03:09.917Z"
   },
   {
    "duration": 435,
    "start_time": "2022-02-05T10:03:46.577Z"
   },
   {
    "duration": 412,
    "start_time": "2022-02-05T10:04:14.497Z"
   },
   {
    "duration": 403,
    "start_time": "2022-02-05T10:04:25.937Z"
   },
   {
    "duration": 436,
    "start_time": "2022-02-05T10:04:52.167Z"
   },
   {
    "duration": 397,
    "start_time": "2022-02-05T10:06:51.827Z"
   },
   {
    "duration": 446,
    "start_time": "2022-02-05T10:07:15.726Z"
   },
   {
    "duration": 586,
    "start_time": "2022-02-05T10:07:22.007Z"
   },
   {
    "duration": 468,
    "start_time": "2022-02-05T10:08:23.787Z"
   },
   {
    "duration": 716,
    "start_time": "2022-02-05T10:12:58.997Z"
   },
   {
    "duration": 741,
    "start_time": "2022-02-05T10:13:08.366Z"
   },
   {
    "duration": 423,
    "start_time": "2022-02-05T10:13:34.306Z"
   },
   {
    "duration": 416,
    "start_time": "2022-02-05T10:13:51.637Z"
   },
   {
    "duration": 425,
    "start_time": "2022-02-05T10:14:20.266Z"
   },
   {
    "duration": 431,
    "start_time": "2022-02-05T10:14:48.957Z"
   },
   {
    "duration": 427,
    "start_time": "2022-02-05T10:15:41.756Z"
   },
   {
    "duration": 527,
    "start_time": "2022-02-05T10:17:39.746Z"
   },
   {
    "duration": 338,
    "start_time": "2022-02-05T10:26:41.166Z"
   },
   {
    "duration": 13,
    "start_time": "2022-02-05T10:26:50.226Z"
   },
   {
    "duration": 311,
    "start_time": "2022-02-05T10:26:51.316Z"
   },
   {
    "duration": 4,
    "start_time": "2022-02-05T10:51:52.576Z"
   },
   {
    "duration": 125,
    "start_time": "2022-02-05T10:51:53.076Z"
   },
   {
    "duration": 1140,
    "start_time": "2022-02-06T19:24:33.001Z"
   },
   {
    "duration": 44,
    "start_time": "2022-02-06T19:24:34.142Z"
   },
   {
    "duration": 1060,
    "start_time": "2022-02-06T19:24:34.254Z"
   },
   {
    "duration": 12,
    "start_time": "2022-02-06T19:24:35.315Z"
   },
   {
    "duration": 33,
    "start_time": "2022-02-06T19:24:35.951Z"
   },
   {
    "duration": 7,
    "start_time": "2022-02-06T19:24:36.721Z"
   },
   {
    "duration": 31,
    "start_time": "2022-02-06T19:24:37.461Z"
   },
   {
    "duration": 17,
    "start_time": "2022-02-06T19:24:38.381Z"
   },
   {
    "duration": 9,
    "start_time": "2022-02-06T19:24:38.720Z"
   },
   {
    "duration": 5,
    "start_time": "2022-02-06T19:24:39.351Z"
   },
   {
    "duration": 13,
    "start_time": "2022-02-06T19:24:41.261Z"
   },
   {
    "duration": 7,
    "start_time": "2022-02-06T19:24:42.150Z"
   },
   {
    "duration": 20,
    "start_time": "2022-02-06T19:24:42.411Z"
   },
   {
    "duration": 10,
    "start_time": "2022-02-06T19:24:44.231Z"
   },
   {
    "duration": 191,
    "start_time": "2022-02-06T19:24:44.932Z"
   },
   {
    "duration": 14,
    "start_time": "2022-02-06T19:24:46.501Z"
   },
   {
    "duration": 136,
    "start_time": "2022-02-06T19:24:46.830Z"
   },
   {
    "duration": 112,
    "start_time": "2022-02-06T19:24:48.381Z"
   },
   {
    "duration": 439,
    "start_time": "2022-02-06T19:24:49.461Z"
   },
   {
    "duration": 12,
    "start_time": "2022-02-06T19:25:08.661Z"
   },
   {
    "duration": 255,
    "start_time": "2022-02-06T19:25:13.163Z"
   },
   {
    "duration": 18,
    "start_time": "2022-02-06T19:26:16.971Z"
   },
   {
    "duration": 410,
    "start_time": "2022-02-06T19:26:18.431Z"
   },
   {
    "duration": 12,
    "start_time": "2022-02-06T19:26:20.280Z"
   },
   {
    "duration": 251,
    "start_time": "2022-02-06T19:26:24.471Z"
   },
   {
    "duration": 3,
    "start_time": "2022-02-06T19:26:28.791Z"
   },
   {
    "duration": 107,
    "start_time": "2022-02-06T19:26:29.720Z"
   },
   {
    "duration": 11,
    "start_time": "2022-02-06T19:26:31.491Z"
   },
   {
    "duration": 262,
    "start_time": "2022-02-06T19:26:32.412Z"
   },
   {
    "duration": 118,
    "start_time": "2022-02-06T19:28:06.941Z"
   },
   {
    "duration": 101,
    "start_time": "2022-02-06T19:28:47.991Z"
   },
   {
    "duration": 255,
    "start_time": "2022-02-06T19:30:02.361Z"
   },
   {
    "duration": 247,
    "start_time": "2022-02-06T19:30:12.381Z"
   },
   {
    "duration": 370,
    "start_time": "2022-02-06T19:30:28.921Z"
   },
   {
    "duration": 244,
    "start_time": "2022-02-06T19:30:45.451Z"
   },
   {
    "duration": 277,
    "start_time": "2022-02-06T19:31:06.032Z"
   },
   {
    "duration": 315,
    "start_time": "2022-02-06T19:31:20.491Z"
   },
   {
    "duration": 275,
    "start_time": "2022-02-06T19:31:27.072Z"
   },
   {
    "duration": 3,
    "start_time": "2022-02-06T19:31:27.348Z"
   },
   {
    "duration": 18,
    "start_time": "2022-02-06T19:31:27.561Z"
   },
   {
    "duration": 6,
    "start_time": "2022-02-06T19:31:28.091Z"
   },
   {
    "duration": 18,
    "start_time": "2022-02-06T19:31:28.321Z"
   },
   {
    "duration": 10,
    "start_time": "2022-02-06T19:31:28.871Z"
   },
   {
    "duration": 11,
    "start_time": "2022-02-06T19:31:29.171Z"
   },
   {
    "duration": 264,
    "start_time": "2022-02-06T19:31:29.452Z"
   },
   {
    "duration": 499,
    "start_time": "2022-02-06T19:34:51.821Z"
   },
   {
    "duration": 98,
    "start_time": "2022-02-06T19:42:34.621Z"
   },
   {
    "duration": 18,
    "start_time": "2022-02-06T19:42:39.891Z"
   },
   {
    "duration": 9,
    "start_time": "2022-02-06T19:45:00.609Z"
   },
   {
    "duration": 261,
    "start_time": "2022-02-06T19:55:12.091Z"
   },
   {
    "duration": 258,
    "start_time": "2022-02-06T19:55:31.151Z"
   },
   {
    "duration": 267,
    "start_time": "2022-02-06T19:55:54.921Z"
   },
   {
    "duration": 282,
    "start_time": "2022-02-06T19:56:04.722Z"
   },
   {
    "duration": 333,
    "start_time": "2022-02-06T19:57:34.361Z"
   },
   {
    "duration": 571,
    "start_time": "2022-02-06T19:58:20.071Z"
   },
   {
    "duration": 490,
    "start_time": "2022-02-06T19:58:31.141Z"
   },
   {
    "duration": 3,
    "start_time": "2022-02-06T20:00:32.480Z"
   },
   {
    "duration": 322,
    "start_time": "2022-02-06T20:00:41.331Z"
   },
   {
    "duration": 3,
    "start_time": "2022-02-06T20:01:24.951Z"
   },
   {
    "duration": 45,
    "start_time": "2022-02-06T20:01:26.981Z"
   },
   {
    "duration": 314,
    "start_time": "2022-02-06T20:01:31.662Z"
   },
   {
    "duration": 323,
    "start_time": "2022-02-06T20:01:56.941Z"
   },
   {
    "duration": 142,
    "start_time": "2022-02-06T20:02:00.901Z"
   },
   {
    "duration": 3,
    "start_time": "2022-02-06T20:02:12.921Z"
   },
   {
    "duration": 454,
    "start_time": "2022-02-06T20:03:25.091Z"
   },
   {
    "duration": 447,
    "start_time": "2022-02-06T20:03:34.600Z"
   },
   {
    "duration": 434,
    "start_time": "2022-02-06T20:03:56.150Z"
   },
   {
    "duration": 135,
    "start_time": "2022-02-06T20:04:08.091Z"
   },
   {
    "duration": 134,
    "start_time": "2022-02-06T20:04:16.329Z"
   },
   {
    "duration": 188,
    "start_time": "2022-02-06T20:11:53.891Z"
   },
   {
    "duration": 340,
    "start_time": "2022-02-06T20:54:07.136Z"
   },
   {
    "duration": 333,
    "start_time": "2022-02-06T20:54:13.166Z"
   },
   {
    "duration": 256,
    "start_time": "2022-02-06T20:55:17.741Z"
   },
   {
    "duration": 249,
    "start_time": "2022-02-06T20:55:46.556Z"
   },
   {
    "duration": 354,
    "start_time": "2022-02-06T20:56:06.316Z"
   },
   {
    "duration": 260,
    "start_time": "2022-02-06T20:56:14.246Z"
   },
   {
    "duration": 261,
    "start_time": "2022-02-06T20:56:23.086Z"
   },
   {
    "duration": 262,
    "start_time": "2022-02-06T20:56:37.545Z"
   },
   {
    "duration": 116,
    "start_time": "2022-02-07T09:49:51.772Z"
   },
   {
    "duration": 413,
    "start_time": "2022-02-07T09:50:19.666Z"
   },
   {
    "duration": 1151,
    "start_time": "2022-02-07T09:50:28.237Z"
   },
   {
    "duration": 41,
    "start_time": "2022-02-07T09:50:29.390Z"
   },
   {
    "duration": 1044,
    "start_time": "2022-02-07T09:50:29.433Z"
   },
   {
    "duration": 12,
    "start_time": "2022-02-07T09:50:30.479Z"
   },
   {
    "duration": 35,
    "start_time": "2022-02-07T09:50:30.492Z"
   },
   {
    "duration": 8,
    "start_time": "2022-02-07T09:50:30.528Z"
   },
   {
    "duration": 33,
    "start_time": "2022-02-07T09:50:30.537Z"
   },
   {
    "duration": 15,
    "start_time": "2022-02-07T09:50:30.572Z"
   },
   {
    "duration": 7,
    "start_time": "2022-02-07T09:50:30.589Z"
   },
   {
    "duration": 31,
    "start_time": "2022-02-07T09:50:30.597Z"
   },
   {
    "duration": 13,
    "start_time": "2022-02-07T09:50:30.629Z"
   },
   {
    "duration": 5,
    "start_time": "2022-02-07T09:50:30.644Z"
   },
   {
    "duration": 22,
    "start_time": "2022-02-07T09:50:30.651Z"
   },
   {
    "duration": 12,
    "start_time": "2022-02-07T09:50:30.817Z"
   },
   {
    "duration": 187,
    "start_time": "2022-02-07T09:50:30.887Z"
   },
   {
    "duration": 8,
    "start_time": "2022-02-07T09:50:31.075Z"
   },
   {
    "duration": 143,
    "start_time": "2022-02-07T09:50:31.085Z"
   },
   {
    "duration": 11,
    "start_time": "2022-02-07T09:50:31.230Z"
   },
   {
    "duration": 258,
    "start_time": "2022-02-07T09:50:31.243Z"
   },
   {
    "duration": 25,
    "start_time": "2022-02-07T09:50:31.502Z"
   },
   {
    "duration": 361,
    "start_time": "2022-02-07T09:50:31.529Z"
   },
   {
    "duration": 11,
    "start_time": "2022-02-07T09:50:33.957Z"
   },
   {
    "duration": 302,
    "start_time": "2022-02-07T09:50:33.970Z"
   },
   {
    "duration": 2,
    "start_time": "2022-02-07T09:50:34.274Z"
   },
   {
    "duration": 124,
    "start_time": "2022-02-07T09:50:34.278Z"
   },
   {
    "duration": 23,
    "start_time": "2022-02-07T09:50:34.404Z"
   },
   {
    "duration": 8,
    "start_time": "2022-02-07T09:50:34.429Z"
   },
   {
    "duration": 295,
    "start_time": "2022-02-07T09:50:34.438Z"
   },
   {
    "duration": 3,
    "start_time": "2022-02-07T09:50:34.735Z"
   },
   {
    "duration": 20,
    "start_time": "2022-02-07T09:50:34.740Z"
   },
   {
    "duration": 4,
    "start_time": "2022-02-07T09:50:34.762Z"
   },
   {
    "duration": 19,
    "start_time": "2022-02-07T09:50:34.768Z"
   },
   {
    "duration": 42,
    "start_time": "2022-02-07T09:50:34.788Z"
   },
   {
    "duration": 10,
    "start_time": "2022-02-07T09:50:34.832Z"
   },
   {
    "duration": 281,
    "start_time": "2022-02-07T09:50:34.844Z"
   },
   {
    "duration": 13,
    "start_time": "2022-02-07T09:56:26.676Z"
   },
   {
    "duration": 416,
    "start_time": "2022-02-07T09:57:22.306Z"
   },
   {
    "duration": 6,
    "start_time": "2022-02-07T09:57:31.046Z"
   },
   {
    "duration": 12,
    "start_time": "2022-02-07T09:58:01.277Z"
   },
   {
    "duration": 5,
    "start_time": "2022-02-07T09:58:30.607Z"
   },
   {
    "duration": 8,
    "start_time": "2022-02-07T09:58:51.396Z"
   },
   {
    "duration": 10,
    "start_time": "2022-02-07T09:59:35.516Z"
   },
   {
    "duration": 5,
    "start_time": "2022-02-07T10:01:34.476Z"
   },
   {
    "duration": 10754,
    "start_time": "2022-02-07T10:02:09.066Z"
   },
   {
    "duration": 8,
    "start_time": "2022-02-07T10:03:18.026Z"
   },
   {
    "duration": 355,
    "start_time": "2022-02-07T10:04:47.396Z"
   },
   {
    "duration": 6,
    "start_time": "2022-02-07T10:05:22.066Z"
   },
   {
    "duration": 11,
    "start_time": "2022-02-07T10:05:39.836Z"
   },
   {
    "duration": 9,
    "start_time": "2022-02-07T10:05:55.496Z"
   },
   {
    "duration": 6,
    "start_time": "2022-02-07T10:06:03.256Z"
   },
   {
    "duration": 9,
    "start_time": "2022-02-07T10:06:09.806Z"
   },
   {
    "duration": 3,
    "start_time": "2022-02-07T10:06:44.336Z"
   },
   {
    "duration": 43,
    "start_time": "2022-02-07T10:06:45.046Z"
   },
   {
    "duration": 901,
    "start_time": "2022-02-07T10:06:45.447Z"
   },
   {
    "duration": 9,
    "start_time": "2022-02-07T10:06:46.350Z"
   },
   {
    "duration": 32,
    "start_time": "2022-02-07T10:06:46.415Z"
   },
   {
    "duration": 8,
    "start_time": "2022-02-07T10:06:46.816Z"
   },
   {
    "duration": 31,
    "start_time": "2022-02-07T10:06:47.216Z"
   },
   {
    "duration": 16,
    "start_time": "2022-02-07T10:06:47.586Z"
   },
   {
    "duration": 8,
    "start_time": "2022-02-07T10:06:47.806Z"
   },
   {
    "duration": 6,
    "start_time": "2022-02-07T10:06:48.186Z"
   },
   {
    "duration": 12,
    "start_time": "2022-02-07T10:06:49.236Z"
   },
   {
    "duration": 6,
    "start_time": "2022-02-07T10:06:49.856Z"
   },
   {
    "duration": 23,
    "start_time": "2022-02-07T10:06:50.077Z"
   },
   {
    "duration": 9,
    "start_time": "2022-02-07T10:06:51.356Z"
   },
   {
    "duration": 179,
    "start_time": "2022-02-07T10:06:51.926Z"
   },
   {
    "duration": 9,
    "start_time": "2022-02-07T10:06:52.985Z"
   },
   {
    "duration": 134,
    "start_time": "2022-02-07T10:06:53.246Z"
   },
   {
    "duration": 14,
    "start_time": "2022-02-07T10:06:54.276Z"
   },
   {
    "duration": 255,
    "start_time": "2022-02-07T10:06:55.326Z"
   },
   {
    "duration": 13,
    "start_time": "2022-02-07T10:06:56.826Z"
   },
   {
    "duration": 393,
    "start_time": "2022-02-07T10:06:57.426Z"
   },
   {
    "duration": 11,
    "start_time": "2022-02-07T10:06:58.346Z"
   },
   {
    "duration": 250,
    "start_time": "2022-02-07T10:06:59.036Z"
   },
   {
    "duration": 3,
    "start_time": "2022-02-07T10:07:00.706Z"
   },
   {
    "duration": 111,
    "start_time": "2022-02-07T10:07:01.006Z"
   },
   {
    "duration": 13,
    "start_time": "2022-02-07T10:07:01.806Z"
   },
   {
    "duration": 7,
    "start_time": "2022-02-07T10:07:02.136Z"
   },
   {
    "duration": 261,
    "start_time": "2022-02-07T10:07:02.686Z"
   },
   {
    "duration": 2,
    "start_time": "2022-02-07T10:07:03.466Z"
   },
   {
    "duration": 20,
    "start_time": "2022-02-07T10:07:03.756Z"
   },
   {
    "duration": 13,
    "start_time": "2022-02-07T10:07:05.166Z"
   },
   {
    "duration": 9,
    "start_time": "2022-02-07T10:07:05.436Z"
   },
   {
    "duration": 12,
    "start_time": "2022-02-07T10:07:27.396Z"
   },
   {
    "duration": 10,
    "start_time": "2022-02-07T10:07:35.106Z"
   },
   {
    "duration": 292,
    "start_time": "2022-02-07T10:15:40.966Z"
   },
   {
    "duration": 295,
    "start_time": "2022-02-07T10:15:58.725Z"
   },
   {
    "duration": 359,
    "start_time": "2022-02-07T10:16:06.595Z"
   },
   {
    "duration": 259,
    "start_time": "2022-02-07T10:16:24.616Z"
   },
   {
    "duration": 261,
    "start_time": "2022-02-07T10:16:35.466Z"
   },
   {
    "duration": 260,
    "start_time": "2022-02-07T10:16:48.446Z"
   },
   {
    "duration": 264,
    "start_time": "2022-02-07T10:17:07.576Z"
   },
   {
    "duration": 261,
    "start_time": "2022-02-07T10:17:18.496Z"
   },
   {
    "duration": 380,
    "start_time": "2022-02-07T10:17:37.676Z"
   },
   {
    "duration": 109,
    "start_time": "2022-02-07T10:17:48.056Z"
   },
   {
    "duration": 286,
    "start_time": "2022-02-07T10:18:03.876Z"
   },
   {
    "duration": 293,
    "start_time": "2022-02-07T10:18:22.955Z"
   },
   {
    "duration": 296,
    "start_time": "2022-02-07T10:18:29.886Z"
   },
   {
    "duration": 294,
    "start_time": "2022-02-07T10:18:37.065Z"
   },
   {
    "duration": 1043,
    "start_time": "2022-02-07T10:39:59.966Z"
   },
   {
    "duration": 1463,
    "start_time": "2022-02-07T10:40:40.936Z"
   },
   {
    "duration": 1613,
    "start_time": "2022-02-07T10:41:23.766Z"
   },
   {
    "duration": 11,
    "start_time": "2022-02-07T10:41:38.596Z"
   },
   {
    "duration": 1009,
    "start_time": "2022-02-07T10:42:14.646Z"
   },
   {
    "duration": 11,
    "start_time": "2022-02-07T10:42:34.696Z"
   },
   {
    "duration": 12,
    "start_time": "2022-02-07T10:42:50.525Z"
   },
   {
    "duration": 91,
    "start_time": "2022-02-07T10:43:01.986Z"
   },
   {
    "duration": 115,
    "start_time": "2022-02-07T10:44:35.816Z"
   },
   {
    "duration": 3,
    "start_time": "2022-02-07T10:51:33.285Z"
   },
   {
    "duration": 44,
    "start_time": "2022-02-07T10:51:33.815Z"
   },
   {
    "duration": 2398,
    "start_time": "2022-02-07T10:51:34.166Z"
   },
   {
    "duration": 9,
    "start_time": "2022-02-07T10:51:36.566Z"
   },
   {
    "duration": 32,
    "start_time": "2022-02-07T10:51:36.577Z"
   },
   {
    "duration": 8,
    "start_time": "2022-02-07T10:51:36.611Z"
   },
   {
    "duration": 34,
    "start_time": "2022-02-07T10:51:36.620Z"
   },
   {
    "duration": 16,
    "start_time": "2022-02-07T10:51:36.655Z"
   },
   {
    "duration": 8,
    "start_time": "2022-02-07T10:51:36.672Z"
   },
   {
    "duration": 5,
    "start_time": "2022-02-07T10:51:36.886Z"
   },
   {
    "duration": 12,
    "start_time": "2022-02-07T10:51:38.016Z"
   },
   {
    "duration": 6,
    "start_time": "2022-02-07T10:51:38.645Z"
   },
   {
    "duration": 20,
    "start_time": "2022-02-07T10:51:38.995Z"
   },
   {
    "duration": 11,
    "start_time": "2022-02-07T10:51:40.125Z"
   },
   {
    "duration": 172,
    "start_time": "2022-02-07T10:51:40.458Z"
   },
   {
    "duration": 9,
    "start_time": "2022-02-07T10:51:41.405Z"
   },
   {
    "duration": 131,
    "start_time": "2022-02-07T10:51:41.635Z"
   },
   {
    "duration": 12,
    "start_time": "2022-02-07T10:51:42.595Z"
   },
   {
    "duration": 262,
    "start_time": "2022-02-07T10:51:43.077Z"
   },
   {
    "duration": 13,
    "start_time": "2022-02-07T10:51:44.735Z"
   },
   {
    "duration": 350,
    "start_time": "2022-02-07T10:51:45.455Z"
   },
   {
    "duration": 11,
    "start_time": "2022-02-07T10:51:47.655Z"
   },
   {
    "duration": 285,
    "start_time": "2022-02-07T10:51:48.455Z"
   },
   {
    "duration": 4,
    "start_time": "2022-02-07T10:51:49.735Z"
   },
   {
    "duration": 101,
    "start_time": "2022-02-07T10:51:51.085Z"
   },
   {
    "duration": 11,
    "start_time": "2022-02-07T10:51:52.005Z"
   },
   {
    "duration": 6,
    "start_time": "2022-02-07T10:51:52.325Z"
   },
   {
    "duration": 282,
    "start_time": "2022-02-07T10:51:54.538Z"
   },
   {
    "duration": 3,
    "start_time": "2022-02-07T10:51:58.855Z"
   },
   {
    "duration": 19,
    "start_time": "2022-02-07T10:51:59.855Z"
   },
   {
    "duration": 13,
    "start_time": "2022-02-07T10:52:00.556Z"
   },
   {
    "duration": 298,
    "start_time": "2022-02-07T10:52:01.355Z"
   },
   {
    "duration": 2152,
    "start_time": "2022-02-07T10:52:42.796Z"
   },
   {
    "duration": 388,
    "start_time": "2022-02-07T10:53:11.286Z"
   },
   {
    "duration": 13,
    "start_time": "2022-02-07T10:53:51.566Z"
   },
   {
    "duration": 333,
    "start_time": "2022-02-07T10:53:53.677Z"
   },
   {
    "duration": 14,
    "start_time": "2022-02-07T10:54:10.025Z"
   },
   {
    "duration": 373,
    "start_time": "2022-02-07T10:54:11.345Z"
   },
   {
    "duration": 276,
    "start_time": "2022-02-07T10:54:58.086Z"
   },
   {
    "duration": 334,
    "start_time": "2022-02-07T10:55:18.125Z"
   },
   {
    "duration": 279,
    "start_time": "2022-02-07T10:56:13.756Z"
   },
   {
    "duration": 1187,
    "start_time": "2022-02-07T11:05:08.806Z"
   },
   {
    "duration": 44,
    "start_time": "2022-02-07T11:05:09.995Z"
   },
   {
    "duration": 1218,
    "start_time": "2022-02-07T11:05:10.042Z"
   },
   {
    "duration": 13,
    "start_time": "2022-02-07T11:05:11.261Z"
   },
   {
    "duration": 33,
    "start_time": "2022-02-07T11:05:11.275Z"
   },
   {
    "duration": 7,
    "start_time": "2022-02-07T11:05:11.309Z"
   },
   {
    "duration": 36,
    "start_time": "2022-02-07T11:05:11.318Z"
   },
   {
    "duration": 15,
    "start_time": "2022-02-07T11:05:11.356Z"
   },
   {
    "duration": 7,
    "start_time": "2022-02-07T11:05:11.373Z"
   },
   {
    "duration": 9,
    "start_time": "2022-02-07T11:05:11.381Z"
   },
   {
    "duration": 12,
    "start_time": "2022-02-07T11:05:11.392Z"
   },
   {
    "duration": 7,
    "start_time": "2022-02-07T11:05:11.428Z"
   },
   {
    "duration": 21,
    "start_time": "2022-02-07T11:05:11.437Z"
   },
   {
    "duration": 12,
    "start_time": "2022-02-07T11:05:11.460Z"
   },
   {
    "duration": 204,
    "start_time": "2022-02-07T11:05:11.473Z"
   },
   {
    "duration": 10,
    "start_time": "2022-02-07T11:05:11.679Z"
   },
   {
    "duration": 166,
    "start_time": "2022-02-07T11:05:11.691Z"
   },
   {
    "duration": 15,
    "start_time": "2022-02-07T11:05:11.859Z"
   },
   {
    "duration": 406,
    "start_time": "2022-02-07T11:05:11.876Z"
   },
   {
    "duration": 11,
    "start_time": "2022-02-07T11:05:12.283Z"
   },
   {
    "duration": 387,
    "start_time": "2022-02-07T11:05:12.296Z"
   },
   {
    "duration": 11,
    "start_time": "2022-02-07T11:05:12.684Z"
   },
   {
    "duration": 341,
    "start_time": "2022-02-07T11:05:12.698Z"
   },
   {
    "duration": 3,
    "start_time": "2022-02-07T11:05:13.041Z"
   },
   {
    "duration": 132,
    "start_time": "2022-02-07T11:05:13.045Z"
   },
   {
    "duration": 11,
    "start_time": "2022-02-07T11:05:13.178Z"
   },
   {
    "duration": 7,
    "start_time": "2022-02-07T11:05:13.191Z"
   },
   {
    "duration": 302,
    "start_time": "2022-02-07T11:05:13.200Z"
   },
   {
    "duration": 3,
    "start_time": "2022-02-07T11:05:13.504Z"
   },
   {
    "duration": 31,
    "start_time": "2022-02-07T11:05:13.509Z"
   },
   {
    "duration": 16,
    "start_time": "2022-02-07T11:05:13.541Z"
   },
   {
    "duration": 305,
    "start_time": "2022-02-07T11:05:13.558Z"
   },
   {
    "duration": 432,
    "start_time": "2022-02-07T11:05:13.865Z"
   },
   {
    "duration": -73,
    "start_time": "2022-02-07T11:05:14.372Z"
   },
   {
    "duration": -89,
    "start_time": "2022-02-07T11:05:14.389Z"
   },
   {
    "duration": -97,
    "start_time": "2022-02-07T11:05:14.398Z"
   },
   {
    "duration": -102,
    "start_time": "2022-02-07T11:05:14.404Z"
   },
   {
    "duration": -106,
    "start_time": "2022-02-07T11:05:14.409Z"
   },
   {
    "duration": 285,
    "start_time": "2022-02-07T11:06:08.626Z"
   },
   {
    "duration": 280,
    "start_time": "2022-02-07T11:06:23.106Z"
   },
   {
    "duration": 331,
    "start_time": "2022-02-07T11:06:29.646Z"
   },
   {
    "duration": 279,
    "start_time": "2022-02-07T11:06:43.336Z"
   },
   {
    "duration": 281,
    "start_time": "2022-02-07T11:06:56.675Z"
   },
   {
    "duration": 254,
    "start_time": "2022-02-07T11:07:05.556Z"
   },
   {
    "duration": 414,
    "start_time": "2022-02-07T11:07:21.365Z"
   },
   {
    "duration": 329,
    "start_time": "2022-02-07T11:13:25.377Z"
   },
   {
    "duration": 283,
    "start_time": "2022-02-07T11:13:47.236Z"
   },
   {
    "duration": 286,
    "start_time": "2022-02-07T11:15:02.387Z"
   },
   {
    "duration": 5,
    "start_time": "2022-02-07T12:50:36.283Z"
   },
   {
    "duration": 16,
    "start_time": "2022-02-07T12:50:40.053Z"
   },
   {
    "duration": 19,
    "start_time": "2022-02-07T12:58:24.443Z"
   },
   {
    "duration": 8,
    "start_time": "2022-02-07T12:58:25.794Z"
   },
   {
    "duration": 11,
    "start_time": "2022-02-07T12:58:26.063Z"
   },
   {
    "duration": 286,
    "start_time": "2022-02-07T12:58:27.503Z"
   },
   {
    "duration": 305,
    "start_time": "2022-02-07T20:08:39.663Z"
   },
   {
    "duration": 254,
    "start_time": "2022-02-07T20:09:15.983Z"
   },
   {
    "duration": 237,
    "start_time": "2022-02-07T20:09:34.252Z"
   },
   {
    "duration": 1539,
    "start_time": "2022-02-07T20:09:45.453Z"
   },
   {
    "duration": 55,
    "start_time": "2022-02-07T20:09:46.995Z"
   },
   {
    "duration": 949,
    "start_time": "2022-02-07T20:09:47.053Z"
   },
   {
    "duration": 19,
    "start_time": "2022-02-07T20:09:48.005Z"
   },
   {
    "duration": 60,
    "start_time": "2022-02-07T20:09:48.027Z"
   },
   {
    "duration": 11,
    "start_time": "2022-02-07T20:09:48.091Z"
   },
   {
    "duration": 51,
    "start_time": "2022-02-07T20:09:48.373Z"
   },
   {
    "duration": 27,
    "start_time": "2022-02-07T20:09:48.973Z"
   },
   {
    "duration": 14,
    "start_time": "2022-02-07T20:09:49.482Z"
   },
   {
    "duration": 9,
    "start_time": "2022-02-07T20:09:49.813Z"
   },
   {
    "duration": 21,
    "start_time": "2022-02-07T20:09:51.312Z"
   },
   {
    "duration": 8,
    "start_time": "2022-02-07T20:09:53.883Z"
   },
   {
    "duration": 39,
    "start_time": "2022-02-07T20:09:54.243Z"
   },
   {
    "duration": 18,
    "start_time": "2022-02-07T20:09:56.353Z"
   },
   {
    "duration": 32,
    "start_time": "2022-02-07T20:18:03.952Z"
   },
   {
    "duration": 27,
    "start_time": "2022-02-07T20:18:19.293Z"
   },
   {
    "duration": 337,
    "start_time": "2022-02-07T20:18:20.922Z"
   },
   {
    "duration": 32,
    "start_time": "2022-02-07T20:38:09.684Z"
   },
   {
    "duration": 32,
    "start_time": "2022-02-07T20:38:27.463Z"
   },
   {
    "duration": 485,
    "start_time": "2022-02-07T20:39:31.713Z"
   },
   {
    "duration": 1141,
    "start_time": "2022-02-07T20:40:03.654Z"
   },
   {
    "duration": 705,
    "start_time": "2022-02-07T20:40:08.594Z"
   },
   {
    "duration": 91,
    "start_time": "2022-02-07T20:40:16.903Z"
   },
   {
    "duration": 809,
    "start_time": "2022-02-07T20:40:22.144Z"
   },
   {
    "duration": 536,
    "start_time": "2022-02-07T20:41:27.003Z"
   },
   {
    "duration": 509,
    "start_time": "2022-02-07T20:41:42.603Z"
   },
   {
    "duration": 547,
    "start_time": "2022-02-07T20:41:53.793Z"
   },
   {
    "duration": 710,
    "start_time": "2022-02-07T21:00:16.922Z"
   },
   {
    "duration": 599,
    "start_time": "2022-02-07T21:02:26.212Z"
   },
   {
    "duration": 677,
    "start_time": "2022-02-07T21:02:57.302Z"
   },
   {
    "duration": 1007,
    "start_time": "2022-02-07T21:03:32.255Z"
   },
   {
    "duration": 1185,
    "start_time": "2022-02-07T21:03:38.382Z"
   },
   {
    "duration": 642,
    "start_time": "2022-02-07T21:03:51.952Z"
   },
   {
    "duration": 584,
    "start_time": "2022-02-07T21:03:57.522Z"
   },
   {
    "duration": 885,
    "start_time": "2022-02-07T21:04:34.122Z"
   },
   {
    "duration": 493,
    "start_time": "2022-02-07T21:04:48.572Z"
   },
   {
    "duration": 525,
    "start_time": "2022-02-07T21:10:10.162Z"
   },
   {
    "duration": 609,
    "start_time": "2022-02-07T21:11:17.312Z"
   },
   {
    "duration": 576,
    "start_time": "2022-02-07T21:11:37.272Z"
   },
   {
    "duration": 580,
    "start_time": "2022-02-07T21:11:47.252Z"
   },
   {
    "duration": 628,
    "start_time": "2022-02-07T21:12:48.462Z"
   },
   {
    "duration": 588,
    "start_time": "2022-02-07T21:13:16.082Z"
   },
   {
    "duration": 791,
    "start_time": "2022-02-07T21:13:52.542Z"
   },
   {
    "duration": 649,
    "start_time": "2022-02-07T21:15:10.022Z"
   },
   {
    "duration": 634,
    "start_time": "2022-02-07T21:15:30.532Z"
   },
   {
    "duration": 834,
    "start_time": "2022-02-07T21:17:03.222Z"
   },
   {
    "duration": 858,
    "start_time": "2022-02-07T21:17:13.183Z"
   },
   {
    "duration": 685,
    "start_time": "2022-02-07T21:17:37.482Z"
   },
   {
    "duration": 605,
    "start_time": "2022-02-07T21:17:58.012Z"
   },
   {
    "duration": 594,
    "start_time": "2022-02-07T21:18:04.741Z"
   },
   {
    "duration": 778,
    "start_time": "2022-02-07T21:18:28.462Z"
   },
   {
    "duration": 936,
    "start_time": "2022-02-07T21:24:04.211Z"
   },
   {
    "duration": 463,
    "start_time": "2022-02-07T21:26:03.421Z"
   },
   {
    "duration": 1064,
    "start_time": "2022-02-07T21:28:13.481Z"
   },
   {
    "duration": 911,
    "start_time": "2022-02-07T21:28:41.552Z"
   },
   {
    "duration": 789,
    "start_time": "2022-02-07T21:29:55.562Z"
   },
   {
    "duration": 1095,
    "start_time": "2022-02-07T21:31:06.722Z"
   },
   {
    "duration": 4,
    "start_time": "2022-02-07T21:32:49.572Z"
   },
   {
    "duration": 6,
    "start_time": "2022-02-07T21:32:58.392Z"
   },
   {
    "duration": 886,
    "start_time": "2022-02-07T21:33:10.572Z"
   },
   {
    "duration": 522,
    "start_time": "2022-02-07T21:33:35.633Z"
   },
   {
    "duration": 496,
    "start_time": "2022-02-07T21:34:19.562Z"
   },
   {
    "duration": 503,
    "start_time": "2022-02-07T21:34:32.561Z"
   },
   {
    "duration": 516,
    "start_time": "2022-02-07T21:34:45.452Z"
   },
   {
    "duration": 510,
    "start_time": "2022-02-07T21:34:59.462Z"
   },
   {
    "duration": 515,
    "start_time": "2022-02-07T21:35:09.132Z"
   },
   {
    "duration": 624,
    "start_time": "2022-02-07T21:35:27.432Z"
   },
   {
    "duration": 510,
    "start_time": "2022-02-07T21:35:36.672Z"
   },
   {
    "duration": 503,
    "start_time": "2022-02-07T21:35:43.042Z"
   },
   {
    "duration": 518,
    "start_time": "2022-02-07T21:35:51.672Z"
   },
   {
    "duration": 621,
    "start_time": "2022-02-07T21:36:06.774Z"
   },
   {
    "duration": 765,
    "start_time": "2022-02-07T21:36:15.993Z"
   },
   {
    "duration": 748,
    "start_time": "2022-02-07T21:36:23.302Z"
   },
   {
    "duration": 780,
    "start_time": "2022-02-07T21:36:36.013Z"
   },
   {
    "duration": 504,
    "start_time": "2022-02-07T21:36:43.552Z"
   },
   {
    "duration": 775,
    "start_time": "2022-02-07T21:37:00.862Z"
   },
   {
    "duration": 766,
    "start_time": "2022-02-07T21:37:21.173Z"
   },
   {
    "duration": 759,
    "start_time": "2022-02-07T21:37:33.983Z"
   },
   {
    "duration": 523,
    "start_time": "2022-02-07T21:37:39.242Z"
   },
   {
    "duration": 503,
    "start_time": "2022-02-07T21:37:48.052Z"
   },
   {
    "duration": 500,
    "start_time": "2022-02-07T21:38:11.262Z"
   },
   {
    "duration": 758,
    "start_time": "2022-02-07T21:38:22.653Z"
   },
   {
    "duration": 80,
    "start_time": "2022-02-07T21:40:00.862Z"
   },
   {
    "duration": 917,
    "start_time": "2022-02-07T21:40:14.262Z"
   },
   {
    "duration": 514,
    "start_time": "2022-02-07T21:40:57.832Z"
   },
   {
    "duration": 9,
    "start_time": "2022-02-07T21:41:29.332Z"
   },
   {
    "duration": 745,
    "start_time": "2022-02-07T21:44:39.562Z"
   },
   {
    "duration": 511,
    "start_time": "2022-02-07T21:47:20.052Z"
   },
   {
    "duration": 501,
    "start_time": "2022-02-07T21:48:10.861Z"
   },
   {
    "duration": 518,
    "start_time": "2022-02-07T21:48:49.582Z"
   },
   {
    "duration": 915,
    "start_time": "2022-02-07T21:50:26.922Z"
   },
   {
    "duration": 551,
    "start_time": "2022-02-07T21:50:36.522Z"
   },
   {
    "duration": 533,
    "start_time": "2022-02-07T21:51:21.921Z"
   },
   {
    "duration": 512,
    "start_time": "2022-02-07T21:53:37.991Z"
   },
   {
    "duration": 693,
    "start_time": "2022-02-07T21:53:56.043Z"
   },
   {
    "duration": 581,
    "start_time": "2022-02-07T21:54:02.372Z"
   },
   {
    "duration": 502,
    "start_time": "2022-02-07T21:54:10.512Z"
   },
   {
    "duration": 734,
    "start_time": "2022-02-07T21:54:20.272Z"
   },
   {
    "duration": 617,
    "start_time": "2022-02-07T21:55:19.621Z"
   },
   {
    "duration": 511,
    "start_time": "2022-02-07T21:55:28.092Z"
   },
   {
    "duration": 516,
    "start_time": "2022-02-07T21:55:55.021Z"
   },
   {
    "duration": 634,
    "start_time": "2022-02-07T21:56:09.432Z"
   },
   {
    "duration": 512,
    "start_time": "2022-02-07T21:57:28.151Z"
   },
   {
    "duration": 522,
    "start_time": "2022-02-07T21:57:52.001Z"
   },
   {
    "duration": 500,
    "start_time": "2022-02-07T22:01:09.313Z"
   },
   {
    "duration": 531,
    "start_time": "2022-02-07T22:01:18.622Z"
   },
   {
    "duration": 550,
    "start_time": "2022-02-07T22:01:56.901Z"
   },
   {
    "duration": 6547,
    "start_time": "2022-02-07T22:04:03.812Z"
   },
   {
    "duration": 7879,
    "start_time": "2022-02-07T22:05:06.982Z"
   },
   {
    "duration": 782,
    "start_time": "2022-02-07T22:05:29.612Z"
   },
   {
    "duration": 543,
    "start_time": "2022-02-07T22:06:01.612Z"
   },
   {
    "duration": 503,
    "start_time": "2022-02-07T22:06:09.692Z"
   },
   {
    "duration": 663,
    "start_time": "2022-02-07T22:06:15.652Z"
   },
   {
    "duration": 347,
    "start_time": "2022-02-08T09:04:39.930Z"
   },
   {
    "duration": 1674,
    "start_time": "2022-02-08T09:04:51.770Z"
   },
   {
    "duration": 56,
    "start_time": "2022-02-08T09:04:53.447Z"
   },
   {
    "duration": 943,
    "start_time": "2022-02-08T09:04:53.506Z"
   },
   {
    "duration": 20,
    "start_time": "2022-02-08T09:04:54.452Z"
   },
   {
    "duration": 57,
    "start_time": "2022-02-08T09:04:54.475Z"
   },
   {
    "duration": 11,
    "start_time": "2022-02-08T09:04:54.941Z"
   },
   {
    "duration": 80,
    "start_time": "2022-02-08T09:04:55.470Z"
   },
   {
    "duration": 27,
    "start_time": "2022-02-08T09:04:56.130Z"
   },
   {
    "duration": 13,
    "start_time": "2022-02-08T09:04:56.400Z"
   },
   {
    "duration": 9,
    "start_time": "2022-02-08T09:04:56.980Z"
   },
   {
    "duration": 20,
    "start_time": "2022-02-08T09:04:58.410Z"
   },
   {
    "duration": 8,
    "start_time": "2022-02-08T09:04:59.320Z"
   },
   {
    "duration": 34,
    "start_time": "2022-02-08T09:04:59.809Z"
   },
   {
    "duration": 25,
    "start_time": "2022-02-08T09:05:01.670Z"
   },
   {
    "duration": 538,
    "start_time": "2022-02-08T09:05:02.390Z"
   },
   {
    "duration": 14,
    "start_time": "2022-02-08T09:05:07.379Z"
   },
   {
    "duration": 242,
    "start_time": "2022-02-08T09:05:54.190Z"
   },
   {
    "duration": 379,
    "start_time": "2022-02-08T09:07:15.040Z"
   },
   {
    "duration": 301,
    "start_time": "2022-02-08T09:07:19.500Z"
   },
   {
    "duration": 23,
    "start_time": "2022-02-08T09:07:20.530Z"
   },
   {
    "duration": 501,
    "start_time": "2022-02-08T09:07:21.390Z"
   },
   {
    "duration": 19,
    "start_time": "2022-02-08T09:08:02.450Z"
   },
   {
    "duration": 602,
    "start_time": "2022-02-08T09:08:04.299Z"
   },
   {
    "duration": 641,
    "start_time": "2022-02-08T09:09:36.200Z"
   },
   {
    "duration": 17,
    "start_time": "2022-02-08T09:10:41.299Z"
   },
   {
    "duration": 497,
    "start_time": "2022-02-08T09:10:43.579Z"
   },
   {
    "duration": 500,
    "start_time": "2022-02-08T09:12:05.840Z"
   },
   {
    "duration": 5,
    "start_time": "2022-02-08T09:12:17.159Z"
   },
   {
    "duration": 187,
    "start_time": "2022-02-08T09:12:17.480Z"
   },
   {
    "duration": 17,
    "start_time": "2022-02-08T09:12:20.270Z"
   },
   {
    "duration": 10,
    "start_time": "2022-02-08T09:12:22.204Z"
   },
   {
    "duration": 539,
    "start_time": "2022-02-08T09:12:25.630Z"
   },
   {
    "duration": 5,
    "start_time": "2022-02-08T09:12:37.380Z"
   },
   {
    "duration": 32,
    "start_time": "2022-02-08T09:12:37.590Z"
   },
   {
    "duration": 21,
    "start_time": "2022-02-08T09:12:38.100Z"
   },
   {
    "duration": 533,
    "start_time": "2022-02-08T09:12:40.250Z"
   },
   {
    "duration": 590,
    "start_time": "2022-02-08T09:13:17.899Z"
   },
   {
    "duration": 7,
    "start_time": "2022-02-08T09:13:39.239Z"
   },
   {
    "duration": 27,
    "start_time": "2022-02-08T09:13:42.150Z"
   },
   {
    "duration": 12,
    "start_time": "2022-02-08T09:13:44.319Z"
   },
   {
    "duration": 17,
    "start_time": "2022-02-08T09:13:44.560Z"
   },
   {
    "duration": 530,
    "start_time": "2022-02-08T09:13:45.730Z"
   },
   {
    "duration": 517,
    "start_time": "2022-02-08T16:00:15.962Z"
   },
   {
    "duration": 571,
    "start_time": "2022-02-08T16:00:22.442Z"
   },
   {
    "duration": 424,
    "start_time": "2022-02-08T16:00:34.692Z"
   },
   {
    "duration": 412,
    "start_time": "2022-02-08T16:00:41.422Z"
   },
   {
    "duration": 421,
    "start_time": "2022-02-08T16:00:51.102Z"
   },
   {
    "duration": 464,
    "start_time": "2022-02-08T16:00:57.512Z"
   },
   {
    "duration": 530,
    "start_time": "2022-02-08T16:01:19.612Z"
   },
   {
    "duration": 525,
    "start_time": "2022-02-08T16:07:05.702Z"
   },
   {
    "duration": 476,
    "start_time": "2022-02-08T16:07:20.802Z"
   },
   {
    "duration": 478,
    "start_time": "2022-02-08T16:07:35.652Z"
   },
   {
    "duration": 453,
    "start_time": "2022-02-08T16:07:43.692Z"
   },
   {
    "duration": 459,
    "start_time": "2022-02-08T16:07:49.772Z"
   },
   {
    "duration": 577,
    "start_time": "2022-02-08T16:07:54.772Z"
   },
   {
    "duration": 149,
    "start_time": "2022-02-08T16:08:12.052Z"
   },
   {
    "duration": 138,
    "start_time": "2022-02-08T16:10:14.801Z"
   },
   {
    "duration": 530,
    "start_time": "2022-02-08T16:11:54.102Z"
   },
   {
    "duration": 409,
    "start_time": "2022-02-08T16:12:03.212Z"
   },
   {
    "duration": 552,
    "start_time": "2022-02-08T16:17:20.052Z"
   },
   {
    "duration": 624,
    "start_time": "2022-02-08T16:17:47.272Z"
   },
   {
    "duration": 585,
    "start_time": "2022-02-08T16:19:23.862Z"
   },
   {
    "duration": 512,
    "start_time": "2022-02-08T16:21:28.132Z"
   },
   {
    "duration": 434,
    "start_time": "2022-02-08T16:21:40.162Z"
   },
   {
    "duration": 408,
    "start_time": "2022-02-08T16:23:12.192Z"
   },
   {
    "duration": 529,
    "start_time": "2022-02-08T16:23:19.092Z"
   },
   {
    "duration": 431,
    "start_time": "2022-02-08T16:23:25.832Z"
   },
   {
    "duration": 550,
    "start_time": "2022-02-08T16:25:40.542Z"
   },
   {
    "duration": 553,
    "start_time": "2022-02-08T16:26:08.423Z"
   },
   {
    "duration": 457,
    "start_time": "2022-02-08T16:28:04.571Z"
   },
   {
    "duration": 460,
    "start_time": "2022-02-08T16:28:10.572Z"
   },
   {
    "duration": 439,
    "start_time": "2022-02-08T16:28:15.502Z"
   },
   {
    "duration": 513,
    "start_time": "2022-02-08T16:30:11.932Z"
   },
   {
    "duration": 443,
    "start_time": "2022-02-08T16:30:22.662Z"
   },
   {
    "duration": 19,
    "start_time": "2022-02-08T16:42:12.162Z"
   },
   {
    "duration": 19,
    "start_time": "2022-02-08T16:42:33.242Z"
   },
   {
    "duration": 20,
    "start_time": "2022-02-08T16:43:10.942Z"
   },
   {
    "duration": 20,
    "start_time": "2022-02-08T16:43:20.541Z"
   },
   {
    "duration": 20,
    "start_time": "2022-02-08T16:43:35.152Z"
   },
   {
    "duration": 20,
    "start_time": "2022-02-08T16:43:44.022Z"
   },
   {
    "duration": 22,
    "start_time": "2022-02-08T16:44:34.672Z"
   },
   {
    "duration": 344,
    "start_time": "2022-02-09T15:58:37.227Z"
   },
   {
    "duration": 1632,
    "start_time": "2022-02-09T15:58:50.229Z"
   },
   {
    "duration": 61,
    "start_time": "2022-02-09T15:58:51.863Z"
   },
   {
    "duration": 1149,
    "start_time": "2022-02-09T15:58:51.927Z"
   },
   {
    "duration": 21,
    "start_time": "2022-02-09T15:58:53.079Z"
   },
   {
    "duration": 62,
    "start_time": "2022-02-09T15:58:53.102Z"
   },
   {
    "duration": 13,
    "start_time": "2022-02-09T15:58:53.166Z"
   },
   {
    "duration": 73,
    "start_time": "2022-02-09T15:58:53.181Z"
   },
   {
    "duration": 27,
    "start_time": "2022-02-09T15:58:53.258Z"
   },
   {
    "duration": 37,
    "start_time": "2022-02-09T15:58:53.288Z"
   },
   {
    "duration": 14,
    "start_time": "2022-02-09T15:58:53.327Z"
   },
   {
    "duration": 22,
    "start_time": "2022-02-09T15:58:53.343Z"
   },
   {
    "duration": 10,
    "start_time": "2022-02-09T15:58:53.368Z"
   },
   {
    "duration": 75,
    "start_time": "2022-02-09T15:58:53.380Z"
   },
   {
    "duration": 27,
    "start_time": "2022-02-09T15:58:53.458Z"
   },
   {
    "duration": 488,
    "start_time": "2022-02-09T15:58:53.487Z"
   },
   {
    "duration": 12,
    "start_time": "2022-02-09T15:58:53.978Z"
   },
   {
    "duration": 162,
    "start_time": "2022-02-09T15:58:53.993Z"
   },
   {
    "duration": 21,
    "start_time": "2022-02-09T15:58:54.159Z"
   },
   {
    "duration": 448,
    "start_time": "2022-02-09T15:58:54.183Z"
   },
   {
    "duration": 19,
    "start_time": "2022-02-09T15:58:54.634Z"
   },
   {
    "duration": 698,
    "start_time": "2022-02-09T15:58:54.656Z"
   },
   {
    "duration": 20,
    "start_time": "2022-02-09T15:58:55.357Z"
   },
   {
    "duration": 446,
    "start_time": "2022-02-09T15:58:55.384Z"
   },
   {
    "duration": 5,
    "start_time": "2022-02-09T15:58:55.834Z"
   },
   {
    "duration": 219,
    "start_time": "2022-02-09T15:58:55.842Z"
   },
   {
    "duration": 19,
    "start_time": "2022-02-09T15:58:56.063Z"
   },
   {
    "duration": 11,
    "start_time": "2022-02-09T15:58:56.085Z"
   },
   {
    "duration": 478,
    "start_time": "2022-02-09T15:58:56.125Z"
   },
   {
    "duration": 4,
    "start_time": "2022-02-09T15:58:56.605Z"
   },
   {
    "duration": 32,
    "start_time": "2022-02-09T15:58:56.623Z"
   },
   {
    "duration": 20,
    "start_time": "2022-02-09T15:58:56.658Z"
   },
   {
    "duration": 514,
    "start_time": "2022-02-09T15:58:56.680Z"
   },
   {
    "duration": 8,
    "start_time": "2022-02-09T15:58:57.196Z"
   },
   {
    "duration": 47,
    "start_time": "2022-02-09T15:58:57.206Z"
   },
   {
    "duration": 13,
    "start_time": "2022-02-09T15:58:57.256Z"
   },
   {
    "duration": 17,
    "start_time": "2022-02-09T15:58:57.272Z"
   },
   {
    "duration": 452,
    "start_time": "2022-02-09T15:58:57.324Z"
   },
   {
    "duration": 1593,
    "start_time": "2022-02-11T04:37:45.720Z"
   },
   {
    "duration": 73,
    "start_time": "2022-02-11T04:37:47.317Z"
   },
   {
    "duration": 1290,
    "start_time": "2022-02-11T04:37:47.394Z"
   },
   {
    "duration": 20,
    "start_time": "2022-02-11T04:37:48.686Z"
   },
   {
    "duration": 60,
    "start_time": "2022-02-11T04:37:48.708Z"
   },
   {
    "duration": 11,
    "start_time": "2022-02-11T04:37:48.770Z"
   },
   {
    "duration": 72,
    "start_time": "2022-02-11T04:37:48.783Z"
   },
   {
    "duration": 29,
    "start_time": "2022-02-11T04:37:48.859Z"
   },
   {
    "duration": 12,
    "start_time": "2022-02-11T04:37:48.891Z"
   },
   {
    "duration": 46,
    "start_time": "2022-02-11T04:37:48.906Z"
   },
   {
    "duration": 21,
    "start_time": "2022-02-11T04:37:48.955Z"
   },
   {
    "duration": 8,
    "start_time": "2022-02-11T04:37:48.979Z"
   },
   {
    "duration": 68,
    "start_time": "2022-02-11T04:37:48.989Z"
   },
   {
    "duration": 28,
    "start_time": "2022-02-11T04:37:49.060Z"
   },
   {
    "duration": 569,
    "start_time": "2022-02-11T04:37:49.091Z"
   },
   {
    "duration": 15,
    "start_time": "2022-02-11T04:37:49.663Z"
   },
   {
    "duration": 164,
    "start_time": "2022-02-11T04:37:49.681Z"
   },
   {
    "duration": 25,
    "start_time": "2022-02-11T04:37:49.848Z"
   },
   {
    "duration": 441,
    "start_time": "2022-02-11T04:37:49.876Z"
   },
   {
    "duration": 32,
    "start_time": "2022-02-11T04:37:50.320Z"
   },
   {
    "duration": 524,
    "start_time": "2022-02-11T04:37:50.354Z"
   },
   {
    "duration": 19,
    "start_time": "2022-02-11T04:37:50.880Z"
   },
   {
    "duration": 516,
    "start_time": "2022-02-11T04:37:50.906Z"
   },
   {
    "duration": 6,
    "start_time": "2022-02-11T04:37:51.426Z"
   },
   {
    "duration": 198,
    "start_time": "2022-02-11T04:37:51.435Z"
   },
   {
    "duration": 25,
    "start_time": "2022-02-11T04:37:51.635Z"
   },
   {
    "duration": 10,
    "start_time": "2022-02-11T04:37:51.662Z"
   },
   {
    "duration": 467,
    "start_time": "2022-02-11T04:37:51.676Z"
   },
   {
    "duration": 5,
    "start_time": "2022-02-11T04:37:52.149Z"
   },
   {
    "duration": 38,
    "start_time": "2022-02-11T04:37:52.158Z"
   },
   {
    "duration": 57,
    "start_time": "2022-02-11T04:37:52.199Z"
   },
   {
    "duration": 457,
    "start_time": "2022-02-11T04:37:52.259Z"
   },
   {
    "duration": 7,
    "start_time": "2022-02-11T04:37:52.719Z"
   },
   {
    "duration": 35,
    "start_time": "2022-02-11T04:37:52.729Z"
   },
   {
    "duration": 19,
    "start_time": "2022-02-11T04:37:52.767Z"
   },
   {
    "duration": 17,
    "start_time": "2022-02-11T04:37:52.788Z"
   },
   {
    "duration": 474,
    "start_time": "2022-02-11T04:37:52.808Z"
   },
   {
    "duration": 407,
    "start_time": "2022-02-11T09:30:14.747Z"
   },
   {
    "duration": 1159,
    "start_time": "2022-02-11T09:30:21.076Z"
   },
   {
    "duration": 40,
    "start_time": "2022-02-11T09:30:22.237Z"
   },
   {
    "duration": 1205,
    "start_time": "2022-02-11T09:30:22.279Z"
   },
   {
    "duration": 12,
    "start_time": "2022-02-11T09:30:23.486Z"
   },
   {
    "duration": 32,
    "start_time": "2022-02-11T09:30:23.499Z"
   },
   {
    "duration": 8,
    "start_time": "2022-02-11T09:30:23.877Z"
   },
   {
    "duration": 36,
    "start_time": "2022-02-11T09:30:24.596Z"
   },
   {
    "duration": 17,
    "start_time": "2022-02-11T09:30:25.176Z"
   },
   {
    "duration": 9,
    "start_time": "2022-02-11T09:30:25.456Z"
   },
   {
    "duration": 7,
    "start_time": "2022-02-11T09:30:26.147Z"
   },
   {
    "duration": 8080,
    "start_time": "2022-02-11T09:30:26.827Z"
   },
   {
    "duration": 10,
    "start_time": "2022-02-11T09:30:43.436Z"
   },
   {
    "duration": 4,
    "start_time": "2022-02-11T09:38:32.076Z"
   },
   {
    "duration": 12,
    "start_time": "2022-02-11T09:38:37.156Z"
   },
   {
    "duration": 3,
    "start_time": "2022-02-11T09:42:09.617Z"
   },
   {
    "duration": 42,
    "start_time": "2022-02-11T09:42:10.176Z"
   },
   {
    "duration": 1862,
    "start_time": "2022-02-11T09:42:10.587Z"
   },
   {
    "duration": 9,
    "start_time": "2022-02-11T09:42:12.451Z"
   },
   {
    "duration": 32,
    "start_time": "2022-02-11T09:42:12.462Z"
   },
   {
    "duration": 7,
    "start_time": "2022-02-11T09:42:12.495Z"
   },
   {
    "duration": 30,
    "start_time": "2022-02-11T09:42:13.256Z"
   },
   {
    "duration": 17,
    "start_time": "2022-02-11T09:42:14.376Z"
   },
   {
    "duration": 8,
    "start_time": "2022-02-11T09:42:15.046Z"
   },
   {
    "duration": 5,
    "start_time": "2022-02-11T09:42:15.737Z"
   },
   {
    "duration": 9,
    "start_time": "2022-02-11T09:42:18.507Z"
   },
   {
    "duration": 9,
    "start_time": "2022-02-11T09:42:20.186Z"
   },
   {
    "duration": 12,
    "start_time": "2022-02-11T09:42:21.576Z"
   },
   {
    "duration": 3,
    "start_time": "2022-02-11T09:44:43.116Z"
   },
   {
    "duration": 40,
    "start_time": "2022-02-11T09:44:43.588Z"
   },
   {
    "duration": 1522,
    "start_time": "2022-02-11T09:44:43.927Z"
   },
   {
    "duration": 9,
    "start_time": "2022-02-11T09:44:45.450Z"
   },
   {
    "duration": 33,
    "start_time": "2022-02-11T09:44:45.460Z"
   },
   {
    "duration": 6,
    "start_time": "2022-02-11T09:44:45.495Z"
   },
   {
    "duration": 31,
    "start_time": "2022-02-11T09:44:45.626Z"
   },
   {
    "duration": 15,
    "start_time": "2022-02-11T09:44:46.246Z"
   },
   {
    "duration": 7,
    "start_time": "2022-02-11T09:44:46.476Z"
   },
   {
    "duration": 6,
    "start_time": "2022-02-11T09:44:47.175Z"
   },
   {
    "duration": 9,
    "start_time": "2022-02-11T09:44:47.626Z"
   },
   {
    "duration": 29,
    "start_time": "2022-02-11T09:44:56.265Z"
   },
   {
    "duration": 13,
    "start_time": "2022-02-11T09:44:56.565Z"
   },
   {
    "duration": 19,
    "start_time": "2022-02-11T09:49:25.586Z"
   },
   {
    "duration": 14,
    "start_time": "2022-02-11T09:49:30.496Z"
   },
   {
    "duration": 31,
    "start_time": "2022-02-11T09:49:39.185Z"
   },
   {
    "duration": 11,
    "start_time": "2022-02-11T09:50:14.156Z"
   },
   {
    "duration": 4071,
    "start_time": "2022-02-11T09:50:43.706Z"
   },
   {
    "duration": 13,
    "start_time": "2022-02-11T09:50:54.696Z"
   },
   {
    "duration": 7726,
    "start_time": "2022-02-11T09:59:25.296Z"
   },
   {
    "duration": 8170,
    "start_time": "2022-02-11T09:59:49.506Z"
   },
   {
    "duration": 15,
    "start_time": "2022-02-11T10:00:32.046Z"
   },
   {
    "duration": 15,
    "start_time": "2022-02-11T10:00:59.559Z"
   },
   {
    "duration": 96,
    "start_time": "2022-02-11T10:01:38.306Z"
   },
   {
    "duration": 10,
    "start_time": "2022-02-11T10:01:43.416Z"
   },
   {
    "duration": 18,
    "start_time": "2022-02-11T10:01:50.976Z"
   },
   {
    "duration": 17,
    "start_time": "2022-02-11T10:02:41.216Z"
   },
   {
    "duration": 13,
    "start_time": "2022-02-11T10:02:51.505Z"
   },
   {
    "duration": 17,
    "start_time": "2022-02-11T10:03:02.396Z"
   },
   {
    "duration": 10,
    "start_time": "2022-02-11T10:03:17.306Z"
   },
   {
    "duration": 17,
    "start_time": "2022-02-11T10:03:22.546Z"
   },
   {
    "duration": 17,
    "start_time": "2022-02-11T10:03:42.616Z"
   },
   {
    "duration": 14,
    "start_time": "2022-02-11T10:05:07.826Z"
   },
   {
    "duration": 1455,
    "start_time": "2022-02-11T10:05:57.606Z"
   },
   {
    "duration": 12,
    "start_time": "2022-02-11T10:06:16.186Z"
   },
   {
    "duration": 13,
    "start_time": "2022-02-11T10:07:28.506Z"
   },
   {
    "duration": 10,
    "start_time": "2022-02-11T10:08:41.456Z"
   },
   {
    "duration": 13,
    "start_time": "2022-02-11T10:08:54.305Z"
   },
   {
    "duration": 10,
    "start_time": "2022-02-11T10:09:12.486Z"
   },
   {
    "duration": 13,
    "start_time": "2022-02-11T10:09:43.796Z"
   },
   {
    "duration": 13,
    "start_time": "2022-02-11T10:09:53.256Z"
   },
   {
    "duration": 10,
    "start_time": "2022-02-11T10:09:59.256Z"
   },
   {
    "duration": 11,
    "start_time": "2022-02-11T10:10:15.316Z"
   },
   {
    "duration": 14,
    "start_time": "2022-02-11T10:11:15.476Z"
   },
   {
    "duration": 14,
    "start_time": "2022-02-11T10:11:29.576Z"
   },
   {
    "duration": 21,
    "start_time": "2022-02-11T10:15:50.656Z"
   },
   {
    "duration": 23,
    "start_time": "2022-02-11T10:16:34.565Z"
   },
   {
    "duration": 18,
    "start_time": "2022-02-11T10:17:16.335Z"
   },
   {
    "duration": 24,
    "start_time": "2022-02-11T10:17:23.006Z"
   },
   {
    "duration": 28,
    "start_time": "2022-02-11T10:19:43.526Z"
   },
   {
    "duration": 29,
    "start_time": "2022-02-11T10:19:58.176Z"
   },
   {
    "duration": 21,
    "start_time": "2022-02-11T10:20:22.026Z"
   },
   {
    "duration": 3,
    "start_time": "2022-02-11T10:21:53.935Z"
   },
   {
    "duration": 42,
    "start_time": "2022-02-11T10:21:54.497Z"
   },
   {
    "duration": 1159,
    "start_time": "2022-02-11T10:21:54.945Z"
   },
   {
    "duration": 10,
    "start_time": "2022-02-11T10:21:56.106Z"
   },
   {
    "duration": 32,
    "start_time": "2022-02-11T10:21:56.245Z"
   },
   {
    "duration": 8,
    "start_time": "2022-02-11T10:21:57.085Z"
   },
   {
    "duration": 30,
    "start_time": "2022-02-11T10:21:57.915Z"
   },
   {
    "duration": 17,
    "start_time": "2022-02-11T10:21:58.985Z"
   },
   {
    "duration": 9,
    "start_time": "2022-02-11T10:21:59.484Z"
   },
   {
    "duration": 6,
    "start_time": "2022-02-11T10:22:02.055Z"
   },
   {
    "duration": 9,
    "start_time": "2022-02-11T10:22:05.775Z"
   },
   {
    "duration": 27,
    "start_time": "2022-02-11T10:22:07.175Z"
   },
   {
    "duration": 13,
    "start_time": "2022-02-11T10:22:07.705Z"
   },
   {
    "duration": 29,
    "start_time": "2022-02-11T10:22:10.296Z"
   },
   {
    "duration": 18,
    "start_time": "2022-02-11T10:22:45.445Z"
   },
   {
    "duration": 18,
    "start_time": "2022-02-11T10:24:02.776Z"
   },
   {
    "duration": 20,
    "start_time": "2022-02-11T10:24:34.336Z"
   },
   {
    "duration": 17,
    "start_time": "2022-02-11T10:24:35.195Z"
   },
   {
    "duration": 4,
    "start_time": "2022-02-11T10:27:51.776Z"
   },
   {
    "duration": 32,
    "start_time": "2022-02-11T10:39:35.005Z"
   },
   {
    "duration": 18,
    "start_time": "2022-02-11T10:40:23.046Z"
   },
   {
    "duration": 320,
    "start_time": "2022-02-11T10:41:12.425Z"
   },
   {
    "duration": 330,
    "start_time": "2022-02-11T10:41:42.815Z"
   },
   {
    "duration": 107,
    "start_time": "2022-02-11T10:42:26.035Z"
   },
   {
    "duration": 352,
    "start_time": "2022-02-11T10:42:32.575Z"
   },
   {
    "duration": 391,
    "start_time": "2022-02-11T10:43:06.216Z"
   },
   {
    "duration": 3,
    "start_time": "2022-02-11T10:43:16.335Z"
   },
   {
    "duration": 42,
    "start_time": "2022-02-11T10:43:16.845Z"
   },
   {
    "duration": 1258,
    "start_time": "2022-02-11T10:43:17.155Z"
   },
   {
    "duration": 8,
    "start_time": "2022-02-11T10:43:18.415Z"
   },
   {
    "duration": 32,
    "start_time": "2022-02-11T10:43:18.425Z"
   },
   {
    "duration": 8,
    "start_time": "2022-02-11T10:43:18.485Z"
   },
   {
    "duration": 31,
    "start_time": "2022-02-11T10:43:18.775Z"
   },
   {
    "duration": 17,
    "start_time": "2022-02-11T10:43:19.215Z"
   },
   {
    "duration": 8,
    "start_time": "2022-02-11T10:43:19.385Z"
   },
   {
    "duration": 6,
    "start_time": "2022-02-11T10:43:19.756Z"
   },
   {
    "duration": 10,
    "start_time": "2022-02-11T10:43:20.155Z"
   },
   {
    "duration": 5,
    "start_time": "2022-02-11T10:43:21.045Z"
   },
   {
    "duration": 26,
    "start_time": "2022-02-11T10:43:21.565Z"
   },
   {
    "duration": 22,
    "start_time": "2022-02-11T10:43:21.895Z"
   },
   {
    "duration": 3,
    "start_time": "2022-02-11T10:43:23.716Z"
   },
   {
    "duration": 19,
    "start_time": "2022-02-11T10:43:31.765Z"
   },
   {
    "duration": 26,
    "start_time": "2022-02-11T10:44:04.995Z"
   },
   {
    "duration": 323,
    "start_time": "2022-02-11T10:44:05.425Z"
   },
   {
    "duration": 5,
    "start_time": "2022-02-11T10:44:54.475Z"
   },
   {
    "duration": 3,
    "start_time": "2022-02-11T10:56:41.695Z"
   },
   {
    "duration": 39,
    "start_time": "2022-02-11T10:56:42.285Z"
   },
   {
    "duration": 1080,
    "start_time": "2022-02-11T10:56:42.725Z"
   },
   {
    "duration": 9,
    "start_time": "2022-02-11T10:56:43.807Z"
   },
   {
    "duration": 34,
    "start_time": "2022-02-11T10:56:43.818Z"
   },
   {
    "duration": 8,
    "start_time": "2022-02-11T10:56:44.265Z"
   },
   {
    "duration": 31,
    "start_time": "2022-02-11T10:56:44.796Z"
   },
   {
    "duration": 15,
    "start_time": "2022-02-11T10:56:45.305Z"
   },
   {
    "duration": 8,
    "start_time": "2022-02-11T10:56:45.625Z"
   },
   {
    "duration": 6,
    "start_time": "2022-02-11T10:56:46.095Z"
   },
   {
    "duration": 9,
    "start_time": "2022-02-11T10:56:46.595Z"
   },
   {
    "duration": 4,
    "start_time": "2022-02-11T10:56:48.885Z"
   },
   {
    "duration": 14,
    "start_time": "2022-02-11T10:56:49.937Z"
   },
   {
    "duration": 7,
    "start_time": "2022-02-11T10:56:51.195Z"
   },
   {
    "duration": 19,
    "start_time": "2022-02-11T10:56:52.105Z"
   },
   {
    "duration": 23,
    "start_time": "2022-02-11T10:56:53.025Z"
   },
   {
    "duration": 20,
    "start_time": "2022-02-11T10:56:55.686Z"
   },
   {
    "duration": 142,
    "start_time": "2022-02-11T11:12:08.624Z"
   },
   {
    "duration": 284,
    "start_time": "2022-02-11T11:21:51.226Z"
   },
   {
    "duration": 316,
    "start_time": "2022-02-11T11:22:11.564Z"
   },
   {
    "duration": 6,
    "start_time": "2022-02-11T11:22:59.580Z"
   },
   {
    "duration": 11,
    "start_time": "2022-02-11T11:24:06.945Z"
   },
   {
    "duration": 139,
    "start_time": "2022-02-11T11:24:17.974Z"
   },
   {
    "duration": 10,
    "start_time": "2022-02-11T11:25:48.155Z"
   },
   {
    "duration": 154,
    "start_time": "2022-02-11T11:25:48.734Z"
   },
   {
    "duration": 3,
    "start_time": "2022-02-11T11:25:56.945Z"
   },
   {
    "duration": 42,
    "start_time": "2022-02-11T11:25:57.064Z"
   },
   {
    "duration": 1114,
    "start_time": "2022-02-11T11:25:57.134Z"
   },
   {
    "duration": 11,
    "start_time": "2022-02-11T11:25:58.250Z"
   },
   {
    "duration": 35,
    "start_time": "2022-02-11T11:25:58.263Z"
   },
   {
    "duration": 7,
    "start_time": "2022-02-11T11:25:58.299Z"
   },
   {
    "duration": 30,
    "start_time": "2022-02-11T11:25:58.308Z"
   },
   {
    "duration": 16,
    "start_time": "2022-02-11T11:25:58.384Z"
   },
   {
    "duration": 9,
    "start_time": "2022-02-11T11:25:58.574Z"
   },
   {
    "duration": 6,
    "start_time": "2022-02-11T11:25:58.944Z"
   },
   {
    "duration": 10,
    "start_time": "2022-02-11T11:25:59.355Z"
   },
   {
    "duration": 5,
    "start_time": "2022-02-11T11:26:00.335Z"
   },
   {
    "duration": 73,
    "start_time": "2022-02-11T11:26:00.935Z"
   },
   {
    "duration": 7,
    "start_time": "2022-02-11T11:26:01.564Z"
   },
   {
    "duration": 19,
    "start_time": "2022-02-11T11:26:02.225Z"
   },
   {
    "duration": 23,
    "start_time": "2022-02-11T11:26:02.624Z"
   },
   {
    "duration": 137,
    "start_time": "2022-02-11T11:26:03.045Z"
   },
   {
    "duration": 9,
    "start_time": "2022-02-11T11:26:04.545Z"
   },
   {
    "duration": 131,
    "start_time": "2022-02-11T11:26:05.065Z"
   },
   {
    "duration": 21,
    "start_time": "2022-02-11T11:26:07.295Z"
   },
   {
    "duration": 10,
    "start_time": "2022-02-11T11:26:50.205Z"
   },
   {
    "duration": 135,
    "start_time": "2022-02-11T11:27:12.734Z"
   },
   {
    "duration": 10,
    "start_time": "2022-02-11T11:27:32.024Z"
   },
   {
    "duration": 2,
    "start_time": "2022-02-11T11:28:02.325Z"
   },
   {
    "duration": 40,
    "start_time": "2022-02-11T11:28:03.035Z"
   },
   {
    "duration": 999,
    "start_time": "2022-02-11T11:28:03.465Z"
   },
   {
    "duration": 10,
    "start_time": "2022-02-11T11:28:04.465Z"
   },
   {
    "duration": 35,
    "start_time": "2022-02-11T11:28:04.755Z"
   },
   {
    "duration": 9,
    "start_time": "2022-02-11T11:28:05.774Z"
   },
   {
    "duration": 32,
    "start_time": "2022-02-11T11:28:06.535Z"
   },
   {
    "duration": 17,
    "start_time": "2022-02-11T11:28:07.927Z"
   },
   {
    "duration": 10,
    "start_time": "2022-02-11T11:28:20.574Z"
   },
   {
    "duration": 6,
    "start_time": "2022-02-11T11:28:21.335Z"
   },
   {
    "duration": 10,
    "start_time": "2022-02-11T11:28:21.874Z"
   },
   {
    "duration": 5,
    "start_time": "2022-02-11T11:28:22.924Z"
   },
   {
    "duration": 13,
    "start_time": "2022-02-11T11:28:23.565Z"
   },
   {
    "duration": 6,
    "start_time": "2022-02-11T11:28:24.135Z"
   },
   {
    "duration": 22,
    "start_time": "2022-02-11T11:28:24.715Z"
   },
   {
    "duration": 21,
    "start_time": "2022-02-11T11:28:25.075Z"
   },
   {
    "duration": 136,
    "start_time": "2022-02-11T11:28:25.425Z"
   },
   {
    "duration": 10,
    "start_time": "2022-02-11T11:28:25.905Z"
   },
   {
    "duration": 10,
    "start_time": "2022-02-11T11:28:26.304Z"
   },
   {
    "duration": 21,
    "start_time": "2022-02-11T11:28:26.785Z"
   },
   {
    "duration": 13,
    "start_time": "2022-02-11T11:28:29.575Z"
   },
   {
    "duration": 252,
    "start_time": "2022-02-11T11:28:29.944Z"
   },
   {
    "duration": 10,
    "start_time": "2022-02-11T11:28:31.095Z"
   },
   {
    "duration": 76,
    "start_time": "2022-02-11T11:28:31.363Z"
   },
   {
    "duration": 9,
    "start_time": "2022-02-11T11:28:59.274Z"
   },
   {
    "duration": 9,
    "start_time": "2022-02-11T11:29:14.404Z"
   },
   {
    "duration": 21,
    "start_time": "2022-02-11T11:29:15.175Z"
   },
   {
    "duration": 1337,
    "start_time": "2022-02-11T17:19:50.836Z"
   },
   {
    "duration": 44,
    "start_time": "2022-02-11T17:19:52.175Z"
   },
   {
    "duration": 1080,
    "start_time": "2022-02-11T17:19:52.222Z"
   },
   {
    "duration": 14,
    "start_time": "2022-02-11T17:19:53.304Z"
   },
   {
    "duration": 51,
    "start_time": "2022-02-11T17:19:53.320Z"
   },
   {
    "duration": 8,
    "start_time": "2022-02-11T17:19:53.373Z"
   },
   {
    "duration": 37,
    "start_time": "2022-02-11T17:19:53.667Z"
   },
   {
    "duration": 19,
    "start_time": "2022-02-11T17:19:54.267Z"
   },
   {
    "duration": 8,
    "start_time": "2022-02-11T17:19:54.288Z"
   },
   {
    "duration": 6,
    "start_time": "2022-02-11T17:19:54.756Z"
   },
   {
    "duration": 5,
    "start_time": "2022-02-11T17:19:56.620Z"
   },
   {
    "duration": 18,
    "start_time": "2022-02-11T17:19:57.427Z"
   },
   {
    "duration": 10,
    "start_time": "2022-02-11T17:19:58.017Z"
   },
   {
    "duration": 24,
    "start_time": "2022-02-11T17:19:58.647Z"
   },
   {
    "duration": 24,
    "start_time": "2022-02-11T17:19:59.147Z"
   },
   {
    "duration": 176,
    "start_time": "2022-02-11T17:19:59.876Z"
   },
   {
    "duration": 15,
    "start_time": "2022-02-11T17:20:00.877Z"
   },
   {
    "duration": 21,
    "start_time": "2022-02-11T17:20:02.187Z"
   },
   {
    "duration": 24,
    "start_time": "2022-02-11T17:20:10.697Z"
   },
   {
    "duration": 11,
    "start_time": "2022-02-11T17:24:14.777Z"
   },
   {
    "duration": 12,
    "start_time": "2022-02-11T17:24:41.707Z"
   },
   {
    "duration": 1277,
    "start_time": "2022-02-11T17:24:54.860Z"
   },
   {
    "duration": 41,
    "start_time": "2022-02-11T17:24:56.140Z"
   },
   {
    "duration": 759,
    "start_time": "2022-02-11T17:24:56.183Z"
   },
   {
    "duration": 14,
    "start_time": "2022-02-11T17:24:56.944Z"
   },
   {
    "duration": 48,
    "start_time": "2022-02-11T17:24:56.959Z"
   },
   {
    "duration": 8,
    "start_time": "2022-02-11T17:24:57.008Z"
   },
   {
    "duration": 85,
    "start_time": "2022-02-11T17:24:57.018Z"
   },
   {
    "duration": 21,
    "start_time": "2022-02-11T17:24:57.106Z"
   },
   {
    "duration": 19,
    "start_time": "2022-02-11T17:24:57.130Z"
   },
   {
    "duration": 23,
    "start_time": "2022-02-11T17:24:57.151Z"
   },
   {
    "duration": 22,
    "start_time": "2022-02-11T17:24:57.175Z"
   },
   {
    "duration": 34,
    "start_time": "2022-02-11T17:24:57.198Z"
   },
   {
    "duration": 11,
    "start_time": "2022-02-11T17:24:57.234Z"
   },
   {
    "duration": 31,
    "start_time": "2022-02-11T17:24:57.246Z"
   },
   {
    "duration": 50,
    "start_time": "2022-02-11T17:24:57.279Z"
   },
   {
    "duration": 173,
    "start_time": "2022-02-11T17:24:57.331Z"
   },
   {
    "duration": 19,
    "start_time": "2022-02-11T17:24:57.505Z"
   },
   {
    "duration": 32,
    "start_time": "2022-02-11T17:24:57.527Z"
   },
   {
    "duration": 29,
    "start_time": "2022-02-11T17:24:57.561Z"
   },
   {
    "duration": 25,
    "start_time": "2022-02-11T17:24:57.591Z"
   },
   {
    "duration": 301,
    "start_time": "2022-02-11T17:24:57.617Z"
   },
   {
    "duration": 13,
    "start_time": "2022-02-11T17:24:57.920Z"
   },
   {
    "duration": 123,
    "start_time": "2022-02-11T17:24:57.937Z"
   },
   {
    "duration": 15,
    "start_time": "2022-02-11T17:24:58.062Z"
   },
   {
    "duration": 278,
    "start_time": "2022-02-11T17:24:58.079Z"
   },
   {
    "duration": 13,
    "start_time": "2022-02-11T17:24:58.359Z"
   },
   {
    "duration": 491,
    "start_time": "2022-02-11T17:24:58.373Z"
   },
   {
    "duration": 13,
    "start_time": "2022-02-11T17:24:58.866Z"
   },
   {
    "duration": 294,
    "start_time": "2022-02-11T17:24:58.880Z"
   },
   {
    "duration": 3,
    "start_time": "2022-02-11T17:24:59.176Z"
   },
   {
    "duration": 129,
    "start_time": "2022-02-11T17:24:59.181Z"
   },
   {
    "duration": 24,
    "start_time": "2022-02-11T17:24:59.312Z"
   },
   {
    "duration": 22,
    "start_time": "2022-02-11T17:24:59.337Z"
   },
   {
    "duration": 289,
    "start_time": "2022-02-11T17:24:59.361Z"
   },
   {
    "duration": 3,
    "start_time": "2022-02-11T17:24:59.652Z"
   },
   {
    "duration": 403,
    "start_time": "2022-02-11T17:24:59.656Z"
   },
   {
    "duration": -86,
    "start_time": "2022-02-11T17:25:00.149Z"
   },
   {
    "duration": -104,
    "start_time": "2022-02-11T17:25:00.169Z"
   },
   {
    "duration": -118,
    "start_time": "2022-02-11T17:25:00.185Z"
   },
   {
    "duration": -133,
    "start_time": "2022-02-11T17:25:00.201Z"
   },
   {
    "duration": -147,
    "start_time": "2022-02-11T17:25:00.216Z"
   },
   {
    "duration": -164,
    "start_time": "2022-02-11T17:25:00.234Z"
   },
   {
    "duration": -182,
    "start_time": "2022-02-11T17:25:00.253Z"
   },
   {
    "duration": 382,
    "start_time": "2022-02-11T17:25:39.771Z"
   },
   {
    "duration": 174,
    "start_time": "2022-02-11T17:27:15.861Z"
   },
   {
    "duration": 3,
    "start_time": "2022-02-11T17:27:32.651Z"
   },
   {
    "duration": 41,
    "start_time": "2022-02-11T17:27:33.170Z"
   },
   {
    "duration": 757,
    "start_time": "2022-02-11T17:27:33.531Z"
   },
   {
    "duration": 11,
    "start_time": "2022-02-11T17:27:34.290Z"
   },
   {
    "duration": 41,
    "start_time": "2022-02-11T17:27:34.441Z"
   },
   {
    "duration": 10,
    "start_time": "2022-02-11T17:27:34.831Z"
   },
   {
    "duration": 49,
    "start_time": "2022-02-11T17:27:35.210Z"
   },
   {
    "duration": 20,
    "start_time": "2022-02-11T17:27:35.600Z"
   },
   {
    "duration": 10,
    "start_time": "2022-02-11T17:27:35.780Z"
   },
   {
    "duration": 6,
    "start_time": "2022-02-11T17:27:36.191Z"
   },
   {
    "duration": 5,
    "start_time": "2022-02-11T17:27:37.551Z"
   },
   {
    "duration": 16,
    "start_time": "2022-02-11T17:27:38.033Z"
   },
   {
    "duration": 8,
    "start_time": "2022-02-11T17:27:38.681Z"
   },
   {
    "duration": 22,
    "start_time": "2022-02-11T17:27:39.261Z"
   },
   {
    "duration": 30,
    "start_time": "2022-02-11T17:27:39.621Z"
   },
   {
    "duration": 186,
    "start_time": "2022-02-11T17:27:39.961Z"
   },
   {
    "duration": 13,
    "start_time": "2022-02-11T17:27:41.441Z"
   },
   {
    "duration": 22,
    "start_time": "2022-02-11T17:27:42.532Z"
   },
   {
    "duration": 3,
    "start_time": "2022-02-11T17:30:13.381Z"
   },
   {
    "duration": 271,
    "start_time": "2022-02-11T17:30:13.810Z"
   },
   {
    "duration": 1266,
    "start_time": "2022-02-11T17:32:23.442Z"
   },
   {
    "duration": 42,
    "start_time": "2022-02-11T17:32:24.710Z"
   },
   {
    "duration": 789,
    "start_time": "2022-02-11T17:32:24.754Z"
   },
   {
    "duration": 19,
    "start_time": "2022-02-11T17:32:25.545Z"
   },
   {
    "duration": 67,
    "start_time": "2022-02-11T17:32:25.566Z"
   },
   {
    "duration": 13,
    "start_time": "2022-02-11T17:32:25.635Z"
   },
   {
    "duration": 70,
    "start_time": "2022-02-11T17:32:25.650Z"
   },
   {
    "duration": 26,
    "start_time": "2022-02-11T17:32:25.722Z"
   },
   {
    "duration": 12,
    "start_time": "2022-02-11T17:32:25.751Z"
   },
   {
    "duration": 13,
    "start_time": "2022-02-11T17:32:25.766Z"
   },
   {
    "duration": 4,
    "start_time": "2022-02-11T17:32:25.781Z"
   },
   {
    "duration": 51,
    "start_time": "2022-02-11T17:32:25.787Z"
   },
   {
    "duration": 8,
    "start_time": "2022-02-11T17:32:25.840Z"
   },
   {
    "duration": 36,
    "start_time": "2022-02-11T17:32:25.850Z"
   },
   {
    "duration": 49,
    "start_time": "2022-02-11T17:32:25.888Z"
   },
   {
    "duration": 176,
    "start_time": "2022-02-11T17:32:25.938Z"
   },
   {
    "duration": 14,
    "start_time": "2022-02-11T17:32:26.118Z"
   },
   {
    "duration": 20,
    "start_time": "2022-02-11T17:32:26.134Z"
   },
   {
    "duration": 21,
    "start_time": "2022-02-11T17:32:26.156Z"
   },
   {
    "duration": 44,
    "start_time": "2022-02-11T17:32:26.179Z"
   },
   {
    "duration": 301,
    "start_time": "2022-02-11T17:32:26.224Z"
   },
   {
    "duration": 12,
    "start_time": "2022-02-11T17:32:26.527Z"
   },
   {
    "duration": 102,
    "start_time": "2022-02-11T17:32:26.541Z"
   },
   {
    "duration": 17,
    "start_time": "2022-02-11T17:32:26.645Z"
   },
   {
    "duration": 277,
    "start_time": "2022-02-11T17:32:26.663Z"
   },
   {
    "duration": 13,
    "start_time": "2022-02-11T17:32:26.942Z"
   },
   {
    "duration": 527,
    "start_time": "2022-02-11T17:32:26.960Z"
   },
   {
    "duration": 14,
    "start_time": "2022-02-11T17:32:27.489Z"
   },
   {
    "duration": 270,
    "start_time": "2022-02-11T17:32:27.518Z"
   },
   {
    "duration": 4,
    "start_time": "2022-02-11T17:32:27.791Z"
   },
   {
    "duration": 125,
    "start_time": "2022-02-11T17:32:27.797Z"
   },
   {
    "duration": 13,
    "start_time": "2022-02-11T17:32:27.924Z"
   },
   {
    "duration": 8,
    "start_time": "2022-02-11T17:32:27.939Z"
   },
   {
    "duration": 303,
    "start_time": "2022-02-11T17:32:27.949Z"
   },
   {
    "duration": 4,
    "start_time": "2022-02-11T17:32:28.254Z"
   },
   {
    "duration": 27,
    "start_time": "2022-02-11T17:32:28.260Z"
   },
   {
    "duration": 29,
    "start_time": "2022-02-11T17:32:28.290Z"
   },
   {
    "duration": 288,
    "start_time": "2022-02-11T17:32:28.322Z"
   },
   {
    "duration": 9,
    "start_time": "2022-02-11T17:32:28.612Z"
   },
   {
    "duration": 18,
    "start_time": "2022-02-11T17:32:28.623Z"
   },
   {
    "duration": 11,
    "start_time": "2022-02-11T17:32:28.643Z"
   },
   {
    "duration": 14,
    "start_time": "2022-02-11T17:32:28.656Z"
   },
   {
    "duration": 305,
    "start_time": "2022-02-11T17:32:28.672Z"
   },
   {
    "duration": 14,
    "start_time": "2022-02-11T17:33:05.123Z"
   },
   {
    "duration": 11,
    "start_time": "2022-02-11T17:33:35.533Z"
   },
   {
    "duration": 10,
    "start_time": "2022-02-11T17:34:08.952Z"
   },
   {
    "duration": 9,
    "start_time": "2022-02-11T17:35:10.243Z"
   },
   {
    "duration": 15,
    "start_time": "2022-02-11T17:35:21.922Z"
   },
   {
    "duration": 18,
    "start_time": "2022-02-11T17:36:17.973Z"
   },
   {
    "duration": 16,
    "start_time": "2022-02-11T17:36:27.893Z"
   },
   {
    "duration": 16,
    "start_time": "2022-02-11T17:36:36.163Z"
   },
   {
    "duration": 8,
    "start_time": "2022-02-11T17:37:17.736Z"
   },
   {
    "duration": 12,
    "start_time": "2022-02-11T17:37:18.952Z"
   },
   {
    "duration": 13,
    "start_time": "2022-02-11T17:40:19.333Z"
   },
   {
    "duration": 3,
    "start_time": "2022-02-11T17:41:11.542Z"
   },
   {
    "duration": 7528,
    "start_time": "2022-02-11T17:41:12.636Z"
   },
   {
    "duration": 35,
    "start_time": "2022-02-11T17:41:46.393Z"
   },
   {
    "duration": 15,
    "start_time": "2022-02-11T17:42:01.332Z"
   },
   {
    "duration": 281,
    "start_time": "2022-02-11T17:42:08.472Z"
   },
   {
    "duration": 1668,
    "start_time": "2022-02-11T17:42:38.716Z"
   },
   {
    "duration": 70,
    "start_time": "2022-02-11T17:42:40.387Z"
   },
   {
    "duration": 1293,
    "start_time": "2022-02-11T17:42:40.460Z"
   },
   {
    "duration": 14,
    "start_time": "2022-02-11T17:42:41.755Z"
   },
   {
    "duration": 43,
    "start_time": "2022-02-11T17:42:41.770Z"
   },
   {
    "duration": 12,
    "start_time": "2022-02-11T17:42:41.815Z"
   },
   {
    "duration": 49,
    "start_time": "2022-02-11T17:42:41.829Z"
   },
   {
    "duration": 20,
    "start_time": "2022-02-11T17:42:41.880Z"
   },
   {
    "duration": 21,
    "start_time": "2022-02-11T17:42:41.903Z"
   },
   {
    "duration": 20,
    "start_time": "2022-02-11T17:42:41.926Z"
   },
   {
    "duration": 5,
    "start_time": "2022-02-11T17:42:41.948Z"
   },
   {
    "duration": 20,
    "start_time": "2022-02-11T17:42:41.955Z"
   },
   {
    "duration": 7,
    "start_time": "2022-02-11T17:42:41.977Z"
   },
   {
    "duration": 66,
    "start_time": "2022-02-11T17:42:41.986Z"
   },
   {
    "duration": 26,
    "start_time": "2022-02-11T17:42:42.054Z"
   },
   {
    "duration": 210,
    "start_time": "2022-02-11T17:42:42.082Z"
   },
   {
    "duration": 12,
    "start_time": "2022-02-11T17:42:42.294Z"
   },
   {
    "duration": 35,
    "start_time": "2022-02-11T17:42:42.308Z"
   },
   {
    "duration": 21,
    "start_time": "2022-02-11T17:42:42.346Z"
   },
   {
    "duration": 28,
    "start_time": "2022-02-11T17:42:42.369Z"
   },
   {
    "duration": 347,
    "start_time": "2022-02-11T17:42:42.399Z"
   },
   {
    "duration": 20,
    "start_time": "2022-02-11T17:42:42.749Z"
   },
   {
    "duration": 134,
    "start_time": "2022-02-11T17:42:42.774Z"
   },
   {
    "duration": 34,
    "start_time": "2022-02-11T17:42:42.911Z"
   },
   {
    "duration": 307,
    "start_time": "2022-02-11T17:42:42.947Z"
   },
   {
    "duration": 14,
    "start_time": "2022-02-11T17:42:43.257Z"
   },
   {
    "duration": 530,
    "start_time": "2022-02-11T17:42:43.273Z"
   },
   {
    "duration": 22,
    "start_time": "2022-02-11T17:42:43.806Z"
   },
   {
    "duration": 318,
    "start_time": "2022-02-11T17:42:43.830Z"
   },
   {
    "duration": 5,
    "start_time": "2022-02-11T17:42:44.150Z"
   },
   {
    "duration": 145,
    "start_time": "2022-02-11T17:42:44.157Z"
   },
   {
    "duration": 14,
    "start_time": "2022-02-11T17:42:44.304Z"
   },
   {
    "duration": 8,
    "start_time": "2022-02-11T17:42:44.320Z"
   },
   {
    "duration": 318,
    "start_time": "2022-02-11T17:42:44.332Z"
   },
   {
    "duration": 12,
    "start_time": "2022-02-11T17:42:44.652Z"
   },
   {
    "duration": 6,
    "start_time": "2022-02-11T17:42:44.667Z"
   },
   {
    "duration": 63,
    "start_time": "2022-02-11T17:42:44.675Z"
   },
   {
    "duration": 401,
    "start_time": "2022-02-11T17:42:44.740Z"
   },
   {
    "duration": -97,
    "start_time": "2022-02-11T17:42:45.241Z"
   },
   {
    "duration": -107,
    "start_time": "2022-02-11T17:42:45.253Z"
   },
   {
    "duration": -111,
    "start_time": "2022-02-11T17:42:45.258Z"
   },
   {
    "duration": -115,
    "start_time": "2022-02-11T17:42:45.264Z"
   },
   {
    "duration": -123,
    "start_time": "2022-02-11T17:42:45.273Z"
   },
   {
    "duration": -126,
    "start_time": "2022-02-11T17:42:45.277Z"
   },
   {
    "duration": -129,
    "start_time": "2022-02-11T17:42:45.280Z"
   },
   {
    "duration": -134,
    "start_time": "2022-02-11T17:42:45.286Z"
   },
   {
    "duration": 1694,
    "start_time": "2022-02-12T13:10:06.074Z"
   },
   {
    "duration": 55,
    "start_time": "2022-02-12T13:10:07.771Z"
   },
   {
    "duration": 952,
    "start_time": "2022-02-12T13:10:07.829Z"
   },
   {
    "duration": 18,
    "start_time": "2022-02-12T13:10:08.784Z"
   },
   {
    "duration": 60,
    "start_time": "2022-02-12T13:10:08.805Z"
   },
   {
    "duration": 10,
    "start_time": "2022-02-12T13:10:08.868Z"
   },
   {
    "duration": 70,
    "start_time": "2022-02-12T13:10:08.880Z"
   },
   {
    "duration": 27,
    "start_time": "2022-02-12T13:10:08.954Z"
   },
   {
    "duration": 14,
    "start_time": "2022-02-12T13:10:08.985Z"
   },
   {
    "duration": 28,
    "start_time": "2022-02-12T13:10:09.001Z"
   },
   {
    "duration": 6,
    "start_time": "2022-02-12T13:10:09.048Z"
   },
   {
    "duration": 32,
    "start_time": "2022-02-12T13:10:09.057Z"
   },
   {
    "duration": 8,
    "start_time": "2022-02-12T13:10:09.091Z"
   },
   {
    "duration": 48,
    "start_time": "2022-02-12T13:10:09.102Z"
   },
   {
    "duration": 30,
    "start_time": "2022-02-12T13:10:09.153Z"
   },
   {
    "duration": 287,
    "start_time": "2022-02-12T13:10:09.186Z"
   },
   {
    "duration": 16,
    "start_time": "2022-02-12T13:10:09.475Z"
   },
   {
    "duration": 47,
    "start_time": "2022-02-12T13:10:09.493Z"
   },
   {
    "duration": 35,
    "start_time": "2022-02-12T13:10:09.550Z"
   },
   {
    "duration": 46,
    "start_time": "2022-02-12T13:10:09.590Z"
   },
   {
    "duration": 485,
    "start_time": "2022-02-12T13:10:09.640Z"
   },
   {
    "duration": 28,
    "start_time": "2022-02-12T13:10:10.128Z"
   },
   {
    "duration": 156,
    "start_time": "2022-02-12T13:10:10.162Z"
   },
   {
    "duration": 38,
    "start_time": "2022-02-12T13:10:10.322Z"
   },
   {
    "duration": 461,
    "start_time": "2022-02-12T13:10:10.363Z"
   },
   {
    "duration": 30,
    "start_time": "2022-02-12T13:10:10.826Z"
   },
   {
    "duration": 726,
    "start_time": "2022-02-12T13:10:10.859Z"
   },
   {
    "duration": 18,
    "start_time": "2022-02-12T13:10:11.588Z"
   },
   {
    "duration": 439,
    "start_time": "2022-02-12T13:10:11.609Z"
   },
   {
    "duration": 5,
    "start_time": "2022-02-12T13:10:12.052Z"
   },
   {
    "duration": 192,
    "start_time": "2022-02-12T13:10:12.059Z"
   },
   {
    "duration": 22,
    "start_time": "2022-02-12T13:10:12.254Z"
   },
   {
    "duration": 38,
    "start_time": "2022-02-12T13:10:12.290Z"
   },
   {
    "duration": 780,
    "start_time": "2022-02-12T13:10:12.332Z"
   },
   {
    "duration": 5,
    "start_time": "2022-02-12T13:10:13.115Z"
   },
   {
    "duration": 60,
    "start_time": "2022-02-12T13:10:13.123Z"
   },
   {
    "duration": 20,
    "start_time": "2022-02-12T13:10:13.186Z"
   },
   {
    "duration": 455,
    "start_time": "2022-02-12T13:10:13.208Z"
   },
   {
    "duration": 8,
    "start_time": "2022-02-12T13:10:13.665Z"
   },
   {
    "duration": 28,
    "start_time": "2022-02-12T13:10:13.675Z"
   },
   {
    "duration": 43,
    "start_time": "2022-02-12T13:10:13.705Z"
   },
   {
    "duration": 16,
    "start_time": "2022-02-12T13:10:13.751Z"
   },
   {
    "duration": 447,
    "start_time": "2022-02-12T13:10:13.769Z"
   },
   {
    "duration": 6,
    "start_time": "2022-02-12T13:15:40.433Z"
   },
   {
    "duration": 8,
    "start_time": "2022-02-12T13:15:44.834Z"
   },
   {
    "duration": 22,
    "start_time": "2022-02-12T13:18:49.063Z"
   },
   {
    "duration": 22,
    "start_time": "2022-02-12T13:18:56.803Z"
   },
   {
    "duration": 21,
    "start_time": "2022-02-12T13:20:36.296Z"
   },
   {
    "duration": 24,
    "start_time": "2022-02-12T13:22:18.863Z"
   },
   {
    "duration": 20,
    "start_time": "2022-02-12T13:27:21.860Z"
   },
   {
    "duration": 20,
    "start_time": "2022-02-12T13:27:56.076Z"
   },
   {
    "duration": 5,
    "start_time": "2022-02-12T13:31:04.833Z"
   },
   {
    "duration": 49,
    "start_time": "2022-02-12T13:31:05.364Z"
   },
   {
    "duration": 962,
    "start_time": "2022-02-12T13:31:05.743Z"
   },
   {
    "duration": 16,
    "start_time": "2022-02-12T13:31:06.708Z"
   },
   {
    "duration": 57,
    "start_time": "2022-02-12T13:31:06.728Z"
   },
   {
    "duration": 13,
    "start_time": "2022-02-12T13:31:07.093Z"
   },
   {
    "duration": 58,
    "start_time": "2022-02-12T13:31:07.493Z"
   },
   {
    "duration": 28,
    "start_time": "2022-02-12T13:31:07.883Z"
   },
   {
    "duration": 13,
    "start_time": "2022-02-12T13:31:08.093Z"
   },
   {
    "duration": 9,
    "start_time": "2022-02-12T13:31:08.454Z"
   },
   {
    "duration": 7,
    "start_time": "2022-02-12T13:31:09.873Z"
   },
   {
    "duration": 22,
    "start_time": "2022-02-12T13:31:10.563Z"
   },
   {
    "duration": 9,
    "start_time": "2022-02-12T13:31:11.193Z"
   },
   {
    "duration": 28,
    "start_time": "2022-02-12T13:31:11.794Z"
   },
   {
    "duration": 32,
    "start_time": "2022-02-12T13:31:12.244Z"
   },
   {
    "duration": 257,
    "start_time": "2022-02-12T13:31:12.654Z"
   },
   {
    "duration": 16,
    "start_time": "2022-02-12T13:31:13.343Z"
   },
   {
    "duration": 30,
    "start_time": "2022-02-12T13:31:14.334Z"
   },
   {
    "duration": 32,
    "start_time": "2022-02-12T13:31:14.863Z"
   },
   {
    "duration": 20,
    "start_time": "2022-02-12T13:31:17.673Z"
   },
   {
    "duration": 440,
    "start_time": "2022-02-12T13:31:18.173Z"
   },
   {
    "duration": 12,
    "start_time": "2022-02-12T13:31:19.683Z"
   },
   {
    "duration": 126,
    "start_time": "2022-02-12T13:31:19.973Z"
   },
   {
    "duration": 9,
    "start_time": "2022-02-12T13:31:21.323Z"
   },
   {
    "duration": 9,
    "start_time": "2022-02-12T13:31:21.763Z"
   },
   {
    "duration": 92,
    "start_time": "2022-02-12T13:32:03.234Z"
   },
   {
    "duration": 12,
    "start_time": "2022-02-12T13:32:49.633Z"
   },
   {
    "duration": 27,
    "start_time": "2022-02-12T13:57:41.903Z"
   },
   {
    "duration": 25,
    "start_time": "2022-02-12T13:58:15.953Z"
   },
   {
    "duration": 6,
    "start_time": "2022-02-12T13:58:32.863Z"
   },
   {
    "duration": 75,
    "start_time": "2022-02-12T13:58:33.403Z"
   },
   {
    "duration": 902,
    "start_time": "2022-02-12T13:58:33.763Z"
   },
   {
    "duration": 16,
    "start_time": "2022-02-12T13:58:34.669Z"
   },
   {
    "duration": 56,
    "start_time": "2022-02-12T13:58:34.753Z"
   },
   {
    "duration": 12,
    "start_time": "2022-02-12T13:58:38.942Z"
   },
   {
    "duration": 48,
    "start_time": "2022-02-12T13:58:39.374Z"
   },
   {
    "duration": 38,
    "start_time": "2022-02-12T13:58:39.805Z"
   },
   {
    "duration": 14,
    "start_time": "2022-02-12T13:58:39.992Z"
   },
   {
    "duration": 9,
    "start_time": "2022-02-12T13:58:40.623Z"
   },
   {
    "duration": 7,
    "start_time": "2022-02-12T13:58:42.403Z"
   },
   {
    "duration": 21,
    "start_time": "2022-02-12T13:58:43.072Z"
   },
   {
    "duration": 9,
    "start_time": "2022-02-12T13:58:43.822Z"
   },
   {
    "duration": 31,
    "start_time": "2022-02-12T13:58:44.422Z"
   },
   {
    "duration": 31,
    "start_time": "2022-02-12T13:58:44.842Z"
   },
   {
    "duration": 257,
    "start_time": "2022-02-12T13:58:45.243Z"
   },
   {
    "duration": 15,
    "start_time": "2022-02-12T13:58:45.953Z"
   },
   {
    "duration": 34,
    "start_time": "2022-02-12T13:58:46.532Z"
   },
   {
    "duration": 34,
    "start_time": "2022-02-12T13:58:46.942Z"
   },
   {
    "duration": 30,
    "start_time": "2022-02-12T13:58:48.662Z"
   },
   {
    "duration": 722,
    "start_time": "2022-02-12T13:58:51.683Z"
   },
   {
    "duration": 17,
    "start_time": "2022-02-12T13:58:54.413Z"
   },
   {
    "duration": 134,
    "start_time": "2022-02-12T13:58:54.863Z"
   },
   {
    "duration": 9,
    "start_time": "2022-02-12T13:58:56.643Z"
   },
   {
    "duration": 28,
    "start_time": "2022-02-12T13:59:03.123Z"
   },
   {
    "duration": 30,
    "start_time": "2022-02-12T14:00:02.283Z"
   },
   {
    "duration": 122,
    "start_time": "2022-02-12T14:00:08.974Z"
   },
   {
    "duration": 448,
    "start_time": "2022-02-12T14:00:27.603Z"
   },
   {
    "duration": 28,
    "start_time": "2022-02-12T14:01:35.232Z"
   },
   {
    "duration": 414,
    "start_time": "2022-02-12T14:01:44.493Z"
   },
   {
    "duration": 432,
    "start_time": "2022-02-12T14:02:04.184Z"
   },
   {
    "duration": 420,
    "start_time": "2022-02-12T14:02:14.993Z"
   },
   {
    "duration": 536,
    "start_time": "2022-02-12T14:03:20.603Z"
   },
   {
    "duration": 433,
    "start_time": "2022-02-12T14:45:48.243Z"
   },
   {
    "duration": 8853,
    "start_time": "2022-02-12T14:45:53.703Z"
   },
   {
    "duration": 10094,
    "start_time": "2022-02-12T14:46:09.292Z"
   },
   {
    "duration": 7892,
    "start_time": "2022-02-12T14:46:26.302Z"
   },
   {
    "duration": 16666,
    "start_time": "2022-02-12T14:46:47.492Z"
   },
   {
    "duration": 8140,
    "start_time": "2022-02-12T14:47:40.802Z"
   },
   {
    "duration": 7827,
    "start_time": "2022-02-12T14:48:00.943Z"
   },
   {
    "duration": 8453,
    "start_time": "2022-02-12T14:48:12.622Z"
   },
   {
    "duration": 7909,
    "start_time": "2022-02-12T14:48:37.552Z"
   },
   {
    "duration": 4,
    "start_time": "2022-02-12T14:48:56.672Z"
   },
   {
    "duration": 49,
    "start_time": "2022-02-12T14:48:57.224Z"
   },
   {
    "duration": 961,
    "start_time": "2022-02-12T14:48:57.563Z"
   },
   {
    "duration": 15,
    "start_time": "2022-02-12T14:48:58.527Z"
   },
   {
    "duration": 70,
    "start_time": "2022-02-12T14:48:58.545Z"
   },
   {
    "duration": 12,
    "start_time": "2022-02-12T14:48:58.852Z"
   },
   {
    "duration": 50,
    "start_time": "2022-02-12T14:48:59.242Z"
   },
   {
    "duration": 28,
    "start_time": "2022-02-12T14:48:59.622Z"
   },
   {
    "duration": 14,
    "start_time": "2022-02-12T14:48:59.812Z"
   },
   {
    "duration": 8,
    "start_time": "2022-02-12T14:49:00.222Z"
   },
   {
    "duration": 5,
    "start_time": "2022-02-12T14:49:01.623Z"
   },
   {
    "duration": 22,
    "start_time": "2022-02-12T14:49:02.212Z"
   },
   {
    "duration": 10,
    "start_time": "2022-02-12T14:49:02.862Z"
   },
   {
    "duration": 32,
    "start_time": "2022-02-12T14:49:03.513Z"
   },
   {
    "duration": 37,
    "start_time": "2022-02-12T14:49:03.956Z"
   },
   {
    "duration": 363,
    "start_time": "2022-02-12T14:49:04.393Z"
   },
   {
    "duration": 17,
    "start_time": "2022-02-12T14:49:04.842Z"
   },
   {
    "duration": 32,
    "start_time": "2022-02-12T14:49:05.322Z"
   },
   {
    "duration": 33,
    "start_time": "2022-02-12T14:49:05.743Z"
   },
   {
    "duration": 20,
    "start_time": "2022-02-12T14:49:07.562Z"
   },
   {
    "duration": 430,
    "start_time": "2022-02-12T14:49:08.053Z"
   },
   {
    "duration": 13,
    "start_time": "2022-02-12T14:49:09.812Z"
   },
   {
    "duration": 124,
    "start_time": "2022-02-12T14:49:10.292Z"
   },
   {
    "duration": 30,
    "start_time": "2022-02-12T14:49:11.423Z"
   },
   {
    "duration": 493,
    "start_time": "2022-02-12T14:49:12.182Z"
   },
   {
    "duration": 19,
    "start_time": "2022-02-12T14:49:14.802Z"
   },
   {
    "duration": 519,
    "start_time": "2022-02-12T14:49:15.512Z"
   },
   {
    "duration": 20,
    "start_time": "2022-02-12T14:49:19.972Z"
   },
   {
    "duration": 414,
    "start_time": "2022-02-12T14:49:20.732Z"
   },
   {
    "duration": 4,
    "start_time": "2022-02-12T14:49:21.863Z"
   },
   {
    "duration": 172,
    "start_time": "2022-02-12T14:49:22.162Z"
   },
   {
    "duration": 7,
    "start_time": "2022-02-12T14:49:22.502Z"
   },
   {
    "duration": 11,
    "start_time": "2022-02-12T14:49:36.817Z"
   },
   {
    "duration": 34,
    "start_time": "2022-02-12T14:49:46.552Z"
   },
   {
    "duration": 33,
    "start_time": "2022-02-12T14:50:41.772Z"
   },
   {
    "duration": 33,
    "start_time": "2022-02-12T14:51:49.282Z"
   },
   {
    "duration": 14,
    "start_time": "2022-02-12T14:52:03.913Z"
   },
   {
    "duration": 31,
    "start_time": "2022-02-12T14:55:29.163Z"
   },
   {
    "duration": 8,
    "start_time": "2022-02-12T14:56:40.893Z"
   },
   {
    "duration": 1408,
    "start_time": "2022-02-12T14:59:20.442Z"
   },
   {
    "duration": 1686,
    "start_time": "2022-02-12T15:01:22.381Z"
   },
   {
    "duration": 2056,
    "start_time": "2022-02-12T15:01:48.312Z"
   },
   {
    "duration": 1410,
    "start_time": "2022-02-12T15:02:00.372Z"
   },
   {
    "duration": 296,
    "start_time": "2022-02-12T15:05:18.342Z"
   },
   {
    "duration": 8,
    "start_time": "2022-02-12T15:05:52.332Z"
   },
   {
    "duration": 6,
    "start_time": "2022-02-12T15:06:15.943Z"
   },
   {
    "duration": 10,
    "start_time": "2022-02-12T15:07:03.865Z"
   },
   {
    "duration": 40,
    "start_time": "2022-02-12T15:07:13.795Z"
   },
   {
    "duration": 39,
    "start_time": "2022-02-12T15:07:32.544Z"
   },
   {
    "duration": 51,
    "start_time": "2022-02-12T15:07:36.564Z"
   },
   {
    "duration": 51,
    "start_time": "2022-02-12T15:08:51.685Z"
   },
   {
    "duration": 2170,
    "start_time": "2022-02-12T15:09:01.978Z"
   },
   {
    "duration": 75,
    "start_time": "2022-02-12T15:09:04.152Z"
   },
   {
    "duration": 1116,
    "start_time": "2022-02-12T15:09:04.232Z"
   },
   {
    "duration": 24,
    "start_time": "2022-02-12T15:09:05.351Z"
   },
   {
    "duration": 72,
    "start_time": "2022-02-12T15:09:05.377Z"
   },
   {
    "duration": 10,
    "start_time": "2022-02-12T15:09:05.451Z"
   },
   {
    "duration": 52,
    "start_time": "2022-02-12T15:09:05.464Z"
   },
   {
    "duration": 52,
    "start_time": "2022-02-12T15:09:05.520Z"
   },
   {
    "duration": 13,
    "start_time": "2022-02-12T15:09:05.576Z"
   },
   {
    "duration": 11,
    "start_time": "2022-02-12T15:09:05.591Z"
   },
   {
    "duration": 4,
    "start_time": "2022-02-12T15:09:05.605Z"
   },
   {
    "duration": 54,
    "start_time": "2022-02-12T15:09:05.612Z"
   },
   {
    "duration": 9,
    "start_time": "2022-02-12T15:09:05.668Z"
   },
   {
    "duration": 44,
    "start_time": "2022-02-12T15:09:05.680Z"
   },
   {
    "duration": 45,
    "start_time": "2022-02-12T15:09:05.748Z"
   },
   {
    "duration": 402,
    "start_time": "2022-02-12T15:09:05.797Z"
   },
   {
    "duration": 23,
    "start_time": "2022-02-12T15:09:06.202Z"
   },
   {
    "duration": 61,
    "start_time": "2022-02-12T15:09:06.228Z"
   },
   {
    "duration": 69,
    "start_time": "2022-02-12T15:09:06.292Z"
   },
   {
    "duration": 27,
    "start_time": "2022-02-12T15:09:06.365Z"
   },
   {
    "duration": 458,
    "start_time": "2022-02-12T15:09:06.394Z"
   },
   {
    "duration": 12,
    "start_time": "2022-02-12T15:09:06.855Z"
   },
   {
    "duration": 156,
    "start_time": "2022-02-12T15:09:06.873Z"
   },
   {
    "duration": 37,
    "start_time": "2022-02-12T15:09:07.032Z"
   },
   {
    "duration": 465,
    "start_time": "2022-02-12T15:09:07.071Z"
   },
   {
    "duration": 24,
    "start_time": "2022-02-12T15:09:07.539Z"
   },
   {
    "duration": 647,
    "start_time": "2022-02-12T15:09:07.565Z"
   },
   {
    "duration": 18,
    "start_time": "2022-02-12T15:09:08.214Z"
   },
   {
    "duration": 439,
    "start_time": "2022-02-12T15:09:08.249Z"
   },
   {
    "duration": 6,
    "start_time": "2022-02-12T15:09:08.692Z"
   },
   {
    "duration": 308,
    "start_time": "2022-02-12T15:09:08.701Z"
   },
   {
    "duration": 10,
    "start_time": "2022-02-12T15:09:09.012Z"
   },
   {
    "duration": 57,
    "start_time": "2022-02-12T15:09:09.025Z"
   },
   {
    "duration": 15,
    "start_time": "2022-02-12T15:09:09.084Z"
   },
   {
    "duration": 11,
    "start_time": "2022-02-12T15:09:09.101Z"
   },
   {
    "duration": 494,
    "start_time": "2022-02-12T15:09:09.114Z"
   },
   {
    "duration": 4,
    "start_time": "2022-02-12T15:09:09.610Z"
   },
   {
    "duration": 55,
    "start_time": "2022-02-12T15:09:09.617Z"
   },
   {
    "duration": 23,
    "start_time": "2022-02-12T15:09:09.674Z"
   },
   {
    "duration": 493,
    "start_time": "2022-02-12T15:09:09.700Z"
   },
   {
    "duration": 8,
    "start_time": "2022-02-12T15:09:10.196Z"
   },
   {
    "duration": 56,
    "start_time": "2022-02-12T15:09:10.207Z"
   },
   {
    "duration": 13,
    "start_time": "2022-02-12T15:09:10.265Z"
   },
   {
    "duration": 19,
    "start_time": "2022-02-12T15:09:10.280Z"
   },
   {
    "duration": 467,
    "start_time": "2022-02-12T15:09:10.302Z"
   },
   {
    "duration": 8,
    "start_time": "2022-02-12T15:10:52.617Z"
   },
   {
    "duration": 34,
    "start_time": "2022-02-12T15:11:03.287Z"
   },
   {
    "duration": 11,
    "start_time": "2022-02-12T15:11:20.917Z"
   },
   {
    "duration": 32,
    "start_time": "2022-02-12T15:11:22.297Z"
   },
   {
    "duration": 36,
    "start_time": "2022-02-12T15:11:23.977Z"
   },
   {
    "duration": 12,
    "start_time": "2022-02-12T15:12:58.158Z"
   },
   {
    "duration": 39,
    "start_time": "2022-02-12T15:13:10.187Z"
   },
   {
    "duration": 5,
    "start_time": "2022-02-12T15:13:17.457Z"
   },
   {
    "duration": 50,
    "start_time": "2022-02-12T15:13:17.887Z"
   },
   {
    "duration": 826,
    "start_time": "2022-02-12T15:13:18.288Z"
   },
   {
    "duration": 17,
    "start_time": "2022-02-12T15:13:19.117Z"
   },
   {
    "duration": 57,
    "start_time": "2022-02-12T15:13:19.217Z"
   },
   {
    "duration": 12,
    "start_time": "2022-02-12T15:13:19.627Z"
   },
   {
    "duration": 49,
    "start_time": "2022-02-12T15:13:20.038Z"
   },
   {
    "duration": 28,
    "start_time": "2022-02-12T15:13:20.449Z"
   },
   {
    "duration": 13,
    "start_time": "2022-02-12T15:13:20.667Z"
   },
   {
    "duration": 9,
    "start_time": "2022-02-12T15:13:21.947Z"
   },
   {
    "duration": 7,
    "start_time": "2022-02-12T15:13:23.360Z"
   },
   {
    "duration": 21,
    "start_time": "2022-02-12T15:13:23.967Z"
   },
   {
    "duration": 9,
    "start_time": "2022-02-12T15:13:24.577Z"
   },
   {
    "duration": 29,
    "start_time": "2022-02-12T15:13:25.217Z"
   },
   {
    "duration": 30,
    "start_time": "2022-02-12T15:13:26.672Z"
   },
   {
    "duration": 245,
    "start_time": "2022-02-12T15:13:26.705Z"
   },
   {
    "duration": 17,
    "start_time": "2022-02-12T15:13:26.952Z"
   },
   {
    "duration": 31,
    "start_time": "2022-02-12T15:13:27.007Z"
   },
   {
    "duration": 33,
    "start_time": "2022-02-12T15:13:27.947Z"
   },
   {
    "duration": 18,
    "start_time": "2022-02-12T15:13:30.348Z"
   },
   {
    "duration": 424,
    "start_time": "2022-02-12T15:13:32.828Z"
   },
   {
    "duration": 18,
    "start_time": "2022-02-12T15:13:42.028Z"
   },
   {
    "duration": 145,
    "start_time": "2022-02-12T15:13:42.231Z"
   },
   {
    "duration": 33,
    "start_time": "2022-02-12T15:13:43.007Z"
   },
   {
    "duration": 430,
    "start_time": "2022-02-12T15:13:43.458Z"
   },
   {
    "duration": 19,
    "start_time": "2022-02-12T15:13:45.007Z"
   },
   {
    "duration": 541,
    "start_time": "2022-02-12T15:13:45.678Z"
   },
   {
    "duration": 26,
    "start_time": "2022-02-12T15:13:47.507Z"
   },
   {
    "duration": 431,
    "start_time": "2022-02-12T15:13:48.088Z"
   },
   {
    "duration": 4,
    "start_time": "2022-02-12T15:13:49.508Z"
   },
   {
    "duration": 166,
    "start_time": "2022-02-12T15:13:50.127Z"
   },
   {
    "duration": 39,
    "start_time": "2022-02-12T15:13:53.067Z"
   },
   {
    "duration": 15,
    "start_time": "2022-02-12T15:16:25.908Z"
   },
   {
    "duration": 16,
    "start_time": "2022-02-12T15:16:39.918Z"
   },
   {
    "duration": 16,
    "start_time": "2022-02-12T15:18:03.527Z"
   },
   {
    "duration": 432,
    "start_time": "2022-02-12T15:21:15.498Z"
   },
   {
    "duration": 394,
    "start_time": "2022-02-12T15:21:56.298Z"
   },
   {
    "duration": 4,
    "start_time": "2022-02-12T15:22:42.088Z"
   },
   {
    "duration": 50,
    "start_time": "2022-02-12T15:22:42.598Z"
   },
   {
    "duration": 1131,
    "start_time": "2022-02-12T15:22:42.968Z"
   },
   {
    "duration": 19,
    "start_time": "2022-02-12T15:22:44.102Z"
   },
   {
    "duration": 58,
    "start_time": "2022-02-12T15:22:44.124Z"
   },
   {
    "duration": 11,
    "start_time": "2022-02-12T15:22:44.338Z"
   },
   {
    "duration": 50,
    "start_time": "2022-02-12T15:22:44.717Z"
   },
   {
    "duration": 29,
    "start_time": "2022-02-12T15:22:45.107Z"
   },
   {
    "duration": 14,
    "start_time": "2022-02-12T15:22:45.308Z"
   },
   {
    "duration": 10,
    "start_time": "2022-02-12T15:22:45.677Z"
   },
   {
    "duration": 8,
    "start_time": "2022-02-12T15:22:47.037Z"
   },
   {
    "duration": 21,
    "start_time": "2022-02-12T15:22:47.627Z"
   },
   {
    "duration": 9,
    "start_time": "2022-02-12T15:22:48.257Z"
   },
   {
    "duration": 30,
    "start_time": "2022-02-12T15:22:48.817Z"
   },
   {
    "duration": 38,
    "start_time": "2022-02-12T15:22:49.227Z"
   },
   {
    "duration": 253,
    "start_time": "2022-02-12T15:22:49.637Z"
   },
   {
    "duration": 18,
    "start_time": "2022-02-12T15:22:50.087Z"
   },
   {
    "duration": 33,
    "start_time": "2022-02-12T15:22:50.448Z"
   },
   {
    "duration": 33,
    "start_time": "2022-02-12T15:22:50.828Z"
   },
   {
    "duration": 28,
    "start_time": "2022-02-12T15:22:52.258Z"
   },
   {
    "duration": 526,
    "start_time": "2022-02-12T15:22:52.718Z"
   },
   {
    "duration": 13,
    "start_time": "2022-02-12T15:22:54.188Z"
   },
   {
    "duration": 136,
    "start_time": "2022-02-12T15:22:54.447Z"
   },
   {
    "duration": 31,
    "start_time": "2022-02-12T15:22:56.438Z"
   },
   {
    "duration": 452,
    "start_time": "2022-02-12T15:22:56.472Z"
   },
   {
    "duration": 24,
    "start_time": "2022-02-12T15:22:57.257Z"
   },
   {
    "duration": 609,
    "start_time": "2022-02-12T15:22:57.718Z"
   },
   {
    "duration": 31,
    "start_time": "2022-02-12T15:22:59.188Z"
   },
   {
    "duration": 429,
    "start_time": "2022-02-12T15:22:59.688Z"
   },
   {
    "duration": 4,
    "start_time": "2022-02-12T15:23:00.578Z"
   },
   {
    "duration": 173,
    "start_time": "2022-02-12T15:23:00.827Z"
   },
   {
    "duration": 297,
    "start_time": "2022-02-12T15:23:02.118Z"
   },
   {
    "duration": 287,
    "start_time": "2022-02-12T15:23:08.257Z"
   },
   {
    "duration": 291,
    "start_time": "2022-02-12T15:23:24.728Z"
   },
   {
    "duration": 341,
    "start_time": "2022-02-12T15:24:11.047Z"
   },
   {
    "duration": 287,
    "start_time": "2022-02-12T15:24:27.787Z"
   },
   {
    "duration": 394,
    "start_time": "2022-02-12T15:24:41.448Z"
   },
   {
    "duration": 9,
    "start_time": "2022-02-12T15:25:02.648Z"
   },
   {
    "duration": 13,
    "start_time": "2022-02-12T15:25:32.777Z"
   },
   {
    "duration": 6,
    "start_time": "2022-02-12T15:25:57.938Z"
   },
   {
    "duration": 13,
    "start_time": "2022-02-12T15:26:57.027Z"
   },
   {
    "duration": 4,
    "start_time": "2022-02-12T15:30:43.898Z"
   },
   {
    "duration": 54,
    "start_time": "2022-02-12T15:30:44.468Z"
   },
   {
    "duration": 1192,
    "start_time": "2022-02-12T15:31:35.718Z"
   },
   {
    "duration": 16,
    "start_time": "2022-02-12T15:31:36.913Z"
   },
   {
    "duration": 58,
    "start_time": "2022-02-12T15:31:36.931Z"
   },
   {
    "duration": 11,
    "start_time": "2022-02-12T15:31:37.088Z"
   },
   {
    "duration": 50,
    "start_time": "2022-02-12T15:31:37.497Z"
   },
   {
    "duration": 28,
    "start_time": "2022-02-12T15:31:37.857Z"
   },
   {
    "duration": 17,
    "start_time": "2022-02-12T15:31:38.059Z"
   },
   {
    "duration": 11,
    "start_time": "2022-02-12T15:31:38.448Z"
   },
   {
    "duration": 8,
    "start_time": "2022-02-12T15:31:39.838Z"
   },
   {
    "duration": 22,
    "start_time": "2022-02-12T15:31:40.428Z"
   },
   {
    "duration": 9,
    "start_time": "2022-02-12T15:31:41.067Z"
   },
   {
    "duration": 29,
    "start_time": "2022-02-12T15:31:41.698Z"
   },
   {
    "duration": 35,
    "start_time": "2022-02-12T15:31:42.098Z"
   },
   {
    "duration": 242,
    "start_time": "2022-02-12T15:31:42.527Z"
   },
   {
    "duration": 16,
    "start_time": "2022-02-12T15:31:43.068Z"
   },
   {
    "duration": 34,
    "start_time": "2022-02-12T15:31:43.497Z"
   },
   {
    "duration": 34,
    "start_time": "2022-02-12T15:31:43.958Z"
   },
   {
    "duration": 20,
    "start_time": "2022-02-12T15:31:45.608Z"
   },
   {
    "duration": 432,
    "start_time": "2022-02-12T15:31:46.197Z"
   },
   {
    "duration": 15,
    "start_time": "2022-02-12T15:31:47.547Z"
   },
   {
    "duration": 133,
    "start_time": "2022-02-12T15:31:47.818Z"
   },
   {
    "duration": 37,
    "start_time": "2022-02-12T15:31:49.107Z"
   },
   {
    "duration": 424,
    "start_time": "2022-02-12T15:31:49.988Z"
   },
   {
    "duration": 19,
    "start_time": "2022-02-12T15:31:51.898Z"
   },
   {
    "duration": 526,
    "start_time": "2022-02-12T15:31:52.768Z"
   },
   {
    "duration": 16,
    "start_time": "2022-02-12T15:31:54.768Z"
   },
   {
    "duration": 544,
    "start_time": "2022-02-12T15:31:56.750Z"
   },
   {
    "duration": 4,
    "start_time": "2022-02-12T15:31:57.297Z"
   },
   {
    "duration": 179,
    "start_time": "2022-02-12T15:31:57.304Z"
   },
   {
    "duration": 14,
    "start_time": "2022-02-12T15:31:57.958Z"
   },
   {
    "duration": 8,
    "start_time": "2022-02-12T15:31:58.417Z"
   },
   {
    "duration": 1552,
    "start_time": "2022-02-12T15:32:13.961Z"
   },
   {
    "duration": 54,
    "start_time": "2022-02-12T15:32:15.516Z"
   },
   {
    "duration": 884,
    "start_time": "2022-02-12T15:32:15.573Z"
   },
   {
    "duration": 18,
    "start_time": "2022-02-12T15:32:16.461Z"
   },
   {
    "duration": 72,
    "start_time": "2022-02-12T15:32:16.482Z"
   },
   {
    "duration": 11,
    "start_time": "2022-02-12T15:32:16.557Z"
   },
   {
    "duration": 46,
    "start_time": "2022-02-12T15:32:16.570Z"
   },
   {
    "duration": 50,
    "start_time": "2022-02-12T15:32:16.618Z"
   },
   {
    "duration": 13,
    "start_time": "2022-02-12T15:32:16.671Z"
   },
   {
    "duration": 10,
    "start_time": "2022-02-12T15:32:16.687Z"
   },
   {
    "duration": 5,
    "start_time": "2022-02-12T15:32:16.699Z"
   },
   {
    "duration": 56,
    "start_time": "2022-02-12T15:32:16.706Z"
   },
   {
    "duration": 8,
    "start_time": "2022-02-12T15:32:16.765Z"
   },
   {
    "duration": 34,
    "start_time": "2022-02-12T15:32:16.775Z"
   },
   {
    "duration": 59,
    "start_time": "2022-02-12T15:32:16.811Z"
   },
   {
    "duration": 280,
    "start_time": "2022-02-12T15:32:16.873Z"
   },
   {
    "duration": 17,
    "start_time": "2022-02-12T15:32:17.156Z"
   },
   {
    "duration": 32,
    "start_time": "2022-02-12T15:32:17.175Z"
   },
   {
    "duration": 66,
    "start_time": "2022-02-12T15:32:17.210Z"
   },
   {
    "duration": 31,
    "start_time": "2022-02-12T15:32:17.279Z"
   },
   {
    "duration": 457,
    "start_time": "2022-02-12T15:32:17.313Z"
   },
   {
    "duration": 13,
    "start_time": "2022-02-12T15:32:17.773Z"
   },
   {
    "duration": 155,
    "start_time": "2022-02-12T15:32:17.788Z"
   },
   {
    "duration": 31,
    "start_time": "2022-02-12T15:32:17.948Z"
   },
   {
    "duration": 439,
    "start_time": "2022-02-12T15:32:17.981Z"
   },
   {
    "duration": 37,
    "start_time": "2022-02-12T15:32:18.422Z"
   },
   {
    "duration": 674,
    "start_time": "2022-02-12T15:32:18.465Z"
   },
   {
    "duration": 20,
    "start_time": "2022-02-12T15:32:19.150Z"
   },
   {
    "duration": 434,
    "start_time": "2022-02-12T15:32:19.173Z"
   },
   {
    "duration": 4,
    "start_time": "2022-02-12T15:32:19.610Z"
   },
   {
    "duration": 184,
    "start_time": "2022-02-12T15:32:19.617Z"
   },
   {
    "duration": 12,
    "start_time": "2022-02-12T15:32:19.803Z"
   },
   {
    "duration": 5,
    "start_time": "2022-02-12T15:32:19.818Z"
   },
   {
    "duration": 51,
    "start_time": "2022-02-12T15:32:19.826Z"
   },
   {
    "duration": 16,
    "start_time": "2022-02-12T15:32:19.880Z"
   },
   {
    "duration": 12,
    "start_time": "2022-02-12T15:32:19.898Z"
   },
   {
    "duration": 484,
    "start_time": "2022-02-12T15:32:19.912Z"
   },
   {
    "duration": 4,
    "start_time": "2022-02-12T15:32:20.398Z"
   },
   {
    "duration": 56,
    "start_time": "2022-02-12T15:32:20.404Z"
   },
   {
    "duration": 24,
    "start_time": "2022-02-12T15:32:20.463Z"
   },
   {
    "duration": 462,
    "start_time": "2022-02-12T15:32:20.490Z"
   },
   {
    "duration": 7,
    "start_time": "2022-02-12T15:32:20.954Z"
   },
   {
    "duration": 28,
    "start_time": "2022-02-12T15:32:20.963Z"
   },
   {
    "duration": 12,
    "start_time": "2022-02-12T15:32:20.994Z"
   },
   {
    "duration": 54,
    "start_time": "2022-02-12T15:32:21.008Z"
   },
   {
    "duration": 436,
    "start_time": "2022-02-12T15:32:21.065Z"
   },
   {
    "duration": 1653,
    "start_time": "2022-02-12T15:33:17.028Z"
   },
   {
    "duration": 54,
    "start_time": "2022-02-12T15:33:18.683Z"
   },
   {
    "duration": 950,
    "start_time": "2022-02-12T15:33:18.740Z"
   },
   {
    "duration": 19,
    "start_time": "2022-02-12T15:33:19.692Z"
   },
   {
    "duration": 59,
    "start_time": "2022-02-12T15:33:19.714Z"
   },
   {
    "duration": 10,
    "start_time": "2022-02-12T15:33:19.775Z"
   },
   {
    "duration": 64,
    "start_time": "2022-02-12T15:33:19.788Z"
   },
   {
    "duration": 28,
    "start_time": "2022-02-12T15:33:19.854Z"
   },
   {
    "duration": 12,
    "start_time": "2022-02-12T15:33:19.887Z"
   },
   {
    "duration": 11,
    "start_time": "2022-02-12T15:33:19.903Z"
   },
   {
    "duration": 5,
    "start_time": "2022-02-12T15:33:19.950Z"
   },
   {
    "duration": 26,
    "start_time": "2022-02-12T15:33:19.958Z"
   },
   {
    "duration": 8,
    "start_time": "2022-02-12T15:33:19.986Z"
   },
   {
    "duration": 59,
    "start_time": "2022-02-12T15:33:19.997Z"
   },
   {
    "duration": 32,
    "start_time": "2022-02-12T15:33:20.059Z"
   },
   {
    "duration": 297,
    "start_time": "2022-02-12T15:33:20.093Z"
   },
   {
    "duration": 18,
    "start_time": "2022-02-12T15:33:20.392Z"
   },
   {
    "duration": 57,
    "start_time": "2022-02-12T15:33:20.412Z"
   },
   {
    "duration": 37,
    "start_time": "2022-02-12T15:33:20.472Z"
   },
   {
    "duration": 52,
    "start_time": "2022-02-12T15:33:20.513Z"
   },
   {
    "duration": 460,
    "start_time": "2022-02-12T15:33:20.568Z"
   },
   {
    "duration": 22,
    "start_time": "2022-02-12T15:33:21.031Z"
   },
   {
    "duration": 157,
    "start_time": "2022-02-12T15:33:21.056Z"
   },
   {
    "duration": 52,
    "start_time": "2022-02-12T15:33:21.216Z"
   },
   {
    "duration": 435,
    "start_time": "2022-02-12T15:33:21.271Z"
   },
   {
    "duration": 22,
    "start_time": "2022-02-12T15:33:21.708Z"
   },
   {
    "duration": 662,
    "start_time": "2022-02-12T15:33:21.752Z"
   },
   {
    "duration": 32,
    "start_time": "2022-02-12T15:33:22.417Z"
   },
   {
    "duration": 423,
    "start_time": "2022-02-12T15:33:22.452Z"
   },
   {
    "duration": 5,
    "start_time": "2022-02-12T15:33:22.877Z"
   },
   {
    "duration": 180,
    "start_time": "2022-02-12T15:33:22.884Z"
   },
   {
    "duration": 13,
    "start_time": "2022-02-12T15:33:23.066Z"
   },
   {
    "duration": 7,
    "start_time": "2022-02-12T15:33:23.081Z"
   },
   {
    "duration": 60,
    "start_time": "2022-02-12T15:33:23.090Z"
   },
   {
    "duration": 15,
    "start_time": "2022-02-12T15:33:23.152Z"
   },
   {
    "duration": 10,
    "start_time": "2022-02-12T15:33:23.169Z"
   },
   {
    "duration": 471,
    "start_time": "2022-02-12T15:33:23.181Z"
   },
   {
    "duration": 4,
    "start_time": "2022-02-12T15:33:23.654Z"
   },
   {
    "duration": 40,
    "start_time": "2022-02-12T15:33:23.661Z"
   },
   {
    "duration": 55,
    "start_time": "2022-02-12T15:33:23.704Z"
   },
   {
    "duration": 450,
    "start_time": "2022-02-12T15:33:23.762Z"
   },
   {
    "duration": 8,
    "start_time": "2022-02-12T15:33:24.214Z"
   },
   {
    "duration": 45,
    "start_time": "2022-02-12T15:33:24.225Z"
   },
   {
    "duration": 11,
    "start_time": "2022-02-12T15:33:24.273Z"
   },
   {
    "duration": 17,
    "start_time": "2022-02-12T15:33:24.286Z"
   },
   {
    "duration": 459,
    "start_time": "2022-02-12T15:33:24.305Z"
   },
   {
    "duration": 550,
    "start_time": "2022-02-12T15:35:16.969Z"
   },
   {
    "duration": 22,
    "start_time": "2022-02-12T15:35:24.868Z"
   },
   {
    "duration": 4,
    "start_time": "2022-02-12T15:35:38.708Z"
   },
   {
    "duration": 49,
    "start_time": "2022-02-12T15:35:39.248Z"
   },
   {
    "duration": 785,
    "start_time": "2022-02-12T15:35:39.618Z"
   },
   {
    "duration": 14,
    "start_time": "2022-02-12T15:35:40.406Z"
   },
   {
    "duration": 54,
    "start_time": "2022-02-12T15:35:40.578Z"
   },
   {
    "duration": 11,
    "start_time": "2022-02-12T15:35:41.088Z"
   },
   {
    "duration": 48,
    "start_time": "2022-02-12T15:35:41.542Z"
   },
   {
    "duration": 30,
    "start_time": "2022-02-12T15:35:42.238Z"
   },
   {
    "duration": 12,
    "start_time": "2022-02-12T15:35:42.469Z"
   },
   {
    "duration": 9,
    "start_time": "2022-02-12T15:35:43.158Z"
   },
   {
    "duration": 30,
    "start_time": "2022-02-12T15:35:49.249Z"
   },
   {
    "duration": 31,
    "start_time": "2022-02-12T15:36:06.998Z"
   },
   {
    "duration": 30,
    "start_time": "2022-02-12T15:36:16.309Z"
   },
   {
    "duration": 18,
    "start_time": "2022-02-12T15:36:52.689Z"
   },
   {
    "duration": 23,
    "start_time": "2022-02-12T15:37:34.888Z"
   },
   {
    "duration": 7,
    "start_time": "2022-02-12T15:39:07.169Z"
   },
   {
    "duration": 8,
    "start_time": "2022-02-12T15:52:20.558Z"
   },
   {
    "duration": 111,
    "start_time": "2022-02-12T15:52:36.048Z"
   },
   {
    "duration": 7,
    "start_time": "2022-02-12T15:52:43.498Z"
   },
   {
    "duration": 104,
    "start_time": "2022-02-12T15:53:07.218Z"
   },
   {
    "duration": 7,
    "start_time": "2022-02-12T15:53:21.338Z"
   },
   {
    "duration": 6,
    "start_time": "2022-02-12T15:53:28.838Z"
   },
   {
    "duration": 393,
    "start_time": "2022-02-12T15:53:43.558Z"
   },
   {
    "duration": 7,
    "start_time": "2022-02-12T15:53:54.488Z"
   },
   {
    "duration": 289,
    "start_time": "2022-02-12T15:54:17.828Z"
   },
   {
    "duration": 292,
    "start_time": "2022-02-12T15:54:25.448Z"
   },
   {
    "duration": 274,
    "start_time": "2022-02-12T15:54:39.618Z"
   },
   {
    "duration": 8,
    "start_time": "2022-02-12T15:54:48.978Z"
   },
   {
    "duration": 7,
    "start_time": "2022-02-12T15:56:00.198Z"
   },
   {
    "duration": 7,
    "start_time": "2022-02-12T15:56:31.978Z"
   },
   {
    "duration": 12,
    "start_time": "2022-02-12T16:26:41.668Z"
   },
   {
    "duration": 8,
    "start_time": "2022-02-12T16:26:42.827Z"
   },
   {
    "duration": 7,
    "start_time": "2022-02-12T16:26:43.847Z"
   },
   {
    "duration": 2125,
    "start_time": "2022-02-13T11:35:15.704Z"
   },
   {
    "duration": 316,
    "start_time": "2022-02-13T11:35:17.831Z"
   },
   {
    "duration": 1013,
    "start_time": "2022-02-13T11:35:18.150Z"
   },
   {
    "duration": 22,
    "start_time": "2022-02-13T11:35:19.167Z"
   },
   {
    "duration": 80,
    "start_time": "2022-02-13T11:35:19.193Z"
   },
   {
    "duration": 12,
    "start_time": "2022-02-13T11:35:19.276Z"
   },
   {
    "duration": 51,
    "start_time": "2022-02-13T11:35:19.291Z"
   },
   {
    "duration": 27,
    "start_time": "2022-02-13T11:35:19.370Z"
   },
   {
    "duration": 13,
    "start_time": "2022-02-13T11:35:19.400Z"
   },
   {
    "duration": 11,
    "start_time": "2022-02-13T11:35:19.418Z"
   },
   {
    "duration": 38,
    "start_time": "2022-02-13T11:35:19.432Z"
   },
   {
    "duration": 23,
    "start_time": "2022-02-13T11:35:19.473Z"
   },
   {
    "duration": 8,
    "start_time": "2022-02-13T11:35:19.499Z"
   },
   {
    "duration": 72,
    "start_time": "2022-02-13T11:35:19.509Z"
   },
   {
    "duration": 31,
    "start_time": "2022-02-13T11:35:19.584Z"
   },
   {
    "duration": 297,
    "start_time": "2022-02-13T11:35:19.618Z"
   },
   {
    "duration": 18,
    "start_time": "2022-02-13T11:35:19.917Z"
   },
   {
    "duration": 50,
    "start_time": "2022-02-13T11:35:19.937Z"
   },
   {
    "duration": 35,
    "start_time": "2022-02-13T11:35:19.989Z"
   },
   {
    "duration": 57,
    "start_time": "2022-02-13T11:35:20.027Z"
   },
   {
    "duration": 462,
    "start_time": "2022-02-13T11:35:20.087Z"
   },
   {
    "duration": 25,
    "start_time": "2022-02-13T11:35:20.552Z"
   },
   {
    "duration": 163,
    "start_time": "2022-02-13T11:35:20.580Z"
   },
   {
    "duration": 46,
    "start_time": "2022-02-13T11:35:20.746Z"
   },
   {
    "duration": 459,
    "start_time": "2022-02-13T11:35:20.796Z"
   },
   {
    "duration": 31,
    "start_time": "2022-02-13T11:35:21.257Z"
   },
   {
    "duration": 787,
    "start_time": "2022-02-13T11:35:21.297Z"
   },
   {
    "duration": 19,
    "start_time": "2022-02-13T11:35:22.088Z"
   },
   {
    "duration": 490,
    "start_time": "2022-02-13T11:35:22.110Z"
   },
   {
    "duration": 4,
    "start_time": "2022-02-13T11:35:22.602Z"
   },
   {
    "duration": 200,
    "start_time": "2022-02-13T11:35:22.609Z"
   },
   {
    "duration": 13,
    "start_time": "2022-02-13T11:35:22.811Z"
   },
   {
    "duration": 12,
    "start_time": "2022-02-13T11:35:22.826Z"
   },
   {
    "duration": 30,
    "start_time": "2022-02-13T11:35:22.841Z"
   },
   {
    "duration": 35,
    "start_time": "2022-02-13T11:35:22.874Z"
   },
   {
    "duration": 16,
    "start_time": "2022-02-13T11:35:22.911Z"
   },
   {
    "duration": 42,
    "start_time": "2022-02-13T11:35:22.929Z"
   },
   {
    "duration": 484,
    "start_time": "2022-02-13T11:35:22.974Z"
   },
   {
    "duration": 9,
    "start_time": "2022-02-13T11:35:23.461Z"
   },
   {
    "duration": 39,
    "start_time": "2022-02-13T11:35:23.472Z"
   },
   {
    "duration": 20,
    "start_time": "2022-02-13T11:35:23.514Z"
   },
   {
    "duration": 470,
    "start_time": "2022-02-13T11:35:23.570Z"
   },
   {
    "duration": 8,
    "start_time": "2022-02-13T11:35:24.042Z"
   },
   {
    "duration": 47,
    "start_time": "2022-02-13T11:35:24.053Z"
   },
   {
    "duration": 12,
    "start_time": "2022-02-13T11:35:24.102Z"
   },
   {
    "duration": 53,
    "start_time": "2022-02-13T11:35:24.116Z"
   },
   {
    "duration": 455,
    "start_time": "2022-02-13T11:35:24.172Z"
   },
   {
    "duration": 4,
    "start_time": "2022-02-13T11:36:16.124Z"
   },
   {
    "duration": 8,
    "start_time": "2022-02-13T11:36:21.553Z"
   },
   {
    "duration": 7,
    "start_time": "2022-02-13T11:36:51.623Z"
   },
   {
    "duration": 4,
    "start_time": "2022-02-13T11:37:11.423Z"
   },
   {
    "duration": 5,
    "start_time": "2022-02-13T11:37:18.023Z"
   },
   {
    "duration": 546,
    "start_time": "2022-02-13T11:37:22.903Z"
   },
   {
    "duration": 5,
    "start_time": "2022-02-13T11:37:30.213Z"
   },
   {
    "duration": 7,
    "start_time": "2022-02-13T11:37:46.933Z"
   },
   {
    "duration": 6,
    "start_time": "2022-02-13T11:38:09.433Z"
   },
   {
    "duration": 4,
    "start_time": "2022-02-13T11:39:14.433Z"
   },
   {
    "duration": 8,
    "start_time": "2022-02-13T11:39:18.463Z"
   },
   {
    "duration": 287,
    "start_time": "2022-02-13T11:39:32.573Z"
   },
   {
    "duration": 6,
    "start_time": "2022-02-13T11:39:37.193Z"
   },
   {
    "duration": 7,
    "start_time": "2022-02-13T11:39:44.143Z"
   },
   {
    "duration": 272,
    "start_time": "2022-02-13T11:40:01.794Z"
   },
   {
    "duration": 7,
    "start_time": "2022-02-13T11:41:04.473Z"
   },
   {
    "duration": 86,
    "start_time": "2022-02-13T11:41:36.493Z"
   },
   {
    "duration": 7,
    "start_time": "2022-02-13T11:41:43.573Z"
   },
   {
    "duration": 117,
    "start_time": "2022-02-13T11:42:28.073Z"
   },
   {
    "duration": 98,
    "start_time": "2022-02-13T11:43:04.994Z"
   },
   {
    "duration": 21,
    "start_time": "2022-02-13T11:43:33.703Z"
   },
   {
    "duration": 8,
    "start_time": "2022-02-13T11:44:27.783Z"
   },
   {
    "duration": 15,
    "start_time": "2022-02-13T11:46:15.978Z"
   },
   {
    "duration": 14,
    "start_time": "2022-02-13T11:46:26.263Z"
   },
   {
    "duration": 5,
    "start_time": "2022-02-13T11:46:47.634Z"
   },
   {
    "duration": 12,
    "start_time": "2022-02-13T11:47:01.894Z"
   },
   {
    "duration": 12,
    "start_time": "2022-02-13T11:48:24.228Z"
   },
   {
    "duration": 15,
    "start_time": "2022-02-13T11:48:24.807Z"
   },
   {
    "duration": 538,
    "start_time": "2022-02-13T11:51:35.714Z"
   },
   {
    "duration": 656,
    "start_time": "2022-02-13T11:54:22.903Z"
   },
   {
    "duration": 610,
    "start_time": "2022-02-13T11:55:04.143Z"
   },
   {
    "duration": 807,
    "start_time": "2022-02-13T11:55:12.054Z"
   },
   {
    "duration": 734,
    "start_time": "2022-02-13T11:55:19.983Z"
   },
   {
    "duration": 548,
    "start_time": "2022-02-13T11:56:07.633Z"
   },
   {
    "duration": 648,
    "start_time": "2022-02-13T11:56:23.913Z"
   },
   {
    "duration": 620,
    "start_time": "2022-02-13T11:57:25.163Z"
   },
   {
    "duration": 643,
    "start_time": "2022-02-13T11:57:35.553Z"
   },
   {
    "duration": 582,
    "start_time": "2022-02-13T11:57:57.904Z"
   },
   {
    "duration": 716,
    "start_time": "2022-02-13T11:58:22.173Z"
   },
   {
    "duration": 599,
    "start_time": "2022-02-13T11:58:39.653Z"
   },
   {
    "duration": 626,
    "start_time": "2022-02-13T11:59:51.243Z"
   },
   {
    "duration": 610,
    "start_time": "2022-02-13T12:00:39.783Z"
   },
   {
    "duration": 664,
    "start_time": "2022-02-13T12:01:19.543Z"
   },
   {
    "duration": 550,
    "start_time": "2022-02-13T12:01:54.733Z"
   },
   {
    "duration": 857,
    "start_time": "2022-02-13T12:02:06.703Z"
   },
   {
    "duration": 675,
    "start_time": "2022-02-13T12:02:27.904Z"
   },
   {
    "duration": 1592,
    "start_time": "2022-02-13T12:06:28.946Z"
   },
   {
    "duration": 54,
    "start_time": "2022-02-13T12:06:30.541Z"
   },
   {
    "duration": 974,
    "start_time": "2022-02-13T12:06:30.597Z"
   },
   {
    "duration": 27,
    "start_time": "2022-02-13T12:06:31.575Z"
   },
   {
    "duration": 80,
    "start_time": "2022-02-13T12:06:31.605Z"
   },
   {
    "duration": 13,
    "start_time": "2022-02-13T12:06:31.688Z"
   },
   {
    "duration": 73,
    "start_time": "2022-02-13T12:06:31.703Z"
   },
   {
    "duration": 31,
    "start_time": "2022-02-13T12:06:31.780Z"
   },
   {
    "duration": 13,
    "start_time": "2022-02-13T12:06:31.814Z"
   },
   {
    "duration": 44,
    "start_time": "2022-02-13T12:06:31.830Z"
   },
   {
    "duration": 4,
    "start_time": "2022-02-13T12:06:31.877Z"
   },
   {
    "duration": 26,
    "start_time": "2022-02-13T12:06:31.884Z"
   },
   {
    "duration": 9,
    "start_time": "2022-02-13T12:06:31.913Z"
   },
   {
    "duration": 63,
    "start_time": "2022-02-13T12:06:31.924Z"
   },
   {
    "duration": 33,
    "start_time": "2022-02-13T12:06:31.990Z"
   },
   {
    "duration": 295,
    "start_time": "2022-02-13T12:06:32.025Z"
   },
   {
    "duration": 18,
    "start_time": "2022-02-13T12:06:32.323Z"
   },
   {
    "duration": 66,
    "start_time": "2022-02-13T12:06:32.344Z"
   },
   {
    "duration": 34,
    "start_time": "2022-02-13T12:06:32.413Z"
   },
   {
    "duration": 26,
    "start_time": "2022-02-13T12:06:32.469Z"
   },
   {
    "duration": 448,
    "start_time": "2022-02-13T12:06:32.497Z"
   },
   {
    "duration": 24,
    "start_time": "2022-02-13T12:06:32.947Z"
   },
   {
    "duration": 154,
    "start_time": "2022-02-13T12:06:32.977Z"
   },
   {
    "duration": 36,
    "start_time": "2022-02-13T12:06:33.134Z"
   },
   {
    "duration": 441,
    "start_time": "2022-02-13T12:06:33.173Z"
   },
   {
    "duration": 19,
    "start_time": "2022-02-13T12:06:33.617Z"
   },
   {
    "duration": 717,
    "start_time": "2022-02-13T12:06:33.639Z"
   },
   {
    "duration": 18,
    "start_time": "2022-02-13T12:06:34.369Z"
   },
   {
    "duration": 434,
    "start_time": "2022-02-13T12:06:34.390Z"
   },
   {
    "duration": 5,
    "start_time": "2022-02-13T12:06:34.828Z"
   },
   {
    "duration": 196,
    "start_time": "2022-02-13T12:06:34.836Z"
   },
   {
    "duration": 15,
    "start_time": "2022-02-13T12:06:35.034Z"
   },
   {
    "duration": 28,
    "start_time": "2022-02-13T12:06:35.052Z"
   },
   {
    "duration": 5,
    "start_time": "2022-02-13T12:06:35.083Z"
   },
   {
    "duration": 19,
    "start_time": "2022-02-13T12:06:35.090Z"
   },
   {
    "duration": 10,
    "start_time": "2022-02-13T12:06:35.111Z"
   },
   {
    "duration": 512,
    "start_time": "2022-02-13T12:06:35.123Z"
   },
   {
    "duration": 4,
    "start_time": "2022-02-13T12:06:35.638Z"
   },
   {
    "duration": 62,
    "start_time": "2022-02-13T12:06:35.645Z"
   },
   {
    "duration": 21,
    "start_time": "2022-02-13T12:06:35.709Z"
   },
   {
    "duration": 510,
    "start_time": "2022-02-13T12:06:35.733Z"
   },
   {
    "duration": 7,
    "start_time": "2022-02-13T12:06:36.245Z"
   },
   {
    "duration": 24,
    "start_time": "2022-02-13T12:06:36.270Z"
   },
   {
    "duration": 14,
    "start_time": "2022-02-13T12:06:36.298Z"
   },
   {
    "duration": 20,
    "start_time": "2022-02-13T12:06:36.314Z"
   },
   {
    "duration": 604,
    "start_time": "2022-02-13T12:06:36.337Z"
   },
   {
    "duration": 1087,
    "start_time": "2022-02-13T12:30:06.807Z"
   },
   {
    "duration": 894,
    "start_time": "2022-02-13T12:30:18.567Z"
   },
   {
    "duration": 132,
    "start_time": "2022-02-13T12:30:31.946Z"
   },
   {
    "duration": 561,
    "start_time": "2022-02-13T12:30:42.226Z"
   },
   {
    "duration": 7,
    "start_time": "2022-02-13T12:31:06.417Z"
   },
   {
    "duration": 285,
    "start_time": "2022-02-13T12:31:14.216Z"
   },
   {
    "duration": 310,
    "start_time": "2022-02-13T13:22:51.896Z"
   },
   {
    "duration": 266,
    "start_time": "2022-02-13T13:24:38.305Z"
   },
   {
    "duration": 273,
    "start_time": "2022-02-13T13:25:37.556Z"
   },
   {
    "duration": 7,
    "start_time": "2022-02-13T13:25:41.695Z"
   },
   {
    "duration": 6,
    "start_time": "2022-02-13T13:25:57.827Z"
   },
   {
    "duration": 289,
    "start_time": "2022-02-13T13:26:08.106Z"
   },
   {
    "duration": 292,
    "start_time": "2022-02-13T13:26:19.626Z"
   },
   {
    "duration": 147,
    "start_time": "2022-02-13T13:27:56.715Z"
   },
   {
    "duration": 572,
    "start_time": "2022-02-13T13:28:43.426Z"
   },
   {
    "duration": 608,
    "start_time": "2022-02-13T13:29:02.976Z"
   },
   {
    "duration": 448,
    "start_time": "2022-02-13T14:57:09.649Z"
   },
   {
    "duration": 516,
    "start_time": "2022-02-13T15:00:08.288Z"
   },
   {
    "duration": 445,
    "start_time": "2022-02-13T15:01:25.418Z"
   },
   {
    "duration": 449,
    "start_time": "2022-02-13T15:01:42.588Z"
   },
   {
    "duration": 94,
    "start_time": "2022-02-13T15:02:11.319Z"
   },
   {
    "duration": 121,
    "start_time": "2022-02-13T15:02:48.118Z"
   },
   {
    "duration": 5,
    "start_time": "2022-02-13T15:03:43.489Z"
   },
   {
    "duration": 6,
    "start_time": "2022-02-13T15:04:03.719Z"
   },
   {
    "duration": 5,
    "start_time": "2022-02-13T15:04:51.815Z"
   },
   {
    "duration": 87,
    "start_time": "2022-02-13T15:06:32.959Z"
   },
   {
    "duration": 96,
    "start_time": "2022-02-13T15:06:42.948Z"
   },
   {
    "duration": 95,
    "start_time": "2022-02-13T15:06:59.788Z"
   },
   {
    "duration": 133,
    "start_time": "2022-02-13T15:07:06.349Z"
   },
   {
    "duration": 97,
    "start_time": "2022-02-13T15:07:19.178Z"
   },
   {
    "duration": 83,
    "start_time": "2022-02-13T15:07:35.346Z"
   },
   {
    "duration": 3406,
    "start_time": "2022-02-13T15:07:32.025Z"
   },
   {
    "duration": 99,
    "start_time": "2022-02-13T15:07:37.728Z"
   },
   {
    "duration": 2019,
    "start_time": "2022-02-13T15:07:48.359Z"
   },
   {
    "duration": 54,
    "start_time": "2022-02-13T15:07:50.381Z"
   },
   {
    "duration": 1329,
    "start_time": "2022-02-13T15:07:50.438Z"
   },
   {
    "duration": 22,
    "start_time": "2022-02-13T15:07:51.770Z"
   },
   {
    "duration": 377,
    "start_time": "2022-02-13T15:07:51.794Z"
   },
   {
    "duration": 227,
    "start_time": "2022-02-13T15:07:52.175Z"
   },
   {
    "duration": 325,
    "start_time": "2022-02-13T15:07:52.404Z"
   },
   {
    "duration": 539,
    "start_time": "2022-02-13T15:07:52.732Z"
   },
   {
    "duration": 216,
    "start_time": "2022-02-13T15:07:53.275Z"
   },
   {
    "duration": 224,
    "start_time": "2022-02-13T15:07:53.494Z"
   },
   {
    "duration": 223,
    "start_time": "2022-02-13T15:07:53.720Z"
   },
   {
    "duration": 264,
    "start_time": "2022-02-13T15:07:53.946Z"
   },
   {
    "duration": 206,
    "start_time": "2022-02-13T15:07:54.212Z"
   },
   {
    "duration": 236,
    "start_time": "2022-02-13T15:07:54.421Z"
   },
   {
    "duration": 237,
    "start_time": "2022-02-13T15:07:54.659Z"
   },
   {
    "duration": 505,
    "start_time": "2022-02-13T15:07:54.899Z"
   },
   {
    "duration": 65,
    "start_time": "2022-02-13T15:07:55.407Z"
   },
   {
    "duration": 242,
    "start_time": "2022-02-13T15:07:55.475Z"
   },
   {
    "duration": 198,
    "start_time": "2022-02-13T15:07:55.719Z"
   },
   {
    "duration": 213,
    "start_time": "2022-02-13T15:07:55.920Z"
   },
   {
    "duration": 633,
    "start_time": "2022-02-13T15:07:56.136Z"
   },
   {
    "duration": 15,
    "start_time": "2022-02-13T15:07:56.771Z"
   },
   {
    "duration": 289,
    "start_time": "2022-02-13T15:07:56.789Z"
   },
   {
    "duration": 133,
    "start_time": "2022-02-13T15:07:57.080Z"
   },
   {
    "duration": 702,
    "start_time": "2022-02-13T15:07:57.216Z"
   },
   {
    "duration": 7,
    "start_time": "2022-02-13T15:07:57.921Z"
   },
   {
    "duration": 316,
    "start_time": "2022-02-13T15:07:57.936Z"
   },
   {
    "duration": 3434,
    "start_time": "2022-02-13T15:07:54.822Z"
   },
   {
    "duration": 3419,
    "start_time": "2022-02-13T15:07:54.838Z"
   },
   {
    "duration": 3405,
    "start_time": "2022-02-13T15:07:54.855Z"
   },
   {
    "duration": 3391,
    "start_time": "2022-02-13T15:07:54.871Z"
   },
   {
    "duration": 3381,
    "start_time": "2022-02-13T15:07:54.884Z"
   },
   {
    "duration": 3369,
    "start_time": "2022-02-13T15:07:54.898Z"
   },
   {
    "duration": 3363,
    "start_time": "2022-02-13T15:07:54.907Z"
   },
   {
    "duration": 3350,
    "start_time": "2022-02-13T15:07:54.922Z"
   },
   {
    "duration": 3341,
    "start_time": "2022-02-13T15:07:54.934Z"
   },
   {
    "duration": 3330,
    "start_time": "2022-02-13T15:07:54.947Z"
   },
   {
    "duration": 3324,
    "start_time": "2022-02-13T15:07:54.955Z"
   },
   {
    "duration": 3314,
    "start_time": "2022-02-13T15:07:54.967Z"
   },
   {
    "duration": 3305,
    "start_time": "2022-02-13T15:07:54.978Z"
   },
   {
    "duration": 3304,
    "start_time": "2022-02-13T15:07:54.982Z"
   },
   {
    "duration": 3290,
    "start_time": "2022-02-13T15:07:54.998Z"
   },
   {
    "duration": 3284,
    "start_time": "2022-02-13T15:07:55.006Z"
   },
   {
    "duration": 3280,
    "start_time": "2022-02-13T15:07:55.012Z"
   },
   {
    "duration": 3277,
    "start_time": "2022-02-13T15:07:55.018Z"
   },
   {
    "duration": 3244,
    "start_time": "2022-02-13T15:07:55.053Z"
   },
   {
    "duration": 3235,
    "start_time": "2022-02-13T15:07:55.064Z"
   },
   {
    "duration": 3231,
    "start_time": "2022-02-13T15:07:55.071Z"
   },
   {
    "duration": 3222,
    "start_time": "2022-02-13T15:07:55.082Z"
   },
   {
    "duration": 3217,
    "start_time": "2022-02-13T15:07:55.089Z"
   },
   {
    "duration": 3209,
    "start_time": "2022-02-13T15:07:55.099Z"
   },
   {
    "duration": 507,
    "start_time": "2022-02-13T15:09:27.958Z"
   },
   {
    "duration": 323,
    "start_time": "2022-02-13T15:09:41.730Z"
   },
   {
    "duration": 4,
    "start_time": "2022-02-13T15:10:44.250Z"
   },
   {
    "duration": 12,
    "start_time": "2022-02-13T15:10:54.550Z"
   },
   {
    "duration": 99,
    "start_time": "2022-02-13T15:11:29.629Z"
   },
   {
    "duration": 7,
    "start_time": "2022-02-13T15:12:19.230Z"
   },
   {
    "duration": 7,
    "start_time": "2022-02-13T15:12:33.609Z"
   },
   {
    "duration": 763,
    "start_time": "2022-02-13T15:12:54.199Z"
   },
   {
    "duration": 102,
    "start_time": "2022-02-13T15:13:47.439Z"
   },
   {
    "duration": 451,
    "start_time": "2022-02-13T15:14:29.659Z"
   },
   {
    "duration": 446,
    "start_time": "2022-02-13T15:15:51.469Z"
   },
   {
    "duration": 22,
    "start_time": "2022-02-13T15:16:54.489Z"
   },
   {
    "duration": 619,
    "start_time": "2022-02-13T15:16:56.159Z"
   },
   {
    "duration": 21,
    "start_time": "2022-02-13T15:17:04.189Z"
   },
   {
    "duration": 540,
    "start_time": "2022-02-13T15:17:06.079Z"
   },
   {
    "duration": 444,
    "start_time": "2022-02-13T15:17:30.940Z"
   },
   {
    "duration": 450,
    "start_time": "2022-02-13T15:17:52.239Z"
   },
   {
    "duration": 7,
    "start_time": "2022-02-13T15:17:55.009Z"
   },
   {
    "duration": 177,
    "start_time": "2022-02-13T15:17:55.229Z"
   },
   {
    "duration": 15,
    "start_time": "2022-02-13T15:17:56.369Z"
   },
   {
    "duration": 15,
    "start_time": "2022-02-13T15:17:57.089Z"
   },
   {
    "duration": 6,
    "start_time": "2022-02-13T15:17:58.139Z"
   },
   {
    "duration": 22,
    "start_time": "2022-02-13T15:18:00.379Z"
   },
   {
    "duration": 14,
    "start_time": "2022-02-13T15:18:00.750Z"
   },
   {
    "duration": 472,
    "start_time": "2022-02-13T15:18:02.409Z"
   },
   {
    "duration": 475,
    "start_time": "2022-02-13T15:18:21.539Z"
   },
   {
    "duration": 476,
    "start_time": "2022-02-13T15:18:41.040Z"
   },
   {
    "duration": 4,
    "start_time": "2022-02-13T15:18:43.299Z"
   },
   {
    "duration": 47,
    "start_time": "2022-02-13T15:18:43.610Z"
   },
   {
    "duration": 23,
    "start_time": "2022-02-13T15:18:44.899Z"
   },
   {
    "duration": 479,
    "start_time": "2022-02-13T15:18:46.339Z"
   },
   {
    "duration": 580,
    "start_time": "2022-02-13T15:19:05.659Z"
   },
   {
    "duration": 477,
    "start_time": "2022-02-13T15:19:20.450Z"
   },
   {
    "duration": 475,
    "start_time": "2022-02-13T15:19:30.399Z"
   },
   {
    "duration": 431,
    "start_time": "2022-02-13T15:19:56.879Z"
   },
   {
    "duration": 504,
    "start_time": "2022-02-13T15:20:45.109Z"
   },
   {
    "duration": 1695,
    "start_time": "2022-02-13T15:20:55.618Z"
   },
   {
    "duration": 58,
    "start_time": "2022-02-13T15:20:57.316Z"
   },
   {
    "duration": 1113,
    "start_time": "2022-02-13T15:20:57.377Z"
   },
   {
    "duration": 23,
    "start_time": "2022-02-13T15:20:58.494Z"
   },
   {
    "duration": 259,
    "start_time": "2022-02-13T15:20:58.520Z"
   },
   {
    "duration": 233,
    "start_time": "2022-02-13T15:20:58.782Z"
   },
   {
    "duration": 276,
    "start_time": "2022-02-13T15:20:59.018Z"
   },
   {
    "duration": 132,
    "start_time": "2022-02-13T15:20:59.298Z"
   },
   {
    "duration": 264,
    "start_time": "2022-02-13T15:20:59.433Z"
   },
   {
    "duration": 198,
    "start_time": "2022-02-13T15:20:59.699Z"
   },
   {
    "duration": 170,
    "start_time": "2022-02-13T15:20:59.899Z"
   },
   {
    "duration": 227,
    "start_time": "2022-02-13T15:21:00.071Z"
   },
   {
    "duration": 230,
    "start_time": "2022-02-13T15:21:00.301Z"
   },
   {
    "duration": 227,
    "start_time": "2022-02-13T15:21:00.534Z"
   },
   {
    "duration": 191,
    "start_time": "2022-02-13T15:21:00.764Z"
   },
   {
    "duration": 474,
    "start_time": "2022-02-13T15:21:00.958Z"
   },
   {
    "duration": 17,
    "start_time": "2022-02-13T15:21:01.434Z"
   },
   {
    "duration": 252,
    "start_time": "2022-02-13T15:21:01.470Z"
   },
   {
    "duration": 243,
    "start_time": "2022-02-13T15:21:01.725Z"
   },
   {
    "duration": 169,
    "start_time": "2022-02-13T15:21:01.971Z"
   },
   {
    "duration": 598,
    "start_time": "2022-02-13T15:21:02.143Z"
   },
   {
    "duration": 3336,
    "start_time": "2022-02-13T15:20:59.412Z"
   },
   {
    "duration": 3286,
    "start_time": "2022-02-13T15:20:59.464Z"
   },
   {
    "duration": 3270,
    "start_time": "2022-02-13T15:20:59.482Z"
   },
   {
    "duration": 3259,
    "start_time": "2022-02-13T15:20:59.496Z"
   },
   {
    "duration": 3238,
    "start_time": "2022-02-13T15:20:59.519Z"
   },
   {
    "duration": 3230,
    "start_time": "2022-02-13T15:20:59.529Z"
   },
   {
    "duration": 3223,
    "start_time": "2022-02-13T15:20:59.539Z"
   },
   {
    "duration": 3216,
    "start_time": "2022-02-13T15:20:59.548Z"
   },
   {
    "duration": 3208,
    "start_time": "2022-02-13T15:20:59.558Z"
   },
   {
    "duration": 3172,
    "start_time": "2022-02-13T15:20:59.596Z"
   },
   {
    "duration": 3165,
    "start_time": "2022-02-13T15:20:59.605Z"
   },
   {
    "duration": 3161,
    "start_time": "2022-02-13T15:20:59.612Z"
   },
   {
    "duration": 3158,
    "start_time": "2022-02-13T15:20:59.618Z"
   },
   {
    "duration": 3158,
    "start_time": "2022-02-13T15:20:59.621Z"
   },
   {
    "duration": 3154,
    "start_time": "2022-02-13T15:20:59.626Z"
   },
   {
    "duration": 3151,
    "start_time": "2022-02-13T15:20:59.631Z"
   },
   {
    "duration": 3114,
    "start_time": "2022-02-13T15:20:59.669Z"
   },
   {
    "duration": 3107,
    "start_time": "2022-02-13T15:20:59.678Z"
   },
   {
    "duration": 3093,
    "start_time": "2022-02-13T15:20:59.693Z"
   },
   {
    "duration": 3075,
    "start_time": "2022-02-13T15:20:59.713Z"
   },
   {
    "duration": 3020,
    "start_time": "2022-02-13T15:20:59.769Z"
   },
   {
    "duration": 2977,
    "start_time": "2022-02-13T15:20:59.814Z"
   },
   {
    "duration": 2947,
    "start_time": "2022-02-13T15:20:59.845Z"
   },
   {
    "duration": 2941,
    "start_time": "2022-02-13T15:20:59.853Z"
   },
   {
    "duration": 2927,
    "start_time": "2022-02-13T15:20:59.868Z"
   },
   {
    "duration": 2922,
    "start_time": "2022-02-13T15:20:59.874Z"
   },
   {
    "duration": 455,
    "start_time": "2022-02-13T15:21:34.051Z"
   },
   {
    "duration": 17,
    "start_time": "2022-02-13T15:21:39.589Z"
   },
   {
    "duration": 148,
    "start_time": "2022-02-13T15:21:39.819Z"
   },
   {
    "duration": 34,
    "start_time": "2022-02-13T15:21:41.099Z"
   },
   {
    "duration": 534,
    "start_time": "2022-02-13T15:21:41.989Z"
   },
   {
    "duration": 19,
    "start_time": "2022-02-13T15:22:12.579Z"
   },
   {
    "duration": 630,
    "start_time": "2022-02-13T15:22:13.249Z"
   },
   {
    "duration": 17,
    "start_time": "2022-02-13T15:22:14.779Z"
   },
   {
    "duration": 447,
    "start_time": "2022-02-13T15:22:15.654Z"
   },
   {
    "duration": 430,
    "start_time": "2022-02-13T15:22:26.229Z"
   },
   {
    "duration": 4,
    "start_time": "2022-02-13T15:22:29.169Z"
   },
   {
    "duration": 178,
    "start_time": "2022-02-13T15:22:29.529Z"
   },
   {
    "duration": 15,
    "start_time": "2022-02-13T15:22:30.470Z"
   },
   {
    "duration": 13,
    "start_time": "2022-02-13T15:22:30.679Z"
   },
   {
    "duration": 7,
    "start_time": "2022-02-13T15:22:31.349Z"
   },
   {
    "duration": 18,
    "start_time": "2022-02-13T15:22:33.201Z"
   },
   {
    "duration": 11,
    "start_time": "2022-02-13T15:22:34.959Z"
   },
   {
    "duration": 485,
    "start_time": "2022-02-13T15:22:36.289Z"
   },
   {
    "duration": 4,
    "start_time": "2022-02-13T15:22:38.279Z"
   },
   {
    "duration": 41,
    "start_time": "2022-02-13T15:22:38.699Z"
   },
   {
    "duration": 24,
    "start_time": "2022-02-13T15:22:39.869Z"
   },
   {
    "duration": 485,
    "start_time": "2022-02-13T15:22:40.919Z"
   },
   {
    "duration": 8,
    "start_time": "2022-02-13T15:22:42.680Z"
   },
   {
    "duration": 30,
    "start_time": "2022-02-13T15:22:43.289Z"
   },
   {
    "duration": 13,
    "start_time": "2022-02-13T15:22:44.229Z"
   },
   {
    "duration": 41,
    "start_time": "2022-02-13T15:22:44.480Z"
   },
   {
    "duration": 466,
    "start_time": "2022-02-13T15:22:45.259Z"
   },
   {
    "duration": 488,
    "start_time": "2022-02-13T15:36:30.510Z"
   },
   {
    "duration": 1666,
    "start_time": "2022-02-13T15:40:06.806Z"
   },
   {
    "duration": 57,
    "start_time": "2022-02-13T15:40:08.476Z"
   },
   {
    "duration": 1376,
    "start_time": "2022-02-13T15:40:08.536Z"
   },
   {
    "duration": 23,
    "start_time": "2022-02-13T15:40:09.916Z"
   },
   {
    "duration": 271,
    "start_time": "2022-02-13T15:40:09.941Z"
   },
   {
    "duration": 109,
    "start_time": "2022-02-13T15:40:10.215Z"
   },
   {
    "duration": 307,
    "start_time": "2022-02-13T15:40:10.326Z"
   },
   {
    "duration": 201,
    "start_time": "2022-02-13T15:40:10.637Z"
   },
   {
    "duration": 151,
    "start_time": "2022-02-13T15:40:10.843Z"
   },
   {
    "duration": 170,
    "start_time": "2022-02-13T15:40:10.997Z"
   },
   {
    "duration": 191,
    "start_time": "2022-02-13T15:40:11.170Z"
   },
   {
    "duration": 237,
    "start_time": "2022-02-13T15:40:11.363Z"
   },
   {
    "duration": 300,
    "start_time": "2022-02-13T15:40:11.603Z"
   },
   {
    "duration": 230,
    "start_time": "2022-02-13T15:40:11.905Z"
   },
   {
    "duration": 279,
    "start_time": "2022-02-13T15:40:12.138Z"
   },
   {
    "duration": 584,
    "start_time": "2022-02-13T15:40:12.420Z"
   },
   {
    "duration": 42,
    "start_time": "2022-02-13T15:40:13.007Z"
   },
   {
    "duration": 700,
    "start_time": "2022-02-13T15:40:13.051Z"
   },
   {
    "duration": 242,
    "start_time": "2022-02-13T15:40:13.753Z"
   },
   {
    "duration": 299,
    "start_time": "2022-02-13T15:40:13.998Z"
   },
   {
    "duration": 790,
    "start_time": "2022-02-13T15:40:14.300Z"
   },
   {
    "duration": 18,
    "start_time": "2022-02-13T15:40:15.093Z"
   },
   {
    "duration": 497,
    "start_time": "2022-02-13T15:40:15.118Z"
   },
   {
    "duration": 129,
    "start_time": "2022-02-13T15:40:15.618Z"
   },
   {
    "duration": 859,
    "start_time": "2022-02-13T15:40:15.751Z"
   },
   {
    "duration": 26,
    "start_time": "2022-02-13T15:40:16.613Z"
   },
   {
    "duration": 859,
    "start_time": "2022-02-13T15:40:16.641Z"
   },
   {
    "duration": 19,
    "start_time": "2022-02-13T15:40:17.503Z"
   },
   {
    "duration": 635,
    "start_time": "2022-02-13T15:40:17.524Z"
   },
   {
    "duration": 4,
    "start_time": "2022-02-13T15:40:18.170Z"
   },
   {
    "duration": 448,
    "start_time": "2022-02-13T15:40:18.177Z"
   },
   {
    "duration": 58,
    "start_time": "2022-02-13T15:40:18.628Z"
   },
   {
    "duration": 206,
    "start_time": "2022-02-13T15:40:18.689Z"
   },
   {
    "duration": 217,
    "start_time": "2022-02-13T15:40:18.897Z"
   },
   {
    "duration": 234,
    "start_time": "2022-02-13T15:40:19.116Z"
   },
   {
    "duration": 215,
    "start_time": "2022-02-13T15:40:19.352Z"
   },
   {
    "duration": 795,
    "start_time": "2022-02-13T15:40:19.569Z"
   },
   {
    "duration": 4,
    "start_time": "2022-02-13T15:40:20.370Z"
   },
   {
    "duration": 191,
    "start_time": "2022-02-13T15:40:20.377Z"
   },
   {
    "duration": 178,
    "start_time": "2022-02-13T15:40:20.571Z"
   },
   {
    "duration": 629,
    "start_time": "2022-02-13T15:40:20.752Z"
   },
   {
    "duration": 8,
    "start_time": "2022-02-13T15:40:21.384Z"
   },
   {
    "duration": 204,
    "start_time": "2022-02-13T15:40:21.394Z"
   },
   {
    "duration": 167,
    "start_time": "2022-02-13T15:40:21.603Z"
   },
   {
    "duration": 186,
    "start_time": "2022-02-13T15:40:21.773Z"
   },
   {
    "duration": 614,
    "start_time": "2022-02-13T15:40:21.962Z"
   },
   {
    "duration": 99,
    "start_time": "2022-02-13T15:40:22.579Z"
   },
   {
    "duration": 1726,
    "start_time": "2022-02-13T15:47:23.793Z"
   },
   {
    "duration": 175,
    "start_time": "2022-02-13T15:47:25.522Z"
   },
   {
    "duration": 1335,
    "start_time": "2022-02-13T15:47:25.700Z"
   },
   {
    "duration": 26,
    "start_time": "2022-02-13T15:47:27.039Z"
   },
   {
    "duration": 416,
    "start_time": "2022-02-13T15:47:27.067Z"
   },
   {
    "duration": 317,
    "start_time": "2022-02-13T15:47:27.485Z"
   },
   {
    "duration": 318,
    "start_time": "2022-02-13T15:47:27.804Z"
   },
   {
    "duration": 204,
    "start_time": "2022-02-13T15:47:28.126Z"
   },
   {
    "duration": 297,
    "start_time": "2022-02-13T15:47:28.334Z"
   },
   {
    "duration": 228,
    "start_time": "2022-02-13T15:47:28.634Z"
   },
   {
    "duration": 304,
    "start_time": "2022-02-13T15:47:28.864Z"
   },
   {
    "duration": 220,
    "start_time": "2022-02-13T15:47:29.171Z"
   },
   {
    "duration": 302,
    "start_time": "2022-02-13T15:47:29.394Z"
   },
   {
    "duration": 205,
    "start_time": "2022-02-13T15:47:29.698Z"
   },
   {
    "duration": 205,
    "start_time": "2022-02-13T15:47:29.905Z"
   },
   {
    "duration": 449,
    "start_time": "2022-02-13T15:47:30.113Z"
   },
   {
    "duration": 16,
    "start_time": "2022-02-13T15:47:30.565Z"
   },
   {
    "duration": 313,
    "start_time": "2022-02-13T15:47:30.583Z"
   },
   {
    "duration": 269,
    "start_time": "2022-02-13T15:47:30.898Z"
   },
   {
    "duration": 206,
    "start_time": "2022-02-13T15:47:31.170Z"
   },
   {
    "duration": 691,
    "start_time": "2022-02-13T15:47:31.379Z"
   },
   {
    "duration": 15,
    "start_time": "2022-02-13T15:47:32.072Z"
   },
   {
    "duration": 466,
    "start_time": "2022-02-13T15:47:32.093Z"
   },
   {
    "duration": 193,
    "start_time": "2022-02-13T15:47:32.562Z"
   },
   {
    "duration": 612,
    "start_time": "2022-02-13T15:47:32.757Z"
   },
   {
    "duration": 142,
    "start_time": "2022-02-13T15:47:33.372Z"
   },
   {
    "duration": 1343,
    "start_time": "2022-02-13T15:47:33.517Z"
   },
   {
    "duration": 21,
    "start_time": "2022-02-13T15:47:34.862Z"
   },
   {
    "duration": 702,
    "start_time": "2022-02-13T15:47:34.885Z"
   },
   {
    "duration": 4,
    "start_time": "2022-02-13T15:47:35.591Z"
   },
   {
    "duration": 519,
    "start_time": "2022-02-13T15:47:35.598Z"
   },
   {
    "duration": 190,
    "start_time": "2022-02-13T15:47:36.119Z"
   },
   {
    "duration": 324,
    "start_time": "2022-02-13T15:47:36.311Z"
   },
   {
    "duration": 356,
    "start_time": "2022-02-13T15:47:36.638Z"
   },
   {
    "duration": 395,
    "start_time": "2022-02-13T15:47:36.997Z"
   },
   {
    "duration": 334,
    "start_time": "2022-02-13T15:47:37.396Z"
   },
   {
    "duration": 879,
    "start_time": "2022-02-13T15:47:37.733Z"
   },
   {
    "duration": 5,
    "start_time": "2022-02-13T15:47:38.614Z"
   },
   {
    "duration": 413,
    "start_time": "2022-02-13T15:47:38.622Z"
   },
   {
    "duration": 245,
    "start_time": "2022-02-13T15:47:39.038Z"
   },
   {
    "duration": 984,
    "start_time": "2022-02-13T15:47:39.286Z"
   },
   {
    "duration": 9,
    "start_time": "2022-02-13T15:47:40.273Z"
   },
   {
    "duration": 404,
    "start_time": "2022-02-13T15:47:40.286Z"
   },
   {
    "duration": 310,
    "start_time": "2022-02-13T15:47:40.693Z"
   },
   {
    "duration": 360,
    "start_time": "2022-02-13T15:47:41.006Z"
   },
   {
    "duration": 825,
    "start_time": "2022-02-13T15:47:41.370Z"
   },
   {
    "duration": 474,
    "start_time": "2022-02-13T15:48:00.274Z"
   },
   {
    "duration": 445,
    "start_time": "2022-02-13T15:48:26.644Z"
   },
   {
    "duration": 152,
    "start_time": "2022-02-13T15:48:50.194Z"
   },
   {
    "duration": 441,
    "start_time": "2022-02-13T15:49:06.174Z"
   },
   {
    "duration": 455,
    "start_time": "2022-02-13T15:49:22.874Z"
   },
   {
    "duration": 668,
    "start_time": "2022-02-13T15:49:42.813Z"
   },
   {
    "duration": 707,
    "start_time": "2022-02-13T15:50:02.794Z"
   },
   {
    "duration": 440,
    "start_time": "2022-02-13T15:50:14.534Z"
   },
   {
    "duration": 459,
    "start_time": "2022-02-13T15:50:27.254Z"
   },
   {
    "duration": 466,
    "start_time": "2022-02-13T15:50:37.614Z"
   },
   {
    "duration": 489,
    "start_time": "2022-02-13T15:50:56.054Z"
   },
   {
    "duration": 470,
    "start_time": "2022-02-13T15:51:04.574Z"
   },
   {
    "duration": 477,
    "start_time": "2022-02-13T15:51:16.504Z"
   },
   {
    "duration": 455,
    "start_time": "2022-02-13T15:51:26.554Z"
   },
   {
    "duration": 466,
    "start_time": "2022-02-13T15:51:38.824Z"
   },
   {
    "duration": 472,
    "start_time": "2022-02-13T16:17:02.334Z"
   },
   {
    "duration": 555,
    "start_time": "2022-02-13T16:17:22.143Z"
   },
   {
    "duration": 701,
    "start_time": "2022-02-13T16:25:09.814Z"
   },
   {
    "duration": 583,
    "start_time": "2022-02-13T16:26:20.274Z"
   },
   {
    "duration": 448,
    "start_time": "2022-02-13T16:29:19.733Z"
   },
   {
    "duration": 462,
    "start_time": "2022-02-13T16:31:17.243Z"
   },
   {
    "duration": 482,
    "start_time": "2022-02-13T16:32:30.594Z"
   },
   {
    "duration": 24,
    "start_time": "2022-02-13T16:55:39.843Z"
   },
   {
    "duration": 32,
    "start_time": "2022-02-13T16:56:50.263Z"
   },
   {
    "duration": 34,
    "start_time": "2022-02-13T16:57:46.834Z"
   },
   {
    "duration": 26,
    "start_time": "2022-02-13T16:57:48.893Z"
   },
   {
    "duration": 24,
    "start_time": "2022-02-13T17:00:18.973Z"
   },
   {
    "duration": 28,
    "start_time": "2022-02-13T17:01:36.073Z"
   },
   {
    "duration": 6657,
    "start_time": "2022-02-13T17:01:42.883Z"
   },
   {
    "duration": 24,
    "start_time": "2022-02-13T17:01:52.853Z"
   },
   {
    "duration": 2391,
    "start_time": "2022-02-13T17:23:46.967Z"
   },
   {
    "duration": 285,
    "start_time": "2022-02-13T17:23:49.363Z"
   },
   {
    "duration": 1086,
    "start_time": "2022-02-13T17:23:49.652Z"
   },
   {
    "duration": 22,
    "start_time": "2022-02-13T17:23:50.741Z"
   },
   {
    "duration": 333,
    "start_time": "2022-02-13T17:23:50.766Z"
   },
   {
    "duration": 164,
    "start_time": "2022-02-13T17:23:51.102Z"
   },
   {
    "duration": 208,
    "start_time": "2022-02-13T17:23:51.269Z"
   },
   {
    "duration": 326,
    "start_time": "2022-02-13T17:23:51.482Z"
   },
   {
    "duration": 253,
    "start_time": "2022-02-13T17:23:51.812Z"
   },
   {
    "duration": 295,
    "start_time": "2022-02-13T17:23:52.068Z"
   },
   {
    "duration": 165,
    "start_time": "2022-02-13T17:23:52.366Z"
   },
   {
    "duration": 301,
    "start_time": "2022-02-13T17:23:52.534Z"
   },
   {
    "duration": 250,
    "start_time": "2022-02-13T17:23:52.838Z"
   },
   {
    "duration": 306,
    "start_time": "2022-02-13T17:23:53.092Z"
   },
   {
    "duration": 242,
    "start_time": "2022-02-13T17:23:53.400Z"
   },
   {
    "duration": 652,
    "start_time": "2022-02-13T17:23:53.644Z"
   },
   {
    "duration": 47,
    "start_time": "2022-02-13T17:23:54.299Z"
   },
   {
    "duration": 319,
    "start_time": "2022-02-13T17:23:54.349Z"
   },
   {
    "duration": 312,
    "start_time": "2022-02-13T17:23:54.671Z"
   },
   {
    "duration": 295,
    "start_time": "2022-02-13T17:23:54.986Z"
   },
   {
    "duration": 736,
    "start_time": "2022-02-13T17:23:55.284Z"
   },
   {
    "duration": 16,
    "start_time": "2022-02-13T17:23:56.023Z"
   },
   {
    "duration": 494,
    "start_time": "2022-02-13T17:23:56.041Z"
   },
   {
    "duration": 267,
    "start_time": "2022-02-13T17:23:56.537Z"
   },
   {
    "duration": 679,
    "start_time": "2022-02-13T17:23:56.809Z"
   },
   {
    "duration": 20,
    "start_time": "2022-02-13T17:23:57.494Z"
   },
   {
    "duration": 910,
    "start_time": "2022-02-13T17:23:57.517Z"
   },
   {
    "duration": 40,
    "start_time": "2022-02-13T17:23:58.429Z"
   },
   {
    "duration": 851,
    "start_time": "2022-02-13T17:23:58.473Z"
   },
   {
    "duration": 5,
    "start_time": "2022-02-13T17:23:59.327Z"
   },
   {
    "duration": 541,
    "start_time": "2022-02-13T17:23:59.334Z"
   },
   {
    "duration": 76,
    "start_time": "2022-02-13T17:23:59.878Z"
   },
   {
    "duration": 344,
    "start_time": "2022-02-13T17:23:59.956Z"
   },
   {
    "duration": 304,
    "start_time": "2022-02-13T17:24:00.304Z"
   },
   {
    "duration": 281,
    "start_time": "2022-02-13T17:24:00.611Z"
   },
   {
    "duration": 311,
    "start_time": "2022-02-13T17:24:00.895Z"
   },
   {
    "duration": 977,
    "start_time": "2022-02-13T17:24:01.209Z"
   },
   {
    "duration": 104,
    "start_time": "2022-02-13T17:24:02.190Z"
   },
   {
    "duration": 500,
    "start_time": "2022-02-13T17:24:02.297Z"
   },
   {
    "duration": 427,
    "start_time": "2022-02-13T17:24:02.801Z"
   },
   {
    "duration": 1017,
    "start_time": "2022-02-13T17:24:03.231Z"
   },
   {
    "duration": 21,
    "start_time": "2022-02-13T17:24:04.251Z"
   },
   {
    "duration": 349,
    "start_time": "2022-02-13T17:24:04.277Z"
   },
   {
    "duration": 812,
    "start_time": "2022-02-13T17:24:04.632Z"
   },
   {
    "duration": 3361,
    "start_time": "2022-02-13T17:24:02.088Z"
   },
   {
    "duration": 13,
    "start_time": "2022-02-13T17:24:51.883Z"
   },
   {
    "duration": 20,
    "start_time": "2022-02-13T17:24:52.413Z"
   },
   {
    "duration": 1726,
    "start_time": "2022-02-13T17:25:19.370Z"
   },
   {
    "duration": 58,
    "start_time": "2022-02-13T17:25:21.099Z"
   },
   {
    "duration": 984,
    "start_time": "2022-02-13T17:25:21.160Z"
   },
   {
    "duration": 21,
    "start_time": "2022-02-13T17:25:22.146Z"
   },
   {
    "duration": 373,
    "start_time": "2022-02-13T17:25:22.169Z"
   },
   {
    "duration": 274,
    "start_time": "2022-02-13T17:25:22.545Z"
   },
   {
    "duration": 376,
    "start_time": "2022-02-13T17:25:22.823Z"
   },
   {
    "duration": 357,
    "start_time": "2022-02-13T17:25:23.202Z"
   },
   {
    "duration": 276,
    "start_time": "2022-02-13T17:25:23.562Z"
   },
   {
    "duration": 325,
    "start_time": "2022-02-13T17:25:23.841Z"
   },
   {
    "duration": 303,
    "start_time": "2022-02-13T17:25:24.169Z"
   },
   {
    "duration": 332,
    "start_time": "2022-02-13T17:25:24.475Z"
   },
   {
    "duration": 250,
    "start_time": "2022-02-13T17:25:24.810Z"
   },
   {
    "duration": 483,
    "start_time": "2022-02-13T17:25:25.063Z"
   },
   {
    "duration": 283,
    "start_time": "2022-02-13T17:25:25.549Z"
   },
   {
    "duration": 502,
    "start_time": "2022-02-13T17:25:25.835Z"
   },
   {
    "duration": 30,
    "start_time": "2022-02-13T17:25:26.339Z"
   },
   {
    "duration": 248,
    "start_time": "2022-02-13T17:25:26.372Z"
   },
   {
    "duration": 364,
    "start_time": "2022-02-13T17:25:26.622Z"
   },
   {
    "duration": 353,
    "start_time": "2022-02-13T17:25:26.988Z"
   },
   {
    "duration": 675,
    "start_time": "2022-02-13T17:25:27.345Z"
   },
   {
    "duration": 13,
    "start_time": "2022-02-13T17:25:28.027Z"
   },
   {
    "duration": 553,
    "start_time": "2022-02-13T17:25:28.044Z"
   },
   {
    "duration": 56,
    "start_time": "2022-02-13T17:25:28.600Z"
   },
   {
    "duration": 672,
    "start_time": "2022-02-13T17:25:28.658Z"
   },
   {
    "duration": 37,
    "start_time": "2022-02-13T17:25:29.332Z"
   },
   {
    "duration": 1032,
    "start_time": "2022-02-13T17:25:29.371Z"
   },
   {
    "duration": 18,
    "start_time": "2022-02-13T17:25:30.405Z"
   },
   {
    "duration": 797,
    "start_time": "2022-02-13T17:25:30.425Z"
   },
   {
    "duration": 5,
    "start_time": "2022-02-13T17:25:31.224Z"
   },
   {
    "duration": 455,
    "start_time": "2022-02-13T17:25:31.232Z"
   },
   {
    "duration": 107,
    "start_time": "2022-02-13T17:25:31.690Z"
   },
   {
    "duration": 316,
    "start_time": "2022-02-13T17:25:31.800Z"
   },
   {
    "duration": 312,
    "start_time": "2022-02-13T17:25:32.119Z"
   },
   {
    "duration": 329,
    "start_time": "2022-02-13T17:25:32.434Z"
   },
   {
    "duration": 349,
    "start_time": "2022-02-13T17:25:32.767Z"
   },
   {
    "duration": 864,
    "start_time": "2022-02-13T17:25:33.119Z"
   },
   {
    "duration": 5,
    "start_time": "2022-02-13T17:25:33.985Z"
   },
   {
    "duration": 299,
    "start_time": "2022-02-13T17:25:33.992Z"
   },
   {
    "duration": 280,
    "start_time": "2022-02-13T17:25:34.294Z"
   },
   {
    "duration": 363,
    "start_time": "2022-02-13T17:25:34.576Z"
   },
   {
    "duration": 831,
    "start_time": "2022-02-13T17:25:34.942Z"
   },
   {
    "duration": 45,
    "start_time": "2022-02-13T17:25:35.777Z"
   },
   {
    "duration": 219,
    "start_time": "2022-02-13T17:25:35.825Z"
   },
   {
    "duration": 309,
    "start_time": "2022-02-13T17:25:36.046Z"
   },
   {
    "duration": 311,
    "start_time": "2022-02-13T17:25:36.357Z"
   },
   {
    "duration": 812,
    "start_time": "2022-02-13T17:25:36.671Z"
   },
   {
    "duration": 1538,
    "start_time": "2022-02-14T05:10:52.515Z"
   },
   {
    "duration": 64,
    "start_time": "2022-02-14T05:10:54.056Z"
   },
   {
    "duration": 1033,
    "start_time": "2022-02-14T05:10:54.123Z"
   },
   {
    "duration": 19,
    "start_time": "2022-02-14T05:10:55.159Z"
   },
   {
    "duration": 57,
    "start_time": "2022-02-14T05:10:55.180Z"
   },
   {
    "duration": 11,
    "start_time": "2022-02-14T05:10:55.258Z"
   },
   {
    "duration": 47,
    "start_time": "2022-02-14T05:10:55.271Z"
   },
   {
    "duration": 54,
    "start_time": "2022-02-14T05:10:55.321Z"
   },
   {
    "duration": 12,
    "start_time": "2022-02-14T05:10:55.378Z"
   },
   {
    "duration": 8,
    "start_time": "2022-02-14T05:10:55.392Z"
   },
   {
    "duration": 4,
    "start_time": "2022-02-14T05:10:55.402Z"
   },
   {
    "duration": 53,
    "start_time": "2022-02-14T05:10:55.408Z"
   },
   {
    "duration": 8,
    "start_time": "2022-02-14T05:10:55.463Z"
   },
   {
    "duration": 35,
    "start_time": "2022-02-14T05:10:55.473Z"
   },
   {
    "duration": 50,
    "start_time": "2022-02-14T05:10:55.510Z"
   },
   {
    "duration": 270,
    "start_time": "2022-02-14T05:10:55.563Z"
   },
   {
    "duration": 28,
    "start_time": "2022-02-14T05:10:55.835Z"
   },
   {
    "duration": 29,
    "start_time": "2022-02-14T05:10:55.866Z"
   },
   {
    "duration": 32,
    "start_time": "2022-02-14T05:10:55.897Z"
   },
   {
    "duration": 51,
    "start_time": "2022-02-14T05:10:55.932Z"
   },
   {
    "duration": 458,
    "start_time": "2022-02-14T05:10:55.987Z"
   },
   {
    "duration": 17,
    "start_time": "2022-02-14T05:10:56.448Z"
   },
   {
    "duration": 161,
    "start_time": "2022-02-14T05:10:56.470Z"
   },
   {
    "duration": 38,
    "start_time": "2022-02-14T05:10:56.634Z"
   },
   {
    "duration": 421,
    "start_time": "2022-02-14T05:10:56.675Z"
   },
   {
    "duration": 17,
    "start_time": "2022-02-14T05:10:57.099Z"
   },
   {
    "duration": 756,
    "start_time": "2022-02-14T05:10:57.119Z"
   },
   {
    "duration": 17,
    "start_time": "2022-02-14T05:10:57.878Z"
   },
   {
    "duration": 440,
    "start_time": "2022-02-14T05:10:57.897Z"
   },
   {
    "duration": 5,
    "start_time": "2022-02-14T05:10:58.339Z"
   },
   {
    "duration": 184,
    "start_time": "2022-02-14T05:10:58.346Z"
   },
   {
    "duration": 13,
    "start_time": "2022-02-14T05:10:58.532Z"
   },
   {
    "duration": 22,
    "start_time": "2022-02-14T05:10:58.547Z"
   },
   {
    "duration": 4,
    "start_time": "2022-02-14T05:10:58.572Z"
   },
   {
    "duration": 14,
    "start_time": "2022-02-14T05:10:58.579Z"
   },
   {
    "duration": 9,
    "start_time": "2022-02-14T05:10:58.595Z"
   },
   {
    "duration": 491,
    "start_time": "2022-02-14T05:10:58.606Z"
   },
   {
    "duration": 4,
    "start_time": "2022-02-14T05:10:59.099Z"
   },
   {
    "duration": 63,
    "start_time": "2022-02-14T05:10:59.105Z"
   },
   {
    "duration": 23,
    "start_time": "2022-02-14T05:10:59.170Z"
   },
   {
    "duration": 21,
    "start_time": "2022-02-14T05:10:59.195Z"
   },
   {
    "duration": 480,
    "start_time": "2022-02-14T05:10:59.219Z"
   },
   {
    "duration": 7,
    "start_time": "2022-02-14T05:10:59.701Z"
   },
   {
    "duration": 51,
    "start_time": "2022-02-14T05:10:59.711Z"
   },
   {
    "duration": 11,
    "start_time": "2022-02-14T05:10:59.766Z"
   },
   {
    "duration": 16,
    "start_time": "2022-02-14T05:10:59.780Z"
   },
   {
    "duration": 464,
    "start_time": "2022-02-14T05:10:59.798Z"
   },
   {
    "duration": 74,
    "start_time": "2022-04-16T17:38:06.226Z"
   },
   {
    "duration": 1728,
    "start_time": "2022-04-16T17:38:10.726Z"
   },
   {
    "duration": 79,
    "start_time": "2022-04-16T17:38:12.457Z"
   },
   {
    "duration": 84,
    "start_time": "2022-04-16T17:40:35.496Z"
   }
  ],
  "kernelspec": {
   "display_name": "Python 3",
   "language": "python",
   "name": "python3"
  },
  "language_info": {
   "codemirror_mode": {
    "name": "ipython",
    "version": 3
   },
   "file_extension": ".py",
   "mimetype": "text/x-python",
   "name": "python",
   "nbconvert_exporter": "python",
   "pygments_lexer": "ipython3",
   "version": "3.8.8"
  },
  "toc": {
   "base_numbering": 1,
   "nav_menu": {},
   "number_sections": true,
   "sideBar": true,
   "skip_h1_title": true,
   "title_cell": "Table of Contents",
   "title_sidebar": "Contents",
   "toc_cell": false,
   "toc_position": {},
   "toc_section_display": true,
   "toc_window_display": false
  }
 },
 "nbformat": 4,
 "nbformat_minor": 2
}
